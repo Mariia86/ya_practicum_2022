{
 "cells": [
  {
   "cell_type": "markdown",
   "metadata": {},
   "source": [
    "# Банки — Анализ оттока клиентов"
   ]
  },
  {
   "cell_type": "markdown",
   "metadata": {},
   "source": [
    "<big><b>Задача проекта</b></big>  \n",
    "Проанализировать клиентов регионального банка и выделить портрет клиентов, которые склонны уходить из банка."
   ]
  },
  {
   "cell_type": "markdown",
   "metadata": {},
   "source": [
    "<big><b>Описание датасета</b></big>  \n",
    "Датасет содержит данные о клиентах банка «Метанпром». Банк располагается в Ярославле и областных городах: Ростов Великий и Рыбинск."
   ]
  },
  {
   "cell_type": "markdown",
   "metadata": {},
   "source": [
    "<big><b>Колонки:</b></big>\n",
    "\n",
    "- `user_id` — идентификатор пользователя,\n",
    "- `score` — баллы кредитного скоринга,\n",
    "- `city` — город,\n",
    "- `gender` — пол,\n",
    "- `age` — возраст,\n",
    "- `equity` — количество объектов в собственности,\n",
    "- `balance` — баланс на счёте,\n",
    "- `products` — количество продуктов, которыми пользуется клиент,\n",
    "- `credit_сard` — есть ли кредитная карта,\n",
    "- `last_activity` — активный клиент,\n",
    "- `est_salary` — заработная плата клиента,\n",
    "- `churn` — ушёл или нет."
   ]
  },
  {
   "cell_type": "markdown",
   "metadata": {},
   "source": [
    "##### Материалы:\n",
    "Презентация\n",
    "https://disk.yandex.ru/i/fGzp-W_-JZl3zA\n"
   ]
  },
  {
   "cell_type": "markdown",
   "metadata": {},
   "source": [
    "## 1. Открываем файл с данными и изучаем общую информацию. "
   ]
  },
  {
   "cell_type": "code",
   "execution_count": null,
   "metadata": {},
   "outputs": [],
   "source": [
    "# загружаем необходимые библиотеки\n",
    "import pandas as pd\n",
    "\n",
    "import matplotlib.pyplot as plt\n",
    "%matplotlib inline\n",
    "import seaborn as sns\n",
    "import plotly.express as px\n",
    "from plotly import graph_objects as go\n",
    "\n",
    "from scipy import stats as st\n",
    "\n",
    "from sklearn.linear_model import LogisticRegression\n",
    "from sklearn.ensemble import RandomForestClassifier\n",
    "from sklearn.cluster import KMeans\n",
    "\n",
    "from sklearn.model_selection import train_test_split\n",
    "from sklearn.preprocessing import StandardScaler\n",
    "from scipy.cluster.hierarchy import dendrogram, linkage\n",
    "\n",
    "from sklearn.metrics import accuracy_score, precision_score, recall_score, f1_score\n",
    "from sklearn.metrics import roc_auc_score\n"
   ]
  },
  {
   "cell_type": "code",
   "execution_count": null,
   "metadata": {},
   "outputs": [],
   "source": [
    "# загружаем данные из файла в датафрейм\n",
    "path = \"https://drive.google.com/uc?export=download&id=1-U61mhTz_N1ARjy2XSAZ7IlQqGjeqP0F\"\n",
    "df = pd.read_csv(path)"
   ]
  },
  {
   "cell_type": "code",
   "execution_count": null,
   "metadata": {},
   "outputs": [],
   "source": [
    "# выводим первые пять строк на экран\n",
    "df.head(5)"
   ]
  },
  {
   "cell_type": "code",
   "execution_count": null,
   "metadata": {},
   "outputs": [],
   "source": [
    "# выводим основную информацию о датафрейме с помощью метода info()\n",
    "df.info()"
   ]
  },
  {
   "cell_type": "markdown",
   "metadata": {},
   "source": [
    "Вывод: вывели датафрейм, затем методом info() запросили информацию из всех атрибутов таблицы. Изучили результаты и будем выбирать тактику работы с данными. Мы видим, что необхоимо будет поменять название столбцов(привести к нижнему регистру),заполнить пропущенные данные в balance."
   ]
  },
  {
   "cell_type": "markdown",
   "metadata": {},
   "source": [
    "## 2. Предобработка данных"
   ]
  },
  {
   "cell_type": "markdown",
   "metadata": {},
   "source": [
    "### 2.1 Изменение названия столбцов"
   ]
  },
  {
   "cell_type": "code",
   "execution_count": null,
   "metadata": {},
   "outputs": [],
   "source": [
    "# заменим названия столбцов (приведем к нижнему регистру)\n",
    "df.columns = df.columns.str.lower()"
   ]
  },
  {
   "cell_type": "code",
   "execution_count": null,
   "metadata": {},
   "outputs": [],
   "source": [
    "# поменяем название столбца 'userid'\n",
    "df.rename(columns={'userid': 'user_id'},inplace = True)"
   ]
  },
  {
   "cell_type": "markdown",
   "metadata": {},
   "source": [
    "### 2.2 Проверка пропущенных значений"
   ]
  },
  {
   "cell_type": "code",
   "execution_count": null,
   "metadata": {},
   "outputs": [],
   "source": [
    "# выведем количество пропущенных значений для каждого столбца\n",
    "df.isna().sum()"
   ]
  },
  {
   "cell_type": "markdown",
   "metadata": {},
   "source": [
    "Всего пропусков 2295 и все они в столбце 'balance'."
   ]
  },
  {
   "cell_type": "code",
   "execution_count": null,
   "metadata": {
    "scrolled": false
   },
   "outputs": [],
   "source": [
    "### КОД РЕВЬЮЕРА\n",
    "import numpy as np\n",
    "\n",
    "df.balance.hist(bins=np.arange(0,5e6,5e4)).set(title=\"Распределение до импутации\");"
   ]
  },
  {
   "cell_type": "markdown",
   "metadata": {},
   "source": [
    "Если посмотрим на гистограмму распределения остатков на счете, то можно сделать вывод, что распределение почти нормальное. Посмотрим на распределение пропусков баланса в отточной группе и в неотточной."
   ]
  },
  {
   "cell_type": "code",
   "execution_count": null,
   "metadata": {},
   "outputs": [],
   "source": [
    "df.groupby('churn')['balance'].apply(lambda x: x.isna().sum())\n"
   ]
  },
  {
   "cell_type": "markdown",
   "metadata": {},
   "source": [
    "Получается, что пропуски приходятся в основном на тех клиентов, которые остались. Посмотрим на связь пропусков с кредитными картами."
   ]
  },
  {
   "cell_type": "code",
   "execution_count": null,
   "metadata": {},
   "outputs": [],
   "source": [
    "# выведем количество клиентов с кредитными картами и без\n",
    "df['credit_card'].value_counts()"
   ]
  },
  {
   "cell_type": "code",
   "execution_count": null,
   "metadata": {},
   "outputs": [],
   "source": [
    "# сгруппируем по наличию кредитной карты и посмотрим на пропуски баланса\n",
    "df.groupby('credit_card')['balance'].apply(lambda x: x.isna().sum())"
   ]
  },
  {
   "cell_type": "markdown",
   "metadata": {},
   "source": [
    "Пропуски в 4 раза чаще встречаются для клиентов с кредитной картой. Это может говорить о том, что у них только кредитные счета, а дебетовых карт у них нет."
   ]
  },
  {
   "cell_type": "code",
   "execution_count": null,
   "metadata": {},
   "outputs": [],
   "source": [
    "df.query('balance == 0')"
   ]
  },
  {
   "cell_type": "markdown",
   "metadata": {},
   "source": [
    "Нулевых остатков в датасете всего лишь 2 ед."
   ]
  },
  {
   "cell_type": "code",
   "execution_count": null,
   "metadata": {},
   "outputs": [],
   "source": [
    "# посмотрим как пропуски распределены по продуктам, которыми пользуется клиент\n",
    "df.groupby('products')['balance'].apply(lambda x: x.isna().sum())"
   ]
  },
  {
   "cell_type": "markdown",
   "metadata": {},
   "source": [
    "Большое количество значений столбца balance пропущено у пользователей с одним продуктом."
   ]
  },
  {
   "cell_type": "markdown",
   "metadata": {},
   "source": [
    "##### Вывод:  \n",
    "Наибольшее количество пропусков получилось у неотточных клиентов, владеющие кредитными картами, и пользующиеся в основном одним продуктом.\n",
    "Можем предположить,что речь идет о клиентах, использующих только кредитные продукты и не держащих собственных средств на дебетовом счете. В таком случае у клиента как раз может быть один продукт: например, кредитка. Таким образом, мы выяснили, что значения в столбце balance отсутствуют не случайно, и отбрасывание или заполнение пропусков приведёт к заметным искажениям."
   ]
  },
  {
   "cell_type": "code",
   "execution_count": null,
   "metadata": {
    "scrolled": true
   },
   "outputs": [],
   "source": [
    "### КОД РЕВЬЮЕРА\n",
    "import numpy as np\n",
    "\n",
    "df.balance.hist(bins=np.arange(0,5e6,5e4)).set(title=\"Распределение после импутации\");"
   ]
  },
  {
   "cell_type": "code",
   "execution_count": null,
   "metadata": {},
   "outputs": [],
   "source": [
    "### КОД РЕВЬЮЕРА\n",
    "nan_bal_cc_groups = df.balance.isna().map({False:\"have balance \",True:\"no balance \"})\\\n",
    "                  + df.credit_card.map({1:\"and credit card\",0:\"and no credit card\"})\n",
    "\n",
    "sns.kdeplot(data=df,hue=nan_bal_cc_groups,x='score',common_norm=False);"
   ]
  },
  {
   "cell_type": "markdown",
   "metadata": {},
   "source": [
    "### 2.3 Обработка дубликатов"
   ]
  },
  {
   "cell_type": "code",
   "execution_count": null,
   "metadata": {},
   "outputs": [],
   "source": [
    "# выведем на экран количество строк-дубликатов в данных\n",
    "df.duplicated().sum()"
   ]
  },
  {
   "cell_type": "markdown",
   "metadata": {},
   "source": [
    "Учитывая, что количество пропусков очень маленькое строки с отсутствующими данными можно удалить."
   ]
  },
  {
   "cell_type": "code",
   "execution_count": null,
   "metadata": {},
   "outputs": [],
   "source": [
    "# удалим дубликаты\n",
    "df = df.drop_duplicates()"
   ]
  },
  {
   "cell_type": "code",
   "execution_count": null,
   "metadata": {},
   "outputs": [],
   "source": [
    "### КОД РЕВЬЮЕРА\n",
    "USERID = 'user_id'\n",
    "df_userid_dups = df[df.duplicated(keep='first',subset=USERID)]\\\n",
    "                    .merge(df[df.duplicated(keep='last',subset=USERID)],on=USERID) \n",
    "df_userid_dups[df_userid_dups.columns.sort_values()].sort_values(['age_x','balance_x'])"
   ]
  },
  {
   "cell_type": "markdown",
   "metadata": {},
   "source": [
    "Вывод: подготовили данные для дальнейшего исследовательского анализа - названия столбцов привели в соответствующий вид, заменили пропущенные значения в столбце balance и удалили дубликаты."
   ]
  },
  {
   "cell_type": "markdown",
   "metadata": {},
   "source": [
    "## 3. Исследовательский анализ данных"
   ]
  },
  {
   "cell_type": "code",
   "execution_count": null,
   "metadata": {},
   "outputs": [],
   "source": [
    "# выведем средние значения показателей\n",
    "df.describe()"
   ]
  },
  {
   "cell_type": "code",
   "execution_count": null,
   "metadata": {},
   "outputs": [],
   "source": [
    "# выведем на график соотношение ушедших клиентов и оставшихся в процентном измерении\n",
    "fig = go.Figure(data=go.Pie(labels=df['churn'].value_counts().reset_index()['index'], values=df['churn'].value_counts()))\n",
    "fig.update_layout(\n",
    "    title={\n",
    "        'text':'Отток клиентов в процентном соотношении',\n",
    "        'y':0.9,\n",
    "        'x':0.7})\n",
    "for trace in fig.data:\n",
    "    trace['labels']=['Остался', 'Ушел']\n",
    "fig.show()"
   ]
  },
  {
   "cell_type": "markdown",
   "metadata": {},
   "source": [
    "За месяц ушло 18.2% клиентов."
   ]
  },
  {
   "cell_type": "markdown",
   "metadata": {},
   "source": [
    "### 3.1 Распределение каждой величины в разрезе оттока"
   ]
  },
  {
   "cell_type": "code",
   "execution_count": null,
   "metadata": {
    "scrolled": false
   },
   "outputs": [],
   "source": [
    "# визуализируем факт оттока в зависимости от баллов кредитного скоринга\n",
    "fig,ax = plt.subplots(1,sharey=False,figsize=(10,7))\n",
    "sns.histplot(data=df, hue='churn', x='score', stat='density', common_norm=False, palette='flag')\n",
    "plt.title('Распределение баллов кредитного скоринга ')\n",
    "plt.xlabel('Баллы')\n",
    "plt.ylabel('Плотность распределения')\n",
    "plt.show()"
   ]
  },
  {
   "cell_type": "markdown",
   "metadata": {},
   "source": [
    "К наиболее отточным относятся клиенты с 825-900 баллами кредитного скоринга."
   ]
  },
  {
   "cell_type": "code",
   "execution_count": null,
   "metadata": {
    "scrolled": false
   },
   "outputs": [],
   "source": [
    "# визуализируем факт оттока в зависимости от городов\n",
    "fig,ax = plt.subplots(1,sharey=False,figsize=(10,7))\n",
    "sns.histplot(data=df, hue='churn', x='city', stat='density', common_norm=False, palette='flag')\n",
    "plt.title('Отточность клиентов в разрезе городов')\n",
    "plt.xlabel('Города')\n",
    "plt.ylabel('Плотность распределения')\n",
    "plt.show()"
   ]
  },
  {
   "cell_type": "markdown",
   "metadata": {},
   "source": [
    "Из графика видно, что город Рыбинск менее отточный, а Ярославль более отточный."
   ]
  },
  {
   "cell_type": "code",
   "execution_count": null,
   "metadata": {
    "scrolled": false
   },
   "outputs": [],
   "source": [
    "# визуализируем факт оттока в зависимости от пола клиента\n",
    "fig,ax = plt.subplots(1,sharey=False,figsize=(10,7))\n",
    "sns.histplot(data=df, hue='churn', x='gender', stat='density', common_norm=False, palette='flag')\n",
    "plt.title('Отточность клиентов в зависимости от пола')\n",
    "plt.xlabel('Пол клиента')\n",
    "plt.ylabel('Плотность распределения')\n",
    "plt.show()"
   ]
  },
  {
   "cell_type": "markdown",
   "metadata": {},
   "source": [
    "Мужчины более склоны к уходу, чем женщины."
   ]
  },
  {
   "cell_type": "code",
   "execution_count": null,
   "metadata": {
    "scrolled": false
   },
   "outputs": [],
   "source": [
    "# визуализируем факт оттока в зависимости от возраста клиента\n",
    "fig,ax = plt.subplots(1,sharey=False,figsize=(10,7))\n",
    "sns.histplot(data=df, hue='churn', x='age', stat='density', common_norm=False, palette='flag',kde=True)\n",
    "plt.title('Отточность клиентов в зависимости от возраста')\n",
    "plt.xlabel('Возраст клиентов')\n",
    "plt.ylabel('Плотность распределения')\n",
    "plt.show()"
   ]
  },
  {
   "cell_type": "markdown",
   "metadata": {},
   "source": [
    "Из графика видно, что более склоные к уходу клиенты имеют возраст 25-35 и 50-60 лет."
   ]
  },
  {
   "cell_type": "code",
   "execution_count": null,
   "metadata": {
    "scrolled": false
   },
   "outputs": [],
   "source": [
    "# визуализируем факт оттока в зависимости от количества объектов в собственности\n",
    "fig,ax = plt.subplots(1,sharey=False,figsize=(10,7))\n",
    "sns.histplot(data=df, hue='churn', x='equity', stat='density', common_norm=False, palette='flag')\n",
    "plt.title('Отточность клиентов в зависимости от количества объектов в собственности')\n",
    "plt.xlabel('Количество объектов')\n",
    "plt.ylabel('Плотность распределения')\n",
    "plt.show()"
   ]
  },
  {
   "cell_type": "markdown",
   "metadata": {},
   "source": [
    "Чаще всего уходят клиенты с 4 и более объектами в собственности. С одним и двумя объектами клиенты реже попадают в отток."
   ]
  },
  {
   "cell_type": "code",
   "execution_count": null,
   "metadata": {},
   "outputs": [],
   "source": [
    "max(df['balance'])"
   ]
  },
  {
   "cell_type": "code",
   "execution_count": null,
   "metadata": {
    "scrolled": false
   },
   "outputs": [],
   "source": [
    "# визуализируем факт оттока в зависимости от баланса на счете\n",
    "fig,ax = plt.subplots(1,sharey=False,figsize=(10,7))\n",
    "sns.histplot(data=df, hue='churn', x='balance',bins=600,stat='density', common_norm=False, palette='flag')\n",
    "plt.title('Отточность клиентов в зависимости от баланса')\n",
    "plt.xlabel('Баланс')\n",
    "plt.ylabel('Плотность распределения')\n",
    "plt.xlim([0, 10000000])\n",
    "plt.show()"
   ]
  },
  {
   "cell_type": "markdown",
   "metadata": {},
   "source": [
    "Более склоные к уходу клиенты - это клиенты у которых баланс на счете составляет от 100 т.р до 400 т.р."
   ]
  },
  {
   "cell_type": "code",
   "execution_count": null,
   "metadata": {},
   "outputs": [],
   "source": [
    "### КОД РЕВЬЮЕРА\n",
    "df_temp = df.assign(balance = df.balance.clip(0,6e6))\n",
    "ax = sns.kdeplot(data = df_temp, x = 'balance', hue = 'churn', common_norm=False)\n",
    "ax.set(title=f\"Распределения отточных и неотточных по балансу\")\n",
    "ax2 = ax.twinx()\n",
    "df_temp.assign(balance = df_temp.balance.round(-5)).groupby('balance')\\\n",
    "       .agg({'churn':'mean'}).rolling(5,center=True).mean().plot(ax=ax2,color=\"violet\",ls=\":\",lw=4);\n",
    "ax.grid(False,'both','both');"
   ]
  },
  {
   "cell_type": "code",
   "execution_count": null,
   "metadata": {
    "scrolled": false
   },
   "outputs": [],
   "source": [
    "# визуализируем факт оттока в зависимости от количества продуктов, которыми пользуется клиент\n",
    "fig,ax = plt.subplots(1,sharey=False,figsize=(10,7))\n",
    "sns.histplot(data=df, hue='churn', x='products',stat='density', common_norm=False, palette='flag')\n",
    "plt.title('Отточность клиентов в зависимости от количества продуктов')\n",
    "plt.xlabel('Количество продуктов')\n",
    "plt.ylabel('Плотность распределения')\n",
    "plt.show()"
   ]
  },
  {
   "cell_type": "markdown",
   "metadata": {},
   "source": [
    "Наиболее отточные клиенты пользуются 4 продуктами."
   ]
  },
  {
   "cell_type": "code",
   "execution_count": null,
   "metadata": {},
   "outputs": [],
   "source": [
    "# заменим значения 0 и 1 на \"нет\", \"да\"\n",
    "df['credit_card']=df['credit_card'].replace(1,\"есть\")\n",
    "df['credit_card']=df['credit_card'].replace(0,\"нет\")"
   ]
  },
  {
   "cell_type": "code",
   "execution_count": null,
   "metadata": {
    "scrolled": false
   },
   "outputs": [],
   "source": [
    "# визуализируем факт оттока в зависимости от наличия кредитной карты\n",
    "fig,ax = plt.subplots(1,sharey=False,figsize=(10,7))\n",
    "sns.histplot(data=df, hue='churn', x='credit_card', stat='density', bins=2, common_norm=False, palette='flag')\n",
    "plt.title('Отточность клиентов в зависимости от наличия кредитной карты')\n",
    "plt.xlabel('Наличие кредитной карты')\n",
    "plt.ylabel('Плотность распределения')\n",
    "plt.show()"
   ]
  },
  {
   "cell_type": "markdown",
   "metadata": {},
   "source": [
    "Наиболее отточные клиенты - это клиенты, у которых нет кредитной карты."
   ]
  },
  {
   "cell_type": "code",
   "execution_count": null,
   "metadata": {},
   "outputs": [],
   "source": [
    "# заменим значения 0 и 1 на \"нет\", \"да\"\n",
    "df['last_activity']=df['last_activity'].replace(1,\"да\")\n",
    "df['last_activity']=df['last_activity'].replace(0,\"нет\")"
   ]
  },
  {
   "cell_type": "code",
   "execution_count": null,
   "metadata": {
    "scrolled": false
   },
   "outputs": [],
   "source": [
    "# визуализируем факт оттока в зависимости от активности клиента\n",
    "fig,ax = plt.subplots(1,sharey=False,figsize=(10,7))\n",
    "sns.histplot(data=df, hue='churn', x='last_activity', stat='density', common_norm=False, palette='flag')\n",
    "plt.title('Отточность клиентов в зависимости от активности клиента')\n",
    "plt.xlabel('Активность клиента')\n",
    "plt.ylabel('Плотность распределения')\n",
    "plt.show()"
   ]
  },
  {
   "cell_type": "markdown",
   "metadata": {},
   "source": [
    "Активные пользователи являются более отточными."
   ]
  },
  {
   "cell_type": "code",
   "execution_count": null,
   "metadata": {
    "scrolled": false
   },
   "outputs": [],
   "source": [
    "# визуализируем факт оттока в зависимости от заработной платы клиента\n",
    "fig,ax = plt.subplots(1,sharey=False,figsize=(10,7))\n",
    "sns.histplot(data=df, hue='churn', x='est_salary', stat='density',bins=50, common_norm=False, palette='flag')\n",
    "plt.title('Отточность клиентов в зависимости от заработной платы')\n",
    "plt.xlabel('Размер заработной платы')\n",
    "plt.ylabel('Плотность распределения')\n",
    "plt.show()"
   ]
  },
  {
   "cell_type": "markdown",
   "metadata": {},
   "source": [
    "Клиенты с доходом от 100 тр. до 200 т.р являются более отточными , с доходом до 100 т.р. менее отточными."
   ]
  },
  {
   "cell_type": "markdown",
   "metadata": {},
   "source": [
    "Посмотрим на проценты оттока в каждой категории"
   ]
  },
  {
   "cell_type": "code",
   "execution_count": null,
   "metadata": {},
   "outputs": [],
   "source": [
    "# заменим названия столбцов на более удобные\n",
    "columns = ['id пользователя', 'кредитный скоринг', 'город', 'пол', 'возраст', 'объекты в собственности',\n",
    "              'остаток на счете', 'используемые продукты', 'кредитная карта', 'лояльность', 'зарплата',\n",
    "              'ушел/остался']\n",
    "df_columns = dict(zip(df.columns, columns))\n"
   ]
  },
  {
   "cell_type": "code",
   "execution_count": null,
   "metadata": {},
   "outputs": [],
   "source": [
    "# удалим 'user_id' и сохраним данные во временную переменную df_no_id\n",
    "df_no_id = df.drop('user_id', axis=1)"
   ]
  },
  {
   "cell_type": "code",
   "execution_count": null,
   "metadata": {},
   "outputs": [],
   "source": [
    "# отфильтруем данные, оставим клиентов, которые ушли, и сохраним в переменной df_ch\n",
    "df_ch = df.query('churn == 1')"
   ]
  },
  {
   "cell_type": "code",
   "execution_count": null,
   "metadata": {},
   "outputs": [],
   "source": [
    "# выделим категориальные данные\n",
    "df_category = df_no_id[['city', 'gender', 'equity', 'products', 'credit_card', 'last_activity', 'churn']]"
   ]
  },
  {
   "cell_type": "code",
   "execution_count": null,
   "metadata": {
    "scrolled": false
   },
   "outputs": [],
   "source": [
    "# определим функции для работы в этом разделе\n",
    "def ch (cols):\n",
    "    \n",
    "    df_all = df[cols].value_counts().sort_index()\n",
    "    df_churn = df_ch[cols].value_counts().sort_index()\n",
    "    percentage = (df_churn / df_all).sort_index()\n",
    "    print(percentage)\n",
    "    \n",
    "    churn_0 = df_all.plot(kind='bar', color='grey', figsize = (12,8))\n",
    "    churn_1 = df_churn.plot(kind='bar', color='blue',figsize = (12,8))\n",
    "  \n",
    "    \n",
    "    # выведем процент оттока в каждом классе\n",
    "    for i, rect in enumerate(churn_1.patches):\n",
    "        n = int(len(churn_1.patches) / 2.0) # выведем только вторую часть\n",
    "        if i >= n:\n",
    "            height = rect.get_height()\n",
    "\n",
    "            plt.text(rect.get_x() + rect.get_width() / 2.0, height / 4.0, f'{percentage.iloc[int(i-n)]:1.1%}', \n",
    "                     ha='center', va='bottom', color='black')\n",
    "\n",
    "    plt.title(f'Распределение признака \"{df_columns[cols]}\"')\n",
    "    plt.xlabel('')\n",
    "    plt.xticks(rotation=360)\n",
    "    plt.ylabel('Количество клиентов')\n",
    "    plt.grid(axis='y', linestyle='--')\n",
    "    plt.legend(['остался', 'ушел'])\n",
    "    \n",
    "\n",
    "    \n",
    "\n",
    "with sns.axes_style('white'):\n",
    "    for cols in df_category.drop('churn', axis=1).columns:\n",
    "        ch(cols)\n",
    "        plt.show()"
   ]
  },
  {
   "cell_type": "markdown",
   "metadata": {},
   "source": [
    "По графикам оттока среди категориальных величин, мы видим, что самые большие расхождения по признаку loyalty(активный) - среди отточных их 24.5%, а среди оставшихся в два раза меньше - 11.4%. Так же сильно отличается признак gender(пол) - среди мужчин отточных 23.7%, а среди женщин в два раза меньше - 12.8%. "
   ]
  },
  {
   "cell_type": "markdown",
   "metadata": {},
   "source": [
    "### 3.2 Портреты клиентов"
   ]
  },
  {
   "cell_type": "markdown",
   "metadata": {
    "scrolled": true
   },
   "source": [
    "Посмотрим на средние значения характеристик в двух группах - тех, кто ушел и тех, кто остался."
   ]
  },
  {
   "cell_type": "code",
   "execution_count": null,
   "metadata": {},
   "outputs": [],
   "source": [
    "df_no_id['gender'] = df_no_id['gender'].replace(\"М\", 1)\n",
    "df_no_id['gender'] = df_no_id['gender'].replace(\"Ж\", 0)\n",
    "df_no_id['last_activity']=df_no_id['last_activity'].replace(\"да\",1)\n",
    "df_no_id['last_activity']=df_no_id['last_activity'].replace(\"нет\",0)\n",
    "df_no_id['credit_card']=df_no_id['credit_card'].replace(\"есть\",1)\n",
    "df_no_id['credit_card']=df_no_id['credit_card'].replace(\"нет\",0)"
   ]
  },
  {
   "cell_type": "code",
   "execution_count": null,
   "metadata": {
    "scrolled": true
   },
   "outputs": [],
   "source": [
    "df_describe = df_no_id.agg(['mean', 'std']).T.round(2)\n",
    "df_describe"
   ]
  },
  {
   "cell_type": "code",
   "execution_count": null,
   "metadata": {},
   "outputs": [],
   "source": [
    "df_churn = df_no_id.groupby('churn').agg('mean').round(2).T\n",
    "mean_churn = df_churn.join(df_describe)\n",
    "mean_churn = mean_churn.rename(columns = {0:'mean_no_churn', 1:'mean_churn'})\n",
    "mean_churn"
   ]
  },
  {
   "cell_type": "markdown",
   "metadata": {},
   "source": [
    "Вывод на основе средних значений между характеристиками в разрезе отточные и неотточные клиенты:  \n",
    "наибольшие расхождения видим по полу, по количеству объектов и продуктов, по лояльности, ну и по балансу."
   ]
  },
  {
   "cell_type": "markdown",
   "metadata": {},
   "source": [
    "Вывод:                                                                                            \n",
    "Исходя из выведенных в п.3.1 и 3.2 графиков и подсчетов определим портрет клиента, склонного к оттоку.  \n",
    "• клиенты – 25-35, 50-60 лет                                                                        \n",
    "• мужчины                                                                                           \n",
    "• не имеют кредитные карты                                                                         \n",
    "• являются активными клиентами                                                                      \n",
    "• основные города в оттоке – Ярославль и Ростов Великий                                             \n",
    "• в среднем 5 объектов в собственности                                                              \n",
    "• в среднем имеют более 1 оформленного продукта                                                     \n"
   ]
  },
  {
   "cell_type": "code",
   "execution_count": null,
   "metadata": {},
   "outputs": [],
   "source": [
    "### КОД РЕВЬЮЕРА\n",
    "data = pd.read_csv(path)\n",
    "data.columns = data.columns.str.lower()\n",
    "df_mean = data.join(pd.get_dummies(df.gender, drop_first = True)).groupby('churn')\\\n",
    "            .agg({col:(\"median\" if col in ['est_salary','balance'] else \"mean\") \n",
    "                     for col in data.columns.union(['М']) \n",
    "                     if col not in [\"user_id\",\"churn\",'city',\"gender\"]})\\\n",
    "            .T\n",
    "df_mean['∂'] = df_mean[1] / df_mean[0] - 1\n",
    "df_mean.sort_values('∂').style.format(\"{:_.2f}\").background_gradient(subset=\"∂\",cmap=\"vlag\",vmin=-1, vmax=1)"
   ]
  },
  {
   "cell_type": "markdown",
   "metadata": {},
   "source": [
    "### 3.3 Построим матрицу корреляции"
   ]
  },
  {
   "cell_type": "code",
   "execution_count": null,
   "metadata": {},
   "outputs": [],
   "source": [
    "# заменим значения 'М' и 'Ж' на 1 и 0\n",
    "df['gender'] = df['gender'].replace(\"М\", 1)\n",
    "df['gender'] = df['gender'].replace(\"Ж\", 0)\n",
    "df['gender'] = df['gender'].astype('int')"
   ]
  },
  {
   "cell_type": "code",
   "execution_count": null,
   "metadata": {},
   "outputs": [],
   "source": [
    "# заменим значения \"нет\", \"да\" на 0 и 1\n",
    "df['last_activity']=df['last_activity'].replace(\"да\",1)\n",
    "df['last_activity']=df['last_activity'].replace(\"нет\",0)\n",
    "df['last_activity'] = df['last_activity'].astype('int')"
   ]
  },
  {
   "cell_type": "code",
   "execution_count": null,
   "metadata": {},
   "outputs": [],
   "source": [
    "# заменим значения \"нет\", \"есть\" на 0 и 1\n",
    "df['credit_card']=df['credit_card'].replace(\"есть\",1)\n",
    "df['credit_card']=df['credit_card'].replace(\"нет\",0)"
   ]
  },
  {
   "cell_type": "code",
   "execution_count": null,
   "metadata": {},
   "outputs": [],
   "source": [
    "df"
   ]
  },
  {
   "cell_type": "code",
   "execution_count": null,
   "metadata": {},
   "outputs": [],
   "source": [
    "# закодируем города в столбце city\n",
    "df_new = pd.get_dummies(df, columns=['city'])\n",
    "df_new"
   ]
  },
  {
   "cell_type": "code",
   "execution_count": null,
   "metadata": {
    "scrolled": false
   },
   "outputs": [],
   "source": [
    "# удалим столбец 'user_id'\n",
    "df_corr = df_new.drop(['user_id'], axis=1).corr()[['churn']]\n",
    "# отобразим heatmap\n",
    "plt.figure(figsize = (15,15))\n",
    "sns.heatmap(df_corr, square=True, vmax =0.5, annot = True)\n",
    "\n",
    "plt.show()\n",
    "\n"
   ]
  },
  {
   "cell_type": "markdown",
   "metadata": {},
   "source": [
    "С целевой переменной churn больше всего коррелирует products (количество продуктов, которыми пользуется клиент), equity (количество объектов в собственности), last_activity(активный клиент) и gender(пол)."
   ]
  },
  {
   "cell_type": "markdown",
   "metadata": {},
   "source": [
    "## 4. Проверка статистических гипотез"
   ]
  },
  {
   "cell_type": "markdown",
   "metadata": {},
   "source": [
    "Проверим равенство средних двух генеральных совокупностей - это пользователи, которые ушли - 1821, и пользователи, которые остались - 8165.                                                               "
   ]
  },
  {
   "cell_type": "markdown",
   "metadata": {},
   "source": [
    "### 4.1 Гипотеза о различии дохода между отточными и неотточными клиентами"
   ]
  },
  {
   "cell_type": "markdown",
   "metadata": {},
   "source": [
    "Проверим гипотезу различия дохода между теми клиентами, которые ушли и теми, которые остались.    \n",
    "Нулевая: различия в доходах между теми клиентами, которые ушли и теми, которые остались нет.     \n",
    "Альтернативная: существуют различия в доходах между теми клиентами, которые ушли и теми, которые остались."
   ]
  },
  {
   "cell_type": "code",
   "execution_count": null,
   "metadata": {},
   "outputs": [],
   "source": [
    "est_salary_churn = df.query('churn == 1').pivot_table(index = 'user_id', values = 'est_salary')\n",
    "est_salary_no_churn = df.query('churn == 0').pivot_table(index = 'user_id', values = 'est_salary')\n",
    "alpha = .05 # критический уровень статистической значимости\n",
    "# если p-value окажется меньше него - отвергнем гипотезу"
   ]
  },
  {
   "cell_type": "code",
   "execution_count": null,
   "metadata": {},
   "outputs": [],
   "source": [
    "\n",
    "alpha = .05 # критический уровень статистической значимости\n",
    "results_est_salary = st.ttest_ind(est_salary_churn.values, est_salary_no_churn.values)\n",
    "print('p-значение:', results_est_salary.pvalue)\n",
    "\n",
    "if results_est_salary.pvalue < alpha:\n",
    "    print('Отвергаем нулевую гипотезу: разница статистически значима')\n",
    "else:\n",
    "    print(\n",
    "        'Нулевую гипотезу не отклоняем. Нет оснований говорить о различии в среднем доходе между клиентами, которые ушли и которые остались.'\n",
    "    ) "
   ]
  },
  {
   "cell_type": "markdown",
   "metadata": {},
   "source": [
    "Проверим гипотезу еще при помощи теста Манна-Уитни, так как наши данные подходят под условия применения данного теста.  \n",
    "Наши гипотезы:  \n",
    "Нулевая: различия в доходах между теми клиентами, которые ушли и теми, которые остались нет.  \n",
    "Альтернативная: существуют различия в доходах между теми клиентами, которые ушли и теми, которые остались."
   ]
  },
  {
   "cell_type": "code",
   "execution_count": null,
   "metadata": {},
   "outputs": [],
   "source": [
    "alpha = 0.05 # критический уровень статистической значимости\n",
    "results = st.mannwhitneyu(est_salary_churn['est_salary'], est_salary_no_churn['est_salary'])\n",
    "print('p-значение: ', results.pvalue)\n",
    "\n",
    "if results.pvalue < alpha:\n",
    "    print('Отвергаем нулевую гипотезу: разница статистически значима')\n",
    "else:\n",
    "    print(\n",
    "        'Не получилось отвергнуть нулевую гипотезу, вывод о различии сделать нельзя'\n",
    "    ) "
   ]
  },
  {
   "cell_type": "markdown",
   "metadata": {},
   "source": [
    "Гипотеза о том, что доход между отточными и неотточными клиентами отличается, подтвердилась."
   ]
  },
  {
   "cell_type": "markdown",
   "metadata": {},
   "source": [
    "Итак, мы получили расхождения в результатах t-теста и u-теста. Так как в столбце 'est_salary' мы наблюдаем аномально высокие значения, результаты параметрического t-теста могут исказиться. А непараметрический критерий Манна-Уитни устойчив к такого рода выбросам, поэтому в данном случае имеет смысл ориентироваться на него."
   ]
  },
  {
   "cell_type": "markdown",
   "metadata": {},
   "source": [
    "### 4.2 Гипотеза о  влияния возраста на отток"
   ]
  },
  {
   "cell_type": "markdown",
   "metadata": {},
   "source": [
    "Проверим гипотезу влияния возраста на отток.                                                      \n",
    "Нулевая: средний возраст в группе с оттоком и без одинаковый.                                         \n",
    "Альтернативная: существуют различия в возрасте между группами с оттоком и без."
   ]
  },
  {
   "cell_type": "code",
   "execution_count": null,
   "metadata": {},
   "outputs": [],
   "source": [
    "age_churn = df.query('churn == 1').pivot_table(index = 'user_id', values = 'age')\n",
    "age_no_churn = df.query('churn == 0').pivot_table(index = 'user_id', values = 'age')                                "
   ]
  },
  {
   "cell_type": "code",
   "execution_count": null,
   "metadata": {},
   "outputs": [],
   "source": [
    "alpha = 0.05 # критический уровень статистической значимости\n",
    "results_age = st.ttest_ind(age_churn.values,age_no_churn.values)\n",
    "\n",
    "print('p-значение:', results_age.pvalue)\n",
    "\n",
    "if results_age.pvalue < alpha:\n",
    "    print('Отвергаем нулевую гипотезу: разница статистически значима')\n",
    "else:\n",
    "    print('Не получилось отвергнуть нулевую гипотезу, вывод о различии сделать нельзя')\n"
   ]
  },
  {
   "cell_type": "markdown",
   "metadata": {},
   "source": [
    "Гипотеза подтвердила, что существуют различия в возрасте между группами с оттоком и без."
   ]
  },
  {
   "cell_type": "markdown",
   "metadata": {},
   "source": [
    "## 5. Вывод о влиянии стратегических показателей на отток"
   ]
  },
  {
   "cell_type": "markdown",
   "metadata": {},
   "source": [
    "После исследовательского анализа данных мы можем выделить показатели, которые сильнее всего влияют на отток.  \n",
    "Это наличие кредитной карты, возраст, пол (М), количество продуктов и количество объектов в собствености, а так же лояльность(0).  \n",
    "Отток в Ростове Великом (18.8%) и в Ярославле (19%) оказались чуть больше, чем в Рыбинске (16.2%).\n",
    "К оттоку оказались наиболее склонны лояльные молодые люди возраста 25-35 лет и мужчины старше 50, проживающие в Ростове Великом и Ярославле, пользующиеся четырьмя продуктами банка, владеющие 4 и более объектами собственности, зарабатывающие от 100 до 200 тыс.  \n",
    "Наоборот, чаще всего остаются с банком нелояльные женщины моложе 50, проживающие в Рыбинске, пользующиеся 1-2 продуктами банка, владеющие 2-3 объектами собственности, зарабатывающие до 150 тыс. или от 200 тыс. и более.\n",
    "Гипотеза о статистически значимом различии дохода клиентов, которые ушли, и тех, которые остались, подтвердилась.\n",
    "Гипотеза о различии возраста тех, кто ушел в отток, и тех, кто остался тоже подтвердилась. "
   ]
  },
  {
   "cell_type": "markdown",
   "metadata": {},
   "source": [
    "## Сегментация по оттоку"
   ]
  },
  {
   "cell_type": "markdown",
   "metadata": {},
   "source": [
    "<b> Выделим сегменты исходя из выводов о влиянии стратегических показателей на отток (п.5.5). </b>  \n",
    "-посчитаем долю отточных клиентов мужского пола, не имеющих кредитные карты,  \n",
    "-посчитаем долю отточных клиентов мужского пола с 4-мя продуктами,  \n",
    "-посчитаем сколько отточных клиентов активных и имеющих более 4 объектов в собственности,  \n",
    "-посчитаем долю зрелых отточных клиентов с балансом 100-400 т.р.,  \n",
    "-посчитаем долю зрелых отточных клиентов с доходом 100-200 т.р.\n",
    "-посчитаем отточных клиентов с баллами от 800 до 900 и балансом на счете от 100 до 400 т.р.,  \n"
   ]
  },
  {
   "cell_type": "code",
   "execution_count": null,
   "metadata": {},
   "outputs": [],
   "source": [
    "# посчитаем сколько отточных клиентов среди мужчин без кредитной карты\n",
    "df_pivot = df.pivot_table(\n",
    "    index='gender', columns='credit_card', values='churn', aggfunc='mean'\n",
    ")\n",
    "\n",
    "sns.set(style='white')\n",
    "plt.figure(figsize=(13, 9))\n",
    "plt.title('% оттока клиентов в зависимости от пола и наличия кредитных карт')\n",
    "sns.heatmap(df_pivot, annot=True, fmt='.2%', linewidths=1, linecolor='gray')\n",
    "plt.xlabel('Кредитные карты') \n",
    "plt.ylabel('Пол'); "
   ]
  },
  {
   "cell_type": "markdown",
   "metadata": {},
   "source": [
    "Из графика видим, что самыми отточными клиентами в зависимости от пола и наличия кредитных карт являются мужчины, их уровень составляет - 35.07%."
   ]
  },
  {
   "cell_type": "code",
   "execution_count": null,
   "metadata": {
    "scrolled": true
   },
   "outputs": [],
   "source": [
    " # посчитаем сколько отточных мужчин с 4-мя продуктами\n",
    "df_pivot_gender = df.pivot_table(\n",
    "    index='gender', columns='products', values='churn', aggfunc='mean'\n",
    ")\n",
    "df_pivot_gender"
   ]
  },
  {
   "cell_type": "markdown",
   "metadata": {},
   "source": [
    "Уровень оттока мужчин с 4-мя продуктами получается 67%"
   ]
  },
  {
   "cell_type": "code",
   "execution_count": null,
   "metadata": {
    "scrolled": true
   },
   "outputs": [],
   "source": [
    "# посчитаем сколько отточных клиентов активных и имеющих более 4 объектов в собственности\n",
    "df_pivot_act = df.pivot_table(\n",
    "    index='last_activity', columns='equity', values='churn', aggfunc='mean'\n",
    ")\n",
    "df_pivot_act"
   ]
  },
  {
   "cell_type": "markdown",
   "metadata": {},
   "source": [
    "Видим, что активные клиенты, имеющие 4 и более объектов в собственности, отточнее всего. Активный клиент отточнее всего с 9-ю продуктами."
   ]
  },
  {
   "cell_type": "code",
   "execution_count": null,
   "metadata": {},
   "outputs": [],
   "source": [
    "# посчитаем долю зрелых отточных клиентов с балансом 100-400 т.р. на счете\n",
    "df_age_balance = df.query('(60 > age > 50)&(400000 > balance > 100000)').agg({'churn':'mean'})\n",
    "df_age_balance"
   ]
  },
  {
   "cell_type": "markdown",
   "metadata": {},
   "source": [
    "Зрелые отточные клиенты с балансом 100-400 т.р. на счете составляют 26%"
   ]
  },
  {
   "cell_type": "code",
   "execution_count": null,
   "metadata": {},
   "outputs": [],
   "source": [
    "# посчитаем долю зрелых отточных клиентов с доходом 100-200 т.р.\n",
    "df_age_balance = df.query('(60 > age > 50)&(200000 > est_salary > 100000)').agg({'churn':'mean'})\n",
    "df_age_balance"
   ]
  },
  {
   "cell_type": "markdown",
   "metadata": {},
   "source": [
    "Зрелые отточные клиенты с доходом 100-200 т.р. на счете составляют 29%"
   ]
  },
  {
   "cell_type": "code",
   "execution_count": null,
   "metadata": {},
   "outputs": [],
   "source": [
    "# посчитаем отточных клиентов с баллами от 800 до 900 и балансом на счете от 100 до 400 т.р.\n",
    "df_score_balance = df.query('(900 > score > 800)&(400000 > balance > 100000)').agg({'churn':'mean'})\n",
    "df_score_balance"
   ]
  },
  {
   "cell_type": "markdown",
   "metadata": {},
   "source": [
    "Уровень отточных клиентов с баллами от 800 до 900 и балансом на счете от 100 до 400 т.р. составляют 19%. Этот показатель не очень высокий, поэтому не будем брать в счет при рекомендациях."
   ]
  },
  {
   "cell_type": "markdown",
   "metadata": {},
   "source": [
    "## Выводы и рекомендации по сегментам"
   ]
  },
  {
   "cell_type": "markdown",
   "metadata": {},
   "source": [
    "#### Выводы: \n",
    " \n",
    "Портрет клиента, склонного к оттоку в целом таков:  \n",
    "-доход от 100 т.р. до 200 т.р.  \n",
    "-возраст - либо 25-25, либо 50-60 лет;  \n",
    "-проживает в основном в Ярославле;  \n",
    "-большинство этих клиентов не имеют кредитную карту;  \n",
    "-высокая активность;  \n",
    "-в среднем 4 и более объектов в собственности;  \n",
    "-в среднем оформлено 4 продукта;  \n",
    "-мужчин в 2 раза больше, чем женщин,  \n",
    "-баланс на счете 100-400 т.р.,  \n",
    "-баллы кредитного скоринга 825-900."
   ]
  },
  {
   "cell_type": "markdown",
   "metadata": {},
   "source": [
    "#### Выводы по сегментации отточных клиентов:\n",
    "В результате выделения сегментов:  \n",
    "-мужчины без кредитных карточек,  \n",
    "-мужчины с 4-мя продуктами,  \n",
    "-активные и имеющие > 4 объектов в собственности,  \n",
    "-зрелого возраста с балансом 100-400 т.р.,  \n",
    "-зрелого возраста с доходом 100-200 т.р.,  \n",
    "-с баллами 800-900 и балансом на счете 100-400 т.р.,  \n",
    "получили наибольшие доли отточности по категориям 'мужчины с 4-мя продуктами', 'мужчины без кредитных карт' и 'активные с более 4-мя объектами в собственности'."
   ]
  },
  {
   "cell_type": "markdown",
   "metadata": {},
   "source": [
    "##### Рекомендации по сегментам\n",
    "\n",
    "Пожалуй, основной акцент имеет смысл сделать на клиентов мужского пола с 4-мя продуктами. Возможно нужно обратить внимание на изменения условий при переходе с 4-го продукта к 5-му, с 5-го к 6-му продукту и т.д, возможно условия ухудшаются.  \n",
    "\n",
    "Также имеет смысл подумать над специальными предложениями для мужчин - их в группе оттока больше, чем в группе тех, кто остался. Можно разработать специальные предложения именно мужчинам без кредитных карт, например выпустить кредитки с хорошими условиями бонусов специально к праздничным дня, посвященным мужчинам.  \n",
    "\n",
    "Мы помним, что большая часть отточных клиентов не имеют кредитных карт и можно предположить, что карта является стимулом для начала договорных отношений с банком. Возможно пересмотр системы бонусов, которая стимулировала бы ее использование и не позволял уходить пользователям из банка, решил бы в какой-то мере проблему оттока.  \n",
    "\n",
    "Что касаемо возрастных клиентов с доходом 100-200 т.р., например, предложить открыть накопительные счета, вклады и кредитные программы для людей старше 50 лет, сделав акцент на их будущем, будущем их детей и внуков."
   ]
  }
 ],
 "metadata": {
  "ExecuteTimeLog": [
   {
    "duration": 1319,
    "start_time": "2022-11-08T16:19:36.011Z"
   },
   {
    "duration": 1217,
    "start_time": "2022-11-08T16:19:44.931Z"
   },
   {
    "duration": 15,
    "start_time": "2022-11-08T16:19:55.882Z"
   },
   {
    "duration": 14,
    "start_time": "2022-11-08T16:20:09.047Z"
   },
   {
    "duration": 3,
    "start_time": "2022-11-08T16:20:55.502Z"
   },
   {
    "duration": 3,
    "start_time": "2022-11-08T16:21:04.599Z"
   },
   {
    "duration": 4,
    "start_time": "2022-11-08T16:21:13.711Z"
   },
   {
    "duration": 6,
    "start_time": "2022-11-08T16:21:29.001Z"
   },
   {
    "duration": 22,
    "start_time": "2022-11-08T16:21:53.076Z"
   },
   {
    "duration": 8,
    "start_time": "2022-11-08T16:22:01.174Z"
   },
   {
    "duration": 8,
    "start_time": "2022-11-08T16:22:08.783Z"
   },
   {
    "duration": 8,
    "start_time": "2022-11-08T16:22:19.170Z"
   },
   {
    "duration": 5,
    "start_time": "2022-11-08T16:22:29.077Z"
   },
   {
    "duration": 9,
    "start_time": "2022-11-08T16:22:41.995Z"
   },
   {
    "duration": 14,
    "start_time": "2022-11-08T16:22:50.885Z"
   },
   {
    "duration": 53,
    "start_time": "2022-11-08T16:23:22.752Z"
   },
   {
    "duration": 196,
    "start_time": "2022-11-08T16:23:34.594Z"
   },
   {
    "duration": 96,
    "start_time": "2022-11-08T16:23:48.981Z"
   },
   {
    "duration": 310,
    "start_time": "2022-11-08T16:24:15.984Z"
   },
   {
    "duration": 130,
    "start_time": "2022-11-08T16:33:53.946Z"
   },
   {
    "duration": 219,
    "start_time": "2022-11-08T16:34:42.278Z"
   },
   {
    "duration": 166,
    "start_time": "2022-11-08T16:40:35.485Z"
   },
   {
    "duration": 201,
    "start_time": "2022-11-08T16:41:14.834Z"
   },
   {
    "duration": 221,
    "start_time": "2022-11-08T16:42:55.404Z"
   },
   {
    "duration": 364,
    "start_time": "2022-11-08T16:43:32.435Z"
   },
   {
    "duration": 108,
    "start_time": "2022-11-08T16:45:46.513Z"
   },
   {
    "duration": 316,
    "start_time": "2022-11-08T16:46:39.783Z"
   },
   {
    "duration": 318,
    "start_time": "2022-11-08T16:49:40.413Z"
   },
   {
    "duration": 228,
    "start_time": "2022-11-08T16:49:58.153Z"
   },
   {
    "duration": 215,
    "start_time": "2022-11-08T16:50:37.942Z"
   },
   {
    "duration": 283,
    "start_time": "2022-11-08T16:50:49.304Z"
   },
   {
    "duration": 217,
    "start_time": "2022-11-08T16:52:02.993Z"
   },
   {
    "duration": 8032,
    "start_time": "2022-11-08T16:52:24.903Z"
   },
   {
    "duration": 247,
    "start_time": "2022-11-08T16:53:04.804Z"
   },
   {
    "duration": 392,
    "start_time": "2022-11-08T16:53:16.671Z"
   },
   {
    "duration": 501,
    "start_time": "2022-11-08T16:53:24.579Z"
   },
   {
    "duration": 2313,
    "start_time": "2022-11-08T16:53:37.004Z"
   },
   {
    "duration": 5313,
    "start_time": "2022-11-08T16:53:52.193Z"
   },
   {
    "duration": 245,
    "start_time": "2022-11-08T16:54:50.591Z"
   },
   {
    "duration": 253,
    "start_time": "2022-11-08T17:06:09.949Z"
   },
   {
    "duration": 435,
    "start_time": "2022-11-08T17:10:02.514Z"
   },
   {
    "duration": 260,
    "start_time": "2022-11-08T17:27:59.679Z"
   },
   {
    "duration": 323,
    "start_time": "2022-11-08T17:39:05.439Z"
   },
   {
    "duration": 257,
    "start_time": "2022-11-08T17:39:30.507Z"
   },
   {
    "duration": 259,
    "start_time": "2022-11-08T17:40:08.349Z"
   },
   {
    "duration": 683,
    "start_time": "2022-11-08T17:42:34.828Z"
   },
   {
    "duration": 437,
    "start_time": "2022-11-08T17:58:37.745Z"
   },
   {
    "duration": 273,
    "start_time": "2022-11-08T17:59:12.035Z"
   },
   {
    "duration": 96,
    "start_time": "2022-11-08T17:59:27.547Z"
   },
   {
    "duration": 231,
    "start_time": "2022-11-08T17:59:39.877Z"
   },
   {
    "duration": 230,
    "start_time": "2022-11-08T17:59:52.996Z"
   },
   {
    "duration": 513,
    "start_time": "2022-11-08T18:00:21.175Z"
   },
   {
    "duration": 683,
    "start_time": "2022-11-08T18:00:32.720Z"
   },
   {
    "duration": 437,
    "start_time": "2022-11-08T18:00:46.345Z"
   },
   {
    "duration": 409,
    "start_time": "2022-11-08T18:00:55.995Z"
   },
   {
    "duration": 502,
    "start_time": "2022-11-08T18:08:52.191Z"
   },
   {
    "duration": 114,
    "start_time": "2022-11-08T18:10:44.178Z"
   },
   {
    "duration": 501,
    "start_time": "2022-11-08T18:10:57.645Z"
   },
   {
    "duration": 400,
    "start_time": "2022-11-08T18:15:36.510Z"
   },
   {
    "duration": 466,
    "start_time": "2022-11-08T18:15:54.307Z"
   },
   {
    "duration": 408,
    "start_time": "2022-11-08T18:16:12.730Z"
   },
   {
    "duration": 465,
    "start_time": "2022-11-08T18:17:04.191Z"
   },
   {
    "duration": 369,
    "start_time": "2022-11-08T18:17:20.899Z"
   },
   {
    "duration": 305,
    "start_time": "2022-11-08T18:19:40.190Z"
   },
   {
    "duration": 306,
    "start_time": "2022-11-08T18:19:49.430Z"
   },
   {
    "duration": 64,
    "start_time": "2022-11-08T18:21:44.374Z"
   },
   {
    "duration": 1189,
    "start_time": "2022-11-08T18:21:55.795Z"
   },
   {
    "duration": 1739,
    "start_time": "2022-11-08T18:21:56.989Z"
   },
   {
    "duration": 15,
    "start_time": "2022-11-08T18:21:58.729Z"
   },
   {
    "duration": 12,
    "start_time": "2022-11-08T18:21:58.746Z"
   },
   {
    "duration": 30,
    "start_time": "2022-11-08T18:21:58.760Z"
   },
   {
    "duration": 7,
    "start_time": "2022-11-08T18:21:58.792Z"
   },
   {
    "duration": 12,
    "start_time": "2022-11-08T18:21:58.800Z"
   },
   {
    "duration": 20,
    "start_time": "2022-11-08T18:21:58.813Z"
   },
   {
    "duration": 4,
    "start_time": "2022-11-08T18:21:58.834Z"
   },
   {
    "duration": 9,
    "start_time": "2022-11-08T18:21:58.840Z"
   },
   {
    "duration": 8,
    "start_time": "2022-11-08T18:21:58.850Z"
   },
   {
    "duration": 36,
    "start_time": "2022-11-08T18:21:58.859Z"
   },
   {
    "duration": 8,
    "start_time": "2022-11-08T18:21:58.896Z"
   },
   {
    "duration": 32,
    "start_time": "2022-11-08T18:21:58.906Z"
   },
   {
    "duration": 134,
    "start_time": "2022-11-08T18:21:58.940Z"
   },
   {
    "duration": 430,
    "start_time": "2022-11-08T18:21:59.075Z"
   },
   {
    "duration": 204,
    "start_time": "2022-11-08T18:21:59.506Z"
   },
   {
    "duration": 169,
    "start_time": "2022-11-08T18:21:59.712Z"
   },
   {
    "duration": 412,
    "start_time": "2022-11-08T18:21:59.883Z"
   },
   {
    "duration": 237,
    "start_time": "2022-11-08T18:22:00.296Z"
   },
   {
    "duration": 64,
    "start_time": "2022-11-08T18:23:38.033Z"
   },
   {
    "duration": 9,
    "start_time": "2022-11-08T18:23:42.987Z"
   },
   {
    "duration": 16,
    "start_time": "2022-11-08T18:24:00.355Z"
   },
   {
    "duration": 82,
    "start_time": "2022-11-09T16:21:36.820Z"
   },
   {
    "duration": 1471,
    "start_time": "2022-11-09T16:21:44.500Z"
   },
   {
    "duration": 1404,
    "start_time": "2022-11-09T16:21:45.973Z"
   },
   {
    "duration": 25,
    "start_time": "2022-11-09T16:21:47.378Z"
   },
   {
    "duration": 16,
    "start_time": "2022-11-09T16:21:47.405Z"
   },
   {
    "duration": 6,
    "start_time": "2022-11-09T16:21:47.427Z"
   },
   {
    "duration": 8,
    "start_time": "2022-11-09T16:21:47.435Z"
   },
   {
    "duration": 13,
    "start_time": "2022-11-09T16:21:47.445Z"
   },
   {
    "duration": 28,
    "start_time": "2022-11-09T16:21:47.460Z"
   },
   {
    "duration": 6,
    "start_time": "2022-11-09T16:21:47.490Z"
   },
   {
    "duration": 8,
    "start_time": "2022-11-09T16:21:47.498Z"
   },
   {
    "duration": 29,
    "start_time": "2022-11-09T16:21:47.508Z"
   },
   {
    "duration": 15,
    "start_time": "2022-11-09T16:21:47.539Z"
   },
   {
    "duration": 8,
    "start_time": "2022-11-09T16:21:47.556Z"
   },
   {
    "duration": 40,
    "start_time": "2022-11-09T16:21:47.567Z"
   },
   {
    "duration": 188,
    "start_time": "2022-11-09T16:21:47.633Z"
   },
   {
    "duration": 481,
    "start_time": "2022-11-09T16:21:47.823Z"
   },
   {
    "duration": 197,
    "start_time": "2022-11-09T16:21:48.305Z"
   },
   {
    "duration": 295,
    "start_time": "2022-11-09T16:21:48.505Z"
   },
   {
    "duration": 487,
    "start_time": "2022-11-09T16:21:48.802Z"
   },
   {
    "duration": 339,
    "start_time": "2022-11-09T16:21:49.292Z"
   },
   {
    "duration": 9768,
    "start_time": "2022-11-09T16:21:49.637Z"
   },
   {
    "duration": 369,
    "start_time": "2022-11-09T16:21:59.406Z"
   },
   {
    "duration": 264,
    "start_time": "2022-11-09T16:21:59.777Z"
   },
   {
    "duration": 232,
    "start_time": "2022-11-09T16:22:00.043Z"
   },
   {
    "duration": 417,
    "start_time": "2022-11-09T16:22:00.278Z"
   },
   {
    "duration": 12,
    "start_time": "2022-11-09T16:22:00.699Z"
   },
   {
    "duration": 181,
    "start_time": "2022-11-09T16:23:11.482Z"
   },
   {
    "duration": 13,
    "start_time": "2022-11-09T16:23:19.484Z"
   },
   {
    "duration": 9,
    "start_time": "2022-11-09T16:23:23.404Z"
   },
   {
    "duration": 17,
    "start_time": "2022-11-09T16:23:43.978Z"
   },
   {
    "duration": 15,
    "start_time": "2022-11-09T16:24:08.533Z"
   },
   {
    "duration": 7,
    "start_time": "2022-11-09T16:27:33.815Z"
   },
   {
    "duration": 14172,
    "start_time": "2022-11-09T16:27:57.173Z"
   },
   {
    "duration": 13480,
    "start_time": "2022-11-09T16:29:18.692Z"
   },
   {
    "duration": 14581,
    "start_time": "2022-11-09T16:32:47.708Z"
   },
   {
    "duration": 10970,
    "start_time": "2022-11-09T16:33:18.172Z"
   },
   {
    "duration": 12249,
    "start_time": "2022-11-09T16:33:43.123Z"
   },
   {
    "duration": 457,
    "start_time": "2022-11-09T16:34:43.177Z"
   },
   {
    "duration": 568,
    "start_time": "2022-11-09T16:34:52.604Z"
   },
   {
    "duration": 2870,
    "start_time": "2022-11-09T16:35:05.912Z"
   },
   {
    "duration": 2077,
    "start_time": "2022-11-09T16:35:30.383Z"
   },
   {
    "duration": 1317,
    "start_time": "2022-11-09T16:35:48.061Z"
   },
   {
    "duration": 2631,
    "start_time": "2022-11-09T16:35:58.659Z"
   },
   {
    "duration": 2228,
    "start_time": "2022-11-09T16:39:18.431Z"
   },
   {
    "duration": 362,
    "start_time": "2022-11-09T16:54:51.910Z"
   },
   {
    "duration": 236,
    "start_time": "2022-11-09T16:56:55.171Z"
   },
   {
    "duration": 239,
    "start_time": "2022-11-09T16:59:53.333Z"
   },
   {
    "duration": 377,
    "start_time": "2022-11-09T17:02:26.513Z"
   },
   {
    "duration": 5,
    "start_time": "2022-11-09T17:02:57.570Z"
   },
   {
    "duration": 209,
    "start_time": "2022-11-09T17:09:41.528Z"
   },
   {
    "duration": 221,
    "start_time": "2022-11-09T17:13:24.603Z"
   },
   {
    "duration": 227,
    "start_time": "2022-11-09T17:13:42.692Z"
   },
   {
    "duration": 204,
    "start_time": "2022-11-09T17:14:48.772Z"
   },
   {
    "duration": 200,
    "start_time": "2022-11-09T17:15:52.700Z"
   },
   {
    "duration": 227,
    "start_time": "2022-11-09T17:16:22.590Z"
   },
   {
    "duration": 182,
    "start_time": "2022-11-09T17:16:49.581Z"
   },
   {
    "duration": 204,
    "start_time": "2022-11-09T17:16:56.612Z"
   },
   {
    "duration": 397,
    "start_time": "2022-11-09T17:17:01.718Z"
   },
   {
    "duration": 11,
    "start_time": "2022-11-09T17:20:30.634Z"
   },
   {
    "duration": 11,
    "start_time": "2022-11-09T17:27:31.152Z"
   },
   {
    "duration": 6,
    "start_time": "2022-11-09T17:28:08.230Z"
   },
   {
    "duration": 75,
    "start_time": "2022-11-09T17:28:42.771Z"
   },
   {
    "duration": 7,
    "start_time": "2022-11-09T17:29:09.330Z"
   },
   {
    "duration": 199,
    "start_time": "2022-11-09T17:29:14.573Z"
   },
   {
    "duration": 5,
    "start_time": "2022-11-09T17:33:02.205Z"
   },
   {
    "duration": 184,
    "start_time": "2022-11-09T17:33:02.875Z"
   },
   {
    "duration": 1332,
    "start_time": "2022-11-09T17:33:17.712Z"
   },
   {
    "duration": 1412,
    "start_time": "2022-11-09T17:33:19.047Z"
   },
   {
    "duration": 20,
    "start_time": "2022-11-09T17:33:20.461Z"
   },
   {
    "duration": 14,
    "start_time": "2022-11-09T17:33:20.483Z"
   },
   {
    "duration": 4,
    "start_time": "2022-11-09T17:33:20.499Z"
   },
   {
    "duration": 10,
    "start_time": "2022-11-09T17:33:20.505Z"
   },
   {
    "duration": 26,
    "start_time": "2022-11-09T17:33:20.517Z"
   },
   {
    "duration": 33,
    "start_time": "2022-11-09T17:33:20.545Z"
   },
   {
    "duration": 7,
    "start_time": "2022-11-09T17:33:20.580Z"
   },
   {
    "duration": 13,
    "start_time": "2022-11-09T17:33:20.589Z"
   },
   {
    "duration": 18,
    "start_time": "2022-11-09T17:33:20.604Z"
   },
   {
    "duration": 12,
    "start_time": "2022-11-09T17:33:20.624Z"
   },
   {
    "duration": 9,
    "start_time": "2022-11-09T17:33:20.638Z"
   },
   {
    "duration": 79,
    "start_time": "2022-11-09T17:33:20.650Z"
   },
   {
    "duration": 180,
    "start_time": "2022-11-09T17:33:20.731Z"
   },
   {
    "duration": 478,
    "start_time": "2022-11-09T17:33:20.913Z"
   },
   {
    "duration": 213,
    "start_time": "2022-11-09T17:33:21.393Z"
   },
   {
    "duration": 205,
    "start_time": "2022-11-09T17:33:21.608Z"
   },
   {
    "duration": 472,
    "start_time": "2022-11-09T17:33:21.815Z"
   },
   {
    "duration": 279,
    "start_time": "2022-11-09T17:33:22.289Z"
   },
   {
    "duration": 5,
    "start_time": "2022-11-09T17:33:22.570Z"
   },
   {
    "duration": 2169,
    "start_time": "2022-11-09T17:33:22.576Z"
   },
   {
    "duration": 354,
    "start_time": "2022-11-09T17:33:24.747Z"
   },
   {
    "duration": 7,
    "start_time": "2022-11-09T17:33:25.103Z"
   },
   {
    "duration": 214,
    "start_time": "2022-11-09T17:33:25.112Z"
   },
   {
    "duration": 412,
    "start_time": "2022-11-09T17:33:25.328Z"
   },
   {
    "duration": 371,
    "start_time": "2022-11-09T17:33:25.741Z"
   },
   {
    "duration": 6,
    "start_time": "2022-11-09T17:33:26.114Z"
   },
   {
    "duration": 190,
    "start_time": "2022-11-09T17:43:19.603Z"
   },
   {
    "duration": 0,
    "start_time": "2022-11-09T17:43:19.796Z"
   },
   {
    "duration": 0,
    "start_time": "2022-11-09T17:43:19.798Z"
   },
   {
    "duration": 0,
    "start_time": "2022-11-09T17:43:19.799Z"
   },
   {
    "duration": 0,
    "start_time": "2022-11-09T17:43:19.801Z"
   },
   {
    "duration": 0,
    "start_time": "2022-11-09T17:43:19.802Z"
   },
   {
    "duration": 0,
    "start_time": "2022-11-09T17:43:19.804Z"
   },
   {
    "duration": 0,
    "start_time": "2022-11-09T17:43:19.806Z"
   },
   {
    "duration": 0,
    "start_time": "2022-11-09T17:43:19.808Z"
   },
   {
    "duration": 1,
    "start_time": "2022-11-09T17:43:19.809Z"
   },
   {
    "duration": 0,
    "start_time": "2022-11-09T17:43:19.811Z"
   },
   {
    "duration": 0,
    "start_time": "2022-11-09T17:43:19.812Z"
   },
   {
    "duration": 0,
    "start_time": "2022-11-09T17:43:19.813Z"
   },
   {
    "duration": 0,
    "start_time": "2022-11-09T17:43:19.814Z"
   },
   {
    "duration": 0,
    "start_time": "2022-11-09T17:43:19.815Z"
   },
   {
    "duration": 0,
    "start_time": "2022-11-09T17:43:19.816Z"
   },
   {
    "duration": 0,
    "start_time": "2022-11-09T17:43:19.817Z"
   },
   {
    "duration": 0,
    "start_time": "2022-11-09T17:43:19.818Z"
   },
   {
    "duration": 0,
    "start_time": "2022-11-09T17:43:19.820Z"
   },
   {
    "duration": 0,
    "start_time": "2022-11-09T17:43:19.820Z"
   },
   {
    "duration": 0,
    "start_time": "2022-11-09T17:43:19.821Z"
   },
   {
    "duration": 0,
    "start_time": "2022-11-09T17:43:19.822Z"
   },
   {
    "duration": 0,
    "start_time": "2022-11-09T17:43:19.823Z"
   },
   {
    "duration": 0,
    "start_time": "2022-11-09T17:43:19.824Z"
   },
   {
    "duration": 0,
    "start_time": "2022-11-09T17:43:19.825Z"
   },
   {
    "duration": 0,
    "start_time": "2022-11-09T17:43:19.826Z"
   },
   {
    "duration": 0,
    "start_time": "2022-11-09T17:43:19.828Z"
   },
   {
    "duration": 0,
    "start_time": "2022-11-09T17:43:19.828Z"
   },
   {
    "duration": 51,
    "start_time": "2022-11-09T17:43:38.246Z"
   },
   {
    "duration": 72,
    "start_time": "2022-11-09T17:43:47.682Z"
   },
   {
    "duration": 0,
    "start_time": "2022-11-09T17:43:47.756Z"
   },
   {
    "duration": 0,
    "start_time": "2022-11-09T17:43:47.758Z"
   },
   {
    "duration": 0,
    "start_time": "2022-11-09T17:43:47.759Z"
   },
   {
    "duration": 0,
    "start_time": "2022-11-09T17:43:47.760Z"
   },
   {
    "duration": 0,
    "start_time": "2022-11-09T17:43:47.762Z"
   },
   {
    "duration": 0,
    "start_time": "2022-11-09T17:43:47.763Z"
   },
   {
    "duration": 0,
    "start_time": "2022-11-09T17:43:47.765Z"
   },
   {
    "duration": 0,
    "start_time": "2022-11-09T17:43:47.767Z"
   },
   {
    "duration": 0,
    "start_time": "2022-11-09T17:43:47.768Z"
   },
   {
    "duration": 0,
    "start_time": "2022-11-09T17:43:47.769Z"
   },
   {
    "duration": 1,
    "start_time": "2022-11-09T17:43:47.770Z"
   },
   {
    "duration": 0,
    "start_time": "2022-11-09T17:43:47.771Z"
   },
   {
    "duration": 0,
    "start_time": "2022-11-09T17:43:47.773Z"
   },
   {
    "duration": 0,
    "start_time": "2022-11-09T17:43:47.774Z"
   },
   {
    "duration": 96,
    "start_time": "2022-11-09T17:43:47.786Z"
   },
   {
    "duration": 0,
    "start_time": "2022-11-09T17:43:47.885Z"
   },
   {
    "duration": 0,
    "start_time": "2022-11-09T17:43:47.887Z"
   },
   {
    "duration": 0,
    "start_time": "2022-11-09T17:43:47.888Z"
   },
   {
    "duration": 0,
    "start_time": "2022-11-09T17:43:47.891Z"
   },
   {
    "duration": 0,
    "start_time": "2022-11-09T17:43:47.892Z"
   },
   {
    "duration": 0,
    "start_time": "2022-11-09T17:43:47.894Z"
   },
   {
    "duration": 0,
    "start_time": "2022-11-09T17:43:47.896Z"
   },
   {
    "duration": 0,
    "start_time": "2022-11-09T17:43:47.897Z"
   },
   {
    "duration": 0,
    "start_time": "2022-11-09T17:43:47.899Z"
   },
   {
    "duration": 0,
    "start_time": "2022-11-09T17:43:47.900Z"
   },
   {
    "duration": 0,
    "start_time": "2022-11-09T17:43:47.902Z"
   },
   {
    "duration": 0,
    "start_time": "2022-11-09T17:43:47.903Z"
   },
   {
    "duration": 51,
    "start_time": "2022-11-09T17:44:29.286Z"
   },
   {
    "duration": 1211,
    "start_time": "2022-11-09T17:44:54.550Z"
   },
   {
    "duration": 1078,
    "start_time": "2022-11-09T17:44:55.763Z"
   },
   {
    "duration": 16,
    "start_time": "2022-11-09T17:44:56.842Z"
   },
   {
    "duration": 13,
    "start_time": "2022-11-09T17:44:56.859Z"
   },
   {
    "duration": 3,
    "start_time": "2022-11-09T17:44:56.874Z"
   },
   {
    "duration": 6,
    "start_time": "2022-11-09T17:44:56.879Z"
   },
   {
    "duration": 10,
    "start_time": "2022-11-09T17:44:56.886Z"
   },
   {
    "duration": 49,
    "start_time": "2022-11-09T17:44:56.897Z"
   },
   {
    "duration": 14,
    "start_time": "2022-11-09T17:44:56.948Z"
   },
   {
    "duration": 12,
    "start_time": "2022-11-09T17:44:56.963Z"
   },
   {
    "duration": 18,
    "start_time": "2022-11-09T17:44:56.976Z"
   },
   {
    "duration": 14,
    "start_time": "2022-11-09T17:44:56.995Z"
   },
   {
    "duration": 9,
    "start_time": "2022-11-09T17:44:57.010Z"
   },
   {
    "duration": 38,
    "start_time": "2022-11-09T17:44:57.022Z"
   },
   {
    "duration": 140,
    "start_time": "2022-11-09T17:44:57.062Z"
   },
   {
    "duration": 430,
    "start_time": "2022-11-09T17:44:57.204Z"
   },
   {
    "duration": 203,
    "start_time": "2022-11-09T17:44:57.636Z"
   },
   {
    "duration": 182,
    "start_time": "2022-11-09T17:44:57.841Z"
   },
   {
    "duration": 486,
    "start_time": "2022-11-09T17:44:58.025Z"
   },
   {
    "duration": 294,
    "start_time": "2022-11-09T17:44:58.513Z"
   },
   {
    "duration": 7,
    "start_time": "2022-11-09T17:44:58.809Z"
   },
   {
    "duration": 2120,
    "start_time": "2022-11-09T17:44:58.818Z"
   },
   {
    "duration": 359,
    "start_time": "2022-11-09T17:45:00.940Z"
   },
   {
    "duration": 7,
    "start_time": "2022-11-09T17:45:01.301Z"
   },
   {
    "duration": 207,
    "start_time": "2022-11-09T17:45:01.309Z"
   },
   {
    "duration": 401,
    "start_time": "2022-11-09T17:45:01.517Z"
   },
   {
    "duration": 359,
    "start_time": "2022-11-09T17:45:01.920Z"
   },
   {
    "duration": 5,
    "start_time": "2022-11-09T17:45:02.281Z"
   },
   {
    "duration": 7,
    "start_time": "2022-11-09T17:47:17.585Z"
   },
   {
    "duration": 190,
    "start_time": "2022-11-09T17:47:18.231Z"
   },
   {
    "duration": 16,
    "start_time": "2022-11-09T18:00:20.944Z"
   },
   {
    "duration": 31,
    "start_time": "2022-11-09T18:00:26.467Z"
   },
   {
    "duration": 10,
    "start_time": "2022-11-09T18:09:10.987Z"
   },
   {
    "duration": 22,
    "start_time": "2022-11-09T18:09:13.983Z"
   },
   {
    "duration": 1220,
    "start_time": "2022-11-09T18:10:03.383Z"
   },
   {
    "duration": 1149,
    "start_time": "2022-11-09T18:10:04.605Z"
   },
   {
    "duration": 17,
    "start_time": "2022-11-09T18:10:05.756Z"
   },
   {
    "duration": 14,
    "start_time": "2022-11-09T18:10:05.775Z"
   },
   {
    "duration": 4,
    "start_time": "2022-11-09T18:10:05.791Z"
   },
   {
    "duration": 7,
    "start_time": "2022-11-09T18:10:05.796Z"
   },
   {
    "duration": 30,
    "start_time": "2022-11-09T18:10:05.805Z"
   },
   {
    "duration": 34,
    "start_time": "2022-11-09T18:10:05.837Z"
   },
   {
    "duration": 6,
    "start_time": "2022-11-09T18:10:05.873Z"
   },
   {
    "duration": 25,
    "start_time": "2022-11-09T18:10:05.880Z"
   },
   {
    "duration": 15,
    "start_time": "2022-11-09T18:10:05.907Z"
   },
   {
    "duration": 14,
    "start_time": "2022-11-09T18:10:05.923Z"
   },
   {
    "duration": 11,
    "start_time": "2022-11-09T18:10:05.939Z"
   },
   {
    "duration": 40,
    "start_time": "2022-11-09T18:10:05.953Z"
   },
   {
    "duration": 228,
    "start_time": "2022-11-09T18:10:05.994Z"
   },
   {
    "duration": 471,
    "start_time": "2022-11-09T18:10:06.224Z"
   },
   {
    "duration": 192,
    "start_time": "2022-11-09T18:10:06.696Z"
   },
   {
    "duration": 177,
    "start_time": "2022-11-09T18:10:06.890Z"
   },
   {
    "duration": 449,
    "start_time": "2022-11-09T18:10:07.069Z"
   },
   {
    "duration": 269,
    "start_time": "2022-11-09T18:10:07.519Z"
   },
   {
    "duration": 7,
    "start_time": "2022-11-09T18:10:07.790Z"
   },
   {
    "duration": 2129,
    "start_time": "2022-11-09T18:10:07.799Z"
   },
   {
    "duration": 340,
    "start_time": "2022-11-09T18:10:09.929Z"
   },
   {
    "duration": 7,
    "start_time": "2022-11-09T18:10:10.271Z"
   },
   {
    "duration": 211,
    "start_time": "2022-11-09T18:10:10.281Z"
   },
   {
    "duration": 7,
    "start_time": "2022-11-09T18:10:10.494Z"
   },
   {
    "duration": 366,
    "start_time": "2022-11-09T18:10:10.503Z"
   },
   {
    "duration": 383,
    "start_time": "2022-11-09T18:10:10.871Z"
   },
   {
    "duration": 5,
    "start_time": "2022-11-09T18:10:11.255Z"
   },
   {
    "duration": 17,
    "start_time": "2022-11-09T18:10:11.262Z"
   },
   {
    "duration": 27,
    "start_time": "2022-11-09T18:10:11.280Z"
   },
   {
    "duration": 123,
    "start_time": "2022-11-09T18:38:56.924Z"
   },
   {
    "duration": 9,
    "start_time": "2022-11-09T18:39:07.003Z"
   },
   {
    "duration": 3,
    "start_time": "2022-11-09T18:39:30.383Z"
   },
   {
    "duration": 24,
    "start_time": "2022-11-09T18:39:32.394Z"
   },
   {
    "duration": 15,
    "start_time": "2022-11-09T18:45:05.342Z"
   },
   {
    "duration": 19,
    "start_time": "2022-11-09T18:45:05.971Z"
   },
   {
    "duration": 1241,
    "start_time": "2022-11-09T18:45:36.466Z"
   },
   {
    "duration": 1258,
    "start_time": "2022-11-09T18:45:37.709Z"
   },
   {
    "duration": 16,
    "start_time": "2022-11-09T18:45:38.968Z"
   },
   {
    "duration": 34,
    "start_time": "2022-11-09T18:45:38.986Z"
   },
   {
    "duration": 3,
    "start_time": "2022-11-09T18:45:39.022Z"
   },
   {
    "duration": 8,
    "start_time": "2022-11-09T18:45:39.027Z"
   },
   {
    "duration": 10,
    "start_time": "2022-11-09T18:45:39.037Z"
   },
   {
    "duration": 18,
    "start_time": "2022-11-09T18:45:39.049Z"
   },
   {
    "duration": 5,
    "start_time": "2022-11-09T18:45:39.069Z"
   },
   {
    "duration": 8,
    "start_time": "2022-11-09T18:45:39.076Z"
   },
   {
    "duration": 9,
    "start_time": "2022-11-09T18:45:39.086Z"
   },
   {
    "duration": 39,
    "start_time": "2022-11-09T18:45:39.096Z"
   },
   {
    "duration": 11,
    "start_time": "2022-11-09T18:45:39.137Z"
   },
   {
    "duration": 52,
    "start_time": "2022-11-09T18:45:39.149Z"
   },
   {
    "duration": 160,
    "start_time": "2022-11-09T18:45:39.203Z"
   },
   {
    "duration": 425,
    "start_time": "2022-11-09T18:45:39.365Z"
   },
   {
    "duration": 193,
    "start_time": "2022-11-09T18:45:39.792Z"
   },
   {
    "duration": 179,
    "start_time": "2022-11-09T18:45:39.986Z"
   },
   {
    "duration": 441,
    "start_time": "2022-11-09T18:45:40.167Z"
   },
   {
    "duration": 287,
    "start_time": "2022-11-09T18:45:40.610Z"
   },
   {
    "duration": 5,
    "start_time": "2022-11-09T18:45:40.899Z"
   },
   {
    "duration": 2138,
    "start_time": "2022-11-09T18:45:40.906Z"
   },
   {
    "duration": 339,
    "start_time": "2022-11-09T18:45:43.046Z"
   },
   {
    "duration": 7,
    "start_time": "2022-11-09T18:45:43.386Z"
   },
   {
    "duration": 201,
    "start_time": "2022-11-09T18:45:43.395Z"
   },
   {
    "duration": 7,
    "start_time": "2022-11-09T18:45:43.597Z"
   },
   {
    "duration": 323,
    "start_time": "2022-11-09T18:45:43.605Z"
   },
   {
    "duration": 355,
    "start_time": "2022-11-09T18:45:43.935Z"
   },
   {
    "duration": 5,
    "start_time": "2022-11-09T18:45:44.292Z"
   },
   {
    "duration": 17,
    "start_time": "2022-11-09T18:45:44.298Z"
   },
   {
    "duration": 18,
    "start_time": "2022-11-09T18:45:44.317Z"
   },
   {
    "duration": 20,
    "start_time": "2022-11-09T18:45:44.337Z"
   },
   {
    "duration": 1081,
    "start_time": "2022-11-09T18:47:51.833Z"
   },
   {
    "duration": 1419,
    "start_time": "2022-11-12T07:53:21.935Z"
   },
   {
    "duration": 1320,
    "start_time": "2022-11-12T07:53:23.356Z"
   },
   {
    "duration": 16,
    "start_time": "2022-11-12T07:53:24.678Z"
   },
   {
    "duration": 12,
    "start_time": "2022-11-12T07:53:24.696Z"
   },
   {
    "duration": 3,
    "start_time": "2022-11-12T07:53:24.710Z"
   },
   {
    "duration": 12,
    "start_time": "2022-11-12T07:53:24.715Z"
   },
   {
    "duration": 12,
    "start_time": "2022-11-12T07:53:24.729Z"
   },
   {
    "duration": 44,
    "start_time": "2022-11-12T07:53:24.742Z"
   },
   {
    "duration": 5,
    "start_time": "2022-11-12T07:53:24.788Z"
   },
   {
    "duration": 9,
    "start_time": "2022-11-12T07:53:24.794Z"
   },
   {
    "duration": 7,
    "start_time": "2022-11-12T07:53:24.805Z"
   },
   {
    "duration": 11,
    "start_time": "2022-11-12T07:53:24.813Z"
   },
   {
    "duration": 8,
    "start_time": "2022-11-12T07:53:24.826Z"
   },
   {
    "duration": 67,
    "start_time": "2022-11-12T07:53:24.838Z"
   },
   {
    "duration": 162,
    "start_time": "2022-11-12T07:53:24.907Z"
   },
   {
    "duration": 401,
    "start_time": "2022-11-12T07:53:25.070Z"
   },
   {
    "duration": 184,
    "start_time": "2022-11-12T07:53:25.472Z"
   },
   {
    "duration": 175,
    "start_time": "2022-11-12T07:53:25.658Z"
   },
   {
    "duration": 454,
    "start_time": "2022-11-12T07:53:25.834Z"
   },
   {
    "duration": 272,
    "start_time": "2022-11-12T07:53:26.290Z"
   },
   {
    "duration": 5,
    "start_time": "2022-11-12T07:53:26.564Z"
   },
   {
    "duration": 2211,
    "start_time": "2022-11-12T07:53:26.571Z"
   },
   {
    "duration": 353,
    "start_time": "2022-11-12T07:53:28.785Z"
   },
   {
    "duration": 6,
    "start_time": "2022-11-12T07:53:29.139Z"
   },
   {
    "duration": 201,
    "start_time": "2022-11-12T07:53:29.147Z"
   },
   {
    "duration": 7,
    "start_time": "2022-11-12T07:53:29.349Z"
   },
   {
    "duration": 345,
    "start_time": "2022-11-12T07:53:29.357Z"
   },
   {
    "duration": 386,
    "start_time": "2022-11-12T07:53:29.704Z"
   },
   {
    "duration": 5,
    "start_time": "2022-11-12T07:53:30.092Z"
   },
   {
    "duration": 54,
    "start_time": "2022-11-12T07:53:30.099Z"
   },
   {
    "duration": 22,
    "start_time": "2022-11-12T07:53:30.154Z"
   },
   {
    "duration": 53,
    "start_time": "2022-11-12T07:53:30.178Z"
   },
   {
    "duration": 1130,
    "start_time": "2022-11-12T07:53:30.233Z"
   },
   {
    "duration": 835,
    "start_time": "2022-11-12T09:09:07.405Z"
   },
   {
    "duration": 1230,
    "start_time": "2022-11-12T09:11:00.547Z"
   },
   {
    "duration": 1304,
    "start_time": "2022-11-12T09:11:01.779Z"
   },
   {
    "duration": 15,
    "start_time": "2022-11-12T09:11:03.085Z"
   },
   {
    "duration": 12,
    "start_time": "2022-11-12T09:11:03.102Z"
   },
   {
    "duration": 2,
    "start_time": "2022-11-12T09:11:03.116Z"
   },
   {
    "duration": 9,
    "start_time": "2022-11-12T09:11:03.120Z"
   },
   {
    "duration": 14,
    "start_time": "2022-11-12T09:11:03.131Z"
   },
   {
    "duration": 36,
    "start_time": "2022-11-12T09:11:03.147Z"
   },
   {
    "duration": 5,
    "start_time": "2022-11-12T09:11:03.185Z"
   },
   {
    "duration": 8,
    "start_time": "2022-11-12T09:11:03.192Z"
   },
   {
    "duration": 17,
    "start_time": "2022-11-12T09:11:03.202Z"
   },
   {
    "duration": 9,
    "start_time": "2022-11-12T09:11:03.221Z"
   },
   {
    "duration": 22,
    "start_time": "2022-11-12T09:11:03.232Z"
   },
   {
    "duration": 45,
    "start_time": "2022-11-12T09:11:03.255Z"
   },
   {
    "duration": 136,
    "start_time": "2022-11-12T09:11:03.302Z"
   },
   {
    "duration": 424,
    "start_time": "2022-11-12T09:11:03.440Z"
   },
   {
    "duration": 187,
    "start_time": "2022-11-12T09:11:03.865Z"
   },
   {
    "duration": 175,
    "start_time": "2022-11-12T09:11:04.054Z"
   },
   {
    "duration": 467,
    "start_time": "2022-11-12T09:11:04.231Z"
   },
   {
    "duration": 268,
    "start_time": "2022-11-12T09:11:04.700Z"
   },
   {
    "duration": 6,
    "start_time": "2022-11-12T09:11:04.969Z"
   },
   {
    "duration": 2308,
    "start_time": "2022-11-12T09:11:04.977Z"
   },
   {
    "duration": 352,
    "start_time": "2022-11-12T09:11:07.286Z"
   },
   {
    "duration": 7,
    "start_time": "2022-11-12T09:11:07.640Z"
   },
   {
    "duration": 187,
    "start_time": "2022-11-12T09:11:07.649Z"
   },
   {
    "duration": 6,
    "start_time": "2022-11-12T09:11:07.838Z"
   },
   {
    "duration": 327,
    "start_time": "2022-11-12T09:11:07.845Z"
   },
   {
    "duration": 368,
    "start_time": "2022-11-12T09:11:08.175Z"
   },
   {
    "duration": 54,
    "start_time": "2022-11-12T09:11:08.545Z"
   },
   {
    "duration": 0,
    "start_time": "2022-11-12T09:11:08.601Z"
   },
   {
    "duration": 0,
    "start_time": "2022-11-12T09:11:08.602Z"
   },
   {
    "duration": 0,
    "start_time": "2022-11-12T09:11:08.603Z"
   },
   {
    "duration": 0,
    "start_time": "2022-11-12T09:11:08.604Z"
   },
   {
    "duration": 0,
    "start_time": "2022-11-12T09:11:08.605Z"
   },
   {
    "duration": 0,
    "start_time": "2022-11-12T09:11:08.606Z"
   },
   {
    "duration": 933,
    "start_time": "2022-11-12T09:11:28.095Z"
   },
   {
    "duration": 5,
    "start_time": "2022-11-12T09:12:47.170Z"
   },
   {
    "duration": 6,
    "start_time": "2022-11-12T09:12:53.905Z"
   },
   {
    "duration": 273,
    "start_time": "2022-11-12T09:50:06.044Z"
   },
   {
    "duration": 54,
    "start_time": "2022-11-12T09:50:19.305Z"
   },
   {
    "duration": 14,
    "start_time": "2022-11-12T09:51:54.525Z"
   },
   {
    "duration": 9,
    "start_time": "2022-11-12T09:52:13.234Z"
   },
   {
    "duration": 25,
    "start_time": "2022-11-12T10:00:31.025Z"
   },
   {
    "duration": 9,
    "start_time": "2022-11-12T10:04:56.947Z"
   },
   {
    "duration": 1288,
    "start_time": "2022-11-12T10:05:34.634Z"
   },
   {
    "duration": 1173,
    "start_time": "2022-11-12T10:05:35.924Z"
   },
   {
    "duration": 16,
    "start_time": "2022-11-12T10:05:37.098Z"
   },
   {
    "duration": 13,
    "start_time": "2022-11-12T10:05:37.115Z"
   },
   {
    "duration": 3,
    "start_time": "2022-11-12T10:05:37.130Z"
   },
   {
    "duration": 5,
    "start_time": "2022-11-12T10:05:37.135Z"
   },
   {
    "duration": 27,
    "start_time": "2022-11-12T10:05:37.142Z"
   },
   {
    "duration": 19,
    "start_time": "2022-11-12T10:05:37.170Z"
   },
   {
    "duration": 5,
    "start_time": "2022-11-12T10:05:37.191Z"
   },
   {
    "duration": 12,
    "start_time": "2022-11-12T10:05:37.199Z"
   },
   {
    "duration": 8,
    "start_time": "2022-11-12T10:05:37.213Z"
   },
   {
    "duration": 10,
    "start_time": "2022-11-12T10:05:37.223Z"
   },
   {
    "duration": 38,
    "start_time": "2022-11-12T10:05:37.234Z"
   },
   {
    "duration": 40,
    "start_time": "2022-11-12T10:05:37.275Z"
   },
   {
    "duration": 154,
    "start_time": "2022-11-12T10:05:37.317Z"
   },
   {
    "duration": 478,
    "start_time": "2022-11-12T10:05:37.472Z"
   },
   {
    "duration": 194,
    "start_time": "2022-11-12T10:05:37.952Z"
   },
   {
    "duration": 184,
    "start_time": "2022-11-12T10:05:38.148Z"
   },
   {
    "duration": 460,
    "start_time": "2022-11-12T10:05:38.334Z"
   },
   {
    "duration": 298,
    "start_time": "2022-11-12T10:05:38.796Z"
   },
   {
    "duration": 6,
    "start_time": "2022-11-12T10:05:39.096Z"
   },
   {
    "duration": 2316,
    "start_time": "2022-11-12T10:05:39.104Z"
   },
   {
    "duration": 356,
    "start_time": "2022-11-12T10:05:41.422Z"
   },
   {
    "duration": 7,
    "start_time": "2022-11-12T10:05:41.781Z"
   },
   {
    "duration": 202,
    "start_time": "2022-11-12T10:05:41.790Z"
   },
   {
    "duration": 7,
    "start_time": "2022-11-12T10:05:41.994Z"
   },
   {
    "duration": 347,
    "start_time": "2022-11-12T10:05:42.003Z"
   },
   {
    "duration": 395,
    "start_time": "2022-11-12T10:05:42.353Z"
   },
   {
    "duration": 51,
    "start_time": "2022-11-12T10:05:42.750Z"
   },
   {
    "duration": 0,
    "start_time": "2022-11-12T10:05:42.803Z"
   },
   {
    "duration": 0,
    "start_time": "2022-11-12T10:05:42.804Z"
   },
   {
    "duration": 0,
    "start_time": "2022-11-12T10:05:42.805Z"
   },
   {
    "duration": 0,
    "start_time": "2022-11-12T10:05:42.806Z"
   },
   {
    "duration": 0,
    "start_time": "2022-11-12T10:05:42.807Z"
   },
   {
    "duration": 0,
    "start_time": "2022-11-12T10:05:42.809Z"
   },
   {
    "duration": 0,
    "start_time": "2022-11-12T10:05:42.810Z"
   },
   {
    "duration": 21,
    "start_time": "2022-11-12T10:05:53.549Z"
   },
   {
    "duration": 5,
    "start_time": "2022-11-12T10:05:54.185Z"
   },
   {
    "duration": 5,
    "start_time": "2022-11-12T11:12:39.968Z"
   },
   {
    "duration": 5,
    "start_time": "2022-11-12T11:12:40.486Z"
   },
   {
    "duration": 9,
    "start_time": "2022-11-12T13:51:21.283Z"
   },
   {
    "duration": 19,
    "start_time": "2022-11-12T13:51:47.303Z"
   },
   {
    "duration": 9,
    "start_time": "2022-11-12T13:51:48.163Z"
   },
   {
    "duration": 8,
    "start_time": "2022-11-12T13:52:50.112Z"
   },
   {
    "duration": 12,
    "start_time": "2022-11-12T13:52:50.984Z"
   },
   {
    "duration": 1284,
    "start_time": "2022-11-12T13:52:58.463Z"
   },
   {
    "duration": 1323,
    "start_time": "2022-11-12T13:52:59.749Z"
   },
   {
    "duration": 16,
    "start_time": "2022-11-12T13:53:01.074Z"
   },
   {
    "duration": 27,
    "start_time": "2022-11-12T13:53:01.092Z"
   },
   {
    "duration": 7,
    "start_time": "2022-11-12T13:53:01.121Z"
   },
   {
    "duration": 11,
    "start_time": "2022-11-12T13:53:01.129Z"
   },
   {
    "duration": 29,
    "start_time": "2022-11-12T13:53:01.142Z"
   },
   {
    "duration": 42,
    "start_time": "2022-11-12T13:53:01.173Z"
   },
   {
    "duration": 5,
    "start_time": "2022-11-12T13:53:01.217Z"
   },
   {
    "duration": 13,
    "start_time": "2022-11-12T13:53:01.225Z"
   },
   {
    "duration": 13,
    "start_time": "2022-11-12T13:53:01.239Z"
   },
   {
    "duration": 13,
    "start_time": "2022-11-12T13:53:01.253Z"
   },
   {
    "duration": 10,
    "start_time": "2022-11-12T13:53:01.267Z"
   },
   {
    "duration": 43,
    "start_time": "2022-11-12T13:53:01.279Z"
   },
   {
    "duration": 141,
    "start_time": "2022-11-12T13:53:01.324Z"
   },
   {
    "duration": 425,
    "start_time": "2022-11-12T13:53:01.467Z"
   },
   {
    "duration": 188,
    "start_time": "2022-11-12T13:53:01.894Z"
   },
   {
    "duration": 192,
    "start_time": "2022-11-12T13:53:02.084Z"
   },
   {
    "duration": 445,
    "start_time": "2022-11-12T13:53:02.279Z"
   },
   {
    "duration": 265,
    "start_time": "2022-11-12T13:53:02.725Z"
   },
   {
    "duration": 5,
    "start_time": "2022-11-12T13:53:02.992Z"
   },
   {
    "duration": 2210,
    "start_time": "2022-11-12T13:53:02.998Z"
   },
   {
    "duration": 353,
    "start_time": "2022-11-12T13:53:05.210Z"
   },
   {
    "duration": 7,
    "start_time": "2022-11-12T13:53:05.567Z"
   },
   {
    "duration": 192,
    "start_time": "2022-11-12T13:53:05.576Z"
   },
   {
    "duration": 6,
    "start_time": "2022-11-12T13:53:05.771Z"
   },
   {
    "duration": 371,
    "start_time": "2022-11-12T13:53:05.778Z"
   },
   {
    "duration": 408,
    "start_time": "2022-11-12T13:53:06.153Z"
   },
   {
    "duration": 52,
    "start_time": "2022-11-12T13:53:06.562Z"
   },
   {
    "duration": 0,
    "start_time": "2022-11-12T13:53:06.616Z"
   },
   {
    "duration": 0,
    "start_time": "2022-11-12T13:53:06.617Z"
   },
   {
    "duration": 0,
    "start_time": "2022-11-12T13:53:06.618Z"
   },
   {
    "duration": 0,
    "start_time": "2022-11-12T13:53:06.620Z"
   },
   {
    "duration": 0,
    "start_time": "2022-11-12T13:53:06.621Z"
   },
   {
    "duration": 0,
    "start_time": "2022-11-12T13:53:06.623Z"
   },
   {
    "duration": 0,
    "start_time": "2022-11-12T13:53:06.624Z"
   },
   {
    "duration": 0,
    "start_time": "2022-11-12T13:53:06.625Z"
   },
   {
    "duration": 0,
    "start_time": "2022-11-12T13:53:06.626Z"
   },
   {
    "duration": 8,
    "start_time": "2022-11-12T13:53:11.342Z"
   },
   {
    "duration": 126,
    "start_time": "2022-11-12T13:53:11.813Z"
   },
   {
    "duration": 9,
    "start_time": "2022-11-12T13:53:35.413Z"
   },
   {
    "duration": 21,
    "start_time": "2022-11-12T14:09:29.114Z"
   },
   {
    "duration": 5,
    "start_time": "2022-11-12T14:09:29.541Z"
   },
   {
    "duration": 19,
    "start_time": "2022-11-12T14:10:35.883Z"
   },
   {
    "duration": 5,
    "start_time": "2022-11-12T14:10:36.484Z"
   },
   {
    "duration": 29,
    "start_time": "2022-11-12T14:12:03.934Z"
   },
   {
    "duration": 6,
    "start_time": "2022-11-12T14:12:04.491Z"
   },
   {
    "duration": 711,
    "start_time": "2022-11-12T14:17:48.053Z"
   },
   {
    "duration": 0,
    "start_time": "2022-11-12T14:17:48.766Z"
   },
   {
    "duration": 7,
    "start_time": "2022-11-12T14:18:03.493Z"
   },
   {
    "duration": 6,
    "start_time": "2022-11-12T14:18:04.101Z"
   },
   {
    "duration": 7,
    "start_time": "2022-11-12T14:18:37.441Z"
   },
   {
    "duration": 10,
    "start_time": "2022-11-12T14:18:37.963Z"
   },
   {
    "duration": 71,
    "start_time": "2022-11-12T14:27:22.663Z"
   },
   {
    "duration": 20,
    "start_time": "2022-11-12T14:27:43.551Z"
   },
   {
    "duration": 17,
    "start_time": "2022-11-12T14:28:00.164Z"
   },
   {
    "duration": 4,
    "start_time": "2022-11-12T14:28:00.804Z"
   },
   {
    "duration": 27,
    "start_time": "2022-11-12T14:28:12.784Z"
   },
   {
    "duration": 20,
    "start_time": "2022-11-12T14:28:35.484Z"
   },
   {
    "duration": 11,
    "start_time": "2022-11-12T14:28:36.154Z"
   },
   {
    "duration": 6,
    "start_time": "2022-11-12T14:29:00.476Z"
   },
   {
    "duration": 5,
    "start_time": "2022-11-12T14:41:08.739Z"
   },
   {
    "duration": 568,
    "start_time": "2022-11-12T15:24:41.293Z"
   },
   {
    "duration": 385,
    "start_time": "2022-11-12T20:08:04.253Z"
   },
   {
    "duration": 13,
    "start_time": "2022-11-12T20:45:12.964Z"
   },
   {
    "duration": 13,
    "start_time": "2022-11-12T20:45:13.713Z"
   },
   {
    "duration": 31,
    "start_time": "2022-11-12T20:45:14.404Z"
   },
   {
    "duration": 1037,
    "start_time": "2022-11-12T20:45:32.794Z"
   },
   {
    "duration": 21,
    "start_time": "2022-11-12T20:55:47.324Z"
   },
   {
    "duration": 47,
    "start_time": "2022-11-13T06:47:57.328Z"
   },
   {
    "duration": 1472,
    "start_time": "2022-11-13T06:48:03.367Z"
   },
   {
    "duration": 1367,
    "start_time": "2022-11-13T06:48:04.841Z"
   },
   {
    "duration": 17,
    "start_time": "2022-11-13T06:48:06.210Z"
   },
   {
    "duration": 13,
    "start_time": "2022-11-13T06:48:06.229Z"
   },
   {
    "duration": 3,
    "start_time": "2022-11-13T06:48:06.244Z"
   },
   {
    "duration": 12,
    "start_time": "2022-11-13T06:48:06.249Z"
   },
   {
    "duration": 13,
    "start_time": "2022-11-13T06:48:06.263Z"
   },
   {
    "duration": 43,
    "start_time": "2022-11-13T06:48:06.278Z"
   },
   {
    "duration": 6,
    "start_time": "2022-11-13T06:48:06.323Z"
   },
   {
    "duration": 15,
    "start_time": "2022-11-13T06:48:06.333Z"
   },
   {
    "duration": 24,
    "start_time": "2022-11-13T06:48:06.350Z"
   },
   {
    "duration": 21,
    "start_time": "2022-11-13T06:48:06.376Z"
   },
   {
    "duration": 11,
    "start_time": "2022-11-13T06:48:06.399Z"
   },
   {
    "duration": 50,
    "start_time": "2022-11-13T06:48:06.414Z"
   },
   {
    "duration": 185,
    "start_time": "2022-11-13T06:48:06.466Z"
   },
   {
    "duration": 400,
    "start_time": "2022-11-13T06:48:06.653Z"
   },
   {
    "duration": 187,
    "start_time": "2022-11-13T06:48:07.055Z"
   },
   {
    "duration": 171,
    "start_time": "2022-11-13T06:48:07.244Z"
   },
   {
    "duration": 427,
    "start_time": "2022-11-13T06:48:07.418Z"
   },
   {
    "duration": 273,
    "start_time": "2022-11-13T06:48:07.847Z"
   },
   {
    "duration": 5,
    "start_time": "2022-11-13T06:48:08.122Z"
   },
   {
    "duration": 2072,
    "start_time": "2022-11-13T06:48:08.129Z"
   },
   {
    "duration": 372,
    "start_time": "2022-11-13T06:48:10.203Z"
   },
   {
    "duration": 47,
    "start_time": "2022-11-13T06:48:10.577Z"
   },
   {
    "duration": 0,
    "start_time": "2022-11-13T06:48:10.626Z"
   },
   {
    "duration": 0,
    "start_time": "2022-11-13T06:48:10.627Z"
   },
   {
    "duration": 0,
    "start_time": "2022-11-13T06:48:10.629Z"
   },
   {
    "duration": 0,
    "start_time": "2022-11-13T06:48:10.631Z"
   },
   {
    "duration": 0,
    "start_time": "2022-11-13T06:48:10.632Z"
   },
   {
    "duration": 0,
    "start_time": "2022-11-13T06:48:10.633Z"
   },
   {
    "duration": 0,
    "start_time": "2022-11-13T06:48:10.635Z"
   },
   {
    "duration": 0,
    "start_time": "2022-11-13T06:48:10.636Z"
   },
   {
    "duration": 0,
    "start_time": "2022-11-13T06:48:10.638Z"
   },
   {
    "duration": 0,
    "start_time": "2022-11-13T06:48:10.639Z"
   },
   {
    "duration": 0,
    "start_time": "2022-11-13T06:48:10.641Z"
   },
   {
    "duration": 0,
    "start_time": "2022-11-13T06:48:10.642Z"
   },
   {
    "duration": 0,
    "start_time": "2022-11-13T06:48:10.644Z"
   },
   {
    "duration": 6,
    "start_time": "2022-11-13T06:54:30.891Z"
   },
   {
    "duration": 188,
    "start_time": "2022-11-13T06:54:31.373Z"
   },
   {
    "duration": 2336,
    "start_time": "2022-11-13T06:58:30.645Z"
   },
   {
    "duration": 2229,
    "start_time": "2022-11-13T06:58:44.546Z"
   },
   {
    "duration": 14,
    "start_time": "2022-11-13T07:01:14.545Z"
   },
   {
    "duration": 10,
    "start_time": "2022-11-13T07:01:15.036Z"
   },
   {
    "duration": 24,
    "start_time": "2022-11-13T07:01:15.706Z"
   },
   {
    "duration": 1440,
    "start_time": "2022-11-13T07:01:16.447Z"
   },
   {
    "duration": 49,
    "start_time": "2022-11-13T07:08:02.076Z"
   },
   {
    "duration": 1198,
    "start_time": "2022-11-13T07:08:12.706Z"
   },
   {
    "duration": 1218,
    "start_time": "2022-11-13T07:09:03.686Z"
   },
   {
    "duration": 1232,
    "start_time": "2022-11-13T07:09:26.855Z"
   },
   {
    "duration": 1166,
    "start_time": "2022-11-13T07:10:01.455Z"
   },
   {
    "duration": 1394,
    "start_time": "2022-11-13T07:26:17.452Z"
   },
   {
    "duration": 1198,
    "start_time": "2022-11-13T07:26:42.106Z"
   },
   {
    "duration": 1255,
    "start_time": "2022-11-13T07:27:01.766Z"
   },
   {
    "duration": 5,
    "start_time": "2022-11-13T08:22:15.911Z"
   },
   {
    "duration": 112,
    "start_time": "2022-11-13T08:22:57.449Z"
   },
   {
    "duration": 21,
    "start_time": "2022-11-13T08:27:53.571Z"
   },
   {
    "duration": 0,
    "start_time": "2022-11-13T08:35:46.065Z"
   },
   {
    "duration": 64,
    "start_time": "2022-11-13T08:36:42.622Z"
   },
   {
    "duration": 8,
    "start_time": "2022-11-13T08:54:05.882Z"
   },
   {
    "duration": 4193,
    "start_time": "2022-11-13T08:54:08.929Z"
   },
   {
    "duration": 30,
    "start_time": "2022-11-13T08:54:13.124Z"
   },
   {
    "duration": 8,
    "start_time": "2022-11-13T08:54:50.724Z"
   },
   {
    "duration": 21,
    "start_time": "2022-11-13T08:55:03.740Z"
   },
   {
    "duration": 29,
    "start_time": "2022-11-13T08:56:42.060Z"
   },
   {
    "duration": 3,
    "start_time": "2022-11-13T08:58:59.779Z"
   },
   {
    "duration": 7,
    "start_time": "2022-11-13T08:59:25.953Z"
   },
   {
    "duration": 39,
    "start_time": "2022-11-13T09:00:51.571Z"
   },
   {
    "duration": 39,
    "start_time": "2022-11-13T09:01:06.621Z"
   },
   {
    "duration": 6,
    "start_time": "2022-11-13T09:12:12.044Z"
   },
   {
    "duration": 10,
    "start_time": "2022-11-13T09:12:12.617Z"
   },
   {
    "duration": 14,
    "start_time": "2022-11-13T09:12:36.421Z"
   },
   {
    "duration": 5,
    "start_time": "2022-11-13T09:13:26.884Z"
   },
   {
    "duration": 6,
    "start_time": "2022-11-13T09:13:27.495Z"
   },
   {
    "duration": 13,
    "start_time": "2022-11-13T09:13:28.054Z"
   },
   {
    "duration": 13,
    "start_time": "2022-11-13T09:13:29.145Z"
   },
   {
    "duration": 23,
    "start_time": "2022-11-13T09:16:24.584Z"
   },
   {
    "duration": 1249,
    "start_time": "2022-11-13T09:17:12.364Z"
   },
   {
    "duration": 1292,
    "start_time": "2022-11-13T09:17:13.616Z"
   },
   {
    "duration": 15,
    "start_time": "2022-11-13T09:17:14.910Z"
   },
   {
    "duration": 12,
    "start_time": "2022-11-13T09:17:14.927Z"
   },
   {
    "duration": 2,
    "start_time": "2022-11-13T09:17:14.942Z"
   },
   {
    "duration": 7,
    "start_time": "2022-11-13T09:17:14.946Z"
   },
   {
    "duration": 18,
    "start_time": "2022-11-13T09:17:14.954Z"
   },
   {
    "duration": 24,
    "start_time": "2022-11-13T09:17:14.974Z"
   },
   {
    "duration": 25,
    "start_time": "2022-11-13T09:17:14.999Z"
   },
   {
    "duration": 21,
    "start_time": "2022-11-13T09:17:15.026Z"
   },
   {
    "duration": 18,
    "start_time": "2022-11-13T09:17:15.049Z"
   },
   {
    "duration": 25,
    "start_time": "2022-11-13T09:17:15.069Z"
   },
   {
    "duration": 13,
    "start_time": "2022-11-13T09:17:15.095Z"
   },
   {
    "duration": 37,
    "start_time": "2022-11-13T09:17:15.111Z"
   },
   {
    "duration": 160,
    "start_time": "2022-11-13T09:17:15.149Z"
   },
   {
    "duration": 380,
    "start_time": "2022-11-13T09:17:15.311Z"
   },
   {
    "duration": 198,
    "start_time": "2022-11-13T09:17:15.692Z"
   },
   {
    "duration": 192,
    "start_time": "2022-11-13T09:17:15.892Z"
   },
   {
    "duration": 487,
    "start_time": "2022-11-13T09:17:16.086Z"
   },
   {
    "duration": 274,
    "start_time": "2022-11-13T09:17:16.575Z"
   },
   {
    "duration": 5,
    "start_time": "2022-11-13T09:17:16.851Z"
   },
   {
    "duration": 2200,
    "start_time": "2022-11-13T09:17:16.857Z"
   },
   {
    "duration": 368,
    "start_time": "2022-11-13T09:17:19.059Z"
   },
   {
    "duration": 6,
    "start_time": "2022-11-13T09:17:19.429Z"
   },
   {
    "duration": 205,
    "start_time": "2022-11-13T09:17:19.436Z"
   },
   {
    "duration": 5,
    "start_time": "2022-11-13T09:17:19.643Z"
   },
   {
    "duration": 342,
    "start_time": "2022-11-13T09:17:19.650Z"
   },
   {
    "duration": 371,
    "start_time": "2022-11-13T09:17:19.994Z"
   },
   {
    "duration": 5,
    "start_time": "2022-11-13T09:17:20.366Z"
   },
   {
    "duration": 15,
    "start_time": "2022-11-13T09:17:20.373Z"
   },
   {
    "duration": 5,
    "start_time": "2022-11-13T09:17:20.390Z"
   },
   {
    "duration": 1278,
    "start_time": "2022-11-13T09:17:20.396Z"
   },
   {
    "duration": 13,
    "start_time": "2022-11-13T09:17:21.677Z"
   },
   {
    "duration": 47,
    "start_time": "2022-11-13T09:17:21.692Z"
   },
   {
    "duration": 39,
    "start_time": "2022-11-13T09:17:21.741Z"
   },
   {
    "duration": 945,
    "start_time": "2022-11-13T09:17:21.782Z"
   },
   {
    "duration": 21,
    "start_time": "2022-11-13T09:17:22.728Z"
   },
   {
    "duration": 6,
    "start_time": "2022-11-13T09:17:22.751Z"
   },
   {
    "duration": 172,
    "start_time": "2022-11-13T09:17:22.759Z"
   },
   {
    "duration": 5,
    "start_time": "2022-11-13T09:17:22.932Z"
   },
   {
    "duration": 5,
    "start_time": "2022-11-13T09:25:44.375Z"
   },
   {
    "duration": 4,
    "start_time": "2022-11-13T09:26:11.667Z"
   },
   {
    "duration": 5,
    "start_time": "2022-11-13T09:26:12.244Z"
   },
   {
    "duration": 5,
    "start_time": "2022-11-13T09:26:13.095Z"
   },
   {
    "duration": 1141,
    "start_time": "2022-11-13T09:26:13.883Z"
   },
   {
    "duration": 45,
    "start_time": "2022-11-13T09:27:26.232Z"
   },
   {
    "duration": 4,
    "start_time": "2022-11-13T09:27:38.624Z"
   },
   {
    "duration": 4,
    "start_time": "2022-11-13T09:27:43.014Z"
   },
   {
    "duration": 6,
    "start_time": "2022-11-13T09:27:43.662Z"
   },
   {
    "duration": 4,
    "start_time": "2022-11-13T09:27:44.294Z"
   },
   {
    "duration": 254,
    "start_time": "2022-11-13T09:27:45.085Z"
   },
   {
    "duration": 4,
    "start_time": "2022-11-13T09:29:05.442Z"
   },
   {
    "duration": 6,
    "start_time": "2022-11-13T09:29:05.734Z"
   },
   {
    "duration": 5,
    "start_time": "2022-11-13T09:29:05.995Z"
   },
   {
    "duration": 175,
    "start_time": "2022-11-13T09:29:06.324Z"
   },
   {
    "duration": 1272,
    "start_time": "2022-11-13T09:29:47.782Z"
   },
   {
    "duration": 5,
    "start_time": "2022-11-13T09:34:11.482Z"
   },
   {
    "duration": 3,
    "start_time": "2022-11-13T09:35:26.354Z"
   },
   {
    "duration": 4,
    "start_time": "2022-11-13T09:35:35.346Z"
   },
   {
    "duration": 5,
    "start_time": "2022-11-13T09:36:17.259Z"
   },
   {
    "duration": 4,
    "start_time": "2022-11-13T09:36:17.922Z"
   },
   {
    "duration": 6,
    "start_time": "2022-11-13T09:36:18.692Z"
   },
   {
    "duration": 5,
    "start_time": "2022-11-13T09:36:19.171Z"
   },
   {
    "duration": 156,
    "start_time": "2022-11-13T09:36:20.844Z"
   },
   {
    "duration": 4,
    "start_time": "2022-11-13T09:40:31.601Z"
   },
   {
    "duration": 3,
    "start_time": "2022-11-13T09:40:50.001Z"
   },
   {
    "duration": 5,
    "start_time": "2022-11-13T09:40:52.711Z"
   },
   {
    "duration": 5,
    "start_time": "2022-11-13T09:40:53.314Z"
   },
   {
    "duration": 5,
    "start_time": "2022-11-13T09:40:54.131Z"
   },
   {
    "duration": 164,
    "start_time": "2022-11-13T09:40:55.013Z"
   },
   {
    "duration": 4,
    "start_time": "2022-11-13T09:45:08.332Z"
   },
   {
    "duration": 5,
    "start_time": "2022-11-13T09:45:11.862Z"
   },
   {
    "duration": 6,
    "start_time": "2022-11-13T09:45:12.409Z"
   },
   {
    "duration": 5,
    "start_time": "2022-11-13T09:45:12.871Z"
   },
   {
    "duration": 18,
    "start_time": "2022-11-13T09:45:13.313Z"
   },
   {
    "duration": 1290,
    "start_time": "2022-11-13T09:45:29.922Z"
   },
   {
    "duration": 1539,
    "start_time": "2022-11-13T09:45:31.214Z"
   },
   {
    "duration": 15,
    "start_time": "2022-11-13T09:45:32.755Z"
   },
   {
    "duration": 13,
    "start_time": "2022-11-13T09:45:32.772Z"
   },
   {
    "duration": 3,
    "start_time": "2022-11-13T09:45:32.786Z"
   },
   {
    "duration": 29,
    "start_time": "2022-11-13T09:45:32.791Z"
   },
   {
    "duration": 26,
    "start_time": "2022-11-13T09:45:32.822Z"
   },
   {
    "duration": 18,
    "start_time": "2022-11-13T09:45:32.851Z"
   },
   {
    "duration": 6,
    "start_time": "2022-11-13T09:45:32.871Z"
   },
   {
    "duration": 6,
    "start_time": "2022-11-13T09:45:32.880Z"
   },
   {
    "duration": 14,
    "start_time": "2022-11-13T09:45:32.888Z"
   },
   {
    "duration": 16,
    "start_time": "2022-11-13T09:45:32.904Z"
   },
   {
    "duration": 9,
    "start_time": "2022-11-13T09:45:32.922Z"
   },
   {
    "duration": 50,
    "start_time": "2022-11-13T09:45:32.932Z"
   },
   {
    "duration": 175,
    "start_time": "2022-11-13T09:45:32.984Z"
   },
   {
    "duration": 421,
    "start_time": "2022-11-13T09:45:33.161Z"
   },
   {
    "duration": 211,
    "start_time": "2022-11-13T09:45:33.583Z"
   },
   {
    "duration": 200,
    "start_time": "2022-11-13T09:45:33.796Z"
   },
   {
    "duration": 493,
    "start_time": "2022-11-13T09:45:33.997Z"
   },
   {
    "duration": 277,
    "start_time": "2022-11-13T09:45:34.492Z"
   },
   {
    "duration": 5,
    "start_time": "2022-11-13T09:45:34.771Z"
   },
   {
    "duration": 2294,
    "start_time": "2022-11-13T09:45:34.778Z"
   },
   {
    "duration": 363,
    "start_time": "2022-11-13T09:45:37.074Z"
   },
   {
    "duration": 6,
    "start_time": "2022-11-13T09:45:37.439Z"
   },
   {
    "duration": 203,
    "start_time": "2022-11-13T09:45:37.447Z"
   },
   {
    "duration": 7,
    "start_time": "2022-11-13T09:45:37.652Z"
   },
   {
    "duration": 348,
    "start_time": "2022-11-13T09:45:37.660Z"
   },
   {
    "duration": 390,
    "start_time": "2022-11-13T09:45:38.012Z"
   },
   {
    "duration": 2,
    "start_time": "2022-11-13T09:45:38.404Z"
   },
   {
    "duration": 15,
    "start_time": "2022-11-13T09:45:38.407Z"
   },
   {
    "duration": 10,
    "start_time": "2022-11-13T09:45:38.423Z"
   },
   {
    "duration": 8,
    "start_time": "2022-11-13T09:45:38.435Z"
   },
   {
    "duration": 13,
    "start_time": "2022-11-13T09:45:38.444Z"
   },
   {
    "duration": 122,
    "start_time": "2022-11-13T09:45:38.459Z"
   },
   {
    "duration": 0,
    "start_time": "2022-11-13T09:45:38.583Z"
   },
   {
    "duration": 0,
    "start_time": "2022-11-13T09:45:38.585Z"
   },
   {
    "duration": 0,
    "start_time": "2022-11-13T09:45:38.586Z"
   },
   {
    "duration": 0,
    "start_time": "2022-11-13T09:45:38.588Z"
   },
   {
    "duration": 0,
    "start_time": "2022-11-13T09:45:38.589Z"
   },
   {
    "duration": 0,
    "start_time": "2022-11-13T09:45:38.590Z"
   },
   {
    "duration": 0,
    "start_time": "2022-11-13T09:45:38.591Z"
   },
   {
    "duration": 0,
    "start_time": "2022-11-13T09:45:38.592Z"
   },
   {
    "duration": 2,
    "start_time": "2022-11-13T09:46:19.392Z"
   },
   {
    "duration": 5,
    "start_time": "2022-11-13T09:46:19.821Z"
   },
   {
    "duration": 6,
    "start_time": "2022-11-13T09:46:20.162Z"
   },
   {
    "duration": 5,
    "start_time": "2022-11-13T09:46:20.792Z"
   },
   {
    "duration": 175,
    "start_time": "2022-11-13T09:46:21.521Z"
   },
   {
    "duration": 43,
    "start_time": "2022-11-13T09:48:14.213Z"
   },
   {
    "duration": 57,
    "start_time": "2022-11-13T09:48:28.522Z"
   },
   {
    "duration": 3,
    "start_time": "2022-11-13T09:48:48.982Z"
   },
   {
    "duration": 45,
    "start_time": "2022-11-13T09:48:50.642Z"
   },
   {
    "duration": 3,
    "start_time": "2022-11-13T09:49:01.991Z"
   },
   {
    "duration": 5,
    "start_time": "2022-11-13T09:49:02.599Z"
   },
   {
    "duration": 6,
    "start_time": "2022-11-13T09:49:03.103Z"
   },
   {
    "duration": 5,
    "start_time": "2022-11-13T09:49:03.571Z"
   },
   {
    "duration": 160,
    "start_time": "2022-11-13T09:49:04.462Z"
   },
   {
    "duration": 10,
    "start_time": "2022-11-13T09:49:52.640Z"
   },
   {
    "duration": 5,
    "start_time": "2022-11-13T09:50:01.852Z"
   },
   {
    "duration": 5,
    "start_time": "2022-11-13T09:51:12.060Z"
   },
   {
    "duration": 4,
    "start_time": "2022-11-13T09:51:13.102Z"
   },
   {
    "duration": 7,
    "start_time": "2022-11-13T09:51:13.810Z"
   },
   {
    "duration": 5,
    "start_time": "2022-11-13T09:51:14.504Z"
   },
   {
    "duration": 1184,
    "start_time": "2022-11-13T09:51:15.362Z"
   },
   {
    "duration": 47,
    "start_time": "2022-11-13T09:52:08.131Z"
   },
   {
    "duration": 12,
    "start_time": "2022-11-13T09:52:21.291Z"
   },
   {
    "duration": 4,
    "start_time": "2022-11-13T09:53:56.223Z"
   },
   {
    "duration": 11351,
    "start_time": "2022-11-13T09:53:57.072Z"
   },
   {
    "duration": 11621,
    "start_time": "2022-11-13T10:01:48.105Z"
   },
   {
    "duration": 11348,
    "start_time": "2022-11-13T10:02:39.711Z"
   },
   {
    "duration": 11668,
    "start_time": "2022-11-13T10:03:35.512Z"
   },
   {
    "duration": 1360,
    "start_time": "2022-11-13T10:04:25.302Z"
   },
   {
    "duration": 1100,
    "start_time": "2022-11-13T10:04:26.664Z"
   },
   {
    "duration": 18,
    "start_time": "2022-11-13T10:04:27.766Z"
   },
   {
    "duration": 13,
    "start_time": "2022-11-13T10:04:27.787Z"
   },
   {
    "duration": 3,
    "start_time": "2022-11-13T10:04:27.801Z"
   },
   {
    "duration": 6,
    "start_time": "2022-11-13T10:04:27.806Z"
   },
   {
    "duration": 15,
    "start_time": "2022-11-13T10:04:27.813Z"
   },
   {
    "duration": 24,
    "start_time": "2022-11-13T10:04:27.829Z"
   },
   {
    "duration": 5,
    "start_time": "2022-11-13T10:04:27.855Z"
   },
   {
    "duration": 13,
    "start_time": "2022-11-13T10:04:27.862Z"
   },
   {
    "duration": 11,
    "start_time": "2022-11-13T10:04:27.877Z"
   },
   {
    "duration": 12,
    "start_time": "2022-11-13T10:04:27.890Z"
   },
   {
    "duration": 20,
    "start_time": "2022-11-13T10:04:27.903Z"
   },
   {
    "duration": 46,
    "start_time": "2022-11-13T10:04:27.926Z"
   },
   {
    "duration": 176,
    "start_time": "2022-11-13T10:04:27.974Z"
   },
   {
    "duration": 413,
    "start_time": "2022-11-13T10:04:28.151Z"
   },
   {
    "duration": 207,
    "start_time": "2022-11-13T10:04:28.566Z"
   },
   {
    "duration": 214,
    "start_time": "2022-11-13T10:04:28.775Z"
   },
   {
    "duration": 466,
    "start_time": "2022-11-13T10:04:28.991Z"
   },
   {
    "duration": 271,
    "start_time": "2022-11-13T10:04:29.458Z"
   },
   {
    "duration": 5,
    "start_time": "2022-11-13T10:04:29.731Z"
   },
   {
    "duration": 2227,
    "start_time": "2022-11-13T10:04:29.737Z"
   },
   {
    "duration": 374,
    "start_time": "2022-11-13T10:04:31.966Z"
   },
   {
    "duration": 6,
    "start_time": "2022-11-13T10:04:32.342Z"
   },
   {
    "duration": 208,
    "start_time": "2022-11-13T10:04:32.350Z"
   },
   {
    "duration": 6,
    "start_time": "2022-11-13T10:04:32.560Z"
   },
   {
    "duration": 384,
    "start_time": "2022-11-13T10:04:32.567Z"
   },
   {
    "duration": 373,
    "start_time": "2022-11-13T10:04:32.954Z"
   },
   {
    "duration": 5,
    "start_time": "2022-11-13T10:04:33.329Z"
   },
   {
    "duration": 20,
    "start_time": "2022-11-13T10:04:33.336Z"
   },
   {
    "duration": 12,
    "start_time": "2022-11-13T10:04:33.358Z"
   },
   {
    "duration": 9,
    "start_time": "2022-11-13T10:04:33.372Z"
   },
   {
    "duration": 15,
    "start_time": "2022-11-13T10:04:33.382Z"
   },
   {
    "duration": 1142,
    "start_time": "2022-11-13T10:04:33.399Z"
   },
   {
    "duration": 13,
    "start_time": "2022-11-13T10:04:34.542Z"
   },
   {
    "duration": 7,
    "start_time": "2022-11-13T10:04:34.557Z"
   },
   {
    "duration": 26,
    "start_time": "2022-11-13T10:04:34.565Z"
   },
   {
    "duration": 776,
    "start_time": "2022-11-13T10:04:34.593Z"
   },
   {
    "duration": 20,
    "start_time": "2022-11-13T10:04:35.371Z"
   },
   {
    "duration": 6,
    "start_time": "2022-11-13T10:04:35.393Z"
   },
   {
    "duration": 147,
    "start_time": "2022-11-13T10:04:35.400Z"
   },
   {
    "duration": 5,
    "start_time": "2022-11-13T10:04:35.549Z"
   },
   {
    "duration": 265,
    "start_time": "2022-11-13T10:30:08.002Z"
   },
   {
    "duration": 211,
    "start_time": "2022-11-13T10:30:41.524Z"
   },
   {
    "duration": 200,
    "start_time": "2022-11-13T10:31:12.330Z"
   },
   {
    "duration": 250,
    "start_time": "2022-11-13T10:32:06.271Z"
   },
   {
    "duration": 1265,
    "start_time": "2022-11-13T10:32:15.052Z"
   },
   {
    "duration": 1464,
    "start_time": "2022-11-13T10:32:16.319Z"
   },
   {
    "duration": 17,
    "start_time": "2022-11-13T10:32:17.785Z"
   },
   {
    "duration": 13,
    "start_time": "2022-11-13T10:32:17.804Z"
   },
   {
    "duration": 4,
    "start_time": "2022-11-13T10:32:17.819Z"
   },
   {
    "duration": 18,
    "start_time": "2022-11-13T10:32:17.825Z"
   },
   {
    "duration": 17,
    "start_time": "2022-11-13T10:32:17.845Z"
   },
   {
    "duration": 22,
    "start_time": "2022-11-13T10:32:17.864Z"
   },
   {
    "duration": 6,
    "start_time": "2022-11-13T10:32:17.888Z"
   },
   {
    "duration": 8,
    "start_time": "2022-11-13T10:32:17.897Z"
   },
   {
    "duration": 19,
    "start_time": "2022-11-13T10:32:17.907Z"
   },
   {
    "duration": 12,
    "start_time": "2022-11-13T10:32:17.928Z"
   },
   {
    "duration": 11,
    "start_time": "2022-11-13T10:32:17.942Z"
   },
   {
    "duration": 75,
    "start_time": "2022-11-13T10:32:17.955Z"
   },
   {
    "duration": 157,
    "start_time": "2022-11-13T10:32:18.032Z"
   },
   {
    "duration": 443,
    "start_time": "2022-11-13T10:32:18.191Z"
   },
   {
    "duration": 212,
    "start_time": "2022-11-13T10:32:18.636Z"
   },
   {
    "duration": 227,
    "start_time": "2022-11-13T10:32:18.850Z"
   },
   {
    "duration": 493,
    "start_time": "2022-11-13T10:32:19.079Z"
   },
   {
    "duration": 280,
    "start_time": "2022-11-13T10:32:19.574Z"
   },
   {
    "duration": 5,
    "start_time": "2022-11-13T10:32:19.855Z"
   },
   {
    "duration": 2217,
    "start_time": "2022-11-13T10:32:19.862Z"
   },
   {
    "duration": 359,
    "start_time": "2022-11-13T10:32:22.080Z"
   },
   {
    "duration": 6,
    "start_time": "2022-11-13T10:32:22.441Z"
   },
   {
    "duration": 217,
    "start_time": "2022-11-13T10:32:22.449Z"
   },
   {
    "duration": 6,
    "start_time": "2022-11-13T10:32:22.668Z"
   },
   {
    "duration": 405,
    "start_time": "2022-11-13T10:32:22.676Z"
   },
   {
    "duration": 396,
    "start_time": "2022-11-13T10:32:23.085Z"
   },
   {
    "duration": 7,
    "start_time": "2022-11-13T10:32:23.483Z"
   },
   {
    "duration": 44,
    "start_time": "2022-11-13T10:32:23.492Z"
   },
   {
    "duration": 16,
    "start_time": "2022-11-13T10:32:23.538Z"
   },
   {
    "duration": 17,
    "start_time": "2022-11-13T10:32:23.556Z"
   },
   {
    "duration": 32,
    "start_time": "2022-11-13T10:32:23.575Z"
   },
   {
    "duration": 1162,
    "start_time": "2022-11-13T10:32:23.609Z"
   },
   {
    "duration": 24,
    "start_time": "2022-11-13T10:32:24.779Z"
   },
   {
    "duration": 40,
    "start_time": "2022-11-13T10:32:24.805Z"
   },
   {
    "duration": 69,
    "start_time": "2022-11-13T10:32:24.847Z"
   },
   {
    "duration": 739,
    "start_time": "2022-11-13T10:32:24.918Z"
   },
   {
    "duration": 21,
    "start_time": "2022-11-13T10:32:25.658Z"
   },
   {
    "duration": 4,
    "start_time": "2022-11-13T10:32:25.681Z"
   },
   {
    "duration": 138,
    "start_time": "2022-11-13T10:32:25.687Z"
   },
   {
    "duration": 6,
    "start_time": "2022-11-13T10:32:25.827Z"
   },
   {
    "duration": 344,
    "start_time": "2022-11-13T10:32:56.159Z"
   },
   {
    "duration": 231,
    "start_time": "2022-11-13T10:33:57.792Z"
   },
   {
    "duration": 1367,
    "start_time": "2022-11-13T10:34:06.094Z"
   },
   {
    "duration": 1146,
    "start_time": "2022-11-13T10:34:07.463Z"
   },
   {
    "duration": 18,
    "start_time": "2022-11-13T10:34:08.611Z"
   },
   {
    "duration": 16,
    "start_time": "2022-11-13T10:34:08.631Z"
   },
   {
    "duration": 4,
    "start_time": "2022-11-13T10:34:08.650Z"
   },
   {
    "duration": 10,
    "start_time": "2022-11-13T10:34:08.656Z"
   },
   {
    "duration": 13,
    "start_time": "2022-11-13T10:34:08.669Z"
   },
   {
    "duration": 40,
    "start_time": "2022-11-13T10:34:08.684Z"
   },
   {
    "duration": 6,
    "start_time": "2022-11-13T10:34:08.727Z"
   },
   {
    "duration": 15,
    "start_time": "2022-11-13T10:34:08.734Z"
   },
   {
    "duration": 9,
    "start_time": "2022-11-13T10:34:08.751Z"
   },
   {
    "duration": 17,
    "start_time": "2022-11-13T10:34:08.762Z"
   },
   {
    "duration": 22,
    "start_time": "2022-11-13T10:34:08.781Z"
   },
   {
    "duration": 42,
    "start_time": "2022-11-13T10:34:08.818Z"
   },
   {
    "duration": 177,
    "start_time": "2022-11-13T10:34:08.862Z"
   },
   {
    "duration": 432,
    "start_time": "2022-11-13T10:34:09.041Z"
   },
   {
    "duration": 200,
    "start_time": "2022-11-13T10:34:09.475Z"
   },
   {
    "duration": 198,
    "start_time": "2022-11-13T10:34:09.677Z"
   },
   {
    "duration": 477,
    "start_time": "2022-11-13T10:34:09.877Z"
   },
   {
    "duration": 273,
    "start_time": "2022-11-13T10:34:10.356Z"
   },
   {
    "duration": 5,
    "start_time": "2022-11-13T10:34:10.630Z"
   },
   {
    "duration": 2211,
    "start_time": "2022-11-13T10:34:10.637Z"
   },
   {
    "duration": 370,
    "start_time": "2022-11-13T10:34:12.850Z"
   },
   {
    "duration": 7,
    "start_time": "2022-11-13T10:34:13.221Z"
   },
   {
    "duration": 221,
    "start_time": "2022-11-13T10:34:13.229Z"
   },
   {
    "duration": 6,
    "start_time": "2022-11-13T10:34:13.451Z"
   },
   {
    "duration": 382,
    "start_time": "2022-11-13T10:34:13.459Z"
   },
   {
    "duration": 381,
    "start_time": "2022-11-13T10:34:13.843Z"
   },
   {
    "duration": 5,
    "start_time": "2022-11-13T10:34:14.226Z"
   },
   {
    "duration": 29,
    "start_time": "2022-11-13T10:34:14.232Z"
   },
   {
    "duration": 10,
    "start_time": "2022-11-13T10:34:14.263Z"
   },
   {
    "duration": 12,
    "start_time": "2022-11-13T10:34:14.275Z"
   },
   {
    "duration": 21,
    "start_time": "2022-11-13T10:34:14.289Z"
   },
   {
    "duration": 1119,
    "start_time": "2022-11-13T10:34:14.312Z"
   },
   {
    "duration": 13,
    "start_time": "2022-11-13T10:34:15.432Z"
   },
   {
    "duration": 5,
    "start_time": "2022-11-13T10:34:15.447Z"
   },
   {
    "duration": 27,
    "start_time": "2022-11-13T10:34:15.454Z"
   },
   {
    "duration": 798,
    "start_time": "2022-11-13T10:34:15.483Z"
   },
   {
    "duration": 22,
    "start_time": "2022-11-13T10:34:16.283Z"
   },
   {
    "duration": 16,
    "start_time": "2022-11-13T10:34:16.307Z"
   },
   {
    "duration": 26,
    "start_time": "2022-11-13T10:34:16.327Z"
   },
   {
    "duration": 7,
    "start_time": "2022-11-13T10:34:16.355Z"
   },
   {
    "duration": 217,
    "start_time": "2022-11-13T10:35:41.562Z"
   },
   {
    "duration": 5,
    "start_time": "2022-11-13T10:35:53.771Z"
   },
   {
    "duration": 212,
    "start_time": "2022-11-13T10:35:54.462Z"
   },
   {
    "duration": 1349,
    "start_time": "2022-11-13T10:36:07.202Z"
   },
   {
    "duration": 1822,
    "start_time": "2022-11-13T10:36:08.553Z"
   },
   {
    "duration": 17,
    "start_time": "2022-11-13T10:36:10.377Z"
   },
   {
    "duration": 13,
    "start_time": "2022-11-13T10:36:10.397Z"
   },
   {
    "duration": 13,
    "start_time": "2022-11-13T10:36:10.412Z"
   },
   {
    "duration": 26,
    "start_time": "2022-11-13T10:36:10.427Z"
   },
   {
    "duration": 42,
    "start_time": "2022-11-13T10:36:10.455Z"
   },
   {
    "duration": 35,
    "start_time": "2022-11-13T10:36:10.499Z"
   },
   {
    "duration": 24,
    "start_time": "2022-11-13T10:36:10.536Z"
   },
   {
    "duration": 36,
    "start_time": "2022-11-13T10:36:10.564Z"
   },
   {
    "duration": 44,
    "start_time": "2022-11-13T10:36:10.602Z"
   },
   {
    "duration": 36,
    "start_time": "2022-11-13T10:36:10.649Z"
   },
   {
    "duration": 35,
    "start_time": "2022-11-13T10:36:10.686Z"
   },
   {
    "duration": 67,
    "start_time": "2022-11-13T10:36:10.723Z"
   },
   {
    "duration": 181,
    "start_time": "2022-11-13T10:36:10.791Z"
   },
   {
    "duration": 440,
    "start_time": "2022-11-13T10:36:10.974Z"
   },
   {
    "duration": 194,
    "start_time": "2022-11-13T10:36:11.416Z"
   },
   {
    "duration": 193,
    "start_time": "2022-11-13T10:36:11.612Z"
   },
   {
    "duration": 454,
    "start_time": "2022-11-13T10:36:11.807Z"
   },
   {
    "duration": 267,
    "start_time": "2022-11-13T10:36:12.263Z"
   },
   {
    "duration": 5,
    "start_time": "2022-11-13T10:36:12.532Z"
   },
   {
    "duration": 2173,
    "start_time": "2022-11-13T10:36:12.539Z"
   },
   {
    "duration": 357,
    "start_time": "2022-11-13T10:36:14.714Z"
   },
   {
    "duration": 6,
    "start_time": "2022-11-13T10:36:15.074Z"
   },
   {
    "duration": 222,
    "start_time": "2022-11-13T10:36:15.082Z"
   },
   {
    "duration": 6,
    "start_time": "2022-11-13T10:36:15.305Z"
   },
   {
    "duration": 333,
    "start_time": "2022-11-13T10:36:15.319Z"
   },
   {
    "duration": 392,
    "start_time": "2022-11-13T10:36:15.655Z"
   },
   {
    "duration": 6,
    "start_time": "2022-11-13T10:36:16.049Z"
   },
   {
    "duration": 22,
    "start_time": "2022-11-13T10:36:16.056Z"
   },
   {
    "duration": 10,
    "start_time": "2022-11-13T10:36:16.079Z"
   },
   {
    "duration": 14,
    "start_time": "2022-11-13T10:36:16.090Z"
   },
   {
    "duration": 11,
    "start_time": "2022-11-13T10:36:16.106Z"
   },
   {
    "duration": 1393,
    "start_time": "2022-11-13T10:36:16.119Z"
   },
   {
    "duration": 17,
    "start_time": "2022-11-13T10:36:17.514Z"
   },
   {
    "duration": 78,
    "start_time": "2022-11-13T10:36:17.532Z"
   },
   {
    "duration": 33,
    "start_time": "2022-11-13T10:36:17.612Z"
   },
   {
    "duration": 800,
    "start_time": "2022-11-13T10:36:17.648Z"
   },
   {
    "duration": 21,
    "start_time": "2022-11-13T10:36:18.450Z"
   },
   {
    "duration": 5,
    "start_time": "2022-11-13T10:36:18.473Z"
   },
   {
    "duration": 39,
    "start_time": "2022-11-13T10:36:18.480Z"
   },
   {
    "duration": 6,
    "start_time": "2022-11-13T10:36:18.522Z"
   },
   {
    "duration": 402,
    "start_time": "2022-11-13T10:39:10.328Z"
   },
   {
    "duration": 200,
    "start_time": "2022-11-13T10:39:26.561Z"
   },
   {
    "duration": 188,
    "start_time": "2022-11-13T10:39:36.021Z"
   },
   {
    "duration": 205,
    "start_time": "2022-11-13T10:39:51.951Z"
   },
   {
    "duration": 214,
    "start_time": "2022-11-13T10:40:07.862Z"
   },
   {
    "duration": 283,
    "start_time": "2022-11-13T10:40:22.451Z"
   },
   {
    "duration": 1060,
    "start_time": "2022-11-13T10:40:46.982Z"
   },
   {
    "duration": 196,
    "start_time": "2022-11-13T10:41:02.709Z"
   },
   {
    "duration": 196,
    "start_time": "2022-11-13T10:44:25.184Z"
   },
   {
    "duration": 233,
    "start_time": "2022-11-13T10:44:47.551Z"
   },
   {
    "duration": 230,
    "start_time": "2022-11-13T10:45:06.951Z"
   },
   {
    "duration": 1283,
    "start_time": "2022-11-13T10:45:16.261Z"
   },
   {
    "duration": 970,
    "start_time": "2022-11-13T10:45:17.546Z"
   },
   {
    "duration": 16,
    "start_time": "2022-11-13T10:45:18.518Z"
   },
   {
    "duration": 24,
    "start_time": "2022-11-13T10:45:18.536Z"
   },
   {
    "duration": 15,
    "start_time": "2022-11-13T10:45:18.562Z"
   },
   {
    "duration": 28,
    "start_time": "2022-11-13T10:45:18.578Z"
   },
   {
    "duration": 22,
    "start_time": "2022-11-13T10:45:18.608Z"
   },
   {
    "duration": 34,
    "start_time": "2022-11-13T10:45:18.631Z"
   },
   {
    "duration": 5,
    "start_time": "2022-11-13T10:45:18.667Z"
   },
   {
    "duration": 13,
    "start_time": "2022-11-13T10:45:18.674Z"
   },
   {
    "duration": 14,
    "start_time": "2022-11-13T10:45:18.689Z"
   },
   {
    "duration": 31,
    "start_time": "2022-11-13T10:45:18.704Z"
   },
   {
    "duration": 14,
    "start_time": "2022-11-13T10:45:18.737Z"
   },
   {
    "duration": 45,
    "start_time": "2022-11-13T10:45:18.753Z"
   },
   {
    "duration": 176,
    "start_time": "2022-11-13T10:45:18.800Z"
   },
   {
    "duration": 518,
    "start_time": "2022-11-13T10:45:18.978Z"
   },
   {
    "duration": 199,
    "start_time": "2022-11-13T10:45:19.498Z"
   },
   {
    "duration": 186,
    "start_time": "2022-11-13T10:45:19.699Z"
   },
   {
    "duration": 473,
    "start_time": "2022-11-13T10:45:19.887Z"
   },
   {
    "duration": 274,
    "start_time": "2022-11-13T10:45:20.362Z"
   },
   {
    "duration": 5,
    "start_time": "2022-11-13T10:45:20.638Z"
   },
   {
    "duration": 2189,
    "start_time": "2022-11-13T10:45:20.645Z"
   },
   {
    "duration": 350,
    "start_time": "2022-11-13T10:45:22.836Z"
   },
   {
    "duration": 6,
    "start_time": "2022-11-13T10:45:23.188Z"
   },
   {
    "duration": 203,
    "start_time": "2022-11-13T10:45:23.195Z"
   },
   {
    "duration": 7,
    "start_time": "2022-11-13T10:45:23.400Z"
   },
   {
    "duration": 366,
    "start_time": "2022-11-13T10:45:23.409Z"
   },
   {
    "duration": 365,
    "start_time": "2022-11-13T10:45:23.777Z"
   },
   {
    "duration": 5,
    "start_time": "2022-11-13T10:45:24.144Z"
   },
   {
    "duration": 23,
    "start_time": "2022-11-13T10:45:24.150Z"
   },
   {
    "duration": 12,
    "start_time": "2022-11-13T10:45:24.175Z"
   },
   {
    "duration": 10,
    "start_time": "2022-11-13T10:45:24.189Z"
   },
   {
    "duration": 8,
    "start_time": "2022-11-13T10:45:24.201Z"
   },
   {
    "duration": 1311,
    "start_time": "2022-11-13T10:45:24.211Z"
   },
   {
    "duration": 13,
    "start_time": "2022-11-13T10:45:25.523Z"
   },
   {
    "duration": 16,
    "start_time": "2022-11-13T10:45:25.538Z"
   },
   {
    "duration": 51,
    "start_time": "2022-11-13T10:45:25.555Z"
   },
   {
    "duration": 717,
    "start_time": "2022-11-13T10:45:25.608Z"
   },
   {
    "duration": 24,
    "start_time": "2022-11-13T10:45:26.327Z"
   },
   {
    "duration": 5,
    "start_time": "2022-11-13T10:45:26.352Z"
   },
   {
    "duration": 20,
    "start_time": "2022-11-13T10:45:26.360Z"
   },
   {
    "duration": 5,
    "start_time": "2022-11-13T10:45:26.382Z"
   },
   {
    "duration": 3,
    "start_time": "2022-11-13T10:47:40.523Z"
   },
   {
    "duration": 14,
    "start_time": "2022-11-13T10:47:41.441Z"
   },
   {
    "duration": 5,
    "start_time": "2022-11-13T10:47:46.619Z"
   },
   {
    "duration": 6,
    "start_time": "2022-11-13T10:47:47.038Z"
   },
   {
    "duration": 5,
    "start_time": "2022-11-13T10:47:47.512Z"
   },
   {
    "duration": 1350,
    "start_time": "2022-11-13T10:47:49.323Z"
   },
   {
    "duration": 4,
    "start_time": "2022-11-13T10:52:11.582Z"
   },
   {
    "duration": 1470,
    "start_time": "2022-11-13T10:52:13.233Z"
   },
   {
    "duration": 11,
    "start_time": "2022-11-13T12:15:23.437Z"
   },
   {
    "duration": 23,
    "start_time": "2022-11-13T12:15:24.291Z"
   },
   {
    "duration": 1069,
    "start_time": "2022-11-13T12:15:24.990Z"
   },
   {
    "duration": 1293,
    "start_time": "2022-11-13T12:17:06.185Z"
   },
   {
    "duration": 1104,
    "start_time": "2022-11-13T12:17:07.480Z"
   },
   {
    "duration": 17,
    "start_time": "2022-11-13T12:17:08.586Z"
   },
   {
    "duration": 21,
    "start_time": "2022-11-13T12:17:08.604Z"
   },
   {
    "duration": 17,
    "start_time": "2022-11-13T12:17:08.628Z"
   },
   {
    "duration": 18,
    "start_time": "2022-11-13T12:17:08.647Z"
   },
   {
    "duration": 29,
    "start_time": "2022-11-13T12:17:08.667Z"
   },
   {
    "duration": 30,
    "start_time": "2022-11-13T12:17:08.697Z"
   },
   {
    "duration": 18,
    "start_time": "2022-11-13T12:17:08.729Z"
   },
   {
    "duration": 20,
    "start_time": "2022-11-13T12:17:08.749Z"
   },
   {
    "duration": 23,
    "start_time": "2022-11-13T12:17:08.770Z"
   },
   {
    "duration": 19,
    "start_time": "2022-11-13T12:17:08.795Z"
   },
   {
    "duration": 32,
    "start_time": "2022-11-13T12:17:08.816Z"
   },
   {
    "duration": 66,
    "start_time": "2022-11-13T12:17:08.852Z"
   },
   {
    "duration": 159,
    "start_time": "2022-11-13T12:17:08.919Z"
   },
   {
    "duration": 409,
    "start_time": "2022-11-13T12:17:09.080Z"
   },
   {
    "duration": 201,
    "start_time": "2022-11-13T12:17:09.491Z"
   },
   {
    "duration": 181,
    "start_time": "2022-11-13T12:17:09.694Z"
   },
   {
    "duration": 458,
    "start_time": "2022-11-13T12:17:09.877Z"
   },
   {
    "duration": 273,
    "start_time": "2022-11-13T12:17:10.336Z"
   },
   {
    "duration": 10,
    "start_time": "2022-11-13T12:17:10.610Z"
   },
   {
    "duration": 2116,
    "start_time": "2022-11-13T12:17:10.621Z"
   },
   {
    "duration": 353,
    "start_time": "2022-11-13T12:17:12.739Z"
   },
   {
    "duration": 6,
    "start_time": "2022-11-13T12:17:13.094Z"
   },
   {
    "duration": 200,
    "start_time": "2022-11-13T12:17:13.101Z"
   },
   {
    "duration": 7,
    "start_time": "2022-11-13T12:17:13.302Z"
   },
   {
    "duration": 371,
    "start_time": "2022-11-13T12:17:13.310Z"
   },
   {
    "duration": 364,
    "start_time": "2022-11-13T12:17:13.683Z"
   },
   {
    "duration": 3,
    "start_time": "2022-11-13T12:17:14.048Z"
   },
   {
    "duration": 29,
    "start_time": "2022-11-13T12:17:14.052Z"
   },
   {
    "duration": 32,
    "start_time": "2022-11-13T12:17:14.082Z"
   },
   {
    "duration": 20,
    "start_time": "2022-11-13T12:17:14.116Z"
   },
   {
    "duration": 1197,
    "start_time": "2022-11-13T12:17:14.138Z"
   },
   {
    "duration": 13,
    "start_time": "2022-11-13T12:17:15.337Z"
   },
   {
    "duration": 47,
    "start_time": "2022-11-13T12:17:15.351Z"
   },
   {
    "duration": 32,
    "start_time": "2022-11-13T12:17:15.400Z"
   },
   {
    "duration": 1139,
    "start_time": "2022-11-13T12:17:15.433Z"
   },
   {
    "duration": 21,
    "start_time": "2022-11-13T12:17:16.574Z"
   },
   {
    "duration": 5,
    "start_time": "2022-11-13T12:17:16.597Z"
   },
   {
    "duration": 134,
    "start_time": "2022-11-13T12:17:16.620Z"
   },
   {
    "duration": 5,
    "start_time": "2022-11-13T12:17:16.758Z"
   },
   {
    "duration": 125,
    "start_time": "2022-11-13T12:17:23.821Z"
   },
   {
    "duration": 14,
    "start_time": "2022-11-13T12:17:32.329Z"
   },
   {
    "duration": 21,
    "start_time": "2022-11-13T12:17:33.024Z"
   },
   {
    "duration": 21,
    "start_time": "2022-11-13T12:18:37.625Z"
   },
   {
    "duration": 13,
    "start_time": "2022-11-13T12:21:37.378Z"
   },
   {
    "duration": 12,
    "start_time": "2022-11-13T12:21:59.145Z"
   },
   {
    "duration": 22,
    "start_time": "2022-11-13T12:37:12.194Z"
   },
   {
    "duration": 6,
    "start_time": "2022-11-13T12:38:35.109Z"
   },
   {
    "duration": 14,
    "start_time": "2022-11-13T12:39:58.705Z"
   },
   {
    "duration": 1332,
    "start_time": "2022-11-13T12:40:05.987Z"
   },
   {
    "duration": 1263,
    "start_time": "2022-11-13T12:40:07.322Z"
   },
   {
    "duration": 18,
    "start_time": "2022-11-13T12:40:08.588Z"
   },
   {
    "duration": 14,
    "start_time": "2022-11-13T12:40:08.608Z"
   },
   {
    "duration": 4,
    "start_time": "2022-11-13T12:40:08.625Z"
   },
   {
    "duration": 11,
    "start_time": "2022-11-13T12:40:08.631Z"
   },
   {
    "duration": 14,
    "start_time": "2022-11-13T12:40:08.645Z"
   },
   {
    "duration": 22,
    "start_time": "2022-11-13T12:40:08.661Z"
   },
   {
    "duration": 5,
    "start_time": "2022-11-13T12:40:08.684Z"
   },
   {
    "duration": 33,
    "start_time": "2022-11-13T12:40:08.691Z"
   },
   {
    "duration": 8,
    "start_time": "2022-11-13T12:40:08.726Z"
   },
   {
    "duration": 17,
    "start_time": "2022-11-13T12:40:08.736Z"
   },
   {
    "duration": 9,
    "start_time": "2022-11-13T12:40:08.754Z"
   },
   {
    "duration": 76,
    "start_time": "2022-11-13T12:40:08.766Z"
   },
   {
    "duration": 154,
    "start_time": "2022-11-13T12:40:08.844Z"
   },
   {
    "duration": 424,
    "start_time": "2022-11-13T12:40:09.000Z"
   },
   {
    "duration": 212,
    "start_time": "2022-11-13T12:40:09.426Z"
   },
   {
    "duration": 202,
    "start_time": "2022-11-13T12:40:09.640Z"
   },
   {
    "duration": 493,
    "start_time": "2022-11-13T12:40:09.844Z"
   },
   {
    "duration": 286,
    "start_time": "2022-11-13T12:40:10.339Z"
   },
   {
    "duration": 6,
    "start_time": "2022-11-13T12:40:10.627Z"
   },
   {
    "duration": 2156,
    "start_time": "2022-11-13T12:40:10.635Z"
   },
   {
    "duration": 376,
    "start_time": "2022-11-13T12:40:12.794Z"
   },
   {
    "duration": 7,
    "start_time": "2022-11-13T12:40:13.172Z"
   },
   {
    "duration": 205,
    "start_time": "2022-11-13T12:40:13.180Z"
   },
   {
    "duration": 6,
    "start_time": "2022-11-13T12:40:13.387Z"
   },
   {
    "duration": 377,
    "start_time": "2022-11-13T12:40:13.395Z"
   },
   {
    "duration": 382,
    "start_time": "2022-11-13T12:40:13.774Z"
   },
   {
    "duration": 3,
    "start_time": "2022-11-13T12:40:14.159Z"
   },
   {
    "duration": 18,
    "start_time": "2022-11-13T12:40:14.164Z"
   },
   {
    "duration": 13,
    "start_time": "2022-11-13T12:40:14.184Z"
   },
   {
    "duration": 8,
    "start_time": "2022-11-13T12:40:14.198Z"
   },
   {
    "duration": 1273,
    "start_time": "2022-11-13T12:40:14.207Z"
   },
   {
    "duration": 13,
    "start_time": "2022-11-13T12:40:15.481Z"
   },
   {
    "duration": 27,
    "start_time": "2022-11-13T12:40:15.496Z"
   },
   {
    "duration": 32,
    "start_time": "2022-11-13T12:40:15.524Z"
   },
   {
    "duration": 21,
    "start_time": "2022-11-13T12:40:15.558Z"
   },
   {
    "duration": 1091,
    "start_time": "2022-11-13T12:40:15.581Z"
   },
   {
    "duration": 21,
    "start_time": "2022-11-13T12:40:16.674Z"
   },
   {
    "duration": 22,
    "start_time": "2022-11-13T12:40:16.697Z"
   },
   {
    "duration": 24,
    "start_time": "2022-11-13T12:40:16.725Z"
   },
   {
    "duration": 12,
    "start_time": "2022-11-13T12:40:16.750Z"
   },
   {
    "duration": 115,
    "start_time": "2022-11-13T12:40:52.667Z"
   },
   {
    "duration": 13,
    "start_time": "2022-11-13T12:45:54.766Z"
   },
   {
    "duration": 4,
    "start_time": "2022-11-13T12:46:09.216Z"
   },
   {
    "duration": 5,
    "start_time": "2022-11-13T12:46:18.475Z"
   },
   {
    "duration": 16,
    "start_time": "2022-11-13T12:46:19.235Z"
   },
   {
    "duration": 1326,
    "start_time": "2022-11-13T12:46:46.285Z"
   },
   {
    "duration": 1252,
    "start_time": "2022-11-13T12:46:47.613Z"
   },
   {
    "duration": 17,
    "start_time": "2022-11-13T12:46:48.866Z"
   },
   {
    "duration": 56,
    "start_time": "2022-11-13T12:46:48.885Z"
   },
   {
    "duration": 12,
    "start_time": "2022-11-13T12:46:48.942Z"
   },
   {
    "duration": 8,
    "start_time": "2022-11-13T12:46:48.955Z"
   },
   {
    "duration": 13,
    "start_time": "2022-11-13T12:46:48.964Z"
   },
   {
    "duration": 20,
    "start_time": "2022-11-13T12:46:48.978Z"
   },
   {
    "duration": 5,
    "start_time": "2022-11-13T12:46:48.999Z"
   },
   {
    "duration": 14,
    "start_time": "2022-11-13T12:46:49.007Z"
   },
   {
    "duration": 9,
    "start_time": "2022-11-13T12:46:49.022Z"
   },
   {
    "duration": 16,
    "start_time": "2022-11-13T12:46:49.032Z"
   },
   {
    "duration": 11,
    "start_time": "2022-11-13T12:46:49.050Z"
   },
   {
    "duration": 58,
    "start_time": "2022-11-13T12:46:49.062Z"
   },
   {
    "duration": 168,
    "start_time": "2022-11-13T12:46:49.122Z"
   },
   {
    "duration": 387,
    "start_time": "2022-11-13T12:46:49.291Z"
   },
   {
    "duration": 203,
    "start_time": "2022-11-13T12:46:49.679Z"
   },
   {
    "duration": 188,
    "start_time": "2022-11-13T12:46:49.884Z"
   },
   {
    "duration": 452,
    "start_time": "2022-11-13T12:46:50.074Z"
   },
   {
    "duration": 276,
    "start_time": "2022-11-13T12:46:50.528Z"
   },
   {
    "duration": 5,
    "start_time": "2022-11-13T12:46:50.806Z"
   },
   {
    "duration": 2143,
    "start_time": "2022-11-13T12:46:50.813Z"
   },
   {
    "duration": 333,
    "start_time": "2022-11-13T12:46:52.958Z"
   },
   {
    "duration": 5,
    "start_time": "2022-11-13T12:46:53.293Z"
   },
   {
    "duration": 204,
    "start_time": "2022-11-13T12:46:53.300Z"
   },
   {
    "duration": 14,
    "start_time": "2022-11-13T12:46:53.507Z"
   },
   {
    "duration": 352,
    "start_time": "2022-11-13T12:46:53.523Z"
   },
   {
    "duration": 351,
    "start_time": "2022-11-13T12:46:53.880Z"
   },
   {
    "duration": 2,
    "start_time": "2022-11-13T12:46:54.233Z"
   },
   {
    "duration": 15,
    "start_time": "2022-11-13T12:46:54.237Z"
   },
   {
    "duration": 17,
    "start_time": "2022-11-13T12:46:54.253Z"
   },
   {
    "duration": 8,
    "start_time": "2022-11-13T12:46:54.272Z"
   },
   {
    "duration": 1243,
    "start_time": "2022-11-13T12:46:54.282Z"
   },
   {
    "duration": 9,
    "start_time": "2022-11-13T12:46:55.527Z"
   },
   {
    "duration": 25,
    "start_time": "2022-11-13T12:46:55.538Z"
   },
   {
    "duration": 22,
    "start_time": "2022-11-13T12:46:55.565Z"
   },
   {
    "duration": 33,
    "start_time": "2022-11-13T12:46:55.589Z"
   },
   {
    "duration": 1098,
    "start_time": "2022-11-13T12:46:55.625Z"
   },
   {
    "duration": 20,
    "start_time": "2022-11-13T12:46:56.725Z"
   },
   {
    "duration": 5,
    "start_time": "2022-11-13T12:46:56.746Z"
   },
   {
    "duration": 130,
    "start_time": "2022-11-13T12:46:56.752Z"
   },
   {
    "duration": 5,
    "start_time": "2022-11-13T12:46:56.884Z"
   },
   {
    "duration": 113,
    "start_time": "2022-11-13T12:48:11.685Z"
   },
   {
    "duration": 1184,
    "start_time": "2022-11-13T12:48:57.942Z"
   },
   {
    "duration": 1073,
    "start_time": "2022-11-13T12:48:59.128Z"
   },
   {
    "duration": 17,
    "start_time": "2022-11-13T12:49:00.204Z"
   },
   {
    "duration": 35,
    "start_time": "2022-11-13T12:49:00.223Z"
   },
   {
    "duration": 43,
    "start_time": "2022-11-13T12:49:00.260Z"
   },
   {
    "duration": 30,
    "start_time": "2022-11-13T12:49:00.305Z"
   },
   {
    "duration": 63,
    "start_time": "2022-11-13T12:49:00.337Z"
   },
   {
    "duration": 36,
    "start_time": "2022-11-13T12:49:00.402Z"
   },
   {
    "duration": 7,
    "start_time": "2022-11-13T12:49:00.441Z"
   },
   {
    "duration": 22,
    "start_time": "2022-11-13T12:49:00.450Z"
   },
   {
    "duration": 20,
    "start_time": "2022-11-13T12:49:00.474Z"
   },
   {
    "duration": 15,
    "start_time": "2022-11-13T12:49:00.496Z"
   },
   {
    "duration": 28,
    "start_time": "2022-11-13T12:49:00.512Z"
   },
   {
    "duration": 44,
    "start_time": "2022-11-13T12:49:00.543Z"
   },
   {
    "duration": 149,
    "start_time": "2022-11-13T12:49:00.589Z"
   },
   {
    "duration": 405,
    "start_time": "2022-11-13T12:49:00.740Z"
   },
   {
    "duration": 200,
    "start_time": "2022-11-13T12:49:01.147Z"
   },
   {
    "duration": 183,
    "start_time": "2022-11-13T12:49:01.349Z"
   },
   {
    "duration": 461,
    "start_time": "2022-11-13T12:49:01.534Z"
   },
   {
    "duration": 274,
    "start_time": "2022-11-13T12:49:01.997Z"
   },
   {
    "duration": 6,
    "start_time": "2022-11-13T12:49:02.273Z"
   },
   {
    "duration": 2167,
    "start_time": "2022-11-13T12:49:02.280Z"
   },
   {
    "duration": 340,
    "start_time": "2022-11-13T12:49:04.450Z"
   },
   {
    "duration": 6,
    "start_time": "2022-11-13T12:49:04.792Z"
   },
   {
    "duration": 236,
    "start_time": "2022-11-13T12:49:04.800Z"
   },
   {
    "duration": 6,
    "start_time": "2022-11-13T12:49:05.038Z"
   },
   {
    "duration": 344,
    "start_time": "2022-11-13T12:49:05.046Z"
   },
   {
    "duration": 369,
    "start_time": "2022-11-13T12:49:05.392Z"
   },
   {
    "duration": 3,
    "start_time": "2022-11-13T12:49:05.763Z"
   },
   {
    "duration": 43,
    "start_time": "2022-11-13T12:49:05.767Z"
   },
   {
    "duration": 25,
    "start_time": "2022-11-13T12:49:05.812Z"
   },
   {
    "duration": 27,
    "start_time": "2022-11-13T12:49:05.839Z"
   },
   {
    "duration": 1337,
    "start_time": "2022-11-13T12:49:05.868Z"
   },
   {
    "duration": 14,
    "start_time": "2022-11-13T12:49:07.206Z"
   },
   {
    "duration": 13,
    "start_time": "2022-11-13T12:49:07.222Z"
   },
   {
    "duration": 25,
    "start_time": "2022-11-13T12:49:07.236Z"
   },
   {
    "duration": 23,
    "start_time": "2022-11-13T12:49:07.263Z"
   },
   {
    "duration": 1036,
    "start_time": "2022-11-13T12:49:07.288Z"
   },
   {
    "duration": 19,
    "start_time": "2022-11-13T12:49:08.326Z"
   },
   {
    "duration": 77,
    "start_time": "2022-11-13T12:49:08.346Z"
   },
   {
    "duration": 29,
    "start_time": "2022-11-13T12:49:08.427Z"
   },
   {
    "duration": 5,
    "start_time": "2022-11-13T12:49:08.458Z"
   },
   {
    "duration": 123,
    "start_time": "2022-11-13T12:50:00.836Z"
   },
   {
    "duration": 14,
    "start_time": "2022-11-13T12:50:20.777Z"
   },
   {
    "duration": 1267,
    "start_time": "2022-11-13T12:50:35.397Z"
   },
   {
    "duration": 1110,
    "start_time": "2022-11-13T12:50:36.667Z"
   },
   {
    "duration": 16,
    "start_time": "2022-11-13T12:50:37.778Z"
   },
   {
    "duration": 12,
    "start_time": "2022-11-13T12:50:37.795Z"
   },
   {
    "duration": 3,
    "start_time": "2022-11-13T12:50:37.808Z"
   },
   {
    "duration": 8,
    "start_time": "2022-11-13T12:50:37.812Z"
   },
   {
    "duration": 10,
    "start_time": "2022-11-13T12:50:37.822Z"
   },
   {
    "duration": 22,
    "start_time": "2022-11-13T12:50:37.834Z"
   },
   {
    "duration": 5,
    "start_time": "2022-11-13T12:50:37.858Z"
   },
   {
    "duration": 8,
    "start_time": "2022-11-13T12:50:37.865Z"
   },
   {
    "duration": 11,
    "start_time": "2022-11-13T12:50:37.876Z"
   },
   {
    "duration": 15,
    "start_time": "2022-11-13T12:50:37.888Z"
   },
   {
    "duration": 11,
    "start_time": "2022-11-13T12:50:37.920Z"
   },
   {
    "duration": 50,
    "start_time": "2022-11-13T12:50:37.933Z"
   },
   {
    "duration": 153,
    "start_time": "2022-11-13T12:50:37.984Z"
   },
   {
    "duration": 406,
    "start_time": "2022-11-13T12:50:38.139Z"
   },
   {
    "duration": 188,
    "start_time": "2022-11-13T12:50:38.547Z"
   },
   {
    "duration": 189,
    "start_time": "2022-11-13T12:50:38.737Z"
   },
   {
    "duration": 466,
    "start_time": "2022-11-13T12:50:38.929Z"
   },
   {
    "duration": 259,
    "start_time": "2022-11-13T12:50:39.396Z"
   },
   {
    "duration": 5,
    "start_time": "2022-11-13T12:50:39.657Z"
   },
   {
    "duration": 2222,
    "start_time": "2022-11-13T12:50:39.664Z"
   },
   {
    "duration": 356,
    "start_time": "2022-11-13T12:50:41.888Z"
   },
   {
    "duration": 6,
    "start_time": "2022-11-13T12:50:42.246Z"
   },
   {
    "duration": 206,
    "start_time": "2022-11-13T12:50:42.254Z"
   },
   {
    "duration": 7,
    "start_time": "2022-11-13T12:50:42.461Z"
   },
   {
    "duration": 353,
    "start_time": "2022-11-13T12:50:42.469Z"
   },
   {
    "duration": 395,
    "start_time": "2022-11-13T12:50:42.825Z"
   },
   {
    "duration": 3,
    "start_time": "2022-11-13T12:50:43.222Z"
   },
   {
    "duration": 9,
    "start_time": "2022-11-13T12:50:43.226Z"
   },
   {
    "duration": 10,
    "start_time": "2022-11-13T12:50:43.237Z"
   },
   {
    "duration": 12,
    "start_time": "2022-11-13T12:50:43.249Z"
   },
   {
    "duration": 1298,
    "start_time": "2022-11-13T12:50:43.263Z"
   },
   {
    "duration": 9,
    "start_time": "2022-11-13T12:50:44.563Z"
   },
   {
    "duration": 14,
    "start_time": "2022-11-13T12:50:44.573Z"
   },
   {
    "duration": 1049,
    "start_time": "2022-11-13T12:50:44.589Z"
   },
   {
    "duration": 21,
    "start_time": "2022-11-13T12:50:45.641Z"
   },
   {
    "duration": 11,
    "start_time": "2022-11-13T12:50:45.664Z"
   },
   {
    "duration": 132,
    "start_time": "2022-11-13T12:50:45.676Z"
   },
   {
    "duration": 5,
    "start_time": "2022-11-13T12:50:45.809Z"
   },
   {
    "duration": 6,
    "start_time": "2022-11-13T12:50:52.720Z"
   },
   {
    "duration": 118,
    "start_time": "2022-11-13T12:50:53.226Z"
   },
   {
    "duration": 14,
    "start_time": "2022-11-13T12:54:20.966Z"
   },
   {
    "duration": 22,
    "start_time": "2022-11-13T12:54:44.455Z"
   },
   {
    "duration": 1318,
    "start_time": "2022-11-13T12:55:01.117Z"
   },
   {
    "duration": 1851,
    "start_time": "2022-11-13T12:55:02.437Z"
   },
   {
    "duration": 16,
    "start_time": "2022-11-13T12:55:04.290Z"
   },
   {
    "duration": 42,
    "start_time": "2022-11-13T12:55:04.308Z"
   },
   {
    "duration": 3,
    "start_time": "2022-11-13T12:55:04.353Z"
   },
   {
    "duration": 10,
    "start_time": "2022-11-13T12:55:04.357Z"
   },
   {
    "duration": 29,
    "start_time": "2022-11-13T12:55:04.369Z"
   },
   {
    "duration": 20,
    "start_time": "2022-11-13T12:55:04.399Z"
   },
   {
    "duration": 6,
    "start_time": "2022-11-13T12:55:04.421Z"
   },
   {
    "duration": 11,
    "start_time": "2022-11-13T12:55:04.428Z"
   },
   {
    "duration": 21,
    "start_time": "2022-11-13T12:55:04.440Z"
   },
   {
    "duration": 21,
    "start_time": "2022-11-13T12:55:04.463Z"
   },
   {
    "duration": 10,
    "start_time": "2022-11-13T12:55:04.486Z"
   },
   {
    "duration": 57,
    "start_time": "2022-11-13T12:55:04.500Z"
   },
   {
    "duration": 174,
    "start_time": "2022-11-13T12:55:04.559Z"
   },
   {
    "duration": 426,
    "start_time": "2022-11-13T12:55:04.735Z"
   },
   {
    "duration": 213,
    "start_time": "2022-11-13T12:55:05.162Z"
   },
   {
    "duration": 198,
    "start_time": "2022-11-13T12:55:05.377Z"
   },
   {
    "duration": 475,
    "start_time": "2022-11-13T12:55:05.577Z"
   },
   {
    "duration": 287,
    "start_time": "2022-11-13T12:55:06.053Z"
   },
   {
    "duration": 7,
    "start_time": "2022-11-13T12:55:06.342Z"
   },
   {
    "duration": 2324,
    "start_time": "2022-11-13T12:55:06.351Z"
   },
   {
    "duration": 368,
    "start_time": "2022-11-13T12:55:08.677Z"
   },
   {
    "duration": 7,
    "start_time": "2022-11-13T12:55:09.046Z"
   },
   {
    "duration": 214,
    "start_time": "2022-11-13T12:55:09.054Z"
   },
   {
    "duration": 6,
    "start_time": "2022-11-13T12:55:09.270Z"
   },
   {
    "duration": 376,
    "start_time": "2022-11-13T12:55:09.278Z"
   },
   {
    "duration": 383,
    "start_time": "2022-11-13T12:55:09.655Z"
   },
   {
    "duration": 3,
    "start_time": "2022-11-13T12:55:10.040Z"
   },
   {
    "duration": 11,
    "start_time": "2022-11-13T12:55:10.045Z"
   },
   {
    "duration": 26,
    "start_time": "2022-11-13T12:55:10.058Z"
   },
   {
    "duration": 14,
    "start_time": "2022-11-13T12:55:10.086Z"
   },
   {
    "duration": 1303,
    "start_time": "2022-11-13T12:55:10.102Z"
   },
   {
    "duration": 14,
    "start_time": "2022-11-13T12:55:11.407Z"
   },
   {
    "duration": 49,
    "start_time": "2022-11-13T12:55:11.423Z"
   },
   {
    "duration": 32,
    "start_time": "2022-11-13T12:55:11.473Z"
   },
   {
    "duration": 772,
    "start_time": "2022-11-13T12:55:11.507Z"
   },
   {
    "duration": 22,
    "start_time": "2022-11-13T12:55:12.280Z"
   },
   {
    "duration": 18,
    "start_time": "2022-11-13T12:55:12.304Z"
   },
   {
    "duration": 128,
    "start_time": "2022-11-13T12:55:12.324Z"
   },
   {
    "duration": 5,
    "start_time": "2022-11-13T12:55:12.455Z"
   },
   {
    "duration": 27,
    "start_time": "2022-11-13T12:55:35.492Z"
   },
   {
    "duration": 6,
    "start_time": "2022-11-13T13:03:08.625Z"
   },
   {
    "duration": 22,
    "start_time": "2022-11-13T13:03:09.272Z"
   },
   {
    "duration": 29,
    "start_time": "2022-11-13T13:03:09.897Z"
   },
   {
    "duration": 763,
    "start_time": "2022-11-13T13:03:20.390Z"
   },
   {
    "duration": 1073,
    "start_time": "2022-11-13T13:04:00.206Z"
   },
   {
    "duration": 5,
    "start_time": "2022-11-13T13:15:29.989Z"
   },
   {
    "duration": 5,
    "start_time": "2022-11-13T13:18:08.860Z"
   },
   {
    "duration": 8,
    "start_time": "2022-11-13T13:18:55.948Z"
   },
   {
    "duration": 22,
    "start_time": "2022-11-13T13:18:58.140Z"
   },
   {
    "duration": 26,
    "start_time": "2022-11-13T13:19:01.728Z"
   },
   {
    "duration": 1146,
    "start_time": "2022-11-13T13:19:08.550Z"
   },
   {
    "duration": 8,
    "start_time": "2022-11-13T13:22:33.549Z"
   },
   {
    "duration": 21,
    "start_time": "2022-11-13T13:22:34.279Z"
   },
   {
    "duration": 28,
    "start_time": "2022-11-13T13:22:35.270Z"
   },
   {
    "duration": 1354,
    "start_time": "2022-11-13T13:22:37.797Z"
   },
   {
    "duration": 25,
    "start_time": "2022-11-13T14:05:33.292Z"
   },
   {
    "duration": 5,
    "start_time": "2022-11-13T14:05:33.911Z"
   },
   {
    "duration": 7,
    "start_time": "2022-11-13T14:09:16.522Z"
   },
   {
    "duration": 24,
    "start_time": "2022-11-13T14:09:19.216Z"
   },
   {
    "duration": 5,
    "start_time": "2022-11-13T14:09:19.946Z"
   },
   {
    "duration": 21,
    "start_time": "2022-11-13T14:09:24.711Z"
   },
   {
    "duration": 5,
    "start_time": "2022-11-13T14:09:25.831Z"
   },
   {
    "duration": 1373,
    "start_time": "2022-11-13T14:09:35.295Z"
   },
   {
    "duration": 1253,
    "start_time": "2022-11-13T14:09:36.670Z"
   },
   {
    "duration": 18,
    "start_time": "2022-11-13T14:09:37.926Z"
   },
   {
    "duration": 14,
    "start_time": "2022-11-13T14:09:37.945Z"
   },
   {
    "duration": 5,
    "start_time": "2022-11-13T14:09:37.961Z"
   },
   {
    "duration": 19,
    "start_time": "2022-11-13T14:09:37.967Z"
   },
   {
    "duration": 11,
    "start_time": "2022-11-13T14:09:37.988Z"
   },
   {
    "duration": 31,
    "start_time": "2022-11-13T14:09:38.001Z"
   },
   {
    "duration": 5,
    "start_time": "2022-11-13T14:09:38.034Z"
   },
   {
    "duration": 10,
    "start_time": "2022-11-13T14:09:38.040Z"
   },
   {
    "duration": 11,
    "start_time": "2022-11-13T14:09:38.052Z"
   },
   {
    "duration": 25,
    "start_time": "2022-11-13T14:09:38.064Z"
   },
   {
    "duration": 13,
    "start_time": "2022-11-13T14:09:38.090Z"
   },
   {
    "duration": 39,
    "start_time": "2022-11-13T14:09:38.107Z"
   },
   {
    "duration": 178,
    "start_time": "2022-11-13T14:09:38.148Z"
   },
   {
    "duration": 421,
    "start_time": "2022-11-13T14:09:38.327Z"
   },
   {
    "duration": 218,
    "start_time": "2022-11-13T14:09:38.750Z"
   },
   {
    "duration": 207,
    "start_time": "2022-11-13T14:09:38.970Z"
   },
   {
    "duration": 477,
    "start_time": "2022-11-13T14:09:39.179Z"
   },
   {
    "duration": 271,
    "start_time": "2022-11-13T14:09:39.658Z"
   },
   {
    "duration": 5,
    "start_time": "2022-11-13T14:09:39.931Z"
   },
   {
    "duration": 2130,
    "start_time": "2022-11-13T14:09:39.937Z"
   },
   {
    "duration": 350,
    "start_time": "2022-11-13T14:09:42.069Z"
   },
   {
    "duration": 7,
    "start_time": "2022-11-13T14:09:42.420Z"
   },
   {
    "duration": 201,
    "start_time": "2022-11-13T14:09:42.429Z"
   },
   {
    "duration": 7,
    "start_time": "2022-11-13T14:09:42.632Z"
   },
   {
    "duration": 360,
    "start_time": "2022-11-13T14:09:42.640Z"
   },
   {
    "duration": 403,
    "start_time": "2022-11-13T14:09:43.001Z"
   },
   {
    "duration": 4,
    "start_time": "2022-11-13T14:09:43.406Z"
   },
   {
    "duration": 20,
    "start_time": "2022-11-13T14:09:43.420Z"
   },
   {
    "duration": 26,
    "start_time": "2022-11-13T14:09:43.442Z"
   },
   {
    "duration": 11,
    "start_time": "2022-11-13T14:09:43.471Z"
   },
   {
    "duration": 1277,
    "start_time": "2022-11-13T14:09:43.483Z"
   },
   {
    "duration": 8,
    "start_time": "2022-11-13T14:09:44.761Z"
   },
   {
    "duration": 31,
    "start_time": "2022-11-13T14:09:44.771Z"
   },
   {
    "duration": 14,
    "start_time": "2022-11-13T14:09:44.804Z"
   },
   {
    "duration": 29,
    "start_time": "2022-11-13T14:09:44.820Z"
   },
   {
    "duration": 24,
    "start_time": "2022-11-13T14:09:44.850Z"
   },
   {
    "duration": 1420,
    "start_time": "2022-11-13T14:09:44.876Z"
   },
   {
    "duration": 6,
    "start_time": "2022-11-13T14:09:46.298Z"
   },
   {
    "duration": 35,
    "start_time": "2022-11-13T14:09:46.319Z"
   },
   {
    "duration": 38,
    "start_time": "2022-11-13T14:09:46.356Z"
   },
   {
    "duration": 43,
    "start_time": "2022-11-13T14:09:46.396Z"
   },
   {
    "duration": 6,
    "start_time": "2022-11-13T14:09:46.442Z"
   },
   {
    "duration": 8,
    "start_time": "2022-11-13T14:12:10.751Z"
   },
   {
    "duration": 9,
    "start_time": "2022-11-13T14:12:23.239Z"
   },
   {
    "duration": 17,
    "start_time": "2022-11-13T19:00:42.283Z"
   },
   {
    "duration": 44,
    "start_time": "2022-11-13T19:22:15.846Z"
   },
   {
    "duration": 1326,
    "start_time": "2022-11-13T19:22:45.706Z"
   },
   {
    "duration": 1461,
    "start_time": "2022-11-13T19:26:25.946Z"
   },
   {
    "duration": 14,
    "start_time": "2022-11-13T19:27:26.637Z"
   },
   {
    "duration": 1426,
    "start_time": "2022-11-13T19:32:54.417Z"
   },
   {
    "duration": 1224,
    "start_time": "2022-11-13T19:35:03.556Z"
   },
   {
    "duration": 0,
    "start_time": "2022-11-13T19:40:33.225Z"
   },
   {
    "duration": 46810,
    "start_time": "2022-11-13T19:45:02.696Z"
   },
   {
    "duration": 125,
    "start_time": "2022-11-13T19:49:15.915Z"
   },
   {
    "duration": 747,
    "start_time": "2022-11-13T19:50:07.536Z"
   },
   {
    "duration": 794,
    "start_time": "2022-11-13T19:50:51.944Z"
   },
   {
    "duration": 1171,
    "start_time": "2022-11-13T19:57:40.628Z"
   },
   {
    "duration": 908,
    "start_time": "2022-11-13T19:57:54.307Z"
   },
   {
    "duration": 931,
    "start_time": "2022-11-13T19:58:14.735Z"
   },
   {
    "duration": 1043,
    "start_time": "2022-11-13T20:00:59.496Z"
   },
   {
    "duration": 1202,
    "start_time": "2022-11-13T21:26:14.360Z"
   },
   {
    "duration": 1188,
    "start_time": "2022-11-13T21:26:15.564Z"
   },
   {
    "duration": 15,
    "start_time": "2022-11-13T21:26:16.753Z"
   },
   {
    "duration": 13,
    "start_time": "2022-11-13T21:26:16.769Z"
   },
   {
    "duration": 10,
    "start_time": "2022-11-13T21:26:16.784Z"
   },
   {
    "duration": 6,
    "start_time": "2022-11-13T21:26:16.796Z"
   },
   {
    "duration": 12,
    "start_time": "2022-11-13T21:26:16.804Z"
   },
   {
    "duration": 19,
    "start_time": "2022-11-13T21:26:16.817Z"
   },
   {
    "duration": 6,
    "start_time": "2022-11-13T21:26:16.838Z"
   },
   {
    "duration": 8,
    "start_time": "2022-11-13T21:26:16.846Z"
   },
   {
    "duration": 8,
    "start_time": "2022-11-13T21:26:16.856Z"
   },
   {
    "duration": 10,
    "start_time": "2022-11-13T21:26:16.865Z"
   },
   {
    "duration": 8,
    "start_time": "2022-11-13T21:26:16.877Z"
   },
   {
    "duration": 69,
    "start_time": "2022-11-13T21:26:16.887Z"
   },
   {
    "duration": 137,
    "start_time": "2022-11-13T21:26:16.957Z"
   },
   {
    "duration": 394,
    "start_time": "2022-11-13T21:26:17.096Z"
   },
   {
    "duration": 185,
    "start_time": "2022-11-13T21:26:17.492Z"
   },
   {
    "duration": 176,
    "start_time": "2022-11-13T21:26:17.679Z"
   },
   {
    "duration": 443,
    "start_time": "2022-11-13T21:26:17.856Z"
   },
   {
    "duration": 256,
    "start_time": "2022-11-13T21:26:18.301Z"
   },
   {
    "duration": 5,
    "start_time": "2022-11-13T21:26:18.558Z"
   },
   {
    "duration": 2131,
    "start_time": "2022-11-13T21:26:18.564Z"
   },
   {
    "duration": 340,
    "start_time": "2022-11-13T21:26:20.697Z"
   },
   {
    "duration": 8,
    "start_time": "2022-11-13T21:26:21.038Z"
   },
   {
    "duration": 194,
    "start_time": "2022-11-13T21:26:21.048Z"
   },
   {
    "duration": 6,
    "start_time": "2022-11-13T21:26:21.244Z"
   },
   {
    "duration": 331,
    "start_time": "2022-11-13T21:26:21.253Z"
   },
   {
    "duration": 358,
    "start_time": "2022-11-13T21:26:21.587Z"
   },
   {
    "duration": 4,
    "start_time": "2022-11-13T21:26:21.947Z"
   },
   {
    "duration": 23,
    "start_time": "2022-11-13T21:26:21.953Z"
   },
   {
    "duration": 19,
    "start_time": "2022-11-13T21:26:21.978Z"
   },
   {
    "duration": 16,
    "start_time": "2022-11-13T21:26:21.999Z"
   },
   {
    "duration": 1235,
    "start_time": "2022-11-13T21:26:22.017Z"
   },
   {
    "duration": 7,
    "start_time": "2022-11-13T21:26:23.254Z"
   },
   {
    "duration": 9,
    "start_time": "2022-11-13T21:26:23.263Z"
   },
   {
    "duration": 21,
    "start_time": "2022-11-13T21:26:23.273Z"
   },
   {
    "duration": 34,
    "start_time": "2022-11-13T21:26:23.296Z"
   },
   {
    "duration": 34,
    "start_time": "2022-11-13T21:26:23.331Z"
   },
   {
    "duration": 1389,
    "start_time": "2022-11-13T21:26:23.366Z"
   },
   {
    "duration": 20,
    "start_time": "2022-11-13T21:26:24.757Z"
   },
   {
    "duration": 5,
    "start_time": "2022-11-13T21:26:24.781Z"
   },
   {
    "duration": 42,
    "start_time": "2022-11-13T21:26:24.788Z"
   },
   {
    "duration": 5,
    "start_time": "2022-11-13T21:26:24.832Z"
   },
   {
    "duration": 18,
    "start_time": "2022-11-13T21:26:24.838Z"
   },
   {
    "duration": 1251,
    "start_time": "2022-11-13T21:26:24.858Z"
   },
   {
    "duration": 1097,
    "start_time": "2022-11-13T21:26:26.111Z"
   },
   {
    "duration": 61,
    "start_time": "2022-11-14T17:36:25.910Z"
   },
   {
    "duration": 1376,
    "start_time": "2022-11-14T17:37:25.409Z"
   },
   {
    "duration": 1042,
    "start_time": "2022-11-14T17:37:26.787Z"
   },
   {
    "duration": 15,
    "start_time": "2022-11-14T17:37:27.831Z"
   },
   {
    "duration": 47,
    "start_time": "2022-11-14T17:37:27.848Z"
   },
   {
    "duration": 3,
    "start_time": "2022-11-14T17:37:27.897Z"
   },
   {
    "duration": 7,
    "start_time": "2022-11-14T17:37:27.902Z"
   },
   {
    "duration": 9,
    "start_time": "2022-11-14T17:37:27.910Z"
   },
   {
    "duration": 162,
    "start_time": "2022-11-14T17:37:39.075Z"
   },
   {
    "duration": 2582,
    "start_time": "2022-11-14T17:38:22.877Z"
   },
   {
    "duration": 231,
    "start_time": "2022-11-14T17:38:42.581Z"
   },
   {
    "duration": 233,
    "start_time": "2022-11-14T17:38:47.416Z"
   },
   {
    "duration": 380,
    "start_time": "2022-11-14T17:39:03.366Z"
   },
   {
    "duration": 229,
    "start_time": "2022-11-14T17:39:13.599Z"
   },
   {
    "duration": 20,
    "start_time": "2022-11-14T17:39:18.435Z"
   },
   {
    "duration": 243,
    "start_time": "2022-11-14T17:39:24.822Z"
   },
   {
    "duration": 6,
    "start_time": "2022-11-14T17:39:50.806Z"
   },
   {
    "duration": 70,
    "start_time": "2022-11-14T17:40:52.995Z"
   },
   {
    "duration": 40,
    "start_time": "2022-11-14T17:41:25.317Z"
   },
   {
    "duration": 272,
    "start_time": "2022-11-14T17:53:22.952Z"
   },
   {
    "duration": 285,
    "start_time": "2022-11-14T17:54:15.239Z"
   },
   {
    "duration": 282,
    "start_time": "2022-11-14T17:54:59.018Z"
   },
   {
    "duration": 345,
    "start_time": "2022-11-14T17:55:26.251Z"
   },
   {
    "duration": 307,
    "start_time": "2022-11-14T17:55:45.984Z"
   },
   {
    "duration": 329,
    "start_time": "2022-11-14T17:56:07.873Z"
   },
   {
    "duration": 320,
    "start_time": "2022-11-14T17:56:19.925Z"
   },
   {
    "duration": 512,
    "start_time": "2022-11-14T17:56:46.015Z"
   },
   {
    "duration": 364,
    "start_time": "2022-11-14T17:57:24.673Z"
   },
   {
    "duration": 335,
    "start_time": "2022-11-14T17:58:32.807Z"
   },
   {
    "duration": 50,
    "start_time": "2022-11-14T18:15:45.226Z"
   },
   {
    "duration": 1255,
    "start_time": "2022-11-14T18:17:16.018Z"
   },
   {
    "duration": 1378,
    "start_time": "2022-11-14T18:17:17.275Z"
   },
   {
    "duration": 15,
    "start_time": "2022-11-14T18:17:18.654Z"
   },
   {
    "duration": 12,
    "start_time": "2022-11-14T18:17:18.671Z"
   },
   {
    "duration": 10,
    "start_time": "2022-11-14T18:17:18.684Z"
   },
   {
    "duration": 7,
    "start_time": "2022-11-14T18:17:18.696Z"
   },
   {
    "duration": 18,
    "start_time": "2022-11-14T18:17:18.704Z"
   },
   {
    "duration": 248,
    "start_time": "2022-11-14T18:17:18.724Z"
   },
   {
    "duration": 22,
    "start_time": "2022-11-14T18:17:18.974Z"
   },
   {
    "duration": 265,
    "start_time": "2022-11-14T18:17:18.999Z"
   },
   {
    "duration": 6,
    "start_time": "2022-11-14T18:17:19.266Z"
   },
   {
    "duration": 12,
    "start_time": "2022-11-14T18:17:19.273Z"
   },
   {
    "duration": 7,
    "start_time": "2022-11-14T18:17:19.286Z"
   },
   {
    "duration": 23,
    "start_time": "2022-11-14T18:17:19.295Z"
   },
   {
    "duration": 8,
    "start_time": "2022-11-14T18:17:19.319Z"
   },
   {
    "duration": 42,
    "start_time": "2022-11-14T18:17:19.328Z"
   },
   {
    "duration": 51,
    "start_time": "2022-11-14T18:17:19.371Z"
   },
   {
    "duration": 181,
    "start_time": "2022-11-14T18:17:19.423Z"
   },
   {
    "duration": 450,
    "start_time": "2022-11-14T18:17:19.606Z"
   },
   {
    "duration": 208,
    "start_time": "2022-11-14T18:17:20.057Z"
   },
   {
    "duration": 176,
    "start_time": "2022-11-14T18:17:20.266Z"
   },
   {
    "duration": 361,
    "start_time": "2022-11-14T18:17:20.444Z"
   },
   {
    "duration": 245,
    "start_time": "2022-11-14T18:17:20.815Z"
   },
   {
    "duration": 5,
    "start_time": "2022-11-14T18:17:21.061Z"
   },
   {
    "duration": 2107,
    "start_time": "2022-11-14T18:17:21.067Z"
   },
   {
    "duration": 295,
    "start_time": "2022-11-14T18:17:23.176Z"
   },
   {
    "duration": 322,
    "start_time": "2022-11-14T18:17:23.473Z"
   },
   {
    "duration": 6,
    "start_time": "2022-11-14T18:17:23.798Z"
   },
   {
    "duration": 182,
    "start_time": "2022-11-14T18:17:23.805Z"
   },
   {
    "duration": 6,
    "start_time": "2022-11-14T18:17:23.989Z"
   },
   {
    "duration": 191,
    "start_time": "2022-11-14T18:17:23.996Z"
   },
   {
    "duration": 341,
    "start_time": "2022-11-14T18:17:24.189Z"
   },
   {
    "duration": 4,
    "start_time": "2022-11-14T18:17:24.531Z"
   },
   {
    "duration": 36,
    "start_time": "2022-11-14T18:17:24.537Z"
   },
   {
    "duration": 21,
    "start_time": "2022-11-14T18:17:24.575Z"
   },
   {
    "duration": 11,
    "start_time": "2022-11-14T18:17:24.597Z"
   },
   {
    "duration": 1342,
    "start_time": "2022-11-14T18:17:24.609Z"
   },
   {
    "duration": 8,
    "start_time": "2022-11-14T18:17:25.953Z"
   },
   {
    "duration": 12,
    "start_time": "2022-11-14T18:17:25.962Z"
   },
   {
    "duration": 6,
    "start_time": "2022-11-14T18:17:25.976Z"
   },
   {
    "duration": 37,
    "start_time": "2022-11-14T18:17:25.984Z"
   },
   {
    "duration": 30,
    "start_time": "2022-11-14T18:17:26.023Z"
   },
   {
    "duration": 1295,
    "start_time": "2022-11-14T18:17:26.055Z"
   },
   {
    "duration": 20,
    "start_time": "2022-11-14T18:17:27.352Z"
   },
   {
    "duration": 5,
    "start_time": "2022-11-14T18:17:27.374Z"
   },
   {
    "duration": 43,
    "start_time": "2022-11-14T18:17:27.381Z"
   },
   {
    "duration": 6,
    "start_time": "2022-11-14T18:17:27.425Z"
   },
   {
    "duration": 17,
    "start_time": "2022-11-14T18:17:27.433Z"
   },
   {
    "duration": 1314,
    "start_time": "2022-11-14T18:17:27.452Z"
   },
   {
    "duration": 873,
    "start_time": "2022-11-14T18:17:28.769Z"
   },
   {
    "duration": 46,
    "start_time": "2022-11-15T18:18:13.214Z"
   },
   {
    "duration": 57,
    "start_time": "2022-11-15T18:38:57.384Z"
   },
   {
    "duration": 1419,
    "start_time": "2022-11-15T18:39:06.905Z"
   },
   {
    "duration": 1227,
    "start_time": "2022-11-15T18:43:21.244Z"
   },
   {
    "duration": 1196,
    "start_time": "2022-11-15T18:43:22.473Z"
   },
   {
    "duration": 15,
    "start_time": "2022-11-15T18:43:23.670Z"
   },
   {
    "duration": 30,
    "start_time": "2022-11-15T18:43:23.687Z"
   },
   {
    "duration": 14,
    "start_time": "2022-11-15T18:43:23.719Z"
   },
   {
    "duration": 58,
    "start_time": "2022-11-15T18:43:23.734Z"
   },
   {
    "duration": 33,
    "start_time": "2022-11-15T18:43:23.794Z"
   },
   {
    "duration": 264,
    "start_time": "2022-11-15T18:43:23.829Z"
   },
   {
    "duration": 7,
    "start_time": "2022-11-15T18:43:24.095Z"
   },
   {
    "duration": 15,
    "start_time": "2022-11-15T18:43:24.104Z"
   },
   {
    "duration": 291,
    "start_time": "2022-11-15T18:43:24.121Z"
   },
   {
    "duration": 126,
    "start_time": "2022-11-15T18:43:24.414Z"
   },
   {
    "duration": 0,
    "start_time": "2022-11-15T18:43:24.542Z"
   },
   {
    "duration": 0,
    "start_time": "2022-11-15T18:43:24.544Z"
   },
   {
    "duration": 0,
    "start_time": "2022-11-15T18:43:24.545Z"
   },
   {
    "duration": 0,
    "start_time": "2022-11-15T18:43:24.547Z"
   },
   {
    "duration": 0,
    "start_time": "2022-11-15T18:43:24.548Z"
   },
   {
    "duration": 0,
    "start_time": "2022-11-15T18:43:24.550Z"
   },
   {
    "duration": 0,
    "start_time": "2022-11-15T18:43:24.551Z"
   },
   {
    "duration": 0,
    "start_time": "2022-11-15T18:43:24.553Z"
   },
   {
    "duration": 0,
    "start_time": "2022-11-15T18:43:24.577Z"
   },
   {
    "duration": 0,
    "start_time": "2022-11-15T18:43:24.578Z"
   },
   {
    "duration": 0,
    "start_time": "2022-11-15T18:43:24.580Z"
   },
   {
    "duration": 0,
    "start_time": "2022-11-15T18:43:24.581Z"
   },
   {
    "duration": 0,
    "start_time": "2022-11-15T18:43:24.582Z"
   },
   {
    "duration": 0,
    "start_time": "2022-11-15T18:43:24.583Z"
   },
   {
    "duration": 0,
    "start_time": "2022-11-15T18:43:24.584Z"
   },
   {
    "duration": 0,
    "start_time": "2022-11-15T18:43:24.585Z"
   },
   {
    "duration": 0,
    "start_time": "2022-11-15T18:43:24.586Z"
   },
   {
    "duration": 0,
    "start_time": "2022-11-15T18:43:24.587Z"
   },
   {
    "duration": 0,
    "start_time": "2022-11-15T18:43:24.588Z"
   },
   {
    "duration": 0,
    "start_time": "2022-11-15T18:43:24.589Z"
   },
   {
    "duration": 0,
    "start_time": "2022-11-15T18:43:24.590Z"
   },
   {
    "duration": 0,
    "start_time": "2022-11-15T18:43:24.591Z"
   },
   {
    "duration": 0,
    "start_time": "2022-11-15T18:43:24.592Z"
   },
   {
    "duration": 0,
    "start_time": "2022-11-15T18:43:24.593Z"
   },
   {
    "duration": 0,
    "start_time": "2022-11-15T18:43:24.594Z"
   },
   {
    "duration": 0,
    "start_time": "2022-11-15T18:43:24.595Z"
   },
   {
    "duration": 0,
    "start_time": "2022-11-15T18:43:24.596Z"
   },
   {
    "duration": 0,
    "start_time": "2022-11-15T18:43:24.597Z"
   },
   {
    "duration": 0,
    "start_time": "2022-11-15T18:43:24.598Z"
   },
   {
    "duration": 0,
    "start_time": "2022-11-15T18:43:24.599Z"
   },
   {
    "duration": 0,
    "start_time": "2022-11-15T18:43:24.600Z"
   },
   {
    "duration": 0,
    "start_time": "2022-11-15T18:43:24.601Z"
   },
   {
    "duration": 0,
    "start_time": "2022-11-15T18:43:24.602Z"
   },
   {
    "duration": 0,
    "start_time": "2022-11-15T18:43:24.604Z"
   },
   {
    "duration": 0,
    "start_time": "2022-11-15T18:43:24.604Z"
   },
   {
    "duration": 0,
    "start_time": "2022-11-15T18:43:24.606Z"
   },
   {
    "duration": 0,
    "start_time": "2022-11-15T18:43:24.607Z"
   },
   {
    "duration": 0,
    "start_time": "2022-11-15T18:43:24.608Z"
   },
   {
    "duration": 0,
    "start_time": "2022-11-15T18:43:24.609Z"
   },
   {
    "duration": 2,
    "start_time": "2022-11-15T18:50:46.517Z"
   },
   {
    "duration": 52,
    "start_time": "2022-11-15T18:51:17.285Z"
   },
   {
    "duration": 9,
    "start_time": "2022-11-15T18:51:33.575Z"
   },
   {
    "duration": 8,
    "start_time": "2022-11-15T19:12:59.188Z"
   },
   {
    "duration": 7,
    "start_time": "2022-11-15T19:17:30.601Z"
   },
   {
    "duration": 8,
    "start_time": "2022-11-15T19:20:26.316Z"
   },
   {
    "duration": 25,
    "start_time": "2022-11-15T19:36:06.257Z"
   },
   {
    "duration": 18,
    "start_time": "2022-11-15T20:02:56.283Z"
   },
   {
    "duration": 11,
    "start_time": "2022-11-15T20:06:56.662Z"
   },
   {
    "duration": 51,
    "start_time": "2022-11-17T16:25:26.677Z"
   },
   {
    "duration": 1528,
    "start_time": "2022-11-17T16:25:36.238Z"
   },
   {
    "duration": 1855,
    "start_time": "2022-11-17T16:25:37.768Z"
   },
   {
    "duration": 16,
    "start_time": "2022-11-17T16:25:39.625Z"
   },
   {
    "duration": 12,
    "start_time": "2022-11-17T16:25:39.643Z"
   },
   {
    "duration": 5,
    "start_time": "2022-11-17T16:25:39.657Z"
   },
   {
    "duration": 7,
    "start_time": "2022-11-17T16:25:39.663Z"
   },
   {
    "duration": 30,
    "start_time": "2022-11-17T16:25:39.672Z"
   },
   {
    "duration": 238,
    "start_time": "2022-11-17T16:25:39.704Z"
   },
   {
    "duration": 8,
    "start_time": "2022-11-17T16:25:39.943Z"
   },
   {
    "duration": 12,
    "start_time": "2022-11-17T16:25:39.954Z"
   },
   {
    "duration": 13,
    "start_time": "2022-11-17T16:25:39.967Z"
   },
   {
    "duration": 26,
    "start_time": "2022-11-17T16:25:39.981Z"
   },
   {
    "duration": 35,
    "start_time": "2022-11-17T16:25:40.009Z"
   },
   {
    "duration": 229,
    "start_time": "2022-11-17T16:25:40.046Z"
   },
   {
    "duration": 9,
    "start_time": "2022-11-17T16:25:40.277Z"
   },
   {
    "duration": 7,
    "start_time": "2022-11-17T16:25:40.288Z"
   },
   {
    "duration": 51,
    "start_time": "2022-11-17T16:25:40.296Z"
   },
   {
    "duration": 35,
    "start_time": "2022-11-17T16:25:40.348Z"
   },
   {
    "duration": 163,
    "start_time": "2022-11-17T16:25:40.385Z"
   },
   {
    "duration": 409,
    "start_time": "2022-11-17T16:25:40.550Z"
   },
   {
    "duration": 188,
    "start_time": "2022-11-17T16:25:40.961Z"
   },
   {
    "duration": 165,
    "start_time": "2022-11-17T16:25:41.151Z"
   },
   {
    "duration": 336,
    "start_time": "2022-11-17T16:25:41.317Z"
   },
   {
    "duration": 236,
    "start_time": "2022-11-17T16:25:41.655Z"
   },
   {
    "duration": 4,
    "start_time": "2022-11-17T16:25:41.892Z"
   },
   {
    "duration": 2011,
    "start_time": "2022-11-17T16:25:41.898Z"
   },
   {
    "duration": 269,
    "start_time": "2022-11-17T16:25:43.911Z"
   },
   {
    "duration": 304,
    "start_time": "2022-11-17T16:25:44.185Z"
   },
   {
    "duration": 5,
    "start_time": "2022-11-17T16:25:44.491Z"
   },
   {
    "duration": 175,
    "start_time": "2022-11-17T16:25:44.498Z"
   },
   {
    "duration": 5,
    "start_time": "2022-11-17T16:25:44.675Z"
   },
   {
    "duration": 169,
    "start_time": "2022-11-17T16:25:44.682Z"
   },
   {
    "duration": 325,
    "start_time": "2022-11-17T16:25:44.853Z"
   },
   {
    "duration": 4,
    "start_time": "2022-11-17T16:25:45.179Z"
   },
   {
    "duration": 19,
    "start_time": "2022-11-17T16:25:45.184Z"
   },
   {
    "duration": 9,
    "start_time": "2022-11-17T16:25:45.204Z"
   },
   {
    "duration": 10,
    "start_time": "2022-11-17T16:25:45.215Z"
   },
   {
    "duration": 1294,
    "start_time": "2022-11-17T16:25:45.226Z"
   },
   {
    "duration": 35,
    "start_time": "2022-11-17T16:25:46.521Z"
   },
   {
    "duration": 124,
    "start_time": "2022-11-17T16:25:46.558Z"
   },
   {
    "duration": 0,
    "start_time": "2022-11-17T16:25:46.683Z"
   },
   {
    "duration": 0,
    "start_time": "2022-11-17T16:25:46.684Z"
   },
   {
    "duration": 0,
    "start_time": "2022-11-17T16:25:46.686Z"
   },
   {
    "duration": 0,
    "start_time": "2022-11-17T16:25:46.687Z"
   },
   {
    "duration": 0,
    "start_time": "2022-11-17T16:25:46.688Z"
   },
   {
    "duration": 0,
    "start_time": "2022-11-17T16:25:46.689Z"
   },
   {
    "duration": 0,
    "start_time": "2022-11-17T16:25:46.690Z"
   },
   {
    "duration": 0,
    "start_time": "2022-11-17T16:25:46.691Z"
   },
   {
    "duration": 0,
    "start_time": "2022-11-17T16:25:46.692Z"
   },
   {
    "duration": 0,
    "start_time": "2022-11-17T16:25:46.693Z"
   },
   {
    "duration": 0,
    "start_time": "2022-11-17T16:25:46.694Z"
   },
   {
    "duration": 0,
    "start_time": "2022-11-17T16:25:46.695Z"
   },
   {
    "duration": 0,
    "start_time": "2022-11-17T16:25:46.696Z"
   },
   {
    "duration": 0,
    "start_time": "2022-11-17T16:25:46.697Z"
   },
   {
    "duration": 72,
    "start_time": "2022-11-17T16:29:25.256Z"
   },
   {
    "duration": 18,
    "start_time": "2022-11-17T16:29:27.971Z"
   },
   {
    "duration": 24,
    "start_time": "2022-11-17T16:34:52.010Z"
   },
   {
    "duration": 58,
    "start_time": "2022-11-17T16:48:32.847Z"
   },
   {
    "duration": 1226,
    "start_time": "2022-11-17T16:49:37.497Z"
   },
   {
    "duration": 1135,
    "start_time": "2022-11-17T16:49:38.725Z"
   },
   {
    "duration": 14,
    "start_time": "2022-11-17T16:49:39.861Z"
   },
   {
    "duration": 11,
    "start_time": "2022-11-17T16:49:39.877Z"
   },
   {
    "duration": 10,
    "start_time": "2022-11-17T16:49:39.891Z"
   },
   {
    "duration": 10,
    "start_time": "2022-11-17T16:49:39.902Z"
   },
   {
    "duration": 16,
    "start_time": "2022-11-17T16:49:39.913Z"
   },
   {
    "duration": 236,
    "start_time": "2022-11-17T16:49:39.931Z"
   },
   {
    "duration": 7,
    "start_time": "2022-11-17T16:49:40.169Z"
   },
   {
    "duration": 7,
    "start_time": "2022-11-17T16:49:40.177Z"
   },
   {
    "duration": 8,
    "start_time": "2022-11-17T16:49:40.186Z"
   },
   {
    "duration": 16,
    "start_time": "2022-11-17T16:49:40.195Z"
   },
   {
    "duration": 28,
    "start_time": "2022-11-17T16:49:40.213Z"
   },
   {
    "duration": 231,
    "start_time": "2022-11-17T16:49:40.244Z"
   },
   {
    "duration": 11,
    "start_time": "2022-11-17T16:49:40.478Z"
   },
   {
    "duration": 11,
    "start_time": "2022-11-17T16:49:40.490Z"
   },
   {
    "duration": 59,
    "start_time": "2022-11-17T16:49:40.503Z"
   },
   {
    "duration": 38,
    "start_time": "2022-11-17T16:49:40.563Z"
   },
   {
    "duration": 170,
    "start_time": "2022-11-17T16:49:40.603Z"
   },
   {
    "duration": 473,
    "start_time": "2022-11-17T16:49:40.775Z"
   },
   {
    "duration": 189,
    "start_time": "2022-11-17T16:49:41.249Z"
   },
   {
    "duration": 176,
    "start_time": "2022-11-17T16:49:41.440Z"
   },
   {
    "duration": 385,
    "start_time": "2022-11-17T16:49:41.618Z"
   },
   {
    "duration": 296,
    "start_time": "2022-11-17T16:49:42.005Z"
   },
   {
    "duration": 5,
    "start_time": "2022-11-17T16:49:42.303Z"
   },
   {
    "duration": 2298,
    "start_time": "2022-11-17T16:49:42.310Z"
   },
   {
    "duration": 287,
    "start_time": "2022-11-17T16:49:44.610Z"
   },
   {
    "duration": 360,
    "start_time": "2022-11-17T16:49:44.899Z"
   },
   {
    "duration": 7,
    "start_time": "2022-11-17T16:49:45.261Z"
   },
   {
    "duration": 192,
    "start_time": "2022-11-17T16:49:45.269Z"
   },
   {
    "duration": 5,
    "start_time": "2022-11-17T16:49:45.462Z"
   },
   {
    "duration": 190,
    "start_time": "2022-11-17T16:49:45.469Z"
   },
   {
    "duration": 353,
    "start_time": "2022-11-17T16:49:45.661Z"
   },
   {
    "duration": 3,
    "start_time": "2022-11-17T16:49:46.016Z"
   },
   {
    "duration": 22,
    "start_time": "2022-11-17T16:49:46.021Z"
   },
   {
    "duration": 9,
    "start_time": "2022-11-17T16:49:46.045Z"
   },
   {
    "duration": 7,
    "start_time": "2022-11-17T16:49:46.056Z"
   },
   {
    "duration": 1452,
    "start_time": "2022-11-17T16:49:46.065Z"
   },
   {
    "duration": 36,
    "start_time": "2022-11-17T16:49:47.519Z"
   },
   {
    "duration": 45,
    "start_time": "2022-11-17T16:49:47.556Z"
   },
   {
    "duration": 0,
    "start_time": "2022-11-17T16:49:47.603Z"
   },
   {
    "duration": 0,
    "start_time": "2022-11-17T16:49:47.604Z"
   },
   {
    "duration": 0,
    "start_time": "2022-11-17T16:49:47.605Z"
   },
   {
    "duration": 0,
    "start_time": "2022-11-17T16:49:47.606Z"
   },
   {
    "duration": 0,
    "start_time": "2022-11-17T16:49:47.607Z"
   },
   {
    "duration": 0,
    "start_time": "2022-11-17T16:49:47.608Z"
   },
   {
    "duration": 0,
    "start_time": "2022-11-17T16:49:47.609Z"
   },
   {
    "duration": 0,
    "start_time": "2022-11-17T16:49:47.610Z"
   },
   {
    "duration": 0,
    "start_time": "2022-11-17T16:49:47.612Z"
   },
   {
    "duration": 0,
    "start_time": "2022-11-17T16:49:47.613Z"
   },
   {
    "duration": 0,
    "start_time": "2022-11-17T16:49:47.613Z"
   },
   {
    "duration": 0,
    "start_time": "2022-11-17T16:49:47.615Z"
   },
   {
    "duration": 0,
    "start_time": "2022-11-17T16:49:47.616Z"
   },
   {
    "duration": 0,
    "start_time": "2022-11-17T16:49:47.617Z"
   },
   {
    "duration": 66,
    "start_time": "2022-11-17T16:50:38.049Z"
   },
   {
    "duration": 76,
    "start_time": "2022-11-17T16:51:07.305Z"
   },
   {
    "duration": 50,
    "start_time": "2022-11-17T16:51:15.326Z"
   },
   {
    "duration": 47,
    "start_time": "2022-11-17T16:51:34.705Z"
   },
   {
    "duration": 112,
    "start_time": "2022-11-17T16:51:47.467Z"
   },
   {
    "duration": 49,
    "start_time": "2022-11-17T16:52:03.447Z"
   },
   {
    "duration": 45,
    "start_time": "2022-11-17T16:52:10.137Z"
   },
   {
    "duration": 48,
    "start_time": "2022-11-17T16:53:12.026Z"
   },
   {
    "duration": 69,
    "start_time": "2022-11-17T16:53:20.483Z"
   },
   {
    "duration": 47,
    "start_time": "2022-11-17T16:53:44.038Z"
   },
   {
    "duration": 51,
    "start_time": "2022-11-17T16:53:52.393Z"
   },
   {
    "duration": 15,
    "start_time": "2022-11-17T16:57:14.337Z"
   },
   {
    "duration": 74,
    "start_time": "2022-11-17T16:57:21.758Z"
   },
   {
    "duration": 1353,
    "start_time": "2022-11-17T16:57:31.417Z"
   },
   {
    "duration": 1576,
    "start_time": "2022-11-17T16:57:32.772Z"
   },
   {
    "duration": 15,
    "start_time": "2022-11-17T16:57:34.350Z"
   },
   {
    "duration": 14,
    "start_time": "2022-11-17T16:57:34.366Z"
   },
   {
    "duration": 18,
    "start_time": "2022-11-17T16:57:34.381Z"
   },
   {
    "duration": 9,
    "start_time": "2022-11-17T16:57:34.401Z"
   },
   {
    "duration": 16,
    "start_time": "2022-11-17T16:57:34.412Z"
   },
   {
    "duration": 249,
    "start_time": "2022-11-17T16:57:34.429Z"
   },
   {
    "duration": 7,
    "start_time": "2022-11-17T16:57:34.680Z"
   },
   {
    "duration": 14,
    "start_time": "2022-11-17T16:57:34.688Z"
   },
   {
    "duration": 12,
    "start_time": "2022-11-17T16:57:34.704Z"
   },
   {
    "duration": 23,
    "start_time": "2022-11-17T16:57:34.718Z"
   },
   {
    "duration": 8,
    "start_time": "2022-11-17T16:57:34.742Z"
   },
   {
    "duration": 262,
    "start_time": "2022-11-17T16:57:34.752Z"
   },
   {
    "duration": 19,
    "start_time": "2022-11-17T16:57:35.016Z"
   },
   {
    "duration": 10,
    "start_time": "2022-11-17T16:57:35.036Z"
   },
   {
    "duration": 41,
    "start_time": "2022-11-17T16:57:35.047Z"
   },
   {
    "duration": 61,
    "start_time": "2022-11-17T16:57:35.090Z"
   },
   {
    "duration": 147,
    "start_time": "2022-11-17T16:57:35.153Z"
   },
   {
    "duration": 459,
    "start_time": "2022-11-17T16:57:35.302Z"
   },
   {
    "duration": 201,
    "start_time": "2022-11-17T16:57:35.763Z"
   },
   {
    "duration": 189,
    "start_time": "2022-11-17T16:57:35.966Z"
   },
   {
    "duration": 373,
    "start_time": "2022-11-17T16:57:36.157Z"
   },
   {
    "duration": 303,
    "start_time": "2022-11-17T16:57:36.532Z"
   },
   {
    "duration": 4,
    "start_time": "2022-11-17T16:57:36.837Z"
   },
   {
    "duration": 2237,
    "start_time": "2022-11-17T16:57:36.843Z"
   },
   {
    "duration": 308,
    "start_time": "2022-11-17T16:57:39.082Z"
   },
   {
    "duration": 382,
    "start_time": "2022-11-17T16:57:39.392Z"
   },
   {
    "duration": 7,
    "start_time": "2022-11-17T16:57:39.776Z"
   },
   {
    "duration": 192,
    "start_time": "2022-11-17T16:57:39.785Z"
   },
   {
    "duration": 7,
    "start_time": "2022-11-17T16:57:39.979Z"
   },
   {
    "duration": 201,
    "start_time": "2022-11-17T16:57:39.988Z"
   },
   {
    "duration": 360,
    "start_time": "2022-11-17T16:57:40.191Z"
   },
   {
    "duration": 3,
    "start_time": "2022-11-17T16:57:40.553Z"
   },
   {
    "duration": 10,
    "start_time": "2022-11-17T16:57:40.557Z"
   },
   {
    "duration": 7,
    "start_time": "2022-11-17T16:57:40.568Z"
   },
   {
    "duration": 4,
    "start_time": "2022-11-17T16:57:40.576Z"
   },
   {
    "duration": 1382,
    "start_time": "2022-11-17T16:57:40.582Z"
   },
   {
    "duration": 42,
    "start_time": "2022-11-17T16:57:41.966Z"
   },
   {
    "duration": 35,
    "start_time": "2022-11-17T16:57:42.010Z"
   },
   {
    "duration": 74,
    "start_time": "2022-11-17T16:57:42.049Z"
   },
   {
    "duration": 19,
    "start_time": "2022-11-17T16:57:42.134Z"
   },
   {
    "duration": 10,
    "start_time": "2022-11-17T16:57:42.155Z"
   },
   {
    "duration": 19,
    "start_time": "2022-11-17T16:57:42.166Z"
   },
   {
    "duration": 16,
    "start_time": "2022-11-17T16:57:42.187Z"
   },
   {
    "duration": 69,
    "start_time": "2022-11-17T16:57:42.204Z"
   },
   {
    "duration": 30,
    "start_time": "2022-11-17T16:57:42.275Z"
   },
   {
    "duration": 1370,
    "start_time": "2022-11-17T16:57:42.307Z"
   },
   {
    "duration": 19,
    "start_time": "2022-11-17T16:57:43.678Z"
   },
   {
    "duration": 10,
    "start_time": "2022-11-17T16:57:43.699Z"
   },
   {
    "duration": 36,
    "start_time": "2022-11-17T16:57:43.711Z"
   },
   {
    "duration": 4,
    "start_time": "2022-11-17T16:57:43.749Z"
   },
   {
    "duration": 24,
    "start_time": "2022-11-17T16:57:43.754Z"
   },
   {
    "duration": 1408,
    "start_time": "2022-11-17T16:57:43.779Z"
   },
   {
    "duration": 994,
    "start_time": "2022-11-17T16:57:45.189Z"
   },
   {
    "duration": 8,
    "start_time": "2022-11-17T16:58:12.546Z"
   },
   {
    "duration": 79,
    "start_time": "2022-11-17T16:58:12.996Z"
   },
   {
    "duration": 19,
    "start_time": "2022-11-17T16:58:16.326Z"
   },
   {
    "duration": 15,
    "start_time": "2022-11-17T16:59:05.351Z"
   },
   {
    "duration": 46,
    "start_time": "2022-11-17T16:59:05.917Z"
   },
   {
    "duration": 22,
    "start_time": "2022-11-17T16:59:09.267Z"
   },
   {
    "duration": 6,
    "start_time": "2022-11-17T17:11:06.872Z"
   },
   {
    "duration": 49,
    "start_time": "2022-11-17T17:11:07.196Z"
   },
   {
    "duration": 17,
    "start_time": "2022-11-17T17:11:09.961Z"
   },
   {
    "duration": 17,
    "start_time": "2022-11-17T17:12:47.828Z"
   },
   {
    "duration": 3,
    "start_time": "2022-11-17T17:13:25.429Z"
   },
   {
    "duration": 146,
    "start_time": "2022-11-17T17:15:38.997Z"
   },
   {
    "duration": 33,
    "start_time": "2022-11-17T17:16:07.496Z"
   },
   {
    "duration": 53,
    "start_time": "2022-11-17T17:17:49.807Z"
   },
   {
    "duration": 19,
    "start_time": "2022-11-17T17:18:09.657Z"
   },
   {
    "duration": 18,
    "start_time": "2022-11-17T17:19:40.788Z"
   },
   {
    "duration": 4,
    "start_time": "2022-11-17T18:39:15.404Z"
   },
   {
    "duration": 728,
    "start_time": "2022-11-17T18:39:54.725Z"
   },
   {
    "duration": 666,
    "start_time": "2022-11-17T18:40:10.086Z"
   },
   {
    "duration": 17,
    "start_time": "2022-11-17T19:16:52.502Z"
   },
   {
    "duration": 11,
    "start_time": "2022-11-17T19:18:38.527Z"
   },
   {
    "duration": 12,
    "start_time": "2022-11-17T19:32:50.157Z"
   },
   {
    "duration": 15,
    "start_time": "2022-11-17T19:33:35.097Z"
   },
   {
    "duration": 11,
    "start_time": "2022-11-17T19:34:19.007Z"
   },
   {
    "duration": 6,
    "start_time": "2022-11-17T19:38:29.688Z"
   },
   {
    "duration": 22,
    "start_time": "2022-11-17T19:38:55.069Z"
   },
   {
    "duration": 7,
    "start_time": "2022-11-17T19:38:55.841Z"
   },
   {
    "duration": 6,
    "start_time": "2022-11-17T19:39:21.669Z"
   },
   {
    "duration": 1300,
    "start_time": "2022-11-17T19:39:54.750Z"
   },
   {
    "duration": 1954,
    "start_time": "2022-11-17T19:39:56.052Z"
   },
   {
    "duration": 18,
    "start_time": "2022-11-17T19:39:58.008Z"
   },
   {
    "duration": 96,
    "start_time": "2022-11-17T19:39:58.028Z"
   },
   {
    "duration": 49,
    "start_time": "2022-11-17T19:39:58.126Z"
   },
   {
    "duration": 20,
    "start_time": "2022-11-17T19:39:58.177Z"
   },
   {
    "duration": 41,
    "start_time": "2022-11-17T19:39:58.199Z"
   },
   {
    "duration": 307,
    "start_time": "2022-11-17T19:39:58.241Z"
   },
   {
    "duration": 9,
    "start_time": "2022-11-17T19:39:58.550Z"
   },
   {
    "duration": 22,
    "start_time": "2022-11-17T19:39:58.563Z"
   },
   {
    "duration": 14,
    "start_time": "2022-11-17T19:39:58.586Z"
   },
   {
    "duration": 25,
    "start_time": "2022-11-17T19:39:58.602Z"
   },
   {
    "duration": 12,
    "start_time": "2022-11-17T19:39:58.628Z"
   },
   {
    "duration": 252,
    "start_time": "2022-11-17T19:39:58.641Z"
   },
   {
    "duration": 9,
    "start_time": "2022-11-17T19:39:58.894Z"
   },
   {
    "duration": 11,
    "start_time": "2022-11-17T19:39:58.905Z"
   },
   {
    "duration": 51,
    "start_time": "2022-11-17T19:39:58.918Z"
   },
   {
    "duration": 37,
    "start_time": "2022-11-17T19:39:58.970Z"
   },
   {
    "duration": 172,
    "start_time": "2022-11-17T19:39:59.008Z"
   },
   {
    "duration": 465,
    "start_time": "2022-11-17T19:39:59.182Z"
   },
   {
    "duration": 190,
    "start_time": "2022-11-17T19:39:59.649Z"
   },
   {
    "duration": 201,
    "start_time": "2022-11-17T19:39:59.841Z"
   },
   {
    "duration": 372,
    "start_time": "2022-11-17T19:40:00.053Z"
   },
   {
    "duration": 265,
    "start_time": "2022-11-17T19:40:00.427Z"
   },
   {
    "duration": 5,
    "start_time": "2022-11-17T19:40:00.694Z"
   },
   {
    "duration": 2219,
    "start_time": "2022-11-17T19:40:00.701Z"
   },
   {
    "duration": 299,
    "start_time": "2022-11-17T19:40:02.922Z"
   },
   {
    "duration": 358,
    "start_time": "2022-11-17T19:40:03.225Z"
   },
   {
    "duration": 6,
    "start_time": "2022-11-17T19:40:03.586Z"
   },
   {
    "duration": 192,
    "start_time": "2022-11-17T19:40:03.594Z"
   },
   {
    "duration": 6,
    "start_time": "2022-11-17T19:40:03.789Z"
   },
   {
    "duration": 193,
    "start_time": "2022-11-17T19:40:03.797Z"
   },
   {
    "duration": 365,
    "start_time": "2022-11-17T19:40:03.993Z"
   },
   {
    "duration": 3,
    "start_time": "2022-11-17T19:40:04.360Z"
   },
   {
    "duration": 10,
    "start_time": "2022-11-17T19:40:04.364Z"
   },
   {
    "duration": 11,
    "start_time": "2022-11-17T19:40:04.376Z"
   },
   {
    "duration": 7,
    "start_time": "2022-11-17T19:40:04.388Z"
   },
   {
    "duration": 1455,
    "start_time": "2022-11-17T19:40:04.396Z"
   },
   {
    "duration": 15,
    "start_time": "2022-11-17T19:40:05.853Z"
   },
   {
    "duration": 53,
    "start_time": "2022-11-17T19:40:05.869Z"
   },
   {
    "duration": 18,
    "start_time": "2022-11-17T19:40:05.934Z"
   },
   {
    "duration": 7,
    "start_time": "2022-11-17T19:40:05.954Z"
   },
   {
    "duration": 14,
    "start_time": "2022-11-17T19:40:05.963Z"
   },
   {
    "duration": 14,
    "start_time": "2022-11-17T19:40:05.979Z"
   },
   {
    "duration": 41,
    "start_time": "2022-11-17T19:40:05.995Z"
   },
   {
    "duration": 26,
    "start_time": "2022-11-17T19:40:06.038Z"
   },
   {
    "duration": 1367,
    "start_time": "2022-11-17T19:40:06.066Z"
   },
   {
    "duration": 20,
    "start_time": "2022-11-17T19:40:07.435Z"
   },
   {
    "duration": 5,
    "start_time": "2022-11-17T19:40:07.457Z"
   },
   {
    "duration": 17,
    "start_time": "2022-11-17T19:40:07.464Z"
   },
   {
    "duration": 21,
    "start_time": "2022-11-17T19:40:07.482Z"
   },
   {
    "duration": 32,
    "start_time": "2022-11-17T19:40:07.505Z"
   },
   {
    "duration": 22,
    "start_time": "2022-11-17T19:40:07.539Z"
   },
   {
    "duration": 1500,
    "start_time": "2022-11-17T19:40:07.562Z"
   },
   {
    "duration": 963,
    "start_time": "2022-11-17T19:40:09.065Z"
   },
   {
    "duration": 23,
    "start_time": "2022-11-17T19:40:42.400Z"
   },
   {
    "duration": 5,
    "start_time": "2022-11-17T19:40:42.790Z"
   },
   {
    "duration": 20,
    "start_time": "2022-11-17T19:41:46.107Z"
   },
   {
    "duration": 6,
    "start_time": "2022-11-17T19:41:46.896Z"
   },
   {
    "duration": 7,
    "start_time": "2022-11-17T19:43:48.547Z"
   },
   {
    "duration": 6,
    "start_time": "2022-11-17T19:45:47.800Z"
   },
   {
    "duration": 5,
    "start_time": "2022-11-17T19:48:31.428Z"
   },
   {
    "duration": 12,
    "start_time": "2022-11-17T19:48:44.359Z"
   },
   {
    "duration": 20,
    "start_time": "2022-11-17T19:48:47.590Z"
   },
   {
    "duration": 5,
    "start_time": "2022-11-17T19:48:48.330Z"
   },
   {
    "duration": 49,
    "start_time": "2022-11-18T05:01:26.601Z"
   },
   {
    "duration": 1467,
    "start_time": "2022-11-18T05:01:50.000Z"
   },
   {
    "duration": 1430,
    "start_time": "2022-11-18T05:01:51.469Z"
   },
   {
    "duration": 16,
    "start_time": "2022-11-18T05:01:52.900Z"
   },
   {
    "duration": 34,
    "start_time": "2022-11-18T05:01:52.918Z"
   },
   {
    "duration": 20,
    "start_time": "2022-11-18T05:01:52.954Z"
   },
   {
    "duration": 60,
    "start_time": "2022-11-18T05:01:52.976Z"
   },
   {
    "duration": 40,
    "start_time": "2022-11-18T05:01:53.037Z"
   },
   {
    "duration": 287,
    "start_time": "2022-11-18T05:01:53.078Z"
   },
   {
    "duration": 8,
    "start_time": "2022-11-18T05:01:53.366Z"
   },
   {
    "duration": 23,
    "start_time": "2022-11-18T05:01:53.376Z"
   },
   {
    "duration": 27,
    "start_time": "2022-11-18T05:01:53.400Z"
   },
   {
    "duration": 27,
    "start_time": "2022-11-18T05:01:53.429Z"
   },
   {
    "duration": 17,
    "start_time": "2022-11-18T05:01:53.458Z"
   },
   {
    "duration": 275,
    "start_time": "2022-11-18T05:01:53.477Z"
   },
   {
    "duration": 11,
    "start_time": "2022-11-18T05:01:53.755Z"
   },
   {
    "duration": 26,
    "start_time": "2022-11-18T05:01:53.768Z"
   },
   {
    "duration": 60,
    "start_time": "2022-11-18T05:01:53.796Z"
   },
   {
    "duration": 40,
    "start_time": "2022-11-18T05:01:53.857Z"
   },
   {
    "duration": 196,
    "start_time": "2022-11-18T05:01:53.898Z"
   },
   {
    "duration": 513,
    "start_time": "2022-11-18T05:01:54.095Z"
   },
   {
    "duration": 202,
    "start_time": "2022-11-18T05:01:54.610Z"
   },
   {
    "duration": 198,
    "start_time": "2022-11-18T05:01:54.813Z"
   },
   {
    "duration": 402,
    "start_time": "2022-11-18T05:01:55.013Z"
   },
   {
    "duration": 267,
    "start_time": "2022-11-18T05:01:55.417Z"
   },
   {
    "duration": 5,
    "start_time": "2022-11-18T05:01:55.686Z"
   },
   {
    "duration": 2198,
    "start_time": "2022-11-18T05:01:55.692Z"
   },
   {
    "duration": 321,
    "start_time": "2022-11-18T05:01:57.892Z"
   },
   {
    "duration": 359,
    "start_time": "2022-11-18T05:01:58.218Z"
   },
   {
    "duration": 6,
    "start_time": "2022-11-18T05:01:58.579Z"
   },
   {
    "duration": 206,
    "start_time": "2022-11-18T05:01:58.587Z"
   },
   {
    "duration": 7,
    "start_time": "2022-11-18T05:01:58.795Z"
   },
   {
    "duration": 201,
    "start_time": "2022-11-18T05:01:58.803Z"
   },
   {
    "duration": 381,
    "start_time": "2022-11-18T05:01:59.005Z"
   },
   {
    "duration": 4,
    "start_time": "2022-11-18T05:01:59.387Z"
   },
   {
    "duration": 7,
    "start_time": "2022-11-18T05:01:59.393Z"
   },
   {
    "duration": 10,
    "start_time": "2022-11-18T05:01:59.402Z"
   },
   {
    "duration": 13,
    "start_time": "2022-11-18T05:01:59.414Z"
   },
   {
    "duration": 1558,
    "start_time": "2022-11-18T05:01:59.429Z"
   },
   {
    "duration": 18,
    "start_time": "2022-11-18T05:02:00.990Z"
   },
   {
    "duration": 66,
    "start_time": "2022-11-18T05:02:01.009Z"
   },
   {
    "duration": 20,
    "start_time": "2022-11-18T05:02:01.077Z"
   },
   {
    "duration": 11,
    "start_time": "2022-11-18T05:02:01.100Z"
   },
   {
    "duration": 36,
    "start_time": "2022-11-18T05:02:01.113Z"
   },
   {
    "duration": 22,
    "start_time": "2022-11-18T05:02:01.151Z"
   },
   {
    "duration": 42,
    "start_time": "2022-11-18T05:02:01.174Z"
   },
   {
    "duration": 58,
    "start_time": "2022-11-18T05:02:01.218Z"
   },
   {
    "duration": 1450,
    "start_time": "2022-11-18T05:02:01.278Z"
   },
   {
    "duration": 34,
    "start_time": "2022-11-18T05:02:02.730Z"
   },
   {
    "duration": 6,
    "start_time": "2022-11-18T05:02:02.765Z"
   },
   {
    "duration": 129,
    "start_time": "2022-11-18T05:02:02.773Z"
   },
   {
    "duration": 0,
    "start_time": "2022-11-18T05:02:02.903Z"
   },
   {
    "duration": 0,
    "start_time": "2022-11-18T05:02:02.905Z"
   },
   {
    "duration": 0,
    "start_time": "2022-11-18T05:02:02.906Z"
   },
   {
    "duration": 0,
    "start_time": "2022-11-18T05:02:02.908Z"
   },
   {
    "duration": 0,
    "start_time": "2022-11-18T05:02:02.909Z"
   },
   {
    "duration": 6,
    "start_time": "2022-11-18T05:02:34.332Z"
   },
   {
    "duration": 12,
    "start_time": "2022-11-18T05:02:57.801Z"
   },
   {
    "duration": 25,
    "start_time": "2022-11-18T05:03:15.102Z"
   },
   {
    "duration": 6,
    "start_time": "2022-11-18T05:03:17.042Z"
   },
   {
    "duration": 8,
    "start_time": "2022-11-18T05:06:14.252Z"
   },
   {
    "duration": 1382,
    "start_time": "2022-11-18T05:06:29.621Z"
   },
   {
    "duration": 1503,
    "start_time": "2022-11-18T05:06:31.005Z"
   },
   {
    "duration": 24,
    "start_time": "2022-11-18T05:06:32.510Z"
   },
   {
    "duration": 28,
    "start_time": "2022-11-18T05:06:32.537Z"
   },
   {
    "duration": 10,
    "start_time": "2022-11-18T05:06:32.568Z"
   },
   {
    "duration": 28,
    "start_time": "2022-11-18T05:06:32.580Z"
   },
   {
    "duration": 21,
    "start_time": "2022-11-18T05:06:32.610Z"
   },
   {
    "duration": 317,
    "start_time": "2022-11-18T05:06:32.633Z"
   },
   {
    "duration": 13,
    "start_time": "2022-11-18T05:06:32.953Z"
   },
   {
    "duration": 24,
    "start_time": "2022-11-18T05:06:32.968Z"
   },
   {
    "duration": 30,
    "start_time": "2022-11-18T05:06:32.995Z"
   },
   {
    "duration": 47,
    "start_time": "2022-11-18T05:06:33.027Z"
   },
   {
    "duration": 14,
    "start_time": "2022-11-18T05:06:33.076Z"
   },
   {
    "duration": 298,
    "start_time": "2022-11-18T05:06:33.094Z"
   },
   {
    "duration": 12,
    "start_time": "2022-11-18T05:06:33.394Z"
   },
   {
    "duration": 12,
    "start_time": "2022-11-18T05:06:33.408Z"
   },
   {
    "duration": 86,
    "start_time": "2022-11-18T05:06:33.422Z"
   },
   {
    "duration": 58,
    "start_time": "2022-11-18T05:06:33.510Z"
   },
   {
    "duration": 182,
    "start_time": "2022-11-18T05:06:33.570Z"
   },
   {
    "duration": 595,
    "start_time": "2022-11-18T05:06:33.755Z"
   },
   {
    "duration": 241,
    "start_time": "2022-11-18T05:06:34.353Z"
   },
   {
    "duration": 194,
    "start_time": "2022-11-18T05:06:34.596Z"
   },
   {
    "duration": 419,
    "start_time": "2022-11-18T05:06:34.792Z"
   },
   {
    "duration": 278,
    "start_time": "2022-11-18T05:06:35.213Z"
   },
   {
    "duration": 6,
    "start_time": "2022-11-18T05:06:35.493Z"
   },
   {
    "duration": 2268,
    "start_time": "2022-11-18T05:06:35.501Z"
   },
   {
    "duration": 319,
    "start_time": "2022-11-18T05:06:37.771Z"
   },
   {
    "duration": 391,
    "start_time": "2022-11-18T05:06:38.093Z"
   },
   {
    "duration": 8,
    "start_time": "2022-11-18T05:06:38.486Z"
   },
   {
    "duration": 210,
    "start_time": "2022-11-18T05:06:38.496Z"
   },
   {
    "duration": 7,
    "start_time": "2022-11-18T05:06:38.708Z"
   },
   {
    "duration": 200,
    "start_time": "2022-11-18T05:06:38.716Z"
   },
   {
    "duration": 463,
    "start_time": "2022-11-18T05:06:38.918Z"
   },
   {
    "duration": 4,
    "start_time": "2022-11-18T05:06:39.383Z"
   },
   {
    "duration": 9,
    "start_time": "2022-11-18T05:06:39.389Z"
   },
   {
    "duration": 8,
    "start_time": "2022-11-18T05:06:39.400Z"
   },
   {
    "duration": 7,
    "start_time": "2022-11-18T05:06:39.409Z"
   },
   {
    "duration": 1624,
    "start_time": "2022-11-18T05:06:39.418Z"
   },
   {
    "duration": 17,
    "start_time": "2022-11-18T05:06:41.051Z"
   },
   {
    "duration": 63,
    "start_time": "2022-11-18T05:06:41.071Z"
   },
   {
    "duration": 23,
    "start_time": "2022-11-18T05:06:41.138Z"
   },
   {
    "duration": 8,
    "start_time": "2022-11-18T05:06:41.163Z"
   },
   {
    "duration": 16,
    "start_time": "2022-11-18T05:06:41.173Z"
   },
   {
    "duration": 7,
    "start_time": "2022-11-18T05:06:41.191Z"
   },
   {
    "duration": 21,
    "start_time": "2022-11-18T05:06:41.200Z"
   },
   {
    "duration": 52,
    "start_time": "2022-11-18T05:06:41.223Z"
   },
   {
    "duration": 1429,
    "start_time": "2022-11-18T05:06:41.277Z"
   },
   {
    "duration": 22,
    "start_time": "2022-11-18T05:06:42.708Z"
   },
   {
    "duration": 23,
    "start_time": "2022-11-18T05:06:42.732Z"
   },
   {
    "duration": 13,
    "start_time": "2022-11-18T05:06:42.757Z"
   },
   {
    "duration": 20,
    "start_time": "2022-11-18T05:06:42.772Z"
   },
   {
    "duration": 7,
    "start_time": "2022-11-18T05:06:42.794Z"
   },
   {
    "duration": 50,
    "start_time": "2022-11-18T05:06:42.802Z"
   },
   {
    "duration": 1481,
    "start_time": "2022-11-18T05:06:42.855Z"
   },
   {
    "duration": 1109,
    "start_time": "2022-11-18T05:06:44.338Z"
   },
   {
    "duration": 22,
    "start_time": "2022-11-18T05:07:39.430Z"
   },
   {
    "duration": 6,
    "start_time": "2022-11-18T05:07:40.220Z"
   },
   {
    "duration": 7,
    "start_time": "2022-11-18T05:08:37.952Z"
   },
   {
    "duration": 10,
    "start_time": "2022-11-18T05:09:24.961Z"
   },
   {
    "duration": 9,
    "start_time": "2022-11-18T05:09:45.168Z"
   },
   {
    "duration": 4,
    "start_time": "2022-11-18T05:10:30.241Z"
   },
   {
    "duration": 5,
    "start_time": "2022-11-18T05:10:31.592Z"
   },
   {
    "duration": 1352,
    "start_time": "2022-11-18T05:10:43.020Z"
   },
   {
    "duration": 1626,
    "start_time": "2022-11-18T05:10:44.374Z"
   },
   {
    "duration": 24,
    "start_time": "2022-11-18T05:10:46.002Z"
   },
   {
    "duration": 13,
    "start_time": "2022-11-18T05:10:46.028Z"
   },
   {
    "duration": 5,
    "start_time": "2022-11-18T05:10:46.042Z"
   },
   {
    "duration": 16,
    "start_time": "2022-11-18T05:10:46.048Z"
   },
   {
    "duration": 12,
    "start_time": "2022-11-18T05:10:46.066Z"
   },
   {
    "duration": 273,
    "start_time": "2022-11-18T05:10:46.080Z"
   },
   {
    "duration": 9,
    "start_time": "2022-11-18T05:10:46.356Z"
   },
   {
    "duration": 8,
    "start_time": "2022-11-18T05:10:46.369Z"
   },
   {
    "duration": 11,
    "start_time": "2022-11-18T05:10:46.379Z"
   },
   {
    "duration": 18,
    "start_time": "2022-11-18T05:10:46.392Z"
   },
   {
    "duration": 9,
    "start_time": "2022-11-18T05:10:46.412Z"
   },
   {
    "duration": 281,
    "start_time": "2022-11-18T05:10:46.452Z"
   },
   {
    "duration": 22,
    "start_time": "2022-11-18T05:10:46.735Z"
   },
   {
    "duration": 11,
    "start_time": "2022-11-18T05:10:46.758Z"
   },
   {
    "duration": 43,
    "start_time": "2022-11-18T05:10:46.771Z"
   },
   {
    "duration": 68,
    "start_time": "2022-11-18T05:10:46.816Z"
   },
   {
    "duration": 179,
    "start_time": "2022-11-18T05:10:46.885Z"
   },
   {
    "duration": 486,
    "start_time": "2022-11-18T05:10:47.066Z"
   },
   {
    "duration": 210,
    "start_time": "2022-11-18T05:10:47.554Z"
   },
   {
    "duration": 194,
    "start_time": "2022-11-18T05:10:47.765Z"
   },
   {
    "duration": 400,
    "start_time": "2022-11-18T05:10:47.961Z"
   },
   {
    "duration": 279,
    "start_time": "2022-11-18T05:10:48.362Z"
   },
   {
    "duration": 9,
    "start_time": "2022-11-18T05:10:48.643Z"
   },
   {
    "duration": 2399,
    "start_time": "2022-11-18T05:10:48.653Z"
   },
   {
    "duration": 316,
    "start_time": "2022-11-18T05:10:51.054Z"
   },
   {
    "duration": 376,
    "start_time": "2022-11-18T05:10:51.374Z"
   },
   {
    "duration": 7,
    "start_time": "2022-11-18T05:10:51.752Z"
   },
   {
    "duration": 203,
    "start_time": "2022-11-18T05:10:51.761Z"
   },
   {
    "duration": 6,
    "start_time": "2022-11-18T05:10:51.966Z"
   },
   {
    "duration": 209,
    "start_time": "2022-11-18T05:10:51.973Z"
   },
   {
    "duration": 363,
    "start_time": "2022-11-18T05:10:52.184Z"
   },
   {
    "duration": 4,
    "start_time": "2022-11-18T05:10:52.550Z"
   },
   {
    "duration": 22,
    "start_time": "2022-11-18T05:10:52.555Z"
   },
   {
    "duration": 11,
    "start_time": "2022-11-18T05:10:52.578Z"
   },
   {
    "duration": 16,
    "start_time": "2022-11-18T05:10:52.591Z"
   },
   {
    "duration": 1478,
    "start_time": "2022-11-18T05:10:52.609Z"
   },
   {
    "duration": 19,
    "start_time": "2022-11-18T05:10:54.089Z"
   },
   {
    "duration": 84,
    "start_time": "2022-11-18T05:10:54.109Z"
   },
   {
    "duration": 24,
    "start_time": "2022-11-18T05:10:54.196Z"
   },
   {
    "duration": 11,
    "start_time": "2022-11-18T05:10:54.222Z"
   },
   {
    "duration": 24,
    "start_time": "2022-11-18T05:10:54.236Z"
   },
   {
    "duration": 10,
    "start_time": "2022-11-18T05:10:54.262Z"
   },
   {
    "duration": 29,
    "start_time": "2022-11-18T05:10:54.274Z"
   },
   {
    "duration": 51,
    "start_time": "2022-11-18T05:10:54.305Z"
   },
   {
    "duration": 1328,
    "start_time": "2022-11-18T05:10:54.357Z"
   },
   {
    "duration": 21,
    "start_time": "2022-11-18T05:10:55.686Z"
   },
   {
    "duration": 8,
    "start_time": "2022-11-18T05:10:55.709Z"
   },
   {
    "duration": 31,
    "start_time": "2022-11-18T05:10:55.719Z"
   },
   {
    "duration": 24,
    "start_time": "2022-11-18T05:10:55.752Z"
   },
   {
    "duration": 21,
    "start_time": "2022-11-18T05:10:55.778Z"
   },
   {
    "duration": 8,
    "start_time": "2022-11-18T05:10:55.800Z"
   },
   {
    "duration": 6,
    "start_time": "2022-11-18T05:10:55.809Z"
   },
   {
    "duration": 6,
    "start_time": "2022-11-18T05:10:55.817Z"
   },
   {
    "duration": 42,
    "start_time": "2022-11-18T05:10:55.824Z"
   },
   {
    "duration": 1526,
    "start_time": "2022-11-18T05:10:55.868Z"
   },
   {
    "duration": 1014,
    "start_time": "2022-11-18T05:10:57.396Z"
   },
   {
    "duration": 24,
    "start_time": "2022-11-18T05:23:34.152Z"
   },
   {
    "duration": 6,
    "start_time": "2022-11-18T05:23:34.842Z"
   },
   {
    "duration": 70,
    "start_time": "2022-11-18T06:52:31.533Z"
   },
   {
    "duration": 70,
    "start_time": "2022-11-18T06:54:28.242Z"
   },
   {
    "duration": 122,
    "start_time": "2022-11-18T11:24:05.662Z"
   },
   {
    "duration": 14,
    "start_time": "2022-11-18T11:24:23.232Z"
   },
   {
    "duration": 1794,
    "start_time": "2022-11-18T11:25:58.849Z"
   },
   {
    "duration": 1374,
    "start_time": "2022-11-18T11:26:00.645Z"
   },
   {
    "duration": 18,
    "start_time": "2022-11-18T11:26:02.021Z"
   },
   {
    "duration": 14,
    "start_time": "2022-11-18T11:26:02.042Z"
   },
   {
    "duration": 4,
    "start_time": "2022-11-18T11:26:02.058Z"
   },
   {
    "duration": 11,
    "start_time": "2022-11-18T11:26:02.063Z"
   },
   {
    "duration": 13,
    "start_time": "2022-11-18T11:26:02.076Z"
   },
   {
    "duration": 296,
    "start_time": "2022-11-18T11:26:02.092Z"
   },
   {
    "duration": 8,
    "start_time": "2022-11-18T11:26:02.390Z"
   },
   {
    "duration": 6,
    "start_time": "2022-11-18T11:26:02.401Z"
   },
   {
    "duration": 12,
    "start_time": "2022-11-18T11:26:02.409Z"
   },
   {
    "duration": 42,
    "start_time": "2022-11-18T11:26:02.422Z"
   },
   {
    "duration": 8,
    "start_time": "2022-11-18T11:26:02.466Z"
   },
   {
    "duration": 346,
    "start_time": "2022-11-18T11:26:02.476Z"
   },
   {
    "duration": 11,
    "start_time": "2022-11-18T11:26:02.824Z"
   },
   {
    "duration": 10,
    "start_time": "2022-11-18T11:26:02.851Z"
   },
   {
    "duration": 41,
    "start_time": "2022-11-18T11:26:02.863Z"
   },
   {
    "duration": 62,
    "start_time": "2022-11-18T11:26:02.906Z"
   },
   {
    "duration": 191,
    "start_time": "2022-11-18T11:26:02.970Z"
   },
   {
    "duration": 416,
    "start_time": "2022-11-18T11:26:03.162Z"
   },
   {
    "duration": 200,
    "start_time": "2022-11-18T11:26:03.580Z"
   },
   {
    "duration": 200,
    "start_time": "2022-11-18T11:26:03.782Z"
   },
   {
    "duration": 414,
    "start_time": "2022-11-18T11:26:03.983Z"
   },
   {
    "duration": 274,
    "start_time": "2022-11-18T11:26:04.399Z"
   },
   {
    "duration": 5,
    "start_time": "2022-11-18T11:26:04.675Z"
   },
   {
    "duration": 2282,
    "start_time": "2022-11-18T11:26:04.682Z"
   },
   {
    "duration": 319,
    "start_time": "2022-11-18T11:26:06.966Z"
   },
   {
    "duration": 380,
    "start_time": "2022-11-18T11:26:07.289Z"
   },
   {
    "duration": 7,
    "start_time": "2022-11-18T11:26:07.670Z"
   },
   {
    "duration": 208,
    "start_time": "2022-11-18T11:26:07.679Z"
   },
   {
    "duration": 7,
    "start_time": "2022-11-18T11:26:07.889Z"
   },
   {
    "duration": 206,
    "start_time": "2022-11-18T11:26:07.898Z"
   },
   {
    "duration": 587,
    "start_time": "2022-11-18T11:26:08.106Z"
   },
   {
    "duration": 4,
    "start_time": "2022-11-18T11:26:08.694Z"
   },
   {
    "duration": 8,
    "start_time": "2022-11-18T11:26:08.699Z"
   },
   {
    "duration": 9,
    "start_time": "2022-11-18T11:26:08.708Z"
   },
   {
    "duration": 6,
    "start_time": "2022-11-18T11:26:08.719Z"
   },
   {
    "duration": 1458,
    "start_time": "2022-11-18T11:26:08.726Z"
   },
   {
    "duration": 22,
    "start_time": "2022-11-18T11:26:10.186Z"
   },
   {
    "duration": 83,
    "start_time": "2022-11-18T11:26:10.210Z"
   },
   {
    "duration": 26,
    "start_time": "2022-11-18T11:26:10.295Z"
   },
   {
    "duration": 28,
    "start_time": "2022-11-18T11:26:10.323Z"
   },
   {
    "duration": 10,
    "start_time": "2022-11-18T11:26:10.353Z"
   },
   {
    "duration": 9,
    "start_time": "2022-11-18T11:26:10.364Z"
   },
   {
    "duration": 26,
    "start_time": "2022-11-18T11:26:10.375Z"
   },
   {
    "duration": 49,
    "start_time": "2022-11-18T11:26:10.403Z"
   },
   {
    "duration": 1563,
    "start_time": "2022-11-18T11:26:10.454Z"
   },
   {
    "duration": 37,
    "start_time": "2022-11-18T11:26:12.019Z"
   },
   {
    "duration": 10,
    "start_time": "2022-11-18T11:26:12.059Z"
   },
   {
    "duration": 22,
    "start_time": "2022-11-18T11:26:12.072Z"
   },
   {
    "duration": 209,
    "start_time": "2022-11-18T11:26:12.097Z"
   },
   {
    "duration": 6,
    "start_time": "2022-11-18T11:26:12.308Z"
   },
   {
    "duration": 20,
    "start_time": "2022-11-18T11:26:12.315Z"
   },
   {
    "duration": 1668,
    "start_time": "2022-11-18T11:26:12.337Z"
   },
   {
    "duration": 1410,
    "start_time": "2022-11-18T11:26:14.008Z"
   },
   {
    "duration": 160,
    "start_time": "2022-11-18T11:26:15.421Z"
   },
   {
    "duration": 25,
    "start_time": "2022-11-18T11:32:16.392Z"
   },
   {
    "duration": 19,
    "start_time": "2022-11-18T11:33:13.073Z"
   },
   {
    "duration": 69,
    "start_time": "2022-11-18T11:33:41.944Z"
   },
   {
    "duration": 25,
    "start_time": "2022-11-18T11:34:28.702Z"
   },
   {
    "duration": 24,
    "start_time": "2022-11-18T11:37:35.553Z"
   },
   {
    "duration": 20,
    "start_time": "2022-11-18T11:39:20.695Z"
   },
   {
    "duration": 13,
    "start_time": "2022-11-18T11:39:38.569Z"
   },
   {
    "duration": 1585,
    "start_time": "2022-11-18T11:42:50.935Z"
   },
   {
    "duration": 1174,
    "start_time": "2022-11-18T11:42:52.521Z"
   },
   {
    "duration": 16,
    "start_time": "2022-11-18T11:42:53.697Z"
   },
   {
    "duration": 12,
    "start_time": "2022-11-18T11:42:53.715Z"
   },
   {
    "duration": 5,
    "start_time": "2022-11-18T11:42:53.729Z"
   },
   {
    "duration": 9,
    "start_time": "2022-11-18T11:42:53.736Z"
   },
   {
    "duration": 10,
    "start_time": "2022-11-18T11:42:53.746Z"
   },
   {
    "duration": 264,
    "start_time": "2022-11-18T11:42:53.758Z"
   },
   {
    "duration": 8,
    "start_time": "2022-11-18T11:42:54.024Z"
   },
   {
    "duration": 14,
    "start_time": "2022-11-18T11:42:54.036Z"
   },
   {
    "duration": 12,
    "start_time": "2022-11-18T11:42:54.053Z"
   },
   {
    "duration": 15,
    "start_time": "2022-11-18T11:42:54.067Z"
   },
   {
    "duration": 9,
    "start_time": "2022-11-18T11:42:54.083Z"
   },
   {
    "duration": 361,
    "start_time": "2022-11-18T11:42:54.094Z"
   },
   {
    "duration": 9,
    "start_time": "2022-11-18T11:42:54.457Z"
   },
   {
    "duration": 12,
    "start_time": "2022-11-18T11:42:54.468Z"
   },
   {
    "duration": 42,
    "start_time": "2022-11-18T11:42:54.482Z"
   },
   {
    "duration": 73,
    "start_time": "2022-11-18T11:42:54.526Z"
   },
   {
    "duration": 177,
    "start_time": "2022-11-18T11:42:54.601Z"
   },
   {
    "duration": 396,
    "start_time": "2022-11-18T11:42:54.780Z"
   },
   {
    "duration": 209,
    "start_time": "2022-11-18T11:42:55.177Z"
   },
   {
    "duration": 198,
    "start_time": "2022-11-18T11:42:55.388Z"
   },
   {
    "duration": 384,
    "start_time": "2022-11-18T11:42:55.587Z"
   },
   {
    "duration": 279,
    "start_time": "2022-11-18T11:42:55.973Z"
   },
   {
    "duration": 5,
    "start_time": "2022-11-18T11:42:56.253Z"
   },
   {
    "duration": 2233,
    "start_time": "2022-11-18T11:42:56.260Z"
   },
   {
    "duration": 310,
    "start_time": "2022-11-18T11:42:58.494Z"
   },
   {
    "duration": 377,
    "start_time": "2022-11-18T11:42:58.807Z"
   },
   {
    "duration": 8,
    "start_time": "2022-11-18T11:42:59.186Z"
   },
   {
    "duration": 209,
    "start_time": "2022-11-18T11:42:59.196Z"
   },
   {
    "duration": 6,
    "start_time": "2022-11-18T11:42:59.407Z"
   },
   {
    "duration": 220,
    "start_time": "2022-11-18T11:42:59.415Z"
   },
   {
    "duration": 626,
    "start_time": "2022-11-18T11:42:59.637Z"
   },
   {
    "duration": 3,
    "start_time": "2022-11-18T11:43:00.265Z"
   },
   {
    "duration": 21,
    "start_time": "2022-11-18T11:43:00.270Z"
   },
   {
    "duration": 25,
    "start_time": "2022-11-18T11:43:00.293Z"
   },
   {
    "duration": 31,
    "start_time": "2022-11-18T11:43:00.320Z"
   },
   {
    "duration": 1384,
    "start_time": "2022-11-18T11:43:00.353Z"
   },
   {
    "duration": 24,
    "start_time": "2022-11-18T11:43:01.740Z"
   },
   {
    "duration": 67,
    "start_time": "2022-11-18T11:43:01.766Z"
   },
   {
    "duration": 28,
    "start_time": "2022-11-18T11:43:01.835Z"
   },
   {
    "duration": 13,
    "start_time": "2022-11-18T11:43:01.865Z"
   },
   {
    "duration": 18,
    "start_time": "2022-11-18T11:43:01.880Z"
   },
   {
    "duration": 10,
    "start_time": "2022-11-18T11:43:01.900Z"
   },
   {
    "duration": 41,
    "start_time": "2022-11-18T11:43:01.912Z"
   },
   {
    "duration": 29,
    "start_time": "2022-11-18T11:43:01.954Z"
   },
   {
    "duration": 1343,
    "start_time": "2022-11-18T11:43:01.985Z"
   },
   {
    "duration": 30,
    "start_time": "2022-11-18T11:43:03.329Z"
   },
   {
    "duration": 6,
    "start_time": "2022-11-18T11:43:03.361Z"
   },
   {
    "duration": 23,
    "start_time": "2022-11-18T11:43:03.368Z"
   },
   {
    "duration": 142,
    "start_time": "2022-11-18T11:43:03.393Z"
   },
   {
    "duration": 6,
    "start_time": "2022-11-18T11:43:03.536Z"
   },
   {
    "duration": 35,
    "start_time": "2022-11-18T11:43:03.551Z"
   },
   {
    "duration": 1428,
    "start_time": "2022-11-18T11:43:03.588Z"
   },
   {
    "duration": 1161,
    "start_time": "2022-11-18T11:43:05.018Z"
   },
   {
    "duration": 25,
    "start_time": "2022-11-18T11:43:06.181Z"
   },
   {
    "duration": 18,
    "start_time": "2022-11-18T11:43:06.208Z"
   },
   {
    "duration": 1715,
    "start_time": "2022-11-18T11:44:49.648Z"
   },
   {
    "duration": 1158,
    "start_time": "2022-11-18T11:44:51.366Z"
   },
   {
    "duration": 21,
    "start_time": "2022-11-18T11:44:52.527Z"
   },
   {
    "duration": 23,
    "start_time": "2022-11-18T11:44:52.550Z"
   },
   {
    "duration": 4,
    "start_time": "2022-11-18T11:44:52.575Z"
   },
   {
    "duration": 22,
    "start_time": "2022-11-18T11:44:52.581Z"
   },
   {
    "duration": 32,
    "start_time": "2022-11-18T11:44:52.605Z"
   },
   {
    "duration": 307,
    "start_time": "2022-11-18T11:44:52.639Z"
   },
   {
    "duration": 9,
    "start_time": "2022-11-18T11:44:52.947Z"
   },
   {
    "duration": 28,
    "start_time": "2022-11-18T11:44:52.958Z"
   },
   {
    "duration": 18,
    "start_time": "2022-11-18T11:44:52.987Z"
   },
   {
    "duration": 22,
    "start_time": "2022-11-18T11:44:53.007Z"
   },
   {
    "duration": 8,
    "start_time": "2022-11-18T11:44:53.031Z"
   },
   {
    "duration": 347,
    "start_time": "2022-11-18T11:44:53.051Z"
   },
   {
    "duration": 14,
    "start_time": "2022-11-18T11:44:53.400Z"
   },
   {
    "duration": 11,
    "start_time": "2022-11-18T11:44:53.416Z"
   },
   {
    "duration": 64,
    "start_time": "2022-11-18T11:44:53.429Z"
   },
   {
    "duration": 57,
    "start_time": "2022-11-18T11:44:53.495Z"
   },
   {
    "duration": 196,
    "start_time": "2022-11-18T11:44:53.554Z"
   },
   {
    "duration": 449,
    "start_time": "2022-11-18T11:44:53.752Z"
   },
   {
    "duration": 204,
    "start_time": "2022-11-18T11:44:54.203Z"
   },
   {
    "duration": 198,
    "start_time": "2022-11-18T11:44:54.409Z"
   },
   {
    "duration": 386,
    "start_time": "2022-11-18T11:44:54.609Z"
   },
   {
    "duration": 293,
    "start_time": "2022-11-18T11:44:54.997Z"
   },
   {
    "duration": 5,
    "start_time": "2022-11-18T11:44:55.291Z"
   },
   {
    "duration": 2220,
    "start_time": "2022-11-18T11:44:55.298Z"
   },
   {
    "duration": 319,
    "start_time": "2022-11-18T11:44:57.520Z"
   },
   {
    "duration": 374,
    "start_time": "2022-11-18T11:44:57.851Z"
   },
   {
    "duration": 6,
    "start_time": "2022-11-18T11:44:58.228Z"
   },
   {
    "duration": 255,
    "start_time": "2022-11-18T11:44:58.236Z"
   },
   {
    "duration": 7,
    "start_time": "2022-11-18T11:44:58.493Z"
   },
   {
    "duration": 224,
    "start_time": "2022-11-18T11:44:58.501Z"
   },
   {
    "duration": 595,
    "start_time": "2022-11-18T11:44:58.727Z"
   },
   {
    "duration": 3,
    "start_time": "2022-11-18T11:44:59.324Z"
   },
   {
    "duration": 28,
    "start_time": "2022-11-18T11:44:59.329Z"
   },
   {
    "duration": 7,
    "start_time": "2022-11-18T11:44:59.359Z"
   },
   {
    "duration": 6,
    "start_time": "2022-11-18T11:44:59.367Z"
   },
   {
    "duration": 1472,
    "start_time": "2022-11-18T11:44:59.375Z"
   },
   {
    "duration": 17,
    "start_time": "2022-11-18T11:45:00.849Z"
   },
   {
    "duration": 53,
    "start_time": "2022-11-18T11:45:00.868Z"
   },
   {
    "duration": 42,
    "start_time": "2022-11-18T11:45:00.927Z"
   },
   {
    "duration": 10,
    "start_time": "2022-11-18T11:45:00.971Z"
   },
   {
    "duration": 27,
    "start_time": "2022-11-18T11:45:00.983Z"
   },
   {
    "duration": 14,
    "start_time": "2022-11-18T11:45:01.012Z"
   },
   {
    "duration": 44,
    "start_time": "2022-11-18T11:45:01.027Z"
   },
   {
    "duration": 41,
    "start_time": "2022-11-18T11:45:01.073Z"
   },
   {
    "duration": 1467,
    "start_time": "2022-11-18T11:45:01.116Z"
   },
   {
    "duration": 23,
    "start_time": "2022-11-18T11:45:02.585Z"
   },
   {
    "duration": 6,
    "start_time": "2022-11-18T11:45:02.610Z"
   },
   {
    "duration": 38,
    "start_time": "2022-11-18T11:45:02.618Z"
   },
   {
    "duration": 139,
    "start_time": "2022-11-18T11:45:02.658Z"
   },
   {
    "duration": 7,
    "start_time": "2022-11-18T11:45:02.798Z"
   },
   {
    "duration": 22,
    "start_time": "2022-11-18T11:45:02.806Z"
   },
   {
    "duration": 1394,
    "start_time": "2022-11-18T11:45:02.830Z"
   },
   {
    "duration": 1177,
    "start_time": "2022-11-18T11:45:04.225Z"
   },
   {
    "duration": 27,
    "start_time": "2022-11-18T11:45:05.404Z"
   },
   {
    "duration": 32,
    "start_time": "2022-11-18T11:45:05.433Z"
   },
   {
    "duration": 13,
    "start_time": "2022-11-18T11:53:13.424Z"
   },
   {
    "duration": 1627,
    "start_time": "2022-11-18T11:54:24.577Z"
   },
   {
    "duration": 1104,
    "start_time": "2022-11-18T11:54:26.206Z"
   },
   {
    "duration": 16,
    "start_time": "2022-11-18T11:54:27.312Z"
   },
   {
    "duration": 12,
    "start_time": "2022-11-18T11:54:27.329Z"
   },
   {
    "duration": 3,
    "start_time": "2022-11-18T11:54:27.344Z"
   },
   {
    "duration": 9,
    "start_time": "2022-11-18T11:54:27.348Z"
   },
   {
    "duration": 16,
    "start_time": "2022-11-18T11:54:27.359Z"
   },
   {
    "duration": 293,
    "start_time": "2022-11-18T11:54:27.376Z"
   },
   {
    "duration": 8,
    "start_time": "2022-11-18T11:54:27.671Z"
   },
   {
    "duration": 8,
    "start_time": "2022-11-18T11:54:27.680Z"
   },
   {
    "duration": 9,
    "start_time": "2022-11-18T11:54:27.689Z"
   },
   {
    "duration": 16,
    "start_time": "2022-11-18T11:54:27.699Z"
   },
   {
    "duration": 36,
    "start_time": "2022-11-18T11:54:27.717Z"
   },
   {
    "duration": 383,
    "start_time": "2022-11-18T11:54:27.758Z"
   },
   {
    "duration": 28,
    "start_time": "2022-11-18T11:54:28.143Z"
   },
   {
    "duration": 12,
    "start_time": "2022-11-18T11:54:28.177Z"
   },
   {
    "duration": 62,
    "start_time": "2022-11-18T11:54:28.191Z"
   },
   {
    "duration": 50,
    "start_time": "2022-11-18T11:54:28.255Z"
   },
   {
    "duration": 205,
    "start_time": "2022-11-18T11:54:28.307Z"
   },
   {
    "duration": 484,
    "start_time": "2022-11-18T11:54:28.514Z"
   },
   {
    "duration": 228,
    "start_time": "2022-11-18T11:54:29.000Z"
   },
   {
    "duration": 225,
    "start_time": "2022-11-18T11:54:29.229Z"
   },
   {
    "duration": 485,
    "start_time": "2022-11-18T11:54:29.457Z"
   },
   {
    "duration": 329,
    "start_time": "2022-11-18T11:54:29.943Z"
   },
   {
    "duration": 6,
    "start_time": "2022-11-18T11:54:30.275Z"
   },
   {
    "duration": 2556,
    "start_time": "2022-11-18T11:54:30.283Z"
   },
   {
    "duration": 375,
    "start_time": "2022-11-18T11:54:32.841Z"
   },
   {
    "duration": 423,
    "start_time": "2022-11-18T11:54:33.218Z"
   },
   {
    "duration": 11,
    "start_time": "2022-11-18T11:54:33.642Z"
   },
   {
    "duration": 235,
    "start_time": "2022-11-18T11:54:33.656Z"
   },
   {
    "duration": 7,
    "start_time": "2022-11-18T11:54:33.892Z"
   },
   {
    "duration": 220,
    "start_time": "2022-11-18T11:54:33.900Z"
   },
   {
    "duration": 617,
    "start_time": "2022-11-18T11:54:34.122Z"
   },
   {
    "duration": 13,
    "start_time": "2022-11-18T11:54:34.741Z"
   },
   {
    "duration": 8,
    "start_time": "2022-11-18T11:54:34.757Z"
   },
   {
    "duration": 10,
    "start_time": "2022-11-18T11:54:34.768Z"
   },
   {
    "duration": 5,
    "start_time": "2022-11-18T11:54:34.780Z"
   },
   {
    "duration": 1502,
    "start_time": "2022-11-18T11:54:34.787Z"
   },
   {
    "duration": 18,
    "start_time": "2022-11-18T11:54:36.291Z"
   },
   {
    "duration": 75,
    "start_time": "2022-11-18T11:54:36.310Z"
   },
   {
    "duration": 20,
    "start_time": "2022-11-18T11:54:36.390Z"
   },
   {
    "duration": 8,
    "start_time": "2022-11-18T11:54:36.411Z"
   },
   {
    "duration": 31,
    "start_time": "2022-11-18T11:54:36.421Z"
   },
   {
    "duration": 12,
    "start_time": "2022-11-18T11:54:36.454Z"
   },
   {
    "duration": 29,
    "start_time": "2022-11-18T11:54:36.468Z"
   },
   {
    "duration": 25,
    "start_time": "2022-11-18T11:54:36.500Z"
   },
   {
    "duration": 1392,
    "start_time": "2022-11-18T11:54:36.526Z"
   },
   {
    "duration": 31,
    "start_time": "2022-11-18T11:54:37.920Z"
   },
   {
    "duration": 7,
    "start_time": "2022-11-18T11:54:37.953Z"
   },
   {
    "duration": 28,
    "start_time": "2022-11-18T11:54:37.962Z"
   },
   {
    "duration": 148,
    "start_time": "2022-11-18T11:54:37.992Z"
   },
   {
    "duration": 13,
    "start_time": "2022-11-18T11:54:38.141Z"
   },
   {
    "duration": 28,
    "start_time": "2022-11-18T11:54:38.157Z"
   },
   {
    "duration": 1620,
    "start_time": "2022-11-18T11:54:38.187Z"
   },
   {
    "duration": 1285,
    "start_time": "2022-11-18T11:54:39.810Z"
   },
   {
    "duration": 21,
    "start_time": "2022-11-18T11:54:41.097Z"
   },
   {
    "duration": 32,
    "start_time": "2022-11-18T11:54:41.120Z"
   },
   {
    "duration": 311227,
    "start_time": "2022-11-18T11:54:41.156Z"
   },
   {
    "duration": 127,
    "start_time": "2022-11-18T12:15:04.032Z"
   },
   {
    "duration": 1626,
    "start_time": "2022-11-18T12:16:57.924Z"
   },
   {
    "duration": 1546,
    "start_time": "2022-11-18T12:16:59.553Z"
   },
   {
    "duration": 24,
    "start_time": "2022-11-18T12:17:01.102Z"
   },
   {
    "duration": 54,
    "start_time": "2022-11-18T12:17:01.128Z"
   },
   {
    "duration": 8,
    "start_time": "2022-11-18T12:17:01.185Z"
   },
   {
    "duration": 18,
    "start_time": "2022-11-18T12:17:01.194Z"
   },
   {
    "duration": 20,
    "start_time": "2022-11-18T12:17:01.214Z"
   },
   {
    "duration": 429,
    "start_time": "2022-11-18T12:17:01.237Z"
   },
   {
    "duration": 9,
    "start_time": "2022-11-18T12:17:01.668Z"
   },
   {
    "duration": 21,
    "start_time": "2022-11-18T12:17:01.679Z"
   },
   {
    "duration": 29,
    "start_time": "2022-11-18T12:17:01.702Z"
   },
   {
    "duration": 32,
    "start_time": "2022-11-18T12:17:01.733Z"
   },
   {
    "duration": 12,
    "start_time": "2022-11-18T12:17:01.767Z"
   },
   {
    "duration": 400,
    "start_time": "2022-11-18T12:17:01.783Z"
   },
   {
    "duration": 14,
    "start_time": "2022-11-18T12:17:02.185Z"
   },
   {
    "duration": 16,
    "start_time": "2022-11-18T12:17:02.202Z"
   },
   {
    "duration": 76,
    "start_time": "2022-11-18T12:17:02.220Z"
   },
   {
    "duration": 62,
    "start_time": "2022-11-18T12:17:02.298Z"
   },
   {
    "duration": 253,
    "start_time": "2022-11-18T12:17:02.362Z"
   },
   {
    "duration": 559,
    "start_time": "2022-11-18T12:17:02.617Z"
   },
   {
    "duration": 204,
    "start_time": "2022-11-18T12:17:03.178Z"
   },
   {
    "duration": 215,
    "start_time": "2022-11-18T12:17:03.384Z"
   },
   {
    "duration": 413,
    "start_time": "2022-11-18T12:17:03.601Z"
   },
   {
    "duration": 379,
    "start_time": "2022-11-18T12:17:04.016Z"
   },
   {
    "duration": 6,
    "start_time": "2022-11-18T12:17:04.397Z"
   },
   {
    "duration": 2661,
    "start_time": "2022-11-18T12:17:04.405Z"
   },
   {
    "duration": 391,
    "start_time": "2022-11-18T12:17:07.067Z"
   },
   {
    "duration": 408,
    "start_time": "2022-11-18T12:17:07.460Z"
   },
   {
    "duration": 7,
    "start_time": "2022-11-18T12:17:07.870Z"
   },
   {
    "duration": 206,
    "start_time": "2022-11-18T12:17:07.880Z"
   },
   {
    "duration": 6,
    "start_time": "2022-11-18T12:17:08.088Z"
   },
   {
    "duration": 418,
    "start_time": "2022-11-18T12:17:08.096Z"
   },
   {
    "duration": 367,
    "start_time": "2022-11-18T12:17:08.517Z"
   },
   {
    "duration": 4,
    "start_time": "2022-11-18T12:17:08.886Z"
   },
   {
    "duration": 9,
    "start_time": "2022-11-18T12:17:08.892Z"
   },
   {
    "duration": 10,
    "start_time": "2022-11-18T12:17:08.903Z"
   },
   {
    "duration": 9,
    "start_time": "2022-11-18T12:17:08.915Z"
   },
   {
    "duration": 1529,
    "start_time": "2022-11-18T12:17:08.926Z"
   },
   {
    "duration": 26,
    "start_time": "2022-11-18T12:17:10.457Z"
   },
   {
    "duration": 67,
    "start_time": "2022-11-18T12:17:10.485Z"
   },
   {
    "duration": 27,
    "start_time": "2022-11-18T12:17:10.557Z"
   },
   {
    "duration": 14,
    "start_time": "2022-11-18T12:17:10.586Z"
   },
   {
    "duration": 26,
    "start_time": "2022-11-18T12:17:10.603Z"
   },
   {
    "duration": 37,
    "start_time": "2022-11-18T12:17:10.631Z"
   },
   {
    "duration": 40,
    "start_time": "2022-11-18T12:17:10.670Z"
   },
   {
    "duration": 27,
    "start_time": "2022-11-18T12:17:10.712Z"
   },
   {
    "duration": 1550,
    "start_time": "2022-11-18T12:17:10.742Z"
   },
   {
    "duration": 20,
    "start_time": "2022-11-18T12:17:12.294Z"
   },
   {
    "duration": 6,
    "start_time": "2022-11-18T12:17:12.317Z"
   },
   {
    "duration": 45,
    "start_time": "2022-11-18T12:17:12.326Z"
   },
   {
    "duration": 27,
    "start_time": "2022-11-18T12:17:12.373Z"
   },
   {
    "duration": 9,
    "start_time": "2022-11-18T12:17:12.402Z"
   },
   {
    "duration": 23,
    "start_time": "2022-11-18T12:17:12.413Z"
   },
   {
    "duration": 1404,
    "start_time": "2022-11-18T12:17:12.450Z"
   },
   {
    "duration": 1238,
    "start_time": "2022-11-18T12:17:13.856Z"
   },
   {
    "duration": 27,
    "start_time": "2022-11-18T12:17:15.096Z"
   },
   {
    "duration": 28,
    "start_time": "2022-11-18T12:17:15.128Z"
   },
   {
    "duration": 311236,
    "start_time": "2022-11-18T12:17:15.159Z"
   },
   {
    "duration": 1577,
    "start_time": "2022-11-18T12:22:30.182Z"
   },
   {
    "duration": 1262,
    "start_time": "2022-11-18T12:22:31.761Z"
   },
   {
    "duration": 16,
    "start_time": "2022-11-18T12:22:33.025Z"
   },
   {
    "duration": 12,
    "start_time": "2022-11-18T12:22:33.043Z"
   },
   {
    "duration": 11,
    "start_time": "2022-11-18T12:22:33.057Z"
   },
   {
    "duration": 21,
    "start_time": "2022-11-18T12:22:33.070Z"
   },
   {
    "duration": 26,
    "start_time": "2022-11-18T12:22:33.093Z"
   },
   {
    "duration": 346,
    "start_time": "2022-11-18T12:22:33.121Z"
   },
   {
    "duration": 9,
    "start_time": "2022-11-18T12:22:33.468Z"
   },
   {
    "duration": 7,
    "start_time": "2022-11-18T12:22:33.480Z"
   },
   {
    "duration": 9,
    "start_time": "2022-11-18T12:22:33.489Z"
   },
   {
    "duration": 21,
    "start_time": "2022-11-18T12:22:33.500Z"
   },
   {
    "duration": 29,
    "start_time": "2022-11-18T12:22:33.523Z"
   },
   {
    "duration": 256,
    "start_time": "2022-11-18T12:22:33.553Z"
   },
   {
    "duration": 10,
    "start_time": "2022-11-18T12:22:33.811Z"
   },
   {
    "duration": 8,
    "start_time": "2022-11-18T12:22:33.823Z"
   },
   {
    "duration": 57,
    "start_time": "2022-11-18T12:22:33.833Z"
   },
   {
    "duration": 39,
    "start_time": "2022-11-18T12:22:33.892Z"
   },
   {
    "duration": 200,
    "start_time": "2022-11-18T12:22:33.932Z"
   },
   {
    "duration": 430,
    "start_time": "2022-11-18T12:22:34.134Z"
   },
   {
    "duration": 208,
    "start_time": "2022-11-18T12:22:34.566Z"
   },
   {
    "duration": 191,
    "start_time": "2022-11-18T12:22:34.775Z"
   },
   {
    "duration": 386,
    "start_time": "2022-11-18T12:22:34.968Z"
   },
   {
    "duration": 377,
    "start_time": "2022-11-18T12:22:35.356Z"
   },
   {
    "duration": 5,
    "start_time": "2022-11-18T12:22:35.735Z"
   },
   {
    "duration": 2152,
    "start_time": "2022-11-18T12:22:35.741Z"
   },
   {
    "duration": 319,
    "start_time": "2022-11-18T12:22:37.894Z"
   },
   {
    "duration": 365,
    "start_time": "2022-11-18T12:22:38.217Z"
   },
   {
    "duration": 7,
    "start_time": "2022-11-18T12:22:38.584Z"
   },
   {
    "duration": 205,
    "start_time": "2022-11-18T12:22:38.593Z"
   },
   {
    "duration": 7,
    "start_time": "2022-11-18T12:22:38.799Z"
   },
   {
    "duration": 391,
    "start_time": "2022-11-18T12:22:38.807Z"
   },
   {
    "duration": 397,
    "start_time": "2022-11-18T12:22:39.201Z"
   },
   {
    "duration": 5,
    "start_time": "2022-11-18T12:22:39.601Z"
   },
   {
    "duration": 13,
    "start_time": "2022-11-18T12:22:39.608Z"
   },
   {
    "duration": 12,
    "start_time": "2022-11-18T12:22:39.624Z"
   },
   {
    "duration": 17,
    "start_time": "2022-11-18T12:22:39.638Z"
   },
   {
    "duration": 1437,
    "start_time": "2022-11-18T12:22:39.657Z"
   },
   {
    "duration": 16,
    "start_time": "2022-11-18T12:22:41.096Z"
   },
   {
    "duration": 81,
    "start_time": "2022-11-18T12:22:41.115Z"
   },
   {
    "duration": 22,
    "start_time": "2022-11-18T12:22:41.198Z"
   },
   {
    "duration": 30,
    "start_time": "2022-11-18T12:22:41.223Z"
   },
   {
    "duration": 15,
    "start_time": "2022-11-18T12:22:41.256Z"
   },
   {
    "duration": 24,
    "start_time": "2022-11-18T12:22:41.274Z"
   },
   {
    "duration": 26,
    "start_time": "2022-11-18T12:22:41.301Z"
   },
   {
    "duration": 45,
    "start_time": "2022-11-18T12:22:41.328Z"
   },
   {
    "duration": 1479,
    "start_time": "2022-11-18T12:22:41.375Z"
   },
   {
    "duration": 20,
    "start_time": "2022-11-18T12:22:42.855Z"
   },
   {
    "duration": 18,
    "start_time": "2022-11-18T12:22:42.877Z"
   },
   {
    "duration": 56,
    "start_time": "2022-11-18T12:22:42.897Z"
   },
   {
    "duration": 46,
    "start_time": "2022-11-18T12:22:42.955Z"
   },
   {
    "duration": 6,
    "start_time": "2022-11-18T12:22:43.003Z"
   },
   {
    "duration": 47,
    "start_time": "2022-11-18T12:22:43.011Z"
   },
   {
    "duration": 1416,
    "start_time": "2022-11-18T12:22:43.060Z"
   },
   {
    "duration": 1190,
    "start_time": "2022-11-18T12:22:44.478Z"
   },
   {
    "duration": 20,
    "start_time": "2022-11-18T12:22:45.670Z"
   },
   {
    "duration": 23,
    "start_time": "2022-11-18T12:22:45.692Z"
   },
   {
    "duration": 1646,
    "start_time": "2022-11-18T12:35:32.570Z"
   },
   {
    "duration": 1555,
    "start_time": "2022-11-18T12:35:34.218Z"
   },
   {
    "duration": 17,
    "start_time": "2022-11-18T12:35:35.774Z"
   },
   {
    "duration": 18,
    "start_time": "2022-11-18T12:35:35.793Z"
   },
   {
    "duration": 3,
    "start_time": "2022-11-18T12:35:35.813Z"
   },
   {
    "duration": 8,
    "start_time": "2022-11-18T12:35:35.818Z"
   },
   {
    "duration": 29,
    "start_time": "2022-11-18T12:35:35.828Z"
   },
   {
    "duration": 391,
    "start_time": "2022-11-18T12:35:35.859Z"
   },
   {
    "duration": 8,
    "start_time": "2022-11-18T12:35:36.252Z"
   },
   {
    "duration": 8,
    "start_time": "2022-11-18T12:35:36.262Z"
   },
   {
    "duration": 11,
    "start_time": "2022-11-18T12:35:36.272Z"
   },
   {
    "duration": 17,
    "start_time": "2022-11-18T12:35:36.285Z"
   },
   {
    "duration": 8,
    "start_time": "2022-11-18T12:35:36.304Z"
   },
   {
    "duration": 279,
    "start_time": "2022-11-18T12:35:36.315Z"
   },
   {
    "duration": 10,
    "start_time": "2022-11-18T12:35:36.596Z"
   },
   {
    "duration": 8,
    "start_time": "2022-11-18T12:35:36.608Z"
   },
   {
    "duration": 59,
    "start_time": "2022-11-18T12:35:36.618Z"
   },
   {
    "duration": 38,
    "start_time": "2022-11-18T12:35:36.679Z"
   },
   {
    "duration": 207,
    "start_time": "2022-11-18T12:35:36.719Z"
   },
   {
    "duration": 435,
    "start_time": "2022-11-18T12:35:36.927Z"
   },
   {
    "duration": 221,
    "start_time": "2022-11-18T12:35:37.364Z"
   },
   {
    "duration": 202,
    "start_time": "2022-11-18T12:35:37.587Z"
   },
   {
    "duration": 415,
    "start_time": "2022-11-18T12:35:37.791Z"
   },
   {
    "duration": 392,
    "start_time": "2022-11-18T12:35:38.208Z"
   },
   {
    "duration": 5,
    "start_time": "2022-11-18T12:35:38.601Z"
   },
   {
    "duration": 2340,
    "start_time": "2022-11-18T12:35:38.608Z"
   },
   {
    "duration": 324,
    "start_time": "2022-11-18T12:35:40.951Z"
   },
   {
    "duration": 380,
    "start_time": "2022-11-18T12:35:41.280Z"
   },
   {
    "duration": 7,
    "start_time": "2022-11-18T12:35:41.662Z"
   },
   {
    "duration": 212,
    "start_time": "2022-11-18T12:35:41.671Z"
   },
   {
    "duration": 6,
    "start_time": "2022-11-18T12:35:41.885Z"
   },
   {
    "duration": 402,
    "start_time": "2022-11-18T12:35:41.893Z"
   },
   {
    "duration": 384,
    "start_time": "2022-11-18T12:35:42.297Z"
   },
   {
    "duration": 3,
    "start_time": "2022-11-18T12:35:42.683Z"
   },
   {
    "duration": 14,
    "start_time": "2022-11-18T12:35:42.688Z"
   },
   {
    "duration": 18,
    "start_time": "2022-11-18T12:35:42.704Z"
   },
   {
    "duration": 6,
    "start_time": "2022-11-18T12:35:42.724Z"
   },
   {
    "duration": 1360,
    "start_time": "2022-11-18T12:35:42.732Z"
   },
   {
    "duration": 17,
    "start_time": "2022-11-18T12:35:44.093Z"
   },
   {
    "duration": 75,
    "start_time": "2022-11-18T12:35:44.112Z"
   },
   {
    "duration": 26,
    "start_time": "2022-11-18T12:35:44.193Z"
   },
   {
    "duration": 11,
    "start_time": "2022-11-18T12:35:44.221Z"
   },
   {
    "duration": 11,
    "start_time": "2022-11-18T12:35:44.252Z"
   },
   {
    "duration": 14,
    "start_time": "2022-11-18T12:35:44.265Z"
   },
   {
    "duration": 26,
    "start_time": "2022-11-18T12:35:44.281Z"
   },
   {
    "duration": 50,
    "start_time": "2022-11-18T12:35:44.309Z"
   },
   {
    "duration": 1493,
    "start_time": "2022-11-18T12:35:44.361Z"
   },
   {
    "duration": 23,
    "start_time": "2022-11-18T12:35:45.856Z"
   },
   {
    "duration": 6,
    "start_time": "2022-11-18T12:35:45.881Z"
   },
   {
    "duration": 23,
    "start_time": "2022-11-18T12:35:45.889Z"
   },
   {
    "duration": 55,
    "start_time": "2022-11-18T12:35:45.914Z"
   },
   {
    "duration": 6,
    "start_time": "2022-11-18T12:35:45.971Z"
   },
   {
    "duration": 24,
    "start_time": "2022-11-18T12:35:45.979Z"
   },
   {
    "duration": 1497,
    "start_time": "2022-11-18T12:35:46.004Z"
   },
   {
    "duration": 1340,
    "start_time": "2022-11-18T12:35:47.503Z"
   },
   {
    "duration": 25,
    "start_time": "2022-11-18T12:35:48.845Z"
   },
   {
    "duration": 12,
    "start_time": "2022-11-18T12:35:48.872Z"
   },
   {
    "duration": 307908,
    "start_time": "2022-11-18T12:35:48.886Z"
   },
   {
    "duration": 1658,
    "start_time": "2022-11-18T12:40:56.795Z"
   },
   {
    "duration": 22,
    "start_time": "2022-11-18T12:40:58.455Z"
   },
   {
    "duration": 20,
    "start_time": "2022-11-18T12:40:58.480Z"
   },
   {
    "duration": 17,
    "start_time": "2022-11-18T12:45:20.302Z"
   },
   {
    "duration": 4,
    "start_time": "2022-11-18T12:50:48.033Z"
   },
   {
    "duration": 1272,
    "start_time": "2022-11-18T12:50:52.703Z"
   },
   {
    "duration": 4,
    "start_time": "2022-11-18T12:51:33.892Z"
   },
   {
    "duration": 310,
    "start_time": "2022-11-18T12:51:35.121Z"
   },
   {
    "duration": 9,
    "start_time": "2022-11-18T12:52:40.937Z"
   },
   {
    "duration": 6,
    "start_time": "2022-11-18T12:53:31.494Z"
   },
   {
    "duration": 7,
    "start_time": "2022-11-18T12:53:42.769Z"
   },
   {
    "duration": 10,
    "start_time": "2022-11-18T12:53:45.445Z"
   },
   {
    "duration": 2308,
    "start_time": "2022-11-18T12:55:58.540Z"
   },
   {
    "duration": 1221,
    "start_time": "2022-11-18T12:56:00.851Z"
   },
   {
    "duration": 31,
    "start_time": "2022-11-18T12:56:02.075Z"
   },
   {
    "duration": 54,
    "start_time": "2022-11-18T12:56:02.109Z"
   },
   {
    "duration": 4,
    "start_time": "2022-11-18T12:56:02.166Z"
   },
   {
    "duration": 11,
    "start_time": "2022-11-18T12:56:02.173Z"
   },
   {
    "duration": 19,
    "start_time": "2022-11-18T12:56:02.186Z"
   },
   {
    "duration": 522,
    "start_time": "2022-11-18T12:56:02.207Z"
   },
   {
    "duration": 21,
    "start_time": "2022-11-18T12:56:02.731Z"
   },
   {
    "duration": 8,
    "start_time": "2022-11-18T12:56:02.756Z"
   },
   {
    "duration": 12,
    "start_time": "2022-11-18T12:56:02.766Z"
   },
   {
    "duration": 33,
    "start_time": "2022-11-18T12:56:02.780Z"
   },
   {
    "duration": 39,
    "start_time": "2022-11-18T12:56:02.816Z"
   },
   {
    "duration": 347,
    "start_time": "2022-11-18T12:56:02.858Z"
   },
   {
    "duration": 14,
    "start_time": "2022-11-18T12:56:03.206Z"
   },
   {
    "duration": 37,
    "start_time": "2022-11-18T12:56:03.222Z"
   },
   {
    "duration": 47,
    "start_time": "2022-11-18T12:56:03.268Z"
   },
   {
    "duration": 50,
    "start_time": "2022-11-18T12:56:03.317Z"
   },
   {
    "duration": 277,
    "start_time": "2022-11-18T12:56:03.370Z"
   },
   {
    "duration": 669,
    "start_time": "2022-11-18T12:56:03.650Z"
   },
   {
    "duration": 203,
    "start_time": "2022-11-18T12:56:04.321Z"
   },
   {
    "duration": 250,
    "start_time": "2022-11-18T12:56:04.527Z"
   },
   {
    "duration": 481,
    "start_time": "2022-11-18T12:56:04.780Z"
   },
   {
    "duration": 392,
    "start_time": "2022-11-18T12:56:05.264Z"
   },
   {
    "duration": 6,
    "start_time": "2022-11-18T12:56:05.658Z"
   },
   {
    "duration": 2587,
    "start_time": "2022-11-18T12:56:05.667Z"
   },
   {
    "duration": 324,
    "start_time": "2022-11-18T12:56:08.258Z"
   },
   {
    "duration": 399,
    "start_time": "2022-11-18T12:56:08.588Z"
   },
   {
    "duration": 8,
    "start_time": "2022-11-18T12:56:08.994Z"
   },
   {
    "duration": 274,
    "start_time": "2022-11-18T12:56:09.004Z"
   },
   {
    "duration": 7,
    "start_time": "2022-11-18T12:56:09.280Z"
   },
   {
    "duration": 482,
    "start_time": "2022-11-18T12:56:09.288Z"
   },
   {
    "duration": 491,
    "start_time": "2022-11-18T12:56:09.778Z"
   },
   {
    "duration": 5,
    "start_time": "2022-11-18T12:56:10.271Z"
   },
   {
    "duration": 21,
    "start_time": "2022-11-18T12:56:10.278Z"
   },
   {
    "duration": 30,
    "start_time": "2022-11-18T12:56:10.301Z"
   },
   {
    "duration": 25,
    "start_time": "2022-11-18T12:56:10.333Z"
   },
   {
    "duration": 1592,
    "start_time": "2022-11-18T12:56:10.360Z"
   },
   {
    "duration": 28,
    "start_time": "2022-11-18T12:56:11.954Z"
   },
   {
    "duration": 88,
    "start_time": "2022-11-18T12:56:11.984Z"
   },
   {
    "duration": 27,
    "start_time": "2022-11-18T12:56:12.074Z"
   },
   {
    "duration": 13,
    "start_time": "2022-11-18T12:56:12.103Z"
   },
   {
    "duration": 35,
    "start_time": "2022-11-18T12:56:12.118Z"
   },
   {
    "duration": 15,
    "start_time": "2022-11-18T12:56:12.156Z"
   },
   {
    "duration": 48,
    "start_time": "2022-11-18T12:56:12.173Z"
   },
   {
    "duration": 33,
    "start_time": "2022-11-18T12:56:12.224Z"
   },
   {
    "duration": 1647,
    "start_time": "2022-11-18T12:56:12.259Z"
   },
   {
    "duration": 23,
    "start_time": "2022-11-18T12:56:13.907Z"
   },
   {
    "duration": 23,
    "start_time": "2022-11-18T12:56:13.933Z"
   },
   {
    "duration": 24,
    "start_time": "2022-11-18T12:56:13.958Z"
   },
   {
    "duration": 30,
    "start_time": "2022-11-18T12:56:13.985Z"
   },
   {
    "duration": 35,
    "start_time": "2022-11-18T12:56:14.017Z"
   },
   {
    "duration": 21,
    "start_time": "2022-11-18T12:56:14.054Z"
   },
   {
    "duration": 1620,
    "start_time": "2022-11-18T12:56:14.077Z"
   },
   {
    "duration": 1270,
    "start_time": "2022-11-18T12:56:15.700Z"
   },
   {
    "duration": 31,
    "start_time": "2022-11-18T12:56:16.973Z"
   },
   {
    "duration": 9,
    "start_time": "2022-11-18T12:56:17.006Z"
   },
   {
    "duration": 9,
    "start_time": "2022-11-18T12:56:17.017Z"
   },
   {
    "duration": 15,
    "start_time": "2022-11-18T12:56:17.050Z"
   },
   {
    "duration": 11,
    "start_time": "2022-11-18T12:56:17.068Z"
   },
   {
    "duration": 1577,
    "start_time": "2022-11-18T13:05:11.283Z"
   },
   {
    "duration": 1200,
    "start_time": "2022-11-18T13:05:12.862Z"
   },
   {
    "duration": 15,
    "start_time": "2022-11-18T13:05:14.064Z"
   },
   {
    "duration": 28,
    "start_time": "2022-11-18T13:05:14.081Z"
   },
   {
    "duration": 6,
    "start_time": "2022-11-18T13:05:14.111Z"
   },
   {
    "duration": 20,
    "start_time": "2022-11-18T13:05:14.118Z"
   },
   {
    "duration": 31,
    "start_time": "2022-11-18T13:05:14.140Z"
   },
   {
    "duration": 365,
    "start_time": "2022-11-18T13:05:14.173Z"
   },
   {
    "duration": 8,
    "start_time": "2022-11-18T13:05:14.550Z"
   },
   {
    "duration": 33,
    "start_time": "2022-11-18T13:05:14.560Z"
   },
   {
    "duration": 25,
    "start_time": "2022-11-18T13:05:14.595Z"
   },
   {
    "duration": 28,
    "start_time": "2022-11-18T13:05:14.622Z"
   },
   {
    "duration": 8,
    "start_time": "2022-11-18T13:05:14.651Z"
   },
   {
    "duration": 260,
    "start_time": "2022-11-18T13:05:14.662Z"
   },
   {
    "duration": 14,
    "start_time": "2022-11-18T13:05:14.924Z"
   },
   {
    "duration": 10,
    "start_time": "2022-11-18T13:05:14.950Z"
   },
   {
    "duration": 43,
    "start_time": "2022-11-18T13:05:14.962Z"
   },
   {
    "duration": 67,
    "start_time": "2022-11-18T13:05:15.006Z"
   },
   {
    "duration": 189,
    "start_time": "2022-11-18T13:05:15.075Z"
   },
   {
    "duration": 463,
    "start_time": "2022-11-18T13:05:15.266Z"
   },
   {
    "duration": 201,
    "start_time": "2022-11-18T13:05:15.731Z"
   },
   {
    "duration": 203,
    "start_time": "2022-11-18T13:05:15.933Z"
   },
   {
    "duration": 416,
    "start_time": "2022-11-18T13:05:16.138Z"
   },
   {
    "duration": 384,
    "start_time": "2022-11-18T13:05:16.555Z"
   },
   {
    "duration": 11,
    "start_time": "2022-11-18T13:05:16.941Z"
   },
   {
    "duration": 2183,
    "start_time": "2022-11-18T13:05:16.954Z"
   },
   {
    "duration": 362,
    "start_time": "2022-11-18T13:05:19.139Z"
   },
   {
    "duration": 489,
    "start_time": "2022-11-18T13:05:19.503Z"
   },
   {
    "duration": 6,
    "start_time": "2022-11-18T13:05:19.993Z"
   },
   {
    "duration": 214,
    "start_time": "2022-11-18T13:05:20.001Z"
   },
   {
    "duration": 9,
    "start_time": "2022-11-18T13:05:20.217Z"
   },
   {
    "duration": 388,
    "start_time": "2022-11-18T13:05:20.228Z"
   },
   {
    "duration": 388,
    "start_time": "2022-11-18T13:05:20.618Z"
   },
   {
    "duration": 3,
    "start_time": "2022-11-18T13:05:21.008Z"
   },
   {
    "duration": 17,
    "start_time": "2022-11-18T13:05:21.013Z"
   },
   {
    "duration": 20,
    "start_time": "2022-11-18T13:05:21.032Z"
   },
   {
    "duration": 8,
    "start_time": "2022-11-18T13:05:21.054Z"
   },
   {
    "duration": 1270,
    "start_time": "2022-11-18T13:05:21.064Z"
   },
   {
    "duration": 20,
    "start_time": "2022-11-18T13:05:22.336Z"
   },
   {
    "duration": 50,
    "start_time": "2022-11-18T13:05:22.357Z"
   },
   {
    "duration": 20,
    "start_time": "2022-11-18T13:05:22.411Z"
   },
   {
    "duration": 25,
    "start_time": "2022-11-18T13:05:22.432Z"
   },
   {
    "duration": 12,
    "start_time": "2022-11-18T13:05:22.458Z"
   },
   {
    "duration": 11,
    "start_time": "2022-11-18T13:05:22.472Z"
   },
   {
    "duration": 25,
    "start_time": "2022-11-18T13:05:22.485Z"
   },
   {
    "duration": 49,
    "start_time": "2022-11-18T13:05:22.512Z"
   },
   {
    "duration": 1432,
    "start_time": "2022-11-18T13:05:22.563Z"
   },
   {
    "duration": 20,
    "start_time": "2022-11-18T13:05:23.997Z"
   },
   {
    "duration": 6,
    "start_time": "2022-11-18T13:05:24.019Z"
   },
   {
    "duration": 33,
    "start_time": "2022-11-18T13:05:24.026Z"
   },
   {
    "duration": 21,
    "start_time": "2022-11-18T13:05:24.061Z"
   },
   {
    "duration": 5,
    "start_time": "2022-11-18T13:05:24.084Z"
   },
   {
    "duration": 26,
    "start_time": "2022-11-18T13:05:24.091Z"
   },
   {
    "duration": 1383,
    "start_time": "2022-11-18T13:05:24.118Z"
   },
   {
    "duration": 1160,
    "start_time": "2022-11-18T13:05:25.502Z"
   },
   {
    "duration": 20,
    "start_time": "2022-11-18T13:05:26.664Z"
   },
   {
    "duration": 8,
    "start_time": "2022-11-18T13:05:26.686Z"
   },
   {
    "duration": 6,
    "start_time": "2022-11-18T13:05:26.696Z"
   },
   {
    "duration": 12,
    "start_time": "2022-11-18T13:05:26.703Z"
   },
   {
    "duration": 36,
    "start_time": "2022-11-18T13:05:26.716Z"
   },
   {
    "duration": 1777,
    "start_time": "2022-11-18T13:09:27.337Z"
   },
   {
    "duration": 1107,
    "start_time": "2022-11-18T13:09:29.117Z"
   },
   {
    "duration": 25,
    "start_time": "2022-11-18T13:09:30.227Z"
   },
   {
    "duration": 26,
    "start_time": "2022-11-18T13:09:30.255Z"
   },
   {
    "duration": 30,
    "start_time": "2022-11-18T13:09:30.284Z"
   },
   {
    "duration": 22,
    "start_time": "2022-11-18T13:09:30.316Z"
   },
   {
    "duration": 24,
    "start_time": "2022-11-18T13:09:30.341Z"
   },
   {
    "duration": 412,
    "start_time": "2022-11-18T13:09:30.367Z"
   },
   {
    "duration": 9,
    "start_time": "2022-11-18T13:09:30.781Z"
   },
   {
    "duration": 33,
    "start_time": "2022-11-18T13:09:30.794Z"
   },
   {
    "duration": 38,
    "start_time": "2022-11-18T13:09:30.829Z"
   },
   {
    "duration": 60,
    "start_time": "2022-11-18T13:09:30.870Z"
   },
   {
    "duration": 28,
    "start_time": "2022-11-18T13:09:30.933Z"
   },
   {
    "duration": 299,
    "start_time": "2022-11-18T13:09:30.964Z"
   },
   {
    "duration": 14,
    "start_time": "2022-11-18T13:09:31.264Z"
   },
   {
    "duration": 29,
    "start_time": "2022-11-18T13:09:31.280Z"
   },
   {
    "duration": 83,
    "start_time": "2022-11-18T13:09:31.312Z"
   },
   {
    "duration": 56,
    "start_time": "2022-11-18T13:09:31.398Z"
   },
   {
    "duration": 231,
    "start_time": "2022-11-18T13:09:31.459Z"
   },
   {
    "duration": 495,
    "start_time": "2022-11-18T13:09:31.692Z"
   },
   {
    "duration": 242,
    "start_time": "2022-11-18T13:09:32.190Z"
   },
   {
    "duration": 244,
    "start_time": "2022-11-18T13:09:32.434Z"
   },
   {
    "duration": 433,
    "start_time": "2022-11-18T13:09:32.682Z"
   },
   {
    "duration": 507,
    "start_time": "2022-11-18T13:09:33.117Z"
   },
   {
    "duration": 5,
    "start_time": "2022-11-18T13:09:33.626Z"
   },
   {
    "duration": 2442,
    "start_time": "2022-11-18T13:09:33.633Z"
   },
   {
    "duration": 369,
    "start_time": "2022-11-18T13:09:36.077Z"
   },
   {
    "duration": 438,
    "start_time": "2022-11-18T13:09:36.450Z"
   },
   {
    "duration": 7,
    "start_time": "2022-11-18T13:09:36.890Z"
   },
   {
    "duration": 215,
    "start_time": "2022-11-18T13:09:36.899Z"
   },
   {
    "duration": 7,
    "start_time": "2022-11-18T13:09:37.116Z"
   },
   {
    "duration": 507,
    "start_time": "2022-11-18T13:09:37.126Z"
   },
   {
    "duration": 428,
    "start_time": "2022-11-18T13:09:37.635Z"
   },
   {
    "duration": 5,
    "start_time": "2022-11-18T13:09:38.065Z"
   },
   {
    "duration": 9,
    "start_time": "2022-11-18T13:09:38.072Z"
   },
   {
    "duration": 10,
    "start_time": "2022-11-18T13:09:38.083Z"
   },
   {
    "duration": 7,
    "start_time": "2022-11-18T13:09:38.095Z"
   },
   {
    "duration": 1623,
    "start_time": "2022-11-18T13:09:38.104Z"
   },
   {
    "duration": 27,
    "start_time": "2022-11-18T13:09:39.731Z"
   },
   {
    "duration": 81,
    "start_time": "2022-11-18T13:09:39.761Z"
   },
   {
    "duration": 29,
    "start_time": "2022-11-18T13:09:39.844Z"
   },
   {
    "duration": 12,
    "start_time": "2022-11-18T13:09:39.876Z"
   },
   {
    "duration": 23,
    "start_time": "2022-11-18T13:09:39.891Z"
   },
   {
    "duration": 23,
    "start_time": "2022-11-18T13:09:39.917Z"
   },
   {
    "duration": 53,
    "start_time": "2022-11-18T13:09:39.952Z"
   },
   {
    "duration": 53,
    "start_time": "2022-11-18T13:09:40.008Z"
   },
   {
    "duration": 1627,
    "start_time": "2022-11-18T13:09:40.063Z"
   },
   {
    "duration": 30,
    "start_time": "2022-11-18T13:09:41.692Z"
   },
   {
    "duration": 26,
    "start_time": "2022-11-18T13:09:41.725Z"
   },
   {
    "duration": 19,
    "start_time": "2022-11-18T13:09:41.754Z"
   },
   {
    "duration": 35,
    "start_time": "2022-11-18T13:09:41.776Z"
   },
   {
    "duration": 9,
    "start_time": "2022-11-18T13:09:41.813Z"
   },
   {
    "duration": 46,
    "start_time": "2022-11-18T13:09:41.824Z"
   },
   {
    "duration": 1666,
    "start_time": "2022-11-18T13:09:41.873Z"
   },
   {
    "duration": 1230,
    "start_time": "2022-11-18T13:09:43.541Z"
   },
   {
    "duration": 7,
    "start_time": "2022-11-18T13:09:44.773Z"
   },
   {
    "duration": 15,
    "start_time": "2022-11-18T13:09:44.782Z"
   },
   {
    "duration": 15,
    "start_time": "2022-11-18T13:09:44.800Z"
   },
   {
    "duration": 8,
    "start_time": "2022-11-18T13:09:44.817Z"
   },
   {
    "duration": 1738,
    "start_time": "2022-11-18T13:13:48.499Z"
   },
   {
    "duration": 979,
    "start_time": "2022-11-18T13:13:50.239Z"
   },
   {
    "duration": 16,
    "start_time": "2022-11-18T13:13:51.220Z"
   },
   {
    "duration": 16,
    "start_time": "2022-11-18T13:13:51.239Z"
   },
   {
    "duration": 5,
    "start_time": "2022-11-18T13:13:51.260Z"
   },
   {
    "duration": 8,
    "start_time": "2022-11-18T13:13:51.267Z"
   },
   {
    "duration": 12,
    "start_time": "2022-11-18T13:13:51.277Z"
   },
   {
    "duration": 362,
    "start_time": "2022-11-18T13:13:51.291Z"
   },
   {
    "duration": 9,
    "start_time": "2022-11-18T13:13:51.655Z"
   },
   {
    "duration": 6,
    "start_time": "2022-11-18T13:13:51.667Z"
   },
   {
    "duration": 9,
    "start_time": "2022-11-18T13:13:51.675Z"
   },
   {
    "duration": 18,
    "start_time": "2022-11-18T13:13:51.686Z"
   },
   {
    "duration": 7,
    "start_time": "2022-11-18T13:13:51.706Z"
   },
   {
    "duration": 277,
    "start_time": "2022-11-18T13:13:51.715Z"
   },
   {
    "duration": 10,
    "start_time": "2022-11-18T13:13:51.994Z"
   },
   {
    "duration": 9,
    "start_time": "2022-11-18T13:13:52.005Z"
   },
   {
    "duration": 58,
    "start_time": "2022-11-18T13:13:52.016Z"
   },
   {
    "duration": 39,
    "start_time": "2022-11-18T13:13:52.076Z"
   },
   {
    "duration": 193,
    "start_time": "2022-11-18T13:13:52.117Z"
   },
   {
    "duration": 406,
    "start_time": "2022-11-18T13:13:52.312Z"
   },
   {
    "duration": 197,
    "start_time": "2022-11-18T13:13:52.719Z"
   },
   {
    "duration": 192,
    "start_time": "2022-11-18T13:13:52.918Z"
   },
   {
    "duration": 392,
    "start_time": "2022-11-18T13:13:53.112Z"
   },
   {
    "duration": 377,
    "start_time": "2022-11-18T13:13:53.505Z"
   },
   {
    "duration": 6,
    "start_time": "2022-11-18T13:13:53.884Z"
   },
   {
    "duration": 2186,
    "start_time": "2022-11-18T13:13:53.891Z"
   },
   {
    "duration": 317,
    "start_time": "2022-11-18T13:13:56.079Z"
   },
   {
    "duration": 382,
    "start_time": "2022-11-18T13:13:56.400Z"
   },
   {
    "duration": 7,
    "start_time": "2022-11-18T13:13:56.784Z"
   },
   {
    "duration": 211,
    "start_time": "2022-11-18T13:13:56.794Z"
   },
   {
    "duration": 8,
    "start_time": "2022-11-18T13:13:57.007Z"
   },
   {
    "duration": 381,
    "start_time": "2022-11-18T13:13:57.017Z"
   },
   {
    "duration": 390,
    "start_time": "2022-11-18T13:13:57.400Z"
   },
   {
    "duration": 3,
    "start_time": "2022-11-18T13:13:57.792Z"
   },
   {
    "duration": 7,
    "start_time": "2022-11-18T13:13:57.797Z"
   },
   {
    "duration": 7,
    "start_time": "2022-11-18T13:13:57.805Z"
   },
   {
    "duration": 4,
    "start_time": "2022-11-18T13:13:57.814Z"
   },
   {
    "duration": 1337,
    "start_time": "2022-11-18T13:13:57.819Z"
   },
   {
    "duration": 19,
    "start_time": "2022-11-18T13:13:59.159Z"
   },
   {
    "duration": 74,
    "start_time": "2022-11-18T13:13:59.180Z"
   },
   {
    "duration": 22,
    "start_time": "2022-11-18T13:13:59.256Z"
   },
   {
    "duration": 9,
    "start_time": "2022-11-18T13:13:59.279Z"
   },
   {
    "duration": 18,
    "start_time": "2022-11-18T13:13:59.290Z"
   },
   {
    "duration": 15,
    "start_time": "2022-11-18T13:13:59.310Z"
   },
   {
    "duration": 38,
    "start_time": "2022-11-18T13:13:59.327Z"
   },
   {
    "duration": 26,
    "start_time": "2022-11-18T13:13:59.367Z"
   },
   {
    "duration": 1638,
    "start_time": "2022-11-18T13:13:59.395Z"
   },
   {
    "duration": 34,
    "start_time": "2022-11-18T13:14:01.035Z"
   },
   {
    "duration": 10,
    "start_time": "2022-11-18T13:14:01.071Z"
   },
   {
    "duration": 38,
    "start_time": "2022-11-18T13:14:01.083Z"
   },
   {
    "duration": 76,
    "start_time": "2022-11-18T13:14:01.122Z"
   },
   {
    "duration": 16,
    "start_time": "2022-11-18T13:14:01.199Z"
   },
   {
    "duration": 48,
    "start_time": "2022-11-18T13:14:01.217Z"
   },
   {
    "duration": 1545,
    "start_time": "2022-11-18T13:14:01.268Z"
   },
   {
    "duration": 1191,
    "start_time": "2022-11-18T13:14:02.815Z"
   },
   {
    "duration": 11,
    "start_time": "2022-11-18T13:14:04.009Z"
   },
   {
    "duration": 11,
    "start_time": "2022-11-18T13:14:04.022Z"
   },
   {
    "duration": 18,
    "start_time": "2022-11-18T13:14:04.035Z"
   },
   {
    "duration": 9,
    "start_time": "2022-11-18T13:14:04.055Z"
   },
   {
    "duration": 318486,
    "start_time": "2022-11-18T13:14:04.066Z"
   },
   {
    "duration": 1509,
    "start_time": "2022-11-18T13:19:22.554Z"
   },
   {
    "duration": 17,
    "start_time": "2022-11-18T13:19:24.150Z"
   },
   {
    "duration": 2227,
    "start_time": "2022-11-18T13:26:18.242Z"
   },
   {
    "duration": 17,
    "start_time": "2022-11-18T13:26:21.999Z"
   },
   {
    "duration": 16,
    "start_time": "2022-11-18T13:31:06.190Z"
   },
   {
    "duration": 129,
    "start_time": "2022-11-18T13:35:06.972Z"
   },
   {
    "duration": 79,
    "start_time": "2022-11-18T14:01:34.100Z"
   },
   {
    "duration": 6,
    "start_time": "2022-11-18T14:01:42.610Z"
   },
   {
    "duration": 73,
    "start_time": "2022-11-18T14:01:43.832Z"
   },
   {
    "duration": 75,
    "start_time": "2022-11-18T14:01:55.469Z"
   },
   {
    "duration": 1410,
    "start_time": "2022-11-18T14:02:00.249Z"
   },
   {
    "duration": 890,
    "start_time": "2022-11-18T14:14:22.718Z"
   },
   {
    "duration": 14,
    "start_time": "2022-11-18T14:26:00.056Z"
   },
   {
    "duration": 2,
    "start_time": "2022-11-18T14:27:12.848Z"
   },
   {
    "duration": 1647,
    "start_time": "2022-11-18T14:27:13.448Z"
   },
   {
    "duration": 9329,
    "start_time": "2022-11-18T14:27:37.528Z"
   },
   {
    "duration": 8816,
    "start_time": "2022-11-18T14:28:46.669Z"
   },
   {
    "duration": 8909,
    "start_time": "2022-11-18T14:29:20.350Z"
   },
   {
    "duration": 1675,
    "start_time": "2022-11-18T14:29:42.715Z"
   },
   {
    "duration": 978,
    "start_time": "2022-11-18T14:29:44.392Z"
   },
   {
    "duration": 23,
    "start_time": "2022-11-18T14:29:45.371Z"
   },
   {
    "duration": 18,
    "start_time": "2022-11-18T14:29:45.397Z"
   },
   {
    "duration": 5,
    "start_time": "2022-11-18T14:29:45.417Z"
   },
   {
    "duration": 27,
    "start_time": "2022-11-18T14:29:45.424Z"
   },
   {
    "duration": 16,
    "start_time": "2022-11-18T14:29:45.453Z"
   },
   {
    "duration": 422,
    "start_time": "2022-11-18T14:29:45.472Z"
   },
   {
    "duration": 11,
    "start_time": "2022-11-18T14:29:45.896Z"
   },
   {
    "duration": 6,
    "start_time": "2022-11-18T14:29:45.911Z"
   },
   {
    "duration": 31,
    "start_time": "2022-11-18T14:29:45.919Z"
   },
   {
    "duration": 21,
    "start_time": "2022-11-18T14:29:45.952Z"
   },
   {
    "duration": 8,
    "start_time": "2022-11-18T14:29:45.975Z"
   },
   {
    "duration": 315,
    "start_time": "2022-11-18T14:29:45.986Z"
   },
   {
    "duration": 12,
    "start_time": "2022-11-18T14:29:46.303Z"
   },
   {
    "duration": 9,
    "start_time": "2022-11-18T14:29:46.317Z"
   },
   {
    "duration": 77,
    "start_time": "2022-11-18T14:29:46.328Z"
   },
   {
    "duration": 76,
    "start_time": "2022-11-18T14:29:46.407Z"
   },
   {
    "duration": 196,
    "start_time": "2022-11-18T14:29:46.485Z"
   },
   {
    "duration": 464,
    "start_time": "2022-11-18T14:29:46.683Z"
   },
   {
    "duration": 218,
    "start_time": "2022-11-18T14:29:47.150Z"
   },
   {
    "duration": 292,
    "start_time": "2022-11-18T14:29:47.370Z"
   },
   {
    "duration": 408,
    "start_time": "2022-11-18T14:29:47.665Z"
   },
   {
    "duration": 418,
    "start_time": "2022-11-18T14:29:48.075Z"
   },
   {
    "duration": 5,
    "start_time": "2022-11-18T14:29:48.495Z"
   },
   {
    "duration": 2586,
    "start_time": "2022-11-18T14:29:48.503Z"
   },
   {
    "duration": 361,
    "start_time": "2022-11-18T14:29:51.091Z"
   },
   {
    "duration": 441,
    "start_time": "2022-11-18T14:29:51.456Z"
   },
   {
    "duration": 7,
    "start_time": "2022-11-18T14:29:51.900Z"
   },
   {
    "duration": 280,
    "start_time": "2022-11-18T14:29:51.909Z"
   },
   {
    "duration": 7,
    "start_time": "2022-11-18T14:29:52.193Z"
   },
   {
    "duration": 435,
    "start_time": "2022-11-18T14:29:52.202Z"
   },
   {
    "duration": 396,
    "start_time": "2022-11-18T14:29:52.639Z"
   },
   {
    "duration": 3,
    "start_time": "2022-11-18T14:29:53.038Z"
   },
   {
    "duration": 13,
    "start_time": "2022-11-18T14:29:53.051Z"
   },
   {
    "duration": 25,
    "start_time": "2022-11-18T14:29:53.067Z"
   },
   {
    "duration": 20,
    "start_time": "2022-11-18T14:29:53.094Z"
   },
   {
    "duration": 1406,
    "start_time": "2022-11-18T14:29:53.116Z"
   },
   {
    "duration": 39,
    "start_time": "2022-11-18T14:29:54.524Z"
   },
   {
    "duration": 68,
    "start_time": "2022-11-18T14:29:54.565Z"
   },
   {
    "duration": 34,
    "start_time": "2022-11-18T14:29:54.635Z"
   },
   {
    "duration": 39,
    "start_time": "2022-11-18T14:29:54.671Z"
   },
   {
    "duration": 27,
    "start_time": "2022-11-18T14:29:54.712Z"
   },
   {
    "duration": 18,
    "start_time": "2022-11-18T14:29:54.741Z"
   },
   {
    "duration": 33,
    "start_time": "2022-11-18T14:29:54.761Z"
   },
   {
    "duration": 47,
    "start_time": "2022-11-18T14:29:54.796Z"
   },
   {
    "duration": 1640,
    "start_time": "2022-11-18T14:29:54.846Z"
   },
   {
    "duration": 23,
    "start_time": "2022-11-18T14:29:56.488Z"
   },
   {
    "duration": 6,
    "start_time": "2022-11-18T14:29:56.513Z"
   },
   {
    "duration": 42,
    "start_time": "2022-11-18T14:29:56.524Z"
   },
   {
    "duration": 25,
    "start_time": "2022-11-18T14:29:56.568Z"
   },
   {
    "duration": 6,
    "start_time": "2022-11-18T14:29:56.595Z"
   },
   {
    "duration": 17,
    "start_time": "2022-11-18T14:29:56.603Z"
   },
   {
    "duration": 1897,
    "start_time": "2022-11-18T14:29:56.622Z"
   },
   {
    "duration": 1428,
    "start_time": "2022-11-18T14:29:58.522Z"
   },
   {
    "duration": 8,
    "start_time": "2022-11-18T14:29:59.953Z"
   },
   {
    "duration": 15,
    "start_time": "2022-11-18T14:29:59.963Z"
   },
   {
    "duration": 41,
    "start_time": "2022-11-18T14:29:59.980Z"
   },
   {
    "duration": 25,
    "start_time": "2022-11-18T14:30:00.023Z"
   },
   {
    "duration": 307655,
    "start_time": "2022-11-18T14:30:00.050Z"
   },
   {
    "duration": 2062,
    "start_time": "2022-11-18T14:35:07.707Z"
   },
   {
    "duration": 25,
    "start_time": "2022-11-18T14:35:09.772Z"
   },
   {
    "duration": 20,
    "start_time": "2022-11-18T14:35:09.800Z"
   },
   {
    "duration": 28,
    "start_time": "2022-11-18T14:35:09.822Z"
   },
   {
    "duration": 7366,
    "start_time": "2022-11-18T14:35:09.853Z"
   },
   {
    "duration": 154,
    "start_time": "2022-11-18T14:35:17.221Z"
   },
   {
    "duration": 17,
    "start_time": "2022-11-18T15:04:52.745Z"
   },
   {
    "duration": 2301,
    "start_time": "2022-11-18T15:05:00.156Z"
   },
   {
    "duration": 17,
    "start_time": "2022-11-18T15:05:02.459Z"
   },
   {
    "duration": 2194,
    "start_time": "2022-11-18T15:05:50.457Z"
   },
   {
    "duration": 21,
    "start_time": "2022-11-18T15:05:56.165Z"
   },
   {
    "duration": 18,
    "start_time": "2022-11-18T15:06:14.246Z"
   },
   {
    "duration": 1751,
    "start_time": "2022-11-18T15:06:28.729Z"
   },
   {
    "duration": 1599,
    "start_time": "2022-11-18T15:06:30.482Z"
   },
   {
    "duration": 17,
    "start_time": "2022-11-18T15:06:32.083Z"
   },
   {
    "duration": 14,
    "start_time": "2022-11-18T15:06:32.101Z"
   },
   {
    "duration": 6,
    "start_time": "2022-11-18T15:06:32.117Z"
   },
   {
    "duration": 5,
    "start_time": "2022-11-18T15:06:32.125Z"
   },
   {
    "duration": 21,
    "start_time": "2022-11-18T15:06:32.132Z"
   },
   {
    "duration": 346,
    "start_time": "2022-11-18T15:06:32.156Z"
   },
   {
    "duration": 8,
    "start_time": "2022-11-18T15:06:32.504Z"
   },
   {
    "duration": 7,
    "start_time": "2022-11-18T15:06:32.514Z"
   },
   {
    "duration": 14,
    "start_time": "2022-11-18T15:06:32.523Z"
   },
   {
    "duration": 17,
    "start_time": "2022-11-18T15:06:32.551Z"
   },
   {
    "duration": 8,
    "start_time": "2022-11-18T15:06:32.570Z"
   },
   {
    "duration": 274,
    "start_time": "2022-11-18T15:06:32.582Z"
   },
   {
    "duration": 10,
    "start_time": "2022-11-18T15:06:32.858Z"
   },
   {
    "duration": 10,
    "start_time": "2022-11-18T15:06:32.870Z"
   },
   {
    "duration": 46,
    "start_time": "2022-11-18T15:06:32.882Z"
   },
   {
    "duration": 60,
    "start_time": "2022-11-18T15:06:32.930Z"
   },
   {
    "duration": 189,
    "start_time": "2022-11-18T15:06:32.992Z"
   },
   {
    "duration": 434,
    "start_time": "2022-11-18T15:06:33.184Z"
   },
   {
    "duration": 208,
    "start_time": "2022-11-18T15:06:33.620Z"
   },
   {
    "duration": 185,
    "start_time": "2022-11-18T15:06:33.830Z"
   },
   {
    "duration": 388,
    "start_time": "2022-11-18T15:06:34.017Z"
   },
   {
    "duration": 418,
    "start_time": "2022-11-18T15:06:34.407Z"
   },
   {
    "duration": 6,
    "start_time": "2022-11-18T15:06:34.827Z"
   },
   {
    "duration": 2232,
    "start_time": "2022-11-18T15:06:34.835Z"
   },
   {
    "duration": 315,
    "start_time": "2022-11-18T15:06:37.069Z"
   },
   {
    "duration": 393,
    "start_time": "2022-11-18T15:06:37.386Z"
   },
   {
    "duration": 18,
    "start_time": "2022-11-18T15:06:37.781Z"
   },
   {
    "duration": 206,
    "start_time": "2022-11-18T15:06:37.801Z"
   },
   {
    "duration": 7,
    "start_time": "2022-11-18T15:06:38.009Z"
   },
   {
    "duration": 406,
    "start_time": "2022-11-18T15:06:38.018Z"
   },
   {
    "duration": 382,
    "start_time": "2022-11-18T15:06:38.426Z"
   },
   {
    "duration": 5,
    "start_time": "2022-11-18T15:06:38.811Z"
   },
   {
    "duration": 28,
    "start_time": "2022-11-18T15:06:38.818Z"
   },
   {
    "duration": 20,
    "start_time": "2022-11-18T15:06:38.849Z"
   },
   {
    "duration": 29,
    "start_time": "2022-11-18T15:06:38.871Z"
   },
   {
    "duration": 1538,
    "start_time": "2022-11-18T15:06:38.902Z"
   },
   {
    "duration": 30,
    "start_time": "2022-11-18T15:06:40.442Z"
   },
   {
    "duration": 55,
    "start_time": "2022-11-18T15:06:40.474Z"
   },
   {
    "duration": 26,
    "start_time": "2022-11-18T15:06:40.550Z"
   },
   {
    "duration": 10,
    "start_time": "2022-11-18T15:06:40.578Z"
   },
   {
    "duration": 14,
    "start_time": "2022-11-18T15:06:40.590Z"
   },
   {
    "duration": 17,
    "start_time": "2022-11-18T15:06:40.606Z"
   },
   {
    "duration": 42,
    "start_time": "2022-11-18T15:06:40.625Z"
   },
   {
    "duration": 32,
    "start_time": "2022-11-18T15:06:40.669Z"
   },
   {
    "duration": 1541,
    "start_time": "2022-11-18T15:06:40.703Z"
   },
   {
    "duration": 26,
    "start_time": "2022-11-18T15:06:42.246Z"
   },
   {
    "duration": 6,
    "start_time": "2022-11-18T15:06:42.274Z"
   },
   {
    "duration": 16,
    "start_time": "2022-11-18T15:06:42.281Z"
   },
   {
    "duration": 55,
    "start_time": "2022-11-18T15:06:42.299Z"
   },
   {
    "duration": 6,
    "start_time": "2022-11-18T15:06:42.356Z"
   },
   {
    "duration": 18,
    "start_time": "2022-11-18T15:06:42.364Z"
   },
   {
    "duration": 1399,
    "start_time": "2022-11-18T15:06:42.383Z"
   },
   {
    "duration": 1182,
    "start_time": "2022-11-18T15:06:43.784Z"
   },
   {
    "duration": 4,
    "start_time": "2022-11-18T15:06:44.968Z"
   },
   {
    "duration": 13,
    "start_time": "2022-11-18T15:06:44.974Z"
   },
   {
    "duration": 10,
    "start_time": "2022-11-18T15:06:44.989Z"
   },
   {
    "duration": 305972,
    "start_time": "2022-11-18T15:06:45.001Z"
   },
   {
    "duration": 2183,
    "start_time": "2022-11-18T15:11:50.975Z"
   },
   {
    "duration": 15,
    "start_time": "2022-11-18T15:11:53.160Z"
   },
   {
    "duration": 15,
    "start_time": "2022-11-18T15:11:53.177Z"
   },
   {
    "duration": 6044,
    "start_time": "2022-11-18T15:11:53.198Z"
   },
   {
    "duration": 136,
    "start_time": "2022-11-18T15:11:59.243Z"
   },
   {
    "duration": 0,
    "start_time": "2022-11-18T15:11:59.381Z"
   },
   {
    "duration": 46,
    "start_time": "2022-11-18T18:06:46.958Z"
   },
   {
    "duration": 1600,
    "start_time": "2022-11-18T18:06:57.924Z"
   },
   {
    "duration": 1775,
    "start_time": "2022-11-18T18:06:59.525Z"
   },
   {
    "duration": 16,
    "start_time": "2022-11-18T18:07:01.301Z"
   },
   {
    "duration": 12,
    "start_time": "2022-11-18T18:07:01.318Z"
   },
   {
    "duration": 3,
    "start_time": "2022-11-18T18:07:01.331Z"
   },
   {
    "duration": 11,
    "start_time": "2022-11-18T18:07:01.335Z"
   },
   {
    "duration": 15,
    "start_time": "2022-11-18T18:07:01.348Z"
   },
   {
    "duration": 298,
    "start_time": "2022-11-18T18:07:01.365Z"
   },
   {
    "duration": 7,
    "start_time": "2022-11-18T18:07:01.665Z"
   },
   {
    "duration": 12,
    "start_time": "2022-11-18T18:07:01.673Z"
   },
   {
    "duration": 13,
    "start_time": "2022-11-18T18:07:01.686Z"
   },
   {
    "duration": 17,
    "start_time": "2022-11-18T18:07:01.700Z"
   },
   {
    "duration": 6,
    "start_time": "2022-11-18T18:07:01.718Z"
   },
   {
    "duration": 219,
    "start_time": "2022-11-18T18:07:01.726Z"
   },
   {
    "duration": 9,
    "start_time": "2022-11-18T18:07:01.946Z"
   },
   {
    "duration": 7,
    "start_time": "2022-11-18T18:07:01.956Z"
   },
   {
    "duration": 51,
    "start_time": "2022-11-18T18:07:01.964Z"
   },
   {
    "duration": 33,
    "start_time": "2022-11-18T18:07:02.016Z"
   },
   {
    "duration": 167,
    "start_time": "2022-11-18T18:07:02.051Z"
   },
   {
    "duration": 358,
    "start_time": "2022-11-18T18:07:02.220Z"
   },
   {
    "duration": 165,
    "start_time": "2022-11-18T18:07:02.580Z"
   },
   {
    "duration": 160,
    "start_time": "2022-11-18T18:07:02.746Z"
   },
   {
    "duration": 420,
    "start_time": "2022-11-18T18:07:02.908Z"
   },
   {
    "duration": 222,
    "start_time": "2022-11-18T18:07:03.329Z"
   },
   {
    "duration": 5,
    "start_time": "2022-11-18T18:07:03.552Z"
   },
   {
    "duration": 1866,
    "start_time": "2022-11-18T18:07:03.559Z"
   },
   {
    "duration": 266,
    "start_time": "2022-11-18T18:07:05.427Z"
   },
   {
    "duration": 447,
    "start_time": "2022-11-18T18:07:05.694Z"
   },
   {
    "duration": 5,
    "start_time": "2022-11-18T18:07:06.142Z"
   },
   {
    "duration": 177,
    "start_time": "2022-11-18T18:07:06.149Z"
   },
   {
    "duration": 6,
    "start_time": "2022-11-18T18:07:06.328Z"
   },
   {
    "duration": 178,
    "start_time": "2022-11-18T18:07:06.335Z"
   },
   {
    "duration": 323,
    "start_time": "2022-11-18T18:07:06.514Z"
   },
   {
    "duration": 3,
    "start_time": "2022-11-18T18:07:06.838Z"
   },
   {
    "duration": 7,
    "start_time": "2022-11-18T18:07:06.843Z"
   },
   {
    "duration": 6,
    "start_time": "2022-11-18T18:07:06.852Z"
   },
   {
    "duration": 6,
    "start_time": "2022-11-18T18:07:06.859Z"
   },
   {
    "duration": 1104,
    "start_time": "2022-11-18T18:07:06.867Z"
   },
   {
    "duration": 13,
    "start_time": "2022-11-18T18:07:07.973Z"
   },
   {
    "duration": 52,
    "start_time": "2022-11-18T18:07:07.988Z"
   },
   {
    "duration": 17,
    "start_time": "2022-11-18T18:07:08.043Z"
   },
   {
    "duration": 7,
    "start_time": "2022-11-18T18:07:08.061Z"
   },
   {
    "duration": 8,
    "start_time": "2022-11-18T18:07:08.069Z"
   },
   {
    "duration": 7,
    "start_time": "2022-11-18T18:07:08.078Z"
   },
   {
    "duration": 40,
    "start_time": "2022-11-18T18:07:08.087Z"
   },
   {
    "duration": 21,
    "start_time": "2022-11-18T18:07:08.129Z"
   },
   {
    "duration": 1407,
    "start_time": "2022-11-18T18:07:08.151Z"
   },
   {
    "duration": 19,
    "start_time": "2022-11-18T18:07:09.559Z"
   },
   {
    "duration": 6,
    "start_time": "2022-11-18T18:07:09.580Z"
   },
   {
    "duration": 32,
    "start_time": "2022-11-18T18:07:09.588Z"
   },
   {
    "duration": 19,
    "start_time": "2022-11-18T18:07:09.621Z"
   },
   {
    "duration": 5,
    "start_time": "2022-11-18T18:07:09.642Z"
   },
   {
    "duration": 15,
    "start_time": "2022-11-18T18:07:09.648Z"
   },
   {
    "duration": 1279,
    "start_time": "2022-11-18T18:07:09.665Z"
   },
   {
    "duration": 1018,
    "start_time": "2022-11-18T18:07:10.947Z"
   },
   {
    "duration": 4,
    "start_time": "2022-11-18T18:07:11.966Z"
   },
   {
    "duration": 10,
    "start_time": "2022-11-18T18:07:11.971Z"
   },
   {
    "duration": 8,
    "start_time": "2022-11-18T18:07:11.983Z"
   },
   {
    "duration": 1425,
    "start_time": "2022-11-18T18:09:54.195Z"
   },
   {
    "duration": 1019,
    "start_time": "2022-11-18T18:09:55.622Z"
   },
   {
    "duration": 15,
    "start_time": "2022-11-18T18:09:56.642Z"
   },
   {
    "duration": 20,
    "start_time": "2022-11-18T18:09:56.658Z"
   },
   {
    "duration": 2,
    "start_time": "2022-11-18T18:09:56.680Z"
   },
   {
    "duration": 4,
    "start_time": "2022-11-18T18:09:56.684Z"
   },
   {
    "duration": 10,
    "start_time": "2022-11-18T18:09:56.690Z"
   },
   {
    "duration": 305,
    "start_time": "2022-11-18T18:09:56.701Z"
   },
   {
    "duration": 8,
    "start_time": "2022-11-18T18:09:57.008Z"
   },
   {
    "duration": 4,
    "start_time": "2022-11-18T18:09:57.018Z"
   },
   {
    "duration": 16,
    "start_time": "2022-11-18T18:09:57.024Z"
   },
   {
    "duration": 17,
    "start_time": "2022-11-18T18:09:57.042Z"
   },
   {
    "duration": 8,
    "start_time": "2022-11-18T18:09:57.060Z"
   },
   {
    "duration": 231,
    "start_time": "2022-11-18T18:09:57.072Z"
   },
   {
    "duration": 15,
    "start_time": "2022-11-18T18:09:57.305Z"
   },
   {
    "duration": 8,
    "start_time": "2022-11-18T18:09:57.321Z"
   },
   {
    "duration": 37,
    "start_time": "2022-11-18T18:09:57.330Z"
   },
   {
    "duration": 58,
    "start_time": "2022-11-18T18:09:57.369Z"
   },
   {
    "duration": 140,
    "start_time": "2022-11-18T18:09:57.428Z"
   },
   {
    "duration": 364,
    "start_time": "2022-11-18T18:09:57.570Z"
   },
   {
    "duration": 171,
    "start_time": "2022-11-18T18:09:57.936Z"
   },
   {
    "duration": 152,
    "start_time": "2022-11-18T18:09:58.112Z"
   },
   {
    "duration": 341,
    "start_time": "2022-11-18T18:09:58.266Z"
   },
   {
    "duration": 321,
    "start_time": "2022-11-18T18:09:58.613Z"
   },
   {
    "duration": 5,
    "start_time": "2022-11-18T18:09:58.935Z"
   },
   {
    "duration": 1871,
    "start_time": "2022-11-18T18:09:58.942Z"
   },
   {
    "duration": 276,
    "start_time": "2022-11-18T18:10:00.814Z"
   },
   {
    "duration": 327,
    "start_time": "2022-11-18T18:10:01.091Z"
   },
   {
    "duration": 6,
    "start_time": "2022-11-18T18:10:01.420Z"
   },
   {
    "duration": 189,
    "start_time": "2022-11-18T18:10:01.427Z"
   },
   {
    "duration": 5,
    "start_time": "2022-11-18T18:10:01.617Z"
   },
   {
    "duration": 307,
    "start_time": "2022-11-18T18:10:01.624Z"
   },
   {
    "duration": 329,
    "start_time": "2022-11-18T18:10:01.932Z"
   },
   {
    "duration": 3,
    "start_time": "2022-11-18T18:10:02.263Z"
   },
   {
    "duration": 7,
    "start_time": "2022-11-18T18:10:02.267Z"
   },
   {
    "duration": 7,
    "start_time": "2022-11-18T18:10:02.275Z"
   },
   {
    "duration": 5,
    "start_time": "2022-11-18T18:10:02.283Z"
   },
   {
    "duration": 1083,
    "start_time": "2022-11-18T18:10:02.290Z"
   },
   {
    "duration": 14,
    "start_time": "2022-11-18T18:10:03.374Z"
   },
   {
    "duration": 56,
    "start_time": "2022-11-18T18:10:03.390Z"
   },
   {
    "duration": 17,
    "start_time": "2022-11-18T18:10:03.450Z"
   },
   {
    "duration": 7,
    "start_time": "2022-11-18T18:10:03.468Z"
   },
   {
    "duration": 42,
    "start_time": "2022-11-18T18:10:03.477Z"
   },
   {
    "duration": 24,
    "start_time": "2022-11-18T18:10:03.521Z"
   },
   {
    "duration": 24,
    "start_time": "2022-11-18T18:10:03.546Z"
   },
   {
    "duration": 28,
    "start_time": "2022-11-18T18:10:03.572Z"
   },
   {
    "duration": 1284,
    "start_time": "2022-11-18T18:10:03.603Z"
   },
   {
    "duration": 30,
    "start_time": "2022-11-18T18:10:04.889Z"
   },
   {
    "duration": 6,
    "start_time": "2022-11-18T18:10:04.921Z"
   },
   {
    "duration": 44,
    "start_time": "2022-11-18T18:10:04.928Z"
   },
   {
    "duration": 30,
    "start_time": "2022-11-18T18:10:04.974Z"
   },
   {
    "duration": 7,
    "start_time": "2022-11-18T18:10:05.005Z"
   },
   {
    "duration": 46,
    "start_time": "2022-11-18T18:10:05.013Z"
   },
   {
    "duration": 1162,
    "start_time": "2022-11-18T18:10:05.061Z"
   },
   {
    "duration": 1001,
    "start_time": "2022-11-18T18:10:06.224Z"
   },
   {
    "duration": 5,
    "start_time": "2022-11-18T18:10:07.226Z"
   },
   {
    "duration": 37,
    "start_time": "2022-11-18T18:10:07.233Z"
   },
   {
    "duration": 17,
    "start_time": "2022-11-18T18:10:07.271Z"
   },
   {
    "duration": 1480,
    "start_time": "2022-11-18T18:10:45.517Z"
   },
   {
    "duration": 1067,
    "start_time": "2022-11-18T18:10:46.999Z"
   },
   {
    "duration": 15,
    "start_time": "2022-11-18T18:10:48.067Z"
   },
   {
    "duration": 11,
    "start_time": "2022-11-18T18:10:48.083Z"
   },
   {
    "duration": 3,
    "start_time": "2022-11-18T18:10:48.096Z"
   },
   {
    "duration": 4,
    "start_time": "2022-11-18T18:10:48.100Z"
   },
   {
    "duration": 8,
    "start_time": "2022-11-18T18:10:48.105Z"
   },
   {
    "duration": 278,
    "start_time": "2022-11-18T18:10:48.114Z"
   },
   {
    "duration": 6,
    "start_time": "2022-11-18T18:10:48.394Z"
   },
   {
    "duration": 5,
    "start_time": "2022-11-18T18:10:48.413Z"
   },
   {
    "duration": 13,
    "start_time": "2022-11-18T18:10:48.419Z"
   },
   {
    "duration": 25,
    "start_time": "2022-11-18T18:10:48.433Z"
   },
   {
    "duration": 8,
    "start_time": "2022-11-18T18:10:48.459Z"
   },
   {
    "duration": 227,
    "start_time": "2022-11-18T18:10:48.469Z"
   },
   {
    "duration": 15,
    "start_time": "2022-11-18T18:10:48.698Z"
   },
   {
    "duration": 8,
    "start_time": "2022-11-18T18:10:48.715Z"
   },
   {
    "duration": 35,
    "start_time": "2022-11-18T18:10:48.725Z"
   },
   {
    "duration": 56,
    "start_time": "2022-11-18T18:10:48.761Z"
   },
   {
    "duration": 141,
    "start_time": "2022-11-18T18:10:48.819Z"
   },
   {
    "duration": 364,
    "start_time": "2022-11-18T18:10:48.962Z"
   },
   {
    "duration": 195,
    "start_time": "2022-11-18T18:10:49.328Z"
   },
   {
    "duration": 168,
    "start_time": "2022-11-18T18:10:49.524Z"
   },
   {
    "duration": 340,
    "start_time": "2022-11-18T18:10:49.694Z"
   },
   {
    "duration": 351,
    "start_time": "2022-11-18T18:10:50.035Z"
   },
   {
    "duration": 5,
    "start_time": "2022-11-18T18:10:50.390Z"
   },
   {
    "duration": 1842,
    "start_time": "2022-11-18T18:10:50.397Z"
   },
   {
    "duration": 258,
    "start_time": "2022-11-18T18:10:52.240Z"
   },
   {
    "duration": 315,
    "start_time": "2022-11-18T18:10:52.502Z"
   },
   {
    "duration": 6,
    "start_time": "2022-11-18T18:10:52.818Z"
   },
   {
    "duration": 195,
    "start_time": "2022-11-18T18:10:52.825Z"
   },
   {
    "duration": 5,
    "start_time": "2022-11-18T18:10:53.022Z"
   },
   {
    "duration": 307,
    "start_time": "2022-11-18T18:10:53.028Z"
   },
   {
    "duration": 324,
    "start_time": "2022-11-18T18:10:53.336Z"
   },
   {
    "duration": 3,
    "start_time": "2022-11-18T18:10:53.661Z"
   },
   {
    "duration": 8,
    "start_time": "2022-11-18T18:10:53.665Z"
   },
   {
    "duration": 7,
    "start_time": "2022-11-18T18:10:53.675Z"
   },
   {
    "duration": 4,
    "start_time": "2022-11-18T18:10:53.683Z"
   },
   {
    "duration": 1117,
    "start_time": "2022-11-18T18:10:53.689Z"
   },
   {
    "duration": 16,
    "start_time": "2022-11-18T18:10:54.812Z"
   },
   {
    "duration": 48,
    "start_time": "2022-11-18T18:10:54.829Z"
   },
   {
    "duration": 35,
    "start_time": "2022-11-18T18:10:54.879Z"
   },
   {
    "duration": 9,
    "start_time": "2022-11-18T18:10:54.915Z"
   },
   {
    "duration": 16,
    "start_time": "2022-11-18T18:10:54.925Z"
   },
   {
    "duration": 7,
    "start_time": "2022-11-18T18:10:54.943Z"
   },
   {
    "duration": 25,
    "start_time": "2022-11-18T18:10:54.952Z"
   },
   {
    "duration": 43,
    "start_time": "2022-11-18T18:10:54.979Z"
   },
   {
    "duration": 1276,
    "start_time": "2022-11-18T18:10:55.024Z"
   },
   {
    "duration": 24,
    "start_time": "2022-11-18T18:10:56.301Z"
   },
   {
    "duration": 6,
    "start_time": "2022-11-18T18:10:56.326Z"
   },
   {
    "duration": 14,
    "start_time": "2022-11-18T18:10:56.333Z"
   },
   {
    "duration": 18,
    "start_time": "2022-11-18T18:10:56.348Z"
   },
   {
    "duration": 4,
    "start_time": "2022-11-18T18:10:56.368Z"
   },
   {
    "duration": 42,
    "start_time": "2022-11-18T18:10:56.373Z"
   },
   {
    "duration": 1207,
    "start_time": "2022-11-18T18:10:56.417Z"
   },
   {
    "duration": 1040,
    "start_time": "2022-11-18T18:10:57.625Z"
   },
   {
    "duration": 3,
    "start_time": "2022-11-18T18:10:58.667Z"
   },
   {
    "duration": 13,
    "start_time": "2022-11-18T18:10:58.671Z"
   },
   {
    "duration": 8,
    "start_time": "2022-11-18T18:10:58.685Z"
   },
   {
    "duration": 269829,
    "start_time": "2022-11-18T18:10:58.694Z"
   },
   {
    "duration": 1791,
    "start_time": "2022-11-18T18:15:28.525Z"
   },
   {
    "duration": 19,
    "start_time": "2022-11-18T18:15:30.319Z"
   },
   {
    "duration": 20,
    "start_time": "2022-11-18T18:15:30.340Z"
   },
   {
    "duration": 13,
    "start_time": "2022-11-18T18:15:30.362Z"
   },
   {
    "duration": 1395,
    "start_time": "2022-11-18T18:15:30.377Z"
   },
   {
    "duration": 1264,
    "start_time": "2022-11-18T18:24:25.899Z"
   },
   {
    "duration": 526,
    "start_time": "2022-11-18T18:40:44.566Z"
   },
   {
    "duration": 2057,
    "start_time": "2022-11-19T18:49:21.137Z"
   },
   {
    "duration": 1470,
    "start_time": "2022-11-19T18:49:23.196Z"
   },
   {
    "duration": 19,
    "start_time": "2022-11-19T18:49:24.668Z"
   },
   {
    "duration": 20,
    "start_time": "2022-11-19T18:49:24.689Z"
   },
   {
    "duration": 3,
    "start_time": "2022-11-19T18:49:24.712Z"
   },
   {
    "duration": 8,
    "start_time": "2022-11-19T18:49:24.717Z"
   },
   {
    "duration": 30,
    "start_time": "2022-11-19T18:49:24.727Z"
   },
   {
    "duration": 328,
    "start_time": "2022-11-19T18:49:24.759Z"
   },
   {
    "duration": 7,
    "start_time": "2022-11-19T18:49:25.089Z"
   },
   {
    "duration": 8,
    "start_time": "2022-11-19T18:49:25.098Z"
   },
   {
    "duration": 11,
    "start_time": "2022-11-19T18:49:25.107Z"
   },
   {
    "duration": 32,
    "start_time": "2022-11-19T18:49:25.120Z"
   },
   {
    "duration": 7,
    "start_time": "2022-11-19T18:49:25.153Z"
   },
   {
    "duration": 248,
    "start_time": "2022-11-19T18:49:25.163Z"
   },
   {
    "duration": 227,
    "start_time": "2022-11-19T18:49:25.412Z"
   },
   {
    "duration": 21,
    "start_time": "2022-11-19T18:54:01.671Z"
   },
   {
    "duration": 120,
    "start_time": "2022-11-19T18:54:26.276Z"
   },
   {
    "duration": 58,
    "start_time": "2022-11-19T18:54:37.914Z"
   },
   {
    "duration": 23,
    "start_time": "2022-11-19T18:55:24.829Z"
   },
   {
    "duration": 26,
    "start_time": "2022-11-19T18:55:43.184Z"
   },
   {
    "duration": 26,
    "start_time": "2022-11-19T18:56:35.496Z"
   },
   {
    "duration": 12,
    "start_time": "2022-11-19T19:00:39.309Z"
   },
   {
    "duration": 1826,
    "start_time": "2022-11-19T19:17:27.416Z"
   },
   {
    "duration": 1721,
    "start_time": "2022-11-19T19:17:29.244Z"
   },
   {
    "duration": 17,
    "start_time": "2022-11-19T19:17:30.967Z"
   },
   {
    "duration": 15,
    "start_time": "2022-11-19T19:17:30.986Z"
   },
   {
    "duration": 25,
    "start_time": "2022-11-19T19:17:31.002Z"
   },
   {
    "duration": 19,
    "start_time": "2022-11-19T19:17:31.029Z"
   },
   {
    "duration": 51,
    "start_time": "2022-11-19T19:17:31.050Z"
   },
   {
    "duration": 358,
    "start_time": "2022-11-19T19:17:31.103Z"
   },
   {
    "duration": 9,
    "start_time": "2022-11-19T19:17:31.463Z"
   },
   {
    "duration": 5,
    "start_time": "2022-11-19T19:17:31.475Z"
   },
   {
    "duration": 19,
    "start_time": "2022-11-19T19:17:31.482Z"
   },
   {
    "duration": 17,
    "start_time": "2022-11-19T19:17:31.503Z"
   },
   {
    "duration": 29,
    "start_time": "2022-11-19T19:17:31.522Z"
   },
   {
    "duration": 266,
    "start_time": "2022-11-19T19:17:31.553Z"
   },
   {
    "duration": 246,
    "start_time": "2022-11-19T19:17:31.820Z"
   },
   {
    "duration": 11,
    "start_time": "2022-11-19T19:17:32.068Z"
   },
   {
    "duration": 9,
    "start_time": "2022-11-19T19:17:32.080Z"
   },
   {
    "duration": 66,
    "start_time": "2022-11-19T19:17:32.091Z"
   },
   {
    "duration": 44,
    "start_time": "2022-11-19T19:17:32.159Z"
   },
   {
    "duration": 227,
    "start_time": "2022-11-19T19:17:32.204Z"
   },
   {
    "duration": 462,
    "start_time": "2022-11-19T19:17:32.434Z"
   },
   {
    "duration": 211,
    "start_time": "2022-11-19T19:17:32.898Z"
   },
   {
    "duration": 192,
    "start_time": "2022-11-19T19:17:33.110Z"
   },
   {
    "duration": 375,
    "start_time": "2022-11-19T19:17:33.303Z"
   },
   {
    "duration": 371,
    "start_time": "2022-11-19T19:17:33.679Z"
   },
   {
    "duration": 5,
    "start_time": "2022-11-19T19:17:34.052Z"
   },
   {
    "duration": 2093,
    "start_time": "2022-11-19T19:17:34.059Z"
   },
   {
    "duration": 314,
    "start_time": "2022-11-19T19:17:36.157Z"
   },
   {
    "duration": 367,
    "start_time": "2022-11-19T19:17:36.472Z"
   },
   {
    "duration": 13,
    "start_time": "2022-11-19T19:17:36.841Z"
   },
   {
    "duration": 194,
    "start_time": "2022-11-19T19:17:36.856Z"
   },
   {
    "duration": 6,
    "start_time": "2022-11-19T19:17:37.052Z"
   },
   {
    "duration": 370,
    "start_time": "2022-11-19T19:17:37.059Z"
   },
   {
    "duration": 380,
    "start_time": "2022-11-19T19:17:37.431Z"
   },
   {
    "duration": 3,
    "start_time": "2022-11-19T19:17:37.812Z"
   },
   {
    "duration": 12,
    "start_time": "2022-11-19T19:17:37.817Z"
   },
   {
    "duration": 11,
    "start_time": "2022-11-19T19:17:37.830Z"
   },
   {
    "duration": 10,
    "start_time": "2022-11-19T19:17:37.843Z"
   },
   {
    "duration": 1279,
    "start_time": "2022-11-19T19:17:37.854Z"
   },
   {
    "duration": 32,
    "start_time": "2022-11-19T19:17:39.136Z"
   },
   {
    "duration": 61,
    "start_time": "2022-11-19T19:17:39.170Z"
   },
   {
    "duration": 35,
    "start_time": "2022-11-19T19:17:39.233Z"
   },
   {
    "duration": 151,
    "start_time": "2022-11-19T19:17:39.270Z"
   },
   {
    "duration": 0,
    "start_time": "2022-11-19T19:17:39.423Z"
   },
   {
    "duration": 0,
    "start_time": "2022-11-19T19:17:39.424Z"
   },
   {
    "duration": 0,
    "start_time": "2022-11-19T19:17:39.425Z"
   },
   {
    "duration": 0,
    "start_time": "2022-11-19T19:17:39.426Z"
   },
   {
    "duration": 0,
    "start_time": "2022-11-19T19:17:39.427Z"
   },
   {
    "duration": 0,
    "start_time": "2022-11-19T19:17:39.428Z"
   },
   {
    "duration": 0,
    "start_time": "2022-11-19T19:17:39.429Z"
   },
   {
    "duration": 0,
    "start_time": "2022-11-19T19:17:39.430Z"
   },
   {
    "duration": 0,
    "start_time": "2022-11-19T19:17:39.432Z"
   },
   {
    "duration": 0,
    "start_time": "2022-11-19T19:17:39.450Z"
   },
   {
    "duration": 0,
    "start_time": "2022-11-19T19:17:39.452Z"
   },
   {
    "duration": 0,
    "start_time": "2022-11-19T19:17:39.453Z"
   },
   {
    "duration": 0,
    "start_time": "2022-11-19T19:17:39.454Z"
   },
   {
    "duration": 0,
    "start_time": "2022-11-19T19:17:39.456Z"
   },
   {
    "duration": 0,
    "start_time": "2022-11-19T19:17:39.457Z"
   },
   {
    "duration": 0,
    "start_time": "2022-11-19T19:17:39.458Z"
   },
   {
    "duration": 0,
    "start_time": "2022-11-19T19:17:39.459Z"
   },
   {
    "duration": 0,
    "start_time": "2022-11-19T19:17:39.460Z"
   },
   {
    "duration": 0,
    "start_time": "2022-11-19T19:17:39.461Z"
   },
   {
    "duration": 28,
    "start_time": "2022-11-19T19:19:08.486Z"
   },
   {
    "duration": 1320,
    "start_time": "2022-11-19T19:20:28.932Z"
   },
   {
    "duration": 1866,
    "start_time": "2022-11-19T19:21:14.329Z"
   },
   {
    "duration": 1104,
    "start_time": "2022-11-19T19:21:16.198Z"
   },
   {
    "duration": 17,
    "start_time": "2022-11-19T19:21:17.304Z"
   },
   {
    "duration": 14,
    "start_time": "2022-11-19T19:21:17.324Z"
   },
   {
    "duration": 4,
    "start_time": "2022-11-19T19:21:17.340Z"
   },
   {
    "duration": 5,
    "start_time": "2022-11-19T19:21:17.346Z"
   },
   {
    "duration": 9,
    "start_time": "2022-11-19T19:21:17.353Z"
   },
   {
    "duration": 355,
    "start_time": "2022-11-19T19:21:17.364Z"
   },
   {
    "duration": 9,
    "start_time": "2022-11-19T19:21:17.721Z"
   },
   {
    "duration": 21,
    "start_time": "2022-11-19T19:21:17.734Z"
   },
   {
    "duration": 8,
    "start_time": "2022-11-19T19:21:17.757Z"
   },
   {
    "duration": 17,
    "start_time": "2022-11-19T19:21:17.766Z"
   },
   {
    "duration": 8,
    "start_time": "2022-11-19T19:21:17.784Z"
   },
   {
    "duration": 284,
    "start_time": "2022-11-19T19:21:17.794Z"
   },
   {
    "duration": 273,
    "start_time": "2022-11-19T19:21:18.080Z"
   },
   {
    "duration": 11,
    "start_time": "2022-11-19T19:21:18.356Z"
   },
   {
    "duration": 12,
    "start_time": "2022-11-19T19:21:18.369Z"
   },
   {
    "duration": 69,
    "start_time": "2022-11-19T19:21:18.383Z"
   },
   {
    "duration": 41,
    "start_time": "2022-11-19T19:21:18.454Z"
   },
   {
    "duration": 244,
    "start_time": "2022-11-19T19:21:18.497Z"
   },
   {
    "duration": 453,
    "start_time": "2022-11-19T19:21:18.743Z"
   },
   {
    "duration": 232,
    "start_time": "2022-11-19T19:21:19.199Z"
   },
   {
    "duration": 229,
    "start_time": "2022-11-19T19:21:19.433Z"
   },
   {
    "duration": 467,
    "start_time": "2022-11-19T19:21:19.665Z"
   },
   {
    "duration": 384,
    "start_time": "2022-11-19T19:21:20.133Z"
   },
   {
    "duration": 5,
    "start_time": "2022-11-19T19:21:20.519Z"
   },
   {
    "duration": 2149,
    "start_time": "2022-11-19T19:21:20.526Z"
   },
   {
    "duration": 319,
    "start_time": "2022-11-19T19:21:22.680Z"
   },
   {
    "duration": 379,
    "start_time": "2022-11-19T19:21:23.000Z"
   },
   {
    "duration": 6,
    "start_time": "2022-11-19T19:21:23.380Z"
   },
   {
    "duration": 196,
    "start_time": "2022-11-19T19:21:23.388Z"
   },
   {
    "duration": 7,
    "start_time": "2022-11-19T19:21:23.586Z"
   },
   {
    "duration": 382,
    "start_time": "2022-11-19T19:21:23.595Z"
   },
   {
    "duration": 375,
    "start_time": "2022-11-19T19:21:23.979Z"
   },
   {
    "duration": 3,
    "start_time": "2022-11-19T19:21:24.356Z"
   },
   {
    "duration": 10,
    "start_time": "2022-11-19T19:21:24.361Z"
   },
   {
    "duration": 7,
    "start_time": "2022-11-19T19:21:24.372Z"
   },
   {
    "duration": 5,
    "start_time": "2022-11-19T19:21:24.381Z"
   },
   {
    "duration": 1304,
    "start_time": "2022-11-19T19:21:24.388Z"
   },
   {
    "duration": 16,
    "start_time": "2022-11-19T19:21:25.693Z"
   },
   {
    "duration": 70,
    "start_time": "2022-11-19T19:21:25.711Z"
   },
   {
    "duration": 28,
    "start_time": "2022-11-19T19:21:25.783Z"
   },
   {
    "duration": 1148,
    "start_time": "2022-11-19T19:21:25.813Z"
   },
   {
    "duration": 8,
    "start_time": "2022-11-19T19:21:26.963Z"
   },
   {
    "duration": 10,
    "start_time": "2022-11-19T19:21:26.972Z"
   },
   {
    "duration": 10,
    "start_time": "2022-11-19T19:21:26.985Z"
   },
   {
    "duration": 26,
    "start_time": "2022-11-19T19:21:26.997Z"
   },
   {
    "duration": 57,
    "start_time": "2022-11-19T19:21:27.025Z"
   },
   {
    "duration": 1411,
    "start_time": "2022-11-19T19:21:27.084Z"
   },
   {
    "duration": 20,
    "start_time": "2022-11-19T19:21:28.497Z"
   },
   {
    "duration": 6,
    "start_time": "2022-11-19T19:21:28.519Z"
   },
   {
    "duration": 39,
    "start_time": "2022-11-19T19:21:28.526Z"
   },
   {
    "duration": 21,
    "start_time": "2022-11-19T19:21:28.567Z"
   },
   {
    "duration": 6,
    "start_time": "2022-11-19T19:21:28.589Z"
   },
   {
    "duration": 18,
    "start_time": "2022-11-19T19:21:28.597Z"
   },
   {
    "duration": 15,
    "start_time": "2022-11-19T19:21:28.618Z"
   },
   {
    "duration": 22,
    "start_time": "2022-11-19T19:21:28.635Z"
   },
   {
    "duration": 47,
    "start_time": "2022-11-20T15:09:58.541Z"
   },
   {
    "duration": 7,
    "start_time": "2022-11-20T15:11:34.632Z"
   },
   {
    "duration": 1837,
    "start_time": "2022-11-20T15:11:41.332Z"
   },
   {
    "duration": 1263,
    "start_time": "2022-11-20T15:11:43.171Z"
   },
   {
    "duration": 27,
    "start_time": "2022-11-20T15:11:44.436Z"
   },
   {
    "duration": 22,
    "start_time": "2022-11-20T15:11:44.465Z"
   },
   {
    "duration": 4,
    "start_time": "2022-11-20T15:11:44.489Z"
   },
   {
    "duration": 8,
    "start_time": "2022-11-20T15:11:44.495Z"
   },
   {
    "duration": 17,
    "start_time": "2022-11-20T15:11:44.505Z"
   },
   {
    "duration": 397,
    "start_time": "2022-11-20T15:11:44.524Z"
   },
   {
    "duration": 8,
    "start_time": "2022-11-20T15:11:44.924Z"
   },
   {
    "duration": 17,
    "start_time": "2022-11-20T15:11:44.936Z"
   },
   {
    "duration": 12,
    "start_time": "2022-11-20T15:11:44.955Z"
   },
   {
    "duration": 27,
    "start_time": "2022-11-20T15:11:44.968Z"
   },
   {
    "duration": 8,
    "start_time": "2022-11-20T15:11:44.996Z"
   },
   {
    "duration": 274,
    "start_time": "2022-11-20T15:11:45.005Z"
   },
   {
    "duration": 260,
    "start_time": "2022-11-20T15:11:45.281Z"
   },
   {
    "duration": 17,
    "start_time": "2022-11-20T15:11:45.543Z"
   },
   {
    "duration": 12,
    "start_time": "2022-11-20T15:11:45.563Z"
   },
   {
    "duration": 63,
    "start_time": "2022-11-20T15:11:45.578Z"
   },
   {
    "duration": 39,
    "start_time": "2022-11-20T15:11:45.643Z"
   },
   {
    "duration": 181,
    "start_time": "2022-11-20T15:11:45.684Z"
   },
   {
    "duration": 447,
    "start_time": "2022-11-20T15:11:45.867Z"
   },
   {
    "duration": 229,
    "start_time": "2022-11-20T15:11:46.316Z"
   },
   {
    "duration": 230,
    "start_time": "2022-11-20T15:11:46.547Z"
   },
   {
    "duration": 483,
    "start_time": "2022-11-20T15:11:46.779Z"
   },
   {
    "duration": 390,
    "start_time": "2022-11-20T15:11:47.264Z"
   },
   {
    "duration": 6,
    "start_time": "2022-11-20T15:11:47.657Z"
   },
   {
    "duration": 2407,
    "start_time": "2022-11-20T15:11:47.665Z"
   },
   {
    "duration": 337,
    "start_time": "2022-11-20T15:11:50.076Z"
   },
   {
    "duration": 417,
    "start_time": "2022-11-20T15:11:50.415Z"
   },
   {
    "duration": 17,
    "start_time": "2022-11-20T15:11:50.834Z"
   },
   {
    "duration": 209,
    "start_time": "2022-11-20T15:11:50.852Z"
   },
   {
    "duration": 8,
    "start_time": "2022-11-20T15:11:51.062Z"
   },
   {
    "duration": 420,
    "start_time": "2022-11-20T15:11:51.071Z"
   },
   {
    "duration": 400,
    "start_time": "2022-11-20T15:11:51.492Z"
   },
   {
    "duration": 4,
    "start_time": "2022-11-20T15:11:51.894Z"
   },
   {
    "duration": 8,
    "start_time": "2022-11-20T15:11:51.900Z"
   },
   {
    "duration": 11,
    "start_time": "2022-11-20T15:11:51.910Z"
   },
   {
    "duration": 4,
    "start_time": "2022-11-20T15:11:51.924Z"
   },
   {
    "duration": 1654,
    "start_time": "2022-11-20T15:11:51.931Z"
   },
   {
    "duration": 19,
    "start_time": "2022-11-20T15:11:53.587Z"
   },
   {
    "duration": 65,
    "start_time": "2022-11-20T15:11:53.607Z"
   },
   {
    "duration": 19,
    "start_time": "2022-11-20T15:11:53.674Z"
   },
   {
    "duration": 1237,
    "start_time": "2022-11-20T15:11:53.695Z"
   },
   {
    "duration": 14,
    "start_time": "2022-11-20T15:11:54.936Z"
   },
   {
    "duration": 11,
    "start_time": "2022-11-20T15:11:54.953Z"
   },
   {
    "duration": 12,
    "start_time": "2022-11-20T15:11:54.967Z"
   },
   {
    "duration": 25,
    "start_time": "2022-11-20T15:11:54.981Z"
   },
   {
    "duration": 58,
    "start_time": "2022-11-20T15:11:55.008Z"
   },
   {
    "duration": 1497,
    "start_time": "2022-11-20T15:11:55.068Z"
   },
   {
    "duration": 21,
    "start_time": "2022-11-20T15:11:56.566Z"
   },
   {
    "duration": 6,
    "start_time": "2022-11-20T15:11:56.589Z"
   },
   {
    "duration": 19,
    "start_time": "2022-11-20T15:11:56.597Z"
   },
   {
    "duration": 58,
    "start_time": "2022-11-20T15:11:56.618Z"
   },
   {
    "duration": 7,
    "start_time": "2022-11-20T15:11:56.678Z"
   },
   {
    "duration": 6,
    "start_time": "2022-11-20T15:11:56.687Z"
   },
   {
    "duration": 14,
    "start_time": "2022-11-20T15:11:56.695Z"
   },
   {
    "duration": 10,
    "start_time": "2022-11-20T15:11:56.711Z"
   },
   {
    "duration": 1803,
    "start_time": "2022-11-20T15:12:47.521Z"
   },
   {
    "duration": 1438,
    "start_time": "2022-11-20T15:12:49.327Z"
   },
   {
    "duration": 19,
    "start_time": "2022-11-20T15:12:50.767Z"
   },
   {
    "duration": 15,
    "start_time": "2022-11-20T15:12:50.789Z"
   },
   {
    "duration": 3,
    "start_time": "2022-11-20T15:12:50.806Z"
   },
   {
    "duration": 6,
    "start_time": "2022-11-20T15:12:50.811Z"
   },
   {
    "duration": 44,
    "start_time": "2022-11-20T15:12:50.818Z"
   },
   {
    "duration": 370,
    "start_time": "2022-11-20T15:12:50.864Z"
   },
   {
    "duration": 19,
    "start_time": "2022-11-20T15:12:51.236Z"
   },
   {
    "duration": 8,
    "start_time": "2022-11-20T15:12:51.258Z"
   },
   {
    "duration": 18,
    "start_time": "2022-11-20T15:12:51.268Z"
   },
   {
    "duration": 17,
    "start_time": "2022-11-20T15:12:51.289Z"
   },
   {
    "duration": 7,
    "start_time": "2022-11-20T15:12:51.308Z"
   },
   {
    "duration": 340,
    "start_time": "2022-11-20T15:12:51.317Z"
   },
   {
    "duration": 286,
    "start_time": "2022-11-20T15:12:51.659Z"
   },
   {
    "duration": 17,
    "start_time": "2022-11-20T15:12:51.947Z"
   },
   {
    "duration": 16,
    "start_time": "2022-11-20T15:12:51.967Z"
   },
   {
    "duration": 67,
    "start_time": "2022-11-20T15:12:51.985Z"
   },
   {
    "duration": 45,
    "start_time": "2022-11-20T15:12:52.055Z"
   },
   {
    "duration": 222,
    "start_time": "2022-11-20T15:12:52.102Z"
   },
   {
    "duration": 473,
    "start_time": "2022-11-20T15:12:52.326Z"
   },
   {
    "duration": 225,
    "start_time": "2022-11-20T15:12:52.801Z"
   },
   {
    "duration": 215,
    "start_time": "2022-11-20T15:12:53.028Z"
   },
   {
    "duration": 434,
    "start_time": "2022-11-20T15:12:53.245Z"
   },
   {
    "duration": 398,
    "start_time": "2022-11-20T15:12:53.681Z"
   },
   {
    "duration": 5,
    "start_time": "2022-11-20T15:12:54.081Z"
   },
   {
    "duration": 2411,
    "start_time": "2022-11-20T15:12:54.087Z"
   },
   {
    "duration": 356,
    "start_time": "2022-11-20T15:12:56.502Z"
   },
   {
    "duration": 409,
    "start_time": "2022-11-20T15:12:56.860Z"
   },
   {
    "duration": 7,
    "start_time": "2022-11-20T15:12:57.272Z"
   },
   {
    "duration": 235,
    "start_time": "2022-11-20T15:12:57.281Z"
   },
   {
    "duration": 8,
    "start_time": "2022-11-20T15:12:57.518Z"
   },
   {
    "duration": 432,
    "start_time": "2022-11-20T15:12:57.528Z"
   },
   {
    "duration": 440,
    "start_time": "2022-11-20T15:12:57.962Z"
   },
   {
    "duration": 4,
    "start_time": "2022-11-20T15:12:58.404Z"
   },
   {
    "duration": 7,
    "start_time": "2022-11-20T15:12:58.410Z"
   },
   {
    "duration": 8,
    "start_time": "2022-11-20T15:12:58.419Z"
   },
   {
    "duration": 23,
    "start_time": "2022-11-20T15:12:58.429Z"
   },
   {
    "duration": 1497,
    "start_time": "2022-11-20T15:12:58.455Z"
   },
   {
    "duration": 26,
    "start_time": "2022-11-20T15:12:59.955Z"
   },
   {
    "duration": 86,
    "start_time": "2022-11-20T15:12:59.983Z"
   },
   {
    "duration": 31,
    "start_time": "2022-11-20T15:13:00.071Z"
   },
   {
    "duration": 1113,
    "start_time": "2022-11-20T15:13:00.105Z"
   },
   {
    "duration": 14,
    "start_time": "2022-11-20T15:13:01.220Z"
   },
   {
    "duration": 35,
    "start_time": "2022-11-20T15:13:01.236Z"
   },
   {
    "duration": 20,
    "start_time": "2022-11-20T15:13:01.280Z"
   },
   {
    "duration": 25,
    "start_time": "2022-11-20T15:13:01.302Z"
   },
   {
    "duration": 70,
    "start_time": "2022-11-20T15:13:01.329Z"
   },
   {
    "duration": 1655,
    "start_time": "2022-11-20T15:13:01.401Z"
   },
   {
    "duration": 29,
    "start_time": "2022-11-20T15:13:03.059Z"
   },
   {
    "duration": 7,
    "start_time": "2022-11-20T15:13:03.090Z"
   },
   {
    "duration": 24,
    "start_time": "2022-11-20T15:13:03.099Z"
   },
   {
    "duration": 56,
    "start_time": "2022-11-20T15:13:03.125Z"
   },
   {
    "duration": 6,
    "start_time": "2022-11-20T15:13:03.183Z"
   },
   {
    "duration": 9,
    "start_time": "2022-11-20T15:13:03.191Z"
   },
   {
    "duration": 16,
    "start_time": "2022-11-20T15:13:03.202Z"
   },
   {
    "duration": 13,
    "start_time": "2022-11-20T15:13:03.220Z"
   },
   {
    "duration": 327744,
    "start_time": "2022-11-20T15:13:03.236Z"
   },
   {
    "duration": 1787,
    "start_time": "2022-11-20T15:18:30.982Z"
   },
   {
    "duration": 16,
    "start_time": "2022-11-20T15:18:32.771Z"
   },
   {
    "duration": 1590,
    "start_time": "2022-11-20T15:18:32.788Z"
   },
   {
    "duration": 547,
    "start_time": "2022-11-20T15:18:34.380Z"
   },
   {
    "duration": 156,
    "start_time": "2022-11-20T15:18:34.929Z"
   },
   {
    "duration": 0,
    "start_time": "2022-11-20T15:18:35.091Z"
   },
   {
    "duration": 332,
    "start_time": "2022-11-20T16:04:27.822Z"
   },
   {
    "duration": 60570,
    "start_time": "2022-11-20T16:04:48.462Z"
   },
   {
    "duration": 430,
    "start_time": "2022-11-20T16:10:33.931Z"
   },
   {
    "duration": 395,
    "start_time": "2022-11-20T16:50:03.927Z"
   },
   {
    "duration": 329,
    "start_time": "2022-11-20T17:14:13.268Z"
   },
   {
    "duration": 386,
    "start_time": "2022-11-20T17:16:10.303Z"
   },
   {
    "duration": 400,
    "start_time": "2022-11-20T17:39:13.633Z"
   },
   {
    "duration": 48390,
    "start_time": "2022-11-20T17:41:26.304Z"
   },
   {
    "duration": 369,
    "start_time": "2022-11-20T17:43:27.931Z"
   },
   {
    "duration": 359,
    "start_time": "2022-11-20T17:44:43.232Z"
   },
   {
    "duration": 348,
    "start_time": "2022-11-20T17:45:12.257Z"
   },
   {
    "duration": 21,
    "start_time": "2022-11-20T17:57:15.250Z"
   },
   {
    "duration": 6,
    "start_time": "2022-11-20T17:57:29.081Z"
   },
   {
    "duration": 11,
    "start_time": "2022-11-20T17:57:38.942Z"
   },
   {
    "duration": 26,
    "start_time": "2022-11-20T17:58:06.543Z"
   },
   {
    "duration": 24,
    "start_time": "2022-11-20T17:59:05.365Z"
   },
   {
    "duration": 23,
    "start_time": "2022-11-20T17:59:24.709Z"
   },
   {
    "duration": 24,
    "start_time": "2022-11-20T18:05:03.193Z"
   },
   {
    "duration": 94,
    "start_time": "2022-11-20T18:11:14.188Z"
   },
   {
    "duration": 65,
    "start_time": "2022-11-20T18:11:39.064Z"
   },
   {
    "duration": 68,
    "start_time": "2022-11-20T18:11:54.572Z"
   },
   {
    "duration": 28,
    "start_time": "2022-11-20T18:13:45.134Z"
   },
   {
    "duration": 10,
    "start_time": "2022-11-20T18:22:56.420Z"
   },
   {
    "duration": 16,
    "start_time": "2022-11-20T18:23:22.284Z"
   },
   {
    "duration": 36,
    "start_time": "2022-11-20T18:25:27.945Z"
   },
   {
    "duration": 15,
    "start_time": "2022-11-20T18:27:10.804Z"
   },
   {
    "duration": 8,
    "start_time": "2022-11-20T18:27:26.940Z"
   },
   {
    "duration": 406,
    "start_time": "2022-11-20T18:34:48.310Z"
   },
   {
    "duration": 386,
    "start_time": "2022-11-20T18:37:00.944Z"
   },
   {
    "duration": 400,
    "start_time": "2022-11-20T18:39:01.664Z"
   },
   {
    "duration": 402,
    "start_time": "2022-11-20T18:39:28.864Z"
   },
   {
    "duration": 383,
    "start_time": "2022-11-20T18:41:51.883Z"
   },
   {
    "duration": 406,
    "start_time": "2022-11-20T18:42:12.978Z"
   },
   {
    "duration": 345,
    "start_time": "2022-11-20T18:43:35.473Z"
   },
   {
    "duration": 1732,
    "start_time": "2022-11-20T18:43:49.102Z"
   },
   {
    "duration": 1384,
    "start_time": "2022-11-20T18:43:50.836Z"
   },
   {
    "duration": 19,
    "start_time": "2022-11-20T18:43:52.221Z"
   },
   {
    "duration": 21,
    "start_time": "2022-11-20T18:43:52.243Z"
   },
   {
    "duration": 6,
    "start_time": "2022-11-20T18:43:52.266Z"
   },
   {
    "duration": 7,
    "start_time": "2022-11-20T18:43:52.274Z"
   },
   {
    "duration": 13,
    "start_time": "2022-11-20T18:43:52.282Z"
   },
   {
    "duration": 373,
    "start_time": "2022-11-20T18:43:52.297Z"
   },
   {
    "duration": 7,
    "start_time": "2022-11-20T18:43:52.672Z"
   },
   {
    "duration": 7,
    "start_time": "2022-11-20T18:43:52.682Z"
   },
   {
    "duration": 11,
    "start_time": "2022-11-20T18:43:52.691Z"
   },
   {
    "duration": 20,
    "start_time": "2022-11-20T18:43:52.704Z"
   },
   {
    "duration": 41,
    "start_time": "2022-11-20T18:43:52.726Z"
   },
   {
    "duration": 272,
    "start_time": "2022-11-20T18:43:52.769Z"
   },
   {
    "duration": 288,
    "start_time": "2022-11-20T18:43:53.043Z"
   },
   {
    "duration": 28,
    "start_time": "2022-11-20T18:43:53.333Z"
   },
   {
    "duration": 13,
    "start_time": "2022-11-20T18:43:53.364Z"
   },
   {
    "duration": 49,
    "start_time": "2022-11-20T18:43:53.379Z"
   },
   {
    "duration": 54,
    "start_time": "2022-11-20T18:43:53.430Z"
   },
   {
    "duration": 184,
    "start_time": "2022-11-20T18:43:53.485Z"
   },
   {
    "duration": 445,
    "start_time": "2022-11-20T18:43:53.671Z"
   },
   {
    "duration": 229,
    "start_time": "2022-11-20T18:43:54.118Z"
   },
   {
    "duration": 215,
    "start_time": "2022-11-20T18:43:54.348Z"
   },
   {
    "duration": 416,
    "start_time": "2022-11-20T18:43:54.567Z"
   },
   {
    "duration": 419,
    "start_time": "2022-11-20T18:43:54.985Z"
   },
   {
    "duration": 5,
    "start_time": "2022-11-20T18:43:55.406Z"
   },
   {
    "duration": 2322,
    "start_time": "2022-11-20T18:43:55.412Z"
   },
   {
    "duration": 330,
    "start_time": "2022-11-20T18:43:57.738Z"
   },
   {
    "duration": 390,
    "start_time": "2022-11-20T18:43:58.070Z"
   },
   {
    "duration": 11,
    "start_time": "2022-11-20T18:43:58.462Z"
   },
   {
    "duration": 225,
    "start_time": "2022-11-20T18:43:58.475Z"
   },
   {
    "duration": 8,
    "start_time": "2022-11-20T18:43:58.702Z"
   },
   {
    "duration": 380,
    "start_time": "2022-11-20T18:43:58.711Z"
   },
   {
    "duration": 405,
    "start_time": "2022-11-20T18:43:59.092Z"
   },
   {
    "duration": 3,
    "start_time": "2022-11-20T18:43:59.499Z"
   },
   {
    "duration": 9,
    "start_time": "2022-11-20T18:43:59.504Z"
   },
   {
    "duration": 9,
    "start_time": "2022-11-20T18:43:59.514Z"
   },
   {
    "duration": 4,
    "start_time": "2022-11-20T18:43:59.525Z"
   },
   {
    "duration": 1460,
    "start_time": "2022-11-20T18:43:59.530Z"
   },
   {
    "duration": 15,
    "start_time": "2022-11-20T18:44:00.992Z"
   },
   {
    "duration": 67,
    "start_time": "2022-11-20T18:44:01.009Z"
   },
   {
    "duration": 19,
    "start_time": "2022-11-20T18:44:01.077Z"
   },
   {
    "duration": 1303,
    "start_time": "2022-11-20T18:44:01.098Z"
   },
   {
    "duration": 8,
    "start_time": "2022-11-20T18:44:02.403Z"
   },
   {
    "duration": 15,
    "start_time": "2022-11-20T18:44:02.413Z"
   },
   {
    "duration": 9,
    "start_time": "2022-11-20T18:44:02.430Z"
   },
   {
    "duration": 29,
    "start_time": "2022-11-20T18:44:02.440Z"
   },
   {
    "duration": 26,
    "start_time": "2022-11-20T18:44:02.472Z"
   },
   {
    "duration": 1516,
    "start_time": "2022-11-20T18:44:02.501Z"
   },
   {
    "duration": 20,
    "start_time": "2022-11-20T18:44:04.019Z"
   },
   {
    "duration": 19,
    "start_time": "2022-11-20T18:44:04.041Z"
   },
   {
    "duration": 16,
    "start_time": "2022-11-20T18:44:04.068Z"
   },
   {
    "duration": 22,
    "start_time": "2022-11-20T18:44:04.086Z"
   },
   {
    "duration": 6,
    "start_time": "2022-11-20T18:44:04.110Z"
   },
   {
    "duration": 9,
    "start_time": "2022-11-20T18:44:04.118Z"
   },
   {
    "duration": 32,
    "start_time": "2022-11-20T18:44:04.129Z"
   },
   {
    "duration": 16,
    "start_time": "2022-11-20T18:44:04.163Z"
   },
   {
    "duration": 316003,
    "start_time": "2022-11-20T18:44:04.181Z"
   },
   {
    "duration": 1885,
    "start_time": "2022-11-20T18:49:20.185Z"
   },
   {
    "duration": 14,
    "start_time": "2022-11-20T18:49:22.071Z"
   },
   {
    "duration": 1452,
    "start_time": "2022-11-20T18:49:22.087Z"
   },
   {
    "duration": 522,
    "start_time": "2022-11-20T18:49:23.541Z"
   },
   {
    "duration": 8,
    "start_time": "2022-11-20T18:49:24.065Z"
   },
   {
    "duration": 64,
    "start_time": "2022-11-20T18:49:24.075Z"
   },
   {
    "duration": 0,
    "start_time": "2022-11-20T18:49:24.140Z"
   },
   {
    "duration": 0,
    "start_time": "2022-11-20T18:49:24.143Z"
   },
   {
    "duration": 410,
    "start_time": "2022-11-20T18:54:01.102Z"
   },
   {
    "duration": 171,
    "start_time": "2022-11-20T19:05:28.635Z"
   },
   {
    "duration": 34,
    "start_time": "2022-11-20T19:05:34.252Z"
   },
   {
    "duration": 27,
    "start_time": "2022-11-20T19:07:28.783Z"
   },
   {
    "duration": 28,
    "start_time": "2022-11-20T19:07:44.793Z"
   },
   {
    "duration": 28,
    "start_time": "2022-11-20T19:11:37.611Z"
   },
   {
    "duration": 31,
    "start_time": "2022-11-20T19:12:31.472Z"
   },
   {
    "duration": 211,
    "start_time": "2022-11-20T19:12:57.093Z"
   },
   {
    "duration": 33,
    "start_time": "2022-11-20T19:15:48.473Z"
   },
   {
    "duration": 342,
    "start_time": "2022-11-20T19:18:45.676Z"
   },
   {
    "duration": 395,
    "start_time": "2022-11-20T19:19:21.012Z"
   },
   {
    "duration": 372,
    "start_time": "2022-11-20T19:19:44.523Z"
   },
   {
    "duration": 329,
    "start_time": "2022-11-20T19:21:47.262Z"
   },
   {
    "duration": 20,
    "start_time": "2022-11-20T19:29:03.162Z"
   },
   {
    "duration": 429,
    "start_time": "2022-11-20T19:30:43.374Z"
   },
   {
    "duration": 517,
    "start_time": "2022-11-20T19:36:29.613Z"
   },
   {
    "duration": 46,
    "start_time": "2022-11-20T19:43:46.470Z"
   },
   {
    "duration": 20,
    "start_time": "2022-11-20T19:44:19.603Z"
   },
   {
    "duration": 31,
    "start_time": "2022-11-20T19:44:26.935Z"
   },
   {
    "duration": 24,
    "start_time": "2022-11-20T19:51:21.662Z"
   },
   {
    "duration": 31,
    "start_time": "2022-11-20T19:51:30.932Z"
   },
   {
    "duration": 13,
    "start_time": "2022-11-20T20:08:16.713Z"
   },
   {
    "duration": 26,
    "start_time": "2022-11-20T20:08:34.142Z"
   },
   {
    "duration": 34,
    "start_time": "2022-11-20T20:08:59.743Z"
   },
   {
    "duration": 351,
    "start_time": "2022-11-20T20:10:24.741Z"
   },
   {
    "duration": 13,
    "start_time": "2022-11-20T20:11:34.231Z"
   },
   {
    "duration": 20,
    "start_time": "2022-11-20T20:11:57.032Z"
   },
   {
    "duration": 22,
    "start_time": "2022-11-20T20:12:09.442Z"
   },
   {
    "duration": 20,
    "start_time": "2022-11-20T20:15:11.911Z"
   },
   {
    "duration": 27,
    "start_time": "2022-11-20T20:15:38.244Z"
   },
   {
    "duration": 50,
    "start_time": "2022-11-21T02:25:35.233Z"
   },
   {
    "duration": 2040,
    "start_time": "2022-11-21T02:25:45.515Z"
   },
   {
    "duration": 1358,
    "start_time": "2022-11-21T02:25:47.558Z"
   },
   {
    "duration": 24,
    "start_time": "2022-11-21T02:25:48.918Z"
   },
   {
    "duration": 16,
    "start_time": "2022-11-21T02:25:48.944Z"
   },
   {
    "duration": 8,
    "start_time": "2022-11-21T02:25:48.962Z"
   },
   {
    "duration": 33,
    "start_time": "2022-11-21T02:25:48.972Z"
   },
   {
    "duration": 14,
    "start_time": "2022-11-21T02:25:49.012Z"
   },
   {
    "duration": 406,
    "start_time": "2022-11-21T02:25:49.028Z"
   },
   {
    "duration": 16,
    "start_time": "2022-11-21T02:25:49.436Z"
   },
   {
    "duration": 6,
    "start_time": "2022-11-21T02:25:49.453Z"
   },
   {
    "duration": 8,
    "start_time": "2022-11-21T02:25:49.461Z"
   },
   {
    "duration": 21,
    "start_time": "2022-11-21T02:25:49.471Z"
   },
   {
    "duration": 9,
    "start_time": "2022-11-21T02:25:49.494Z"
   },
   {
    "duration": 369,
    "start_time": "2022-11-21T02:25:49.506Z"
   },
   {
    "duration": 289,
    "start_time": "2022-11-21T02:25:49.878Z"
   },
   {
    "duration": 14,
    "start_time": "2022-11-21T02:25:50.169Z"
   },
   {
    "duration": 31,
    "start_time": "2022-11-21T02:25:50.185Z"
   },
   {
    "duration": 64,
    "start_time": "2022-11-21T02:25:50.218Z"
   },
   {
    "duration": 45,
    "start_time": "2022-11-21T02:25:50.284Z"
   },
   {
    "duration": 207,
    "start_time": "2022-11-21T02:25:50.330Z"
   },
   {
    "duration": 495,
    "start_time": "2022-11-21T02:25:50.539Z"
   },
   {
    "duration": 224,
    "start_time": "2022-11-21T02:25:51.036Z"
   },
   {
    "duration": 203,
    "start_time": "2022-11-21T02:25:51.261Z"
   },
   {
    "duration": 484,
    "start_time": "2022-11-21T02:25:51.466Z"
   },
   {
    "duration": 271,
    "start_time": "2022-11-21T02:25:51.952Z"
   },
   {
    "duration": 4,
    "start_time": "2022-11-21T02:25:52.225Z"
   },
   {
    "duration": 2227,
    "start_time": "2022-11-21T02:25:52.232Z"
   },
   {
    "duration": 313,
    "start_time": "2022-11-21T02:25:54.461Z"
   },
   {
    "duration": 531,
    "start_time": "2022-11-21T02:25:54.776Z"
   },
   {
    "duration": 7,
    "start_time": "2022-11-21T02:25:55.308Z"
   },
   {
    "duration": 206,
    "start_time": "2022-11-21T02:25:55.317Z"
   },
   {
    "duration": 6,
    "start_time": "2022-11-21T02:25:55.524Z"
   },
   {
    "duration": 207,
    "start_time": "2022-11-21T02:25:55.532Z"
   },
   {
    "duration": 364,
    "start_time": "2022-11-21T02:25:55.741Z"
   },
   {
    "duration": 4,
    "start_time": "2022-11-21T02:25:56.106Z"
   },
   {
    "duration": 12,
    "start_time": "2022-11-21T02:25:56.112Z"
   },
   {
    "duration": 8,
    "start_time": "2022-11-21T02:25:56.126Z"
   },
   {
    "duration": 17,
    "start_time": "2022-11-21T02:25:56.136Z"
   },
   {
    "duration": 1223,
    "start_time": "2022-11-21T02:25:56.155Z"
   },
   {
    "duration": 17,
    "start_time": "2022-11-21T02:25:57.380Z"
   },
   {
    "duration": 79,
    "start_time": "2022-11-21T02:25:57.401Z"
   },
   {
    "duration": 19,
    "start_time": "2022-11-21T02:25:57.482Z"
   },
   {
    "duration": 1327,
    "start_time": "2022-11-21T02:25:57.503Z"
   },
   {
    "duration": 8,
    "start_time": "2022-11-21T02:25:58.833Z"
   },
   {
    "duration": 11,
    "start_time": "2022-11-21T02:25:58.843Z"
   },
   {
    "duration": 13,
    "start_time": "2022-11-21T02:25:58.856Z"
   },
   {
    "duration": 28,
    "start_time": "2022-11-21T02:25:58.871Z"
   },
   {
    "duration": 29,
    "start_time": "2022-11-21T02:25:58.900Z"
   },
   {
    "duration": 1465,
    "start_time": "2022-11-21T02:25:58.931Z"
   },
   {
    "duration": 21,
    "start_time": "2022-11-21T02:26:00.398Z"
   },
   {
    "duration": 9,
    "start_time": "2022-11-21T02:26:00.422Z"
   },
   {
    "duration": 30,
    "start_time": "2022-11-21T02:26:00.432Z"
   },
   {
    "duration": 23,
    "start_time": "2022-11-21T02:26:00.464Z"
   },
   {
    "duration": 5,
    "start_time": "2022-11-21T02:26:00.489Z"
   },
   {
    "duration": 29,
    "start_time": "2022-11-21T02:26:00.496Z"
   },
   {
    "duration": 33,
    "start_time": "2022-11-21T02:26:00.527Z"
   },
   {
    "duration": 19,
    "start_time": "2022-11-21T02:26:00.561Z"
   },
   {
    "duration": 1585,
    "start_time": "2022-11-21T02:27:22.781Z"
   },
   {
    "duration": 1319,
    "start_time": "2022-11-21T02:27:24.368Z"
   },
   {
    "duration": 16,
    "start_time": "2022-11-21T02:27:25.689Z"
   },
   {
    "duration": 12,
    "start_time": "2022-11-21T02:27:25.706Z"
   },
   {
    "duration": 6,
    "start_time": "2022-11-21T02:27:25.721Z"
   },
   {
    "duration": 17,
    "start_time": "2022-11-21T02:27:25.729Z"
   },
   {
    "duration": 14,
    "start_time": "2022-11-21T02:27:25.747Z"
   },
   {
    "duration": 322,
    "start_time": "2022-11-21T02:27:25.763Z"
   },
   {
    "duration": 7,
    "start_time": "2022-11-21T02:27:26.087Z"
   },
   {
    "duration": 6,
    "start_time": "2022-11-21T02:27:26.096Z"
   },
   {
    "duration": 9,
    "start_time": "2022-11-21T02:27:26.103Z"
   },
   {
    "duration": 39,
    "start_time": "2022-11-21T02:27:26.113Z"
   },
   {
    "duration": 9,
    "start_time": "2022-11-21T02:27:26.153Z"
   },
   {
    "duration": 255,
    "start_time": "2022-11-21T02:27:26.165Z"
   },
   {
    "duration": 239,
    "start_time": "2022-11-21T02:27:26.421Z"
   },
   {
    "duration": 10,
    "start_time": "2022-11-21T02:27:26.661Z"
   },
   {
    "duration": 9,
    "start_time": "2022-11-21T02:27:26.673Z"
   },
   {
    "duration": 39,
    "start_time": "2022-11-21T02:27:26.683Z"
   },
   {
    "duration": 63,
    "start_time": "2022-11-21T02:27:26.724Z"
   },
   {
    "duration": 170,
    "start_time": "2022-11-21T02:27:26.789Z"
   },
   {
    "duration": 437,
    "start_time": "2022-11-21T02:27:26.961Z"
   },
   {
    "duration": 213,
    "start_time": "2022-11-21T02:27:27.399Z"
   },
   {
    "duration": 185,
    "start_time": "2022-11-21T02:27:27.614Z"
   },
   {
    "duration": 376,
    "start_time": "2022-11-21T02:27:27.801Z"
   },
   {
    "duration": 367,
    "start_time": "2022-11-21T02:27:28.179Z"
   },
   {
    "duration": 5,
    "start_time": "2022-11-21T02:27:28.550Z"
   },
   {
    "duration": 2196,
    "start_time": "2022-11-21T02:27:28.556Z"
   },
   {
    "duration": 307,
    "start_time": "2022-11-21T02:27:30.754Z"
   },
   {
    "duration": 356,
    "start_time": "2022-11-21T02:27:31.063Z"
   },
   {
    "duration": 7,
    "start_time": "2022-11-21T02:27:31.420Z"
   },
   {
    "duration": 195,
    "start_time": "2022-11-21T02:27:31.428Z"
   },
   {
    "duration": 7,
    "start_time": "2022-11-21T02:27:31.625Z"
   },
   {
    "duration": 363,
    "start_time": "2022-11-21T02:27:31.633Z"
   },
   {
    "duration": 367,
    "start_time": "2022-11-21T02:27:31.998Z"
   },
   {
    "duration": 4,
    "start_time": "2022-11-21T02:27:32.367Z"
   },
   {
    "duration": 9,
    "start_time": "2022-11-21T02:27:32.373Z"
   },
   {
    "duration": 7,
    "start_time": "2022-11-21T02:27:32.384Z"
   },
   {
    "duration": 5,
    "start_time": "2022-11-21T02:27:32.393Z"
   },
   {
    "duration": 1253,
    "start_time": "2022-11-21T02:27:32.399Z"
   },
   {
    "duration": 17,
    "start_time": "2022-11-21T02:27:33.654Z"
   },
   {
    "duration": 46,
    "start_time": "2022-11-21T02:27:33.676Z"
   },
   {
    "duration": 37,
    "start_time": "2022-11-21T02:27:33.724Z"
   },
   {
    "duration": 1126,
    "start_time": "2022-11-21T02:27:33.763Z"
   },
   {
    "duration": 9,
    "start_time": "2022-11-21T02:27:34.891Z"
   },
   {
    "duration": 9,
    "start_time": "2022-11-21T02:27:34.903Z"
   },
   {
    "duration": 10,
    "start_time": "2022-11-21T02:27:34.913Z"
   },
   {
    "duration": 42,
    "start_time": "2022-11-21T02:27:34.924Z"
   },
   {
    "duration": 32,
    "start_time": "2022-11-21T02:27:34.967Z"
   },
   {
    "duration": 1511,
    "start_time": "2022-11-21T02:27:35.001Z"
   },
   {
    "duration": 36,
    "start_time": "2022-11-21T02:27:36.514Z"
   },
   {
    "duration": 6,
    "start_time": "2022-11-21T02:27:36.552Z"
   },
   {
    "duration": 39,
    "start_time": "2022-11-21T02:27:36.560Z"
   },
   {
    "duration": 34,
    "start_time": "2022-11-21T02:27:36.600Z"
   },
   {
    "duration": 9,
    "start_time": "2022-11-21T02:27:36.636Z"
   },
   {
    "duration": 30,
    "start_time": "2022-11-21T02:27:36.647Z"
   },
   {
    "duration": 22,
    "start_time": "2022-11-21T02:27:36.679Z"
   },
   {
    "duration": 29,
    "start_time": "2022-11-21T02:27:36.703Z"
   },
   {
    "duration": 1618,
    "start_time": "2022-11-21T02:30:39.208Z"
   },
   {
    "duration": 1101,
    "start_time": "2022-11-21T02:30:40.827Z"
   },
   {
    "duration": 16,
    "start_time": "2022-11-21T02:30:41.930Z"
   },
   {
    "duration": 12,
    "start_time": "2022-11-21T02:30:41.948Z"
   },
   {
    "duration": 3,
    "start_time": "2022-11-21T02:30:41.962Z"
   },
   {
    "duration": 6,
    "start_time": "2022-11-21T02:30:41.967Z"
   },
   {
    "duration": 11,
    "start_time": "2022-11-21T02:30:41.975Z"
   },
   {
    "duration": 344,
    "start_time": "2022-11-21T02:30:41.988Z"
   },
   {
    "duration": 8,
    "start_time": "2022-11-21T02:30:42.333Z"
   },
   {
    "duration": 5,
    "start_time": "2022-11-21T02:30:42.352Z"
   },
   {
    "duration": 7,
    "start_time": "2022-11-21T02:30:42.358Z"
   },
   {
    "duration": 26,
    "start_time": "2022-11-21T02:30:42.367Z"
   },
   {
    "duration": 7,
    "start_time": "2022-11-21T02:30:42.395Z"
   },
   {
    "duration": 249,
    "start_time": "2022-11-21T02:30:42.403Z"
   },
   {
    "duration": 234,
    "start_time": "2022-11-21T02:30:42.654Z"
   },
   {
    "duration": 10,
    "start_time": "2022-11-21T02:30:42.890Z"
   },
   {
    "duration": 8,
    "start_time": "2022-11-21T02:30:42.901Z"
   },
   {
    "duration": 58,
    "start_time": "2022-11-21T02:30:42.911Z"
   },
   {
    "duration": 37,
    "start_time": "2022-11-21T02:30:42.971Z"
   },
   {
    "duration": 176,
    "start_time": "2022-11-21T02:30:43.009Z"
   },
   {
    "duration": 384,
    "start_time": "2022-11-21T02:30:43.187Z"
   },
   {
    "duration": 195,
    "start_time": "2022-11-21T02:30:43.573Z"
   },
   {
    "duration": 182,
    "start_time": "2022-11-21T02:30:43.770Z"
   },
   {
    "duration": 374,
    "start_time": "2022-11-21T02:30:43.954Z"
   },
   {
    "duration": 369,
    "start_time": "2022-11-21T02:30:44.329Z"
   },
   {
    "duration": 5,
    "start_time": "2022-11-21T02:30:44.700Z"
   },
   {
    "duration": 2045,
    "start_time": "2022-11-21T02:30:44.707Z"
   },
   {
    "duration": 299,
    "start_time": "2022-11-21T02:30:46.756Z"
   },
   {
    "duration": 359,
    "start_time": "2022-11-21T02:30:47.057Z"
   },
   {
    "duration": 7,
    "start_time": "2022-11-21T02:30:47.418Z"
   },
   {
    "duration": 192,
    "start_time": "2022-11-21T02:30:47.426Z"
   },
   {
    "duration": 7,
    "start_time": "2022-11-21T02:30:47.620Z"
   },
   {
    "duration": 350,
    "start_time": "2022-11-21T02:30:47.629Z"
   },
   {
    "duration": 361,
    "start_time": "2022-11-21T02:30:47.981Z"
   },
   {
    "duration": 7,
    "start_time": "2022-11-21T02:30:48.344Z"
   },
   {
    "duration": 7,
    "start_time": "2022-11-21T02:30:48.353Z"
   },
   {
    "duration": 7,
    "start_time": "2022-11-21T02:30:48.361Z"
   },
   {
    "duration": 4,
    "start_time": "2022-11-21T02:30:48.370Z"
   },
   {
    "duration": 1270,
    "start_time": "2022-11-21T02:30:48.375Z"
   },
   {
    "duration": 23,
    "start_time": "2022-11-21T02:30:49.647Z"
   },
   {
    "duration": 74,
    "start_time": "2022-11-21T02:30:49.672Z"
   },
   {
    "duration": 24,
    "start_time": "2022-11-21T02:30:49.750Z"
   },
   {
    "duration": 953,
    "start_time": "2022-11-21T02:30:49.776Z"
   },
   {
    "duration": 9,
    "start_time": "2022-11-21T02:30:50.730Z"
   },
   {
    "duration": 11,
    "start_time": "2022-11-21T02:30:50.741Z"
   },
   {
    "duration": 8,
    "start_time": "2022-11-21T02:30:50.754Z"
   },
   {
    "duration": 20,
    "start_time": "2022-11-21T02:30:50.764Z"
   },
   {
    "duration": 29,
    "start_time": "2022-11-21T02:30:50.786Z"
   },
   {
    "duration": 1433,
    "start_time": "2022-11-21T02:30:50.817Z"
   },
   {
    "duration": 21,
    "start_time": "2022-11-21T02:30:52.252Z"
   },
   {
    "duration": 6,
    "start_time": "2022-11-21T02:30:52.275Z"
   },
   {
    "duration": 15,
    "start_time": "2022-11-21T02:30:52.283Z"
   },
   {
    "duration": 19,
    "start_time": "2022-11-21T02:30:52.300Z"
   },
   {
    "duration": 34,
    "start_time": "2022-11-21T02:30:52.320Z"
   },
   {
    "duration": 5,
    "start_time": "2022-11-21T02:30:52.355Z"
   },
   {
    "duration": 13,
    "start_time": "2022-11-21T02:30:52.361Z"
   },
   {
    "duration": 9,
    "start_time": "2022-11-21T02:30:52.375Z"
   },
   {
    "duration": 11,
    "start_time": "2022-11-21T02:44:12.592Z"
   },
   {
    "duration": 88,
    "start_time": "2022-11-21T02:44:58.012Z"
   },
   {
    "duration": 11,
    "start_time": "2022-11-21T02:47:48.043Z"
   },
   {
    "duration": 11,
    "start_time": "2022-11-21T02:48:26.415Z"
   },
   {
    "duration": 375,
    "start_time": "2022-11-21T02:48:51.626Z"
   },
   {
    "duration": 26,
    "start_time": "2022-11-21T02:49:09.705Z"
   },
   {
    "duration": 394,
    "start_time": "2022-11-21T02:49:53.336Z"
   },
   {
    "duration": 19,
    "start_time": "2022-11-21T02:50:20.953Z"
   },
   {
    "duration": 20,
    "start_time": "2022-11-21T02:52:29.384Z"
   },
   {
    "duration": 8,
    "start_time": "2022-11-21T02:54:04.683Z"
   },
   {
    "duration": 19,
    "start_time": "2022-11-21T02:54:13.066Z"
   },
   {
    "duration": 368,
    "start_time": "2022-11-21T02:56:25.243Z"
   },
   {
    "duration": 370,
    "start_time": "2022-11-21T02:58:47.022Z"
   },
   {
    "duration": 381,
    "start_time": "2022-11-21T03:01:24.048Z"
   },
   {
    "duration": 2,
    "start_time": "2022-11-21T03:02:43.948Z"
   },
   {
    "duration": 59,
    "start_time": "2022-11-21T03:10:41.580Z"
   },
   {
    "duration": 34,
    "start_time": "2022-11-21T03:12:53.019Z"
   },
   {
    "duration": 33,
    "start_time": "2022-11-21T03:13:25.059Z"
   },
   {
    "duration": 23,
    "start_time": "2022-11-21T03:13:32.059Z"
   },
   {
    "duration": 384,
    "start_time": "2022-11-21T03:17:13.645Z"
   },
   {
    "duration": 430,
    "start_time": "2022-11-21T03:17:49.005Z"
   },
   {
    "duration": 22,
    "start_time": "2022-11-21T03:18:30.277Z"
   },
   {
    "duration": 21,
    "start_time": "2022-11-21T03:19:04.751Z"
   },
   {
    "duration": 23,
    "start_time": "2022-11-21T03:23:13.900Z"
   },
   {
    "duration": 12,
    "start_time": "2022-11-21T03:29:11.341Z"
   },
   {
    "duration": 15,
    "start_time": "2022-11-21T03:34:28.073Z"
   },
   {
    "duration": 16,
    "start_time": "2022-11-21T03:39:26.979Z"
   },
   {
    "duration": 86,
    "start_time": "2022-11-21T03:39:27.538Z"
   },
   {
    "duration": 13,
    "start_time": "2022-11-21T03:40:00.059Z"
   },
   {
    "duration": 68,
    "start_time": "2022-11-21T03:40:00.568Z"
   },
   {
    "duration": 2049,
    "start_time": "2022-11-22T23:07:44.199Z"
   },
   {
    "duration": 640619,
    "start_time": "2022-11-22T23:07:46.250Z"
   },
   {
    "duration": 0,
    "start_time": "2022-11-22T23:18:26.872Z"
   },
   {
    "duration": 0,
    "start_time": "2022-11-22T23:18:26.874Z"
   },
   {
    "duration": 0,
    "start_time": "2022-11-22T23:18:26.875Z"
   },
   {
    "duration": 0,
    "start_time": "2022-11-22T23:18:26.876Z"
   },
   {
    "duration": 0,
    "start_time": "2022-11-22T23:18:26.877Z"
   },
   {
    "duration": 0,
    "start_time": "2022-11-22T23:18:26.878Z"
   },
   {
    "duration": 0,
    "start_time": "2022-11-22T23:18:26.879Z"
   },
   {
    "duration": 0,
    "start_time": "2022-11-22T23:18:26.880Z"
   },
   {
    "duration": 0,
    "start_time": "2022-11-22T23:18:26.882Z"
   },
   {
    "duration": 0,
    "start_time": "2022-11-22T23:18:26.883Z"
   },
   {
    "duration": 0,
    "start_time": "2022-11-22T23:18:26.884Z"
   },
   {
    "duration": 0,
    "start_time": "2022-11-22T23:18:26.885Z"
   },
   {
    "duration": 0,
    "start_time": "2022-11-22T23:18:26.886Z"
   },
   {
    "duration": 0,
    "start_time": "2022-11-22T23:18:26.886Z"
   },
   {
    "duration": 0,
    "start_time": "2022-11-22T23:18:26.887Z"
   },
   {
    "duration": 0,
    "start_time": "2022-11-22T23:18:26.888Z"
   },
   {
    "duration": 0,
    "start_time": "2022-11-22T23:18:26.889Z"
   },
   {
    "duration": 0,
    "start_time": "2022-11-22T23:18:26.890Z"
   },
   {
    "duration": 0,
    "start_time": "2022-11-22T23:18:26.891Z"
   },
   {
    "duration": 0,
    "start_time": "2022-11-22T23:18:26.892Z"
   },
   {
    "duration": 0,
    "start_time": "2022-11-22T23:18:26.893Z"
   },
   {
    "duration": 0,
    "start_time": "2022-11-22T23:18:26.894Z"
   },
   {
    "duration": 0,
    "start_time": "2022-11-22T23:18:26.895Z"
   },
   {
    "duration": 0,
    "start_time": "2022-11-22T23:18:26.896Z"
   },
   {
    "duration": 0,
    "start_time": "2022-11-22T23:18:26.897Z"
   },
   {
    "duration": 0,
    "start_time": "2022-11-22T23:18:26.898Z"
   },
   {
    "duration": 0,
    "start_time": "2022-11-22T23:18:26.899Z"
   },
   {
    "duration": 0,
    "start_time": "2022-11-22T23:18:26.900Z"
   },
   {
    "duration": 0,
    "start_time": "2022-11-22T23:18:26.938Z"
   },
   {
    "duration": 0,
    "start_time": "2022-11-22T23:18:26.939Z"
   },
   {
    "duration": 0,
    "start_time": "2022-11-22T23:18:26.944Z"
   },
   {
    "duration": 0,
    "start_time": "2022-11-22T23:18:26.945Z"
   },
   {
    "duration": 0,
    "start_time": "2022-11-22T23:18:26.945Z"
   },
   {
    "duration": 0,
    "start_time": "2022-11-22T23:18:26.946Z"
   },
   {
    "duration": 0,
    "start_time": "2022-11-22T23:18:26.946Z"
   },
   {
    "duration": 0,
    "start_time": "2022-11-22T23:18:26.947Z"
   },
   {
    "duration": 0,
    "start_time": "2022-11-22T23:18:26.947Z"
   },
   {
    "duration": 0,
    "start_time": "2022-11-22T23:18:26.952Z"
   },
   {
    "duration": 0,
    "start_time": "2022-11-22T23:18:26.953Z"
   },
   {
    "duration": 0,
    "start_time": "2022-11-22T23:18:26.955Z"
   },
   {
    "duration": 0,
    "start_time": "2022-11-22T23:18:26.956Z"
   },
   {
    "duration": 0,
    "start_time": "2022-11-22T23:18:26.958Z"
   },
   {
    "duration": 0,
    "start_time": "2022-11-22T23:18:26.959Z"
   },
   {
    "duration": 0,
    "start_time": "2022-11-22T23:18:26.961Z"
   },
   {
    "duration": 0,
    "start_time": "2022-11-22T23:18:26.962Z"
   },
   {
    "duration": 0,
    "start_time": "2022-11-22T23:18:26.963Z"
   },
   {
    "duration": 0,
    "start_time": "2022-11-22T23:18:26.965Z"
   },
   {
    "duration": 0,
    "start_time": "2022-11-22T23:18:26.966Z"
   },
   {
    "duration": 0,
    "start_time": "2022-11-22T23:18:26.967Z"
   },
   {
    "duration": 0,
    "start_time": "2022-11-22T23:18:26.969Z"
   },
   {
    "duration": 0,
    "start_time": "2022-11-22T23:18:26.970Z"
   },
   {
    "duration": 0,
    "start_time": "2022-11-22T23:18:26.971Z"
   },
   {
    "duration": 0,
    "start_time": "2022-11-22T23:18:26.973Z"
   },
   {
    "duration": 0,
    "start_time": "2022-11-22T23:18:26.975Z"
   },
   {
    "duration": 0,
    "start_time": "2022-11-22T23:18:26.976Z"
   },
   {
    "duration": 0,
    "start_time": "2022-11-22T23:18:26.978Z"
   },
   {
    "duration": 0,
    "start_time": "2022-11-22T23:18:26.979Z"
   },
   {
    "duration": 0,
    "start_time": "2022-11-22T23:18:27.037Z"
   },
   {
    "duration": 0,
    "start_time": "2022-11-22T23:18:27.038Z"
   },
   {
    "duration": 0,
    "start_time": "2022-11-22T23:18:27.039Z"
   },
   {
    "duration": 0,
    "start_time": "2022-11-22T23:18:27.040Z"
   },
   {
    "duration": 0,
    "start_time": "2022-11-22T23:18:27.041Z"
   },
   {
    "duration": 0,
    "start_time": "2022-11-22T23:18:27.042Z"
   },
   {
    "duration": 0,
    "start_time": "2022-11-22T23:18:27.046Z"
   },
   {
    "duration": 0,
    "start_time": "2022-11-22T23:18:27.047Z"
   },
   {
    "duration": 0,
    "start_time": "2022-11-22T23:18:27.051Z"
   },
   {
    "duration": 0,
    "start_time": "2022-11-22T23:18:27.052Z"
   },
   {
    "duration": 1938,
    "start_time": "2022-11-22T23:18:33.676Z"
   },
   {
    "duration": 1199,
    "start_time": "2022-11-22T23:18:35.616Z"
   },
   {
    "duration": 17,
    "start_time": "2022-11-22T23:18:36.817Z"
   },
   {
    "duration": 14,
    "start_time": "2022-11-22T23:18:36.847Z"
   },
   {
    "duration": 3,
    "start_time": "2022-11-22T23:18:36.862Z"
   },
   {
    "duration": 8,
    "start_time": "2022-11-22T23:18:36.867Z"
   },
   {
    "duration": 14,
    "start_time": "2022-11-22T23:18:36.877Z"
   },
   {
    "duration": 339,
    "start_time": "2022-11-22T23:18:36.892Z"
   },
   {
    "duration": 12,
    "start_time": "2022-11-22T23:18:37.236Z"
   },
   {
    "duration": 12,
    "start_time": "2022-11-22T23:18:37.251Z"
   },
   {
    "duration": 23,
    "start_time": "2022-11-22T23:18:37.265Z"
   },
   {
    "duration": 29,
    "start_time": "2022-11-22T23:18:37.289Z"
   },
   {
    "duration": 12,
    "start_time": "2022-11-22T23:18:37.319Z"
   },
   {
    "duration": 237,
    "start_time": "2022-11-22T23:18:37.333Z"
   },
   {
    "duration": 236,
    "start_time": "2022-11-22T23:18:37.572Z"
   },
   {
    "duration": 10,
    "start_time": "2022-11-22T23:18:37.809Z"
   },
   {
    "duration": 24,
    "start_time": "2022-11-22T23:18:37.820Z"
   },
   {
    "duration": 53,
    "start_time": "2022-11-22T23:18:37.846Z"
   },
   {
    "duration": 48,
    "start_time": "2022-11-22T23:18:37.901Z"
   },
   {
    "duration": 213,
    "start_time": "2022-11-22T23:18:37.951Z"
   },
   {
    "duration": 386,
    "start_time": "2022-11-22T23:18:38.165Z"
   },
   {
    "duration": 200,
    "start_time": "2022-11-22T23:18:38.553Z"
   },
   {
    "duration": 176,
    "start_time": "2022-11-22T23:18:38.754Z"
   },
   {
    "duration": 355,
    "start_time": "2022-11-22T23:18:38.934Z"
   },
   {
    "duration": 369,
    "start_time": "2022-11-22T23:18:39.291Z"
   },
   {
    "duration": 5,
    "start_time": "2022-11-22T23:18:39.662Z"
   },
   {
    "duration": 2063,
    "start_time": "2022-11-22T23:18:39.669Z"
   },
   {
    "duration": 335,
    "start_time": "2022-11-22T23:18:41.738Z"
   },
   {
    "duration": 375,
    "start_time": "2022-11-22T23:18:42.074Z"
   },
   {
    "duration": 7,
    "start_time": "2022-11-22T23:18:42.455Z"
   },
   {
    "duration": 227,
    "start_time": "2022-11-22T23:18:42.464Z"
   },
   {
    "duration": 6,
    "start_time": "2022-11-22T23:18:42.692Z"
   },
   {
    "duration": 351,
    "start_time": "2022-11-22T23:18:42.700Z"
   },
   {
    "duration": 336,
    "start_time": "2022-11-22T23:18:43.053Z"
   },
   {
    "duration": 3,
    "start_time": "2022-11-22T23:18:43.390Z"
   },
   {
    "duration": 14,
    "start_time": "2022-11-22T23:18:43.394Z"
   },
   {
    "duration": 11,
    "start_time": "2022-11-22T23:18:43.409Z"
   },
   {
    "duration": 9,
    "start_time": "2022-11-22T23:18:43.422Z"
   },
   {
    "duration": 1226,
    "start_time": "2022-11-22T23:18:43.433Z"
   },
   {
    "duration": 16,
    "start_time": "2022-11-22T23:18:44.660Z"
   },
   {
    "duration": 68,
    "start_time": "2022-11-22T23:18:44.678Z"
   },
   {
    "duration": 21,
    "start_time": "2022-11-22T23:18:44.748Z"
   },
   {
    "duration": 1077,
    "start_time": "2022-11-22T23:18:44.771Z"
   },
   {
    "duration": 8,
    "start_time": "2022-11-22T23:18:45.850Z"
   },
   {
    "duration": 19,
    "start_time": "2022-11-22T23:18:45.859Z"
   },
   {
    "duration": 16,
    "start_time": "2022-11-22T23:18:45.880Z"
   },
   {
    "duration": 28,
    "start_time": "2022-11-22T23:18:45.897Z"
   },
   {
    "duration": 43,
    "start_time": "2022-11-22T23:18:45.927Z"
   },
   {
    "duration": 394,
    "start_time": "2022-11-22T23:18:45.972Z"
   },
   {
    "duration": 136,
    "start_time": "2022-11-22T23:18:46.368Z"
   },
   {
    "duration": 5,
    "start_time": "2022-11-22T23:18:46.506Z"
   },
   {
    "duration": 42,
    "start_time": "2022-11-22T23:18:46.513Z"
   },
   {
    "duration": 29,
    "start_time": "2022-11-22T23:18:46.557Z"
   },
   {
    "duration": 6,
    "start_time": "2022-11-22T23:18:46.587Z"
   },
   {
    "duration": 18,
    "start_time": "2022-11-22T23:18:46.595Z"
   },
   {
    "duration": 49,
    "start_time": "2022-11-22T23:18:46.615Z"
   },
   {
    "duration": 37,
    "start_time": "2022-11-22T23:18:46.666Z"
   },
   {
    "duration": 296114,
    "start_time": "2022-11-22T23:18:46.705Z"
   },
   {
    "duration": 2019,
    "start_time": "2022-11-22T23:23:42.821Z"
   },
   {
    "duration": 13,
    "start_time": "2022-11-22T23:23:44.842Z"
   },
   {
    "duration": 1329,
    "start_time": "2022-11-22T23:23:44.856Z"
   },
   {
    "duration": 473,
    "start_time": "2022-11-22T23:23:46.186Z"
   },
   {
    "duration": 326,
    "start_time": "2022-11-22T23:23:46.661Z"
   },
   {
    "duration": 21,
    "start_time": "2022-11-22T23:23:46.990Z"
   },
   {
    "duration": 42,
    "start_time": "2022-11-22T23:23:47.013Z"
   },
   {
    "duration": 27,
    "start_time": "2022-11-22T23:23:47.057Z"
   },
   {
    "duration": 36,
    "start_time": "2022-11-22T23:23:47.086Z"
   },
   {
    "duration": 22,
    "start_time": "2022-11-22T23:23:47.124Z"
   },
   {
    "duration": 21,
    "start_time": "2022-11-22T23:23:47.148Z"
   },
   {
    "duration": 60,
    "start_time": "2022-11-23T03:02:24.731Z"
   },
   {
    "duration": 1511,
    "start_time": "2022-11-23T19:05:39.001Z"
   },
   {
    "duration": 1270,
    "start_time": "2022-11-23T19:05:40.515Z"
   },
   {
    "duration": 14,
    "start_time": "2022-11-23T19:05:41.786Z"
   },
   {
    "duration": 11,
    "start_time": "2022-11-23T19:05:41.802Z"
   },
   {
    "duration": 3,
    "start_time": "2022-11-23T19:05:41.815Z"
   },
   {
    "duration": 6,
    "start_time": "2022-11-23T19:05:41.819Z"
   },
   {
    "duration": 10,
    "start_time": "2022-11-23T19:05:41.826Z"
   },
   {
    "duration": 320,
    "start_time": "2022-11-23T19:05:41.838Z"
   },
   {
    "duration": 9,
    "start_time": "2022-11-23T19:05:42.160Z"
   },
   {
    "duration": 6,
    "start_time": "2022-11-23T19:05:42.173Z"
   },
   {
    "duration": 8,
    "start_time": "2022-11-23T19:05:42.198Z"
   },
   {
    "duration": 17,
    "start_time": "2022-11-23T19:05:42.208Z"
   },
   {
    "duration": 8,
    "start_time": "2022-11-23T19:05:42.227Z"
   },
   {
    "duration": 263,
    "start_time": "2022-11-23T19:05:42.237Z"
   },
   {
    "duration": 233,
    "start_time": "2022-11-23T19:05:42.502Z"
   },
   {
    "duration": 9,
    "start_time": "2022-11-23T19:05:42.736Z"
   },
   {
    "duration": 8,
    "start_time": "2022-11-23T19:05:42.747Z"
   },
   {
    "duration": 63,
    "start_time": "2022-11-23T19:05:42.756Z"
   },
   {
    "duration": 37,
    "start_time": "2022-11-23T19:05:42.820Z"
   },
   {
    "duration": 181,
    "start_time": "2022-11-23T19:05:42.858Z"
   },
   {
    "duration": 369,
    "start_time": "2022-11-23T19:05:43.041Z"
   },
   {
    "duration": 196,
    "start_time": "2022-11-23T19:05:43.412Z"
   },
   {
    "duration": 165,
    "start_time": "2022-11-23T19:05:43.610Z"
   },
   {
    "duration": 366,
    "start_time": "2022-11-23T19:05:43.778Z"
   },
   {
    "duration": 355,
    "start_time": "2022-11-23T19:05:44.146Z"
   },
   {
    "duration": 4,
    "start_time": "2022-11-23T19:05:44.503Z"
   },
   {
    "duration": 2051,
    "start_time": "2022-11-23T19:05:44.508Z"
   },
   {
    "duration": 291,
    "start_time": "2022-11-23T19:05:46.563Z"
   },
   {
    "duration": 342,
    "start_time": "2022-11-23T19:05:46.855Z"
   },
   {
    "duration": 6,
    "start_time": "2022-11-23T19:05:47.199Z"
   },
   {
    "duration": 185,
    "start_time": "2022-11-23T19:05:47.206Z"
   },
   {
    "duration": 8,
    "start_time": "2022-11-23T19:05:47.393Z"
   },
   {
    "duration": 318,
    "start_time": "2022-11-23T19:05:47.403Z"
   },
   {
    "duration": 344,
    "start_time": "2022-11-23T19:05:47.723Z"
   },
   {
    "duration": 2,
    "start_time": "2022-11-23T19:05:48.069Z"
   },
   {
    "duration": 15,
    "start_time": "2022-11-23T19:05:48.073Z"
   },
   {
    "duration": 16,
    "start_time": "2022-11-23T19:05:48.089Z"
   },
   {
    "duration": 6,
    "start_time": "2022-11-23T19:05:48.107Z"
   },
   {
    "duration": 1144,
    "start_time": "2022-11-23T19:05:48.115Z"
   },
   {
    "duration": 21,
    "start_time": "2022-11-23T19:05:49.260Z"
   },
   {
    "duration": 59,
    "start_time": "2022-11-23T19:05:49.283Z"
   },
   {
    "duration": 18,
    "start_time": "2022-11-23T19:05:49.343Z"
   },
   {
    "duration": 1021,
    "start_time": "2022-11-23T19:05:49.362Z"
   },
   {
    "duration": 7,
    "start_time": "2022-11-23T19:05:50.384Z"
   },
   {
    "duration": 17,
    "start_time": "2022-11-23T19:05:50.392Z"
   },
   {
    "duration": 16,
    "start_time": "2022-11-23T19:05:50.410Z"
   },
   {
    "duration": 34,
    "start_time": "2022-11-23T19:05:50.428Z"
   },
   {
    "duration": 35,
    "start_time": "2022-11-23T19:05:50.464Z"
   },
   {
    "duration": 353,
    "start_time": "2022-11-23T19:05:50.501Z"
   },
   {
    "duration": 127,
    "start_time": "2022-11-23T19:05:50.856Z"
   },
   {
    "duration": 6,
    "start_time": "2022-11-23T19:05:50.984Z"
   },
   {
    "duration": 15,
    "start_time": "2022-11-23T19:05:50.997Z"
   },
   {
    "duration": 20,
    "start_time": "2022-11-23T19:05:51.014Z"
   },
   {
    "duration": 5,
    "start_time": "2022-11-23T19:05:51.036Z"
   },
   {
    "duration": 7,
    "start_time": "2022-11-23T19:05:51.043Z"
   },
   {
    "duration": 20,
    "start_time": "2022-11-23T19:05:51.051Z"
   },
   {
    "duration": 8,
    "start_time": "2022-11-23T19:05:51.072Z"
   },
   {
    "duration": 1474,
    "start_time": "2022-11-23T19:06:38.867Z"
   },
   {
    "duration": 912,
    "start_time": "2022-11-23T19:06:40.343Z"
   },
   {
    "duration": 19,
    "start_time": "2022-11-23T19:06:41.257Z"
   },
   {
    "duration": 13,
    "start_time": "2022-11-23T19:06:41.278Z"
   },
   {
    "duration": 8,
    "start_time": "2022-11-23T19:06:41.293Z"
   },
   {
    "duration": 8,
    "start_time": "2022-11-23T19:06:41.303Z"
   },
   {
    "duration": 12,
    "start_time": "2022-11-23T19:06:41.313Z"
   },
   {
    "duration": 303,
    "start_time": "2022-11-23T19:06:41.327Z"
   },
   {
    "duration": 7,
    "start_time": "2022-11-23T19:06:41.632Z"
   },
   {
    "duration": 6,
    "start_time": "2022-11-23T19:06:41.641Z"
   },
   {
    "duration": 10,
    "start_time": "2022-11-23T19:06:41.648Z"
   },
   {
    "duration": 40,
    "start_time": "2022-11-23T19:06:41.659Z"
   },
   {
    "duration": 9,
    "start_time": "2022-11-23T19:06:41.701Z"
   },
   {
    "duration": 226,
    "start_time": "2022-11-23T19:06:41.712Z"
   },
   {
    "duration": 227,
    "start_time": "2022-11-23T19:06:41.940Z"
   },
   {
    "duration": 9,
    "start_time": "2022-11-23T19:06:42.169Z"
   },
   {
    "duration": 21,
    "start_time": "2022-11-23T19:06:42.179Z"
   },
   {
    "duration": 36,
    "start_time": "2022-11-23T19:06:42.202Z"
   },
   {
    "duration": 38,
    "start_time": "2022-11-23T19:06:42.240Z"
   },
   {
    "duration": 176,
    "start_time": "2022-11-23T19:06:42.279Z"
   },
   {
    "duration": 376,
    "start_time": "2022-11-23T19:06:42.456Z"
   },
   {
    "duration": 169,
    "start_time": "2022-11-23T19:06:42.833Z"
   },
   {
    "duration": 166,
    "start_time": "2022-11-23T19:06:43.004Z"
   },
   {
    "duration": 345,
    "start_time": "2022-11-23T19:06:43.171Z"
   },
   {
    "duration": 367,
    "start_time": "2022-11-23T19:06:43.518Z"
   },
   {
    "duration": 11,
    "start_time": "2022-11-23T19:06:43.887Z"
   },
   {
    "duration": 2061,
    "start_time": "2022-11-23T19:06:43.900Z"
   },
   {
    "duration": 283,
    "start_time": "2022-11-23T19:06:45.964Z"
   },
   {
    "duration": 320,
    "start_time": "2022-11-23T19:06:46.248Z"
   },
   {
    "duration": 6,
    "start_time": "2022-11-23T19:06:46.569Z"
   },
   {
    "duration": 194,
    "start_time": "2022-11-23T19:06:46.576Z"
   },
   {
    "duration": 5,
    "start_time": "2022-11-23T19:06:46.772Z"
   },
   {
    "duration": 342,
    "start_time": "2022-11-23T19:06:46.779Z"
   },
   {
    "duration": 336,
    "start_time": "2022-11-23T19:06:47.123Z"
   },
   {
    "duration": 3,
    "start_time": "2022-11-23T19:06:47.460Z"
   },
   {
    "duration": 11,
    "start_time": "2022-11-23T19:06:47.465Z"
   },
   {
    "duration": 8,
    "start_time": "2022-11-23T19:06:47.478Z"
   },
   {
    "duration": 11,
    "start_time": "2022-11-23T19:06:47.487Z"
   },
   {
    "duration": 1161,
    "start_time": "2022-11-23T19:06:47.499Z"
   },
   {
    "duration": 14,
    "start_time": "2022-11-23T19:06:48.662Z"
   },
   {
    "duration": 61,
    "start_time": "2022-11-23T19:06:48.677Z"
   },
   {
    "duration": 16,
    "start_time": "2022-11-23T19:06:48.739Z"
   },
   {
    "duration": 972,
    "start_time": "2022-11-23T19:06:48.757Z"
   },
   {
    "duration": 8,
    "start_time": "2022-11-23T19:06:49.730Z"
   },
   {
    "duration": 8,
    "start_time": "2022-11-23T19:06:49.740Z"
   },
   {
    "duration": 10,
    "start_time": "2022-11-23T19:06:49.750Z"
   },
   {
    "duration": 39,
    "start_time": "2022-11-23T19:06:49.762Z"
   },
   {
    "duration": 26,
    "start_time": "2022-11-23T19:06:49.802Z"
   },
   {
    "duration": 371,
    "start_time": "2022-11-23T19:06:49.829Z"
   },
   {
    "duration": 130,
    "start_time": "2022-11-23T19:06:50.201Z"
   },
   {
    "duration": 5,
    "start_time": "2022-11-23T19:06:50.333Z"
   },
   {
    "duration": 15,
    "start_time": "2022-11-23T19:06:50.340Z"
   },
   {
    "duration": 18,
    "start_time": "2022-11-23T19:06:50.356Z"
   },
   {
    "duration": 23,
    "start_time": "2022-11-23T19:06:50.375Z"
   },
   {
    "duration": 4,
    "start_time": "2022-11-23T19:06:50.399Z"
   },
   {
    "duration": 11,
    "start_time": "2022-11-23T19:06:50.405Z"
   },
   {
    "duration": 9,
    "start_time": "2022-11-23T19:06:50.417Z"
   },
   {
    "duration": 11,
    "start_time": "2022-11-23T19:17:02.671Z"
   },
   {
    "duration": 14,
    "start_time": "2022-11-23T19:17:34.761Z"
   },
   {
    "duration": 7,
    "start_time": "2022-11-23T19:19:23.331Z"
   },
   {
    "duration": 10,
    "start_time": "2022-11-23T19:19:31.711Z"
   },
   {
    "duration": 56,
    "start_time": "2022-11-23T19:19:51.791Z"
   },
   {
    "duration": 31,
    "start_time": "2022-11-23T19:20:04.321Z"
   },
   {
    "duration": 8,
    "start_time": "2022-11-23T19:20:10.704Z"
   },
   {
    "duration": 9,
    "start_time": "2022-11-23T19:20:18.480Z"
   },
   {
    "duration": 13,
    "start_time": "2022-11-23T19:20:48.422Z"
   },
   {
    "duration": 11,
    "start_time": "2022-11-23T19:21:45.391Z"
   },
   {
    "duration": 14,
    "start_time": "2022-11-23T19:22:25.243Z"
   },
   {
    "duration": 11,
    "start_time": "2022-11-23T19:24:09.301Z"
   },
   {
    "duration": 11,
    "start_time": "2022-11-23T19:25:23.762Z"
   },
   {
    "duration": 11,
    "start_time": "2022-11-23T19:26:28.152Z"
   },
   {
    "duration": 16,
    "start_time": "2022-11-23T19:26:56.992Z"
   }
  ],
  "kernelspec": {
   "display_name": "Python 3 (ipykernel)",
   "language": "python",
   "name": "python3"
  },
  "language_info": {
   "codemirror_mode": {
    "name": "ipython",
    "version": 3
   },
   "file_extension": ".py",
   "mimetype": "text/x-python",
   "name": "python",
   "nbconvert_exporter": "python",
   "pygments_lexer": "ipython3",
   "version": "3.9.12"
  },
  "toc": {
   "base_numbering": 1,
   "nav_menu": {},
   "number_sections": true,
   "sideBar": true,
   "skip_h1_title": true,
   "title_cell": "Table of Contents",
   "title_sidebar": "Contents",
   "toc_cell": false,
   "toc_position": {},
   "toc_section_display": true,
   "toc_window_display": false
  }
 },
 "nbformat": 4,
 "nbformat_minor": 2
}
