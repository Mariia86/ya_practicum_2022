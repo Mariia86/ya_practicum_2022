{
 "cells": [
  {
   "cell_type": "markdown",
   "metadata": {},
   "source": [
    "Привет, Мария!\n",
    "\n",
    "Меня зовут Вячеслав Погорелый, и я буду проводить ревью твоего первого проекта. \n",
    "\n",
    "Предлагаю перейти на \"ты\", если не против)\n",
    "\n",
    "Но если это не удобно - дай знать, и мы перейдем на \"вы\". Моя главная задача — не находить сделанные тобою ошибки, а передать свой опыт и помочь тебе стать аналитиком данных.\n",
    "\n",
    "Я отметил комментарии и замечания разным цветом далее по тексту markdown:\n",
    "\n",
    "---    \n",
    "<div class=\"alert alert-block alert-danger\">\n",
    "    \n",
    "### Ошибка\n",
    "    \n",
    "Критическое замечание, которые следует исправить.\n",
    "</div> \n",
    "    \n",
    "---\n",
    "    \n",
    "<div class=\"alert alert-block alert-warning\">\n",
    "    \n",
    "### Совет\n",
    "    \n",
    "Замечание\\совет на будущее.\n",
    "</div>\n",
    "    \n",
    "---\n",
    "    \n",
    "<div class=\"alert alert-block alert-success\">\n",
    "    \n",
    "### Успех\n",
    "    \n",
    "Когда всё сделано правильно.\n",
    "</div>\n",
    "    \n",
    "    \n",
    "    \n",
    "Будет здорово, если для ответов ты выберешь любой **<font color=\"maroon\">читабельный и заметный цвет</font>**, так мне будет проще все проверить.\n",
    "\n",
    "\n",
    "При доработке проекта попрошу тебя сохранить и не видоизменять заметки ревьюера, это осложняет повторную проверку."
   ]
  },
  {
   "cell_type": "markdown",
   "metadata": {},
   "source": [
    "<div class=\"alert alert-block alert-danger\">\n",
    "    \n",
    "# Комментарии от ревьюера:\n",
    "    \n",
    "#### Ошибка\n",
    "    \n",
    "Почему-то у меня открылся совсем пустой проект. Может что-то у тебя не сохрианилось? Исправь, пожалуйста, и присылай снова на проверку:) Буду ждать.\n",
    "</div>"
   ]
  },
  {
   "cell_type": "markdown",
   "metadata": {},
   "source": [
    "<div class=\"alert alert-block alert-success\">\n",
    " \n",
    "# Итоговый комментарий ревьюера ver.2\n",
    "    \n",
    "#### Успех\n",
    "    \n",
    "Благодарю тебя за исправления замечаний. Теперь проект я готов принять, ведь ты его доработала и у тебя здорово получилось. От себя тебе желаю успехов в дальнейшей учебе. Ты точно справишься:) \n",
    "</div "
   ]
  },
  {
   "cell_type": "markdown",
   "metadata": {},
   "source": [
    "### . Откроем файл с данными и изучим общую информацию."
   ]
  },
  {
   "cell_type": "code",
   "execution_count": 1,
   "metadata": {},
   "outputs": [],
   "source": [
    "# импортируем необходимые библиотеки\n",
    "import pandas as pd\n",
    "import matplotlib.pyplot as plt\n",
    "%matplotlib inline\n",
    "import seaborn as sns\n",
    "import numpy as np\n",
    "from scipy import stats as st"
   ]
  },
  {
   "cell_type": "code",
   "execution_count": 2,
   "metadata": {},
   "outputs": [],
   "source": [
    "# открываем csv-файл\n",
    "try:\n",
    "    data = pd.read_csv('/datasets/games.csv')\n",
    "except:\n",
    "    data = pd.read_csv('https://code.s3.yandex.net/datasets/games.csv')"
   ]
  },
  {
   "cell_type": "markdown",
   "metadata": {},
   "source": [
    "<div class=\"alert alert-block alert-success\">\n",
    " \n",
    "### Комментарий ревьюера\n",
    "    \n",
    "#### Успех\n",
    "    \n",
    "Классный метод вышел для открытия проекта, молодец. \n",
    "</div "
   ]
  },
  {
   "cell_type": "code",
   "execution_count": 3,
   "metadata": {},
   "outputs": [
    {
     "data": {
      "text/html": [
       "<div>\n",
       "<style scoped>\n",
       "    .dataframe tbody tr th:only-of-type {\n",
       "        vertical-align: middle;\n",
       "    }\n",
       "\n",
       "    .dataframe tbody tr th {\n",
       "        vertical-align: top;\n",
       "    }\n",
       "\n",
       "    .dataframe thead th {\n",
       "        text-align: right;\n",
       "    }\n",
       "</style>\n",
       "<table border=\"1\" class=\"dataframe\">\n",
       "  <thead>\n",
       "    <tr style=\"text-align: right;\">\n",
       "      <th></th>\n",
       "      <th>Name</th>\n",
       "      <th>Platform</th>\n",
       "      <th>Year_of_Release</th>\n",
       "      <th>Genre</th>\n",
       "      <th>NA_sales</th>\n",
       "      <th>EU_sales</th>\n",
       "      <th>JP_sales</th>\n",
       "      <th>Other_sales</th>\n",
       "      <th>Critic_Score</th>\n",
       "      <th>User_Score</th>\n",
       "      <th>Rating</th>\n",
       "    </tr>\n",
       "  </thead>\n",
       "  <tbody>\n",
       "    <tr>\n",
       "      <th>0</th>\n",
       "      <td>Wii Sports</td>\n",
       "      <td>Wii</td>\n",
       "      <td>2006.0</td>\n",
       "      <td>Sports</td>\n",
       "      <td>41.36</td>\n",
       "      <td>28.96</td>\n",
       "      <td>3.77</td>\n",
       "      <td>8.45</td>\n",
       "      <td>76.0</td>\n",
       "      <td>8</td>\n",
       "      <td>E</td>\n",
       "    </tr>\n",
       "    <tr>\n",
       "      <th>1</th>\n",
       "      <td>Super Mario Bros.</td>\n",
       "      <td>NES</td>\n",
       "      <td>1985.0</td>\n",
       "      <td>Platform</td>\n",
       "      <td>29.08</td>\n",
       "      <td>3.58</td>\n",
       "      <td>6.81</td>\n",
       "      <td>0.77</td>\n",
       "      <td>NaN</td>\n",
       "      <td>NaN</td>\n",
       "      <td>NaN</td>\n",
       "    </tr>\n",
       "    <tr>\n",
       "      <th>2</th>\n",
       "      <td>Mario Kart Wii</td>\n",
       "      <td>Wii</td>\n",
       "      <td>2008.0</td>\n",
       "      <td>Racing</td>\n",
       "      <td>15.68</td>\n",
       "      <td>12.76</td>\n",
       "      <td>3.79</td>\n",
       "      <td>3.29</td>\n",
       "      <td>82.0</td>\n",
       "      <td>8.3</td>\n",
       "      <td>E</td>\n",
       "    </tr>\n",
       "    <tr>\n",
       "      <th>3</th>\n",
       "      <td>Wii Sports Resort</td>\n",
       "      <td>Wii</td>\n",
       "      <td>2009.0</td>\n",
       "      <td>Sports</td>\n",
       "      <td>15.61</td>\n",
       "      <td>10.93</td>\n",
       "      <td>3.28</td>\n",
       "      <td>2.95</td>\n",
       "      <td>80.0</td>\n",
       "      <td>8</td>\n",
       "      <td>E</td>\n",
       "    </tr>\n",
       "    <tr>\n",
       "      <th>4</th>\n",
       "      <td>Pokemon Red/Pokemon Blue</td>\n",
       "      <td>GB</td>\n",
       "      <td>1996.0</td>\n",
       "      <td>Role-Playing</td>\n",
       "      <td>11.27</td>\n",
       "      <td>8.89</td>\n",
       "      <td>10.22</td>\n",
       "      <td>1.00</td>\n",
       "      <td>NaN</td>\n",
       "      <td>NaN</td>\n",
       "      <td>NaN</td>\n",
       "    </tr>\n",
       "    <tr>\n",
       "      <th>...</th>\n",
       "      <td>...</td>\n",
       "      <td>...</td>\n",
       "      <td>...</td>\n",
       "      <td>...</td>\n",
       "      <td>...</td>\n",
       "      <td>...</td>\n",
       "      <td>...</td>\n",
       "      <td>...</td>\n",
       "      <td>...</td>\n",
       "      <td>...</td>\n",
       "      <td>...</td>\n",
       "    </tr>\n",
       "    <tr>\n",
       "      <th>16710</th>\n",
       "      <td>Samurai Warriors: Sanada Maru</td>\n",
       "      <td>PS3</td>\n",
       "      <td>2016.0</td>\n",
       "      <td>Action</td>\n",
       "      <td>0.00</td>\n",
       "      <td>0.00</td>\n",
       "      <td>0.01</td>\n",
       "      <td>0.00</td>\n",
       "      <td>NaN</td>\n",
       "      <td>NaN</td>\n",
       "      <td>NaN</td>\n",
       "    </tr>\n",
       "    <tr>\n",
       "      <th>16711</th>\n",
       "      <td>LMA Manager 2007</td>\n",
       "      <td>X360</td>\n",
       "      <td>2006.0</td>\n",
       "      <td>Sports</td>\n",
       "      <td>0.00</td>\n",
       "      <td>0.01</td>\n",
       "      <td>0.00</td>\n",
       "      <td>0.00</td>\n",
       "      <td>NaN</td>\n",
       "      <td>NaN</td>\n",
       "      <td>NaN</td>\n",
       "    </tr>\n",
       "    <tr>\n",
       "      <th>16712</th>\n",
       "      <td>Haitaka no Psychedelica</td>\n",
       "      <td>PSV</td>\n",
       "      <td>2016.0</td>\n",
       "      <td>Adventure</td>\n",
       "      <td>0.00</td>\n",
       "      <td>0.00</td>\n",
       "      <td>0.01</td>\n",
       "      <td>0.00</td>\n",
       "      <td>NaN</td>\n",
       "      <td>NaN</td>\n",
       "      <td>NaN</td>\n",
       "    </tr>\n",
       "    <tr>\n",
       "      <th>16713</th>\n",
       "      <td>Spirits &amp; Spells</td>\n",
       "      <td>GBA</td>\n",
       "      <td>2003.0</td>\n",
       "      <td>Platform</td>\n",
       "      <td>0.01</td>\n",
       "      <td>0.00</td>\n",
       "      <td>0.00</td>\n",
       "      <td>0.00</td>\n",
       "      <td>NaN</td>\n",
       "      <td>NaN</td>\n",
       "      <td>NaN</td>\n",
       "    </tr>\n",
       "    <tr>\n",
       "      <th>16714</th>\n",
       "      <td>Winning Post 8 2016</td>\n",
       "      <td>PSV</td>\n",
       "      <td>2016.0</td>\n",
       "      <td>Simulation</td>\n",
       "      <td>0.00</td>\n",
       "      <td>0.00</td>\n",
       "      <td>0.01</td>\n",
       "      <td>0.00</td>\n",
       "      <td>NaN</td>\n",
       "      <td>NaN</td>\n",
       "      <td>NaN</td>\n",
       "    </tr>\n",
       "  </tbody>\n",
       "</table>\n",
       "<p>16715 rows × 11 columns</p>\n",
       "</div>"
      ],
      "text/plain": [
       "                                Name Platform  Year_of_Release         Genre  \\\n",
       "0                         Wii Sports      Wii           2006.0        Sports   \n",
       "1                  Super Mario Bros.      NES           1985.0      Platform   \n",
       "2                     Mario Kart Wii      Wii           2008.0        Racing   \n",
       "3                  Wii Sports Resort      Wii           2009.0        Sports   \n",
       "4           Pokemon Red/Pokemon Blue       GB           1996.0  Role-Playing   \n",
       "...                              ...      ...              ...           ...   \n",
       "16710  Samurai Warriors: Sanada Maru      PS3           2016.0        Action   \n",
       "16711               LMA Manager 2007     X360           2006.0        Sports   \n",
       "16712        Haitaka no Psychedelica      PSV           2016.0     Adventure   \n",
       "16713               Spirits & Spells      GBA           2003.0      Platform   \n",
       "16714            Winning Post 8 2016      PSV           2016.0    Simulation   \n",
       "\n",
       "       NA_sales  EU_sales  JP_sales  Other_sales  Critic_Score User_Score  \\\n",
       "0         41.36     28.96      3.77         8.45          76.0          8   \n",
       "1         29.08      3.58      6.81         0.77           NaN        NaN   \n",
       "2         15.68     12.76      3.79         3.29          82.0        8.3   \n",
       "3         15.61     10.93      3.28         2.95          80.0          8   \n",
       "4         11.27      8.89     10.22         1.00           NaN        NaN   \n",
       "...         ...       ...       ...          ...           ...        ...   \n",
       "16710      0.00      0.00      0.01         0.00           NaN        NaN   \n",
       "16711      0.00      0.01      0.00         0.00           NaN        NaN   \n",
       "16712      0.00      0.00      0.01         0.00           NaN        NaN   \n",
       "16713      0.01      0.00      0.00         0.00           NaN        NaN   \n",
       "16714      0.00      0.00      0.01         0.00           NaN        NaN   \n",
       "\n",
       "      Rating  \n",
       "0          E  \n",
       "1        NaN  \n",
       "2          E  \n",
       "3          E  \n",
       "4        NaN  \n",
       "...      ...  \n",
       "16710    NaN  \n",
       "16711    NaN  \n",
       "16712    NaN  \n",
       "16713    NaN  \n",
       "16714    NaN  \n",
       "\n",
       "[16715 rows x 11 columns]"
      ]
     },
     "execution_count": 3,
     "metadata": {},
     "output_type": "execute_result"
    }
   ],
   "source": [
    "data  # выводим наш датафрейм"
   ]
  },
  {
   "cell_type": "code",
   "execution_count": 4,
   "metadata": {},
   "outputs": [
    {
     "name": "stdout",
     "output_type": "stream",
     "text": [
      "<class 'pandas.core.frame.DataFrame'>\n",
      "RangeIndex: 16715 entries, 0 to 16714\n",
      "Data columns (total 11 columns):\n",
      " #   Column           Non-Null Count  Dtype  \n",
      "---  ------           --------------  -----  \n",
      " 0   Name             16713 non-null  object \n",
      " 1   Platform         16715 non-null  object \n",
      " 2   Year_of_Release  16446 non-null  float64\n",
      " 3   Genre            16713 non-null  object \n",
      " 4   NA_sales         16715 non-null  float64\n",
      " 5   EU_sales         16715 non-null  float64\n",
      " 6   JP_sales         16715 non-null  float64\n",
      " 7   Other_sales      16715 non-null  float64\n",
      " 8   Critic_Score     8137 non-null   float64\n",
      " 9   User_Score       10014 non-null  object \n",
      " 10  Rating           9949 non-null   object \n",
      "dtypes: float64(6), object(5)\n",
      "memory usage: 1.4+ MB\n"
     ]
    }
   ],
   "source": [
    "data.info() # выводим основную информацию о датафрейме с помощью метода info()"
   ]
  },
  {
   "cell_type": "markdown",
   "metadata": {},
   "source": [
    "<div class=\"alert alert-block alert-warning\">\n",
    " \n",
    "### Комментарий ревьюера\n",
    "    \n",
    "#### Совет\n",
    "    \n",
    "Супер. Информацию о проекте получили. Тут стоило бы написать небольшой промежуточный вывод. В нем обычно пишут все то, что обнаружили в ходе предобработки. \n",
    "</div "
   ]
  },
  {
   "cell_type": "markdown",
   "metadata": {},
   "source": [
    "**<font color=\"maroon\">Вывод: вывели датафрейм, затем методом info() запросили информацию из всех атрибутов таблицы. Изучили результаты и будем выбирать такику работы с данными. Мы видим, что необхоимо будет поменять тип объектов данных в столбце Year_of_Release\tна целые числа (int) и User_Score на числа с плавающей точкой (float)</font>**"
   ]
  },
  {
   "cell_type": "markdown",
   "metadata": {},
   "source": [
    "<div class=\"alert alert-block alert-success\">\n",
    " \n",
    "### Комментарий ревьюера ver.2\n",
    "    \n",
    "#### Успех\n",
    "    \n",
    "Вот теперь другое дело:)  \n",
    "</div "
   ]
  },
  {
   "cell_type": "markdown",
   "metadata": {},
   "source": [
    "### . Подготовим данные"
   ]
  },
  {
   "cell_type": "code",
   "execution_count": 5,
   "metadata": {},
   "outputs": [],
   "source": [
    "data.columns = data.columns.str.lower() # заменяем названия столбцов (приведем к нижнему регистру)"
   ]
  },
  {
   "cell_type": "code",
   "execution_count": 6,
   "metadata": {},
   "outputs": [
    {
     "data": {
      "text/plain": [
       "Index(['name', 'platform', 'year_of_release', 'genre', 'na_sales', 'eu_sales',\n",
       "       'jp_sales', 'other_sales', 'critic_score', 'user_score', 'rating'],\n",
       "      dtype='object')"
      ]
     },
     "execution_count": 6,
     "metadata": {},
     "output_type": "execute_result"
    }
   ],
   "source": [
    "data.columns"
   ]
  },
  {
   "cell_type": "code",
   "execution_count": 7,
   "metadata": {},
   "outputs": [],
   "source": [
    "data['year_of_release'] = data['year_of_release'].astype(\"Int32\") # приводим в целочисленный тип столбец 'year_of_release', так как год выпуска всегда целое число"
   ]
  },
  {
   "cell_type": "markdown",
   "metadata": {},
   "source": [
    "<div class=\"alert alert-block alert-warning\">\n",
    " \n",
    "### Комментарий ревьюера\n",
    "    \n",
    "#### Совет\n",
    "    \n",
    "Для экономии вычислительной памяти лучше всего перевести в int32 \n",
    "</div "
   ]
  },
  {
   "cell_type": "markdown",
   "metadata": {},
   "source": [
    "**<font color=\"maroon\">Спасибо, перевела в (\"Int32\")</font>**"
   ]
  },
  {
   "cell_type": "markdown",
   "metadata": {},
   "source": [
    "<div class=\"alert alert-block alert-success\">\n",
    " \n",
    "# Комментарий ревьюера ver.2\n",
    "    \n",
    "#### Успех\n",
    "    \n",
    "Так лучше :) \n",
    "</div "
   ]
  },
  {
   "cell_type": "markdown",
   "metadata": {},
   "source": [
    "Обратитим внимание на аббревиатуру 'tbd' в столбце с оценкой пользователей и разберем это значение."
   ]
  },
  {
   "cell_type": "code",
   "execution_count": 8,
   "metadata": {},
   "outputs": [
    {
     "data": {
      "text/plain": [
       "array(['8', nan, '8.3', '8.5', '6.6', '8.4', '8.6', '7.7', '6.3', '7.4',\n",
       "       '8.2', '9', '7.9', '8.1', '8.7', '7.1', '3.4', '5.3', '4.8', '3.2',\n",
       "       '8.9', '6.4', '7.8', '7.5', '2.6', '7.2', '9.2', '7', '7.3', '4.3',\n",
       "       '7.6', '5.7', '5', '9.1', '6.5', 'tbd', '8.8', '6.9', '9.4', '6.8',\n",
       "       '6.1', '6.7', '5.4', '4', '4.9', '4.5', '9.3', '6.2', '4.2', '6',\n",
       "       '3.7', '4.1', '5.8', '5.6', '5.5', '4.4', '4.6', '5.9', '3.9',\n",
       "       '3.1', '2.9', '5.2', '3.3', '4.7', '5.1', '3.5', '2.5', '1.9', '3',\n",
       "       '2.7', '2.2', '2', '9.5', '2.1', '3.6', '2.8', '1.8', '3.8', '0',\n",
       "       '1.6', '9.6', '2.4', '1.7', '1.1', '0.3', '1.5', '0.7', '1.2',\n",
       "       '2.3', '0.5', '1.3', '0.2', '0.6', '1.4', '0.9', '1', '9.7'],\n",
       "      dtype=object)"
      ]
     },
     "execution_count": 8,
     "metadata": {},
     "output_type": "execute_result"
    }
   ],
   "source": [
    "data['user_score'].unique()"
   ]
  },
  {
   "cell_type": "code",
   "execution_count": 9,
   "metadata": {},
   "outputs": [],
   "source": [
    "# так как 'tbd' означает ,что какая-то информация еще не определена, то заменим tbd на nan\n",
    "data['user_score'] = data['user_score'].replace('tbd', 'nan')\n",
    "data['user_score'] = data['user_score'].astype(\"float\") # приводим к типу float столбец 'user_score'"
   ]
  },
  {
   "cell_type": "markdown",
   "metadata": {},
   "source": [
    "<div class=\"alert alert-block alert-success\">\n",
    " \n",
    "### Комментарий ревьюера\n",
    "    \n",
    "#### Успех\n",
    "    \n",
    "Здесь логично, соглашусь . \n",
    "</div "
   ]
  },
  {
   "cell_type": "code",
   "execution_count": 10,
   "metadata": {
    "scrolled": true
   },
   "outputs": [
    {
     "data": {
      "text/plain": [
       "array([8. , nan, 8.3, 8.5, 6.6, 8.4, 8.6, 7.7, 6.3, 7.4, 8.2, 9. , 7.9,\n",
       "       8.1, 8.7, 7.1, 3.4, 5.3, 4.8, 3.2, 8.9, 6.4, 7.8, 7.5, 2.6, 7.2,\n",
       "       9.2, 7. , 7.3, 4.3, 7.6, 5.7, 5. , 9.1, 6.5, 8.8, 6.9, 9.4, 6.8,\n",
       "       6.1, 6.7, 5.4, 4. , 4.9, 4.5, 9.3, 6.2, 4.2, 6. , 3.7, 4.1, 5.8,\n",
       "       5.6, 5.5, 4.4, 4.6, 5.9, 3.9, 3.1, 2.9, 5.2, 3.3, 4.7, 5.1, 3.5,\n",
       "       2.5, 1.9, 3. , 2.7, 2.2, 2. , 9.5, 2.1, 3.6, 2.8, 1.8, 3.8, 0. ,\n",
       "       1.6, 9.6, 2.4, 1.7, 1.1, 0.3, 1.5, 0.7, 1.2, 2.3, 0.5, 1.3, 0.2,\n",
       "       0.6, 1.4, 0.9, 1. , 9.7])"
      ]
     },
     "execution_count": 10,
     "metadata": {},
     "output_type": "execute_result"
    }
   ],
   "source": [
    "# проверяем, аббревиатура tbd заменена на nan\n",
    "data['user_score'].unique()"
   ]
  },
  {
   "cell_type": "code",
   "execution_count": 11,
   "metadata": {},
   "outputs": [
    {
     "data": {
      "text/plain": [
       "0"
      ]
     },
     "execution_count": 11,
     "metadata": {},
     "output_type": "execute_result"
    }
   ],
   "source": [
    "# посчитаем количество дубликатов\n",
    "data.duplicated().sum()"
   ]
  },
  {
   "cell_type": "code",
   "execution_count": 12,
   "metadata": {},
   "outputs": [
    {
     "data": {
      "text/plain": [
       "name                  2\n",
       "platform              0\n",
       "year_of_release     269\n",
       "genre                 2\n",
       "na_sales              0\n",
       "eu_sales              0\n",
       "jp_sales              0\n",
       "other_sales           0\n",
       "critic_score       8578\n",
       "user_score         9125\n",
       "rating             6766\n",
       "dtype: int64"
      ]
     },
     "execution_count": 12,
     "metadata": {},
     "output_type": "execute_result"
    }
   ],
   "source": [
    "data.isna().sum()  # определим, в каких столбцах есть пропуски"
   ]
  },
  {
   "cell_type": "code",
   "execution_count": 13,
   "metadata": {},
   "outputs": [],
   "source": [
    "data.dropna(subset=['name','genre'], inplace=True) # удалим строки с пропусками в столбцах name и genre за их малым количеством"
   ]
  },
  {
   "cell_type": "markdown",
   "metadata": {},
   "source": [
    "<div class=\"alert alert-block alert-success\">\n",
    " \n",
    "### Комментарий ревьюера\n",
    "    \n",
    "#### Успех\n",
    "    \n",
    "Поскольку пропусков тут очень мало, то можно и от них избавиться, все верно. \n",
    "</div "
   ]
  },
  {
   "cell_type": "markdown",
   "metadata": {},
   "source": [
    "Заполнять попуски в rating, critic_score и user_score не будем, так как получим неточные результаты."
   ]
  },
  {
   "cell_type": "code",
   "execution_count": 14,
   "metadata": {},
   "outputs": [],
   "source": [
    "data['rating'] = data['rating'].fillna('No rating') # заменили пропуск в столбце rating на No rating"
   ]
  },
  {
   "cell_type": "code",
   "execution_count": 15,
   "metadata": {},
   "outputs": [],
   "source": [
    "data['critic_score'] = data['critic_score'].fillna(value=888) # заменили пропуск в столбце critic_score на маркер 888"
   ]
  },
  {
   "cell_type": "markdown",
   "metadata": {},
   "source": [
    "<div class=\"alert alert-block alert-warning\">\n",
    " \n",
    "### Комментарий ревьюера\n",
    "    \n",
    "#### Совет\n",
    "    \n",
    "Самое главное, не забыть убрать эти значения заглушки при дальнейшем анализе, чтобы они не сместили результат. \n",
    "</div "
   ]
  },
  {
   "cell_type": "code",
   "execution_count": 16,
   "metadata": {},
   "outputs": [],
   "source": [
    "data['user_score'] = data['user_score'].fillna(value=888) # заменили пропуск в столбце user_score на маркер 888"
   ]
  },
  {
   "cell_type": "code",
   "execution_count": 17,
   "metadata": {},
   "outputs": [],
   "source": [
    "data_gr = data.groupby('platform')['year_of_release'].median().astype(\"Int32\") # сгруппируем столбец platform по минимальному году выпуска и сохраним в переменную data_gr\n",
    "\n",
    "  # создаем функцию, которая нам вернет названия платформ с минимальным годом выпуска\n",
    "def year (row):\n",
    "    name = row['platform']\n",
    "    if name in data_gr.index:\n",
    "        return data_gr[name]\n",
    "    return 0\n",
    "\n",
    "data.loc[data['year_of_release'].isna(), 'year_of_release'] = data.loc[data['year_of_release'].isna()].apply(year,axis=1)\n"
   ]
  },
  {
   "cell_type": "code",
   "execution_count": 18,
   "metadata": {},
   "outputs": [
    {
     "data": {
      "text/plain": [
       "name               0\n",
       "platform           0\n",
       "year_of_release    0\n",
       "genre              0\n",
       "na_sales           0\n",
       "eu_sales           0\n",
       "jp_sales           0\n",
       "other_sales        0\n",
       "critic_score       0\n",
       "user_score         0\n",
       "rating             0\n",
       "dtype: int64"
      ]
     },
     "execution_count": 18,
     "metadata": {},
     "output_type": "execute_result"
    }
   ],
   "source": [
    "data.isna().sum()"
   ]
  },
  {
   "cell_type": "code",
   "execution_count": 19,
   "metadata": {},
   "outputs": [],
   "source": [
    "# посчитаем суммарные продажи во всех регионах и запишем их в отдельный столбец 'total_sales'\n",
    "data['total_sales'] = data['na_sales'] + data['eu_sales'] + data['other_sales'] + data['jp_sales']"
   ]
  },
  {
   "cell_type": "markdown",
   "metadata": {},
   "source": [
    "<div class=\"alert alert-block alert-warning\">\n",
    " \n",
    "### Комментарий ревьюера\n",
    "    \n",
    "#### Совет\n",
    "    \n",
    "А еще есть такой интересный метод суммирования столбцов в `df['f'] = df[['a','b','c','d']].sum(axis=1)`\n",
    "</div "
   ]
  },
  {
   "cell_type": "markdown",
   "metadata": {},
   "source": [
    "**<font color=\"maroon\">Спасибо, буду иметь ввиду)</font>**"
   ]
  },
  {
   "cell_type": "code",
   "execution_count": 20,
   "metadata": {},
   "outputs": [
    {
     "data": {
      "text/html": [
       "<div>\n",
       "<style scoped>\n",
       "    .dataframe tbody tr th:only-of-type {\n",
       "        vertical-align: middle;\n",
       "    }\n",
       "\n",
       "    .dataframe tbody tr th {\n",
       "        vertical-align: top;\n",
       "    }\n",
       "\n",
       "    .dataframe thead th {\n",
       "        text-align: right;\n",
       "    }\n",
       "</style>\n",
       "<table border=\"1\" class=\"dataframe\">\n",
       "  <thead>\n",
       "    <tr style=\"text-align: right;\">\n",
       "      <th></th>\n",
       "      <th>name</th>\n",
       "      <th>platform</th>\n",
       "      <th>year_of_release</th>\n",
       "      <th>genre</th>\n",
       "      <th>na_sales</th>\n",
       "      <th>eu_sales</th>\n",
       "      <th>jp_sales</th>\n",
       "      <th>other_sales</th>\n",
       "      <th>critic_score</th>\n",
       "      <th>user_score</th>\n",
       "      <th>rating</th>\n",
       "      <th>total_sales</th>\n",
       "    </tr>\n",
       "  </thead>\n",
       "  <tbody>\n",
       "    <tr>\n",
       "      <th>0</th>\n",
       "      <td>Wii Sports</td>\n",
       "      <td>Wii</td>\n",
       "      <td>2006</td>\n",
       "      <td>Sports</td>\n",
       "      <td>41.36</td>\n",
       "      <td>28.96</td>\n",
       "      <td>3.77</td>\n",
       "      <td>8.45</td>\n",
       "      <td>76.0</td>\n",
       "      <td>8.0</td>\n",
       "      <td>E</td>\n",
       "      <td>82.54</td>\n",
       "    </tr>\n",
       "    <tr>\n",
       "      <th>1</th>\n",
       "      <td>Super Mario Bros.</td>\n",
       "      <td>NES</td>\n",
       "      <td>1985</td>\n",
       "      <td>Platform</td>\n",
       "      <td>29.08</td>\n",
       "      <td>3.58</td>\n",
       "      <td>6.81</td>\n",
       "      <td>0.77</td>\n",
       "      <td>888.0</td>\n",
       "      <td>888.0</td>\n",
       "      <td>No rating</td>\n",
       "      <td>40.24</td>\n",
       "    </tr>\n",
       "    <tr>\n",
       "      <th>2</th>\n",
       "      <td>Mario Kart Wii</td>\n",
       "      <td>Wii</td>\n",
       "      <td>2008</td>\n",
       "      <td>Racing</td>\n",
       "      <td>15.68</td>\n",
       "      <td>12.76</td>\n",
       "      <td>3.79</td>\n",
       "      <td>3.29</td>\n",
       "      <td>82.0</td>\n",
       "      <td>8.3</td>\n",
       "      <td>E</td>\n",
       "      <td>35.52</td>\n",
       "    </tr>\n",
       "    <tr>\n",
       "      <th>3</th>\n",
       "      <td>Wii Sports Resort</td>\n",
       "      <td>Wii</td>\n",
       "      <td>2009</td>\n",
       "      <td>Sports</td>\n",
       "      <td>15.61</td>\n",
       "      <td>10.93</td>\n",
       "      <td>3.28</td>\n",
       "      <td>2.95</td>\n",
       "      <td>80.0</td>\n",
       "      <td>8.0</td>\n",
       "      <td>E</td>\n",
       "      <td>32.77</td>\n",
       "    </tr>\n",
       "    <tr>\n",
       "      <th>4</th>\n",
       "      <td>Pokemon Red/Pokemon Blue</td>\n",
       "      <td>GB</td>\n",
       "      <td>1996</td>\n",
       "      <td>Role-Playing</td>\n",
       "      <td>11.27</td>\n",
       "      <td>8.89</td>\n",
       "      <td>10.22</td>\n",
       "      <td>1.00</td>\n",
       "      <td>888.0</td>\n",
       "      <td>888.0</td>\n",
       "      <td>No rating</td>\n",
       "      <td>31.38</td>\n",
       "    </tr>\n",
       "    <tr>\n",
       "      <th>...</th>\n",
       "      <td>...</td>\n",
       "      <td>...</td>\n",
       "      <td>...</td>\n",
       "      <td>...</td>\n",
       "      <td>...</td>\n",
       "      <td>...</td>\n",
       "      <td>...</td>\n",
       "      <td>...</td>\n",
       "      <td>...</td>\n",
       "      <td>...</td>\n",
       "      <td>...</td>\n",
       "      <td>...</td>\n",
       "    </tr>\n",
       "    <tr>\n",
       "      <th>16710</th>\n",
       "      <td>Samurai Warriors: Sanada Maru</td>\n",
       "      <td>PS3</td>\n",
       "      <td>2016</td>\n",
       "      <td>Action</td>\n",
       "      <td>0.00</td>\n",
       "      <td>0.00</td>\n",
       "      <td>0.01</td>\n",
       "      <td>0.00</td>\n",
       "      <td>888.0</td>\n",
       "      <td>888.0</td>\n",
       "      <td>No rating</td>\n",
       "      <td>0.01</td>\n",
       "    </tr>\n",
       "    <tr>\n",
       "      <th>16711</th>\n",
       "      <td>LMA Manager 2007</td>\n",
       "      <td>X360</td>\n",
       "      <td>2006</td>\n",
       "      <td>Sports</td>\n",
       "      <td>0.00</td>\n",
       "      <td>0.01</td>\n",
       "      <td>0.00</td>\n",
       "      <td>0.00</td>\n",
       "      <td>888.0</td>\n",
       "      <td>888.0</td>\n",
       "      <td>No rating</td>\n",
       "      <td>0.01</td>\n",
       "    </tr>\n",
       "    <tr>\n",
       "      <th>16712</th>\n",
       "      <td>Haitaka no Psychedelica</td>\n",
       "      <td>PSV</td>\n",
       "      <td>2016</td>\n",
       "      <td>Adventure</td>\n",
       "      <td>0.00</td>\n",
       "      <td>0.00</td>\n",
       "      <td>0.01</td>\n",
       "      <td>0.00</td>\n",
       "      <td>888.0</td>\n",
       "      <td>888.0</td>\n",
       "      <td>No rating</td>\n",
       "      <td>0.01</td>\n",
       "    </tr>\n",
       "    <tr>\n",
       "      <th>16713</th>\n",
       "      <td>Spirits &amp; Spells</td>\n",
       "      <td>GBA</td>\n",
       "      <td>2003</td>\n",
       "      <td>Platform</td>\n",
       "      <td>0.01</td>\n",
       "      <td>0.00</td>\n",
       "      <td>0.00</td>\n",
       "      <td>0.00</td>\n",
       "      <td>888.0</td>\n",
       "      <td>888.0</td>\n",
       "      <td>No rating</td>\n",
       "      <td>0.01</td>\n",
       "    </tr>\n",
       "    <tr>\n",
       "      <th>16714</th>\n",
       "      <td>Winning Post 8 2016</td>\n",
       "      <td>PSV</td>\n",
       "      <td>2016</td>\n",
       "      <td>Simulation</td>\n",
       "      <td>0.00</td>\n",
       "      <td>0.00</td>\n",
       "      <td>0.01</td>\n",
       "      <td>0.00</td>\n",
       "      <td>888.0</td>\n",
       "      <td>888.0</td>\n",
       "      <td>No rating</td>\n",
       "      <td>0.01</td>\n",
       "    </tr>\n",
       "  </tbody>\n",
       "</table>\n",
       "<p>16713 rows × 12 columns</p>\n",
       "</div>"
      ],
      "text/plain": [
       "                                name platform  year_of_release         genre  \\\n",
       "0                         Wii Sports      Wii             2006        Sports   \n",
       "1                  Super Mario Bros.      NES             1985      Platform   \n",
       "2                     Mario Kart Wii      Wii             2008        Racing   \n",
       "3                  Wii Sports Resort      Wii             2009        Sports   \n",
       "4           Pokemon Red/Pokemon Blue       GB             1996  Role-Playing   \n",
       "...                              ...      ...              ...           ...   \n",
       "16710  Samurai Warriors: Sanada Maru      PS3             2016        Action   \n",
       "16711               LMA Manager 2007     X360             2006        Sports   \n",
       "16712        Haitaka no Psychedelica      PSV             2016     Adventure   \n",
       "16713               Spirits & Spells      GBA             2003      Platform   \n",
       "16714            Winning Post 8 2016      PSV             2016    Simulation   \n",
       "\n",
       "       na_sales  eu_sales  jp_sales  other_sales  critic_score  user_score  \\\n",
       "0         41.36     28.96      3.77         8.45          76.0         8.0   \n",
       "1         29.08      3.58      6.81         0.77         888.0       888.0   \n",
       "2         15.68     12.76      3.79         3.29          82.0         8.3   \n",
       "3         15.61     10.93      3.28         2.95          80.0         8.0   \n",
       "4         11.27      8.89     10.22         1.00         888.0       888.0   \n",
       "...         ...       ...       ...          ...           ...         ...   \n",
       "16710      0.00      0.00      0.01         0.00         888.0       888.0   \n",
       "16711      0.00      0.01      0.00         0.00         888.0       888.0   \n",
       "16712      0.00      0.00      0.01         0.00         888.0       888.0   \n",
       "16713      0.01      0.00      0.00         0.00         888.0       888.0   \n",
       "16714      0.00      0.00      0.01         0.00         888.0       888.0   \n",
       "\n",
       "          rating  total_sales  \n",
       "0              E        82.54  \n",
       "1      No rating        40.24  \n",
       "2              E        35.52  \n",
       "3              E        32.77  \n",
       "4      No rating        31.38  \n",
       "...          ...          ...  \n",
       "16710  No rating         0.01  \n",
       "16711  No rating         0.01  \n",
       "16712  No rating         0.01  \n",
       "16713  No rating         0.01  \n",
       "16714  No rating         0.01  \n",
       "\n",
       "[16713 rows x 12 columns]"
      ]
     },
     "execution_count": 20,
     "metadata": {},
     "output_type": "execute_result"
    }
   ],
   "source": [
    "data"
   ]
  },
  {
   "cell_type": "markdown",
   "metadata": {},
   "source": [
    "\n",
    "**<font color=\"maroon\">Вывод: привели к правильному типу столбец : Year of Release; также привели к нижнему регистру названия колонок; пустые значения в столбцах rating, user_score, critic_score заменили маркерами; пустые значения в столбце year of release заменили на минимальный год выпуска соответствующей платформы. А столбцы name, genre просто удалили, так как там было мало пропущенных позиций.</font>**"
   ]
  },
  {
   "cell_type": "markdown",
   "metadata": {},
   "source": [
    "<div class=\"alert alert-block alert-success\">\n",
    " \n",
    "# Комментарий ревьюера ver.2\n",
    "    \n",
    "#### Успех\n",
    "    \n",
    "Возьми себе за привычку писать промежуточные выводы:) \n",
    "</div "
   ]
  },
  {
   "cell_type": "markdown",
   "metadata": {},
   "source": [
    "### . Проведем исследовательский анализ данных"
   ]
  },
  {
   "cell_type": "markdown",
   "metadata": {},
   "source": [
    "Посмотрим, сколько игр выпускалось в разные годы."
   ]
  },
  {
   "cell_type": "code",
   "execution_count": 21,
   "metadata": {},
   "outputs": [
    {
     "data": {
      "image/png": "[encoded data removed]",
      "text/plain": [
       "<Figure size 1080x504 with 1 Axes>"
      ]
     },
     "metadata": {
      "needs_background": "light"
     },
     "output_type": "display_data"
    }
   ],
   "source": [
    "games_diff_years = data.pivot_table(index='year_of_release', values='name', aggfunc='count').plot(figsize = (15,7))\n",
    "sns.set_style('whitegrid')\n",
    "plt.title(\"Количество игр выпускаемые в разные года\")\n",
    "plt.xlabel(\"Год выпуска\")\n",
    "plt.ylabel(\"Количество выпущенных игр\")\n",
    "plt.legend('')\n",
    "plt.show()"
   ]
  },
  {
   "cell_type": "markdown",
   "metadata": {},
   "source": [
    "Вывод: из графика видно, что количество выпущенных игр  начинает расти с 1990 года и продолжает до 2008 года. А с 2008 года наблюдаем резкий спад."
   ]
  },
  {
   "cell_type": "markdown",
   "metadata": {},
   "source": [
    "<div class=\"alert alert-block alert-success\">\n",
    " \n",
    "### Комментарий ревьюера\n",
    "    \n",
    "#### Успех\n",
    "    \n",
    "Хороший график вышел. После 2008 года спад получился из-за роста популярности мобильных платформ. \n",
    "</div "
   ]
  },
  {
   "cell_type": "markdown",
   "metadata": {},
   "source": [
    "Посмотрим, как менялись продажи по платформам и выберем платформы с наибольшими суммарными продажами."
   ]
  },
  {
   "cell_type": "code",
   "execution_count": 22,
   "metadata": {},
   "outputs": [
    {
     "data": {
      "image/png": "[encoded data removed]",
      "text/plain": [
       "<Figure size 1080x504 with 1 Axes>"
      ]
     },
     "metadata": {},
     "output_type": "display_data"
    }
   ],
   "source": [
    "platforms = data.pivot_table(index='platform', values='total_sales', aggfunc='sum').sort_values(by='total_sales', ascending=False)#.plot(figsize = (15,7))\n",
    "plt.figure(figsize=(15,7))\n",
    "sns.set_style('whitegrid')\n",
    "sns.barplot(x=platforms.index,y=platforms['total_sales'])\n",
    "plt.title(\"Продажи по платформам\")\n",
    "plt.xlabel(\"Платформы\")\n",
    "plt.ylabel(\"Количество продаж\")\n",
    "plt.show()"
   ]
  },
  {
   "cell_type": "markdown",
   "metadata": {},
   "source": [
    "Вывод: из графика видно, что к играм с наибольшими сумарными продажами можно отнести PS2,X360,PS3,Wii,DS,PS."
   ]
  },
  {
   "cell_type": "markdown",
   "metadata": {},
   "source": [
    "<div class=\"alert alert-block alert-success\">\n",
    " \n",
    "### Комментарий ревьюера\n",
    "    \n",
    "#### Успех\n",
    "    \n",
    "Вот и со списком топов определились. \n",
    "</div "
   ]
  },
  {
   "cell_type": "markdown",
   "metadata": {},
   "source": [
    "Создадим отдельную таблицу по платформам с наибольшими суммарными продажами и построим распределение по годам."
   ]
  },
  {
   "cell_type": "code",
   "execution_count": 23,
   "metadata": {},
   "outputs": [
    {
     "data": {
      "image/png": "[encoded data removed]",
      "text/plain": [
       "<Figure size 1080x504 with 1 Axes>"
      ]
     },
     "metadata": {},
     "output_type": "display_data"
    }
   ],
   "source": [
    "top_5_platforms = data.pivot_table(index='platform', values='total_sales', aggfunc='sum').nlargest(5,'total_sales').index \n",
    "data.query('platform in @top_5_platforms & year_of_release>1990').pivot_table(index='year_of_release',columns='platform',values='total_sales', aggfunc='sum').plot(figsize=(15,7))\n",
    "sns.set_style('whitegrid')\n",
    "plt.title('Количество продаж популярных платформ')\n",
    "plt.xlabel('Годы выпуска')\n",
    "plt.ylabel('Продажи')\n",
    "plt.show()"
   ]
  },
  {
   "cell_type": "markdown",
   "metadata": {},
   "source": [
    "<div class=\"alert alert-block alert-warning\">\n",
    " \n",
    "### Комментарий ревьюера\n",
    "    \n",
    "#### Совет\n",
    "    \n",
    "Тут стоило с графика убрать неиспольземую область по 2000 год. \n",
    "</div "
   ]
  },
  {
   "cell_type": "markdown",
   "metadata": {},
   "source": [
    "**<font color=\"maroon\">Убрала неиспользуемую область</font>**"
   ]
  },
  {
   "cell_type": "markdown",
   "metadata": {},
   "source": [
    "Вывод: Cамыми продаваемыми платформами являются PS2, Wii. Из графика видим, что практически все игры появляются и исчезают спустя 10 лет существования."
   ]
  },
  {
   "cell_type": "markdown",
   "metadata": {},
   "source": [
    "Возьмем данные за соответствующий актуальный период. Период определим начиная с 2013 года."
   ]
  },
  {
   "cell_type": "code",
   "execution_count": 24,
   "metadata": {},
   "outputs": [
    {
     "data": {
      "text/html": [
       "<div>\n",
       "<style scoped>\n",
       "    .dataframe tbody tr th:only-of-type {\n",
       "        vertical-align: middle;\n",
       "    }\n",
       "\n",
       "    .dataframe tbody tr th {\n",
       "        vertical-align: top;\n",
       "    }\n",
       "\n",
       "    .dataframe thead th {\n",
       "        text-align: right;\n",
       "    }\n",
       "</style>\n",
       "<table border=\"1\" class=\"dataframe\">\n",
       "  <thead>\n",
       "    <tr style=\"text-align: right;\">\n",
       "      <th></th>\n",
       "      <th>name</th>\n",
       "      <th>platform</th>\n",
       "      <th>year_of_release</th>\n",
       "      <th>genre</th>\n",
       "      <th>na_sales</th>\n",
       "      <th>eu_sales</th>\n",
       "      <th>jp_sales</th>\n",
       "      <th>other_sales</th>\n",
       "      <th>critic_score</th>\n",
       "      <th>user_score</th>\n",
       "      <th>rating</th>\n",
       "      <th>total_sales</th>\n",
       "    </tr>\n",
       "  </thead>\n",
       "  <tbody>\n",
       "    <tr>\n",
       "      <th>16</th>\n",
       "      <td>Grand Theft Auto V</td>\n",
       "      <td>PS3</td>\n",
       "      <td>2013</td>\n",
       "      <td>Action</td>\n",
       "      <td>7.02</td>\n",
       "      <td>9.09</td>\n",
       "      <td>0.98</td>\n",
       "      <td>3.96</td>\n",
       "      <td>97.0</td>\n",
       "      <td>8.2</td>\n",
       "      <td>M</td>\n",
       "      <td>21.05</td>\n",
       "    </tr>\n",
       "    <tr>\n",
       "      <th>23</th>\n",
       "      <td>Grand Theft Auto V</td>\n",
       "      <td>X360</td>\n",
       "      <td>2013</td>\n",
       "      <td>Action</td>\n",
       "      <td>9.66</td>\n",
       "      <td>5.14</td>\n",
       "      <td>0.06</td>\n",
       "      <td>1.41</td>\n",
       "      <td>97.0</td>\n",
       "      <td>8.1</td>\n",
       "      <td>M</td>\n",
       "      <td>16.27</td>\n",
       "    </tr>\n",
       "    <tr>\n",
       "      <th>31</th>\n",
       "      <td>Call of Duty: Black Ops 3</td>\n",
       "      <td>PS4</td>\n",
       "      <td>2015</td>\n",
       "      <td>Shooter</td>\n",
       "      <td>6.03</td>\n",
       "      <td>5.86</td>\n",
       "      <td>0.36</td>\n",
       "      <td>2.38</td>\n",
       "      <td>888.0</td>\n",
       "      <td>888.0</td>\n",
       "      <td>No rating</td>\n",
       "      <td>14.63</td>\n",
       "    </tr>\n",
       "    <tr>\n",
       "      <th>33</th>\n",
       "      <td>Pokemon X/Pokemon Y</td>\n",
       "      <td>3DS</td>\n",
       "      <td>2013</td>\n",
       "      <td>Role-Playing</td>\n",
       "      <td>5.28</td>\n",
       "      <td>4.19</td>\n",
       "      <td>4.35</td>\n",
       "      <td>0.78</td>\n",
       "      <td>888.0</td>\n",
       "      <td>888.0</td>\n",
       "      <td>No rating</td>\n",
       "      <td>14.60</td>\n",
       "    </tr>\n",
       "    <tr>\n",
       "      <th>42</th>\n",
       "      <td>Grand Theft Auto V</td>\n",
       "      <td>PS4</td>\n",
       "      <td>2014</td>\n",
       "      <td>Action</td>\n",
       "      <td>3.96</td>\n",
       "      <td>6.31</td>\n",
       "      <td>0.38</td>\n",
       "      <td>1.97</td>\n",
       "      <td>97.0</td>\n",
       "      <td>8.3</td>\n",
       "      <td>M</td>\n",
       "      <td>12.62</td>\n",
       "    </tr>\n",
       "    <tr>\n",
       "      <th>...</th>\n",
       "      <td>...</td>\n",
       "      <td>...</td>\n",
       "      <td>...</td>\n",
       "      <td>...</td>\n",
       "      <td>...</td>\n",
       "      <td>...</td>\n",
       "      <td>...</td>\n",
       "      <td>...</td>\n",
       "      <td>...</td>\n",
       "      <td>...</td>\n",
       "      <td>...</td>\n",
       "      <td>...</td>\n",
       "    </tr>\n",
       "    <tr>\n",
       "      <th>16703</th>\n",
       "      <td>Strawberry Nauts</td>\n",
       "      <td>PSV</td>\n",
       "      <td>2016</td>\n",
       "      <td>Adventure</td>\n",
       "      <td>0.00</td>\n",
       "      <td>0.00</td>\n",
       "      <td>0.01</td>\n",
       "      <td>0.00</td>\n",
       "      <td>888.0</td>\n",
       "      <td>888.0</td>\n",
       "      <td>No rating</td>\n",
       "      <td>0.01</td>\n",
       "    </tr>\n",
       "    <tr>\n",
       "      <th>16707</th>\n",
       "      <td>Aiyoku no Eustia</td>\n",
       "      <td>PSV</td>\n",
       "      <td>2014</td>\n",
       "      <td>Misc</td>\n",
       "      <td>0.00</td>\n",
       "      <td>0.00</td>\n",
       "      <td>0.01</td>\n",
       "      <td>0.00</td>\n",
       "      <td>888.0</td>\n",
       "      <td>888.0</td>\n",
       "      <td>No rating</td>\n",
       "      <td>0.01</td>\n",
       "    </tr>\n",
       "    <tr>\n",
       "      <th>16710</th>\n",
       "      <td>Samurai Warriors: Sanada Maru</td>\n",
       "      <td>PS3</td>\n",
       "      <td>2016</td>\n",
       "      <td>Action</td>\n",
       "      <td>0.00</td>\n",
       "      <td>0.00</td>\n",
       "      <td>0.01</td>\n",
       "      <td>0.00</td>\n",
       "      <td>888.0</td>\n",
       "      <td>888.0</td>\n",
       "      <td>No rating</td>\n",
       "      <td>0.01</td>\n",
       "    </tr>\n",
       "    <tr>\n",
       "      <th>16712</th>\n",
       "      <td>Haitaka no Psychedelica</td>\n",
       "      <td>PSV</td>\n",
       "      <td>2016</td>\n",
       "      <td>Adventure</td>\n",
       "      <td>0.00</td>\n",
       "      <td>0.00</td>\n",
       "      <td>0.01</td>\n",
       "      <td>0.00</td>\n",
       "      <td>888.0</td>\n",
       "      <td>888.0</td>\n",
       "      <td>No rating</td>\n",
       "      <td>0.01</td>\n",
       "    </tr>\n",
       "    <tr>\n",
       "      <th>16714</th>\n",
       "      <td>Winning Post 8 2016</td>\n",
       "      <td>PSV</td>\n",
       "      <td>2016</td>\n",
       "      <td>Simulation</td>\n",
       "      <td>0.00</td>\n",
       "      <td>0.00</td>\n",
       "      <td>0.01</td>\n",
       "      <td>0.00</td>\n",
       "      <td>888.0</td>\n",
       "      <td>888.0</td>\n",
       "      <td>No rating</td>\n",
       "      <td>0.01</td>\n",
       "    </tr>\n",
       "  </tbody>\n",
       "</table>\n",
       "<p>2242 rows × 12 columns</p>\n",
       "</div>"
      ],
      "text/plain": [
       "                                name platform  year_of_release         genre  \\\n",
       "16                Grand Theft Auto V      PS3             2013        Action   \n",
       "23                Grand Theft Auto V     X360             2013        Action   \n",
       "31         Call of Duty: Black Ops 3      PS4             2015       Shooter   \n",
       "33               Pokemon X/Pokemon Y      3DS             2013  Role-Playing   \n",
       "42                Grand Theft Auto V      PS4             2014        Action   \n",
       "...                              ...      ...              ...           ...   \n",
       "16703               Strawberry Nauts      PSV             2016     Adventure   \n",
       "16707               Aiyoku no Eustia      PSV             2014          Misc   \n",
       "16710  Samurai Warriors: Sanada Maru      PS3             2016        Action   \n",
       "16712        Haitaka no Psychedelica      PSV             2016     Adventure   \n",
       "16714            Winning Post 8 2016      PSV             2016    Simulation   \n",
       "\n",
       "       na_sales  eu_sales  jp_sales  other_sales  critic_score  user_score  \\\n",
       "16         7.02      9.09      0.98         3.96          97.0         8.2   \n",
       "23         9.66      5.14      0.06         1.41          97.0         8.1   \n",
       "31         6.03      5.86      0.36         2.38         888.0       888.0   \n",
       "33         5.28      4.19      4.35         0.78         888.0       888.0   \n",
       "42         3.96      6.31      0.38         1.97          97.0         8.3   \n",
       "...         ...       ...       ...          ...           ...         ...   \n",
       "16703      0.00      0.00      0.01         0.00         888.0       888.0   \n",
       "16707      0.00      0.00      0.01         0.00         888.0       888.0   \n",
       "16710      0.00      0.00      0.01         0.00         888.0       888.0   \n",
       "16712      0.00      0.00      0.01         0.00         888.0       888.0   \n",
       "16714      0.00      0.00      0.01         0.00         888.0       888.0   \n",
       "\n",
       "          rating  total_sales  \n",
       "16             M        21.05  \n",
       "23             M        16.27  \n",
       "31     No rating        14.63  \n",
       "33     No rating        14.60  \n",
       "42             M        12.62  \n",
       "...          ...          ...  \n",
       "16703  No rating         0.01  \n",
       "16707  No rating         0.01  \n",
       "16710  No rating         0.01  \n",
       "16712  No rating         0.01  \n",
       "16714  No rating         0.01  \n",
       "\n",
       "[2242 rows x 12 columns]"
      ]
     },
     "execution_count": 24,
     "metadata": {},
     "output_type": "execute_result"
    }
   ],
   "source": [
    "# определим актуальный период и сохраним данные в таблицу data_actual_period\n",
    "data_actual_period = data.loc[data['year_of_release']>2012] # оставляем данные с 2013 года\n",
    "data_actual_period"
   ]
  },
  {
   "cell_type": "markdown",
   "metadata": {},
   "source": [
    "<div class=\"alert alert-block alert-danger\">\n",
    " \n",
    "### Комментарий ревьюера\n",
    "    \n",
    "#### Ошибка\n",
    "    \n",
    "Для целей прогнозирования продаж на следующий год даже в традиционных бизнесах редко берут данные более чем за 2-3 года. А в такой динамично меняющейся индустрии, как компьютерные игры и вовсе не стоит брать слишком большой временной интервал - иначе обязательно захватишь уже отжившие тренды. Но и слишком короткий период тоже брать не стоит.\n",
    "</div "
   ]
  },
  {
   "cell_type": "markdown",
   "metadata": {},
   "source": [
    "**<font color=\"maroon\">Актуальный период определила с 2013 года</font>**"
   ]
  },
  {
   "cell_type": "markdown",
   "metadata": {},
   "source": [
    "<div class=\"alert alert-block alert-success\">\n",
    " \n",
    "# Комментарий ревьюера ver.2\n",
    "    \n",
    "#### Успех\n",
    "    \n",
    "Сейчас результаты станут максимально близки к реальности. \n",
    "</div "
   ]
  },
  {
   "cell_type": "markdown",
   "metadata": {},
   "source": [
    "Построим график «ящик с усами» по глобальным продажам игр в разбивке по платформам и опишем результат."
   ]
  },
  {
   "cell_type": "code",
   "execution_count": 25,
   "metadata": {},
   "outputs": [],
   "source": [
    "#Сохраним в переменной data_top_5_platforms топ 5 платформ.\n",
    "data_top_5_platforms = ['PS2','X360','PS3','Wii','DC']\n",
    "data_actual_platforms = data_actual_period.loc[data_actual_period['platform'].isin(data_top_5_platforms)]"
   ]
  },
  {
   "cell_type": "code",
   "execution_count": 26,
   "metadata": {},
   "outputs": [
    {
     "data": {
      "image/png": "[encoded data removed]",
      "text/plain": [
       "<Figure size 1152x504 with 1 Axes>"
      ]
     },
     "metadata": {},
     "output_type": "display_data"
    }
   ],
   "source": [
    "# рисуем ящики с усами \n",
    "plt.figure(figsize=(16,7))\n",
    "sns.boxplot(data=data_actual_platforms, x='platform', y='total_sales')\n",
    "plt.ylim(-0.1,3)\n",
    "plt.title('Ящик с усами', fontsize=15)\n",
    "plt.xlabel('Платформа', fontsize=12)\n",
    "plt.ylabel('Продажи',fontsize=12)\n",
    "plt.show()"
   ]
  },
  {
   "cell_type": "markdown",
   "metadata": {},
   "source": [
    "<div class=\"alert alert-block alert-success\">\n",
    " \n",
    "### Комментарий ревьюера\n",
    "    \n",
    "#### Успех\n",
    "    \n",
    "Классный график получился. На нем мы хорошо видим медину и и квантили. \n",
    "</div "
   ]
  },
  {
   "cell_type": "code",
   "execution_count": 27,
   "metadata": {},
   "outputs": [
    {
     "data": {
      "text/html": [
       "<div>\n",
       "<style scoped>\n",
       "    .dataframe tbody tr th:only-of-type {\n",
       "        vertical-align: middle;\n",
       "    }\n",
       "\n",
       "    .dataframe tbody tr th {\n",
       "        vertical-align: top;\n",
       "    }\n",
       "\n",
       "    .dataframe thead th {\n",
       "        text-align: right;\n",
       "    }\n",
       "</style>\n",
       "<table border=\"1\" class=\"dataframe\">\n",
       "  <thead>\n",
       "    <tr style=\"text-align: right;\">\n",
       "      <th></th>\n",
       "      <th>year_of_release</th>\n",
       "      <th>na_sales</th>\n",
       "      <th>eu_sales</th>\n",
       "      <th>jp_sales</th>\n",
       "      <th>other_sales</th>\n",
       "      <th>critic_score</th>\n",
       "      <th>user_score</th>\n",
       "      <th>total_sales</th>\n",
       "    </tr>\n",
       "  </thead>\n",
       "  <tbody>\n",
       "    <tr>\n",
       "      <th>count</th>\n",
       "      <td>554.000000</td>\n",
       "      <td>554.000000</td>\n",
       "      <td>554.000000</td>\n",
       "      <td>554.000000</td>\n",
       "      <td>554.000000</td>\n",
       "      <td>554.000000</td>\n",
       "      <td>554.000000</td>\n",
       "      <td>554.000000</td>\n",
       "    </tr>\n",
       "    <tr>\n",
       "      <th>mean</th>\n",
       "      <td>2014.005415</td>\n",
       "      <td>0.273863</td>\n",
       "      <td>0.209856</td>\n",
       "      <td>0.043159</td>\n",
       "      <td>0.072202</td>\n",
       "      <td>589.671480</td>\n",
       "      <td>353.174368</td>\n",
       "      <td>0.599079</td>\n",
       "    </tr>\n",
       "    <tr>\n",
       "      <th>std</th>\n",
       "      <td>0.981735</td>\n",
       "      <td>0.736631</td>\n",
       "      <td>0.609328</td>\n",
       "      <td>0.091854</td>\n",
       "      <td>0.221707</td>\n",
       "      <td>394.270022</td>\n",
       "      <td>431.186605</td>\n",
       "      <td>1.509908</td>\n",
       "    </tr>\n",
       "    <tr>\n",
       "      <th>min</th>\n",
       "      <td>2013.000000</td>\n",
       "      <td>0.000000</td>\n",
       "      <td>0.000000</td>\n",
       "      <td>0.000000</td>\n",
       "      <td>0.000000</td>\n",
       "      <td>13.000000</td>\n",
       "      <td>0.200000</td>\n",
       "      <td>0.010000</td>\n",
       "    </tr>\n",
       "    <tr>\n",
       "      <th>25%</th>\n",
       "      <td>2013.000000</td>\n",
       "      <td>0.000000</td>\n",
       "      <td>0.000000</td>\n",
       "      <td>0.000000</td>\n",
       "      <td>0.000000</td>\n",
       "      <td>78.000000</td>\n",
       "      <td>6.125000</td>\n",
       "      <td>0.060000</td>\n",
       "    </tr>\n",
       "    <tr>\n",
       "      <th>50%</th>\n",
       "      <td>2014.000000</td>\n",
       "      <td>0.060000</td>\n",
       "      <td>0.050000</td>\n",
       "      <td>0.000000</td>\n",
       "      <td>0.020000</td>\n",
       "      <td>888.000000</td>\n",
       "      <td>7.800000</td>\n",
       "      <td>0.185000</td>\n",
       "    </tr>\n",
       "    <tr>\n",
       "      <th>75%</th>\n",
       "      <td>2015.000000</td>\n",
       "      <td>0.260000</td>\n",
       "      <td>0.180000</td>\n",
       "      <td>0.040000</td>\n",
       "      <td>0.070000</td>\n",
       "      <td>888.000000</td>\n",
       "      <td>888.000000</td>\n",
       "      <td>0.577500</td>\n",
       "    </tr>\n",
       "    <tr>\n",
       "      <th>max</th>\n",
       "      <td>2016.000000</td>\n",
       "      <td>9.660000</td>\n",
       "      <td>9.090000</td>\n",
       "      <td>0.980000</td>\n",
       "      <td>3.960000</td>\n",
       "      <td>888.000000</td>\n",
       "      <td>888.000000</td>\n",
       "      <td>21.050000</td>\n",
       "    </tr>\n",
       "  </tbody>\n",
       "</table>\n",
       "</div>"
      ],
      "text/plain": [
       "       year_of_release    na_sales    eu_sales    jp_sales  other_sales  \\\n",
       "count       554.000000  554.000000  554.000000  554.000000   554.000000   \n",
       "mean       2014.005415    0.273863    0.209856    0.043159     0.072202   \n",
       "std           0.981735    0.736631    0.609328    0.091854     0.221707   \n",
       "min        2013.000000    0.000000    0.000000    0.000000     0.000000   \n",
       "25%        2013.000000    0.000000    0.000000    0.000000     0.000000   \n",
       "50%        2014.000000    0.060000    0.050000    0.000000     0.020000   \n",
       "75%        2015.000000    0.260000    0.180000    0.040000     0.070000   \n",
       "max        2016.000000    9.660000    9.090000    0.980000     3.960000   \n",
       "\n",
       "       critic_score  user_score  total_sales  \n",
       "count    554.000000  554.000000   554.000000  \n",
       "mean     589.671480  353.174368     0.599079  \n",
       "std      394.270022  431.186605     1.509908  \n",
       "min       13.000000    0.200000     0.010000  \n",
       "25%       78.000000    6.125000     0.060000  \n",
       "50%      888.000000    7.800000     0.185000  \n",
       "75%      888.000000  888.000000     0.577500  \n",
       "max      888.000000  888.000000    21.050000  "
      ]
     },
     "execution_count": 27,
     "metadata": {},
     "output_type": "execute_result"
    }
   ],
   "source": [
    "data_actual_platforms.describe() # выведем статистические данные"
   ]
  },
  {
   "cell_type": "markdown",
   "metadata": {},
   "source": [
    "Вывод: исходя из графиков видно, что больше всех продаж у X360 и WII."
   ]
  },
  {
   "cell_type": "markdown",
   "metadata": {},
   "source": [
    "Посмотрим, как влияют на продажи внутри одной популярной платформы отзывы пользователей и критиков. Построим диаграмму рассеяния и посчитаем корреляцию между отзывами и продажами. Сформулируем выводы."
   ]
  },
  {
   "cell_type": "code",
   "execution_count": 28,
   "metadata": {},
   "outputs": [
    {
     "data": {
      "text/plain": [
       "-0.011742185147181342"
      ]
     },
     "execution_count": 28,
     "metadata": {},
     "output_type": "execute_result"
    }
   ],
   "source": [
    "# посчитаем корреляция между оценками пользователей и продажами х_360\n",
    "х_360 = data_actual_period[(data_actual_period['platform']=='X360') & (data_actual_period['user_score']!=888)]\n",
    "х_360['user_score'].corr(х_360['total_sales'])"
   ]
  },
  {
   "cell_type": "code",
   "execution_count": 62,
   "metadata": {},
   "outputs": [
    {
     "data": {
      "image/png": "[encoded data removed]",
      "text/plain": [
       "<Figure size 1008x432 with 1 Axes>"
      ]
     },
     "metadata": {},
     "output_type": "display_data"
    }
   ],
   "source": [
    "# построим диаграмму рассеяния\n",
    "plt.figure(figsize=(14,6))\n",
    "sns.scatterplot(data=х_360, x='user_score', y='total_sales')\n",
    "plt.title(\"Влияние оценки пользователей на продажи\")\n",
    "plt.show()"
   ]
  },
  {
   "cell_type": "markdown",
   "metadata": {},
   "source": [
    "<div class=\"alert alert-block alert-success\">\n",
    " \n",
    "### Комментарий ревьюера\n",
    "    \n",
    "#### Успех\n",
    "    \n",
    "Здесь тоже хочу похвалить за визуализацию. Не забывай давать названия графикам. \n",
    "</div "
   ]
  },
  {
   "cell_type": "code",
   "execution_count": 30,
   "metadata": {},
   "outputs": [
    {
     "data": {
      "text/plain": [
       "0.3503445460228664"
      ]
     },
     "execution_count": 30,
     "metadata": {},
     "output_type": "execute_result"
    }
   ],
   "source": [
    "# посчитаем корреляцию между оценкой критиков и продажами\n",
    "х_360 = data_actual_period[(data_actual_period['platform']=='X360') & (data_actual_period['critic_score']!=888)]\n",
    "х_360['critic_score'].corr(х_360['total_sales'])"
   ]
  },
  {
   "cell_type": "code",
   "execution_count": 31,
   "metadata": {},
   "outputs": [
    {
     "data": {
      "image/png": "[encoded data removed]",
      "text/plain": [
       "<Figure size 1008x432 with 1 Axes>"
      ]
     },
     "metadata": {},
     "output_type": "display_data"
    }
   ],
   "source": [
    "# построим диаграмму рассеяния по оценкам критиков \n",
    "plt.figure(figsize=(14,6))\n",
    "sns.scatterplot(data=х_360, x='critic_score', y='total_sales')\n",
    "plt.show()"
   ]
  },
  {
   "cell_type": "markdown",
   "metadata": {},
   "source": [
    "Вывод:                                                                            \n",
    "-корреляция между оценками пользователей и продажами х_360: Слабая -0.011742185147181342                                 \n",
    "-Корреляция между оценкой критиков и продажами х_360 : Умеренная 0.3503445460228664"
   ]
  },
  {
   "cell_type": "markdown",
   "metadata": {},
   "source": [
    "<div class=\"alert alert-block alert-success\">\n",
    " \n",
    "### Комментарий ревьюера\n",
    "    \n",
    "#### Успех\n",
    "    \n",
    "Тоже получилось достаточно класснно. По выводам тоже нет вопросов. \n",
    "</div "
   ]
  },
  {
   "cell_type": "markdown",
   "metadata": {},
   "source": [
    "Соотнесем выводы с продажами игр на других платформах"
   ]
  },
  {
   "cell_type": "code",
   "execution_count": 32,
   "metadata": {},
   "outputs": [],
   "source": [
    "#Напишем функцию, которая будет отрисовывать графики рассеивания и считать корреляции\n",
    "def other_platform(name_platform):\n",
    "    us_platform = data_actual_period[(data_actual_period['platform']==name_platform) & (data_actual_period['user_score']!=888)]\n",
    "    cs_platform = data_actual_period[(data_actual_period['platform']==name_platform) & (data_actual_period['critic_score']!=888)]\n",
    "    fig, ax = plt.subplots(1 ,2, figsize=(15,5))\n",
    "    sns.scatterplot(x='user_score', y='total_sales', data=us_platform, ax=ax[0])\n",
    "    sns.scatterplot(x='critic_score', y='total_sales', data=cs_platform, ax=ax[1])\n",
    "    fig.suptitle(name_platform, fontsize=15)\n",
    "    ax[0].set(xlabel='Оценка пользователей')\n",
    "    ax[1].set(xlabel='Оценка критиков')\n",
    "    ax[0].set(ylabel='Количество продаж')\n",
    "    ax[1].set(ylabel='Количество продаж')\n",
    "    plt.show()\n",
    "    \n",
    "    correl = us_platform['user_score'].corr(us_platform['total_sales'])\n",
    "    critic_correl = cs_platform['critic_score'].corr(cs_platform['total_sales'])\n",
    "    \n",
    "    print('Корреляция между отзывами критиков и продажами ', name_platform.upper(), critic_correl)\n",
    "    print('Корреляция между отзывами пользователей и продажами ', name_platform.upper(), correl)"
   ]
  },
  {
   "cell_type": "code",
   "execution_count": 48,
   "metadata": {},
   "outputs": [
    {
     "data": {
      "image/png": "[encoded data removed]",
      "text/plain": [
       "<Figure size 1080x360 with 2 Axes>"
      ]
     },
     "metadata": {},
     "output_type": "display_data"
    },
    {
     "name": "stdout",
     "output_type": "stream",
     "text": [
      "Корреляция между отзывами критиков и продажами  X360 0.3503445460228664\n",
      "Корреляция между отзывами пользователей и продажами  X360 -0.011742185147181342\n"
     ]
    },
    {
     "data": {
      "image/png": "[encoded data removed]",
      "text/plain": [
       "<Figure size 1080x360 with 2 Axes>"
      ]
     },
     "metadata": {},
     "output_type": "display_data"
    },
    {
     "name": "stdout",
     "output_type": "stream",
     "text": [
      "Корреляция между отзывами критиков и продажами  PS3 0.3342853393371919\n",
      "Корреляция между отзывами пользователей и продажами  PS3 0.002394402735756675\n"
     ]
    }
   ],
   "source": [
    "#С помощью цикла выведем графики других платформ\n",
    "other_pl = ['X360','PS3']\n",
    "for platform in other_pl:\n",
    "    other_platform(platform)"
   ]
  },
  {
   "cell_type": "markdown",
   "metadata": {},
   "source": [
    "Вывод:\n",
    "У всех нами отбранных платформ слабая корреляция наблюдается между отзывами пользователей и продажами,\n",
    "а умеренная - между оценками критиков и продажами."
   ]
  },
  {
   "cell_type": "markdown",
   "metadata": {},
   "source": [
    "<div class=\"alert alert-block alert-success\">\n",
    " \n",
    "### Комментарий ревьюера\n",
    "    \n",
    "#### Успех\n",
    "    \n",
    "Выводы на основе информации с нескольких платформ получаются убедительнее. \n",
    "</div "
   ]
  },
  {
   "cell_type": "markdown",
   "metadata": {},
   "source": [
    "Посмотрим на общее распределение игр по жанрам. Что можно сказать о самых прибыльных жанрах? Выделяются ли жанры с высокими и низкими продажами?"
   ]
  },
  {
   "cell_type": "code",
   "execution_count": 49,
   "metadata": {},
   "outputs": [
    {
     "data": {
      "text/html": [
       "<div>\n",
       "<style scoped>\n",
       "    .dataframe tbody tr th:only-of-type {\n",
       "        vertical-align: middle;\n",
       "    }\n",
       "\n",
       "    .dataframe tbody tr th {\n",
       "        vertical-align: top;\n",
       "    }\n",
       "\n",
       "    .dataframe thead th {\n",
       "        text-align: right;\n",
       "    }\n",
       "</style>\n",
       "<table border=\"1\" class=\"dataframe\">\n",
       "  <thead>\n",
       "    <tr style=\"text-align: right;\">\n",
       "      <th></th>\n",
       "      <th>genre</th>\n",
       "      <th>total_sales</th>\n",
       "    </tr>\n",
       "  </thead>\n",
       "  <tbody>\n",
       "    <tr>\n",
       "      <th>0</th>\n",
       "      <td>Shooter</td>\n",
       "      <td>1.239628</td>\n",
       "    </tr>\n",
       "    <tr>\n",
       "      <th>1</th>\n",
       "      <td>Sports</td>\n",
       "      <td>0.700791</td>\n",
       "    </tr>\n",
       "    <tr>\n",
       "      <th>2</th>\n",
       "      <td>Platform</td>\n",
       "      <td>0.576081</td>\n",
       "    </tr>\n",
       "    <tr>\n",
       "      <th>3</th>\n",
       "      <td>Role-Playing</td>\n",
       "      <td>0.497211</td>\n",
       "    </tr>\n",
       "    <tr>\n",
       "      <th>4</th>\n",
       "      <td>Racing</td>\n",
       "      <td>0.464884</td>\n",
       "    </tr>\n",
       "    <tr>\n",
       "      <th>5</th>\n",
       "      <td>Fighting</td>\n",
       "      <td>0.441375</td>\n",
       "    </tr>\n",
       "    <tr>\n",
       "      <th>6</th>\n",
       "      <td>Action</td>\n",
       "      <td>0.420169</td>\n",
       "    </tr>\n",
       "    <tr>\n",
       "      <th>7</th>\n",
       "      <td>Misc</td>\n",
       "      <td>0.405290</td>\n",
       "    </tr>\n",
       "    <tr>\n",
       "      <th>8</th>\n",
       "      <td>Simulation</td>\n",
       "      <td>0.347656</td>\n",
       "    </tr>\n",
       "    <tr>\n",
       "      <th>9</th>\n",
       "      <td>Puzzle</td>\n",
       "      <td>0.186471</td>\n",
       "    </tr>\n",
       "    <tr>\n",
       "      <th>10</th>\n",
       "      <td>Strategy</td>\n",
       "      <td>0.180000</td>\n",
       "    </tr>\n",
       "    <tr>\n",
       "      <th>11</th>\n",
       "      <td>Adventure</td>\n",
       "      <td>0.096463</td>\n",
       "    </tr>\n",
       "  </tbody>\n",
       "</table>\n",
       "</div>"
      ],
      "text/plain": [
       "           genre  total_sales\n",
       "0        Shooter     1.239628\n",
       "1         Sports     0.700791\n",
       "2       Platform     0.576081\n",
       "3   Role-Playing     0.497211\n",
       "4         Racing     0.464884\n",
       "5       Fighting     0.441375\n",
       "6         Action     0.420169\n",
       "7           Misc     0.405290\n",
       "8     Simulation     0.347656\n",
       "9         Puzzle     0.186471\n",
       "10      Strategy     0.180000\n",
       "11     Adventure     0.096463"
      ]
     },
     "execution_count": 49,
     "metadata": {},
     "output_type": "execute_result"
    }
   ],
   "source": [
    "# Через сводные таблицы выведем жанры и их продажи.\n",
    "data_actual_period_genre = data_actual_period.pivot_table(\n",
    "    index='genre', values='total_sales', aggfunc='mean').sort_values(by='total_sales', ascending=False)\n",
    "data_actual_period_genre = data_actual_period_genre.reset_index().rename_axis(None, axis=1)\n",
    "data_actual_period_genre"
   ]
  },
  {
   "cell_type": "code",
   "execution_count": 50,
   "metadata": {},
   "outputs": [
    {
     "data": {
      "text/plain": [
       "Text(0, 0.5, 'Продажи')"
      ]
     },
     "execution_count": 50,
     "metadata": {},
     "output_type": "execute_result"
    },
    {
     "data": {
      "image/png": "[encoded data removed]",
      "text/plain": [
       "<Figure size 864x432 with 1 Axes>"
      ]
     },
     "metadata": {},
     "output_type": "display_data"
    }
   ],
   "source": [
    "#Отрисуем барплот чтобы наглядно посмотреть какие жанры лидирует, а какие остаются внизу\n",
    "plt.figure(figsize=(12,6))\n",
    "plt.title('Распределение игр по жанрам ',fontsize=15)\n",
    "sns.barplot(data=data_actual_period_genre, x='genre', y='total_sales')\n",
    "plt.xlabel('Жанры игр',fontsize=12)\n",
    "plt.ylabel('Продажи',fontsize=12)"
   ]
  },
  {
   "cell_type": "markdown",
   "metadata": {},
   "source": [
    "Вывод: больше всего продаются жанры Shooter, Sports, далее идут жанры Platform, Role-Playing. На последнем месте - Adventure."
   ]
  },
  {
   "cell_type": "markdown",
   "metadata": {},
   "source": [
    "<div class=\"alert alert-block alert-danger\">\n",
    " \n",
    "### Комментарий ревьюера\n",
    "    \n",
    "#### Ошибка\n",
    "    \n",
    "Общие продажи - плохая метрика для поиска наиболее прибыльного жанра. За высокими показателями общих продаж может скрываться множество мелких игр с низкими продажами. Или 2-3 звезды и куча провалов. Лучше найти жанр, где игры стабильно приносят высокий доход - для этого стоит рассмотреть средние или медианные продажи..\n",
    "</div "
   ]
  },
  {
   "cell_type": "markdown",
   "metadata": {},
   "source": [
    "**<font color=\"maroon\">Жанры с высоким доходом вычислила методом средних продаж, вывод обновила.</font>**"
   ]
  },
  {
   "cell_type": "markdown",
   "metadata": {},
   "source": [
    "<div class=\"alert alert-block alert-success\">\n",
    " \n",
    "# Комментарий ревьюера ver.2\n",
    "    \n",
    "#### Успех\n",
    "    \n",
    "Видишь, как сильно изменился результат. \n",
    "</div "
   ]
  },
  {
   "cell_type": "markdown",
   "metadata": {},
   "source": [
    "####   Вывод по исследовательскому анализу данных.\n",
    "Количество выпущенных игр  начинает расти с 1990 года и продолжает до 2008 года. А с 2008 года наблюдаем резкий спад.      \n",
    "К играм с наибольшими сумарными продажами за весь период можно отнести PS2, X360, PS3, Wii ,DS ,PS.                      \n",
    "Также можем сделать вывод, что практически все игры появляются и исчезают спустя 10 лет существования, пик продаж наступает примерно через 5 лет после выхода.                                                                                        \n",
    "Наблюдается умеренная корреляция между оценками критиков и продажами, из этого следует что оценка критиков больше влияет на продажи.                           "
   ]
  },
  {
   "cell_type": "markdown",
   "metadata": {},
   "source": [
    "### . Составим портрет пользователя каждого региона"
   ]
  },
  {
   "cell_type": "markdown",
   "metadata": {},
   "source": [
    "- Определим для пользователя каждого региона (NA, EU, JP):\n",
    "- Самые популярные платформы (топ-5). Опишем различия в долях продаж.\n",
    "- Самые популярные жанры (топ-5). Поясним разницу.\n",
    "- Влияет ли рейтинг ESRB на продажи в отдельном регионе?"
   ]
  },
  {
   "cell_type": "code",
   "execution_count": 51,
   "metadata": {},
   "outputs": [],
   "source": [
    "def pivot_t(row, title):\n",
    "    fig, axes = plt.subplots(1, 3, figsize=(20, 4))\n",
    "    for pivot, ax in zip(list(['platform','genre','rating']),axes.flatten()[:3]):\n",
    "        ppivot = data_actual_period.pivot_table(index=pivot, values=row, aggfunc='sum').sort_values(by=row, ascending=False).reset_index().rename_axis(None, axis=1).head(5)\n",
    "        print(ppivot)\n",
    "        print('\\n\\n') \n",
    "        sns.barplot(data=ppivot, x=pivot, y=row, ax=ax)\n",
    "        fig.suptitle(title, fontsize=15)\n",
    "        \n",
    "plt.show()"
   ]
  },
  {
   "cell_type": "markdown",
   "metadata": {},
   "source": [
    "Портрет пользователя региона NA"
   ]
  },
  {
   "cell_type": "code",
   "execution_count": 52,
   "metadata": {},
   "outputs": [
    {
     "name": "stdout",
     "output_type": "stream",
     "text": [
      "  platform  na_sales\n",
      "0      PS4    108.74\n",
      "1     XOne     93.12\n",
      "2     X360     81.66\n",
      "3      PS3     63.50\n",
      "4      3DS     39.04\n",
      "\n",
      "\n",
      "\n",
      "          genre  na_sales\n",
      "0        Action    126.23\n",
      "1       Shooter    109.78\n",
      "2        Sports     65.27\n",
      "3  Role-Playing     46.51\n",
      "4          Misc     27.49\n",
      "\n",
      "\n",
      "\n",
      "      rating  na_sales\n",
      "0          M    165.21\n",
      "1  No rating     89.70\n",
      "2          E     79.17\n",
      "3       E10+     54.50\n",
      "4          T     50.08\n",
      "\n",
      "\n",
      "\n"
     ]
    },
    {
     "data": {
      "image/png": "[encoded data removed]",
      "text/plain": [
       "<Figure size 1440x288 with 3 Axes>"
      ]
     },
     "metadata": {},
     "output_type": "display_data"
    }
   ],
   "source": [
    "pivot_t('na_sales','Топ 5 платформ, жанров и рейтингов для Северной америки')"
   ]
  },
  {
   "cell_type": "markdown",
   "metadata": {},
   "source": [
    "Вывод:\n",
    "Самые продаваемые платформы в Северной Америке в установленный нами актуальный период это: PS4, XOne,X360, PS3, 3DS.     \n",
    "Самые популярные жанры в Северной Америке: Action, Shooter, Sports, Role-Playing , Misc.                        \n",
    "По рейтингам видно, что большие продажи у игр с рейтингом \"M\",затем идут \"E\" , E10+, \"T\"."
   ]
  },
  {
   "cell_type": "markdown",
   "metadata": {},
   "source": [
    "<div class=\"alert alert-block alert-success\">\n",
    " \n",
    "### Комментарий ревьюера\n",
    "    \n",
    "#### Успех\n",
    "    \n",
    "Здесь прям молодец. Очень хвалю тебя за то, что показаны визуализации и сделаны верные выводы. \n",
    "</div "
   ]
  },
  {
   "cell_type": "markdown",
   "metadata": {},
   "source": [
    "Портрет пользователя региона EU"
   ]
  },
  {
   "cell_type": "code",
   "execution_count": 53,
   "metadata": {},
   "outputs": [
    {
     "name": "stdout",
     "output_type": "stream",
     "text": [
      "  platform  eu_sales\n",
      "0      PS4    141.09\n",
      "1      PS3     67.81\n",
      "2     XOne     51.59\n",
      "3     X360     42.52\n",
      "4      3DS     31.17\n",
      "\n",
      "\n",
      "\n",
      "          genre  eu_sales\n",
      "0        Action    118.32\n",
      "1       Shooter     87.88\n",
      "2        Sports     60.52\n",
      "3  Role-Playing     37.02\n",
      "4        Racing     20.19\n",
      "\n",
      "\n",
      "\n",
      "      rating  eu_sales\n",
      "0          M    145.32\n",
      "1          E     83.38\n",
      "2  No rating     78.91\n",
      "3       E10+     42.88\n",
      "4          T     42.00\n",
      "\n",
      "\n",
      "\n"
     ]
    },
    {
     "data": {
      "image/png": "[encoded data removed]",
      "text/plain": [
       "<Figure size 1440x288 with 3 Axes>"
      ]
     },
     "metadata": {},
     "output_type": "display_data"
    }
   ],
   "source": [
    "pivot_t('eu_sales','Топ 5 платформ, жанров и рейтингов для Европы')"
   ]
  },
  {
   "cell_type": "markdown",
   "metadata": {},
   "source": [
    "Вывод:                                                                                                   \n",
    "Самые продаваемые платформы в Европе в  установленный нами актуальный период это: PS4, PS3, XOne, X360, 3DS.          \n",
    "Самые популярные жанры в Европе: Action, Shooter, Sports, Role-Playing, Racing.                               \n",
    "По рейтингам видно, что большие продажи у игр с рейтингом \"M\"."
   ]
  },
  {
   "cell_type": "markdown",
   "metadata": {},
   "source": [
    "<div class=\"alert alert-block alert-success\">\n",
    " \n",
    "### Комментарий ревьюера\n",
    "    \n",
    "#### Успех\n",
    "    \n",
    "Как мы можем сделать вывод, что каждай платформа по-своему уникальна \n",
    "</div "
   ]
  },
  {
   "cell_type": "markdown",
   "metadata": {},
   "source": [
    "Портрет пользователя региона JP"
   ]
  },
  {
   "cell_type": "code",
   "execution_count": 54,
   "metadata": {},
   "outputs": [
    {
     "name": "stdout",
     "output_type": "stream",
     "text": [
      "  platform  jp_sales\n",
      "0      3DS     67.86\n",
      "1      PS3     23.35\n",
      "2      PSV     18.66\n",
      "3      PS4     15.96\n",
      "4     WiiU     10.88\n",
      "\n",
      "\n",
      "\n",
      "          genre  jp_sales\n",
      "0  Role-Playing     51.14\n",
      "1        Action     40.49\n",
      "2          Misc      9.20\n",
      "3      Fighting      7.65\n",
      "4       Shooter      6.61\n",
      "\n",
      "\n",
      "\n",
      "      rating  jp_sales\n",
      "0  No rating     85.10\n",
      "1          T     20.66\n",
      "2          E     15.14\n",
      "3          M     14.11\n",
      "4       E10+      5.89\n",
      "\n",
      "\n",
      "\n"
     ]
    },
    {
     "data": {
      "image/png": "[encoded data removed]",
      "text/plain": [
       "<Figure size 1440x288 with 3 Axes>"
      ]
     },
     "metadata": {},
     "output_type": "display_data"
    }
   ],
   "source": [
    "pivot_t('jp_sales','Топ 5 платформ, жанров и рейтингов для Японии')"
   ]
  },
  {
   "cell_type": "markdown",
   "metadata": {},
   "source": [
    "Вывод:                                                                                                   \n",
    "Самые продаваемые платформы в Японии в  установленный нами актуальный период это: 3DS, PS3, PSV, PS4, WiiU.          \n",
    "Самые популярные жанры в Японии: Role-Playing, Action.                              \n",
    "По рейтингам видно, что большие продажи у игр без рейтинга, затем \"T\", \"E\" \"M\", E10+."
   ]
  },
  {
   "cell_type": "markdown",
   "metadata": {},
   "source": [
    "<div class=\"alert alert-block alert-success\">\n",
    " \n",
    "### Комментарий ревьюера\n",
    "    \n",
    "#### Успех\n",
    "    \n",
    "А вот Япония имеет свою специфику. \n",
    "</div "
   ]
  },
  {
   "cell_type": "markdown",
   "metadata": {},
   "source": [
    "#### Вывод по портретам пользователей каждого региона.\n",
    "Самые продаваемые платформы в Северной Америке в установленный нами актуальный период это: PS4, XOne, X360, PS3, 3DS.     \n",
    "Самые популярные жанры в Северной Америке: Action, Shooter, Sports, Role-Playing , Misc.                        \n",
    "По рейтингам видно, что большие продажи у игр с рейтингом \"M\", затем идут \"E\" , E10+, \"T\".                                                                                 \n",
    "                                                                                                   \n",
    "Самые продаваемые платформы в Европе в  установленный нами актуальный период это: PS4, PS3, XOne, X360, 3DS.          \n",
    "Самые популярные жанры в Европе: Action, Shooter, Sports, Role-Playing, Racing.                               \n",
    "По рейтингам видно, что большие продажи у игр с рейтингом \"M\".                                           \n",
    "\n",
    "Самые продаваемые платформы в Японии в  установленный нами актуальный период это: 3DS, PS3, PSV, PS4, WiiU.          \n",
    "Самые популярные жанры в Японии: Role-Playing, Action.                              \n",
    "По рейтингам видно, что большие продажи у игр без рейтинга, затем \"T\", \"E\" \"M\", E10+."
   ]
  },
  {
   "cell_type": "markdown",
   "metadata": {},
   "source": [
    "### . Проверим гипотезы"
   ]
  },
  {
   "cell_type": "markdown",
   "metadata": {},
   "source": [
    "Проверим гипотезы: одинаковые ли средние пользовательские рейтинги платформ Xbox One."
   ]
  },
  {
   "cell_type": "code",
   "execution_count": 55,
   "metadata": {},
   "outputs": [
    {
     "name": "stdout",
     "output_type": "stream",
     "text": [
      "p-значение: 0.14759594013430463\n",
      "Не удалось отвергнуть нулевую гипотезу\n"
     ]
    }
   ],
   "source": [
    "xbox_r = data_actual_period.query('platform == \"XOne\" and user_score !=888')\n",
    "pc_r = data_actual_period.query('platform == \"PC\" and user_score !=888')\n",
    "alpha = .05\n",
    "results = st.ttest_ind(xbox_r['user_score'],pc_r['user_score'], equal_var=False)\n",
    "\n",
    "print('p-значение:', results.pvalue)\n",
    "\n",
    "if results.pvalue < alpha:\n",
    "    print('Отвергаем нулевую гипотезу')\n",
    "else:\n",
    "    print('Не удалось отвергнуть нулевую гипотезу')"
   ]
  },
  {
   "cell_type": "markdown",
   "metadata": {},
   "source": [
    "Вывод: Значение p-value 0.14759594013430463. Не удалось отвергнуть нулевую гипотезу. "
   ]
  },
  {
   "cell_type": "markdown",
   "metadata": {},
   "source": [
    "Проверим гипотезы: разные ли средние пользовательские рейтинги жанров Action и Sports."
   ]
  },
  {
   "cell_type": "code",
   "execution_count": 56,
   "metadata": {},
   "outputs": [
    {
     "name": "stdout",
     "output_type": "stream",
     "text": [
      "p-значение: 1.4711831608728666e-20\n",
      "Отвергаем нулевую гипотезу\n"
     ]
    }
   ],
   "source": [
    "action_r = data_actual_period.query('genre == \"Action\" and user_score !=888')\n",
    "sports_r = data_actual_period.query('genre == \"Sports\" and user_score !=888')\n",
    "alpha = .05\n",
    "results = st.ttest_ind(action_r['user_score'],sports_r['user_score'], equal_var=False)\n",
    "\n",
    "print('p-значение:', results.pvalue)\n",
    "\n",
    "if results.pvalue < alpha:\n",
    "    print('Отвергаем нулевую гипотезу')\n",
    "else:\n",
    "    print('Не удалось отвергнуть нулевую гипотезу')"
   ]
  },
  {
   "cell_type": "markdown",
   "metadata": {},
   "source": [
    "Вывод: Исходя из значения p-value , мы видим, что у нас практически нет вероятности получить одинаковые средние рейтинги по жанрам Action и Sports."
   ]
  },
  {
   "cell_type": "markdown",
   "metadata": {},
   "source": [
    "<div class=\"alert alert-block alert-success\">\n",
    " \n",
    "### Комментарий ревьюера\n",
    "    \n",
    "#### Успех\n",
    "    \n",
    "Гипотезы сформулированы, верно определен метод проверки. По выводам соглашусь. \n",
    "</div "
   ]
  },
  {
   "cell_type": "markdown",
   "metadata": {},
   "source": [
    "#### Вывод по проверке гипотез\n",
    "Гипотеза: \"Средние пользовательские рейтинги платформ Xbox one и PC одинаковые\" - не удалось отвергнуть нулевую гипотезу.              \n",
    "Гипотеза: \"Средние пользовательские рейтинги жанров Action и Sports разные\"- нулевая гипотеза опровергнута."
   ]
  },
  {
   "cell_type": "markdown",
   "metadata": {},
   "source": [
    "### . ОБЩИЙ ВЫВОД"
   ]
  },
  {
   "cell_type": "markdown",
   "metadata": {},
   "source": [
    "Проведя данный анализ, мы выявили, что количество выпущенных игр начинает расти с 90-х годов и продолжает до 2008 года. А с 2008 года наблюдаем резкий спад.                                                                                   \n",
    "К самым продаваемым играм за весь период можно отнести PS2, X360, PS3, Wii ,DS ,PS.                                     \n",
    "Практически все игры существуют примерно 10 лет, пик продаж наступает примерно через 5 лет после выхода.                  \n",
    "Проведя анализ взаимосвязи пользователей и критиков с продажами, мы выявили, что оценка критиков больше влияет на продажи, нежели оценка пользователей.                                                                                          \n",
    "Также можем сказать, что самыми популярными жанрами яляются Shooter,Sports,Platform.\n",
    "\n",
    "А исходя из портретов пользователей кажого региона, мы делаем вывод, что в Северной америке самые популярные жанры - Action, Shooter, Sports, Role-Playing , Misc; самые продаваемые платформы - PS4, XOne,X360, PS3, 3DS; и больше продаж у игр с рейтингом \"M\". В Европе  самые популярные жанры - Action, Shooter, Sports, Role-Playing, Racing; самые продаваемые платформы - PS4, PS3, XOne, X360, 3DS; и больше продаж у игр с рейтингом \"M\". В Японии самые популярные жанры -Role-Playing, Action ; самые продаваемые платформы - 3DS, PS3, PSV, PS4, WiiU; и больше продаж у игр с рейтингом без рейтинга, затем \"T\", \"E\" \"M\", E10+. Из этого сделаем вывод, что предпочтения пользователей в Северной Америке и в Европе почти одинаковые.\n",
    "\n",
    "Рекомендации по продаже будут следующие: лучше всего продавать игры для приставок PS4, PS2 с жанрами Action и Shooter с рейтингом \"M\".\n",
    "\n",
    "\n"
   ]
  },
  {
   "cell_type": "markdown",
   "metadata": {},
   "source": [
    "<div class=\"alert alert-block alert-danger\">\n",
    " \n",
    "### Комментарий ревьюера\n",
    "    \n",
    "#### Ошибка\n",
    "    \n",
    "А вот тут не хватает рекомендаций. А еще, ты ни слова не упомянула о пропусках. Что необходимо сделать, чтобы минимизировать их в будущем? \n",
    "</div "
   ]
  },
  {
   "cell_type": "markdown",
   "metadata": {},
   "source": [
    "**<font color=\"maroon\">Общий вывод обновила.</font>**"
   ]
  },
  {
   "cell_type": "markdown",
   "metadata": {},
   "source": [
    "<div class=\"alert alert-block alert-success\">\n",
    " \n",
    "# Комментарий ревьюера ver.2\n",
    "    \n",
    "#### Успех\n",
    "    \n",
    "Теперь получился хороший и полноценный итоговый вывод. \n",
    "</div "
   ]
  },
  {
   "cell_type": "markdown",
   "metadata": {},
   "source": [
    "<div class=\"alert alert-block alert-info\">\n",
    "\n",
    "## Итоговый комментарии от ревьюера:\n",
    "\n",
    "    \n",
    "#### Успех\n",
    "\n",
    "Очень классный проект ты сделала. Мне очень понравилось проверять твою работу. Ты применяешь правильные методы для работы с данными. В работе не содержится лишнего кода. Каждое действие подкреплено комментариями. С визуализациями у тебя тоже все отлично. Отдельно отмечу раздел по Знакомству с данными и Предобработке. Очень надеюсь, что и следующие проекты ты будешь выполнять на таком же высоком уровне.\n",
    "    \n",
    "Но в работе есть замечания, которые надо будет поправить:\n",
    "\n",
    "* Верно определить актуальный период.\n",
    "* Определить самый прибыльный жанр по медиане или среднему.\n",
    "* Доработать итоговый вывод.\n",
    "\n",
    "Еще я оставил рекомендации. Очень надеюсь, что ты учтешь их в этом и последующих проектах.\n",
    "       \n",
    "Жду проект после доработки. Уверен, ты справишься.\n",
    "</div>"
   ]
  }
 ],
 "metadata": {
  "ExecuteTimeLog": [
   {
    "duration": 1375,
    "start_time": "2022-07-17T17:57:31.359Z"
   },
   {
    "duration": 94,
    "start_time": "2022-07-17T17:57:43.630Z"
   },
   {
    "duration": 39,
    "start_time": "2022-07-17T17:57:54.971Z"
   },
   {
    "duration": 16,
    "start_time": "2022-07-17T17:58:17.415Z"
   },
   {
    "duration": 4,
    "start_time": "2022-07-17T17:59:04.351Z"
   },
   {
    "duration": 5,
    "start_time": "2022-07-17T17:59:15.051Z"
   },
   {
    "duration": 5,
    "start_time": "2022-07-17T17:59:35.392Z"
   },
   {
    "duration": 5,
    "start_time": "2022-07-17T18:00:12.952Z"
   },
   {
    "duration": 7,
    "start_time": "2022-07-17T18:00:33.292Z"
   },
   {
    "duration": 8,
    "start_time": "2022-07-17T18:00:50.192Z"
   },
   {
    "duration": 16,
    "start_time": "2022-07-17T18:01:17.973Z"
   },
   {
    "duration": 11,
    "start_time": "2022-07-17T18:01:43.372Z"
   },
   {
    "duration": 4,
    "start_time": "2022-07-17T18:02:24.896Z"
   },
   {
    "duration": 5,
    "start_time": "2022-07-17T18:02:36.514Z"
   },
   {
    "duration": 6,
    "start_time": "2022-07-17T18:02:50.533Z"
   },
   {
    "duration": 13,
    "start_time": "2022-07-17T18:03:12.694Z"
   },
   {
    "duration": 9,
    "start_time": "2022-07-17T18:03:26.873Z"
   },
   {
    "duration": 6,
    "start_time": "2022-07-17T18:04:23.633Z"
   },
   {
    "duration": 24,
    "start_time": "2022-07-17T18:04:35.214Z"
   },
   {
    "duration": 196,
    "start_time": "2022-07-17T18:05:30.896Z"
   },
   {
    "duration": 354,
    "start_time": "2022-07-17T18:15:26.356Z"
   },
   {
    "duration": 283,
    "start_time": "2022-07-17T18:16:20.425Z"
   },
   {
    "duration": 22,
    "start_time": "2022-07-17T18:17:16.883Z"
   },
   {
    "duration": 5,
    "start_time": "2022-07-17T18:18:22.255Z"
   },
   {
    "duration": 200,
    "start_time": "2022-07-17T18:18:36.458Z"
   },
   {
    "duration": 30,
    "start_time": "2022-07-17T18:19:17.690Z"
   },
   {
    "duration": 7,
    "start_time": "2022-07-17T18:22:42.437Z"
   },
   {
    "duration": 177,
    "start_time": "2022-07-17T18:22:54.657Z"
   },
   {
    "duration": 7,
    "start_time": "2022-07-17T18:23:09.847Z"
   },
   {
    "duration": 174,
    "start_time": "2022-07-17T18:23:21.377Z"
   },
   {
    "duration": 79,
    "start_time": "2022-07-17T18:24:14.278Z"
   },
   {
    "duration": 1479,
    "start_time": "2022-07-17T18:24:30.197Z"
   },
   {
    "duration": 17,
    "start_time": "2022-07-17T18:25:25.999Z"
   },
   {
    "duration": 204,
    "start_time": "2022-07-17T18:25:40.118Z"
   },
   {
    "duration": 6,
    "start_time": "2022-07-17T18:28:58.458Z"
   },
   {
    "duration": 390,
    "start_time": "2022-07-17T18:29:23.452Z"
   },
   {
    "duration": 394,
    "start_time": "2022-07-17T18:30:30.273Z"
   },
   {
    "duration": 480,
    "start_time": "2022-07-17T18:31:17.758Z"
   },
   {
    "duration": 19,
    "start_time": "2022-07-17T18:32:59.100Z"
   },
   {
    "duration": 14,
    "start_time": "2022-07-17T18:34:09.222Z"
   },
   {
    "duration": 14,
    "start_time": "2022-07-17T18:45:03.646Z"
   },
   {
    "duration": 1176,
    "start_time": "2022-07-17T18:45:56.369Z"
   },
   {
    "duration": 52,
    "start_time": "2022-07-17T18:45:57.547Z"
   },
   {
    "duration": 27,
    "start_time": "2022-07-17T18:45:57.601Z"
   },
   {
    "duration": 15,
    "start_time": "2022-07-17T18:45:57.630Z"
   },
   {
    "duration": 3,
    "start_time": "2022-07-17T18:45:57.648Z"
   },
   {
    "duration": 10,
    "start_time": "2022-07-17T18:45:57.653Z"
   },
   {
    "duration": 15,
    "start_time": "2022-07-17T18:45:57.664Z"
   },
   {
    "duration": 10,
    "start_time": "2022-07-17T18:45:57.681Z"
   },
   {
    "duration": 14,
    "start_time": "2022-07-17T18:45:57.694Z"
   },
   {
    "duration": 8,
    "start_time": "2022-07-17T18:45:57.710Z"
   },
   {
    "duration": 48,
    "start_time": "2022-07-17T18:45:57.720Z"
   },
   {
    "duration": 15,
    "start_time": "2022-07-17T18:45:57.771Z"
   },
   {
    "duration": 14,
    "start_time": "2022-07-17T18:45:57.789Z"
   },
   {
    "duration": 4,
    "start_time": "2022-07-17T18:45:57.806Z"
   },
   {
    "duration": 8,
    "start_time": "2022-07-17T18:45:57.812Z"
   },
   {
    "duration": 4,
    "start_time": "2022-07-17T18:45:57.845Z"
   },
   {
    "duration": 16,
    "start_time": "2022-07-17T18:45:57.850Z"
   },
   {
    "duration": 8,
    "start_time": "2022-07-17T18:45:57.868Z"
   },
   {
    "duration": 7,
    "start_time": "2022-07-17T18:45:57.877Z"
   },
   {
    "duration": 24,
    "start_time": "2022-07-17T18:45:57.886Z"
   },
   {
    "duration": 219,
    "start_time": "2022-07-17T18:45:57.912Z"
   },
   {
    "duration": 360,
    "start_time": "2022-07-17T18:45:58.133Z"
   },
   {
    "duration": 345,
    "start_time": "2022-07-17T18:45:58.495Z"
   },
   {
    "duration": 36,
    "start_time": "2022-07-17T18:45:58.842Z"
   },
   {
    "duration": 8,
    "start_time": "2022-07-17T18:45:58.889Z"
   },
   {
    "duration": 261,
    "start_time": "2022-07-17T18:45:58.899Z"
   },
   {
    "duration": 48,
    "start_time": "2022-07-17T18:45:59.163Z"
   },
   {
    "duration": 32,
    "start_time": "2022-07-17T18:45:59.214Z"
   },
   {
    "duration": 212,
    "start_time": "2022-07-17T18:45:59.248Z"
   },
   {
    "duration": 8,
    "start_time": "2022-07-17T18:45:59.462Z"
   },
   {
    "duration": 210,
    "start_time": "2022-07-17T18:45:59.471Z"
   },
   {
    "duration": 92,
    "start_time": "2022-07-17T18:45:59.683Z"
   },
   {
    "duration": 1655,
    "start_time": "2022-07-17T18:45:59.777Z"
   },
   {
    "duration": 26,
    "start_time": "2022-07-17T18:46:01.434Z"
   },
   {
    "duration": 258,
    "start_time": "2022-07-17T18:46:01.462Z"
   },
   {
    "duration": 5,
    "start_time": "2022-07-17T18:46:01.722Z"
   },
   {
    "duration": 434,
    "start_time": "2022-07-17T18:46:01.728Z"
   },
   {
    "duration": 410,
    "start_time": "2022-07-17T18:46:02.163Z"
   },
   {
    "duration": 526,
    "start_time": "2022-07-17T18:46:02.575Z"
   },
   {
    "duration": 12,
    "start_time": "2022-07-17T18:46:03.103Z"
   },
   {
    "duration": 26,
    "start_time": "2022-07-17T18:46:03.120Z"
   },
   {
    "duration": 1367,
    "start_time": "2022-07-18T17:40:53.872Z"
   },
   {
    "duration": 177,
    "start_time": "2022-07-18T17:40:55.242Z"
   },
   {
    "duration": 28,
    "start_time": "2022-07-18T17:40:56.364Z"
   },
   {
    "duration": 15,
    "start_time": "2022-07-18T17:40:57.267Z"
   },
   {
    "duration": 4,
    "start_time": "2022-07-18T17:41:00.223Z"
   },
   {
    "duration": 5,
    "start_time": "2022-07-18T17:41:01.079Z"
   },
   {
    "duration": 9,
    "start_time": "2022-07-18T17:41:02.046Z"
   },
   {
    "duration": 7,
    "start_time": "2022-07-18T17:42:56.426Z"
   },
   {
    "duration": 8,
    "start_time": "2022-07-18T17:42:59.717Z"
   },
   {
    "duration": 6,
    "start_time": "2022-07-18T17:43:06.353Z"
   },
   {
    "duration": 24,
    "start_time": "2022-07-18T17:43:08.227Z"
   },
   {
    "duration": 11,
    "start_time": "2022-07-18T17:43:09.516Z"
   },
   {
    "duration": 11,
    "start_time": "2022-07-18T17:43:11.453Z"
   },
   {
    "duration": 4,
    "start_time": "2022-07-18T17:43:23.958Z"
   },
   {
    "duration": 4,
    "start_time": "2022-07-18T17:43:24.943Z"
   },
   {
    "duration": 5,
    "start_time": "2022-07-18T17:43:49.437Z"
   },
   {
    "duration": 19,
    "start_time": "2022-07-18T17:44:00.322Z"
   },
   {
    "duration": 14,
    "start_time": "2022-07-18T17:44:22.211Z"
   },
   {
    "duration": 7,
    "start_time": "2022-07-18T17:44:26.151Z"
   },
   {
    "duration": 120,
    "start_time": "2022-07-18T17:55:25.636Z"
   },
   {
    "duration": 302,
    "start_time": "2022-07-18T17:56:57.288Z"
   },
   {
    "duration": 403,
    "start_time": "2022-07-18T17:57:14.990Z"
   },
   {
    "duration": 358,
    "start_time": "2022-07-18T17:57:35.295Z"
   },
   {
    "duration": 38,
    "start_time": "2022-07-18T18:05:42.847Z"
   },
   {
    "duration": 4,
    "start_time": "2022-07-18T18:06:07.474Z"
   },
   {
    "duration": 206,
    "start_time": "2022-07-18T18:06:07.675Z"
   },
   {
    "duration": 268,
    "start_time": "2022-07-18T18:06:42.249Z"
   },
   {
    "duration": 198,
    "start_time": "2022-07-18T18:10:46.140Z"
   },
   {
    "duration": 32,
    "start_time": "2022-07-18T18:13:31.549Z"
   },
   {
    "duration": 9,
    "start_time": "2022-07-18T18:13:35.282Z"
   },
   {
    "duration": 178,
    "start_time": "2022-07-18T18:13:38.241Z"
   },
   {
    "duration": 24,
    "start_time": "2022-07-18T18:16:32.940Z"
   },
   {
    "duration": 5,
    "start_time": "2022-07-18T18:16:37.540Z"
   },
   {
    "duration": 282,
    "start_time": "2022-07-18T18:16:39.191Z"
   },
   {
    "duration": 36,
    "start_time": "2022-07-18T18:16:43.653Z"
   },
   {
    "duration": 7,
    "start_time": "2022-07-18T18:16:48.406Z"
   },
   {
    "duration": 173,
    "start_time": "2022-07-18T18:16:49.922Z"
   },
   {
    "duration": 32,
    "start_time": "2022-07-18T18:17:16.521Z"
   },
   {
    "duration": 1235,
    "start_time": "2022-07-18T18:17:48.694Z"
   },
   {
    "duration": 55,
    "start_time": "2022-07-18T18:17:49.932Z"
   },
   {
    "duration": 28,
    "start_time": "2022-07-18T18:17:49.990Z"
   },
   {
    "duration": 22,
    "start_time": "2022-07-18T18:17:50.022Z"
   },
   {
    "duration": 3,
    "start_time": "2022-07-18T18:17:50.046Z"
   },
   {
    "duration": 19,
    "start_time": "2022-07-18T18:17:50.051Z"
   },
   {
    "duration": 8,
    "start_time": "2022-07-18T18:17:50.072Z"
   },
   {
    "duration": 14,
    "start_time": "2022-07-18T18:17:50.082Z"
   },
   {
    "duration": 13,
    "start_time": "2022-07-18T18:17:50.110Z"
   },
   {
    "duration": 13,
    "start_time": "2022-07-18T18:17:50.127Z"
   },
   {
    "duration": 19,
    "start_time": "2022-07-18T18:17:50.142Z"
   },
   {
    "duration": 10,
    "start_time": "2022-07-18T18:17:50.163Z"
   },
   {
    "duration": 41,
    "start_time": "2022-07-18T18:17:50.175Z"
   },
   {
    "duration": 6,
    "start_time": "2022-07-18T18:17:50.219Z"
   },
   {
    "duration": 8,
    "start_time": "2022-07-18T18:17:50.228Z"
   },
   {
    "duration": 7,
    "start_time": "2022-07-18T18:17:50.237Z"
   },
   {
    "duration": 15,
    "start_time": "2022-07-18T18:17:50.245Z"
   },
   {
    "duration": 9,
    "start_time": "2022-07-18T18:17:50.262Z"
   },
   {
    "duration": 9,
    "start_time": "2022-07-18T18:17:50.272Z"
   },
   {
    "duration": 63,
    "start_time": "2022-07-18T18:17:50.282Z"
   },
   {
    "duration": 258,
    "start_time": "2022-07-18T18:17:50.346Z"
   },
   {
    "duration": 457,
    "start_time": "2022-07-18T18:17:50.611Z"
   },
   {
    "duration": 376,
    "start_time": "2022-07-18T18:17:51.070Z"
   },
   {
    "duration": 27,
    "start_time": "2022-07-18T18:17:51.448Z"
   },
   {
    "duration": 5,
    "start_time": "2022-07-18T18:17:51.477Z"
   },
   {
    "duration": 224,
    "start_time": "2022-07-18T18:17:51.484Z"
   },
   {
    "duration": 42,
    "start_time": "2022-07-18T18:17:51.710Z"
   },
   {
    "duration": 6,
    "start_time": "2022-07-18T18:17:51.756Z"
   },
   {
    "duration": 233,
    "start_time": "2022-07-18T18:17:51.763Z"
   },
   {
    "duration": 12,
    "start_time": "2022-07-18T18:17:51.999Z"
   },
   {
    "duration": 234,
    "start_time": "2022-07-18T18:17:52.013Z"
   },
   {
    "duration": 84,
    "start_time": "2022-07-18T18:17:52.249Z"
   },
   {
    "duration": 1726,
    "start_time": "2022-07-18T18:17:52.335Z"
   },
   {
    "duration": 17,
    "start_time": "2022-07-18T18:17:54.063Z"
   },
   {
    "duration": 262,
    "start_time": "2022-07-18T18:17:54.082Z"
   },
   {
    "duration": 4,
    "start_time": "2022-07-18T18:17:54.346Z"
   },
   {
    "duration": 453,
    "start_time": "2022-07-18T18:17:54.352Z"
   },
   {
    "duration": 470,
    "start_time": "2022-07-18T18:17:54.809Z"
   },
   {
    "duration": 569,
    "start_time": "2022-07-18T18:17:55.281Z"
   },
   {
    "duration": 18,
    "start_time": "2022-07-18T18:17:55.851Z"
   },
   {
    "duration": 19,
    "start_time": "2022-07-18T18:17:55.871Z"
   },
   {
    "duration": 26,
    "start_time": "2022-07-18T18:18:31.625Z"
   },
   {
    "duration": 4,
    "start_time": "2022-07-18T18:20:12.256Z"
   },
   {
    "duration": 27,
    "start_time": "2022-07-18T18:21:09.751Z"
   },
   {
    "duration": 6,
    "start_time": "2022-07-18T18:21:13.386Z"
   },
   {
    "duration": 239,
    "start_time": "2022-07-18T18:21:15.211Z"
   },
   {
    "duration": 45,
    "start_time": "2022-07-18T18:21:33.445Z"
   },
   {
    "duration": 8,
    "start_time": "2022-07-18T18:21:38.559Z"
   },
   {
    "duration": 232,
    "start_time": "2022-07-18T18:21:39.975Z"
   },
   {
    "duration": 41,
    "start_time": "2022-07-18T18:22:47.092Z"
   },
   {
    "duration": 5,
    "start_time": "2022-07-18T18:23:06.901Z"
   },
   {
    "duration": 208,
    "start_time": "2022-07-18T18:23:09.534Z"
   },
   {
    "duration": 35,
    "start_time": "2022-07-18T18:26:16.926Z"
   },
   {
    "duration": 24,
    "start_time": "2022-07-18T18:33:38.230Z"
   },
   {
    "duration": 5,
    "start_time": "2022-07-18T18:33:50.369Z"
   },
   {
    "duration": 206,
    "start_time": "2022-07-18T18:33:51.264Z"
   },
   {
    "duration": 13,
    "start_time": "2022-07-18T18:36:15.030Z"
   },
   {
    "duration": 245,
    "start_time": "2022-07-18T18:36:15.164Z"
   },
   {
    "duration": 229,
    "start_time": "2022-07-18T18:36:41.483Z"
   },
   {
    "duration": 12,
    "start_time": "2022-07-18T18:38:36.822Z"
   },
   {
    "duration": 233,
    "start_time": "2022-07-18T18:38:56.667Z"
   },
   {
    "duration": 10,
    "start_time": "2022-07-18T18:42:02.914Z"
   },
   {
    "duration": 1932,
    "start_time": "2022-07-18T18:42:08.667Z"
   },
   {
    "duration": 5,
    "start_time": "2022-07-18T18:48:14.147Z"
   },
   {
    "duration": 70,
    "start_time": "2022-07-18T18:49:13.401Z"
   },
   {
    "duration": 105,
    "start_time": "2022-07-18T18:49:23.255Z"
   },
   {
    "duration": 93,
    "start_time": "2022-07-18T18:52:30.454Z"
   },
   {
    "duration": 73,
    "start_time": "2022-07-18T18:53:12.551Z"
   },
   {
    "duration": 75,
    "start_time": "2022-07-18T18:53:19.678Z"
   },
   {
    "duration": 78,
    "start_time": "2022-07-18T18:53:28.754Z"
   },
   {
    "duration": 75,
    "start_time": "2022-07-18T18:53:40.148Z"
   },
   {
    "duration": 106,
    "start_time": "2022-07-18T18:54:57.899Z"
   },
   {
    "duration": 11,
    "start_time": "2022-07-18T18:56:00.427Z"
   },
   {
    "duration": 10,
    "start_time": "2022-07-18T18:57:40.082Z"
   },
   {
    "duration": 9,
    "start_time": "2022-07-18T18:58:50.205Z"
   },
   {
    "duration": 9,
    "start_time": "2022-07-18T18:59:37.419Z"
   },
   {
    "duration": 14,
    "start_time": "2022-07-18T19:00:45.356Z"
   },
   {
    "duration": 1189,
    "start_time": "2022-07-18T19:00:55.549Z"
   },
   {
    "duration": 54,
    "start_time": "2022-07-18T19:00:56.740Z"
   },
   {
    "duration": 28,
    "start_time": "2022-07-18T19:00:56.795Z"
   },
   {
    "duration": 14,
    "start_time": "2022-07-18T19:00:56.825Z"
   },
   {
    "duration": 4,
    "start_time": "2022-07-18T19:00:56.841Z"
   },
   {
    "duration": 9,
    "start_time": "2022-07-18T19:00:56.847Z"
   },
   {
    "duration": 11,
    "start_time": "2022-07-18T19:00:56.857Z"
   },
   {
    "duration": 11,
    "start_time": "2022-07-18T19:00:56.869Z"
   },
   {
    "duration": 32,
    "start_time": "2022-07-18T19:00:56.882Z"
   },
   {
    "duration": 5,
    "start_time": "2022-07-18T19:00:56.918Z"
   },
   {
    "duration": 21,
    "start_time": "2022-07-18T19:00:56.925Z"
   },
   {
    "duration": 9,
    "start_time": "2022-07-18T19:00:56.948Z"
   },
   {
    "duration": 13,
    "start_time": "2022-07-18T19:00:56.959Z"
   },
   {
    "duration": 5,
    "start_time": "2022-07-18T19:00:56.974Z"
   },
   {
    "duration": 31,
    "start_time": "2022-07-18T19:00:56.981Z"
   },
   {
    "duration": 8,
    "start_time": "2022-07-18T19:00:57.014Z"
   },
   {
    "duration": 15,
    "start_time": "2022-07-18T19:00:57.024Z"
   },
   {
    "duration": 9,
    "start_time": "2022-07-18T19:00:57.041Z"
   },
   {
    "duration": 6,
    "start_time": "2022-07-18T19:00:57.052Z"
   },
   {
    "duration": 25,
    "start_time": "2022-07-18T19:00:57.060Z"
   },
   {
    "duration": 245,
    "start_time": "2022-07-18T19:00:57.087Z"
   },
   {
    "duration": 426,
    "start_time": "2022-07-18T19:00:57.334Z"
   },
   {
    "duration": 368,
    "start_time": "2022-07-18T19:00:57.762Z"
   },
   {
    "duration": 26,
    "start_time": "2022-07-18T19:00:58.132Z"
   },
   {
    "duration": 4,
    "start_time": "2022-07-18T19:00:58.159Z"
   },
   {
    "duration": 199,
    "start_time": "2022-07-18T19:00:58.165Z"
   },
   {
    "duration": 45,
    "start_time": "2022-07-18T19:00:58.366Z"
   },
   {
    "duration": 8,
    "start_time": "2022-07-18T19:00:58.415Z"
   },
   {
    "duration": 241,
    "start_time": "2022-07-18T19:00:58.424Z"
   },
   {
    "duration": 8,
    "start_time": "2022-07-18T19:00:58.667Z"
   },
   {
    "duration": 247,
    "start_time": "2022-07-18T19:00:58.677Z"
   },
   {
    "duration": 89,
    "start_time": "2022-07-18T19:00:58.927Z"
   },
   {
    "duration": 10,
    "start_time": "2022-07-18T19:00:59.019Z"
   },
   {
    "duration": 1768,
    "start_time": "2022-07-18T19:00:59.032Z"
   },
   {
    "duration": 22,
    "start_time": "2022-07-18T19:01:00.802Z"
   },
   {
    "duration": 256,
    "start_time": "2022-07-18T19:01:00.826Z"
   },
   {
    "duration": 5,
    "start_time": "2022-07-18T19:01:01.085Z"
   },
   {
    "duration": 460,
    "start_time": "2022-07-18T19:01:01.092Z"
   },
   {
    "duration": 533,
    "start_time": "2022-07-18T19:01:01.553Z"
   },
   {
    "duration": 673,
    "start_time": "2022-07-18T19:01:02.088Z"
   },
   {
    "duration": 13,
    "start_time": "2022-07-18T19:01:02.763Z"
   },
   {
    "duration": 15,
    "start_time": "2022-07-18T19:01:02.778Z"
   },
   {
    "duration": 2686,
    "start_time": "2022-07-18T19:03:02.103Z"
   },
   {
    "duration": 3493,
    "start_time": "2022-07-18T19:03:52.642Z"
   },
   {
    "duration": 1946,
    "start_time": "2022-07-18T19:04:37.053Z"
   },
   {
    "duration": 1746,
    "start_time": "2022-07-18T19:06:58.122Z"
   },
   {
    "duration": 1803,
    "start_time": "2022-07-18T19:07:56.845Z"
   },
   {
    "duration": 741,
    "start_time": "2022-07-18T19:09:40.232Z"
   },
   {
    "duration": 16,
    "start_time": "2022-07-18T19:20:21.222Z"
   },
   {
    "duration": 241,
    "start_time": "2022-07-18T19:21:36.164Z"
   },
   {
    "duration": 5,
    "start_time": "2022-07-18T19:27:52.753Z"
   },
   {
    "duration": 438,
    "start_time": "2022-07-18T19:27:57.013Z"
   },
   {
    "duration": 475,
    "start_time": "2022-07-18T19:28:01.172Z"
   },
   {
    "duration": 434,
    "start_time": "2022-07-18T19:28:14.019Z"
   },
   {
    "duration": 11,
    "start_time": "2022-07-18T19:40:07.808Z"
   },
   {
    "duration": 12,
    "start_time": "2022-07-18T19:43:27.132Z"
   },
   {
    "duration": 240,
    "start_time": "2022-07-18T20:59:07.160Z"
   },
   {
    "duration": 349,
    "start_time": "2022-07-18T20:59:24.166Z"
   },
   {
    "duration": 246,
    "start_time": "2022-07-18T21:00:28.635Z"
   },
   {
    "duration": 242,
    "start_time": "2022-07-18T21:00:50.098Z"
   },
   {
    "duration": 254,
    "start_time": "2022-07-18T21:02:01.353Z"
   },
   {
    "duration": 247,
    "start_time": "2022-07-18T21:02:30.759Z"
   }
  ],
  "kernelspec": {
   "display_name": "Python 3 (ipykernel)",
   "language": "python",
   "name": "python3"
  },
  "language_info": {
   "codemirror_mode": {
    "name": "ipython",
    "version": 3
   },
   "file_extension": ".py",
   "mimetype": "text/x-python",
   "name": "python",
   "nbconvert_exporter": "python",
   "pygments_lexer": "ipython3",
   "version": "3.9.5"
  },
  "toc": {
   "base_numbering": 1,
   "nav_menu": {},
   "number_sections": true,
   "sideBar": true,
   "skip_h1_title": true,
   "title_cell": "Table of Contents",
   "title_sidebar": "Contents",
   "toc_cell": false,
   "toc_position": {},
   "toc_section_display": true,
   "toc_window_display": false
  }
 },
 "nbformat": 4,
 "nbformat_minor": 2
}
