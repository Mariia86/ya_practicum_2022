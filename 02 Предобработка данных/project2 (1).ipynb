{
 "cells": [
  {
   "cell_type": "markdown",
   "id": "c81daeeb",
   "metadata": {
    "deletable": false,
    "id": "c81daeeb"
   },
   "source": [
    "# Исследование надежности заемщиков\n"
   ]
  },
  {
   "cell_type": "markdown",
   "id": "827c20bf",
   "metadata": {
    "id": "827c20bf"
   },
   "source": [
    "Заказчик — кредитный отдел банка. Нужно разобраться, влияет ли семейное положение и количество детей клиента на факт погашения кредита в срок. Входные данные от банка — статистика о платёжеспособности клиентов.\n",
    "\n",
    "Результаты исследования будут учтены при построении модели кредитного скоринга — специальной системы, которая оценивает способность потенциального заёмщика вернуть кредит банку.\n"
   ]
  },
  {
   "cell_type": "markdown",
   "id": "1cd61307",
   "metadata": {},
   "source": [
    "# Описание проекта."
   ]
  },
  {
   "cell_type": "markdown",
   "id": "1c03dcf8",
   "metadata": {},
   "source": [
    "По представленным статичтическим данным о платежеспособности клиентов банка необходимо провести исследование- влияет ли семейное положение и количество детей клиента на факт погашения кредита в срок. Результаты исследования будут учтены при построении модели кредитного скоринга — специальной системы, которая оценивает способность потенциального заёмщика вернуть кредит банку.  \n",
    "Цель исследования — проверить гипотезы:\n",
    "Существует ли зависимость:\n",
    "\n",
    "-между наличием детей и возвратом кредита в срок;  \n",
    "-между семейным положением и возвратом кредита в срок;  \n",
    "-между уровнем дохода и возвратом кредита в срок;   \n",
    "-между целью кредита и его возврат в срок.  \n",
    "Ход исследования:  \n",
    "Данные о поведении пользователей (статистика о платёжеспособности клиентов)- в файле /datasets/data.csv. О качестве данных ничего не известно. Поэтому перед проверкой гипотез понадобится обзор данных.  \n",
    "\n",
    "Проверим данные на ошибки и оценим их влияние на исследование. Затем, на этапе предобработки поищем возможность исправить самые критичные ошибки данных.  \n",
    "\n",
    "Таким образом, исследование пройдёт в три этапа:  \n",
    "\n",
    "Обзор данных.  \n",
    "Предобработка данных.  \n",
    "Проверка гипотез."
   ]
  },
  {
   "cell_type": "markdown",
   "id": "744d7639",
   "metadata": {
    "deletable": false,
    "id": "744d7639"
   },
   "source": [
    "## Обзор данных"
   ]
  },
  {
   "cell_type": "markdown",
   "id": "e7a14c31",
   "metadata": {
    "deletable": false,
    "id": "e7a14c31"
   },
   "source": [
    "#### Импортируем библиотеку pandas. Считываем данные из csv-файла в датафрейм и сохраняем в переменную `data`. \n",
    "\n",
    "`/datasets/data.csv`"
   ]
  },
  {
   "cell_type": "code",
   "execution_count": 1,
   "id": "7bcf75c9",
   "metadata": {
    "deletable": false,
    "id": "7bcf75c9"
   },
   "outputs": [],
   "source": [
    "import pandas as pd\n",
    "\n",
    "try:\n",
    "    data = pd.read_csv('/datasets/data.csv')\n",
    "except:\n",
    "    data = pd.read_csv('https://code.s3.yandex.net/datasets/data.csv')"
   ]
  },
  {
   "cell_type": "markdown",
   "id": "b8038fe3",
   "metadata": {
    "deletable": false,
    "id": "b8038fe3"
   },
   "source": [
    "#### Выведем первые 5 строчек датафрейма `data` на экран."
   ]
  },
  {
   "cell_type": "code",
   "execution_count": 2,
   "id": "2a7cab99",
   "metadata": {
    "deletable": false,
    "id": "2a7cab99",
    "outputId": "1a8f3ef2-d323-4ec2-ddf7-89670b5944c4"
   },
   "outputs": [
    {
     "data": {
      "text/html": [
       "<div>\n",
       "<style scoped>\n",
       "    .dataframe tbody tr th:only-of-type {\n",
       "        vertical-align: middle;\n",
       "    }\n",
       "\n",
       "    .dataframe tbody tr th {\n",
       "        vertical-align: top;\n",
       "    }\n",
       "\n",
       "    .dataframe thead th {\n",
       "        text-align: right;\n",
       "    }\n",
       "</style>\n",
       "<table border=\"1\" class=\"dataframe\">\n",
       "  <thead>\n",
       "    <tr style=\"text-align: right;\">\n",
       "      <th></th>\n",
       "      <th>children</th>\n",
       "      <th>days_employed</th>\n",
       "      <th>dob_years</th>\n",
       "      <th>education</th>\n",
       "      <th>education_id</th>\n",
       "      <th>family_status</th>\n",
       "      <th>family_status_id</th>\n",
       "      <th>gender</th>\n",
       "      <th>income_type</th>\n",
       "      <th>debt</th>\n",
       "      <th>total_income</th>\n",
       "      <th>purpose</th>\n",
       "    </tr>\n",
       "  </thead>\n",
       "  <tbody>\n",
       "    <tr>\n",
       "      <th>0</th>\n",
       "      <td>1</td>\n",
       "      <td>-8437.673028</td>\n",
       "      <td>42</td>\n",
       "      <td>высшее</td>\n",
       "      <td>0</td>\n",
       "      <td>женат / замужем</td>\n",
       "      <td>0</td>\n",
       "      <td>F</td>\n",
       "      <td>сотрудник</td>\n",
       "      <td>0</td>\n",
       "      <td>253875.639453</td>\n",
       "      <td>покупка жилья</td>\n",
       "    </tr>\n",
       "    <tr>\n",
       "      <th>1</th>\n",
       "      <td>1</td>\n",
       "      <td>-4024.803754</td>\n",
       "      <td>36</td>\n",
       "      <td>среднее</td>\n",
       "      <td>1</td>\n",
       "      <td>женат / замужем</td>\n",
       "      <td>0</td>\n",
       "      <td>F</td>\n",
       "      <td>сотрудник</td>\n",
       "      <td>0</td>\n",
       "      <td>112080.014102</td>\n",
       "      <td>приобретение автомобиля</td>\n",
       "    </tr>\n",
       "    <tr>\n",
       "      <th>2</th>\n",
       "      <td>0</td>\n",
       "      <td>-5623.422610</td>\n",
       "      <td>33</td>\n",
       "      <td>Среднее</td>\n",
       "      <td>1</td>\n",
       "      <td>женат / замужем</td>\n",
       "      <td>0</td>\n",
       "      <td>M</td>\n",
       "      <td>сотрудник</td>\n",
       "      <td>0</td>\n",
       "      <td>145885.952297</td>\n",
       "      <td>покупка жилья</td>\n",
       "    </tr>\n",
       "    <tr>\n",
       "      <th>3</th>\n",
       "      <td>3</td>\n",
       "      <td>-4124.747207</td>\n",
       "      <td>32</td>\n",
       "      <td>среднее</td>\n",
       "      <td>1</td>\n",
       "      <td>женат / замужем</td>\n",
       "      <td>0</td>\n",
       "      <td>M</td>\n",
       "      <td>сотрудник</td>\n",
       "      <td>0</td>\n",
       "      <td>267628.550329</td>\n",
       "      <td>дополнительное образование</td>\n",
       "    </tr>\n",
       "    <tr>\n",
       "      <th>4</th>\n",
       "      <td>0</td>\n",
       "      <td>340266.072047</td>\n",
       "      <td>53</td>\n",
       "      <td>среднее</td>\n",
       "      <td>1</td>\n",
       "      <td>гражданский брак</td>\n",
       "      <td>1</td>\n",
       "      <td>F</td>\n",
       "      <td>пенсионер</td>\n",
       "      <td>0</td>\n",
       "      <td>158616.077870</td>\n",
       "      <td>сыграть свадьбу</td>\n",
       "    </tr>\n",
       "  </tbody>\n",
       "</table>\n",
       "</div>"
      ],
      "text/plain": [
       "   children  days_employed  dob_years education  education_id  \\\n",
       "0         1   -8437.673028         42    высшее             0   \n",
       "1         1   -4024.803754         36   среднее             1   \n",
       "2         0   -5623.422610         33   Среднее             1   \n",
       "3         3   -4124.747207         32   среднее             1   \n",
       "4         0  340266.072047         53   среднее             1   \n",
       "\n",
       "      family_status  family_status_id gender income_type  debt   total_income  \\\n",
       "0   женат / замужем                 0      F   сотрудник     0  253875.639453   \n",
       "1   женат / замужем                 0      F   сотрудник     0  112080.014102   \n",
       "2   женат / замужем                 0      M   сотрудник     0  145885.952297   \n",
       "3   женат / замужем                 0      M   сотрудник     0  267628.550329   \n",
       "4  гражданский брак                 1      F   пенсионер     0  158616.077870   \n",
       "\n",
       "                      purpose  \n",
       "0               покупка жилья  \n",
       "1     приобретение автомобиля  \n",
       "2               покупка жилья  \n",
       "3  дополнительное образование  \n",
       "4             сыграть свадьбу  "
      ]
     },
     "execution_count": 2,
     "metadata": {},
     "output_type": "execute_result"
    }
   ],
   "source": [
    "data.head(5)"
   ]
  },
  {
   "cell_type": "markdown",
   "id": "1c12e233",
   "metadata": {
    "deletable": false,
    "id": "1c12e233"
   },
   "source": [
    "#### Выведем основную информацию о датафрейме с помощью метода `info()`."
   ]
  },
  {
   "cell_type": "code",
   "execution_count": 3,
   "id": "2b757bca",
   "metadata": {
    "deletable": false,
    "id": "2b757bca",
    "outputId": "15376089-8dad-46c9-b520-c05248d43158"
   },
   "outputs": [
    {
     "name": "stdout",
     "output_type": "stream",
     "text": [
      "<class 'pandas.core.frame.DataFrame'>\n",
      "RangeIndex: 21525 entries, 0 to 21524\n",
      "Data columns (total 12 columns):\n",
      " #   Column            Non-Null Count  Dtype  \n",
      "---  ------            --------------  -----  \n",
      " 0   children          21525 non-null  int64  \n",
      " 1   days_employed     19351 non-null  float64\n",
      " 2   dob_years         21525 non-null  int64  \n",
      " 3   education         21525 non-null  object \n",
      " 4   education_id      21525 non-null  int64  \n",
      " 5   family_status     21525 non-null  object \n",
      " 6   family_status_id  21525 non-null  int64  \n",
      " 7   gender            21525 non-null  object \n",
      " 8   income_type       21525 non-null  object \n",
      " 9   debt              21525 non-null  int64  \n",
      " 10  total_income      19351 non-null  float64\n",
      " 11  purpose           21525 non-null  object \n",
      "dtypes: float64(2), int64(5), object(5)\n",
      "memory usage: 2.0+ MB\n"
     ]
    }
   ],
   "source": [
    "data.info()"
   ]
  },
  {
   "cell_type": "markdown",
   "id": "333ec665",
   "metadata": {
    "deletable": false,
    "id": "333ec665"
   },
   "source": [
    "## Предобработка данных"
   ]
  },
  {
   "cell_type": "markdown",
   "id": "02d92d53",
   "metadata": {
    "deletable": false,
    "id": "02d92d53"
   },
   "source": [
    "### Удаление пропусков"
   ]
  },
  {
   "cell_type": "markdown",
   "id": "cd84967c",
   "metadata": {
    "deletable": false,
    "id": "cd84967c"
   },
   "source": [
    "#### Выведем количество пропущенных значений для каждого столбца."
   ]
  },
  {
   "cell_type": "code",
   "execution_count": 4,
   "id": "7f9b2309",
   "metadata": {
    "deletable": false,
    "id": "7f9b2309",
    "outputId": "81f4d817-781c-465c-ed15-91ce4446810d"
   },
   "outputs": [
    {
     "data": {
      "text/plain": [
       "children               0\n",
       "days_employed       2174\n",
       "dob_years              0\n",
       "education              0\n",
       "education_id           0\n",
       "family_status          0\n",
       "family_status_id       0\n",
       "gender                 0\n",
       "income_type            0\n",
       "debt                   0\n",
       "total_income        2174\n",
       "purpose                0\n",
       "dtype: int64"
      ]
     },
     "execution_count": 4,
     "metadata": {},
     "output_type": "execute_result"
    }
   ],
   "source": [
    "data.isna().sum()"
   ]
  },
  {
   "cell_type": "markdown",
   "id": "db86e27b",
   "metadata": {
    "deletable": false,
    "id": "db86e27b"
   },
   "source": [
    "####  Заполним пропуски медианным значением по каждому типу из столбца `income_type`."
   ]
  },
  {
   "cell_type": "code",
   "execution_count": 5,
   "id": "42006a93",
   "metadata": {
    "deletable": false,
    "id": "42006a93"
   },
   "outputs": [],
   "source": [
    "for t in data['income_type'].unique():\n",
    "    data.loc[(data['income_type'] == t) & (data['total_income'].isna()), 'total_income'] = \\\n",
    "    data.loc[(data['income_type'] == t), 'total_income'].median()"
   ]
  },
  {
   "cell_type": "markdown",
   "id": "89da5ece",
   "metadata": {
    "deletable": false,
    "id": "89da5ece"
   },
   "source": [
    "### Обработка аномальных значений"
   ]
  },
  {
   "cell_type": "markdown",
   "id": "57964554",
   "metadata": {
    "deletable": false,
    "id": "57964554"
   },
   "source": [
    "#### Заменим все отрицательные значения положительными с помощью метода `abs()`."
   ]
  },
  {
   "cell_type": "code",
   "execution_count": 6,
   "id": "f6f055bf",
   "metadata": {
    "deletable": false,
    "id": "f6f055bf"
   },
   "outputs": [],
   "source": [
    "data['days_employed'] = data['days_employed'].abs()"
   ]
  },
  {
   "cell_type": "markdown",
   "id": "6107dd2f",
   "metadata": {
    "deletable": false,
    "id": "6107dd2f"
   },
   "source": [
    "#### Выведем медианное значение трудового стажа `days_employed` в днях."
   ]
  },
  {
   "cell_type": "code",
   "execution_count": 7,
   "id": "85a5faf6",
   "metadata": {
    "deletable": false,
    "id": "85a5faf6",
    "outputId": "801ef80e-522b-4668-f34e-565af7432bcf"
   },
   "outputs": [
    {
     "data": {
      "text/plain": [
       "income_type\n",
       "безработный        366413.652744\n",
       "в декрете            3296.759962\n",
       "госслужащий          2689.368353\n",
       "компаньон            1547.382223\n",
       "пенсионер          365213.306266\n",
       "предприниматель       520.848083\n",
       "сотрудник            1574.202821\n",
       "студент               578.751554\n",
       "Name: days_employed, dtype: float64"
      ]
     },
     "execution_count": 7,
     "metadata": {},
     "output_type": "execute_result"
    }
   ],
   "source": [
    "data.groupby('income_type')['days_employed'].agg('median')"
   ]
  },
  {
   "cell_type": "markdown",
   "id": "38d1a030",
   "metadata": {
    "deletable": false,
    "id": "38d1a030"
   },
   "source": [
    "У двух типов (безработные и пенсионеры) получатся аномально большие значения. Исправить такие значения сложно, поэтому оставьте их как есть. Тем более этот столбец не понадобится вам для исследования."
   ]
  },
  {
   "cell_type": "markdown",
   "id": "d8a9f147",
   "metadata": {
    "deletable": false,
    "id": "d8a9f147"
   },
   "source": [
    "#### Выведем перечень уникальных значений столбца `children`."
   ]
  },
  {
   "cell_type": "code",
   "execution_count": 8,
   "id": "ef5056eb",
   "metadata": {
    "deletable": false,
    "id": "ef5056eb",
    "outputId": "6975b15c-7f95-4697-d16d-a0c79b657b03"
   },
   "outputs": [
    {
     "data": {
      "text/plain": [
       "array([ 1,  0,  3,  2, -1,  4, 20,  5], dtype=int64)"
      ]
     },
     "execution_count": 8,
     "metadata": {},
     "output_type": "execute_result"
    }
   ],
   "source": [
    "data['children'].unique()"
   ]
  },
  {
   "cell_type": "markdown",
   "id": "40b9ebf2",
   "metadata": {
    "deletable": false,
    "id": "40b9ebf2"
   },
   "source": [
    "#### В столбце `children` есть два аномальных значения. Удалим строки, в которых встречаются такие аномальные значения из датафрейма `data`.**"
   ]
  },
  {
   "cell_type": "code",
   "execution_count": 9,
   "id": "3ff9801d",
   "metadata": {
    "deletable": false,
    "id": "3ff9801d"
   },
   "outputs": [],
   "source": [
    "data = data[(data['children'] != -1) & (data['children'] != 20)]"
   ]
  },
  {
   "cell_type": "markdown",
   "id": "bbc4d0ce",
   "metadata": {
    "deletable": false,
    "id": "bbc4d0ce"
   },
   "source": [
    "#### Ещё раз выведите перечень уникальных значений столбца `children`, чтобы убедиться, что артефакты удалены."
   ]
  },
  {
   "cell_type": "code",
   "execution_count": 10,
   "id": "ad4fa8b7",
   "metadata": {
    "deletable": false,
    "id": "ad4fa8b7",
    "outputId": "b2097101-d49d-44d9-901b-32a65c9463d1"
   },
   "outputs": [
    {
     "data": {
      "text/plain": [
       "array([1, 0, 3, 2, 4, 5], dtype=int64)"
      ]
     },
     "execution_count": 10,
     "metadata": {},
     "output_type": "execute_result"
    }
   ],
   "source": [
    "data['children'].unique()"
   ]
  },
  {
   "cell_type": "markdown",
   "id": "75440b63",
   "metadata": {
    "deletable": false,
    "id": "75440b63"
   },
   "source": [
    "### Удаление пропусков (продолжение)"
   ]
  },
  {
   "cell_type": "markdown",
   "id": "f4ea573f",
   "metadata": {
    "deletable": false,
    "id": "f4ea573f"
   },
   "source": [
    "#### Заполним пропуски в столбце `days_employed` медианными значениями по каждого типа занятости `income_type`."
   ]
  },
  {
   "cell_type": "code",
   "execution_count": 11,
   "id": "af6b1a7e",
   "metadata": {
    "deletable": false,
    "id": "af6b1a7e"
   },
   "outputs": [],
   "source": [
    "for t in data['income_type'].unique():\n",
    "    data.loc[(data['income_type'] == t) & (data['days_employed'].isna()), 'days_employed'] = \\\n",
    "    data.loc[(data['income_type'] == t), 'days_employed'].median()"
   ]
  },
  {
   "cell_type": "markdown",
   "id": "2753f40d",
   "metadata": {
    "deletable": false,
    "id": "2753f40d"
   },
   "source": [
    "#### Выведем количество пропущенных значений для каждого столбца с помощью двух методов. "
   ]
  },
  {
   "cell_type": "code",
   "execution_count": 12,
   "id": "55f78bc2",
   "metadata": {
    "deletable": false,
    "id": "55f78bc2",
    "outputId": "8da1e4e1-358e-4e87-98c9-f261bce0a7b2"
   },
   "outputs": [
    {
     "data": {
      "text/plain": [
       "children            0\n",
       "days_employed       0\n",
       "dob_years           0\n",
       "education           0\n",
       "education_id        0\n",
       "family_status       0\n",
       "family_status_id    0\n",
       "gender              0\n",
       "income_type         0\n",
       "debt                0\n",
       "total_income        0\n",
       "purpose             0\n",
       "dtype: int64"
      ]
     },
     "execution_count": 12,
     "metadata": {},
     "output_type": "execute_result"
    }
   ],
   "source": [
    "data.isna().sum()"
   ]
  },
  {
   "cell_type": "markdown",
   "id": "ddc81e43",
   "metadata": {
    "deletable": false,
    "id": "ddc81e43"
   },
   "source": [
    "### Изменение типов данных"
   ]
  },
  {
   "cell_type": "markdown",
   "id": "42d19d24",
   "metadata": {
    "deletable": false,
    "id": "42d19d24"
   },
   "source": [
    "#### Заменим вещественный тип данных в столбце `total_income` на целочисленный с помощью метода `astype()`."
   ]
  },
  {
   "cell_type": "code",
   "execution_count": 13,
   "id": "920b65ad",
   "metadata": {
    "deletable": false,
    "id": "920b65ad"
   },
   "outputs": [],
   "source": [
    "data['total_income'] = data['total_income'].astype(int)"
   ]
  },
  {
   "cell_type": "markdown",
   "id": "80c420ba",
   "metadata": {
    "deletable": false,
    "id": "80c420ba"
   },
   "source": [
    "### Обработка дубликатов"
   ]
  },
  {
   "cell_type": "markdown",
   "id": "dc587695",
   "metadata": {
    "deletable": false,
    "id": "dc587695"
   },
   "source": [
    "#### Выведем на экран количество строк-дубликатов в данных. Если такие строки присутствуют, удалим их."
   ]
  },
  {
   "cell_type": "code",
   "execution_count": 14,
   "id": "3ee445e4",
   "metadata": {
    "deletable": false,
    "id": "3ee445e4",
    "outputId": "9684deba-1934-42d1-99e1-cda61740f822"
   },
   "outputs": [
    {
     "data": {
      "text/plain": [
       "54"
      ]
     },
     "execution_count": 14,
     "metadata": {},
     "output_type": "execute_result"
    }
   ],
   "source": [
    "data.duplicated().sum()"
   ]
  },
  {
   "cell_type": "code",
   "execution_count": 15,
   "id": "8575fe05",
   "metadata": {
    "deletable": false,
    "id": "8575fe05"
   },
   "outputs": [],
   "source": [
    "data = data.drop_duplicates()"
   ]
  },
  {
   "cell_type": "markdown",
   "id": "9771a76c",
   "metadata": {
    "deletable": false,
    "id": "9771a76c"
   },
   "source": [
    "#### Приведем к нижнему регистру. "
   ]
  },
  {
   "cell_type": "code",
   "execution_count": 16,
   "id": "a9f8e2bf",
   "metadata": {
    "deletable": false,
    "id": "a9f8e2bf"
   },
   "outputs": [],
   "source": [
    "data['education'] = data['education'].str.lower()"
   ]
  },
  {
   "cell_type": "markdown",
   "id": "9904cf55",
   "metadata": {
    "deletable": false,
    "id": "9904cf55"
   },
   "source": [
    "### Категоризация данных"
   ]
  },
  {
   "cell_type": "markdown",
   "id": "72fcc8a2",
   "metadata": {
    "deletable": false,
    "id": "72fcc8a2"
   },
   "source": [
    "#### Создадим в датафрейме `data` столбец `total_income_category` с категориями:\n",
    "\n",
    "- 0–30000 — `'E'`;\n",
    "- 30001–50000 — `'D'`;\n",
    "- 50001–200000 — `'C'`;\n",
    "- 200001–1000000 — `'B'`;\n",
    "- 1000001 и выше — `'A'`.\n",
    "\n",
    "\n"
   ]
  },
  {
   "cell_type": "code",
   "execution_count": 17,
   "id": "e1771346",
   "metadata": {
    "deletable": false,
    "id": "e1771346"
   },
   "outputs": [],
   "source": [
    "def categorize_income(income):\n",
    "    try:\n",
    "        if 0 <= income <= 30000:\n",
    "            return 'E'\n",
    "        elif 30001 <= income <= 50000:\n",
    "            return 'D'\n",
    "        elif 50001 <= income <= 200000:\n",
    "            return 'C'\n",
    "        elif 200001 <= income <= 1000000:\n",
    "            return 'B'\n",
    "        elif income >= 1000001:\n",
    "            return 'A'\n",
    "    except:\n",
    "        pass"
   ]
  },
  {
   "cell_type": "code",
   "execution_count": 18,
   "id": "d5f3586d",
   "metadata": {
    "deletable": false,
    "id": "d5f3586d"
   },
   "outputs": [],
   "source": [
    "data['total_income_category'] = data['total_income'].apply(categorize_income)"
   ]
  },
  {
   "cell_type": "markdown",
   "id": "dde49b5c",
   "metadata": {
    "deletable": false,
    "id": "dde49b5c"
   },
   "source": [
    "#### Выведем на экран перечень уникальных целей взятия кредита из столбца `purpose`"
   ]
  },
  {
   "cell_type": "code",
   "execution_count": 19,
   "id": "f67ce9b3",
   "metadata": {
    "deletable": false,
    "id": "f67ce9b3",
    "outputId": "673c12d9-7d7e-4ae0-9812-c622c89dd244"
   },
   "outputs": [
    {
     "data": {
      "text/plain": [
       "array(['покупка жилья', 'приобретение автомобиля',\n",
       "       'дополнительное образование', 'сыграть свадьбу',\n",
       "       'операции с жильем', 'образование', 'на проведение свадьбы',\n",
       "       'покупка жилья для семьи', 'покупка недвижимости',\n",
       "       'покупка коммерческой недвижимости', 'покупка жилой недвижимости',\n",
       "       'строительство собственной недвижимости', 'недвижимость',\n",
       "       'строительство недвижимости', 'на покупку подержанного автомобиля',\n",
       "       'на покупку своего автомобиля',\n",
       "       'операции с коммерческой недвижимостью',\n",
       "       'строительство жилой недвижимости', 'жилье',\n",
       "       'операции со своей недвижимостью', 'автомобили',\n",
       "       'заняться образованием', 'сделка с подержанным автомобилем',\n",
       "       'получение образования', 'автомобиль', 'свадьба',\n",
       "       'получение дополнительного образования', 'покупка своего жилья',\n",
       "       'операции с недвижимостью', 'получение высшего образования',\n",
       "       'свой автомобиль', 'сделка с автомобилем',\n",
       "       'профильное образование', 'высшее образование',\n",
       "       'покупка жилья для сдачи', 'на покупку автомобиля', 'ремонт жилью',\n",
       "       'заняться высшим образованием'], dtype=object)"
      ]
     },
     "execution_count": 19,
     "metadata": {},
     "output_type": "execute_result"
    }
   ],
   "source": [
    "data['purpose'].unique()"
   ]
  },
  {
   "cell_type": "markdown",
   "id": "85d0aef0",
   "metadata": {
    "deletable": false,
    "id": "85d0aef0"
   },
   "source": [
    "#### Создадим функцию, которая на основании данных из столбца `purpose` сформирует новый столбец `purpose_category`, в который войдут следующие категории:**\n",
    "\n",
    "- `'операции с автомобилем'`,\n",
    "- `'операции с недвижимостью'`,\n",
    "- `'проведение свадьбы'`,\n",
    "- `'получение образования'`.\n",
    "\n",
    "**Например, если в столбце `purpose` находится подстрока `'на покупку автомобиля'`, то в столбце `purpose_category` должна появиться строка `'операции с автомобилем'`.**\n"
   ]
  },
  {
   "cell_type": "code",
   "execution_count": 20,
   "id": "e149fab4",
   "metadata": {
    "deletable": false,
    "id": "e149fab4"
   },
   "outputs": [],
   "source": [
    "def categorize_purpose(row):\n",
    "    try:\n",
    "        if 'автом' in row:\n",
    "            return 'операции с автомобилем'\n",
    "        elif 'жил' in row or 'недвиж' in row:\n",
    "            return 'операции с недвижимостью'\n",
    "        elif 'свад' in row:\n",
    "            return 'проведение свадьбы'\n",
    "        elif 'образов' in row:\n",
    "            return 'получение образования'\n",
    "    except:\n",
    "        return 'нет категории'"
   ]
  },
  {
   "cell_type": "code",
   "execution_count": 21,
   "id": "bf36e69b",
   "metadata": {
    "deletable": false,
    "id": "bf36e69b"
   },
   "outputs": [],
   "source": [
    "data['purpose_category'] = data['purpose'].apply(categorize_purpose)"
   ]
  },
  {
   "cell_type": "markdown",
   "id": "09b242bf",
   "metadata": {
    "deletable": false,
    "editable": false,
    "id": "09b242bf"
   },
   "source": [
    "## Исследуйте данные и ответьте на вопросы"
   ]
  },
  {
   "cell_type": "markdown",
   "id": "c5d66278",
   "metadata": {
    "deletable": false,
    "editable": false,
    "id": "c5d66278"
   },
   "source": [
    "**Задание 19. Есть ли зависимость между количеством детей и возвратом кредита в срок?**"
   ]
  },
  {
   "cell_type": "code",
   "execution_count": 22,
   "id": "2cacfc4a",
   "metadata": {
    "id": "2cacfc4a"
   },
   "outputs": [
    {
     "name": "stdout",
     "output_type": "stream",
     "text": [
      "children\n",
      "0    0.075353\n",
      "1    0.092327\n",
      "2    0.094542\n",
      "3    0.081818\n",
      "4    0.097561\n",
      "5    0.000000\n",
      "dtype: float64\n"
     ]
    }
   ],
   "source": [
    "chilldren_debt=data.groupby('children').agg({'debt':['count','sum']}) # группировка по колонке 'chilldren'  и подсчет количества/суммы значений в колонке 'debt' с помощью функции agg\n",
    "proportion=chilldren_debt['debt']['sum']/chilldren_debt['debt']['count'] #расчет соотношения суммы к количеству по результатам гуппировки\n",
    "print(proportion)"
   ]
  },
  {
   "cell_type": "markdown",
   "id": "3a6b99ec",
   "metadata": {
    "deletable": false,
    "id": "3a6b99ec"
   },
   "source": [
    "**Вывод:** Мы видим, что возврат кредита зависит от количества детей в семье: долга нет в семье с 5 детьми, наименьший долг в семье без ребенка, наибольшй долг в семьях с 1,2,3,4 детьми."
   ]
  },
  {
   "cell_type": "markdown",
   "id": "97be82ca",
   "metadata": {
    "deletable": false,
    "editable": false,
    "id": "97be82ca"
   },
   "source": [
    "**Задание 20. Есть ли зависимость между семейным положением и возвратом кредита в срок?**"
   ]
  },
  {
   "cell_type": "code",
   "execution_count": 23,
   "id": "dc3f7ee8",
   "metadata": {
    "id": "dc3f7ee8"
   },
   "outputs": [
    {
     "name": "stdout",
     "output_type": "stream",
     "text": [
      "family_status\n",
      "Не женат / не замужем    0.097639\n",
      "в разводе                0.070648\n",
      "вдовец / вдова           0.066246\n",
      "гражданский брак         0.092861\n",
      "женат / замужем          0.075575\n",
      "dtype: float64\n"
     ]
    }
   ],
   "source": [
    "status_debt=data.groupby('family_status').agg({'debt':['count','sum']}) # группировка по колонке 'family_status'  и подсчет количества/суммы значений в колонке 'debt' с помощью функции agg\n",
    "proportion=status_debt['debt']['sum']/status_debt['debt']['count'] #расчет соотношения суммы к количеству по результатам гуппировки\n",
    "print(proportion)"
   ]
  },
  {
   "cell_type": "markdown",
   "id": "1cef7837",
   "metadata": {
    "deletable": false,
    "id": "1cef7837"
   },
   "source": [
    "**Вывод:** Зависимость между сеейным положением и возвратом кредита в срок существует: самый худший показатель у людей в статусе\"не женат/не замужем\" и \"гражданский брак\", средний показатель- в статусе \"в разводе\" и \"женат/замужем\", самый хороший - в статусе \"вдовец/вдова\""
   ]
  },
  {
   "cell_type": "markdown",
   "id": "1e8b2fca",
   "metadata": {
    "deletable": false,
    "editable": false,
    "id": "1e8b2fca"
   },
   "source": [
    "**Задание 21. Есть ли зависимость между уровнем дохода и возвратом кредита в срок?**"
   ]
  },
  {
   "cell_type": "code",
   "execution_count": 24,
   "id": "cd7e3720",
   "metadata": {
    "id": "cd7e3720",
    "scrolled": false
   },
   "outputs": [
    {
     "name": "stdout",
     "output_type": "stream",
     "text": [
      "total_income_category\n",
      "A    0.080000\n",
      "B    0.070602\n",
      "C    0.084891\n",
      "D    0.060172\n",
      "E    0.090909\n",
      "dtype: float64\n"
     ]
    }
   ],
   "source": [
    "income_debt=data.groupby('total_income_category').agg({'debt':['count','sum']}) # группировка по колонке 'total_income_category'  и подсчет количества/суммы значений в колонке 'debt' с помощью функции agg\n",
    "proportion=income_debt['debt']['sum']/income_debt['debt']['count'] #расчет отношения суммы к количеству по результатам гуппировки\n",
    "print(proportion)"
   ]
  },
  {
   "cell_type": "markdown",
   "id": "e8593def",
   "metadata": {
    "deletable": false,
    "id": "e8593def"
   },
   "source": [
    "Ранее в датафрейме data мы создавали столбец total_income_category с категориями:\n",
    "0–30000 — 'E';\n",
    "30001–50000 — 'D';\n",
    "50001–200000 — 'C';\n",
    "200001–1000000 — 'B';\n",
    "1000000 и выше — 'A'\n",
    "Зависимость между уровнем дохода и возвратом кредита в срок есть. Мы видим, что самый плохой показатель у людей с наименьшим доходом, самый хороший - с уровнем дохода от 30 001 до 50 000, у людей с доходом от 50 001 и выше - средний показатель.\n",
    "\n"
   ]
  },
  {
   "cell_type": "markdown",
   "id": "99ecbd1f",
   "metadata": {
    "deletable": false,
    "editable": false,
    "id": "99ecbd1f"
   },
   "source": [
    "**Задание 22. Как разные цели кредита влияют на его возврат в срок?**"
   ]
  },
  {
   "cell_type": "code",
   "execution_count": 25,
   "id": "2b687290",
   "metadata": {
    "id": "2b687290",
    "scrolled": true
   },
   "outputs": [
    {
     "name": "stdout",
     "output_type": "stream",
     "text": [
      "purpose_category\n",
      "операции с автомобилем      0.093436\n",
      "операции с недвижимостью    0.072531\n",
      "получение образования       0.092504\n",
      "проведение свадьбы          0.078744\n",
      "dtype: float64\n"
     ]
    }
   ],
   "source": [
    "purpose_debt=data.groupby('purpose_category').agg({'debt':['count','sum']}) # группировка по колонке 'purpose_category'  и подсчет количества/суммы значений в колонке 'debt' с помощью функции agg\n",
    "proportion=purpose_debt['debt']['sum']/purpose_debt['debt']['count'] #расчет отношения суммы к количеству по результатам гуппировки (по возрастанию)\n",
    "print(proportion)"
   ]
  },
  {
   "cell_type": "markdown",
   "id": "b4bb2ce6",
   "metadata": {
    "deletable": false,
    "id": "b4bb2ce6"
   },
   "source": [
    "**Вывод:** Самый большой показатель по долгам у людей с целью \"операции с автомобилем\" и \"получение образования\", самый маленький - \"операции с недвижимостью\" и \"проведение свадьбы\"\n"
   ]
  },
  {
   "cell_type": "markdown",
   "id": "09c3ac4c",
   "metadata": {
    "deletable": false,
    "editable": false,
    "id": "09c3ac4c"
   },
   "source": [
    "**Задание 23. Приведите возможные причины появления пропусков в исходных данных.**"
   ]
  },
  {
   "cell_type": "markdown",
   "id": "9da2ceda",
   "metadata": {
    "deletable": false,
    "id": "9da2ceda"
   },
   "source": [
    "*Ответ:*Ошибки на этапе заполнения первичной иформации, ошибки при загрузке файла. "
   ]
  },
  {
   "cell_type": "markdown",
   "id": "7b0487d6",
   "metadata": {
    "deletable": false,
    "editable": false,
    "id": "7b0487d6"
   },
   "source": [
    "**Задание 24. Объясните, почему заполнить пропуски медианным значением — лучшее решение для количественных переменных.**"
   ]
  },
  {
   "cell_type": "markdown",
   "id": "7ecf2b8e",
   "metadata": {
    "deletable": false,
    "id": "7ecf2b8e"
   },
   "source": [
    "*Ответ:* Когда некоторые значения сильно выделяются среди большинства,то среднее значение некорректно характеризует данные. Поэтому заполнение пропусков медианным значением - это более объективное решение."
   ]
  },
  {
   "cell_type": "markdown",
   "id": "6db5255a",
   "metadata": {
    "deletable": false,
    "editable": false,
    "id": "6db5255a"
   },
   "source": [
    "## Общий вывод."
   ]
  },
  {
   "cell_type": "markdown",
   "id": "bad65432",
   "metadata": {
    "id": "bad65432"
   },
   "source": [
    "**Вывод**  \n",
    "В результате моих данных, можно сделать вывод: \n",
    "-самыми ненадежными заемщиками являются клиенты с маленьким доходом (до 30 т.р.), не женатые/не замужние с целью кредита на покупку автомобиля;\n",
    "-наименьшую задолженность имеют люди с доходом от 30 т.р. до 50т.р. (почти такой же показатель у людей с доходом от 200 т.р. до 1000 т.р.), в статусе вдова/вдовец либо в разводе, не имеющие детей и с целью кредита на покупку жилья или проведение свадьбы.\n",
    "\n",
    "\n"
   ]
  }
 ],
 "metadata": {
  "ExecuteTimeLog": [
   {
    "duration": 88,
    "start_time": "2022-06-07T13:58:35.178Z"
   },
   {
    "duration": 9,
    "start_time": "2022-06-07T13:59:05.345Z"
   },
   {
    "duration": 76,
    "start_time": "2022-06-09T11:00:04.392Z"
   },
   {
    "duration": 53,
    "start_time": "2022-06-09T11:00:19.465Z"
   },
   {
    "duration": 15,
    "start_time": "2022-06-09T11:00:19.520Z"
   },
   {
    "duration": 20,
    "start_time": "2022-06-09T11:00:19.538Z"
   },
   {
    "duration": 9,
    "start_time": "2022-06-09T11:00:19.560Z"
   },
   {
    "duration": 32,
    "start_time": "2022-06-09T11:00:19.571Z"
   },
   {
    "duration": 3,
    "start_time": "2022-06-09T11:00:19.605Z"
   },
   {
    "duration": 11,
    "start_time": "2022-06-09T11:00:19.609Z"
   },
   {
    "duration": 6,
    "start_time": "2022-06-09T11:00:19.621Z"
   },
   {
    "duration": 8,
    "start_time": "2022-06-09T11:00:19.628Z"
   },
   {
    "duration": 22,
    "start_time": "2022-06-09T11:00:19.638Z"
   },
   {
    "duration": 37,
    "start_time": "2022-06-09T11:00:19.662Z"
   },
   {
    "duration": 11,
    "start_time": "2022-06-09T11:00:19.700Z"
   },
   {
    "duration": 7,
    "start_time": "2022-06-09T11:00:19.712Z"
   },
   {
    "duration": 20,
    "start_time": "2022-06-09T11:00:19.720Z"
   },
   {
    "duration": 29,
    "start_time": "2022-06-09T11:00:19.741Z"
   },
   {
    "duration": 10,
    "start_time": "2022-06-09T11:00:19.772Z"
   },
   {
    "duration": 8,
    "start_time": "2022-06-09T11:00:19.784Z"
   },
   {
    "duration": 16,
    "start_time": "2022-06-09T11:00:19.793Z"
   },
   {
    "duration": 13,
    "start_time": "2022-06-09T11:00:19.810Z"
   },
   {
    "duration": 5,
    "start_time": "2022-06-09T11:00:19.825Z"
   },
   {
    "duration": 11,
    "start_time": "2022-06-09T11:00:19.831Z"
   },
   {
    "duration": 8,
    "start_time": "2022-06-09T11:00:19.844Z"
   },
   {
    "duration": 6,
    "start_time": "2022-06-09T11:00:19.854Z"
   },
   {
    "duration": 6,
    "start_time": "2022-06-09T11:00:19.862Z"
   },
   {
    "duration": 6,
    "start_time": "2022-06-09T11:00:19.870Z"
   },
   {
    "duration": 9,
    "start_time": "2022-06-09T11:17:04.138Z"
   },
   {
    "duration": 11,
    "start_time": "2022-06-09T11:29:31.808Z"
   },
   {
    "duration": 14,
    "start_time": "2022-06-09T12:58:05.329Z"
   },
   {
    "duration": 12,
    "start_time": "2022-06-09T12:58:09.915Z"
   },
   {
    "duration": 11,
    "start_time": "2022-06-09T13:26:58.790Z"
   },
   {
    "duration": 475,
    "start_time": "2022-06-09T13:33:46.019Z"
   },
   {
    "duration": 21,
    "start_time": "2022-06-09T13:33:46.496Z"
   },
   {
    "duration": 14,
    "start_time": "2022-06-09T13:33:46.519Z"
   },
   {
    "duration": 19,
    "start_time": "2022-06-09T13:33:46.535Z"
   },
   {
    "duration": 38,
    "start_time": "2022-06-09T13:33:46.556Z"
   },
   {
    "duration": 4,
    "start_time": "2022-06-09T13:33:46.596Z"
   },
   {
    "duration": 18,
    "start_time": "2022-06-09T13:33:46.602Z"
   },
   {
    "duration": 5,
    "start_time": "2022-06-09T13:33:46.621Z"
   },
   {
    "duration": 13,
    "start_time": "2022-06-09T13:33:46.627Z"
   },
   {
    "duration": 6,
    "start_time": "2022-06-09T13:33:46.643Z"
   },
   {
    "duration": 42,
    "start_time": "2022-06-09T13:33:46.650Z"
   },
   {
    "duration": 8,
    "start_time": "2022-06-09T13:33:46.694Z"
   },
   {
    "duration": 7,
    "start_time": "2022-06-09T13:33:46.704Z"
   },
   {
    "duration": 18,
    "start_time": "2022-06-09T13:33:46.713Z"
   },
   {
    "duration": 15,
    "start_time": "2022-06-09T13:33:46.732Z"
   },
   {
    "duration": 10,
    "start_time": "2022-06-09T13:33:46.748Z"
   },
   {
    "duration": 3,
    "start_time": "2022-06-09T13:33:46.779Z"
   },
   {
    "duration": 12,
    "start_time": "2022-06-09T13:33:46.784Z"
   },
   {
    "duration": 5,
    "start_time": "2022-06-09T13:33:46.798Z"
   },
   {
    "duration": 4,
    "start_time": "2022-06-09T13:33:46.805Z"
   },
   {
    "duration": 15,
    "start_time": "2022-06-09T13:33:46.810Z"
   },
   {
    "duration": 11,
    "start_time": "2022-06-09T13:33:46.826Z"
   },
   {
    "duration": 45,
    "start_time": "2022-06-09T13:33:46.838Z"
   },
   {
    "duration": 11,
    "start_time": "2022-06-09T13:33:46.885Z"
   },
   {
    "duration": 15,
    "start_time": "2022-06-09T13:33:46.897Z"
   },
   {
    "duration": 694,
    "start_time": "2022-06-10T06:42:42.460Z"
   },
   {
    "duration": 27,
    "start_time": "2022-06-10T06:42:43.156Z"
   },
   {
    "duration": 23,
    "start_time": "2022-06-10T06:42:43.184Z"
   },
   {
    "duration": 10,
    "start_time": "2022-06-10T06:42:43.210Z"
   },
   {
    "duration": 52,
    "start_time": "2022-06-10T06:42:43.222Z"
   },
   {
    "duration": 4,
    "start_time": "2022-06-10T06:42:43.276Z"
   },
   {
    "duration": 22,
    "start_time": "2022-06-10T06:42:43.281Z"
   },
   {
    "duration": 12,
    "start_time": "2022-06-10T06:42:43.305Z"
   },
   {
    "duration": 20,
    "start_time": "2022-06-10T06:42:43.319Z"
   },
   {
    "duration": 6,
    "start_time": "2022-06-10T06:42:43.342Z"
   },
   {
    "duration": 59,
    "start_time": "2022-06-10T06:42:43.350Z"
   },
   {
    "duration": 10,
    "start_time": "2022-06-10T06:42:43.410Z"
   },
   {
    "duration": 26,
    "start_time": "2022-06-10T06:42:43.421Z"
   },
   {
    "duration": 32,
    "start_time": "2022-06-10T06:42:43.449Z"
   },
   {
    "duration": 20,
    "start_time": "2022-06-10T06:42:43.483Z"
   },
   {
    "duration": 20,
    "start_time": "2022-06-10T06:42:43.505Z"
   },
   {
    "duration": 9,
    "start_time": "2022-06-10T06:42:43.527Z"
   },
   {
    "duration": 39,
    "start_time": "2022-06-10T06:42:43.538Z"
   },
   {
    "duration": 11,
    "start_time": "2022-06-10T06:42:43.580Z"
   },
   {
    "duration": 17,
    "start_time": "2022-06-10T06:42:43.593Z"
   },
   {
    "duration": 38,
    "start_time": "2022-06-10T06:42:43.612Z"
   },
   {
    "duration": 32,
    "start_time": "2022-06-10T06:42:43.652Z"
   },
   {
    "duration": 26,
    "start_time": "2022-06-10T06:42:43.686Z"
   },
   {
    "duration": 17,
    "start_time": "2022-06-10T06:42:43.714Z"
   },
   {
    "duration": 24,
    "start_time": "2022-06-10T06:42:43.732Z"
   },
   {
    "duration": 10,
    "start_time": "2022-06-10T06:43:06.123Z"
   },
   {
    "duration": 11,
    "start_time": "2022-06-10T06:43:26.108Z"
   },
   {
    "duration": 510,
    "start_time": "2022-06-10T07:15:20.305Z"
   },
   {
    "duration": 23,
    "start_time": "2022-06-10T07:15:20.817Z"
   },
   {
    "duration": 43,
    "start_time": "2022-06-10T07:15:20.841Z"
   },
   {
    "duration": 30,
    "start_time": "2022-06-10T07:15:20.886Z"
   },
   {
    "duration": 35,
    "start_time": "2022-06-10T07:15:20.918Z"
   },
   {
    "duration": 3,
    "start_time": "2022-06-10T07:15:20.955Z"
   },
   {
    "duration": 44,
    "start_time": "2022-06-10T07:15:20.960Z"
   },
   {
    "duration": 12,
    "start_time": "2022-06-10T07:15:21.006Z"
   },
   {
    "duration": 9,
    "start_time": "2022-06-10T07:15:21.020Z"
   },
   {
    "duration": 8,
    "start_time": "2022-06-10T07:15:21.032Z"
   },
   {
    "duration": 51,
    "start_time": "2022-06-10T07:15:21.042Z"
   },
   {
    "duration": 16,
    "start_time": "2022-06-10T07:15:21.095Z"
   },
   {
    "duration": 4,
    "start_time": "2022-06-10T07:15:21.113Z"
   },
   {
    "duration": 26,
    "start_time": "2022-06-10T07:15:21.119Z"
   },
   {
    "duration": 53,
    "start_time": "2022-06-10T07:15:21.147Z"
   },
   {
    "duration": 18,
    "start_time": "2022-06-10T07:15:21.203Z"
   },
   {
    "duration": 5,
    "start_time": "2022-06-10T07:15:21.223Z"
   },
   {
    "duration": 18,
    "start_time": "2022-06-10T07:15:21.231Z"
   },
   {
    "duration": 28,
    "start_time": "2022-06-10T07:15:21.251Z"
   },
   {
    "duration": 7,
    "start_time": "2022-06-10T07:15:21.280Z"
   },
   {
    "duration": 29,
    "start_time": "2022-06-10T07:15:21.289Z"
   },
   {
    "duration": 16,
    "start_time": "2022-06-10T07:15:21.320Z"
   },
   {
    "duration": 11,
    "start_time": "2022-06-10T07:15:21.338Z"
   },
   {
    "duration": 10,
    "start_time": "2022-06-10T07:15:21.351Z"
   },
   {
    "duration": 16,
    "start_time": "2022-06-10T07:15:21.363Z"
   }
  ],
  "colab": {
   "name": "dpp_template_part2.ipynb",
   "provenance": []
  },
  "kernelspec": {
   "display_name": "Python 3 (ipykernel)",
   "language": "python",
   "name": "python3"
  },
  "language_info": {
   "codemirror_mode": {
    "name": "ipython",
    "version": 3
   },
   "file_extension": ".py",
   "mimetype": "text/x-python",
   "name": "python",
   "nbconvert_exporter": "python",
   "pygments_lexer": "ipython3",
   "version": "3.9.12"
  },
  "toc": {
   "base_numbering": 1,
   "nav_menu": {},
   "number_sections": true,
   "sideBar": true,
   "skip_h1_title": true,
   "title_cell": "Table of Contents",
   "title_sidebar": "Contents",
   "toc_cell": false,
   "toc_position": {},
   "toc_section_display": true,
   "toc_window_display": false
  }
 },
 "nbformat": 4,
 "nbformat_minor": 5
}
