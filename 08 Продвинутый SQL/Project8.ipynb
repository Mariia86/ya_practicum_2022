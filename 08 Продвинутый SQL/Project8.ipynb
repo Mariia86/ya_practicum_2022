{
 "cells": [
  {
   "cell_type": "markdown",
   "id": "5e9c8783",
   "metadata": {},
   "source": [
    "# Исследование базы данных StackOverflow"
   ]
  },
  {
   "cell_type": "markdown",
   "id": "187064e2",
   "metadata": {},
   "source": [
    "## Данные"
   ]
  },
  {
   "cell_type": "markdown",
   "id": "acf028ed",
   "metadata": {},
   "source": [
    "Самостоятельная работа основана на базе данных StackOverflow — сервиса вопросов и ответов о программировании.  \n",
    "Мы будем работать с версией базы, где хранятся данные о постах за 2008 год, но в таблицах есть информация и о более поздних оценках, которые эти посты получили."
   ]
  },
  {
   "cell_type": "markdown",
   "id": "c2ff42b1",
   "metadata": {},
   "source": [
    "## Цель"
   ]
  },
  {
   "cell_type": "markdown",
   "id": "c48f88e0",
   "metadata": {},
   "source": [
    "Проект состоит из двух частей:  \n",
    "В первой части несколько задач в SQL-тренажёре, чтобы закрепить пройденный материал.  \n",
    "Вторая часть проекта — аналитическая."
   ]
  },
  {
   "cell_type": "markdown",
   "id": "5a3f3af3",
   "metadata": {},
   "source": [
    "## Задания Часть 1"
   ]
  },
  {
   "cell_type": "markdown",
   "id": "6eee78e0",
   "metadata": {},
   "source": [
    "## Задание 1"
   ]
  },
  {
   "cell_type": "markdown",
   "id": "81fc19a7",
   "metadata": {},
   "source": [
    "Найдите количество вопросов, которые набрали больше 300 очков или как минимум 100 раз были добавлены в «Закладки»."
   ]
  },
  {
   "cell_type": "code",
   "execution_count": null,
   "id": "5b4b967a",
   "metadata": {},
   "outputs": [],
   "source": [
    "'''\n",
    "SELECT COUNT(pt.id)\n",
    "FROM stackoverflow.posts p          \n",
    "JOIN stackoverflow.post_types pt ON p.post_type_id = pt.id\n",
    "WHERE (p.score>300 OR p.favorites_count>=100) AND pt.type='Question';\n",
    "'''"
   ]
  },
  {
   "cell_type": "markdown",
   "id": "4fc5cada",
   "metadata": {},
   "source": [
    "## Задание 2"
   ]
  },
  {
   "cell_type": "markdown",
   "id": "666ddfe8",
   "metadata": {},
   "source": [
    "Сколько в среднем в день задавали вопросов с 1 по 18 ноября 2008 включительно? Результат округлите до целого числа."
   ]
  },
  {
   "cell_type": "code",
   "execution_count": null,
   "id": "294ad12f",
   "metadata": {},
   "outputs": [],
   "source": [
    "'''\n",
    "SELECT ROUND(AVG (count_pt_id),0)\n",
    "FROM \n",
    "(SELECT COUNT(pt.id) AS count_pt_id,\n",
    "       CAST(p.creation_date AS date)\n",
    "FROM stackoverflow.posts p          \n",
    "JOIN stackoverflow.post_types pt ON p.post_type_id = pt.id\n",
    "WHERE pt.type='Question'\n",
    "GROUP BY CAST(p.creation_date AS date)) t\n",
    "WHERE CAST(creation_date AS date) BETWEEN '2008.11.01' AND '2008.11.18'\n",
    "''' "
   ]
  },
  {
   "cell_type": "markdown",
   "id": "96463b54",
   "metadata": {},
   "source": [
    "## Задание 3"
   ]
  },
  {
   "cell_type": "markdown",
   "id": "2bcd335c",
   "metadata": {},
   "source": [
    "Сколько пользователей получили значки сразу в день регистрации? Выведите количество уникальных пользователей."
   ]
  },
  {
   "cell_type": "code",
   "execution_count": null,
   "id": "d51aa44d",
   "metadata": {},
   "outputs": [],
   "source": [
    "'''\n",
    "SELECT COUNT(DISTINCT u.id)\n",
    "FROM StackOverflow.users u\n",
    "JOIN StackOverflow.badges b ON u.id = b.user_id\n",
    "WHERE CAST(u.creation_date AS date) = CAST(b.creation_date AS date)\n",
    "'''"
   ]
  },
  {
   "cell_type": "markdown",
   "id": "653c230b",
   "metadata": {},
   "source": [
    "## Задание 4"
   ]
  },
  {
   "cell_type": "markdown",
   "id": "3dda5c89",
   "metadata": {},
   "source": [
    "Сколько уникальных постов пользователя с именем Joel Coehoorn получили хотя бы один голос?"
   ]
  },
  {
   "cell_type": "code",
   "execution_count": null,
   "id": "5d49557a",
   "metadata": {},
   "outputs": [],
   "source": [
    "'''\n",
    "SELECT COUNT(DISTINCT p.id)       \n",
    "FROM StackOverflow.posts p\n",
    "JOIN StackOverflow.votes v ON p.id = v.post_id\n",
    "JOIN StackOverflow.users u ON p.user_id = u.id\n",
    "WHERE u.display_name ='Joel Coehoorn';\n",
    "'''"
   ]
  },
  {
   "cell_type": "markdown",
   "id": "f7228fad",
   "metadata": {},
   "source": [
    "## Задание 5"
   ]
  },
  {
   "cell_type": "markdown",
   "id": "2b214f5f",
   "metadata": {},
   "source": [
    "Выгрузите все поля таблицы vote_types. Добавьте к таблице поле rank, в которое войдут номера записей в обратном порядке. Таблица должна быть отсортирована по полю id."
   ]
  },
  {
   "cell_type": "code",
   "execution_count": null,
   "id": "f1c27ba2",
   "metadata": {},
   "outputs": [],
   "source": [
    "'''\n",
    "SELECT *,\n",
    "       ROW_NUMBER () OVER (ORDER BY id DESC) AS rank\n",
    "FROM StackOverflow.vote_types\n",
    "ORDER BY id\n",
    "'''"
   ]
  },
  {
   "cell_type": "markdown",
   "id": "3e05d6f7",
   "metadata": {},
   "source": [
    "## Задание 6"
   ]
  },
  {
   "cell_type": "markdown",
   "id": "3ff2f450",
   "metadata": {},
   "source": [
    "Отберите 10 пользователей, которые поставили больше всего голосов типа Close. Отобразите таблицу из двух полей: идентификатором пользователя и количеством голосов. Отсортируйте данные сначала по убыванию количества голосов, потом по убыванию значения идентификатора пользователя."
   ]
  },
  {
   "cell_type": "code",
   "execution_count": null,
   "id": "d1cc2e62",
   "metadata": {},
   "outputs": [],
   "source": [
    "'''\n",
    "SELECT --*\n",
    "       u.id,\n",
    "       COUNT (vt.id) \n",
    "FROM StackOverflow.users u\n",
    "JOIN StackOverflow.votes v ON u.id = v.user_id\n",
    "JOIN StackOverflow.vote_types vt ON v.vote_type_id = vt.id\n",
    "WHERE vt.name = 'Close'\n",
    "GROUP BY u.id\n",
    "ORDER BY COUNT(vt.id) DESC\n",
    "LIMIT 10;\n",
    "'''"
   ]
  },
  {
   "cell_type": "markdown",
   "id": "cd15e4e9",
   "metadata": {},
   "source": [
    "## Задание 7"
   ]
  },
  {
   "cell_type": "markdown",
   "id": "a0743748",
   "metadata": {},
   "source": [
    "Отберите 10 пользователей по количеству значков, полученных в период с 15 ноября по 15 декабря 2008 года включительно. Отобразите несколько полей:\n",
    "идентификатор пользователя;\n",
    "число значков;\n",
    "место в рейтинге — чем больше значков, тем выше рейтинг.\n",
    "Пользователям, которые набрали одинаковое количество значков, присвойте одно и то же место в рейтинге.\n",
    "Отсортируйте записи по количеству значков по убыванию, а затем по возрастанию значения идентификатора пользователя."
   ]
  },
  {
   "cell_type": "code",
   "execution_count": null,
   "id": "4a9788b6",
   "metadata": {},
   "outputs": [],
   "source": [
    "'''\n",
    "SELECT user_id,\n",
    "       COUNT(id) AS CNT,\n",
    "       DENSE_RANK() OVER (ORDER BY COUNT(id)DESC)\n",
    "FROM StackOverflow.badges\n",
    "WHERE CAST(creation_date AS date) BETWEEN '2008-11-15' AND '2008-12-15'\n",
    "GROUP BY user_id\n",
    "ORDER BY CNT DESC,user_id\n",
    "LIMIT 10;\n",
    "'''"
   ]
  },
  {
   "cell_type": "markdown",
   "id": "c0cb5bb3",
   "metadata": {},
   "source": [
    "## Задание 8"
   ]
  },
  {
   "cell_type": "markdown",
   "id": "e1097b3c",
   "metadata": {},
   "source": [
    "Сколько в среднем очков получает пост каждого пользователя?\n",
    "Сформируйте таблицу из следующих полей:\n",
    "заголовок поста;\n",
    "идентификатор пользователя;\n",
    "число очков поста;\n",
    "среднее число очков пользователя за пост, округлённое до целого числа.\n",
    "Не учитывайте посты без заголовка, а также те, что набрали ноль очков."
   ]
  },
  {
   "cell_type": "code",
   "execution_count": null,
   "id": "1c788f4c",
   "metadata": {},
   "outputs": [],
   "source": [
    "'''\n",
    "SELECT title,\n",
    "       user_id,\n",
    "       score,\n",
    "       ROUND(AVG(score) OVER (PARTITION BY user_id))\n",
    "FROM stackoverflow.posts\n",
    "WHERE title IS NOT NULL\n",
    "AND score != 0\n",
    "'''"
   ]
  },
  {
   "cell_type": "markdown",
   "id": "8c37a146",
   "metadata": {},
   "source": [
    "## Задание 9"
   ]
  },
  {
   "cell_type": "markdown",
   "id": "b35b3f5a",
   "metadata": {},
   "source": [
    "Отобразите заголовки постов, которые были написаны пользователями, получившими более 1000 значков. Посты без заголовков не должны попасть в список."
   ]
  },
  {
   "cell_type": "code",
   "execution_count": null,
   "id": "e5a1cef1",
   "metadata": {},
   "outputs": [],
   "source": [
    "'''\n",
    "WITH list_users AS\n",
    "(\n",
    "SELECT DISTINCT b.user_id\n",
    "FROM stackoverflow.badges as b\n",
    "GROUP BY 1\n",
    "HAVING COUNT(b.id) > 1000\n",
    ")\n",
    "SELECT p.title\n",
    "FROM list_users as u\n",
    "JOIN stackoverflow.posts as p ON p.user_id=u.user_id\n",
    "WHERE p.title IS NOT NULL;\n",
    "'''"
   ]
  },
  {
   "cell_type": "markdown",
   "id": "dd8e9254",
   "metadata": {},
   "source": [
    "## Задание 10"
   ]
  },
  {
   "cell_type": "markdown",
   "id": "adf1381a",
   "metadata": {},
   "source": [
    "Напишите запрос, который выгрузит данные о пользователях из США (англ. United States). Разделите пользователей на три группы в зависимости от количества просмотров их профилей:\n",
    "пользователям с числом просмотров больше либо равным 350 присвойте группу 1;\n",
    "пользователям с числом просмотров меньше 350, но больше либо равно 100 — группу 2;\n",
    "пользователям с числом просмотров меньше 100 — группу 3.\n",
    "Отобразите в итоговой таблице идентификатор пользователя, количество просмотров профиля и группу. Пользователи с нулевым количеством просмотров не должны войти в итоговую таблицу."
   ]
  },
  {
   "cell_type": "code",
   "execution_count": null,
   "id": "53efa60e",
   "metadata": {},
   "outputs": [],
   "source": [
    "'''\n",
    "SELECT id,\n",
    "       views,\n",
    "       CASE \n",
    "         WHEN views >= 350 THEN 1\n",
    "         WHEN views < 350 AND views >= 100 THEN 2\n",
    "         WHEN views < 100 THEN 3\n",
    "       END  \n",
    "FROM stackoverflow.users AS u \n",
    "WHERE location LIKE '%United States%'\n",
    "AND views != 0\n",
    "'''"
   ]
  },
  {
   "cell_type": "markdown",
   "id": "091f530e",
   "metadata": {},
   "source": [
    "## Задание 11"
   ]
  },
  {
   "cell_type": "markdown",
   "id": "352f6c02",
   "metadata": {},
   "source": [
    "Дополните предыдущий запрос. Отобразите лидеров каждой группы — пользователей, которые набрали максимальное число просмотров в своей группе. Выведите поля с идентификатором пользователя, группой и количеством просмотров. Отсортируйте таблицу по убыванию просмотров, а затем по возрастанию значения идентификатора."
   ]
  },
  {
   "cell_type": "code",
   "execution_count": null,
   "id": "6be06d45",
   "metadata": {},
   "outputs": [],
   "source": [
    "'''\n",
    "WITH b AS \n",
    "(SELECT id,\n",
    "       views,\n",
    "       CASE \n",
    "         WHEN views >= 350 THEN 1\n",
    "         WHEN views < 350 AND views >= 100 THEN 2\n",
    "         WHEN views < 100 THEN 3\n",
    "       END AS groupp \n",
    "FROM stackoverflow.users AS u \n",
    "WHERE location LIKE '%United States%'\n",
    "AND views != 0)\n",
    "SELECT id,\n",
    "       groupp, \n",
    "       views\n",
    "FROM\n",
    "(SELECT id,\n",
    "       MAX(views) OVER (PARTITION BY groupp) as max_views,\n",
    "       views,\n",
    "       groupp\n",
    "FROM b) t\n",
    "where max_views = views\n",
    "ORDER BY views DESC, id asc\n",
    "'''"
   ]
  },
  {
   "cell_type": "markdown",
   "id": "06f5af2a",
   "metadata": {},
   "source": [
    "## Задание 12"
   ]
  },
  {
   "cell_type": "markdown",
   "id": "59418d35",
   "metadata": {},
   "source": [
    "Посчитайте ежедневный прирост новых пользователей в ноябре 2008 года. Сформируйте таблицу с полями:\n",
    "номер дня;\n",
    "число пользователей, зарегистрированных в этот день;\n",
    "сумму пользователей с накоплением."
   ]
  },
  {
   "cell_type": "code",
   "execution_count": null,
   "id": "019dd450",
   "metadata": {},
   "outputs": [],
   "source": [
    "'''\n",
    "SELECT \n",
    "       DISTINCT EXTRACT(DAY FROM creation_date) AS number_day,\n",
    "       COUNT(id) OVER (PARTITION BY CAST(DATE_TRUNC('day',creation_date) AS date)) as cnt_user,\n",
    "       COUNT(id) OVER (ORDER BY CAST(DATE_TRUNC('day', creation_date) AS date)) AS cnt_user2\n",
    "FROM stackoverflow.users\n",
    "WHERE CAST(creation_date AS date) BETWEEN '2008-11-01' AND '2008-11-30'\n",
    "'''"
   ]
  },
  {
   "cell_type": "markdown",
   "id": "e2fcad6a",
   "metadata": {},
   "source": [
    "## Задание 13"
   ]
  },
  {
   "cell_type": "markdown",
   "id": "7b698410",
   "metadata": {},
   "source": [
    "Для каждого пользователя, который написал хотя бы один пост, найдите интервал между регистрацией и временем создания первого поста. Отобразите:\n",
    "идентификатор пользователя;\n",
    "разницу во времени между регистрацией и первым постом."
   ]
  },
  {
   "cell_type": "code",
   "execution_count": null,
   "id": "2eeb23e6",
   "metadata": {},
   "outputs": [],
   "source": [
    "'''\n",
    "WITH users AS\n",
    "(\n",
    "SELECT DISTINCT p.user_id,\n",
    "       MIN(creation_date) OVER(PARTITION BY user_id) AS min_d\n",
    "       --row_number() over (order by MIN(p.creation_date)) as dt\n",
    "FROM stackoverflow.posts as p\n",
    "--GROUP BY p.user_id,p.creation_date\n",
    ")\n",
    "SELECT u.id,\n",
    "       us.min_d-creation_date\n",
    "FROM users as us\n",
    "JOIN stackoverflow.users as u ON us.user_id=u.id\n",
    "'''"
   ]
  },
  {
   "cell_type": "markdown",
   "id": "2a3b88d0",
   "metadata": {},
   "source": [
    "## Задания Часть 2"
   ]
  },
  {
   "cell_type": "markdown",
   "id": "61a05acf",
   "metadata": {},
   "source": [
    "## Задание 1"
   ]
  },
  {
   "cell_type": "markdown",
   "id": "763f839b",
   "metadata": {},
   "source": [
    "Выведите общую сумму просмотров постов за каждый месяц 2008 года. Если данных за какой-либо месяц в базе нет, такой месяц можно пропустить. Результат отсортируйте по убыванию общего количества просмотров."
   ]
  },
  {
   "cell_type": "code",
   "execution_count": null,
   "id": "4a10da54",
   "metadata": {},
   "outputs": [],
   "source": [
    "'''\n",
    "SELECT DATE_TRUNC('month', creation_date)::date AS month,\n",
    "       SUM(views_count) AS total\n",
    "FROM stackoverflow.posts\n",
    "WHERE EXTRACT(YEAR FROM creation_date::date)=2008\n",
    "GROUP BY month\n",
    "ORDER BY total DESC\n",
    "'''"
   ]
  },
  {
   "cell_type": "markdown",
   "id": "b1d09b7c",
   "metadata": {},
   "source": [
    "## Задание 2"
   ]
  },
  {
   "cell_type": "markdown",
   "id": "3970322e",
   "metadata": {},
   "source": [
    "\n",
    "Выведите имена самых активных пользователей, которые в первый месяц после регистрации (включая день регистрации) дали больше 100 ответов. Вопросы, которые задавали пользователи, не учитывайте. Для каждого имени пользователя выведите количество уникальных значений user_id. Отсортируйте результат по полю с именами в лексикографическом порядке."
   ]
  },
  {
   "cell_type": "code",
   "execution_count": null,
   "id": "28bb7bdc",
   "metadata": {},
   "outputs": [],
   "source": [
    "'''\n",
    "SELECT --*\n",
    "       u.display_name,\n",
    "       COUNT(DISTINCT u.id)\n",
    "FROM StackOverflow.users u\n",
    "JOIN StackOverflow.posts p ON u.id = p.user_id\n",
    "JOIN StackOverflow.post_types pt ON p.post_type_id = pt.id\n",
    "WHERE pt.type='Answer'\n",
    "AND (DATE_TRUNC('day', p.creation_date) BETWEEN DATE_TRUNC('day', u.creation_date) AND DATE_TRUNC('day', u.creation_date) + INTERVAL '1 month')\n",
    "GROUP BY display_name\n",
    "HAVING COUNT(p.id) > 100\n",
    "'''"
   ]
  },
  {
   "cell_type": "markdown",
   "id": "5cfc6c6a",
   "metadata": {},
   "source": [
    "## Задание 3"
   ]
  },
  {
   "cell_type": "markdown",
   "id": "24ebe845",
   "metadata": {},
   "source": [
    "Выведите количество постов за 2008 год по месяцам. Отберите посты от пользователей, которые зарегистрировались в сентябре 2008 года и сделали хотя бы один пост в декабре того же года. Отсортируйте таблицу по значению месяца по убыванию."
   ]
  },
  {
   "cell_type": "code",
   "execution_count": null,
   "id": "76ea621e",
   "metadata": {},
   "outputs": [],
   "source": [
    "'''\n",
    "WITH users AS\n",
    "(SELECT DISTINCT (u.id)\n",
    "FROM StackOverflow.users u\n",
    "JOIN StackOverflow.posts p ON p.user_id=u.id\n",
    "WHERE u.creation_date::date BETWEEN '2008-09-01' AND '2008-09-30'\n",
    "AND p.creation_date::date BETWEEN '2008-12-01' AND '2008-12-31')\n",
    "SELECT DATE_TRUNC('month', p.creation_date)::date AS month,\n",
    "       COUNT(p.id) AS count\n",
    "FROM users AS us\n",
    "JOIN stackoverflow.posts AS p ON us.id=p.user_id\n",
    "WHERE p.creation_date::date BETWEEN '2008-01-01' AND '2008-12-31'\n",
    "GROUP BY month\n",
    "ORDER BY month DESC;\n",
    "'''"
   ]
  },
  {
   "cell_type": "markdown",
   "id": "e4c58c1b",
   "metadata": {},
   "source": [
    "## Задание 4"
   ]
  },
  {
   "cell_type": "markdown",
   "id": "305db11d",
   "metadata": {},
   "source": [
    "Используя данные о постах, выведите несколько полей:\n",
    "идентификатор пользователя, который написал пост;\n",
    "дата создания поста;\n",
    "количество просмотров у текущего поста;\n",
    "сумму просмотров постов автора с накоплением.\n",
    "Данные в таблице должны быть отсортированы по возрастанию идентификаторов пользователей, а данные об одном и том же пользователе — по возрастанию даты создания поста."
   ]
  },
  {
   "cell_type": "code",
   "execution_count": null,
   "id": "41957315",
   "metadata": {},
   "outputs": [],
   "source": [
    "'''\n",
    "SELECT user_id,\n",
    "       creation_date,\n",
    "       views_count,\n",
    "       SUM (views_count) OVER (PARTITION BY user_id ORDER BY creation_date)\n",
    "FROM StackOverflow.posts\n",
    "'''"
   ]
  },
  {
   "cell_type": "markdown",
   "id": "6cf53f75",
   "metadata": {},
   "source": [
    "## Задание 5"
   ]
  },
  {
   "cell_type": "markdown",
   "id": "87c712ba",
   "metadata": {},
   "source": [
    "Сколько в среднем дней в период с 1 по 7 декабря 2008 года включительно пользователи взаимодействовали с платформой? Для каждого пользователя отберите дни, в которые он или она опубликовали хотя бы один пост. Нужно получить одно целое число — не забудьте округлить результат."
   ]
  },
  {
   "cell_type": "code",
   "execution_count": null,
   "id": "b18c233e",
   "metadata": {},
   "outputs": [],
   "source": [
    "'''\n",
    "WITH users AS\n",
    "(SELECT user_id,\n",
    "        creation_date::date,\n",
    "        COUNT(creation_date)AS cd\n",
    "FROM stackoverflow.posts\n",
    "WHERE creation_date:: date BETWEEN '2008.12.01' AND '2008.12.07'\n",
    "GROUP BY user_id,creation_date::date\n",
    ")\n",
    "SELECT ROUND(AVG(cd))\n",
    "FROM users\n",
    "'''"
   ]
  },
  {
   "cell_type": "markdown",
   "id": "867a742f",
   "metadata": {},
   "source": [
    "## Задание 6"
   ]
  },
  {
   "cell_type": "markdown",
   "id": "25babf99",
   "metadata": {},
   "source": [
    "На сколько процентов менялось количество постов ежемесячно с 1 сентября по 31 декабря 2008 года? Отобразите таблицу со следующими полями:\n",
    "номер месяца;\n",
    "количество постов за месяц;\n",
    "процент, который показывает, насколько изменилось количество постов в текущем месяце по сравнению с предыдущим.\n",
    "Если постов стало меньше, значение процента должно быть отрицательным, если больше — положительным. Округлите значение процента до двух знаков после запятой.\n",
    "Напомним, что при делении одного целого числа на другое в PostgreSQL в результате получится целое число, округлённое до ближайшего целого вниз. Чтобы этого избежать, переведите делимое в тип numeric."
   ]
  },
  {
   "cell_type": "code",
   "execution_count": null,
   "id": "3a0e4897",
   "metadata": {},
   "outputs": [],
   "source": [
    "'''\n",
    "WITH posts AS       \n",
    "(SELECT EXTRACT (MONTH FROM creation_date::date) AS month,\n",
    "       COUNT(id) AS count\n",
    "FROM stackoverflow.posts\n",
    "WHERE creation_date:: date BETWEEN '2008-09-01' AND '2008-12-31'\n",
    "GROUP BY month)\n",
    "SELECT month,\n",
    "       count,\n",
    "       ROUND(((count::numeric / LAG(count) OVER (ORDER BY month)) - 1) * 100, 2) AS difference\n",
    "FROM posts; \n",
    "'''"
   ]
  },
  {
   "cell_type": "markdown",
   "id": "8d02743f",
   "metadata": {},
   "source": [
    "## Задание 7"
   ]
  },
  {
   "cell_type": "markdown",
   "id": "e1f9d465",
   "metadata": {},
   "source": [
    "Выгрузите данные активности пользователя, который опубликовал больше всего постов за всё время. Выведите данные за октябрь 2008 года в таком виде:\n",
    "номер недели;\n",
    "дата и время последнего поста, опубликованного на этой неделе."
   ]
  },
  {
   "cell_type": "code",
   "execution_count": null,
   "id": "462e9b1a",
   "metadata": {},
   "outputs": [],
   "source": [
    "'''\n",
    "WITH users AS\n",
    "(SELECT user_id,\n",
    "        COUNT(id) AS count\n",
    "FROM stackoverflow.posts\n",
    "GROUP BY user_id\n",
    "ORDER BY count DESC\n",
    "LIMIT 1)\n",
    " \n",
    "SELECT\n",
    "    DISTINCT week,\n",
    "    LAST_VALUE(creation_date) OVER (PARTITION BY EXTRACT(WEEK FROM creation_date))\n",
    "FROM \n",
    "(SELECT EXTRACT(WEEK FROM creation_date) AS week,\n",
    "        creation_date\n",
    "FROM stackoverflow.posts p\n",
    "JOIN users u ON p.user_id = u.user_id\n",
    "WHERE creation_date::DATE BETWEEN '2008-10-01' AND '2008-10-31'\n",
    "ORDER BY 1,2) AS ps\n",
    "'''"
   ]
  }
 ],
 "metadata": {
  "kernelspec": {
   "display_name": "Python 3 (ipykernel)",
   "language": "python",
   "name": "python3"
  },
  "language_info": {
   "codemirror_mode": {
    "name": "ipython",
    "version": 3
   },
   "file_extension": ".py",
   "mimetype": "text/x-python",
   "name": "python",
   "nbconvert_exporter": "python",
   "pygments_lexer": "ipython3",
   "version": "3.9.12"
  }
 },
 "nbformat": 4,
 "nbformat_minor": 5
}
