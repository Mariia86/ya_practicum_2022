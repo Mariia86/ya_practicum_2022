{
 "cells": [
  {
   "cell_type": "markdown",
   "metadata": {},
   "source": [
    "## <div align=\"center\"><b> Проект по SQL </b></div>"
   ]
  },
  {
   "cell_type": "markdown",
   "metadata": {},
   "source": [
    "### Цели исследования"
   ]
  },
  {
   "cell_type": "markdown",
   "metadata": {},
   "source": [
    "Коронавирус застал мир врасплох, изменив привычный порядок вещей. В свободное время жители городов больше не выходят на улицу, не посещают кафе и торговые центры. Зато стало больше времени для книг. Это заметили стартаперы — и бросились создавать приложения для тех, кто любит читать.  \n",
    "Наша компания решила быть на волне и купила крупный сервис для чтения книг по подписке. Наша цель — <b>проанализировать базу данных.</b> В ней — информация о книгах, издательствах, авторах, а также пользовательские обзоры книг. Эти данные помогут <b>сформулировать ценностное предложение для нового продукта.</b>"
   ]
  },
  {
   "cell_type": "markdown",
   "metadata": {},
   "source": [
    "### Описание данных"
   ]
  },
  {
   "cell_type": "markdown",
   "metadata": {},
   "source": [
    "<b>Таблица books</b>  \n",
    "Содержит данные о книгах:  \n",
    "- book_id — идентификатор книги;  \n",
    "- author_id — идентификатор автора;  \n",
    "- title — название книги;  \n",
    "- num_pages — количество страниц;  \n",
    "- publication_date — дата публикации книги;  \n",
    "- publisher_id — идентификатор издателя.  \n",
    "\n",
    "<b>Таблица authors</b>  \n",
    "Содержит данные об авторах:  \n",
    "- author_id — идентификатор автора;  \n",
    "- author — имя автора.  \n",
    "\n",
    "<b>Таблица publishers</b>  \n",
    "Содержит данные об издательствах:  \n",
    "- publisher_id — идентификатор издательства;  \n",
    "- publisher — название издательства;  \n",
    "\n",
    "<b>Таблица ratings</b>  \n",
    "Содержит данные о пользовательских оценках книг:  \n",
    "- rating_id — идентификатор оценки;  \n",
    "- book_id — идентификатор книги;  \n",
    "- username — имя пользователя, оставившего оценку;  \n",
    "- rating — оценка книги.  \n",
    "\n",
    "<b>Таблица reviews</b>  \n",
    "Содержит данные о пользовательских обзорах:  \n",
    "- review_id — идентификатор обзора;  \n",
    "book_id — идентификатор книги;  \n",
    "username — имя автора обзора;  \n",
    "text — текст обзора."
   ]
  },
  {
   "cell_type": "markdown",
   "metadata": {},
   "source": [
    "### Задания"
   ]
  },
  {
   "cell_type": "markdown",
   "metadata": {},
   "source": [
    "- Посчитать, сколько книг вышло после 1 января 2000 года;  \n",
    "- Для каждой книги посчитать количество обзоров и среднюю оценку;  \n",
    "- Определить издательство, которое выпустило наибольшее число книг толще 50 страниц — так вы исключите из анализа брошюры;  \n",
    "- Определить автора с самой высокой средней оценкой книг — учитывайте только книги с 50 и более оценками;  \n",
    "- Посчитать среднее количество обзоров от пользователей, которые поставили больше 50 оценок."
   ]
  },
  {
   "cell_type": "markdown",
   "metadata": {},
   "source": [
    "### Импортируем библиотеки"
   ]
  },
  {
   "cell_type": "code",
   "execution_count": 1,
   "metadata": {},
   "outputs": [],
   "source": [
    "# импортируем библиотеки\n",
    "import pandas as pd\n",
    "from sqlalchemy import create_engine\n"
   ]
  },
  {
   "cell_type": "markdown",
   "metadata": {},
   "source": [
    "### Создаём коннекцию к базам и выводим первые строки"
   ]
  },
  {
   "cell_type": "code",
   "execution_count": 2,
   "metadata": {},
   "outputs": [],
   "source": [
    "# устанавливаем параметры\n",
    "db_config = {'user': 'praktikum_student', # имя пользователя\n",
    "'pwd': 'Sdf4$2;d-d30pp', # пароль\n",
    "'host': 'rc1b-wcoijxj3yxfsf3fs.mdb.yandexcloud.net',\n",
    "'port': 6432, # порт подключения\n",
    "'db': 'data-analyst-final-project-db'} # название базы данных\n",
    "connection_string = 'postgresql://{}:{}@{}:{}/{}'.format(db_config['user'],\n",
    " db_config['pwd'],\n",
    " db_config['host'],\n",
    " db_config['port'],\n",
    " db_config['db'])\n",
    "# сохраняем коннектор\n",
    "engine = create_engine(connection_string, connect_args={'sslmode':'require'}) "
   ]
  },
  {
   "cell_type": "code",
   "execution_count": 3,
   "metadata": {},
   "outputs": [],
   "source": [
    "query = '''\n",
    "            SELECT * FROM books\n",
    "        '''\n",
    "books = pd.io.sql.read_sql(query, con = engine)"
   ]
  },
  {
   "cell_type": "code",
   "execution_count": 4,
   "metadata": {},
   "outputs": [
    {
     "data": {
      "text/html": [
       "<div>\n",
       "<style scoped>\n",
       "    .dataframe tbody tr th:only-of-type {\n",
       "        vertical-align: middle;\n",
       "    }\n",
       "\n",
       "    .dataframe tbody tr th {\n",
       "        vertical-align: top;\n",
       "    }\n",
       "\n",
       "    .dataframe thead th {\n",
       "        text-align: right;\n",
       "    }\n",
       "</style>\n",
       "<table border=\"1\" class=\"dataframe\">\n",
       "  <thead>\n",
       "    <tr style=\"text-align: right;\">\n",
       "      <th></th>\n",
       "      <th>book_id</th>\n",
       "      <th>author_id</th>\n",
       "      <th>title</th>\n",
       "      <th>num_pages</th>\n",
       "      <th>publication_date</th>\n",
       "      <th>publisher_id</th>\n",
       "    </tr>\n",
       "  </thead>\n",
       "  <tbody>\n",
       "    <tr>\n",
       "      <th>0</th>\n",
       "      <td>1</td>\n",
       "      <td>546</td>\n",
       "      <td>'Salem's Lot</td>\n",
       "      <td>594</td>\n",
       "      <td>2005-11-01</td>\n",
       "      <td>93</td>\n",
       "    </tr>\n",
       "    <tr>\n",
       "      <th>1</th>\n",
       "      <td>2</td>\n",
       "      <td>465</td>\n",
       "      <td>1 000 Places to See Before You Die</td>\n",
       "      <td>992</td>\n",
       "      <td>2003-05-22</td>\n",
       "      <td>336</td>\n",
       "    </tr>\n",
       "    <tr>\n",
       "      <th>2</th>\n",
       "      <td>3</td>\n",
       "      <td>407</td>\n",
       "      <td>13 Little Blue Envelopes (Little Blue Envelope...</td>\n",
       "      <td>322</td>\n",
       "      <td>2010-12-21</td>\n",
       "      <td>135</td>\n",
       "    </tr>\n",
       "    <tr>\n",
       "      <th>3</th>\n",
       "      <td>4</td>\n",
       "      <td>82</td>\n",
       "      <td>1491: New Revelations of the Americas Before C...</td>\n",
       "      <td>541</td>\n",
       "      <td>2006-10-10</td>\n",
       "      <td>309</td>\n",
       "    </tr>\n",
       "    <tr>\n",
       "      <th>4</th>\n",
       "      <td>5</td>\n",
       "      <td>125</td>\n",
       "      <td>1776</td>\n",
       "      <td>386</td>\n",
       "      <td>2006-07-04</td>\n",
       "      <td>268</td>\n",
       "    </tr>\n",
       "  </tbody>\n",
       "</table>\n",
       "</div>"
      ],
      "text/plain": [
       "   book_id  author_id                                              title  \\\n",
       "0        1        546                                       'Salem's Lot   \n",
       "1        2        465                 1 000 Places to See Before You Die   \n",
       "2        3        407  13 Little Blue Envelopes (Little Blue Envelope...   \n",
       "3        4         82  1491: New Revelations of the Americas Before C...   \n",
       "4        5        125                                               1776   \n",
       "\n",
       "   num_pages publication_date  publisher_id  \n",
       "0        594       2005-11-01            93  \n",
       "1        992       2003-05-22           336  \n",
       "2        322       2010-12-21           135  \n",
       "3        541       2006-10-10           309  \n",
       "4        386       2006-07-04           268  "
      ]
     },
     "execution_count": 4,
     "metadata": {},
     "output_type": "execute_result"
    }
   ],
   "source": [
    "books.head()"
   ]
  },
  {
   "cell_type": "code",
   "execution_count": 5,
   "metadata": {},
   "outputs": [],
   "source": [
    "# получаем сырые данные\n",
    "query = '''\n",
    "            SELECT * FROM authors\n",
    "        '''\n",
    "authors = pd.io.sql.read_sql(query, con = engine)"
   ]
  },
  {
   "cell_type": "code",
   "execution_count": 6,
   "metadata": {},
   "outputs": [
    {
     "data": {
      "text/html": [
       "<div>\n",
       "<style scoped>\n",
       "    .dataframe tbody tr th:only-of-type {\n",
       "        vertical-align: middle;\n",
       "    }\n",
       "\n",
       "    .dataframe tbody tr th {\n",
       "        vertical-align: top;\n",
       "    }\n",
       "\n",
       "    .dataframe thead th {\n",
       "        text-align: right;\n",
       "    }\n",
       "</style>\n",
       "<table border=\"1\" class=\"dataframe\">\n",
       "  <thead>\n",
       "    <tr style=\"text-align: right;\">\n",
       "      <th></th>\n",
       "      <th>author_id</th>\n",
       "      <th>author</th>\n",
       "    </tr>\n",
       "  </thead>\n",
       "  <tbody>\n",
       "    <tr>\n",
       "      <th>0</th>\n",
       "      <td>1</td>\n",
       "      <td>A.S. Byatt</td>\n",
       "    </tr>\n",
       "    <tr>\n",
       "      <th>1</th>\n",
       "      <td>2</td>\n",
       "      <td>Aesop/Laura Harris/Laura Gibbs</td>\n",
       "    </tr>\n",
       "    <tr>\n",
       "      <th>2</th>\n",
       "      <td>3</td>\n",
       "      <td>Agatha Christie</td>\n",
       "    </tr>\n",
       "    <tr>\n",
       "      <th>3</th>\n",
       "      <td>4</td>\n",
       "      <td>Alan Brennert</td>\n",
       "    </tr>\n",
       "    <tr>\n",
       "      <th>4</th>\n",
       "      <td>5</td>\n",
       "      <td>Alan Moore/David   Lloyd</td>\n",
       "    </tr>\n",
       "  </tbody>\n",
       "</table>\n",
       "</div>"
      ],
      "text/plain": [
       "   author_id                          author\n",
       "0          1                      A.S. Byatt\n",
       "1          2  Aesop/Laura Harris/Laura Gibbs\n",
       "2          3                 Agatha Christie\n",
       "3          4                   Alan Brennert\n",
       "4          5        Alan Moore/David   Lloyd"
      ]
     },
     "execution_count": 6,
     "metadata": {},
     "output_type": "execute_result"
    }
   ],
   "source": [
    "authors.head()"
   ]
  },
  {
   "cell_type": "code",
   "execution_count": 7,
   "metadata": {},
   "outputs": [],
   "source": [
    "# получаем сырые данные\n",
    "query = '''\n",
    "            SELECT * FROM publishers\n",
    "        '''\n",
    "publishers = pd.io.sql.read_sql(query, con = engine)"
   ]
  },
  {
   "cell_type": "code",
   "execution_count": 8,
   "metadata": {},
   "outputs": [
    {
     "data": {
      "text/html": [
       "<div>\n",
       "<style scoped>\n",
       "    .dataframe tbody tr th:only-of-type {\n",
       "        vertical-align: middle;\n",
       "    }\n",
       "\n",
       "    .dataframe tbody tr th {\n",
       "        vertical-align: top;\n",
       "    }\n",
       "\n",
       "    .dataframe thead th {\n",
       "        text-align: right;\n",
       "    }\n",
       "</style>\n",
       "<table border=\"1\" class=\"dataframe\">\n",
       "  <thead>\n",
       "    <tr style=\"text-align: right;\">\n",
       "      <th></th>\n",
       "      <th>publisher_id</th>\n",
       "      <th>publisher</th>\n",
       "    </tr>\n",
       "  </thead>\n",
       "  <tbody>\n",
       "    <tr>\n",
       "      <th>0</th>\n",
       "      <td>1</td>\n",
       "      <td>Ace</td>\n",
       "    </tr>\n",
       "    <tr>\n",
       "      <th>1</th>\n",
       "      <td>2</td>\n",
       "      <td>Ace Book</td>\n",
       "    </tr>\n",
       "    <tr>\n",
       "      <th>2</th>\n",
       "      <td>3</td>\n",
       "      <td>Ace Books</td>\n",
       "    </tr>\n",
       "    <tr>\n",
       "      <th>3</th>\n",
       "      <td>4</td>\n",
       "      <td>Ace Hardcover</td>\n",
       "    </tr>\n",
       "    <tr>\n",
       "      <th>4</th>\n",
       "      <td>5</td>\n",
       "      <td>Addison Wesley Publishing Company</td>\n",
       "    </tr>\n",
       "  </tbody>\n",
       "</table>\n",
       "</div>"
      ],
      "text/plain": [
       "   publisher_id                          publisher\n",
       "0             1                                Ace\n",
       "1             2                           Ace Book\n",
       "2             3                          Ace Books\n",
       "3             4                      Ace Hardcover\n",
       "4             5  Addison Wesley Publishing Company"
      ]
     },
     "execution_count": 8,
     "metadata": {},
     "output_type": "execute_result"
    }
   ],
   "source": [
    "publishers.head()"
   ]
  },
  {
   "cell_type": "code",
   "execution_count": 9,
   "metadata": {},
   "outputs": [],
   "source": [
    "# получаем сырые данные\n",
    "query = '''\n",
    "            SELECT * FROM ratings\n",
    "        '''\n",
    "ratings = pd.io.sql.read_sql(query, con = engine)"
   ]
  },
  {
   "cell_type": "code",
   "execution_count": 10,
   "metadata": {},
   "outputs": [
    {
     "data": {
      "text/html": [
       "<div>\n",
       "<style scoped>\n",
       "    .dataframe tbody tr th:only-of-type {\n",
       "        vertical-align: middle;\n",
       "    }\n",
       "\n",
       "    .dataframe tbody tr th {\n",
       "        vertical-align: top;\n",
       "    }\n",
       "\n",
       "    .dataframe thead th {\n",
       "        text-align: right;\n",
       "    }\n",
       "</style>\n",
       "<table border=\"1\" class=\"dataframe\">\n",
       "  <thead>\n",
       "    <tr style=\"text-align: right;\">\n",
       "      <th></th>\n",
       "      <th>rating_id</th>\n",
       "      <th>book_id</th>\n",
       "      <th>username</th>\n",
       "      <th>rating</th>\n",
       "    </tr>\n",
       "  </thead>\n",
       "  <tbody>\n",
       "    <tr>\n",
       "      <th>0</th>\n",
       "      <td>1</td>\n",
       "      <td>1</td>\n",
       "      <td>ryanfranco</td>\n",
       "      <td>4</td>\n",
       "    </tr>\n",
       "    <tr>\n",
       "      <th>1</th>\n",
       "      <td>2</td>\n",
       "      <td>1</td>\n",
       "      <td>grantpatricia</td>\n",
       "      <td>2</td>\n",
       "    </tr>\n",
       "    <tr>\n",
       "      <th>2</th>\n",
       "      <td>3</td>\n",
       "      <td>1</td>\n",
       "      <td>brandtandrea</td>\n",
       "      <td>5</td>\n",
       "    </tr>\n",
       "    <tr>\n",
       "      <th>3</th>\n",
       "      <td>4</td>\n",
       "      <td>2</td>\n",
       "      <td>lorichen</td>\n",
       "      <td>3</td>\n",
       "    </tr>\n",
       "    <tr>\n",
       "      <th>4</th>\n",
       "      <td>5</td>\n",
       "      <td>2</td>\n",
       "      <td>mariokeller</td>\n",
       "      <td>2</td>\n",
       "    </tr>\n",
       "  </tbody>\n",
       "</table>\n",
       "</div>"
      ],
      "text/plain": [
       "   rating_id  book_id       username  rating\n",
       "0          1        1     ryanfranco       4\n",
       "1          2        1  grantpatricia       2\n",
       "2          3        1   brandtandrea       5\n",
       "3          4        2       lorichen       3\n",
       "4          5        2    mariokeller       2"
      ]
     },
     "execution_count": 10,
     "metadata": {},
     "output_type": "execute_result"
    }
   ],
   "source": [
    "ratings.head()"
   ]
  },
  {
   "cell_type": "code",
   "execution_count": 11,
   "metadata": {},
   "outputs": [],
   "source": [
    "# получаем сырые данные\n",
    "query = '''\n",
    "            SELECT * FROM reviews\n",
    "        '''\n",
    "reviews = pd.io.sql.read_sql(query, con = engine)"
   ]
  },
  {
   "cell_type": "code",
   "execution_count": 12,
   "metadata": {
    "scrolled": true
   },
   "outputs": [
    {
     "data": {
      "text/html": [
       "<div>\n",
       "<style scoped>\n",
       "    .dataframe tbody tr th:only-of-type {\n",
       "        vertical-align: middle;\n",
       "    }\n",
       "\n",
       "    .dataframe tbody tr th {\n",
       "        vertical-align: top;\n",
       "    }\n",
       "\n",
       "    .dataframe thead th {\n",
       "        text-align: right;\n",
       "    }\n",
       "</style>\n",
       "<table border=\"1\" class=\"dataframe\">\n",
       "  <thead>\n",
       "    <tr style=\"text-align: right;\">\n",
       "      <th></th>\n",
       "      <th>review_id</th>\n",
       "      <th>book_id</th>\n",
       "      <th>username</th>\n",
       "      <th>text</th>\n",
       "    </tr>\n",
       "  </thead>\n",
       "  <tbody>\n",
       "    <tr>\n",
       "      <th>0</th>\n",
       "      <td>1</td>\n",
       "      <td>1</td>\n",
       "      <td>brandtandrea</td>\n",
       "      <td>Mention society tell send professor analysis. ...</td>\n",
       "    </tr>\n",
       "    <tr>\n",
       "      <th>1</th>\n",
       "      <td>2</td>\n",
       "      <td>1</td>\n",
       "      <td>ryanfranco</td>\n",
       "      <td>Foot glass pretty audience hit themselves. Amo...</td>\n",
       "    </tr>\n",
       "    <tr>\n",
       "      <th>2</th>\n",
       "      <td>3</td>\n",
       "      <td>2</td>\n",
       "      <td>lorichen</td>\n",
       "      <td>Listen treat keep worry. Miss husband tax but ...</td>\n",
       "    </tr>\n",
       "    <tr>\n",
       "      <th>3</th>\n",
       "      <td>4</td>\n",
       "      <td>3</td>\n",
       "      <td>johnsonamanda</td>\n",
       "      <td>Finally month interesting blue could nature cu...</td>\n",
       "    </tr>\n",
       "    <tr>\n",
       "      <th>4</th>\n",
       "      <td>5</td>\n",
       "      <td>3</td>\n",
       "      <td>scotttamara</td>\n",
       "      <td>Nation purpose heavy give wait song will. List...</td>\n",
       "    </tr>\n",
       "  </tbody>\n",
       "</table>\n",
       "</div>"
      ],
      "text/plain": [
       "   review_id  book_id       username  \\\n",
       "0          1        1   brandtandrea   \n",
       "1          2        1     ryanfranco   \n",
       "2          3        2       lorichen   \n",
       "3          4        3  johnsonamanda   \n",
       "4          5        3    scotttamara   \n",
       "\n",
       "                                                text  \n",
       "0  Mention society tell send professor analysis. ...  \n",
       "1  Foot glass pretty audience hit themselves. Amo...  \n",
       "2  Listen treat keep worry. Miss husband tax but ...  \n",
       "3  Finally month interesting blue could nature cu...  \n",
       "4  Nation purpose heavy give wait song will. List...  "
      ]
     },
     "execution_count": 12,
     "metadata": {},
     "output_type": "execute_result"
    }
   ],
   "source": [
    "reviews.head()"
   ]
  },
  {
   "cell_type": "code",
   "execution_count": 13,
   "metadata": {},
   "outputs": [
    {
     "data": {
      "text/html": [
       "<div>\n",
       "<style scoped>\n",
       "    .dataframe tbody tr th:only-of-type {\n",
       "        vertical-align: middle;\n",
       "    }\n",
       "\n",
       "    .dataframe tbody tr th {\n",
       "        vertical-align: top;\n",
       "    }\n",
       "\n",
       "    .dataframe thead th {\n",
       "        text-align: right;\n",
       "    }\n",
       "</style>\n",
       "<table border=\"1\" class=\"dataframe\">\n",
       "  <thead>\n",
       "    <tr style=\"text-align: right;\">\n",
       "      <th></th>\n",
       "      <th>schemaname</th>\n",
       "      <th>tablename</th>\n",
       "      <th>tableowner</th>\n",
       "      <th>tablespace</th>\n",
       "      <th>hasindexes</th>\n",
       "      <th>hasrules</th>\n",
       "      <th>hastriggers</th>\n",
       "      <th>rowsecurity</th>\n",
       "    </tr>\n",
       "  </thead>\n",
       "  <tbody>\n",
       "    <tr>\n",
       "      <th>0</th>\n",
       "      <td>public</td>\n",
       "      <td>orders</td>\n",
       "      <td>praktikum_admin</td>\n",
       "      <td>None</td>\n",
       "      <td>True</td>\n",
       "      <td>False</td>\n",
       "      <td>False</td>\n",
       "      <td>False</td>\n",
       "    </tr>\n",
       "    <tr>\n",
       "      <th>1</th>\n",
       "      <td>public</td>\n",
       "      <td>visits</td>\n",
       "      <td>praktikum_admin</td>\n",
       "      <td>None</td>\n",
       "      <td>True</td>\n",
       "      <td>False</td>\n",
       "      <td>False</td>\n",
       "      <td>False</td>\n",
       "    </tr>\n",
       "    <tr>\n",
       "      <th>2</th>\n",
       "      <td>public</td>\n",
       "      <td>advertisment_costs</td>\n",
       "      <td>praktikum_admin</td>\n",
       "      <td>None</td>\n",
       "      <td>True</td>\n",
       "      <td>False</td>\n",
       "      <td>False</td>\n",
       "      <td>False</td>\n",
       "    </tr>\n",
       "    <tr>\n",
       "      <th>3</th>\n",
       "      <td>public</td>\n",
       "      <td>authors</td>\n",
       "      <td>praktikum_admin</td>\n",
       "      <td>None</td>\n",
       "      <td>True</td>\n",
       "      <td>False</td>\n",
       "      <td>True</td>\n",
       "      <td>False</td>\n",
       "    </tr>\n",
       "    <tr>\n",
       "      <th>4</th>\n",
       "      <td>public</td>\n",
       "      <td>publishers</td>\n",
       "      <td>praktikum_admin</td>\n",
       "      <td>None</td>\n",
       "      <td>True</td>\n",
       "      <td>False</td>\n",
       "      <td>True</td>\n",
       "      <td>False</td>\n",
       "    </tr>\n",
       "    <tr>\n",
       "      <th>5</th>\n",
       "      <td>public</td>\n",
       "      <td>reviews</td>\n",
       "      <td>praktikum_admin</td>\n",
       "      <td>None</td>\n",
       "      <td>True</td>\n",
       "      <td>False</td>\n",
       "      <td>True</td>\n",
       "      <td>False</td>\n",
       "    </tr>\n",
       "    <tr>\n",
       "      <th>6</th>\n",
       "      <td>public</td>\n",
       "      <td>ratings</td>\n",
       "      <td>praktikum_admin</td>\n",
       "      <td>None</td>\n",
       "      <td>True</td>\n",
       "      <td>False</td>\n",
       "      <td>True</td>\n",
       "      <td>False</td>\n",
       "    </tr>\n",
       "    <tr>\n",
       "      <th>7</th>\n",
       "      <td>public</td>\n",
       "      <td>books</td>\n",
       "      <td>praktikum_admin</td>\n",
       "      <td>None</td>\n",
       "      <td>True</td>\n",
       "      <td>False</td>\n",
       "      <td>True</td>\n",
       "      <td>False</td>\n",
       "    </tr>\n",
       "  </tbody>\n",
       "</table>\n",
       "</div>"
      ],
      "text/plain": [
       "  schemaname           tablename       tableowner tablespace  hasindexes  \\\n",
       "0     public              orders  praktikum_admin       None        True   \n",
       "1     public              visits  praktikum_admin       None        True   \n",
       "2     public  advertisment_costs  praktikum_admin       None        True   \n",
       "3     public             authors  praktikum_admin       None        True   \n",
       "4     public          publishers  praktikum_admin       None        True   \n",
       "5     public             reviews  praktikum_admin       None        True   \n",
       "6     public             ratings  praktikum_admin       None        True   \n",
       "7     public               books  praktikum_admin       None        True   \n",
       "\n",
       "   hasrules  hastriggers  rowsecurity  \n",
       "0     False        False        False  \n",
       "1     False        False        False  \n",
       "2     False        False        False  \n",
       "3     False         True        False  \n",
       "4     False         True        False  \n",
       "5     False         True        False  \n",
       "6     False         True        False  \n",
       "7     False         True        False  "
      ]
     },
     "metadata": {},
     "output_type": "display_data"
    },
    {
     "data": {
      "text/html": [
       "<div>\n",
       "<style scoped>\n",
       "    .dataframe tbody tr th:only-of-type {\n",
       "        vertical-align: middle;\n",
       "    }\n",
       "\n",
       "    .dataframe tbody tr th {\n",
       "        vertical-align: top;\n",
       "    }\n",
       "\n",
       "    .dataframe thead th {\n",
       "        text-align: right;\n",
       "    }\n",
       "</style>\n",
       "<table border=\"1\" class=\"dataframe\">\n",
       "  <thead>\n",
       "    <tr style=\"text-align: right;\">\n",
       "      <th></th>\n",
       "      <th>table_name</th>\n",
       "      <th>column_name</th>\n",
       "      <th>data_type</th>\n",
       "      <th>is_nullable</th>\n",
       "    </tr>\n",
       "  </thead>\n",
       "  <tbody>\n",
       "    <tr>\n",
       "      <th>0</th>\n",
       "      <td>authors</td>\n",
       "      <td>author_id</td>\n",
       "      <td>integer</td>\n",
       "      <td>NO</td>\n",
       "    </tr>\n",
       "    <tr>\n",
       "      <th>1</th>\n",
       "      <td>authors</td>\n",
       "      <td>author</td>\n",
       "      <td>text</td>\n",
       "      <td>YES</td>\n",
       "    </tr>\n",
       "    <tr>\n",
       "      <th>2</th>\n",
       "      <td>publishers</td>\n",
       "      <td>publisher_id</td>\n",
       "      <td>integer</td>\n",
       "      <td>NO</td>\n",
       "    </tr>\n",
       "    <tr>\n",
       "      <th>3</th>\n",
       "      <td>publishers</td>\n",
       "      <td>publisher</td>\n",
       "      <td>text</td>\n",
       "      <td>YES</td>\n",
       "    </tr>\n",
       "    <tr>\n",
       "      <th>4</th>\n",
       "      <td>reviews</td>\n",
       "      <td>review_id</td>\n",
       "      <td>integer</td>\n",
       "      <td>NO</td>\n",
       "    </tr>\n",
       "    <tr>\n",
       "      <th>5</th>\n",
       "      <td>reviews</td>\n",
       "      <td>book_id</td>\n",
       "      <td>integer</td>\n",
       "      <td>YES</td>\n",
       "    </tr>\n",
       "    <tr>\n",
       "      <th>6</th>\n",
       "      <td>reviews</td>\n",
       "      <td>username</td>\n",
       "      <td>text</td>\n",
       "      <td>YES</td>\n",
       "    </tr>\n",
       "    <tr>\n",
       "      <th>7</th>\n",
       "      <td>reviews</td>\n",
       "      <td>text</td>\n",
       "      <td>text</td>\n",
       "      <td>YES</td>\n",
       "    </tr>\n",
       "    <tr>\n",
       "      <th>8</th>\n",
       "      <td>ratings</td>\n",
       "      <td>rating_id</td>\n",
       "      <td>integer</td>\n",
       "      <td>NO</td>\n",
       "    </tr>\n",
       "    <tr>\n",
       "      <th>9</th>\n",
       "      <td>ratings</td>\n",
       "      <td>book_id</td>\n",
       "      <td>integer</td>\n",
       "      <td>YES</td>\n",
       "    </tr>\n",
       "    <tr>\n",
       "      <th>10</th>\n",
       "      <td>ratings</td>\n",
       "      <td>username</td>\n",
       "      <td>text</td>\n",
       "      <td>YES</td>\n",
       "    </tr>\n",
       "    <tr>\n",
       "      <th>11</th>\n",
       "      <td>ratings</td>\n",
       "      <td>rating</td>\n",
       "      <td>integer</td>\n",
       "      <td>YES</td>\n",
       "    </tr>\n",
       "    <tr>\n",
       "      <th>12</th>\n",
       "      <td>books</td>\n",
       "      <td>book_id</td>\n",
       "      <td>integer</td>\n",
       "      <td>NO</td>\n",
       "    </tr>\n",
       "    <tr>\n",
       "      <th>13</th>\n",
       "      <td>books</td>\n",
       "      <td>author_id</td>\n",
       "      <td>integer</td>\n",
       "      <td>YES</td>\n",
       "    </tr>\n",
       "    <tr>\n",
       "      <th>14</th>\n",
       "      <td>books</td>\n",
       "      <td>title</td>\n",
       "      <td>text</td>\n",
       "      <td>YES</td>\n",
       "    </tr>\n",
       "    <tr>\n",
       "      <th>15</th>\n",
       "      <td>books</td>\n",
       "      <td>num_pages</td>\n",
       "      <td>integer</td>\n",
       "      <td>YES</td>\n",
       "    </tr>\n",
       "    <tr>\n",
       "      <th>16</th>\n",
       "      <td>books</td>\n",
       "      <td>publication_date</td>\n",
       "      <td>date</td>\n",
       "      <td>YES</td>\n",
       "    </tr>\n",
       "    <tr>\n",
       "      <th>17</th>\n",
       "      <td>books</td>\n",
       "      <td>publisher_id</td>\n",
       "      <td>integer</td>\n",
       "      <td>YES</td>\n",
       "    </tr>\n",
       "  </tbody>\n",
       "</table>\n",
       "</div>"
      ],
      "text/plain": [
       "    table_name       column_name data_type is_nullable\n",
       "0      authors         author_id   integer          NO\n",
       "1      authors            author      text         YES\n",
       "2   publishers      publisher_id   integer          NO\n",
       "3   publishers         publisher      text         YES\n",
       "4      reviews         review_id   integer          NO\n",
       "5      reviews           book_id   integer         YES\n",
       "6      reviews          username      text         YES\n",
       "7      reviews              text      text         YES\n",
       "8      ratings         rating_id   integer          NO\n",
       "9      ratings           book_id   integer         YES\n",
       "10     ratings          username      text         YES\n",
       "11     ratings            rating   integer         YES\n",
       "12       books           book_id   integer          NO\n",
       "13       books         author_id   integer         YES\n",
       "14       books             title      text         YES\n",
       "15       books         num_pages   integer         YES\n",
       "16       books  publication_date      date         YES\n",
       "17       books      publisher_id   integer         YES"
      ]
     },
     "metadata": {},
     "output_type": "display_data"
    }
   ],
   "source": [
    "# КОД РЕВЬЮЕРА\n",
    "# какие ещё таблицы доступны в базе\n",
    "display(pd.io.sql.read_sql('''\n",
    "\n",
    "SELECT *\n",
    "FROM pg_catalog.pg_tables\n",
    "WHERE schemaname != 'pg_catalog' AND\n",
    "      schemaname != 'information_schema';\n",
    "\n",
    "''', con = engine))\n",
    "\n",
    "\n",
    "# смотрим на типы столбцов в интересующих таблицах\n",
    "display(pd.io.sql.read_sql('''\n",
    "SELECT \n",
    "    table_name, \n",
    "    column_name, \n",
    "    data_type, \n",
    "    is_nullable\n",
    "FROM INFORMATION_SCHEMA.COLUMNS \n",
    "WHERE table_name IN ('books', 'authors', 'publishers', 'ratings', 'reviews');\n",
    "''', con = engine))"
   ]
  },
  {
   "cell_type": "markdown",
   "metadata": {},
   "source": [
    "### Задание 1 - посчитать, сколько книг вышло после 1 января 2000 года."
   ]
  },
  {
   "cell_type": "code",
   "execution_count": 14,
   "metadata": {},
   "outputs": [],
   "source": [
    "# функция для запросов к данным\n",
    "def select(sql):\n",
    "    return pd.read_sql(sql, con=engine)"
   ]
  },
  {
   "cell_type": "code",
   "execution_count": 15,
   "metadata": {},
   "outputs": [
    {
     "data": {
      "text/html": [
       "<div>\n",
       "<style scoped>\n",
       "    .dataframe tbody tr th:only-of-type {\n",
       "        vertical-align: middle;\n",
       "    }\n",
       "\n",
       "    .dataframe tbody tr th {\n",
       "        vertical-align: top;\n",
       "    }\n",
       "\n",
       "    .dataframe thead th {\n",
       "        text-align: right;\n",
       "    }\n",
       "</style>\n",
       "<table border=\"1\" class=\"dataframe\">\n",
       "  <thead>\n",
       "    <tr style=\"text-align: right;\">\n",
       "      <th></th>\n",
       "      <th>count</th>\n",
       "    </tr>\n",
       "  </thead>\n",
       "  <tbody>\n",
       "    <tr>\n",
       "      <th>0</th>\n",
       "      <td>819</td>\n",
       "    </tr>\n",
       "  </tbody>\n",
       "</table>\n",
       "</div>"
      ],
      "text/plain": [
       "   count\n",
       "0    819"
      ]
     },
     "execution_count": 15,
     "metadata": {},
     "output_type": "execute_result"
    }
   ],
   "source": [
    "task1 = ''' \n",
    "SELECT COUNT(*) \n",
    "FROM books\n",
    "WHERE publication_date > '2000-1-1'; \n",
    "'''\n",
    "select(task1)"
   ]
  },
  {
   "cell_type": "markdown",
   "metadata": {},
   "source": [
    "<b>Вывод:</b>  \n",
    "После 1 января 2000 года вышло 819 книг."
   ]
  },
  {
   "cell_type": "markdown",
   "metadata": {},
   "source": [
    "### Задание 2 - для каждой книги посчитать количество обзоров и среднюю оценку."
   ]
  },
  {
   "cell_type": "code",
   "execution_count": 16,
   "metadata": {},
   "outputs": [
    {
     "data": {
      "text/html": [
       "<div>\n",
       "<style scoped>\n",
       "    .dataframe tbody tr th:only-of-type {\n",
       "        vertical-align: middle;\n",
       "    }\n",
       "\n",
       "    .dataframe tbody tr th {\n",
       "        vertical-align: top;\n",
       "    }\n",
       "\n",
       "    .dataframe thead th {\n",
       "        text-align: right;\n",
       "    }\n",
       "</style>\n",
       "<table border=\"1\" class=\"dataframe\">\n",
       "  <thead>\n",
       "    <tr style=\"text-align: right;\">\n",
       "      <th></th>\n",
       "      <th>books_id</th>\n",
       "      <th>books_title</th>\n",
       "      <th>counts_reviews</th>\n",
       "      <th>avg_ratings</th>\n",
       "    </tr>\n",
       "  </thead>\n",
       "  <tbody>\n",
       "    <tr>\n",
       "      <th>0</th>\n",
       "      <td>948</td>\n",
       "      <td>Twilight (Twilight  #1)</td>\n",
       "      <td>7</td>\n",
       "      <td>3.66</td>\n",
       "    </tr>\n",
       "    <tr>\n",
       "      <th>1</th>\n",
       "      <td>627</td>\n",
       "      <td>The Alchemist</td>\n",
       "      <td>6</td>\n",
       "      <td>3.79</td>\n",
       "    </tr>\n",
       "    <tr>\n",
       "      <th>2</th>\n",
       "      <td>497</td>\n",
       "      <td>Outlander (Outlander  #1)</td>\n",
       "      <td>6</td>\n",
       "      <td>4.12</td>\n",
       "    </tr>\n",
       "    <tr>\n",
       "      <th>3</th>\n",
       "      <td>750</td>\n",
       "      <td>The Hobbit  or There and Back Again</td>\n",
       "      <td>6</td>\n",
       "      <td>4.12</td>\n",
       "    </tr>\n",
       "    <tr>\n",
       "      <th>4</th>\n",
       "      <td>207</td>\n",
       "      <td>Eat  Pray  Love</td>\n",
       "      <td>6</td>\n",
       "      <td>3.40</td>\n",
       "    </tr>\n",
       "    <tr>\n",
       "      <th>5</th>\n",
       "      <td>656</td>\n",
       "      <td>The Book Thief</td>\n",
       "      <td>6</td>\n",
       "      <td>4.26</td>\n",
       "    </tr>\n",
       "    <tr>\n",
       "      <th>6</th>\n",
       "      <td>695</td>\n",
       "      <td>The Curious Incident of the Dog in the Night-Time</td>\n",
       "      <td>6</td>\n",
       "      <td>4.08</td>\n",
       "    </tr>\n",
       "    <tr>\n",
       "      <th>7</th>\n",
       "      <td>673</td>\n",
       "      <td>The Catcher in the Rye</td>\n",
       "      <td>6</td>\n",
       "      <td>3.83</td>\n",
       "    </tr>\n",
       "    <tr>\n",
       "      <th>8</th>\n",
       "      <td>733</td>\n",
       "      <td>The Giver (The Giver  #1)</td>\n",
       "      <td>6</td>\n",
       "      <td>3.75</td>\n",
       "    </tr>\n",
       "    <tr>\n",
       "      <th>9</th>\n",
       "      <td>734</td>\n",
       "      <td>The Glass Castle</td>\n",
       "      <td>6</td>\n",
       "      <td>4.21</td>\n",
       "    </tr>\n",
       "    <tr>\n",
       "      <th>10</th>\n",
       "      <td>779</td>\n",
       "      <td>The Lightning Thief (Percy Jackson and the Oly...</td>\n",
       "      <td>6</td>\n",
       "      <td>4.08</td>\n",
       "    </tr>\n",
       "    <tr>\n",
       "      <th>11</th>\n",
       "      <td>854</td>\n",
       "      <td>The Road</td>\n",
       "      <td>6</td>\n",
       "      <td>3.77</td>\n",
       "    </tr>\n",
       "    <tr>\n",
       "      <th>12</th>\n",
       "      <td>963</td>\n",
       "      <td>Water for Elephants</td>\n",
       "      <td>6</td>\n",
       "      <td>3.98</td>\n",
       "    </tr>\n",
       "    <tr>\n",
       "      <th>13</th>\n",
       "      <td>696</td>\n",
       "      <td>The Da Vinci Code (Robert Langdon  #2)</td>\n",
       "      <td>6</td>\n",
       "      <td>3.83</td>\n",
       "    </tr>\n",
       "    <tr>\n",
       "      <th>14</th>\n",
       "      <td>299</td>\n",
       "      <td>Harry Potter and the Chamber of Secrets (Harry...</td>\n",
       "      <td>6</td>\n",
       "      <td>4.29</td>\n",
       "    </tr>\n",
       "    <tr>\n",
       "      <th>15</th>\n",
       "      <td>302</td>\n",
       "      <td>Harry Potter and the Prisoner of Azkaban (Harr...</td>\n",
       "      <td>6</td>\n",
       "      <td>4.41</td>\n",
       "    </tr>\n",
       "    <tr>\n",
       "      <th>16</th>\n",
       "      <td>15</td>\n",
       "      <td>A Clash of Kings  (A Song of Ice and Fire  #2)</td>\n",
       "      <td>5</td>\n",
       "      <td>4.39</td>\n",
       "    </tr>\n",
       "    <tr>\n",
       "      <th>17</th>\n",
       "      <td>232</td>\n",
       "      <td>Extremely Loud and Incredibly Close</td>\n",
       "      <td>5</td>\n",
       "      <td>3.42</td>\n",
       "    </tr>\n",
       "    <tr>\n",
       "      <th>18</th>\n",
       "      <td>267</td>\n",
       "      <td>Freakonomics: A Rogue Economist Explores the H...</td>\n",
       "      <td>5</td>\n",
       "      <td>3.91</td>\n",
       "    </tr>\n",
       "    <tr>\n",
       "      <th>19</th>\n",
       "      <td>194</td>\n",
       "      <td>Dracula</td>\n",
       "      <td>5</td>\n",
       "      <td>3.30</td>\n",
       "    </tr>\n",
       "  </tbody>\n",
       "</table>\n",
       "</div>"
      ],
      "text/plain": [
       "    books_id                                        books_title  \\\n",
       "0        948                            Twilight (Twilight  #1)   \n",
       "1        627                                      The Alchemist   \n",
       "2        497                          Outlander (Outlander  #1)   \n",
       "3        750                The Hobbit  or There and Back Again   \n",
       "4        207                                    Eat  Pray  Love   \n",
       "5        656                                     The Book Thief   \n",
       "6        695  The Curious Incident of the Dog in the Night-Time   \n",
       "7        673                             The Catcher in the Rye   \n",
       "8        733                          The Giver (The Giver  #1)   \n",
       "9        734                                   The Glass Castle   \n",
       "10       779  The Lightning Thief (Percy Jackson and the Oly...   \n",
       "11       854                                           The Road   \n",
       "12       963                                Water for Elephants   \n",
       "13       696             The Da Vinci Code (Robert Langdon  #2)   \n",
       "14       299  Harry Potter and the Chamber of Secrets (Harry...   \n",
       "15       302  Harry Potter and the Prisoner of Azkaban (Harr...   \n",
       "16        15     A Clash of Kings  (A Song of Ice and Fire  #2)   \n",
       "17       232                Extremely Loud and Incredibly Close   \n",
       "18       267  Freakonomics: A Rogue Economist Explores the H...   \n",
       "19       194                                            Dracula   \n",
       "\n",
       "    counts_reviews  avg_ratings  \n",
       "0                7         3.66  \n",
       "1                6         3.79  \n",
       "2                6         4.12  \n",
       "3                6         4.12  \n",
       "4                6         3.40  \n",
       "5                6         4.26  \n",
       "6                6         4.08  \n",
       "7                6         3.83  \n",
       "8                6         3.75  \n",
       "9                6         4.21  \n",
       "10               6         4.08  \n",
       "11               6         3.77  \n",
       "12               6         3.98  \n",
       "13               6         3.83  \n",
       "14               6         4.29  \n",
       "15               6         4.41  \n",
       "16               5         4.39  \n",
       "17               5         3.42  \n",
       "18               5         3.91  \n",
       "19               5         3.30  "
      ]
     },
     "execution_count": 16,
     "metadata": {},
     "output_type": "execute_result"
    }
   ],
   "source": [
    "task2 = '''                              \n",
    "SELECT\n",
    "    b.book_id AS books_id,\n",
    "    b.title AS books_title,\n",
    "    COUNT(DISTINCT rw.review_id) AS counts_reviews,\n",
    "    AVG(rt.rating) AS avg_ratings\n",
    "\n",
    "FROM\n",
    "    books AS b\n",
    "    INNER JOIN ratings AS rt ON rt.book_id = b.book_id\n",
    "    LEFT JOIN reviews AS rw ON rw.book_id = b.book_id\n",
    "                    \n",
    "\n",
    "GROUP BY\n",
    "    b.title,\n",
    "    b.book_id\n",
    "\n",
    "ORDER BY\n",
    "    counts_reviews DESC\n",
    "LIMIT 20                        \n",
    "; ''' \n",
    "select(task2).round(2)"
   ]
  },
  {
   "cell_type": "markdown",
   "metadata": {},
   "source": [
    "Наибольшее количество обзоров получила книга под названиями Twilight (Twilight #1) со средней оценкой 3,66.                                                                    "
   ]
  },
  {
   "cell_type": "markdown",
   "metadata": {},
   "source": [
    "### Задание 3 - определить издательство, которое выпустило наибольшее число книг толще 50 страниц."
   ]
  },
  {
   "cell_type": "code",
   "execution_count": 17,
   "metadata": {},
   "outputs": [
    {
     "data": {
      "text/html": [
       "<div>\n",
       "<style scoped>\n",
       "    .dataframe tbody tr th:only-of-type {\n",
       "        vertical-align: middle;\n",
       "    }\n",
       "\n",
       "    .dataframe tbody tr th {\n",
       "        vertical-align: top;\n",
       "    }\n",
       "\n",
       "    .dataframe thead th {\n",
       "        text-align: right;\n",
       "    }\n",
       "</style>\n",
       "<table border=\"1\" class=\"dataframe\">\n",
       "  <thead>\n",
       "    <tr style=\"text-align: right;\">\n",
       "      <th></th>\n",
       "      <th>publisher_id</th>\n",
       "      <th>name_publisher</th>\n",
       "      <th>count_books</th>\n",
       "    </tr>\n",
       "  </thead>\n",
       "  <tbody>\n",
       "    <tr>\n",
       "      <th>0</th>\n",
       "      <td>212</td>\n",
       "      <td>Penguin Books</td>\n",
       "      <td>42</td>\n",
       "    </tr>\n",
       "    <tr>\n",
       "      <th>1</th>\n",
       "      <td>309</td>\n",
       "      <td>Vintage</td>\n",
       "      <td>31</td>\n",
       "    </tr>\n",
       "    <tr>\n",
       "      <th>2</th>\n",
       "      <td>116</td>\n",
       "      <td>Grand Central Publishing</td>\n",
       "      <td>25</td>\n",
       "    </tr>\n",
       "    <tr>\n",
       "      <th>3</th>\n",
       "      <td>217</td>\n",
       "      <td>Penguin Classics</td>\n",
       "      <td>24</td>\n",
       "    </tr>\n",
       "    <tr>\n",
       "      <th>4</th>\n",
       "      <td>33</td>\n",
       "      <td>Ballantine Books</td>\n",
       "      <td>19</td>\n",
       "    </tr>\n",
       "    <tr>\n",
       "      <th>...</th>\n",
       "      <td>...</td>\n",
       "      <td>...</td>\n",
       "      <td>...</td>\n",
       "    </tr>\n",
       "    <tr>\n",
       "      <th>329</th>\n",
       "      <td>148</td>\n",
       "      <td>Harvard Business Review Press</td>\n",
       "      <td>1</td>\n",
       "    </tr>\n",
       "    <tr>\n",
       "      <th>330</th>\n",
       "      <td>302</td>\n",
       "      <td>Tyndale House Publishers</td>\n",
       "      <td>1</td>\n",
       "    </tr>\n",
       "    <tr>\n",
       "      <th>331</th>\n",
       "      <td>66</td>\n",
       "      <td>Corgi Childrens</td>\n",
       "      <td>1</td>\n",
       "    </tr>\n",
       "    <tr>\n",
       "      <th>332</th>\n",
       "      <td>230</td>\n",
       "      <td>Pocket Books / Simon &amp; Schuster  Inc.</td>\n",
       "      <td>1</td>\n",
       "    </tr>\n",
       "    <tr>\n",
       "      <th>333</th>\n",
       "      <td>199</td>\n",
       "      <td>Orchard Books</td>\n",
       "      <td>1</td>\n",
       "    </tr>\n",
       "  </tbody>\n",
       "</table>\n",
       "<p>334 rows × 3 columns</p>\n",
       "</div>"
      ],
      "text/plain": [
       "     publisher_id                         name_publisher  count_books\n",
       "0             212                          Penguin Books           42\n",
       "1             309                                Vintage           31\n",
       "2             116               Grand Central Publishing           25\n",
       "3             217                       Penguin Classics           24\n",
       "4              33                       Ballantine Books           19\n",
       "..            ...                                    ...          ...\n",
       "329           148          Harvard Business Review Press            1\n",
       "330           302               Tyndale House Publishers            1\n",
       "331            66                        Corgi Childrens            1\n",
       "332           230  Pocket Books / Simon & Schuster  Inc.            1\n",
       "333           199                          Orchard Books            1\n",
       "\n",
       "[334 rows x 3 columns]"
      ]
     },
     "execution_count": 17,
     "metadata": {},
     "output_type": "execute_result"
    }
   ],
   "source": [
    "task3 = ''' \n",
    "SELECT\n",
    "    table1.publisher_id,\n",
    "    table1.name_publisher,\n",
    "    table1.count_books\n",
    "FROM\n",
    "    (SELECT \n",
    "        b.publisher_id AS publisher_id,\n",
    "        COUNT(b.book_id) AS count_books,\n",
    "        p.publisher AS name_publisher \n",
    "    FROM \n",
    "        books AS b\n",
    "        LEFT JOIN publishers AS p ON b.publisher_id=p.publisher_id\n",
    "\n",
    "    WHERE \n",
    "        num_pages>50\n",
    "    GROUP BY\n",
    "        b.publisher_id,\n",
    "        p.publisher\n",
    "    ORDER BY \n",
    "        count_books DESC) AS table1\n",
    "; ''' \n",
    "select(task3)"
   ]
  },
  {
   "cell_type": "markdown",
   "metadata": {},
   "source": [
    "<b>Вывод:</b>  \n",
    "Издательство 'Penguin Books'  выпустило наибольшее число книг (42 книги) толщиной более 50 страниц."
   ]
  },
  {
   "cell_type": "markdown",
   "metadata": {},
   "source": [
    "### Задание 4 - определить автора с самой высокой средней оценкой книг — учитывать только книги с 50 и более оценками."
   ]
  },
  {
   "cell_type": "code",
   "execution_count": 18,
   "metadata": {},
   "outputs": [
    {
     "data": {
      "text/html": [
       "<div>\n",
       "<style scoped>\n",
       "    .dataframe tbody tr th:only-of-type {\n",
       "        vertical-align: middle;\n",
       "    }\n",
       "\n",
       "    .dataframe tbody tr th {\n",
       "        vertical-align: top;\n",
       "    }\n",
       "\n",
       "    .dataframe thead th {\n",
       "        text-align: right;\n",
       "    }\n",
       "</style>\n",
       "<table border=\"1\" class=\"dataframe\">\n",
       "  <thead>\n",
       "    <tr style=\"text-align: right;\">\n",
       "      <th></th>\n",
       "      <th>author</th>\n",
       "      <th>avg_aut_rating</th>\n",
       "    </tr>\n",
       "  </thead>\n",
       "  <tbody>\n",
       "    <tr>\n",
       "      <th>0</th>\n",
       "      <td>J.K. Rowling/Mary GrandPré</td>\n",
       "      <td>4.283844</td>\n",
       "    </tr>\n",
       "    <tr>\n",
       "      <th>1</th>\n",
       "      <td>Markus Zusak/Cao Xuân Việt Khương</td>\n",
       "      <td>4.264151</td>\n",
       "    </tr>\n",
       "    <tr>\n",
       "      <th>2</th>\n",
       "      <td>J.R.R. Tolkien</td>\n",
       "      <td>4.258446</td>\n",
       "    </tr>\n",
       "    <tr>\n",
       "      <th>3</th>\n",
       "      <td>Louisa May Alcott</td>\n",
       "      <td>4.192308</td>\n",
       "    </tr>\n",
       "    <tr>\n",
       "      <th>4</th>\n",
       "      <td>Rick Riordan</td>\n",
       "      <td>4.080645</td>\n",
       "    </tr>\n",
       "    <tr>\n",
       "      <th>5</th>\n",
       "      <td>William Golding</td>\n",
       "      <td>3.901408</td>\n",
       "    </tr>\n",
       "    <tr>\n",
       "      <th>6</th>\n",
       "      <td>J.D. Salinger</td>\n",
       "      <td>3.825581</td>\n",
       "    </tr>\n",
       "    <tr>\n",
       "      <th>7</th>\n",
       "      <td>Paulo Coelho/Alan R. Clarke/Özdemir İnce</td>\n",
       "      <td>3.789474</td>\n",
       "    </tr>\n",
       "    <tr>\n",
       "      <th>8</th>\n",
       "      <td>William Shakespeare/Paul Werstine/Barbara A. M...</td>\n",
       "      <td>3.787879</td>\n",
       "    </tr>\n",
       "    <tr>\n",
       "      <th>9</th>\n",
       "      <td>Dan Brown</td>\n",
       "      <td>3.754540</td>\n",
       "    </tr>\n",
       "    <tr>\n",
       "      <th>10</th>\n",
       "      <td>Lois Lowry</td>\n",
       "      <td>3.750000</td>\n",
       "    </tr>\n",
       "    <tr>\n",
       "      <th>11</th>\n",
       "      <td>George Orwell/Boris Grabnar/Peter Škerl</td>\n",
       "      <td>3.729730</td>\n",
       "    </tr>\n",
       "    <tr>\n",
       "      <th>12</th>\n",
       "      <td>Stephenie Meyer</td>\n",
       "      <td>3.662500</td>\n",
       "    </tr>\n",
       "    <tr>\n",
       "      <th>13</th>\n",
       "      <td>John Steinbeck</td>\n",
       "      <td>3.622951</td>\n",
       "    </tr>\n",
       "  </tbody>\n",
       "</table>\n",
       "</div>"
      ],
      "text/plain": [
       "                                               author  avg_aut_rating\n",
       "0                          J.K. Rowling/Mary GrandPré        4.283844\n",
       "1                   Markus Zusak/Cao Xuân Việt Khương        4.264151\n",
       "2                                      J.R.R. Tolkien        4.258446\n",
       "3                                   Louisa May Alcott        4.192308\n",
       "4                                        Rick Riordan        4.080645\n",
       "5                                     William Golding        3.901408\n",
       "6                                       J.D. Salinger        3.825581\n",
       "7            Paulo Coelho/Alan R. Clarke/Özdemir İnce        3.789474\n",
       "8   William Shakespeare/Paul Werstine/Barbara A. M...        3.787879\n",
       "9                                           Dan Brown        3.754540\n",
       "10                                         Lois Lowry        3.750000\n",
       "11            George Orwell/Boris Grabnar/Peter Škerl        3.729730\n",
       "12                                    Stephenie Meyer        3.662500\n",
       "13                                     John Steinbeck        3.622951"
      ]
     },
     "execution_count": 18,
     "metadata": {},
     "output_type": "execute_result"
    }
   ],
   "source": [
    "task4 = ''' \n",
    "SELECT \n",
    "    avg_aut_rat.author,\n",
    "    AVG(avg_aut_rat.avg_rating) AS avg_aut_rating\n",
    "FROM\n",
    "        (SELECT \n",
    "            a.author AS author,\n",
    "            AVG(r.rating) AS avg_rating\n",
    "        FROM books AS b\n",
    "            LEFT JOIN authors AS a ON b.author_id = a.author_id\n",
    "            LEFT JOIN ratings AS r ON b.book_id = r.book_id\n",
    "        GROUP BY \n",
    "             b.book_id,\n",
    "             a.author_id\n",
    "        HAVING\n",
    "            COUNT(r.rating_id) >=50 \n",
    "        ) AS avg_aut_rat\n",
    "GROUP BY    \n",
    "    avg_aut_rat.author\n",
    "ORDER BY\n",
    "    avg_aut_rating DESC\n",
    "    \n",
    "; ''' \n",
    "select(task4)"
   ]
  },
  {
   "cell_type": "markdown",
   "metadata": {},
   "source": [
    "<b>Вывод:</b>  \n",
    "Если учитывать только книги с 50 и более оценками, то автором с самой высокой средней оценкой книг становится J.K. Rowling/Mary GrandPré"
   ]
  },
  {
   "cell_type": "markdown",
   "metadata": {},
   "source": [
    "### Задание 5 - посчитать среднее количество обзоров от пользователей, которые поставили больше 50 оценок."
   ]
  },
  {
   "cell_type": "code",
   "execution_count": 19,
   "metadata": {},
   "outputs": [
    {
     "data": {
      "text/html": [
       "<div>\n",
       "<style scoped>\n",
       "    .dataframe tbody tr th:only-of-type {\n",
       "        vertical-align: middle;\n",
       "    }\n",
       "\n",
       "    .dataframe tbody tr th {\n",
       "        vertical-align: top;\n",
       "    }\n",
       "\n",
       "    .dataframe thead th {\n",
       "        text-align: right;\n",
       "    }\n",
       "</style>\n",
       "<table border=\"1\" class=\"dataframe\">\n",
       "  <thead>\n",
       "    <tr style=\"text-align: right;\">\n",
       "      <th></th>\n",
       "      <th>avg</th>\n",
       "    </tr>\n",
       "  </thead>\n",
       "  <tbody>\n",
       "    <tr>\n",
       "      <th>0</th>\n",
       "      <td>24.333333</td>\n",
       "    </tr>\n",
       "  </tbody>\n",
       "</table>\n",
       "</div>"
      ],
      "text/plain": [
       "         avg\n",
       "0  24.333333"
      ]
     },
     "execution_count": 19,
     "metadata": {},
     "output_type": "execute_result"
    }
   ],
   "source": [
    "task5 = ''' \n",
    "\n",
    "SELECT\n",
    "    AVG(i.count_rev_id)\n",
    "FROM\n",
    "    (SELECT\n",
    "        DISTINCT(username),\n",
    "        COUNT(review_id) AS count_rev_id\n",
    "    FROM\n",
    "        reviews\n",
    "    WHERE \n",
    "        username IN (\n",
    "                SELECT \n",
    "                    DISTINCT(username)\n",
    "                FROM \n",
    "                    ratings\n",
    "                GROUP BY \n",
    "                    username\n",
    "                HAVING \n",
    "                    COUNT(rating_id) > 50\n",
    "                    )\n",
    "    GROUP BY \n",
    "        username\n",
    "    ) AS i\n",
    "; ''' \n",
    "select(task5)"
   ]
  },
  {
   "cell_type": "markdown",
   "metadata": {},
   "source": [
    "<b>Вывод:</b>  \n",
    "Среднее количество обзоров от пользователей, которые поставили больше 50 оценок - 24,33."
   ]
  }
 ],
 "metadata": {
  "ExecuteTimeLog": [
   {
    "duration": 9793,
    "start_time": "2022-11-26T07:36:03.515Z"
   },
   {
    "duration": 3,
    "start_time": "2022-11-26T07:36:28.377Z"
   },
   {
    "duration": 4,
    "start_time": "2022-11-26T07:36:28.743Z"
   },
   {
    "duration": 76,
    "start_time": "2022-11-26T07:36:57.357Z"
   },
   {
    "duration": 75,
    "start_time": "2022-11-26T07:43:42.516Z"
   },
   {
    "duration": 18,
    "start_time": "2022-11-26T07:43:58.917Z"
   },
   {
    "duration": 11,
    "start_time": "2022-11-26T07:44:19.897Z"
   },
   {
    "duration": 9,
    "start_time": "2022-11-26T07:44:48.777Z"
   },
   {
    "duration": 9,
    "start_time": "2022-11-26T07:45:00.428Z"
   },
   {
    "duration": 10,
    "start_time": "2022-11-26T07:45:09.282Z"
   },
   {
    "duration": 31,
    "start_time": "2022-11-26T07:45:20.889Z"
   },
   {
    "duration": 8,
    "start_time": "2022-11-26T07:45:28.908Z"
   },
   {
    "duration": 17,
    "start_time": "2022-11-26T07:45:45.505Z"
   },
   {
    "duration": 9,
    "start_time": "2022-11-26T07:45:51.948Z"
   },
   {
    "duration": 9,
    "start_time": "2022-11-26T08:40:58.514Z"
   },
   {
    "duration": 3,
    "start_time": "2022-11-26T08:41:22.111Z"
   },
   {
    "duration": 12,
    "start_time": "2022-11-26T08:41:22.665Z"
   },
   {
    "duration": 40,
    "start_time": "2022-11-26T08:41:59.971Z"
   },
   {
    "duration": 24,
    "start_time": "2022-11-26T08:43:21.865Z"
   },
   {
    "duration": 110,
    "start_time": "2022-11-26T09:11:39.676Z"
   },
   {
    "duration": 3,
    "start_time": "2022-11-26T09:11:59.288Z"
   },
   {
    "duration": 2,
    "start_time": "2022-11-26T09:23:16.901Z"
   },
   {
    "duration": 67,
    "start_time": "2022-11-26T09:23:43.327Z"
   },
   {
    "duration": 3,
    "start_time": "2022-11-26T10:11:46.735Z"
   },
   {
    "duration": 12,
    "start_time": "2022-11-26T10:11:47.491Z"
   },
   {
    "duration": 74,
    "start_time": "2022-11-26T10:14:04.036Z"
   },
   {
    "duration": 91,
    "start_time": "2022-11-26T10:14:16.448Z"
   },
   {
    "duration": 72,
    "start_time": "2022-11-26T10:14:43.625Z"
   },
   {
    "duration": 3,
    "start_time": "2022-11-26T10:15:20.274Z"
   },
   {
    "duration": 15,
    "start_time": "2022-11-26T10:15:39.448Z"
   },
   {
    "duration": 12,
    "start_time": "2022-11-26T10:16:28.589Z"
   },
   {
    "duration": 72,
    "start_time": "2022-11-26T10:17:27.268Z"
   },
   {
    "duration": 3,
    "start_time": "2022-11-26T10:17:55.107Z"
   },
   {
    "duration": 12,
    "start_time": "2022-11-26T10:17:55.594Z"
   },
   {
    "duration": 13,
    "start_time": "2022-11-26T10:18:11.457Z"
   },
   {
    "duration": 675,
    "start_time": "2022-11-26T10:18:19.236Z"
   },
   {
    "duration": 8107,
    "start_time": "2022-11-26T10:18:19.913Z"
   },
   {
    "duration": 75,
    "start_time": "2022-11-26T10:18:28.022Z"
   },
   {
    "duration": 17,
    "start_time": "2022-11-26T10:18:28.099Z"
   },
   {
    "duration": 11,
    "start_time": "2022-11-26T10:18:28.119Z"
   },
   {
    "duration": 7,
    "start_time": "2022-11-26T10:18:28.132Z"
   },
   {
    "duration": 11,
    "start_time": "2022-11-26T10:18:28.141Z"
   },
   {
    "duration": 8,
    "start_time": "2022-11-26T10:18:28.154Z"
   },
   {
    "duration": 37,
    "start_time": "2022-11-26T10:18:28.164Z"
   },
   {
    "duration": 8,
    "start_time": "2022-11-26T10:18:28.203Z"
   },
   {
    "duration": 25,
    "start_time": "2022-11-26T10:18:28.213Z"
   },
   {
    "duration": 11,
    "start_time": "2022-11-26T10:18:28.240Z"
   },
   {
    "duration": 3,
    "start_time": "2022-11-26T10:18:28.253Z"
   },
   {
    "duration": 73,
    "start_time": "2022-11-26T10:18:28.258Z"
   },
   {
    "duration": 0,
    "start_time": "2022-11-26T10:18:28.333Z"
   },
   {
    "duration": 0,
    "start_time": "2022-11-26T10:18:28.351Z"
   },
   {
    "duration": 0,
    "start_time": "2022-11-26T10:18:28.353Z"
   },
   {
    "duration": 8,
    "start_time": "2022-11-26T10:18:51.724Z"
   },
   {
    "duration": 3,
    "start_time": "2022-11-26T10:27:42.186Z"
   },
   {
    "duration": 12,
    "start_time": "2022-11-26T10:27:43.585Z"
   },
   {
    "duration": 34,
    "start_time": "2022-11-26T10:34:56.867Z"
   },
   {
    "duration": 32,
    "start_time": "2022-11-26T11:52:55.688Z"
   },
   {
    "duration": 22,
    "start_time": "2022-11-26T12:11:24.317Z"
   },
   {
    "duration": 14,
    "start_time": "2022-11-26T12:12:22.569Z"
   },
   {
    "duration": 10,
    "start_time": "2022-11-26T14:00:15.781Z"
   },
   {
    "duration": 124,
    "start_time": "2022-11-26T14:15:06.309Z"
   },
   {
    "duration": 42,
    "start_time": "2022-11-26T14:16:25.238Z"
   },
   {
    "duration": 34,
    "start_time": "2022-11-26T14:17:43.161Z"
   },
   {
    "duration": 11,
    "start_time": "2022-11-26T14:21:34.617Z"
   },
   {
    "duration": 31,
    "start_time": "2022-11-26T14:22:00.521Z"
   },
   {
    "duration": 17,
    "start_time": "2022-11-26T14:23:11.361Z"
   },
   {
    "duration": 3,
    "start_time": "2022-11-26T14:42:23.943Z"
   },
   {
    "duration": 127,
    "start_time": "2022-11-26T14:46:55.772Z"
   },
   {
    "duration": 19,
    "start_time": "2022-11-26T14:49:31.312Z"
   },
   {
    "duration": 19,
    "start_time": "2022-11-26T14:49:43.926Z"
   },
   {
    "duration": 17,
    "start_time": "2022-11-26T15:08:47.510Z"
   },
   {
    "duration": 23,
    "start_time": "2022-11-26T15:08:59.811Z"
   },
   {
    "duration": 220,
    "start_time": "2022-11-26T15:29:47.893Z"
   },
   {
    "duration": 17,
    "start_time": "2022-11-26T15:31:18.706Z"
   },
   {
    "duration": 32,
    "start_time": "2022-11-26T15:33:36.082Z"
   },
   {
    "duration": 17,
    "start_time": "2022-11-26T15:39:16.802Z"
   },
   {
    "duration": 145,
    "start_time": "2022-11-26T15:40:27.079Z"
   },
   {
    "duration": 187,
    "start_time": "2022-11-26T15:40:56.225Z"
   },
   {
    "duration": 18,
    "start_time": "2022-11-26T15:41:06.874Z"
   },
   {
    "duration": 32,
    "start_time": "2022-11-26T15:46:58.246Z"
   },
   {
    "duration": 15,
    "start_time": "2022-11-26T15:59:42.904Z"
   },
   {
    "duration": 14,
    "start_time": "2022-11-26T16:00:47.935Z"
   },
   {
    "duration": 100,
    "start_time": "2022-11-26T16:07:46.860Z"
   },
   {
    "duration": 32,
    "start_time": "2022-11-26T16:07:55.345Z"
   },
   {
    "duration": 102,
    "start_time": "2022-11-26T16:10:07.984Z"
   },
   {
    "duration": 25,
    "start_time": "2022-11-26T16:10:23.525Z"
   },
   {
    "duration": 577,
    "start_time": "2022-11-26T16:14:43.203Z"
   },
   {
    "duration": 9856,
    "start_time": "2022-11-26T16:14:43.783Z"
   },
   {
    "duration": 105,
    "start_time": "2022-11-26T16:14:53.642Z"
   },
   {
    "duration": 20,
    "start_time": "2022-11-26T16:14:53.749Z"
   },
   {
    "duration": 9,
    "start_time": "2022-11-26T16:14:53.771Z"
   },
   {
    "duration": 9,
    "start_time": "2022-11-26T16:14:53.782Z"
   },
   {
    "duration": 16,
    "start_time": "2022-11-26T16:14:53.793Z"
   },
   {
    "duration": 13,
    "start_time": "2022-11-26T16:14:53.811Z"
   },
   {
    "duration": 57,
    "start_time": "2022-11-26T16:14:53.826Z"
   },
   {
    "duration": 9,
    "start_time": "2022-11-26T16:14:53.886Z"
   },
   {
    "duration": 19,
    "start_time": "2022-11-26T16:14:53.897Z"
   },
   {
    "duration": 8,
    "start_time": "2022-11-26T16:14:53.918Z"
   },
   {
    "duration": 10,
    "start_time": "2022-11-26T16:14:53.927Z"
   },
   {
    "duration": 11,
    "start_time": "2022-11-26T16:14:53.950Z"
   },
   {
    "duration": 27,
    "start_time": "2022-11-26T16:14:53.962Z"
   },
   {
    "duration": 21,
    "start_time": "2022-11-26T16:14:53.991Z"
   },
   {
    "duration": 17,
    "start_time": "2022-11-26T16:14:54.013Z"
   },
   {
    "duration": 18,
    "start_time": "2022-11-26T16:14:54.033Z"
   },
   {
    "duration": 483,
    "start_time": "2022-11-26T17:46:42.798Z"
   },
   {
    "duration": 5139,
    "start_time": "2022-11-26T17:46:43.282Z"
   },
   {
    "duration": 290,
    "start_time": "2022-11-26T17:46:48.422Z"
   },
   {
    "duration": 13,
    "start_time": "2022-11-26T17:46:48.714Z"
   },
   {
    "duration": 76,
    "start_time": "2022-11-26T17:46:48.729Z"
   },
   {
    "duration": 6,
    "start_time": "2022-11-26T17:46:48.807Z"
   },
   {
    "duration": 79,
    "start_time": "2022-11-26T17:46:48.814Z"
   },
   {
    "duration": 6,
    "start_time": "2022-11-26T17:46:48.895Z"
   },
   {
    "duration": 102,
    "start_time": "2022-11-26T17:46:48.902Z"
   },
   {
    "duration": 8,
    "start_time": "2022-11-26T17:46:49.007Z"
   },
   {
    "duration": 93,
    "start_time": "2022-11-26T17:46:49.017Z"
   },
   {
    "duration": 8,
    "start_time": "2022-11-26T17:46:49.111Z"
   },
   {
    "duration": 174,
    "start_time": "2022-11-26T17:46:49.120Z"
   },
   {
    "duration": 2,
    "start_time": "2022-11-26T17:46:49.296Z"
   },
   {
    "duration": 82,
    "start_time": "2022-11-26T17:46:49.300Z"
   },
   {
    "duration": 89,
    "start_time": "2022-11-26T17:46:49.383Z"
   },
   {
    "duration": 79,
    "start_time": "2022-11-26T17:46:49.473Z"
   },
   {
    "duration": 112,
    "start_time": "2022-11-26T18:00:23.690Z"
   },
   {
    "duration": 517,
    "start_time": "2022-11-26T18:02:50.076Z"
   },
   {
    "duration": 5081,
    "start_time": "2022-11-26T18:02:50.595Z"
   },
   {
    "duration": 280,
    "start_time": "2022-11-26T18:02:55.677Z"
   },
   {
    "duration": 14,
    "start_time": "2022-11-26T18:02:55.959Z"
   },
   {
    "duration": 74,
    "start_time": "2022-11-26T18:02:55.975Z"
   },
   {
    "duration": 6,
    "start_time": "2022-11-26T18:02:56.051Z"
   },
   {
    "duration": 79,
    "start_time": "2022-11-26T18:02:56.058Z"
   },
   {
    "duration": 7,
    "start_time": "2022-11-26T18:02:56.139Z"
   },
   {
    "duration": 111,
    "start_time": "2022-11-26T18:02:56.147Z"
   },
   {
    "duration": 7,
    "start_time": "2022-11-26T18:02:56.260Z"
   },
   {
    "duration": 107,
    "start_time": "2022-11-26T18:02:56.268Z"
   },
   {
    "duration": 6,
    "start_time": "2022-11-26T18:02:56.377Z"
   },
   {
    "duration": 175,
    "start_time": "2022-11-26T18:02:56.384Z"
   },
   {
    "duration": 2,
    "start_time": "2022-11-26T18:02:56.561Z"
   },
   {
    "duration": 88,
    "start_time": "2022-11-26T18:02:56.564Z"
   },
   {
    "duration": 87,
    "start_time": "2022-11-26T18:02:56.654Z"
   },
   {
    "duration": 79,
    "start_time": "2022-11-26T18:02:56.743Z"
   },
   {
    "duration": 81,
    "start_time": "2022-11-26T18:02:56.824Z"
   },
   {
    "duration": 78,
    "start_time": "2022-11-26T18:02:56.907Z"
   }
  ],
  "kernelspec": {
   "display_name": "Python 3 (ipykernel)",
   "language": "python",
   "name": "python3"
  },
  "language_info": {
   "codemirror_mode": {
    "name": "ipython",
    "version": 3
   },
   "file_extension": ".py",
   "mimetype": "text/x-python",
   "name": "python",
   "nbconvert_exporter": "python",
   "pygments_lexer": "ipython3",
   "version": "3.9.12"
  },
  "toc": {
   "base_numbering": 1,
   "nav_menu": {
    "height": "12px",
    "width": "160px"
   },
   "number_sections": false,
   "sideBar": true,
   "skip_h1_title": true,
   "title_cell": "Table of Contents",
   "title_sidebar": "Contents",
   "toc_cell": false,
   "toc_position": {},
   "toc_section_display": true,
   "toc_window_display": false
  }
 },
 "nbformat": 4,
 "nbformat_minor": 2
}
