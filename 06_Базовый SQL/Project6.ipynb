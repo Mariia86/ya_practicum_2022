{
 "cells": [
  {
   "cell_type": "markdown",
   "id": "36353462",
   "metadata": {},
   "source": [
    "# Исследование данных об инвестиции венчурных фондов в компании-стартапы"
   ]
  },
  {
   "cell_type": "markdown",
   "id": "e41163a4",
   "metadata": {},
   "source": [
    "## Данные"
   ]
  },
  {
   "cell_type": "markdown",
   "id": "b36a747e",
   "metadata": {},
   "source": [
    "Самостоятельная работа основана на базе данных, которая хранит информацию о венчурных фондах и инвестициях в компании-стартапы, и основана на датасете Startup Investments"
   ]
  },
  {
   "cell_type": "markdown",
   "id": "8a4ad88a",
   "metadata": {},
   "source": [
    "## Цель"
   ]
  },
  {
   "cell_type": "markdown",
   "id": "10316341",
   "metadata": {},
   "source": [
    "Проанализировать данные о фондах и инвестициях, произвести выгрузки данных и ответить на поставленные вопросы с помощью SQL."
   ]
  },
  {
   "cell_type": "markdown",
   "id": "9c3a8e2f",
   "metadata": {},
   "source": [
    "## Задание 1"
   ]
  },
  {
   "cell_type": "markdown",
   "id": "1e16c9e6",
   "metadata": {},
   "source": [
    "Посчитайте, сколько компаний закрылось."
   ]
  },
  {
   "cell_type": "code",
   "execution_count": null,
   "id": "3152297c",
   "metadata": {},
   "outputs": [],
   "source": [
    "'''\n",
    "SELECT COUNT (id)\n",
    "FROM company\n",
    "WHERE status='closed'\n",
    "'''"
   ]
  },
  {
   "cell_type": "markdown",
   "id": "5c1ef4de",
   "metadata": {},
   "source": [
    "## Задание 2"
   ]
  },
  {
   "cell_type": "markdown",
   "id": "a5c3cb7f",
   "metadata": {},
   "source": [
    "Отобразите количество привлечённых средств для новостных компаний США. Используйте данные из таблицы company. Отсортируйте таблицу по убыванию значений в поле funding_total "
   ]
  },
  {
   "cell_type": "code",
   "execution_count": null,
   "id": "e3e06c4f",
   "metadata": {},
   "outputs": [],
   "source": [
    "'''\n",
    "SELECT SUM(funding_total)\n",
    "       --name\n",
    "FROM company\n",
    "WHERE category_code='news' \n",
    "      AND country_code='USA' \n",
    "GROUP BY name\n",
    "ORDER BY SUM(funding_total) DESC;\n",
    "'''"
   ]
  },
  {
   "cell_type": "markdown",
   "id": "55b57bc2",
   "metadata": {},
   "source": [
    "## Задание 3"
   ]
  },
  {
   "cell_type": "markdown",
   "id": "419b6b18",
   "metadata": {},
   "source": [
    "Найдите общую сумму сделок по покупке одних компаний другими в долларах. Отберите сделки, которые осуществлялись только за наличные с 2011 по 2013 год включительно."
   ]
  },
  {
   "cell_type": "code",
   "execution_count": null,
   "id": "9dcde951",
   "metadata": {},
   "outputs": [],
   "source": [
    "'''\n",
    "SELECT SUM(price_amount)\n",
    "FROM acquisition\n",
    "WHERE (EXTRACT (YEAR FROM CAST(acquired_at AS date)) BETWEEN '2011' AND '2013') AND term_code='cash'\n",
    "'''"
   ]
  },
  {
   "cell_type": "markdown",
   "id": "2c26f853",
   "metadata": {},
   "source": [
    "## Задание 4"
   ]
  },
  {
   "cell_type": "markdown",
   "id": "d147ffd0",
   "metadata": {},
   "source": [
    "Отобразите имя, фамилию и названия аккаунтов людей в твиттере, у которых названия аккаунтов начинаются на 'Silver'."
   ]
  },
  {
   "cell_type": "code",
   "execution_count": null,
   "id": "2f9d7812",
   "metadata": {},
   "outputs": [],
   "source": [
    "'''\n",
    "SELECT first_name,\n",
    "       last_name,\n",
    "       twitter_username\n",
    "FROM people\n",
    "WHERE twitter_username LIKE 'Silver%'\n",
    "'''"
   ]
  },
  {
   "cell_type": "markdown",
   "id": "88b396c5",
   "metadata": {},
   "source": [
    "## Задание 5"
   ]
  },
  {
   "cell_type": "markdown",
   "id": "ab07e1d7",
   "metadata": {},
   "source": [
    "Выведите на экран всю информацию о людях, у которых названия аккаунтов в твиттере содержат подстроку 'money', а фамилия начинается на 'K'."
   ]
  },
  {
   "cell_type": "code",
   "execution_count": null,
   "id": "acefcbbd",
   "metadata": {},
   "outputs": [],
   "source": [
    "'''\n",
    "SELECT *\n",
    "FROM people\n",
    "WHERE twitter_username LIKE '%money%'\n",
    "      AND last_name LIKE 'K%'\n",
    "'''      "
   ]
  },
  {
   "cell_type": "markdown",
   "id": "fecfe55b",
   "metadata": {},
   "source": [
    "## Задание 6"
   ]
  },
  {
   "cell_type": "markdown",
   "id": "d07c0858",
   "metadata": {},
   "source": [
    "Для каждой страны отобразите общую сумму привлечённых инвестиций, которые получили компании, зарегистрированные в этой стране. Страну, в которой зарегистрирована компания, можно определить по коду страны. Отсортируйте данные по убыванию суммы."
   ]
  },
  {
   "cell_type": "code",
   "execution_count": null,
   "id": "484d4dd7",
   "metadata": {},
   "outputs": [],
   "source": [
    "'''\n",
    "SELECT country_code,\n",
    "       SUM(funding_total)\n",
    "FROM company\n",
    "GROUP BY country_code\n",
    "ORDER BY SUM(funding_total) DESC\n",
    "'''"
   ]
  },
  {
   "cell_type": "markdown",
   "id": "ed698878",
   "metadata": {},
   "source": [
    "## Задание 7"
   ]
  },
  {
   "cell_type": "markdown",
   "id": "40faa70d",
   "metadata": {},
   "source": [
    "Составьте таблицу, в которую войдёт дата проведения раунда, а также минимальное и максимальное значения суммы инвестиций, привлечённых в эту дату.\n",
    "Оставьте в итоговой таблице только те записи, в которых минимальное значение суммы инвестиций не равно нулю и не равно максимальному значению."
   ]
  },
  {
   "cell_type": "code",
   "execution_count": null,
   "id": "800a44ed",
   "metadata": {},
   "outputs": [],
   "source": [
    "'''\n",
    "SELECT CAST(funded_at AS date),\n",
    "       MIN (raised_amount),\n",
    "       MAX (raised_amount)\n",
    "FROM funding_round\n",
    "GROUP BY funded_at\n",
    "HAVING MIN (raised_amount)!=0\n",
    "      AND MIN (raised_amount)!=MAX (raised_amount)\n",
    "'''      \n"
   ]
  },
  {
   "cell_type": "markdown",
   "id": "eef2bb24",
   "metadata": {},
   "source": [
    "## Задание 8"
   ]
  },
  {
   "cell_type": "markdown",
   "id": "8c6362ad",
   "metadata": {},
   "source": [
    "Создайте поле с категориями:\n",
    "Для фондов, которые инвестируют в 100 и более компаний, назначьте категорию high_activity.\n",
    "Для фондов, которые инвестируют в 20 и более компаний до 100, назначьте категорию middle_activity.\n",
    "Если количество инвестируемых компаний фонда не достигает 20, назначьте категорию low_activity.\n",
    "Отобразите все поля таблицы fund и новое поле с категориями."
   ]
  },
  {
   "cell_type": "code",
   "execution_count": null,
   "id": "0587ba1d",
   "metadata": {},
   "outputs": [],
   "source": [
    "'''\n",
    "SELECT *,\n",
    "       \n",
    "       CASE\n",
    "           WHEN invested_companies >=100 THEN 'high_activity'\n",
    "           WHEN invested_companies >= 20 AND invested_companies < 100 THEN 'middle_activity'\n",
    "           WHEN invested_companies <= 19 THEN 'low_activity'\n",
    "       END\n",
    "FROM fund\n",
    "'''"
   ]
  },
  {
   "cell_type": "markdown",
   "id": "a617cf52",
   "metadata": {},
   "source": [
    "## Задание 9"
   ]
  },
  {
   "cell_type": "markdown",
   "id": "4d083324",
   "metadata": {},
   "source": [
    "Для каждой из категорий, назначенных в предыдущем задании, посчитайте округлённое до ближайшего целого числа среднее количество инвестиционных раундов, в которых фонд принимал участие. Выведите на экран категории и среднее число инвестиционных раундов. Отсортируйте таблицу по возрастанию среднего."
   ]
  },
  {
   "cell_type": "code",
   "execution_count": null,
   "id": "e3fea7e3",
   "metadata": {},
   "outputs": [],
   "source": [
    "'''\n",
    "SELECT \n",
    "       CASE\n",
    "           WHEN invested_companies>=100 THEN 'high_activity'\n",
    "           WHEN invested_companies>=20 THEN 'middle_activity'\n",
    "           ELSE 'low_activity'\n",
    "       END AS activity,\n",
    "       ROUND(AVG (investment_rounds))AS avg_rounds\n",
    "FROM fund\n",
    "GROUP BY activity\n",
    "ORDER BY avg_rounds\n",
    "'''"
   ]
  },
  {
   "cell_type": "markdown",
   "id": "2d0aa1c8",
   "metadata": {},
   "source": [
    "## Задание 10"
   ]
  },
  {
   "cell_type": "markdown",
   "id": "445fbea0",
   "metadata": {},
   "source": [
    "Проанализируйте, в каких странах находятся фонды, которые чаще всего инвестируют в стартапы.\n",
    "Для каждой страны посчитайте минимальное, максимальное и среднее число компаний, в которые инвестировали фонды этой страны, основанные с 2010 по 2012 год включительно. Исключите страны с фондами, у которых минимальное число компаний, получивших инвестиции, равно нулю. Выгрузите десять самых активных стран-инвесторов.\n",
    "Отсортируйте таблицу по среднему количеству компаний от большего к меньшему, а затем по коду страны в лексикографическом порядке."
   ]
  },
  {
   "cell_type": "code",
   "execution_count": null,
   "id": "723ee795",
   "metadata": {},
   "outputs": [],
   "source": [
    "'''\n",
    "SELECT country_code,\n",
    "       MIN(invested_companies),\n",
    "       MAX(invested_companies),\n",
    "       AVG(invested_companies)\n",
    "FROM fund\n",
    "WHERE EXTRACT(YEAR FROM CAST(founded_at AS date)) BETWEEN 2010 AND 2012\n",
    "GROUP BY country_code\n",
    "HAVING MIN(invested_companies) <> 0\n",
    "ORDER BY AVG(invested_companies) DESC\n",
    "LIMIT 10;\n",
    "'''"
   ]
  },
  {
   "cell_type": "markdown",
   "id": "ed0e36bc",
   "metadata": {},
   "source": [
    "## Задание 11"
   ]
  },
  {
   "cell_type": "markdown",
   "id": "ce495cdf",
   "metadata": {},
   "source": [
    "Отобразите имя и фамилию всех сотрудников стартапов. Добавьте поле с названием учебного заведения, которое окончил сотрудник, если эта информация известна."
   ]
  },
  {
   "cell_type": "code",
   "execution_count": null,
   "id": "2048e07e",
   "metadata": {},
   "outputs": [],
   "source": [
    "'''\n",
    "SELECT p.first_name,\n",
    "       p.last_name,\n",
    "       e.instituition\n",
    "FROM people AS p\n",
    "LEFT OUTER JOIN education AS e ON p.id = e.person_id\n",
    "'''"
   ]
  },
  {
   "cell_type": "markdown",
   "id": "64550d20",
   "metadata": {},
   "source": [
    "## Задание 12"
   ]
  },
  {
   "cell_type": "markdown",
   "id": "d069973a",
   "metadata": {},
   "source": [
    "Для каждой компании найдите количество учебных заведений, которые окончили её сотрудники. Выведите название компании и число уникальных названий учебных заведений. Составьте топ-5 компаний по количеству университетов."
   ]
  },
  {
   "cell_type": "code",
   "execution_count": null,
   "id": "dc341d3a",
   "metadata": {},
   "outputs": [],
   "source": [
    "'''\n",
    "SELECT c.name,\n",
    "       COUNT(DISTINCT e.instituition)\n",
    "FROM company AS c\n",
    "JOIN people AS p ON c.id=p.company_id\n",
    "JOIN education AS e ON p.id=e.person_id\n",
    "GROUP BY c.name\n",
    "ORDER BY COUNT(DISTINCT e.instituition) DESC\n",
    "LIMIT 5;\n",
    "''' "
   ]
  },
  {
   "cell_type": "markdown",
   "id": "f77827c4",
   "metadata": {},
   "source": [
    "## Задание 13"
   ]
  },
  {
   "cell_type": "markdown",
   "id": "ab97b834",
   "metadata": {},
   "source": [
    "Составьте список с уникальными названиями закрытых компаний, для которых первый раунд финансирования оказался последним."
   ]
  },
  {
   "cell_type": "code",
   "execution_count": null,
   "id": "e55f1f89",
   "metadata": {},
   "outputs": [],
   "source": [
    "'''\n",
    "SELECT DISTINCT name\n",
    "\n",
    "FROM company\n",
    "\n",
    "WHERE id IN (SELECT company_id\n",
    "            FROM funding_round\n",
    "            WHERE is_first_round = 1 AND is_last_round = 1) AND status = 'closed'\n",
    "'''            "
   ]
  },
  {
   "cell_type": "markdown",
   "id": "01e6ac99",
   "metadata": {},
   "source": [
    "## Задание 14"
   ]
  },
  {
   "cell_type": "markdown",
   "id": "74e1211a",
   "metadata": {},
   "source": [
    "Составьте список уникальных номеров сотрудников, которые работают в компаниях, отобранных в предыдущем задании."
   ]
  },
  {
   "cell_type": "code",
   "execution_count": null,
   "id": "45b6204c",
   "metadata": {},
   "outputs": [],
   "source": [
    "'''\n",
    "WITH\n",
    "c AS (SELECT DISTINCT(name),\n",
    "      id\n",
    "FROM company\n",
    "WHERE id IN (SELECT\n",
    "    company_id\n",
    "FROM funding_round\n",
    "WHERE is_first_round = 1\n",
    "    AND is_last_round = 1)\n",
    "AND status = 'closed')\n",
    "SELECT DISTINCT(p.id)\n",
    "FROM c\n",
    "JOIN people AS p ON c.id=p.company_id;\n",
    "'''"
   ]
  },
  {
   "cell_type": "markdown",
   "id": "5cf74a2a",
   "metadata": {},
   "source": [
    "## Задание 15"
   ]
  },
  {
   "cell_type": "markdown",
   "id": "f10fa13d",
   "metadata": {},
   "source": [
    "Составьте таблицу, куда войдут уникальные пары с номерами сотрудников из предыдущей задачи и учебным заведением, которое окончил сотрудник."
   ]
  },
  {
   "cell_type": "code",
   "execution_count": null,
   "id": "e1cfc15a",
   "metadata": {},
   "outputs": [],
   "source": [
    "'''\n",
    "WITH\n",
    "c AS (SELECT DISTINCT(name),\n",
    "      id\n",
    "FROM company\n",
    "WHERE id IN (SELECT\n",
    "    company_id\n",
    "FROM funding_round\n",
    "WHERE is_first_round = 1\n",
    "    AND is_last_round = 1)\n",
    "AND status = 'closed')\n",
    "SELECT DISTINCT p.id, e.instituition\n",
    "FROM c\n",
    "JOIN people AS p ON c.id=p.company_id\n",
    "JOIN education AS e ON p.id=e.person_id;\n",
    "'''"
   ]
  },
  {
   "cell_type": "markdown",
   "id": "86eed87b",
   "metadata": {},
   "source": [
    "## Задание 16"
   ]
  },
  {
   "cell_type": "markdown",
   "id": "b2234e7d",
   "metadata": {},
   "source": [
    "Посчитайте количество учебных заведений для каждого сотрудника из предыдущего задания. При подсчёте учитывайте, что некоторые сотрудники могли окончить одно и то же заведение дважды."
   ]
  },
  {
   "cell_type": "code",
   "execution_count": null,
   "id": "5f4d5ebd",
   "metadata": {},
   "outputs": [],
   "source": [
    "'''\n",
    "WITH\n",
    "c AS (SELECT DISTINCT(name),\n",
    "      id\n",
    "FROM company\n",
    "WHERE id IN (SELECT\n",
    "    company_id\n",
    "FROM funding_round\n",
    "WHERE is_first_round = 1\n",
    "    AND is_last_round = 1)\n",
    "AND status = 'closed')\n",
    "SELECT p.id,\n",
    "       COUNT(e.instituition)\n",
    "FROM c\n",
    "JOIN people AS p ON c.id=p.company_id\n",
    "JOIN education AS e ON p.id=e.person_id\n",
    "GROUP BY p.id;\n",
    "'''"
   ]
  },
  {
   "cell_type": "markdown",
   "id": "91c21245",
   "metadata": {},
   "source": [
    "## Задание 17"
   ]
  },
  {
   "cell_type": "markdown",
   "id": "b2cb67d0",
   "metadata": {},
   "source": [
    "Дополните предыдущий запрос и выведите среднее число учебных заведений (всех, не только уникальных), которые окончили сотрудники разных компаний. Нужно вывести только одну запись, группировка здесь не понадобится."
   ]
  },
  {
   "cell_type": "code",
   "execution_count": null,
   "id": "c51ca28a",
   "metadata": {},
   "outputs": [],
   "source": [
    "'''\n",
    "WITH\n",
    "c AS (SELECT DISTINCT(name),\n",
    "      id\n",
    "      FROM company\n",
    "      WHERE id IN (SELECT\n",
    "           company_id\n",
    "           FROM funding_round\n",
    "           WHERE is_first_round = 1\n",
    "           AND is_last_round = 1)\n",
    "     AND status = 'closed')\n",
    "\n",
    "SELECT SUM (k.count_instituition)/COUNT (k.id) AS avg_count_instituition\n",
    "FROM\n",
    "(SELECT p.id,\n",
    "       COUNT(e.instituition) AS count_instituition\n",
    "FROM c\n",
    "JOIN people AS p ON c.id=p.company_id\n",
    "JOIN education AS e ON p.id=e.person_id\n",
    "GROUP BY p.id) AS k;\n",
    "'''"
   ]
  },
  {
   "cell_type": "markdown",
   "id": "6168fd4e",
   "metadata": {},
   "source": [
    "## Задание 18"
   ]
  },
  {
   "cell_type": "markdown",
   "id": "218c4721",
   "metadata": {},
   "source": [
    "Напишите похожий запрос: выведите среднее число учебных заведений (всех, не только уникальных), которые окончили сотрудники Facebook*.\n",
    "*(сервис, запрещённый на территории РФ)"
   ]
  },
  {
   "cell_type": "code",
   "execution_count": null,
   "id": "933a55bb",
   "metadata": {},
   "outputs": [],
   "source": [
    "'''\n",
    "SELECT SUM (k.count_instituition)/COUNT (k.id) AS avg_count_instituiti\n",
    "FROM \n",
    "(SELECT p.id,\n",
    "        COUNT(e.instituition) AS count_instituition\n",
    "FROM company AS c\n",
    "JOIN people AS p ON c.id=p.company_id\n",
    "JOIN education AS e ON p.id=e.person_id\n",
    "WHERE c.name='Facebook'\n",
    "GROUP BY p.id) AS k;\n",
    "'''"
   ]
  },
  {
   "cell_type": "markdown",
   "id": "35b30459",
   "metadata": {},
   "source": [
    "## Задание 19"
   ]
  },
  {
   "cell_type": "markdown",
   "id": "c9384dd3",
   "metadata": {},
   "source": [
    "Составьте таблицу из полей:\n",
    "name_of_fund — название фонда;\n",
    "name_of_company — название компании;\n",
    "amount — сумма инвестиций, которую привлекла компания в раунде.\n",
    "В таблицу войдут данные о компаниях, в истории которых было больше шести важных этапов, а раунды финансирования проходили с 2012 по 2013 год включительно."
   ]
  },
  {
   "cell_type": "code",
   "execution_count": null,
   "id": "272f722f",
   "metadata": {},
   "outputs": [],
   "source": [
    "'''\n",
    "SELECT f.name AS name_of_fund,\n",
    "       c.name AS name_of_company,\n",
    "       fr.raised_amount AS amount\n",
    "FROM investment AS i\n",
    "JOIN company AS c ON i.company_id=c.id\n",
    "JOIN fund AS f ON i.fund_id=f.id\n",
    "JOIN funding_round AS fr ON i.funding_round_id=fr.id\n",
    "WHERE c.milestones > 6 and\n",
    "EXTRACT(year from cast(fr.funded_at as date)) between '2012' and '2013'; \n",
    "'''\n"
   ]
  },
  {
   "cell_type": "markdown",
   "id": "9c4701d5",
   "metadata": {},
   "source": [
    "## Задание 20"
   ]
  },
  {
   "cell_type": "markdown",
   "id": "2f74dccd",
   "metadata": {},
   "source": [
    "Выгрузите таблицу, в которой будут такие поля:\n",
    "название компании-покупателя;\n",
    "сумма сделки;\n",
    "название компании, которую купили;\n",
    "сумма инвестиций, вложенных в купленную компанию;\n",
    "доля, которая отображает, во сколько раз сумма покупки превысила сумму вложенных в компанию инвестиций, округлённая до ближайшего целого числа.\n",
    "Не учитывайте те сделки, в которых сумма покупки равна нулю. Если сумма инвестиций в компанию равна нулю, исключите такую компанию из таблицы.\n",
    "Отсортируйте таблицу по сумме сделки от большей к меньшей, а затем по названию купленной компании в лексикографическом порядке. Ограничьте таблицу первыми десятью записями."
   ]
  },
  {
   "cell_type": "code",
   "execution_count": null,
   "id": "f40d43f9",
   "metadata": {},
   "outputs": [],
   "source": [
    "'''\n",
    "SELECT a2.name AS acquiring_company,\n",
    "       a.price_amount,\n",
    "       c.name AS acquired_company,\n",
    "       c.funding_total,\n",
    "       ROUND(a.price_amount/c.funding_total)\n",
    "FROM acquisition AS a\n",
    "LEFT JOIN company AS a2 ON a.acquiring_company_id=a2.id\n",
    "LEFT JOIN company AS c ON a.acquired_company_id=c.id\n",
    "WHERE a.price_amount <> 0\n",
    "AND c.funding_total <> 0\n",
    "ORDER BY a.price_amount DESC, acquired_company\n",
    "LIMIT 10\n",
    "'''"
   ]
  },
  {
   "cell_type": "markdown",
   "id": "2f027b46",
   "metadata": {},
   "source": [
    "## Задание 21"
   ]
  },
  {
   "cell_type": "markdown",
   "id": "59e43532",
   "metadata": {},
   "source": [
    "Выгрузите таблицу, в которую войдут названия компаний из категории social, получившие финансирование с 2010 по 2013 год включительно. Проверьте, что сумма инвестиций не равна нулю. Выведите также номер месяца, в котором проходил раунд финансирования."
   ]
  },
  {
   "cell_type": "code",
   "execution_count": null,
   "id": "fc81284d",
   "metadata": {},
   "outputs": [],
   "source": [
    "'''\n",
    "SELECT c.name,\n",
    "       EXTRACT(MONTH FROM CAST(fr.funded_at AS date))\n",
    "FROM company AS c\n",
    "JOIN funding_round AS fr ON c.id=fr.company_id\n",
    "WHERE EXTRACT(YEAR FROM CAST(fr.funded_at AS date)) between 2010 and 2013\n",
    "AND c.category_code='social'\n",
    "AND fr.raised_amount<>0;\n",
    "'''"
   ]
  },
  {
   "cell_type": "markdown",
   "id": "ef286be3",
   "metadata": {},
   "source": [
    "## Задание 22"
   ]
  },
  {
   "cell_type": "markdown",
   "id": "199f3fd9",
   "metadata": {},
   "source": [
    "Отберите данные по месяцам с 2010 по 2013 год, когда проходили инвестиционные раунды. Сгруппируйте данные по номеру месяца и получите таблицу, в которой будут поля:\n",
    "номер месяца, в котором проходили раунды;\n",
    "количество уникальных названий фондов из США, которые инвестировали в этом месяце;\n",
    "количество компаний, купленных за этот месяц;\n",
    "общая сумма сделок по покупкам в этом месяце."
   ]
  },
  {
   "cell_type": "code",
   "execution_count": null,
   "id": "098cce24",
   "metadata": {},
   "outputs": [],
   "source": [
    "'''\n",
    "WITH\n",
    "fr AS (SELECT EXTRACT (MONTH FROM fr.funded_at) AS month,\n",
    "       COUNT(fr.company_id),\n",
    "       COUNT(DISTINCT(f.name)) AS f_name\n",
    "       FROM funding_round AS fr\n",
    "       LEFT JOIN investment AS i ON fr.id=i.funding_round_id\n",
    "       LEFT JOIN fund AS f ON i.fund_id=f.id\n",
    "       WHERE fr.funded_at BETWEEN '01.01.2010' AND '31.12.2013'\n",
    "       AND f.country_code = 'USA'\n",
    "       GROUP BY EXTRACT (MONTH FROM fr.funded_at)\n",
    "       ORDER BY EXTRACT (MONTH FROM fr.funded_at)),\n",
    "a AS (SELECT EXTRACT(MONTH FROM acquired_at) AS month,\n",
    "       COUNT(acquired_company_id) AS cnt,\n",
    "       SUM(price_amount) AS sm\n",
    "       FROM acquisition\n",
    "       WHERE EXTRACT(YEAR FROM CAST(acquired_at AS date)) BETWEEN 2010 AND 2013--(1,2,3,4,5,6,7,8,9,10,11,12)\n",
    "       GROUP BY EXTRACT(MONTH FROM acquired_at)\n",
    "       ORDER BY EXTRACT(MONTH FROM acquired_at))\n",
    "SELECT fr.month,\n",
    "       fr.f_name,\n",
    "       a.cnt,\n",
    "       a.sm\n",
    "FROM fr LEFT JOIN a ON fr.month=a.month\n",
    "'''"
   ]
  },
  {
   "cell_type": "markdown",
   "id": "a8ec805c",
   "metadata": {},
   "source": [
    "## Задание 23"
   ]
  },
  {
   "cell_type": "markdown",
   "id": "5a74183b",
   "metadata": {},
   "source": [
    "Составьте сводную таблицу и выведите среднюю сумму инвестиций для стран, в которых есть стартапы, зарегистрированные в 2011, 2012 и 2013 годах. Данные за каждый год должны быть в отдельном поле. Отсортируйте таблицу по среднему значению инвестиций за 2011 год от большего к меньшему."
   ]
  },
  {
   "cell_type": "code",
   "execution_count": null,
   "id": "b5b55f52",
   "metadata": {},
   "outputs": [],
   "source": [
    "'''\n",
    "SELECT A.country_code, A.year_2011, B.year_2012, C.year_2013\n",
    "from\n",
    "(select avg(funding_total) as year_2011,\n",
    "    country_code\n",
    "    from company\n",
    "    where extract(year from cast(founded_at as date))=2011\n",
    "group by country_code) as A\n",
    "\n",
    "INNER JOIN\n",
    "\n",
    "(select avg(funding_total) as year_2012,\n",
    "    country_code\n",
    "    from company\n",
    "    where extract(year from cast(founded_at as date))=2012\n",
    "group by country_code) as B on\n",
    "A.country_code=B.country_code\n",
    "\n",
    "INNER JOIN \n",
    "\n",
    "(select avg(funding_total) as year_2013,\n",
    "    country_code\n",
    "    from company\n",
    "    where extract(year from cast(founded_at as date))=2013\n",
    "group by country_code) as C on \n",
    "A.country_code=C.country_code\n",
    "\n",
    "order by A.year_2011 desc;\n",
    "'''"
   ]
  }
 ],
 "metadata": {
  "kernelspec": {
   "display_name": "Python 3 (ipykernel)",
   "language": "python",
   "name": "python3"
  },
  "language_info": {
   "codemirror_mode": {
    "name": "ipython",
    "version": 3
   },
   "file_extension": ".py",
   "mimetype": "text/x-python",
   "name": "python",
   "nbconvert_exporter": "python",
   "pygments_lexer": "ipython3",
   "version": "3.9.12"
  }
 },
 "nbformat": 4,
 "nbformat_minor": 5
}
