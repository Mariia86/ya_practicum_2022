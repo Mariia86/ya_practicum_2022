{
 "cells": [
  {
   "cell_type": "markdown",
   "metadata": {},
   "source": [
    "# Проверка гипотез для увеличения выручки интернет-магазина."
   ]
  },
  {
   "cell_type": "markdown",
   "metadata": {},
   "source": [
    "### Описание проекта."
   ]
  },
  {
   "cell_type": "markdown",
   "metadata": {},
   "source": [
    "В нашем распоряжении список гипотез для увеличения выручки. Необходимо приоритизировать гипотезы, запустить A/B-тест и проанализировать результаты.\n",
    "\n",
    "В нашем распоряжении :  \n",
    "\n",
    "файл hypothesis.csv - 9 гипотез по увеличению выручки интернет-магазина с указанными параметрами Reach, Impact, Confidence, Effort.  \n",
    "\n",
    "Результаты A/B-теста описаны в файлах orders.csv и visitors.csv.  \n",
    "\n",
    "Цель исследования :  \n",
    "Выяснить -какая из гипотез приведет к наибольшему увеличению выручки.  \n",
    "\n",
    "Ход исследования:  \n",
    "Данные -в файлах:  \n",
    "\n",
    "/datasets/hypothesis.csv  \n",
    "/datasets/orders.csv  \n",
    "/datasets/visitors.csv  \n",
    "О качестве данных ничего не известно. Поэтому перед проверкой гипотез понадобится обзор данных.  \n",
    "\n",
    "Проверим данные на ошибки и оценим их влияние на исследование. Затем, на этапе предобработки поищем возможность исправить самые критичные ошибки данных.    \n",
    "\n",
    "Таким образом, исследование пройдёт в несколько этапов:  \n",
    "\n",
    "-Обзор данных.  \n",
    "\n",
    "-Предобработка данных.  \n",
    "\n",
    "-Приоритизация гипотез.  \n",
    "\n",
    "-Анализ A/B-теста, принятие решения по результатам теста и объясните его."
   ]
  },
  {
   "cell_type": "markdown",
   "metadata": {},
   "source": [
    "## Загрузим неоходимые библиотеки и сохраним данные в соответствующие переменные"
   ]
  },
  {
   "cell_type": "code",
   "execution_count": 1,
   "metadata": {},
   "outputs": [],
   "source": [
    "# импортируем нужные нам библтотеки\n",
    "import pandas as pd\n",
    "import datetime as dt \n",
    "import numpy as np\n",
    "import matplotlib.pyplot as plt\n",
    "import scipy.stats as stats"
   ]
  },
  {
   "cell_type": "code",
   "execution_count": 2,
   "metadata": {},
   "outputs": [],
   "source": [
    "# сохраним данные с гипотезами в переменную 'data' для приоритизации гипотез\n",
    "data = pd.read_csv('/datasets/hypothesis.csv', sep=',')\n",
    "\n",
    "# сохраним данные с заказами и посетителями в переменные 'orders' и 'visitors' для анализ A/B-теста\n",
    "orders = pd.read_csv('/datasets/orders.csv', sep=',')\n",
    "orders['date'] = orders['date'].map(\n",
    "    lambda x: dt.datetime.strptime(x, '%Y-%m-%d')\n",
    ")\n",
    "\n",
    "visitors = pd.read_csv('/datasets/visitors.csv', sep=',')\n",
    "visitors['date'] = visitors['date'].map(\n",
    "    lambda x: dt.datetime.strptime(x, '%Y-%m-%d')\n",
    ")\n"
   ]
  },
  {
   "cell_type": "markdown",
   "metadata": {},
   "source": [
    "## Подготовим данные к анализу"
   ]
  },
  {
   "cell_type": "code",
   "execution_count": 3,
   "metadata": {},
   "outputs": [
    {
     "name": "stdout",
     "output_type": "stream",
     "text": [
      "<class 'pandas.core.frame.DataFrame'>\n",
      "RangeIndex: 9 entries, 0 to 8\n",
      "Data columns (total 5 columns):\n",
      " #   Column      Non-Null Count  Dtype \n",
      "---  ------      --------------  ----- \n",
      " 0   Hypothesis  9 non-null      object\n",
      " 1   Reach       9 non-null      int64 \n",
      " 2   Impact      9 non-null      int64 \n",
      " 3   Confidence  9 non-null      int64 \n",
      " 4   Efforts     9 non-null      int64 \n",
      "dtypes: int64(4), object(1)\n",
      "memory usage: 488.0+ bytes\n",
      "                                          Hypothesis  Reach  Impact  \\\n",
      "0  Добавить два новых канала привлечения трафика,...      3      10   \n",
      "1  Запустить собственную службу доставки, что сок...      2       5   \n",
      "2  Добавить блоки рекомендаций товаров на сайт ин...      8       3   \n",
      "3  Изменить структура категорий, что увеличит кон...      8       3   \n",
      "4  Изменить цвет фона главной страницы, чтобы уве...      3       1   \n",
      "5  Добавить страницу отзывов клиентов о магазине,...      3       2   \n",
      "6  Показать на главной странице баннеры с актуаль...      5       3   \n",
      "7  Добавить форму подписки на все основные страни...     10       7   \n",
      "8  Запустить акцию, дающую скидку на товар в день...      1       9   \n",
      "\n",
      "   Confidence  Efforts  \n",
      "0           8        6  \n",
      "1           4       10  \n",
      "2           7        3  \n",
      "3           3        8  \n",
      "4           1        1  \n",
      "5           2        3  \n",
      "6           8        3  \n",
      "7           8        5  \n",
      "8           9        5  \n"
     ]
    },
    {
     "data": {
      "text/plain": [
       "0"
      ]
     },
     "execution_count": 3,
     "metadata": {},
     "output_type": "execute_result"
    }
   ],
   "source": [
    "# выводим основную информацию о датафрейме data и проверим на наличие дубликатов\n",
    "data.info()\n",
    "print(data)\n",
    "data.duplicated().sum()"
   ]
  },
  {
   "cell_type": "code",
   "execution_count": 4,
   "metadata": {},
   "outputs": [],
   "source": [
    "# приведем к нижнему регистру названия столбцов\n",
    "data.columns = data.columns.str.lower()"
   ]
  },
  {
   "cell_type": "markdown",
   "metadata": {},
   "source": [
    "Данные прочитаны, названия столбцов приведены к нижнему регистру, наличие дубликатов не обнаружено."
   ]
  },
  {
   "cell_type": "code",
   "execution_count": 5,
   "metadata": {},
   "outputs": [
    {
     "name": "stdout",
     "output_type": "stream",
     "text": [
      "<class 'pandas.core.frame.DataFrame'>\n",
      "RangeIndex: 1197 entries, 0 to 1196\n",
      "Data columns (total 5 columns):\n",
      " #   Column         Non-Null Count  Dtype         \n",
      "---  ------         --------------  -----         \n",
      " 0   transactionId  1197 non-null   int64         \n",
      " 1   visitorId      1197 non-null   int64         \n",
      " 2   date           1197 non-null   datetime64[ns]\n",
      " 3   revenue        1197 non-null   int64         \n",
      " 4   group          1197 non-null   object        \n",
      "dtypes: datetime64[ns](1), int64(3), object(1)\n",
      "memory usage: 46.9+ KB\n",
      "      transactionId   visitorId       date  revenue group\n",
      "0        3667963787  3312258926 2019-08-15     1650     B\n",
      "1        2804400009  3642806036 2019-08-15      730     B\n",
      "2        2961555356  4069496402 2019-08-15      400     A\n",
      "3        3797467345  1196621759 2019-08-15     9759     B\n",
      "4        2282983706  2322279887 2019-08-15     2308     B\n",
      "...             ...         ...        ...      ...   ...\n",
      "1192     2662137336  3733762160 2019-08-14     6490     B\n",
      "1193     2203539145   370388673 2019-08-14     3190     A\n",
      "1194     1807773912   573423106 2019-08-14    10550     A\n",
      "1195     1947021204  1614305549 2019-08-14      100     A\n",
      "1196     3936777065  2108080724 2019-08-15   202740     B\n",
      "\n",
      "[1197 rows x 5 columns]\n"
     ]
    },
    {
     "data": {
      "text/plain": [
       "0"
      ]
     },
     "execution_count": 5,
     "metadata": {},
     "output_type": "execute_result"
    }
   ],
   "source": [
    "# выводим основную информацию о датафрейме orders и проверим на наличие дубликатов\n",
    "orders.info()\n",
    "print(orders)\n",
    "orders.duplicated().sum()"
   ]
  },
  {
   "cell_type": "code",
   "execution_count": 6,
   "metadata": {},
   "outputs": [
    {
     "name": "stdout",
     "output_type": "stream",
     "text": [
      "<class 'pandas.core.frame.DataFrame'>\n",
      "RangeIndex: 62 entries, 0 to 61\n",
      "Data columns (total 3 columns):\n",
      " #   Column    Non-Null Count  Dtype         \n",
      "---  ------    --------------  -----         \n",
      " 0   date      62 non-null     datetime64[ns]\n",
      " 1   group     62 non-null     object        \n",
      " 2   visitors  62 non-null     int64         \n",
      "dtypes: datetime64[ns](1), int64(1), object(1)\n",
      "memory usage: 1.6+ KB\n",
      "         date group  visitors\n",
      "0  2019-08-01     A       719\n",
      "1  2019-08-02     A       619\n",
      "2  2019-08-03     A       507\n",
      "3  2019-08-04     A       717\n",
      "4  2019-08-05     A       756\n",
      "..        ...   ...       ...\n",
      "57 2019-08-27     B       720\n",
      "58 2019-08-28     B       654\n",
      "59 2019-08-29     B       531\n",
      "60 2019-08-30     B       490\n",
      "61 2019-08-31     B       718\n",
      "\n",
      "[62 rows x 3 columns]\n"
     ]
    },
    {
     "data": {
      "text/plain": [
       "0"
      ]
     },
     "execution_count": 6,
     "metadata": {},
     "output_type": "execute_result"
    }
   ],
   "source": [
    "# выводим основную информацию о датафрейме visitors и проверим на наличие дубликатов\n",
    "visitors.info()\n",
    "print(visitors)\n",
    "visitors.duplicated().sum()"
   ]
  },
  {
   "cell_type": "markdown",
   "metadata": {},
   "source": [
    "Данные прочитаны и готовы к анализу, наличие дубликатов не обнаружено."
   ]
  },
  {
   "cell_type": "markdown",
   "metadata": {},
   "source": [
    "##  Приоритизация гипотез."
   ]
  },
  {
   "cell_type": "code",
   "execution_count": 7,
   "metadata": {},
   "outputs": [
    {
     "name": "stdout",
     "output_type": "stream",
     "text": [
      "                                          hypothesis        ICE\n",
      "8  Запустить акцию, дающую скидку на товар в день...  16.200000\n",
      "0  Добавить два новых канала привлечения трафика,...  13.333333\n",
      "7  Добавить форму подписки на все основные страни...  11.200000\n",
      "6  Показать на главной странице баннеры с актуаль...   8.000000\n",
      "2  Добавить блоки рекомендаций товаров на сайт ин...   7.000000\n",
      "1  Запустить собственную службу доставки, что сок...   2.000000\n",
      "5  Добавить страницу отзывов клиентов о магазине,...   1.333333\n",
      "3  Изменить структура категорий, что увеличит кон...   1.125000\n",
      "4  Изменить цвет фона главной страницы, чтобы уве...   1.000000\n"
     ]
    }
   ],
   "source": [
    "# посчитаем ICE для гипотез, добавим полученные значения ICE к существующей таблице\n",
    "data['ICE'] = (data['impact']*data['confidence'])/data['efforts']\n",
    "print(data[['hypothesis','ICE']].sort_values(by='ICE', ascending=False))"
   ]
  },
  {
   "cell_type": "markdown",
   "metadata": {},
   "source": [
    "Наиболее перспективные гипотезы по ICE : гипотезы под номерами 0,7,8"
   ]
  },
  {
   "cell_type": "code",
   "execution_count": 8,
   "metadata": {},
   "outputs": [
    {
     "name": "stdout",
     "output_type": "stream",
     "text": [
      "                                          hypothesis   RICE\n",
      "7  Добавить форму подписки на все основные страни...  112.0\n",
      "2  Добавить блоки рекомендаций товаров на сайт ин...   56.0\n",
      "0  Добавить два новых канала привлечения трафика,...   40.0\n",
      "6  Показать на главной странице баннеры с актуаль...   40.0\n",
      "8  Запустить акцию, дающую скидку на товар в день...   16.2\n",
      "3  Изменить структура категорий, что увеличит кон...    9.0\n",
      "1  Запустить собственную службу доставки, что сок...    4.0\n",
      "5  Добавить страницу отзывов клиентов о магазине,...    4.0\n",
      "4  Изменить цвет фона главной страницы, чтобы уве...    3.0\n"
     ]
    }
   ],
   "source": [
    "# посчитаем RICE для гипотез, добавим полученные значения RICE к существующей таблице\n",
    "data['RICE'] = (data['reach']*data['impact']*data['confidence'])/data['efforts']\n",
    "print(data[['hypothesis','RICE']].sort_values(by='RICE', ascending=False))"
   ]
  },
  {
   "cell_type": "markdown",
   "metadata": {},
   "source": [
    "На первом месте гипотеза под номером 7"
   ]
  },
  {
   "cell_type": "markdown",
   "metadata": {},
   "source": [
    "При применении RICE вместо ICE приоритизация гипотез немного изменилась, на первом месте гипотеза под номером 7, так как ее \n",
    "параметр RICE равен 10, в то время когда у других гипотез он меньше. "
   ]
  },
  {
   "cell_type": "markdown",
   "metadata": {},
   "source": [
    "## Анализ A/B-теста"
   ]
  },
  {
   "cell_type": "markdown",
   "metadata": {},
   "source": [
    "### Построим график кумулятивной выручки по группам"
   ]
  },
  {
   "cell_type": "code",
   "execution_count": 9,
   "metadata": {},
   "outputs": [
    {
     "name": "stdout",
     "output_type": "stream",
     "text": [
      "   transactionId   visitorId       date  revenue group\n",
      "0     3667963787  3312258926 2019-08-15     1650     B\n",
      "1     2804400009  3642806036 2019-08-15      730     B\n",
      "2     2961555356  4069496402 2019-08-15      400     A\n",
      "3     3797467345  1196621759 2019-08-15     9759     B\n",
      "4     2282983706  2322279887 2019-08-15     2308     B\n",
      "        date group  visitors\n",
      "0 2019-08-01     A       719\n",
      "1 2019-08-02     A       619\n",
      "2 2019-08-03     A       507\n",
      "3 2019-08-04     A       717\n",
      "4 2019-08-05     A       756\n"
     ]
    }
   ],
   "source": [
    "# изучим данные из файлов с заказами и посетителями\n",
    "print(orders.head(5))\n",
    "print(visitors.head(5))"
   ]
  },
  {
   "cell_type": "code",
   "execution_count": 10,
   "metadata": {},
   "outputs": [
    {
     "name": "stdout",
     "output_type": "stream",
     "text": [
      "         date group\n",
      "0  2019-08-15     B\n",
      "2  2019-08-15     A\n",
      "45 2019-08-16     A\n",
      "47 2019-08-16     B\n",
      "55 2019-08-01     A\n"
     ]
    }
   ],
   "source": [
    "# cоздаем датафрейм datesGroups с уникальными парами значений 'date' и 'group', таблицы orders, и удалим дубликаты\n",
    "datesGroups = orders[['date','group']].drop_duplicates()\n",
    "print(datesGroups.head(5))"
   ]
  },
  {
   "cell_type": "code",
   "execution_count": 11,
   "metadata": {},
   "outputs": [
    {
     "name": "stdout",
     "output_type": "stream",
     "text": [
      "          date group  transactionId  visitorId  revenue\n",
      "55  2019-08-01     A             24         20   148579\n",
      "66  2019-08-01     B             21         20   101217\n",
      "175 2019-08-02     A             44         38   242401\n",
      "173 2019-08-02     B             45         43   266748\n",
      "291 2019-08-03     A             68         62   354874\n"
     ]
    }
   ],
   "source": [
    "# объявляем переменную ordersAggregated, содержащую date, group, transactionId, visitorId, revenue, и отсортируйте по столбцам date, group\n",
    "ordersAggregated = datesGroups.apply(\n",
    "    lambda x: orders[np.logical_and(orders['date'] <= x['date'], orders['group'] == x['group'])].agg({\n",
    "'date' : 'max',\n",
    "'group' : 'max',\n",
    "'transactionId' : pd.Series.nunique,\n",
    "'visitorId' : pd.Series.nunique,\n",
    "'revenue' : 'sum'}), axis=1).sort_values(by=['date','group'])\n",
    "print(ordersAggregated.head(5))"
   ]
  },
  {
   "cell_type": "code",
   "execution_count": 12,
   "metadata": {},
   "outputs": [
    {
     "name": "stdout",
     "output_type": "stream",
     "text": [
      "          date group  visitors\n",
      "55  2019-08-01     A       719\n",
      "66  2019-08-01     B       713\n",
      "175 2019-08-02     A      1338\n",
      "173 2019-08-02     B      1294\n",
      "291 2019-08-03     A      1845\n"
     ]
    }
   ],
   "source": [
    "# объявим переменную visitorsAggregated, содержащую date, group, visitors, , и отсортируйте по столбцам date, group\n",
    "visitorsAggregated = datesGroups.apply(lambda x: \n",
    "visitors[np.logical_and(visitors['date'] <= x['date'], visitors['group'] == \n",
    "x['group'])].agg({'date' : 'max', 'group' : 'max', 'visitors' : 'sum'}), \n",
    "axis=1).sort_values(by=['date','group'])\n",
    "print(visitorsAggregated.head(5))"
   ]
  },
  {
   "cell_type": "code",
   "execution_count": 13,
   "metadata": {},
   "outputs": [],
   "source": [
    "# объединим ordersAggregated и visitorsAggregated, и сохрани в переменную cumulativeData\n",
    "cumulativeData = ordersAggregated.merge(visitorsAggregated, left_on=['date', 'group'], right_on=['date', 'group'])"
   ]
  },
  {
   "cell_type": "code",
   "execution_count": 14,
   "metadata": {},
   "outputs": [
    {
     "name": "stdout",
     "output_type": "stream",
     "text": [
      "        date group  orders  buyers  revenue  visitors\n",
      "0 2019-08-01     A      24      20   148579       719\n",
      "1 2019-08-01     B      21      20   101217       713\n",
      "2 2019-08-02     A      44      38   242401      1338\n",
      "3 2019-08-02     B      45      43   266748      1294\n",
      "4 2019-08-03     A      68      62   354874      1845\n"
     ]
    }
   ],
   "source": [
    "# назовем столбцы следующими именами\n",
    "cumulativeData.columns = ['date', 'group', 'orders', 'buyers', 'revenue', 'visitors']\n",
    "print(cumulativeData.head(5))"
   ]
  },
  {
   "cell_type": "code",
   "execution_count": 15,
   "metadata": {},
   "outputs": [
    {
     "data": {
      "image/png": "[encoded data removed]",
      "text/plain": [
       "<Figure size 936x360 with 1 Axes>"
      ]
     },
     "metadata": {
      "needs_background": "light"
     },
     "output_type": "display_data"
    }
   ],
   "source": [
    "# объявим переменные cumulativeRevenueA и cumulativeRevenueB, в которых сохраним данные о датах, выручке и числе заказов в группах A и B.\n",
    "# построим графики кумулятивной выручки по дням по группам\n",
    "plt.figure(figsize=(13,5))\n",
    "cumulativeRevenueA = cumulativeData[cumulativeData['group']=='A'][['date','revenue', 'orders']]\n",
    "cumulativeRevenueB = cumulativeData[cumulativeData['group']=='B'][['date','revenue', 'orders']]\n",
    "plt.plot(cumulativeRevenueA['date'], cumulativeRevenueA['revenue'], label='A')\n",
    "plt.plot(cumulativeRevenueB['date'], cumulativeRevenueB['revenue'], label='B')\n",
    "plt.title('График кумулятивной выручки по группам')\n",
    "plt.xlabel('Даты заказов')\n",
    "plt.ylabel('Количество заказов')\n",
    "plt.legend()\n",
    "plt.grid()"
   ]
  },
  {
   "cell_type": "markdown",
   "metadata": {},
   "source": [
    "Группа B в отличии от A начинает сильно лидировать с середины теста. Возможно с 18 августа по группе B были аномально большие заказы."
   ]
  },
  {
   "cell_type": "markdown",
   "metadata": {},
   "source": [
    "### Построим график кумулятивного среднего чека по группам"
   ]
  },
  {
   "cell_type": "code",
   "execution_count": 16,
   "metadata": {},
   "outputs": [
    {
     "data": {
      "image/png": "[encoded data removed]",
      "text/plain": [
       "<Figure size 936x360 with 1 Axes>"
      ]
     },
     "metadata": {
      "needs_background": "light"
     },
     "output_type": "display_data"
    }
   ],
   "source": [
    "plt.figure(figsize=(13,5))\n",
    "plt.plot(cumulativeRevenueA['date'], cumulativeRevenueA['revenue']/cumulativeRevenueA['orders'], label='A')\n",
    "plt.plot(cumulativeRevenueB['date'], cumulativeRevenueB['revenue']/cumulativeRevenueB['orders'], label='B')\n",
    "plt.title('График кумулятивного среднего чека по группам')\n",
    "plt.xlabel('Даты чека')\n",
    "plt.ylabel('Размер среднего чека')\n",
    "plt.legend()\n",
    "plt.grid()"
   ]
  },
  {
   "cell_type": "markdown",
   "metadata": {},
   "source": [
    "Со 2 по 11 августа чек по группе B больше. А с 12 по 14 августа преобладает чек по группе А. \n",
    "Сильный скачок среднего чека в группе 'B' скорее всего можно объяснить одним крупным заказом 18-19 августа или в эти дни было очень много заказов."
   ]
  },
  {
   "cell_type": "markdown",
   "metadata": {},
   "source": [
    "### Построим график относительного изменения кумулятивного среднего чека группы B к группе A."
   ]
  },
  {
   "cell_type": "code",
   "execution_count": 17,
   "metadata": {},
   "outputs": [
    {
     "data": {
      "image/png": "[encoded data removed]",
      "text/plain": [
       "<Figure size 936x360 with 1 Axes>"
      ]
     },
     "metadata": {
      "needs_background": "light"
     },
     "output_type": "display_data"
    }
   ],
   "source": [
    "mergedCumulativeRevenue = cumulativeRevenueA.merge(cumulativeRevenueB, left_on='date', right_on='date', how='left', \n",
    "suffixes=['A', 'B'])\n",
    "\n",
    "plt.figure(figsize=(13,5))\n",
    "plt.plot(mergedCumulativeRevenue['date'], (mergedCumulativeRevenue['revenueB']/mergedCumulativeRevenue['ordersB'])/(mergedCumulativeRevenue['revenueA']/mergedCumulativeRevenue['ordersA'])-1)\n",
    "plt.title('График относительного изменения кумулятивного среднего чека группы B к группе A')\n",
    "plt.xlabel('Даты')\n",
    "plt.ylabel('Величина относительного изменения')\n",
    "plt.axhline(y=0, color='black', linestyle='--') \n",
    "plt.grid()"
   ]
  },
  {
   "cell_type": "markdown",
   "metadata": {},
   "source": [
    "Результаты теста значительно меняются в несколько дат, возможно в это время были совершены аномальные заказы.\n",
    "Средний чек B превышает А со 2 августа до 12 августа, далее превышение идет с 15 августа. А в период с 12 по 15 августа средний \n",
    "чек группы B ниже чека группы А."
   ]
  },
  {
   "cell_type": "markdown",
   "metadata": {},
   "source": [
    "### Построим график кумулятивной конверсии по группам"
   ]
  },
  {
   "cell_type": "code",
   "execution_count": 18,
   "metadata": {},
   "outputs": [
    {
     "data": {
      "image/png": "[encoded data removed]",
      "text/plain": [
       "<Figure size 936x360 with 1 Axes>"
      ]
     },
     "metadata": {
      "needs_background": "light"
     },
     "output_type": "display_data"
    }
   ],
   "source": [
    "cumulativeData['conversion'] = cumulativeData['orders']/cumulativeData['visitors']\n",
    "\n",
    "cumulativeDataA = cumulativeData[cumulativeData['group']=='A']\n",
    "\n",
    "cumulativeDataB = cumulativeData[cumulativeData['group']=='B']\n",
    "\n",
    "plt.figure(figsize=(13,5))\n",
    "plt.plot(cumulativeDataA['date'], cumulativeDataA['conversion'], label='A')\n",
    "plt.plot(cumulativeDataB['date'], cumulativeDataB['conversion'], label='B')\n",
    "plt.legend()\n",
    "plt.title('График кумулятивной конверсии по группам')\n",
    "plt.xlabel('Даты')\n",
    "plt.ylabel('Размер конверсии')\n",
    "plt.axis([dt.datetime(2019, 8, 1), dt.datetime(2019, 9, 1), 0, 0.05])\n",
    "plt.grid()"
   ]
  },
  {
   "cell_type": "markdown",
   "metadata": {},
   "source": [
    "В период с 3 августа по 6 августа группа А имеет большую конверсию. А с 6 августа конверсия группы В лидирует и фиксируется примерно около одного значения, больше значения группы А."
   ]
  },
  {
   "cell_type": "markdown",
   "metadata": {},
   "source": [
    "### Построим график относительного изменения кумулятивной конверсии группы B к группе A"
   ]
  },
  {
   "cell_type": "code",
   "execution_count": 19,
   "metadata": {},
   "outputs": [
    {
     "data": {
      "image/png": "[encoded data removed]",
      "text/plain": [
       "<Figure size 936x360 with 1 Axes>"
      ]
     },
     "metadata": {
      "needs_background": "light"
     },
     "output_type": "display_data"
    }
   ],
   "source": [
    "mergedCumulativeConversions = cumulativeDataA[['date','conversion']].merge(cumulativeDataB[['date','conversion']], \n",
    "left_on='date', right_on='date', how='left', suffixes=['A', 'B'])\n",
    "plt.figure(figsize=(13,5))\n",
    "plt.plot(mergedCumulativeConversions['date'], mergedCumulativeConversions['conversionB']/\n",
    "mergedCumulativeConversions['conversionA']-1, label=\"Относительный прирост конверсии группы B относительно группы A\")\n",
    "plt.title('Относительное изменение кумулятивной конверсии группы B к группе A')\n",
    "plt.xlabel('Даты')\n",
    "plt.ylabel('Величина относительного изенения')\n",
    "plt.axhline(y=0, color='black', linestyle='--')\n",
    "plt.axhline(y=0.2, color='grey', linestyle='--')\n",
    "plt.grid()"
   ]
  },
  {
   "cell_type": "markdown",
   "metadata": {},
   "source": [
    "Резкий скачок конверсии группы В наблюдается 2-го августа. С 3 по 6 августа конверсия группы В ниже группы А. Группа В \n",
    "начинает стабильно лидировать по конверсии с 6 августа."
   ]
  },
  {
   "cell_type": "markdown",
   "metadata": {},
   "source": [
    "### Построим точечный график количества заказов по пользователям."
   ]
  },
  {
   "cell_type": "code",
   "execution_count": 20,
   "metadata": {},
   "outputs": [
    {
     "data": {
      "text/html": [
       "<div>\n",
       "<style scoped>\n",
       "    .dataframe tbody tr th:only-of-type {\n",
       "        vertical-align: middle;\n",
       "    }\n",
       "\n",
       "    .dataframe tbody tr th {\n",
       "        vertical-align: top;\n",
       "    }\n",
       "\n",
       "    .dataframe thead th {\n",
       "        text-align: right;\n",
       "    }\n",
       "</style>\n",
       "<table border=\"1\" class=\"dataframe\">\n",
       "  <thead>\n",
       "    <tr style=\"text-align: right;\">\n",
       "      <th></th>\n",
       "      <th>userId</th>\n",
       "      <th>orders</th>\n",
       "    </tr>\n",
       "  </thead>\n",
       "  <tbody>\n",
       "    <tr>\n",
       "      <th>1023</th>\n",
       "      <td>4256040402</td>\n",
       "      <td>11</td>\n",
       "    </tr>\n",
       "    <tr>\n",
       "      <th>591</th>\n",
       "      <td>2458001652</td>\n",
       "      <td>11</td>\n",
       "    </tr>\n",
       "    <tr>\n",
       "      <th>569</th>\n",
       "      <td>2378935119</td>\n",
       "      <td>9</td>\n",
       "    </tr>\n",
       "    <tr>\n",
       "      <th>487</th>\n",
       "      <td>2038680547</td>\n",
       "      <td>8</td>\n",
       "    </tr>\n",
       "    <tr>\n",
       "      <th>44</th>\n",
       "      <td>199603092</td>\n",
       "      <td>5</td>\n",
       "    </tr>\n",
       "    <tr>\n",
       "      <th>744</th>\n",
       "      <td>3062433592</td>\n",
       "      <td>5</td>\n",
       "    </tr>\n",
       "    <tr>\n",
       "      <th>55</th>\n",
       "      <td>237748145</td>\n",
       "      <td>5</td>\n",
       "    </tr>\n",
       "    <tr>\n",
       "      <th>917</th>\n",
       "      <td>3803269165</td>\n",
       "      <td>5</td>\n",
       "    </tr>\n",
       "    <tr>\n",
       "      <th>299</th>\n",
       "      <td>1230306981</td>\n",
       "      <td>5</td>\n",
       "    </tr>\n",
       "    <tr>\n",
       "      <th>897</th>\n",
       "      <td>3717692402</td>\n",
       "      <td>5</td>\n",
       "    </tr>\n",
       "  </tbody>\n",
       "</table>\n",
       "</div>"
      ],
      "text/plain": [
       "          userId  orders\n",
       "1023  4256040402      11\n",
       "591   2458001652      11\n",
       "569   2378935119       9\n",
       "487   2038680547       8\n",
       "44     199603092       5\n",
       "744   3062433592       5\n",
       "55     237748145       5\n",
       "917   3803269165       5\n",
       "299   1230306981       5\n",
       "897   3717692402       5"
      ]
     },
     "execution_count": 20,
     "metadata": {},
     "output_type": "execute_result"
    }
   ],
   "source": [
    "# создаем датафрейм c двумя столбцами: 'userId' и 'orders'\n",
    "ordersByUsers = orders.drop(['group', 'revenue', 'date'], axis=1).groupby('visitorId', as_index=False).agg({'transactionId' : pd.Series.nunique})\n",
    "\n",
    "ordersByUsers.columns = ['userId','orders']\n",
    "\n",
    "ordersByUsers.sort_values(by='orders',ascending=False).head(10)"
   ]
  },
  {
   "cell_type": "code",
   "execution_count": 21,
   "metadata": {},
   "outputs": [
    {
     "data": {
      "image/png": "[encoded data removed]",
      "text/plain": [
       "<Figure size 936x360 with 1 Axes>"
      ]
     },
     "metadata": {
      "needs_background": "light"
     },
     "output_type": "display_data"
    }
   ],
   "source": [
    "x_values = pd.Series(range(0, len(ordersByUsers)))\n",
    "\n",
    "x_values = pd.Series(range(0,len(ordersByUsers['orders'])))\n",
    "\n",
    "plt.figure(figsize=(13,5))\n",
    "plt.scatter(x_values, ordersByUsers['orders']) \n",
    "plt.title('Точечный график количества заказов по пользователям')\n",
    "plt.xlabel('Заказы пользователей')\n",
    "plt.ylabel('Количество заказов')\n",
    "plt.grid()"
   ]
  },
  {
   "cell_type": "markdown",
   "metadata": {},
   "source": [
    "Пользователей, которые заказали более 2 раз, мало. Пока не можем сказать - это нормально или нет."
   ]
  },
  {
   "cell_type": "markdown",
   "metadata": {},
   "source": [
    "### Посчитаем 95-й и 99-й перцентили количества заказов на пользователя. Выберем границу для определения аномальных пользователей"
   ]
  },
  {
   "cell_type": "code",
   "execution_count": 22,
   "metadata": {},
   "outputs": [
    {
     "name": "stdout",
     "output_type": "stream",
     "text": [
      "[2. 4.]\n"
     ]
    }
   ],
   "source": [
    "print(np.percentile(ordersByUsers['orders'], [95, 99])) "
   ]
  },
  {
   "cell_type": "markdown",
   "metadata": {},
   "source": [
    "### Построим точечный график стоимостей заказов."
   ]
  },
  {
   "cell_type": "code",
   "execution_count": 23,
   "metadata": {},
   "outputs": [
    {
     "data": {
      "image/png": "[encoded data removed]",
      "text/plain": [
       "<Figure size 936x360 with 1 Axes>"
      ]
     },
     "metadata": {
      "needs_background": "light"
     },
     "output_type": "display_data"
    }
   ],
   "source": [
    "x_values = pd.Series(range(0, len(orders['revenue'])))\n",
    "\n",
    "plt.figure(figsize=(13,5))\n",
    "plt.scatter(x_values, orders['revenue']) \n",
    "plt.title('Точечный график стоимостей заказов')\n",
    "plt.xlabel('Заказы')\n",
    "plt.ylabel('Стоимость заказов')\n",
    "plt.grid()"
   ]
  },
  {
   "cell_type": "markdown",
   "metadata": {},
   "source": [
    "Заказы на 200 тыс.руб и более выглядят весьма аномально."
   ]
  },
  {
   "cell_type": "code",
   "execution_count": 24,
   "metadata": {},
   "outputs": [
    {
     "data": {
      "image/png": "[encoded data removed]",
      "text/plain": [
       "<Figure size 936x360 with 1 Axes>"
      ]
     },
     "metadata": {
      "needs_background": "light"
     },
     "output_type": "display_data"
    }
   ],
   "source": [
    " # если уберем явные выбросы с заказами стоимостью больше 180000, то получим более точный график\n",
    "orders_rev = orders[orders['revenue']<=180000]['revenue']\n",
    "x2_values = pd.Series(range(0,len(orders_rev)))\n",
    "plt.figure(figsize=(13,5))\n",
    "plt.scatter(x2_values, orders_rev) \n",
    "plt.title('Точечный график стоимостей заказов2')\n",
    "plt.xlabel('Заказы')\n",
    "plt.ylabel('Стоимость заказов')\n",
    "plt.grid()"
   ]
  },
  {
   "cell_type": "markdown",
   "metadata": {},
   "source": [
    "Из графика видим, что преобладает количество заказов стоимостью до 10 тыс.руб."
   ]
  },
  {
   "cell_type": "markdown",
   "metadata": {},
   "source": [
    "### Посчитаем 95-й и 99-й перцентили стоимости заказов. Выберем границу для определения аномальных заказов"
   ]
  },
  {
   "cell_type": "code",
   "execution_count": 25,
   "metadata": {},
   "outputs": [
    {
     "name": "stdout",
     "output_type": "stream",
     "text": [
      "[28000.  58233.2]\n"
     ]
    }
   ],
   "source": [
    "print(np.percentile(orders['revenue'], [95, 99]))"
   ]
  },
  {
   "cell_type": "markdown",
   "metadata": {},
   "source": [
    "Не более, чем у 5% заказов чек дороже 28000 рублей. И не больше, чем у 1% - дороже 58233,2 рублей.\n",
    "Получается, что 99% заказов < 58233.2 рублей, определим данную сумму границей аномалий."
   ]
  },
  {
   "cell_type": "markdown",
   "metadata": {},
   "source": [
    "### Посчитаем статистическую значимость различий в конверсии между группами по «сырым» данным."
   ]
  },
  {
   "cell_type": "code",
   "execution_count": 26,
   "metadata": {},
   "outputs": [
    {
     "name": "stdout",
     "output_type": "stream",
     "text": [
      "        date  ordersPerDateA  revenuePerDateA  ordersPerDateB  \\\n",
      "0 2019-08-01              24           148579              21   \n",
      "1 2019-08-02              20            93822              24   \n",
      "2 2019-08-03              24           112473              16   \n",
      "3 2019-08-04              16            70825              17   \n",
      "4 2019-08-05              25           124218              23   \n",
      "\n",
      "   revenuePerDateB  ordersCummulativeA  revenueCummulativeA  \\\n",
      "0           101217                  24               148579   \n",
      "1           165531                  44               242401   \n",
      "2           114248                  68               354874   \n",
      "3           108571                  84               425699   \n",
      "4            92428                 109               549917   \n",
      "\n",
      "   ordersCummulativeB  revenueCummulativeB  visitorsPerDateA  \\\n",
      "0                  21               101217               719   \n",
      "1                  45               266748               619   \n",
      "2                  61               380996               507   \n",
      "3                  78               489567               717   \n",
      "4                 101               581995               756   \n",
      "\n",
      "   visitorsPerDateB  visitorsCummulativeA  visitorsCummulativeB  \n",
      "0               713                   719                   713  \n",
      "1               581                  1338                  1294  \n",
      "2               509                  1845                  1803  \n",
      "3               770                  2562                  2573  \n",
      "4               707                  3318                  3280  \n"
     ]
    }
   ],
   "source": [
    "# Соберем информацию по заказам и визитам и объеденим в одну таблицу\n",
    "\n",
    "visitorsADaily = visitors[visitors['group'] == 'A'][['date', 'visitors']]\n",
    "visitorsADaily.columns = ['date', 'visitorsPerDateA']\n",
    "\n",
    "visitorsACummulative = visitorsADaily.apply(\n",
    "    lambda x: visitorsADaily[visitorsADaily['date'] <= x['date']].agg(\n",
    "        {'date': 'max', 'visitorsPerDateA': 'sum'}\n",
    "    ),\n",
    "    axis=1,\n",
    ")\n",
    "visitorsACummulative.columns = ['date', 'visitorsCummulativeA']\n",
    "\n",
    "visitorsBDaily = visitors[visitors['group'] == 'B'][['date', 'visitors']]\n",
    "visitorsBDaily.columns = ['date', 'visitorsPerDateB']\n",
    "\n",
    "visitorsBCummulative = visitorsBDaily.apply(\n",
    "    lambda x: visitorsBDaily[visitorsBDaily['date'] <= x['date']].agg(\n",
    "        {'date': 'max', 'visitorsPerDateB': 'sum'}\n",
    "    ),\n",
    "    axis=1,\n",
    ")\n",
    "visitorsBCummulative.columns = ['date', 'visitorsCummulativeB']\n",
    "\n",
    "ordersADaily = (\n",
    "    orders[orders['group'] == 'A'][['date', 'transactionId', 'visitorId', 'revenue']]\n",
    "    .groupby('date', as_index=False)\n",
    "    .agg({'transactionId': pd.Series.nunique, 'revenue': 'sum'})\n",
    ")\n",
    "ordersADaily.columns = ['date', 'ordersPerDateA', 'revenuePerDateA']\n",
    "\n",
    "ordersACummulative = ordersADaily.apply(\n",
    "    lambda x: ordersADaily[ordersADaily['date'] <= x['date']].agg(\n",
    "        {'date': 'max', 'ordersPerDateA': 'sum', 'revenuePerDateA': 'sum'}\n",
    "    ),\n",
    "    axis=1,\n",
    ").sort_values(by=['date'])\n",
    "ordersACummulative.columns = [\n",
    "    'date',\n",
    "    'ordersCummulativeA',\n",
    "    'revenueCummulativeA',\n",
    "]\n",
    "\n",
    "ordersBDaily = (\n",
    "    orders[orders['group'] == 'B'][['date', 'transactionId', 'visitorId', 'revenue']]\n",
    "    .groupby('date', as_index=False)\n",
    "    .agg({'transactionId': pd.Series.nunique, 'revenue': 'sum'})\n",
    ")\n",
    "ordersBDaily.columns = ['date', 'ordersPerDateB', 'revenuePerDateB']\n",
    "\n",
    "ordersBCummulative = ordersBDaily.apply(\n",
    "    lambda x: ordersBDaily[ordersBDaily['date'] <= x['date']].agg(\n",
    "        {'date': 'max', 'ordersPerDateB': 'sum', 'revenuePerDateB': 'sum'}\n",
    "    ),\n",
    "    axis=1,\n",
    ").sort_values(by=['date'])\n",
    "ordersBCummulative.columns = [\n",
    "    'date',\n",
    "    'ordersCummulativeB',\n",
    "    'revenueCummulativeB',\n",
    "]\n",
    "\n",
    "data = (\n",
    "    ordersADaily.merge(\n",
    "        ordersBDaily, left_on='date', right_on='date', how='left'\n",
    "    )\n",
    "    .merge(ordersACummulative, left_on='date', right_on='date', how='left')\n",
    "    .merge(ordersBCummulative, left_on='date', right_on='date', how='left')\n",
    "    .merge(visitorsADaily, left_on='date', right_on='date', how='left')\n",
    "    .merge(visitorsBDaily, left_on='date', right_on='date', how='left')\n",
    "    .merge(visitorsACummulative, left_on='date', right_on='date', how='left')\n",
    "    .merge(visitorsBCummulative, left_on='date', right_on='date', how='left')\n",
    ")\n",
    "\n",
    "print(data.head(5))"
   ]
  },
  {
   "cell_type": "markdown",
   "metadata": {},
   "source": [
    "Объявим переменные ordersByUsersA и ordersByUsersB со столбцами ['userId', 'orders'], где для пользователей, совершивших хотя \n",
    "бы 1 заказ, будет указано число заказов."
   ]
  },
  {
   "cell_type": "code",
   "execution_count": 27,
   "metadata": {},
   "outputs": [],
   "source": [
    "ordersByUsersA = (\n",
    "    orders[orders['group'] == 'A']\n",
    "    .groupby('visitorId', as_index=False)\n",
    "    .agg({'transactionId': pd.Series.nunique})\n",
    ")\n",
    "ordersByUsersA.columns = ['userId', 'orders']\n",
    "\n",
    "ordersByUsersB = (\n",
    "    orders[orders['group'] == 'B']\n",
    "    .groupby('visitorId', as_index=False)\n",
    "    .agg({'transactionId': pd.Series.nunique})\n",
    ")\n",
    "ordersByUsersB.columns = ['userId', 'orders'] \n",
    "\n",
    "\n"
   ]
  },
  {
   "cell_type": "markdown",
   "metadata": {},
   "source": [
    "Объявим переменные sampleA и sampleB, в которых пользователям с заказами будет соответствовать число заказов пользователя,а \n",
    "пользователям без заказов — нули."
   ]
  },
  {
   "cell_type": "markdown",
   "metadata": {},
   "source": [
    "Сформулируем нулевую гипотезу - 'статистически значимые различия в конверсии между группами отсутствуют'.\n",
    "Альтернативная гипотеза будет следующая - 'статистически значимые различия есть'.\n",
    "\n",
    "Выведем p-value для сравнения среднего между группами.\n",
    "А также выведем относительное различие в среднем между группами."
   ]
  },
  {
   "cell_type": "code",
   "execution_count": 28,
   "metadata": {},
   "outputs": [
    {
     "name": "stdout",
     "output_type": "stream",
     "text": [
      "0.01679\n",
      "0.138\n"
     ]
    }
   ],
   "source": [
    "sampleA = pd.concat([ordersByUsersA['orders'],pd.Series(0, index=np.arange(data['visitorsPerDateA'].sum() - len(ordersByUsersA['orders'])), name='orders')],axis=0)\n",
    "\n",
    "sampleB = pd.concat([ordersByUsersB['orders'],pd.Series(0, index=np.arange(data['visitorsPerDateB'].sum() - len(ordersByUsersB['orders'])), name='orders')],axis=0)\n",
    "\n",
    "print(\"{0:.5f}\".format(stats.mannwhitneyu(sampleA, sampleB)[1])) \n",
    "\n",
    "print(\"{0:.3f}\".format(sampleB.mean() / sampleA.mean() - 1))"
   ]
  },
  {
   "cell_type": "markdown",
   "metadata": {},
   "source": [
    "P-value = 0.01679, он меньше 0.05, поэтому нулевую гипотезу отвергаем. Относительное различие в конверсии между группами по «сырым» данным составляет 13,8%."
   ]
  },
  {
   "cell_type": "markdown",
   "metadata": {},
   "source": [
    "### Посчитаем статистическую значимость различий в среднем чеке заказа между группами по «сырым» данным."
   ]
  },
  {
   "cell_type": "markdown",
   "metadata": {},
   "source": [
    "Сформулируем нулевую гипотезу - 'статистически значимые различия в средних чеках между группами отсутствуют'.\n",
    "Альтернативная гипотеза будет следующая - 'статистически значимые различия есть'."
   ]
  },
  {
   "cell_type": "markdown",
   "metadata": {},
   "source": [
    "Выведем p-value для сравнения средних чеков между группами.\n",
    "Так же выведем относительный прирост среднего чека группы B. "
   ]
  },
  {
   "cell_type": "code",
   "execution_count": 29,
   "metadata": {},
   "outputs": [
    {
     "name": "stdout",
     "output_type": "stream",
     "text": [
      "0.729\n",
      "0.259\n"
     ]
    }
   ],
   "source": [
    "print('{0:.3f}'.format(stats.mannwhitneyu(orders[orders['group']=='A']['revenue'], orders[orders['group']=='B']['revenue'])[1]))\n",
    "\n",
    "print('{0:.3f}'.format(orders[orders['group']=='B']['revenue'].mean()/orders[orders['group']=='A']['revenue'].mean()-1)) "
   ]
  },
  {
   "cell_type": "markdown",
   "metadata": {},
   "source": [
    "P-value намного больше 0.05, значит нулевую гипотезу не отвергаем. Относительное различие среднего чека между группами \n",
    "составляет 26%."
   ]
  },
  {
   "cell_type": "markdown",
   "metadata": {},
   "source": [
    "### Посчитаем статистическую значимость различий в конверсии между группами по «очищенным» данным."
   ]
  },
  {
   "cell_type": "markdown",
   "metadata": {},
   "source": [
    "Сделаем срезы пользователей с числом заказов больше 2 — usersWithManyOrders и пользователей, совершивших заказы дороже 58233.2 — usersWithExpensiveOrders. Объединим их в таблице abnormalUsers, удалим дубликаты, отсортируем по возрастанию."
   ]
  },
  {
   "cell_type": "code",
   "execution_count": 30,
   "metadata": {},
   "outputs": [
    {
     "name": "stdout",
     "output_type": "stream",
     "text": [
      "1099    148427295\n",
      "18      199603092\n",
      "23      237748145\n",
      "37      249864742\n",
      "68      457167155\n",
      "dtype: int64\n"
     ]
    }
   ],
   "source": [
    "usersWithManyOrders = pd.concat(\n",
    "    [\n",
    "        ordersByUsersA[ordersByUsersA['orders'] > 2]['userId'],\n",
    "        ordersByUsersB[ordersByUsersB['orders'] > 2]['userId'],\n",
    "    ],\n",
    "    axis=0,\n",
    ")\n",
    "usersWithManyOrders = pd.concat(\n",
    "    [\n",
    "        ordersByUsersA[ordersByUsersA['orders'] > 2]['userId'],\n",
    "        ordersByUsersB[ordersByUsersB['orders'] > 2]['userId'],\n",
    "    ],\n",
    "    axis=0,\n",
    ")\n",
    "usersWithExpensiveOrders = orders[orders['revenue'] > 58233.2]['visitorId']\n",
    "abnormalUsers = (\n",
    "    pd.concat([usersWithManyOrders, usersWithExpensiveOrders], axis=0)\n",
    "    .drop_duplicates()\n",
    "    .sort_values()\n",
    ")\n",
    "print(abnormalUsers.head(5))"
   ]
  },
  {
   "cell_type": "markdown",
   "metadata": {},
   "source": [
    "Получили аномальных пользователей. Для подсчета статистичесой значимости необходимо их удалить."
   ]
  },
  {
   "cell_type": "markdown",
   "metadata": {},
   "source": [
    "Посчитаем статистическую значимость различия среднего количества заказов после удаления аномальных пользователей.\n",
    "\n",
    "Сформулируем нулевую гипотезу - 'статистически значимые различия в конверсиях между группами отсутствуют'.\n",
    "Альтернативная гипотеза будет следующая - 'статистически значимые различия есть'.\n",
    "\n",
    "Выведите p-value для сравнения среднего между очищенными группами.\n",
    "Так же выведем относительный прирост среднего очищенной группы B."
   ]
  },
  {
   "cell_type": "code",
   "execution_count": 31,
   "metadata": {},
   "outputs": [
    {
     "name": "stdout",
     "output_type": "stream",
     "text": [
      "0.01007\n",
      "0.174\n"
     ]
    }
   ],
   "source": [
    "sampleAFiltered = pd.concat(\n",
    "    [\n",
    "        ordersByUsersA[\n",
    "            np.logical_not(ordersByUsersA['userId'].isin(abnormalUsers))\n",
    "        ]['orders'],\n",
    "        pd.Series(\n",
    "            0,\n",
    "            index=np.arange(\n",
    "                data['visitorsPerDateA'].sum() - len(ordersByUsersA['orders'])\n",
    "            ),\n",
    "            name='orders',\n",
    "        ),\n",
    "    ],\n",
    "    axis=0,\n",
    ") \n",
    "\n",
    "sampleBFiltered = pd.concat(\n",
    "    [\n",
    "        ordersByUsersB[\n",
    "            np.logical_not(ordersByUsersB['userId'].isin(abnormalUsers))\n",
    "        ]['orders'],\n",
    "        pd.Series(\n",
    "            0,\n",
    "            index=np.arange(\n",
    "                data['visitorsPerDateB'].sum() - len(ordersByUsersB['orders'])\n",
    "            ),\n",
    "            name='orders',\n",
    "        ),\n",
    "    ],\n",
    "    axis=0,\n",
    ") \n",
    "print('{0:.5f}'.format(stats.mannwhitneyu(sampleAFiltered, sampleBFiltered)[1]))\n",
    "print('{0:.3f}'.format(sampleBFiltered.mean()/sampleAFiltered.mean()-1)) "
   ]
  },
  {
   "cell_type": "markdown",
   "metadata": {},
   "source": [
    "P-value = 0.01, меньше 0.05. Значит, нулевую гипотезу отвергаем, статистически значимые отличия в конверсии между группами существуют.Относительное различие в конверсии между группами составляет 17,4%"
   ]
  },
  {
   "cell_type": "markdown",
   "metadata": {},
   "source": [
    "### Посчитаем статистическую значимость различий в среднем чеке заказа между группами по «очищенным» данным."
   ]
  },
  {
   "cell_type": "markdown",
   "metadata": {},
   "source": [
    "Сформулируем нулевую гипотезу - 'статистически значимые различия в средних чеках между группами отсутствуют'.\n",
    "Альтернативная гипотеза будет следующая - 'статистически значимые различия есть'.\n",
    "\n",
    "Выведем p-value для сравнения средних чеков между очищенными группами.\n",
    "Так же выведем относительный прирост среднего чека очищенной группы B."
   ]
  },
  {
   "cell_type": "code",
   "execution_count": 32,
   "metadata": {},
   "outputs": [
    {
     "name": "stdout",
     "output_type": "stream",
     "text": [
      "0.798\n",
      "-0.020\n"
     ]
    }
   ],
   "source": [
    "print(\n",
    "    '{0:.3f}'.format(\n",
    "        stats.mannwhitneyu(\n",
    "            orders[\n",
    "                np.logical_and(\n",
    "                    orders['group'] == 'A',\n",
    "                    np.logical_not(orders['visitorId'].isin(abnormalUsers)),\n",
    "                )\n",
    "            ]['revenue'],\n",
    "            orders[\n",
    "                np.logical_and(\n",
    "                    orders['group'] == 'B',\n",
    "                    np.logical_not(orders['visitorId'].isin(abnormalUsers)),\n",
    "                )\n",
    "            ]['revenue'],\n",
    "        )[1]\n",
    "    )\n",
    ")\n",
    "\n",
    "print(\n",
    "    \"{0:.3f}\".format(\n",
    "        orders[\n",
    "            np.logical_and(\n",
    "                orders['group'] == 'B',\n",
    "                np.logical_not(orders['visitorId'].isin(abnormalUsers)),\n",
    "            )\n",
    "        ]['revenue'].mean()\n",
    "        / orders[\n",
    "            np.logical_and(\n",
    "                orders['group'] == 'A',\n",
    "                np.logical_not(orders['visitorId'].isin(abnormalUsers)),\n",
    "            )\n",
    "        ]['revenue'].mean()\n",
    "        - 1\n",
    "    )\n",
    ") "
   ]
  },
  {
   "cell_type": "markdown",
   "metadata": {},
   "source": [
    "P-value = 0.798 что намного больше 0.05. Значит, нулевую гипотезу не отвергаем. Средний чек группы B меньше среднего чека группы A ( на 2%)."
   ]
  },
  {
   "cell_type": "markdown",
   "metadata": {},
   "source": [
    "### Принятие решения."
   ]
  },
  {
   "cell_type": "markdown",
   "metadata": {},
   "source": [
    "Различие по конверсии между группами А и В как по «сырым» данным, так и после фильтрации аномалий есть.\n",
    "Относительное различие в конверсии между группами по «сырым» данным составляет 13,8%. Относительное различие в конверсии между группами по «очищенным» данным составляет 17,4%.\n",
    "\n",
    "Относительное различие среднего чека между группами по «сырым» данным составляет 26%. А средний чек группы B после удаления аномальных выбросов оказался меньше группы A на 2%. В итоге различия незначительные.\n",
    "\n",
    "Из графика различия конверсии между группами видим, что результаты группы B лучше группы A: группа В стабильно лидирует по конверсии с 6 августа.\n",
    "График различия среднего чека колеблется из-за аномалий.\n",
    "\n",
    "В итоге можем принять решение - остановить тест, зафиксировать победу одной группы, этой группой будет В."
   ]
  }
 ],
 "metadata": {
  "ExecuteTimeLog": [
   {
    "duration": 54,
    "start_time": "2022-09-14T17:43:21.963Z"
   },
   {
    "duration": 466,
    "start_time": "2022-09-14T17:44:40.801Z"
   },
   {
    "duration": 6,
    "start_time": "2022-09-14T17:48:37.353Z"
   },
   {
    "duration": 1359,
    "start_time": "2022-09-14T17:56:52.105Z"
   },
   {
    "duration": 3,
    "start_time": "2022-09-14T18:04:18.226Z"
   },
   {
    "duration": 10,
    "start_time": "2022-09-14T18:04:21.544Z"
   },
   {
    "duration": 9,
    "start_time": "2022-09-14T18:06:22.924Z"
   },
   {
    "duration": 12,
    "start_time": "2022-09-14T18:39:05.088Z"
   },
   {
    "duration": 80,
    "start_time": "2022-09-17T07:06:06.284Z"
   },
   {
    "duration": 77,
    "start_time": "2022-09-17T08:10:53.981Z"
   },
   {
    "duration": 361,
    "start_time": "2022-09-17T08:11:16.259Z"
   },
   {
    "duration": 71,
    "start_time": "2022-09-17T08:11:17.097Z"
   },
   {
    "duration": 523,
    "start_time": "2022-09-17T08:12:52.333Z"
   },
   {
    "duration": 354,
    "start_time": "2022-09-17T08:15:56.334Z"
   },
   {
    "duration": 388,
    "start_time": "2022-09-17T08:19:39.166Z"
   },
   {
    "duration": 427,
    "start_time": "2022-09-17T08:20:36.406Z"
   },
   {
    "duration": 387,
    "start_time": "2022-09-17T08:20:56.857Z"
   },
   {
    "duration": 4,
    "start_time": "2022-09-17T08:21:15.873Z"
   },
   {
    "duration": 446,
    "start_time": "2022-09-17T08:21:16.863Z"
   },
   {
    "duration": 447,
    "start_time": "2022-09-17T08:21:33.506Z"
   },
   {
    "duration": 7,
    "start_time": "2022-09-17T08:21:33.955Z"
   },
   {
    "duration": 7,
    "start_time": "2022-09-17T08:21:33.963Z"
   },
   {
    "duration": 11,
    "start_time": "2022-09-17T08:21:33.971Z"
   },
   {
    "duration": 8,
    "start_time": "2022-09-17T08:21:33.984Z"
   },
   {
    "duration": 11,
    "start_time": "2022-09-17T08:21:33.993Z"
   },
   {
    "duration": 412,
    "start_time": "2022-09-17T08:21:34.005Z"
   },
   {
    "duration": 3,
    "start_time": "2022-09-17T08:21:40.517Z"
   },
   {
    "duration": 354,
    "start_time": "2022-09-17T08:21:41.367Z"
   },
   {
    "duration": 211,
    "start_time": "2022-09-17T08:22:08.567Z"
   },
   {
    "duration": 2,
    "start_time": "2022-09-17T08:23:01.507Z"
   },
   {
    "duration": 82,
    "start_time": "2022-09-17T08:24:15.447Z"
   },
   {
    "duration": 10,
    "start_time": "2022-09-17T08:28:37.846Z"
   },
   {
    "duration": 271,
    "start_time": "2022-09-17T08:31:05.411Z"
   },
   {
    "duration": 156,
    "start_time": "2022-09-17T08:33:38.506Z"
   },
   {
    "duration": 154,
    "start_time": "2022-09-17T08:33:56.806Z"
   },
   {
    "duration": 165,
    "start_time": "2022-09-17T08:34:41.267Z"
   },
   {
    "duration": 13,
    "start_time": "2022-09-17T08:38:08.177Z"
   },
   {
    "duration": 6,
    "start_time": "2022-09-17T08:39:55.105Z"
   },
   {
    "duration": 6,
    "start_time": "2022-09-17T08:39:56.176Z"
   },
   {
    "duration": 382,
    "start_time": "2022-09-17T08:43:45.952Z"
   },
   {
    "duration": 231,
    "start_time": "2022-09-17T08:43:47.559Z"
   },
   {
    "duration": 248,
    "start_time": "2022-09-17T08:54:53.621Z"
   },
   {
    "duration": 195,
    "start_time": "2022-09-17T08:55:14.304Z"
   },
   {
    "duration": 15,
    "start_time": "2022-09-17T09:07:52.620Z"
   },
   {
    "duration": 8,
    "start_time": "2022-09-17T09:08:21.604Z"
   },
   {
    "duration": 6,
    "start_time": "2022-09-17T09:08:51.810Z"
   },
   {
    "duration": 14,
    "start_time": "2022-09-17T09:09:06.912Z"
   },
   {
    "duration": 15,
    "start_time": "2022-09-17T09:11:17.102Z"
   },
   {
    "duration": 14,
    "start_time": "2022-09-17T09:17:30.232Z"
   },
   {
    "duration": 11,
    "start_time": "2022-09-17T09:17:44.650Z"
   },
   {
    "duration": 6,
    "start_time": "2022-09-17T09:18:13.311Z"
   },
   {
    "duration": 3,
    "start_time": "2022-09-17T09:18:20.409Z"
   },
   {
    "duration": 16,
    "start_time": "2022-09-17T09:20:12.721Z"
   },
   {
    "duration": 3,
    "start_time": "2022-09-17T09:20:58.975Z"
   },
   {
    "duration": 24,
    "start_time": "2022-09-17T09:23:17.321Z"
   },
   {
    "duration": 325,
    "start_time": "2022-09-17T09:25:50.411Z"
   },
   {
    "duration": 9,
    "start_time": "2022-09-17T09:28:01.921Z"
   },
   {
    "duration": 7,
    "start_time": "2022-09-17T09:28:19.901Z"
   },
   {
    "duration": 30,
    "start_time": "2022-09-17T09:29:27.993Z"
   },
   {
    "duration": 8,
    "start_time": "2022-09-17T09:29:31.629Z"
   },
   {
    "duration": 7,
    "start_time": "2022-09-17T09:29:34.641Z"
   },
   {
    "duration": 8,
    "start_time": "2022-09-17T09:30:00.712Z"
   },
   {
    "duration": 80,
    "start_time": "2022-09-17T09:30:19.100Z"
   },
   {
    "duration": 334,
    "start_time": "2022-09-17T09:30:37.941Z"
   },
   {
    "duration": 8,
    "start_time": "2022-09-17T09:31:04.301Z"
   },
   {
    "duration": 2,
    "start_time": "2022-09-17T09:55:38.318Z"
   },
   {
    "duration": 8,
    "start_time": "2022-09-17T09:55:39.116Z"
   },
   {
    "duration": 2081,
    "start_time": "2022-09-17T09:57:58.955Z"
   },
   {
    "duration": 0,
    "start_time": "2022-09-17T09:58:01.039Z"
   },
   {
    "duration": 328,
    "start_time": "2022-09-17T09:59:53.604Z"
   },
   {
    "duration": 69,
    "start_time": "2022-09-17T10:06:11.641Z"
   },
   {
    "duration": 69,
    "start_time": "2022-09-17T10:06:55.919Z"
   },
   {
    "duration": 73,
    "start_time": "2022-09-17T10:07:08.040Z"
   },
   {
    "duration": 353,
    "start_time": "2022-09-17T10:07:25.355Z"
   },
   {
    "duration": 113,
    "start_time": "2022-09-17T10:07:44.367Z"
   },
   {
    "duration": 14,
    "start_time": "2022-09-17T10:07:46.450Z"
   },
   {
    "duration": 3,
    "start_time": "2022-09-17T10:07:47.084Z"
   },
   {
    "duration": 24,
    "start_time": "2022-09-17T10:07:48.615Z"
   },
   {
    "duration": 312,
    "start_time": "2022-09-17T10:07:49.653Z"
   },
   {
    "duration": 338,
    "start_time": "2022-09-17T10:23:43.168Z"
   },
   {
    "duration": 573,
    "start_time": "2022-09-17T10:24:05.168Z"
   },
   {
    "duration": 96,
    "start_time": "2022-09-17T10:24:05.743Z"
   },
   {
    "duration": 17,
    "start_time": "2022-09-17T10:24:05.840Z"
   },
   {
    "duration": 3,
    "start_time": "2022-09-17T10:24:05.859Z"
   },
   {
    "duration": 17,
    "start_time": "2022-09-17T10:24:05.864Z"
   },
   {
    "duration": 521,
    "start_time": "2022-09-17T10:24:05.883Z"
   },
   {
    "duration": 0,
    "start_time": "2022-09-17T10:24:06.406Z"
   },
   {
    "duration": 0,
    "start_time": "2022-09-17T10:24:06.408Z"
   },
   {
    "duration": 0,
    "start_time": "2022-09-17T10:24:06.409Z"
   },
   {
    "duration": 0,
    "start_time": "2022-09-17T10:24:06.410Z"
   },
   {
    "duration": 0,
    "start_time": "2022-09-17T10:24:06.412Z"
   },
   {
    "duration": 0,
    "start_time": "2022-09-17T10:24:06.413Z"
   },
   {
    "duration": 0,
    "start_time": "2022-09-17T10:24:06.414Z"
   },
   {
    "duration": 0,
    "start_time": "2022-09-17T10:24:06.415Z"
   },
   {
    "duration": 0,
    "start_time": "2022-09-17T10:24:06.416Z"
   },
   {
    "duration": 0,
    "start_time": "2022-09-17T10:24:06.417Z"
   },
   {
    "duration": 0,
    "start_time": "2022-09-17T10:24:06.419Z"
   },
   {
    "duration": 0,
    "start_time": "2022-09-17T10:24:06.420Z"
   },
   {
    "duration": 0,
    "start_time": "2022-09-17T10:24:06.421Z"
   },
   {
    "duration": 395,
    "start_time": "2022-09-17T10:24:26.600Z"
   },
   {
    "duration": 14,
    "start_time": "2022-09-17T10:25:24.649Z"
   },
   {
    "duration": 9,
    "start_time": "2022-09-17T10:27:04.339Z"
   },
   {
    "duration": 8,
    "start_time": "2022-09-17T10:27:06.549Z"
   },
   {
    "duration": 237,
    "start_time": "2022-09-17T10:36:44.379Z"
   },
   {
    "duration": 11,
    "start_time": "2022-09-17T10:36:54.319Z"
   },
   {
    "duration": 322,
    "start_time": "2022-09-17T10:38:10.239Z"
   },
   {
    "duration": 383,
    "start_time": "2022-09-17T10:38:26.269Z"
   },
   {
    "duration": 83,
    "start_time": "2022-09-17T10:42:40.029Z"
   },
   {
    "duration": 667,
    "start_time": "2022-09-17T10:43:40.859Z"
   },
   {
    "duration": 62,
    "start_time": "2022-09-17T10:44:32.807Z"
   },
   {
    "duration": 37,
    "start_time": "2022-09-17T10:45:23.807Z"
   },
   {
    "duration": 1958,
    "start_time": "2022-09-17T10:46:22.104Z"
   },
   {
    "duration": 3,
    "start_time": "2022-09-17T10:52:53.469Z"
   },
   {
    "duration": 73,
    "start_time": "2022-09-17T10:52:54.099Z"
   },
   {
    "duration": 12,
    "start_time": "2022-09-17T10:52:54.757Z"
   },
   {
    "duration": 3,
    "start_time": "2022-09-17T10:52:54.999Z"
   },
   {
    "duration": 16,
    "start_time": "2022-09-17T10:52:55.648Z"
   },
   {
    "duration": 15,
    "start_time": "2022-09-17T10:52:56.189Z"
   },
   {
    "duration": 8,
    "start_time": "2022-09-17T10:52:57.640Z"
   },
   {
    "duration": 9,
    "start_time": "2022-09-17T10:52:59.039Z"
   },
   {
    "duration": 390,
    "start_time": "2022-09-17T10:53:01.788Z"
   },
   {
    "duration": 74,
    "start_time": "2022-09-17T10:53:42.737Z"
   },
   {
    "duration": 470,
    "start_time": "2022-09-17T11:10:14.743Z"
   },
   {
    "duration": 595,
    "start_time": "2022-09-17T11:11:01.728Z"
   },
   {
    "duration": 75,
    "start_time": "2022-09-17T11:11:02.325Z"
   },
   {
    "duration": 16,
    "start_time": "2022-09-17T11:11:02.402Z"
   },
   {
    "duration": 3,
    "start_time": "2022-09-17T11:11:02.419Z"
   },
   {
    "duration": 19,
    "start_time": "2022-09-17T11:11:02.423Z"
   },
   {
    "duration": 12,
    "start_time": "2022-09-17T11:11:02.443Z"
   },
   {
    "duration": 58,
    "start_time": "2022-09-17T11:11:02.456Z"
   },
   {
    "duration": 8,
    "start_time": "2022-09-17T11:11:02.515Z"
   },
   {
    "duration": 7,
    "start_time": "2022-09-17T11:11:02.525Z"
   },
   {
    "duration": 27,
    "start_time": "2022-09-17T11:11:02.533Z"
   },
   {
    "duration": 43,
    "start_time": "2022-09-17T11:11:02.562Z"
   },
   {
    "duration": 78,
    "start_time": "2022-09-17T11:11:02.607Z"
   },
   {
    "duration": 0,
    "start_time": "2022-09-17T11:11:02.706Z"
   },
   {
    "duration": 0,
    "start_time": "2022-09-17T11:11:02.707Z"
   },
   {
    "duration": 0,
    "start_time": "2022-09-17T11:11:02.708Z"
   },
   {
    "duration": 0,
    "start_time": "2022-09-17T11:11:02.709Z"
   },
   {
    "duration": 0,
    "start_time": "2022-09-17T11:11:02.710Z"
   },
   {
    "duration": 306,
    "start_time": "2022-09-17T11:11:18.311Z"
   },
   {
    "duration": 79,
    "start_time": "2022-09-17T11:11:42.914Z"
   },
   {
    "duration": 11,
    "start_time": "2022-09-17T11:12:40.037Z"
   },
   {
    "duration": 20,
    "start_time": "2022-09-17T11:12:55.328Z"
   },
   {
    "duration": 51,
    "start_time": "2022-09-17T12:02:32.988Z"
   },
   {
    "duration": 12,
    "start_time": "2022-09-17T12:02:38.016Z"
   },
   {
    "duration": 1105,
    "start_time": "2022-09-17T12:02:56.755Z"
   },
   {
    "duration": 197,
    "start_time": "2022-09-17T12:02:57.863Z"
   },
   {
    "duration": 24,
    "start_time": "2022-09-17T12:02:58.061Z"
   },
   {
    "duration": 5,
    "start_time": "2022-09-17T12:02:58.087Z"
   },
   {
    "duration": 36,
    "start_time": "2022-09-17T12:02:58.095Z"
   },
   {
    "duration": 16,
    "start_time": "2022-09-17T12:02:58.132Z"
   },
   {
    "duration": 15,
    "start_time": "2022-09-17T12:02:58.154Z"
   },
   {
    "duration": 11,
    "start_time": "2022-09-17T12:02:58.171Z"
   },
   {
    "duration": 26,
    "start_time": "2022-09-17T12:02:58.184Z"
   },
   {
    "duration": 9,
    "start_time": "2022-09-17T12:02:58.212Z"
   },
   {
    "duration": 240,
    "start_time": "2022-09-17T12:02:58.223Z"
   },
   {
    "duration": 156,
    "start_time": "2022-09-17T12:02:58.465Z"
   },
   {
    "duration": 6,
    "start_time": "2022-09-17T12:02:58.622Z"
   },
   {
    "duration": 25,
    "start_time": "2022-09-17T12:02:58.631Z"
   },
   {
    "duration": 18,
    "start_time": "2022-09-17T12:02:58.658Z"
   },
   {
    "duration": 266,
    "start_time": "2022-09-17T12:02:58.677Z"
   },
   {
    "duration": 91,
    "start_time": "2022-09-17T12:03:01.648Z"
   },
   {
    "duration": 9,
    "start_time": "2022-09-17T12:03:02.358Z"
   },
   {
    "duration": 191,
    "start_time": "2022-09-17T12:03:03.347Z"
   },
   {
    "duration": 137,
    "start_time": "2022-09-17T12:03:04.454Z"
   },
   {
    "duration": 7,
    "start_time": "2022-09-17T12:03:05.959Z"
   },
   {
    "duration": 194,
    "start_time": "2022-09-17T12:03:32.647Z"
   },
   {
    "duration": 151,
    "start_time": "2022-09-17T12:03:38.004Z"
   },
   {
    "duration": 6,
    "start_time": "2022-09-17T12:03:45.307Z"
   },
   {
    "duration": 9,
    "start_time": "2022-09-17T12:03:49.159Z"
   },
   {
    "duration": 206,
    "start_time": "2022-09-17T12:04:07.452Z"
   },
   {
    "duration": 203,
    "start_time": "2022-09-17T12:07:33.965Z"
   },
   {
    "duration": 260,
    "start_time": "2022-09-17T12:07:41.970Z"
   },
   {
    "duration": 249,
    "start_time": "2022-09-17T12:14:03.039Z"
   },
   {
    "duration": 213,
    "start_time": "2022-09-17T12:14:21.099Z"
   },
   {
    "duration": 215,
    "start_time": "2022-09-17T12:14:39.491Z"
   },
   {
    "duration": 214,
    "start_time": "2022-09-17T12:46:17.280Z"
   },
   {
    "duration": 191,
    "start_time": "2022-09-17T12:46:55.652Z"
   },
   {
    "duration": 194,
    "start_time": "2022-09-17T12:47:22.633Z"
   },
   {
    "duration": 219,
    "start_time": "2022-09-17T12:47:33.262Z"
   },
   {
    "duration": 317,
    "start_time": "2022-09-17T13:10:00.377Z"
   },
   {
    "duration": 328,
    "start_time": "2022-09-17T13:10:33.666Z"
   },
   {
    "duration": 222,
    "start_time": "2022-09-17T13:19:08.402Z"
   },
   {
    "duration": 295,
    "start_time": "2022-09-17T13:19:46.995Z"
   },
   {
    "duration": 341,
    "start_time": "2022-09-17T13:20:25.157Z"
   },
   {
    "duration": 352,
    "start_time": "2022-09-17T13:20:31.040Z"
   },
   {
    "duration": 297,
    "start_time": "2022-09-17T13:20:51.702Z"
   },
   {
    "duration": 213,
    "start_time": "2022-09-17T13:20:59.654Z"
   },
   {
    "duration": 177,
    "start_time": "2022-09-17T13:49:16.836Z"
   },
   {
    "duration": 182,
    "start_time": "2022-09-17T13:54:24.435Z"
   },
   {
    "duration": 194,
    "start_time": "2022-09-17T13:54:45.235Z"
   },
   {
    "duration": 217,
    "start_time": "2022-09-17T13:55:17.505Z"
   },
   {
    "duration": 343,
    "start_time": "2022-09-17T14:01:28.776Z"
   },
   {
    "duration": 323,
    "start_time": "2022-09-17T14:01:57.667Z"
   },
   {
    "duration": 289,
    "start_time": "2022-09-17T14:02:14.340Z"
   },
   {
    "duration": 1078,
    "start_time": "2022-09-17T14:09:31.013Z"
   },
   {
    "duration": 86,
    "start_time": "2022-09-17T14:09:32.094Z"
   },
   {
    "duration": 19,
    "start_time": "2022-09-17T14:09:32.182Z"
   },
   {
    "duration": 7,
    "start_time": "2022-09-17T14:09:32.203Z"
   },
   {
    "duration": 21,
    "start_time": "2022-09-17T14:09:32.212Z"
   },
   {
    "duration": 19,
    "start_time": "2022-09-17T14:09:32.235Z"
   },
   {
    "duration": 29,
    "start_time": "2022-09-17T14:09:32.255Z"
   },
   {
    "duration": 26,
    "start_time": "2022-09-17T14:09:32.286Z"
   },
   {
    "duration": 48,
    "start_time": "2022-09-17T14:09:32.315Z"
   },
   {
    "duration": 15,
    "start_time": "2022-09-17T14:09:32.365Z"
   },
   {
    "duration": 231,
    "start_time": "2022-09-17T14:09:32.383Z"
   },
   {
    "duration": 159,
    "start_time": "2022-09-17T14:09:32.615Z"
   },
   {
    "duration": 7,
    "start_time": "2022-09-17T14:09:32.776Z"
   },
   {
    "duration": 12,
    "start_time": "2022-09-17T14:09:32.785Z"
   },
   {
    "duration": 319,
    "start_time": "2022-09-17T14:09:32.798Z"
   },
   {
    "duration": 219,
    "start_time": "2022-09-17T14:09:33.120Z"
   },
   {
    "duration": 368,
    "start_time": "2022-09-17T14:09:33.340Z"
   },
   {
    "duration": 277,
    "start_time": "2022-09-17T14:09:33.710Z"
   },
   {
    "duration": 465,
    "start_time": "2022-09-17T14:41:29.634Z"
   },
   {
    "duration": 360,
    "start_time": "2022-09-17T15:04:10.108Z"
   },
   {
    "duration": 358,
    "start_time": "2022-09-17T15:07:36.324Z"
   },
   {
    "duration": 349,
    "start_time": "2022-09-17T15:07:57.980Z"
   },
   {
    "duration": 394,
    "start_time": "2022-09-17T15:08:15.925Z"
   },
   {
    "duration": 340,
    "start_time": "2022-09-17T15:08:34.506Z"
   },
   {
    "duration": 376,
    "start_time": "2022-09-17T15:09:16.034Z"
   },
   {
    "duration": 403,
    "start_time": "2022-09-17T15:09:30.024Z"
   },
   {
    "duration": 371,
    "start_time": "2022-09-17T15:09:39.542Z"
   },
   {
    "duration": 21,
    "start_time": "2022-09-17T18:33:49.709Z"
   },
   {
    "duration": 12,
    "start_time": "2022-09-17T18:36:26.518Z"
   },
   {
    "duration": 148,
    "start_time": "2022-09-17T18:38:34.986Z"
   },
   {
    "duration": 137,
    "start_time": "2022-09-17T18:39:31.903Z"
   },
   {
    "duration": 144,
    "start_time": "2022-09-17T18:40:04.033Z"
   },
   {
    "duration": 211,
    "start_time": "2022-09-17T18:40:22.958Z"
   },
   {
    "duration": 134,
    "start_time": "2022-09-17T18:40:42.591Z"
   },
   {
    "duration": 231,
    "start_time": "2022-09-17T18:41:39.458Z"
   },
   {
    "duration": 138,
    "start_time": "2022-09-17T18:42:06.119Z"
   },
   {
    "duration": 49,
    "start_time": "2022-09-18T07:54:59.067Z"
   },
   {
    "duration": 867,
    "start_time": "2022-09-18T07:55:15.724Z"
   },
   {
    "duration": 210,
    "start_time": "2022-09-18T07:55:16.595Z"
   },
   {
    "duration": 21,
    "start_time": "2022-09-18T07:55:16.808Z"
   },
   {
    "duration": 3,
    "start_time": "2022-09-18T07:55:16.831Z"
   },
   {
    "duration": 35,
    "start_time": "2022-09-18T07:55:16.836Z"
   },
   {
    "duration": 21,
    "start_time": "2022-09-18T07:55:16.873Z"
   },
   {
    "duration": 17,
    "start_time": "2022-09-18T07:55:16.895Z"
   },
   {
    "duration": 13,
    "start_time": "2022-09-18T07:55:16.914Z"
   },
   {
    "duration": 26,
    "start_time": "2022-09-18T07:55:16.929Z"
   },
   {
    "duration": 24,
    "start_time": "2022-09-18T07:55:16.957Z"
   },
   {
    "duration": 211,
    "start_time": "2022-09-18T07:55:16.983Z"
   },
   {
    "duration": 137,
    "start_time": "2022-09-18T07:55:17.196Z"
   },
   {
    "duration": 28,
    "start_time": "2022-09-18T07:55:17.335Z"
   },
   {
    "duration": 22,
    "start_time": "2022-09-18T07:55:17.366Z"
   },
   {
    "duration": 380,
    "start_time": "2022-09-18T07:55:17.391Z"
   },
   {
    "duration": 335,
    "start_time": "2022-09-18T07:55:17.773Z"
   },
   {
    "duration": 496,
    "start_time": "2022-09-18T07:55:18.111Z"
   },
   {
    "duration": 408,
    "start_time": "2022-09-18T07:55:18.609Z"
   },
   {
    "duration": 0,
    "start_time": "2022-09-18T07:55:19.019Z"
   },
   {
    "duration": 0,
    "start_time": "2022-09-18T07:55:19.021Z"
   },
   {
    "duration": 0,
    "start_time": "2022-09-18T07:55:19.022Z"
   },
   {
    "duration": 19,
    "start_time": "2022-09-18T07:57:27.518Z"
   },
   {
    "duration": 8,
    "start_time": "2022-09-18T07:57:28.986Z"
   },
   {
    "duration": 267,
    "start_time": "2022-09-18T07:57:29.901Z"
   },
   {
    "duration": 145,
    "start_time": "2022-09-18T07:57:31.274Z"
   },
   {
    "duration": 8,
    "start_time": "2022-09-18T07:57:32.676Z"
   },
   {
    "duration": 6,
    "start_time": "2022-09-18T07:57:36.189Z"
   },
   {
    "duration": 302,
    "start_time": "2022-09-18T07:57:39.108Z"
   },
   {
    "duration": 245,
    "start_time": "2022-09-18T07:57:49.426Z"
   },
   {
    "duration": 309,
    "start_time": "2022-09-18T07:57:52.484Z"
   },
   {
    "duration": 219,
    "start_time": "2022-09-18T07:57:55.477Z"
   },
   {
    "duration": 310,
    "start_time": "2022-09-18T07:57:58.059Z"
   },
   {
    "duration": 143,
    "start_time": "2022-09-18T07:58:00.698Z"
   },
   {
    "duration": 160,
    "start_time": "2022-09-18T07:58:01.577Z"
   },
   {
    "duration": 338,
    "start_time": "2022-09-18T08:06:47.014Z"
   },
   {
    "duration": 3,
    "start_time": "2022-09-18T08:19:15.273Z"
   },
   {
    "duration": 86,
    "start_time": "2022-09-18T08:19:18.922Z"
   },
   {
    "duration": 15,
    "start_time": "2022-09-18T08:19:21.070Z"
   },
   {
    "duration": 4,
    "start_time": "2022-09-18T08:19:21.865Z"
   },
   {
    "duration": 19,
    "start_time": "2022-09-18T08:19:23.111Z"
   },
   {
    "duration": 25,
    "start_time": "2022-09-18T08:20:01.432Z"
   },
   {
    "duration": 31,
    "start_time": "2022-09-18T08:20:03.731Z"
   },
   {
    "duration": 29,
    "start_time": "2022-09-18T08:20:13.573Z"
   },
   {
    "duration": 354,
    "start_time": "2022-09-18T08:20:20.367Z"
   },
   {
    "duration": 233,
    "start_time": "2022-09-18T08:22:30.507Z"
   },
   {
    "duration": 95,
    "start_time": "2022-09-18T08:23:20.141Z"
   },
   {
    "duration": 16,
    "start_time": "2022-09-18T08:23:21.876Z"
   },
   {
    "duration": 4,
    "start_time": "2022-09-18T08:23:22.445Z"
   },
   {
    "duration": 29,
    "start_time": "2022-09-18T08:23:23.636Z"
   },
   {
    "duration": 19,
    "start_time": "2022-09-18T08:23:24.274Z"
   },
   {
    "duration": 11,
    "start_time": "2022-09-18T08:23:26.155Z"
   },
   {
    "duration": 10,
    "start_time": "2022-09-18T08:23:27.478Z"
   },
   {
    "duration": 673,
    "start_time": "2022-09-18T08:23:31.446Z"
   },
   {
    "duration": 10,
    "start_time": "2022-09-18T08:23:43.004Z"
   },
   {
    "duration": 9,
    "start_time": "2022-09-18T08:23:46.329Z"
   },
   {
    "duration": 215,
    "start_time": "2022-09-18T08:23:47.116Z"
   },
   {
    "duration": 149,
    "start_time": "2022-09-18T08:23:48.409Z"
   },
   {
    "duration": 7,
    "start_time": "2022-09-18T08:23:49.323Z"
   },
   {
    "duration": 6,
    "start_time": "2022-09-18T08:23:49.671Z"
   },
   {
    "duration": 222,
    "start_time": "2022-09-18T08:23:50.777Z"
   },
   {
    "duration": 222,
    "start_time": "2022-09-18T08:23:52.773Z"
   },
   {
    "duration": 312,
    "start_time": "2022-09-18T08:23:54.617Z"
   },
   {
    "duration": 290,
    "start_time": "2022-09-18T08:23:56.241Z"
   },
   {
    "duration": 318,
    "start_time": "2022-09-18T08:23:58.270Z"
   },
   {
    "duration": 155,
    "start_time": "2022-09-18T08:24:00.604Z"
   },
   {
    "duration": 198,
    "start_time": "2022-09-18T08:24:01.364Z"
   },
   {
    "duration": 6,
    "start_time": "2022-09-18T08:26:59.608Z"
   },
   {
    "duration": 5,
    "start_time": "2022-09-18T08:27:25.328Z"
   },
   {
    "duration": 1022,
    "start_time": "2022-09-18T09:35:48.381Z"
   },
   {
    "duration": 122,
    "start_time": "2022-09-18T09:38:20.089Z"
   },
   {
    "duration": 133,
    "start_time": "2022-09-18T09:38:33.040Z"
   },
   {
    "duration": 5,
    "start_time": "2022-09-18T09:38:42.381Z"
   },
   {
    "duration": 123,
    "start_time": "2022-09-18T09:44:06.720Z"
   },
   {
    "duration": 152,
    "start_time": "2022-09-18T09:45:10.041Z"
   },
   {
    "duration": 582,
    "start_time": "2022-09-18T10:12:36.888Z"
   },
   {
    "duration": 147,
    "start_time": "2022-09-18T10:13:36.892Z"
   },
   {
    "duration": 51,
    "start_time": "2022-09-18T10:24:48.673Z"
   },
   {
    "duration": 954,
    "start_time": "2022-09-18T10:32:03.346Z"
   },
   {
    "duration": 5,
    "start_time": "2022-09-18T10:32:20.100Z"
   },
   {
    "duration": 102,
    "start_time": "2022-09-18T12:03:23.702Z"
   },
   {
    "duration": 231,
    "start_time": "2022-09-18T12:42:49.510Z"
   },
   {
    "duration": 361,
    "start_time": "2022-09-18T12:46:58.367Z"
   },
   {
    "duration": 1156,
    "start_time": "2022-09-18T12:48:04.570Z"
   },
   {
    "duration": 86,
    "start_time": "2022-09-18T12:48:05.728Z"
   },
   {
    "duration": 17,
    "start_time": "2022-09-18T12:48:05.816Z"
   },
   {
    "duration": 3,
    "start_time": "2022-09-18T12:48:05.835Z"
   },
   {
    "duration": 25,
    "start_time": "2022-09-18T12:48:05.839Z"
   },
   {
    "duration": 16,
    "start_time": "2022-09-18T12:48:05.865Z"
   },
   {
    "duration": 8,
    "start_time": "2022-09-18T12:48:05.883Z"
   },
   {
    "duration": 7,
    "start_time": "2022-09-18T12:48:05.893Z"
   },
   {
    "duration": 21,
    "start_time": "2022-09-18T12:48:05.902Z"
   },
   {
    "duration": 31,
    "start_time": "2022-09-18T12:48:05.925Z"
   },
   {
    "duration": 191,
    "start_time": "2022-09-18T12:48:05.957Z"
   },
   {
    "duration": 138,
    "start_time": "2022-09-18T12:48:06.150Z"
   },
   {
    "duration": 8,
    "start_time": "2022-09-18T12:48:06.290Z"
   },
   {
    "duration": 8,
    "start_time": "2022-09-18T12:48:06.300Z"
   },
   {
    "duration": 325,
    "start_time": "2022-09-18T12:48:06.310Z"
   },
   {
    "duration": 225,
    "start_time": "2022-09-18T12:48:06.637Z"
   },
   {
    "duration": 309,
    "start_time": "2022-09-18T12:48:06.864Z"
   },
   {
    "duration": 227,
    "start_time": "2022-09-18T12:48:07.175Z"
   },
   {
    "duration": 293,
    "start_time": "2022-09-18T12:48:07.404Z"
   },
   {
    "duration": 161,
    "start_time": "2022-09-18T12:48:07.699Z"
   },
   {
    "duration": 154,
    "start_time": "2022-09-18T12:48:07.861Z"
   },
   {
    "duration": 5,
    "start_time": "2022-09-18T12:48:08.016Z"
   },
   {
    "duration": 174,
    "start_time": "2022-09-18T12:48:08.022Z"
   },
   {
    "duration": 167,
    "start_time": "2022-09-18T12:48:08.198Z"
   },
   {
    "duration": 4,
    "start_time": "2022-09-18T12:48:08.367Z"
   },
   {
    "duration": 484,
    "start_time": "2022-09-18T12:48:08.373Z"
   },
   {
    "duration": 261,
    "start_time": "2022-09-18T12:53:00.354Z"
   },
   {
    "duration": 167,
    "start_time": "2022-09-18T13:01:04.546Z"
   },
   {
    "duration": 55,
    "start_time": "2022-09-18T13:56:44.281Z"
   },
   {
    "duration": 222,
    "start_time": "2022-09-18T14:16:54.871Z"
   },
   {
    "duration": 133,
    "start_time": "2022-09-18T14:16:56.960Z"
   },
   {
    "duration": 27,
    "start_time": "2022-09-18T14:17:01.152Z"
   },
   {
    "duration": 10,
    "start_time": "2022-09-18T14:28:33.147Z"
   },
   {
    "duration": 856,
    "start_time": "2022-09-18T14:53:25.892Z"
   },
   {
    "duration": 11,
    "start_time": "2022-09-18T15:04:29.091Z"
   },
   {
    "duration": 18,
    "start_time": "2022-09-18T15:11:30.153Z"
   },
   {
    "duration": 15,
    "start_time": "2022-09-18T15:15:06.885Z"
   },
   {
    "duration": 28,
    "start_time": "2022-09-18T15:19:24.952Z"
   },
   {
    "duration": 815,
    "start_time": "2022-09-18T15:41:31.763Z"
   },
   {
    "duration": 14,
    "start_time": "2022-09-18T15:42:41.108Z"
   },
   {
    "duration": 1331,
    "start_time": "2022-09-19T16:46:30.957Z"
   },
   {
    "duration": 253,
    "start_time": "2022-09-19T16:46:32.294Z"
   },
   {
    "duration": 20,
    "start_time": "2022-09-19T16:46:32.549Z"
   },
   {
    "duration": 5,
    "start_time": "2022-09-19T16:46:32.571Z"
   },
   {
    "duration": 27,
    "start_time": "2022-09-19T16:46:32.579Z"
   },
   {
    "duration": 19,
    "start_time": "2022-09-19T16:46:32.609Z"
   },
   {
    "duration": 10,
    "start_time": "2022-09-19T16:46:32.630Z"
   },
   {
    "duration": 9,
    "start_time": "2022-09-19T16:46:32.642Z"
   },
   {
    "duration": 47,
    "start_time": "2022-09-19T16:46:32.653Z"
   },
   {
    "duration": 9,
    "start_time": "2022-09-19T16:46:32.702Z"
   },
   {
    "duration": 257,
    "start_time": "2022-09-19T16:46:32.713Z"
   },
   {
    "duration": 188,
    "start_time": "2022-09-19T16:46:32.973Z"
   },
   {
    "duration": 11,
    "start_time": "2022-09-19T16:46:33.163Z"
   },
   {
    "duration": 20,
    "start_time": "2022-09-19T16:46:33.177Z"
   },
   {
    "duration": 336,
    "start_time": "2022-09-19T16:46:33.199Z"
   },
   {
    "duration": 236,
    "start_time": "2022-09-19T16:46:33.537Z"
   },
   {
    "duration": 394,
    "start_time": "2022-09-19T16:46:33.775Z"
   },
   {
    "duration": 227,
    "start_time": "2022-09-19T16:46:34.171Z"
   },
   {
    "duration": 337,
    "start_time": "2022-09-19T16:46:34.400Z"
   },
   {
    "duration": 179,
    "start_time": "2022-09-19T16:46:34.739Z"
   },
   {
    "duration": 166,
    "start_time": "2022-09-19T16:46:34.919Z"
   },
   {
    "duration": 10,
    "start_time": "2022-09-19T16:46:35.087Z"
   },
   {
    "duration": 187,
    "start_time": "2022-09-19T16:46:35.099Z"
   },
   {
    "duration": 169,
    "start_time": "2022-09-19T16:46:35.288Z"
   },
   {
    "duration": 6,
    "start_time": "2022-09-19T16:46:35.459Z"
   },
   {
    "duration": 353,
    "start_time": "2022-09-19T16:46:35.467Z"
   },
   {
    "duration": 179,
    "start_time": "2022-09-19T16:46:35.822Z"
   },
   {
    "duration": 28,
    "start_time": "2022-09-19T16:46:36.003Z"
   },
   {
    "duration": 19,
    "start_time": "2022-09-19T16:46:36.033Z"
   },
   {
    "duration": 20,
    "start_time": "2022-09-19T16:46:36.054Z"
   },
   {
    "duration": 42,
    "start_time": "2022-09-19T16:46:36.095Z"
   },
   {
    "duration": 19,
    "start_time": "2022-09-19T16:46:36.139Z"
   },
   {
    "duration": 1137,
    "start_time": "2022-09-19T16:49:33.522Z"
   },
   {
    "duration": 97,
    "start_time": "2022-09-19T16:49:34.661Z"
   },
   {
    "duration": 23,
    "start_time": "2022-09-19T16:49:34.761Z"
   },
   {
    "duration": 11,
    "start_time": "2022-09-19T16:49:34.786Z"
   },
   {
    "duration": 31,
    "start_time": "2022-09-19T16:49:34.800Z"
   },
   {
    "duration": 28,
    "start_time": "2022-09-19T16:49:34.833Z"
   },
   {
    "duration": 40,
    "start_time": "2022-09-19T16:49:34.863Z"
   },
   {
    "duration": 12,
    "start_time": "2022-09-19T16:49:34.905Z"
   },
   {
    "duration": 16,
    "start_time": "2022-09-19T16:49:34.919Z"
   },
   {
    "duration": 12,
    "start_time": "2022-09-19T16:49:34.937Z"
   },
   {
    "duration": 236,
    "start_time": "2022-09-19T16:49:34.952Z"
   },
   {
    "duration": 149,
    "start_time": "2022-09-19T16:49:35.190Z"
   },
   {
    "duration": 7,
    "start_time": "2022-09-19T16:49:35.341Z"
   },
   {
    "duration": 7,
    "start_time": "2022-09-19T16:49:35.352Z"
   },
   {
    "duration": 326,
    "start_time": "2022-09-19T16:49:35.361Z"
   },
   {
    "duration": 234,
    "start_time": "2022-09-19T16:49:35.688Z"
   },
   {
    "duration": 325,
    "start_time": "2022-09-19T16:49:35.923Z"
   },
   {
    "duration": 217,
    "start_time": "2022-09-19T16:49:36.249Z"
   },
   {
    "duration": 459,
    "start_time": "2022-09-19T16:49:36.468Z"
   },
   {
    "duration": 173,
    "start_time": "2022-09-19T16:49:36.930Z"
   },
   {
    "duration": 163,
    "start_time": "2022-09-19T16:49:37.105Z"
   },
   {
    "duration": 5,
    "start_time": "2022-09-19T16:49:37.270Z"
   },
   {
    "duration": 188,
    "start_time": "2022-09-19T16:49:37.276Z"
   },
   {
    "duration": 175,
    "start_time": "2022-09-19T16:49:37.466Z"
   },
   {
    "duration": 6,
    "start_time": "2022-09-19T16:49:37.643Z"
   },
   {
    "duration": 333,
    "start_time": "2022-09-19T16:49:37.651Z"
   },
   {
    "duration": 188,
    "start_time": "2022-09-19T16:49:37.986Z"
   },
   {
    "duration": 35,
    "start_time": "2022-09-19T16:49:38.176Z"
   },
   {
    "duration": 14,
    "start_time": "2022-09-19T16:49:38.213Z"
   },
   {
    "duration": 15,
    "start_time": "2022-09-19T16:49:38.229Z"
   },
   {
    "duration": 63,
    "start_time": "2022-09-19T16:49:38.247Z"
   },
   {
    "duration": 20,
    "start_time": "2022-09-19T16:49:38.313Z"
   },
   {
    "duration": 1124,
    "start_time": "2022-09-19T17:58:55.428Z"
   },
   {
    "duration": 199,
    "start_time": "2022-09-19T17:58:56.554Z"
   },
   {
    "duration": 19,
    "start_time": "2022-09-19T17:58:56.755Z"
   },
   {
    "duration": 3,
    "start_time": "2022-09-19T17:58:56.776Z"
   },
   {
    "duration": 20,
    "start_time": "2022-09-19T17:58:56.781Z"
   },
   {
    "duration": 15,
    "start_time": "2022-09-19T17:58:56.803Z"
   },
   {
    "duration": 33,
    "start_time": "2022-09-19T17:58:56.819Z"
   },
   {
    "duration": 8,
    "start_time": "2022-09-19T17:58:56.854Z"
   },
   {
    "duration": 9,
    "start_time": "2022-09-19T17:58:56.864Z"
   },
   {
    "duration": 8,
    "start_time": "2022-09-19T17:58:56.876Z"
   },
   {
    "duration": 231,
    "start_time": "2022-09-19T17:58:56.885Z"
   },
   {
    "duration": 192,
    "start_time": "2022-09-19T17:58:57.118Z"
   },
   {
    "duration": 8,
    "start_time": "2022-09-19T17:58:57.312Z"
   },
   {
    "duration": 28,
    "start_time": "2022-09-19T17:58:57.321Z"
   },
   {
    "duration": 287,
    "start_time": "2022-09-19T17:58:57.351Z"
   },
   {
    "duration": 213,
    "start_time": "2022-09-19T17:58:57.640Z"
   },
   {
    "duration": 321,
    "start_time": "2022-09-19T17:58:57.855Z"
   },
   {
    "duration": 212,
    "start_time": "2022-09-19T17:58:58.177Z"
   },
   {
    "duration": 283,
    "start_time": "2022-09-19T17:58:58.390Z"
   },
   {
    "duration": 148,
    "start_time": "2022-09-19T17:58:58.675Z"
   },
   {
    "duration": 148,
    "start_time": "2022-09-19T17:58:58.825Z"
   },
   {
    "duration": 5,
    "start_time": "2022-09-19T17:58:58.975Z"
   },
   {
    "duration": 164,
    "start_time": "2022-09-19T17:58:58.982Z"
   },
   {
    "duration": 158,
    "start_time": "2022-09-19T17:58:59.148Z"
   },
   {
    "duration": 4,
    "start_time": "2022-09-19T17:58:59.308Z"
   },
   {
    "duration": 341,
    "start_time": "2022-09-19T17:58:59.314Z"
   },
   {
    "duration": 152,
    "start_time": "2022-09-19T17:58:59.657Z"
   },
   {
    "duration": 37,
    "start_time": "2022-09-19T17:58:59.812Z"
   },
   {
    "duration": 12,
    "start_time": "2022-09-19T17:58:59.850Z"
   },
   {
    "duration": 12,
    "start_time": "2022-09-19T17:58:59.863Z"
   },
   {
    "duration": 29,
    "start_time": "2022-09-19T17:58:59.877Z"
   },
   {
    "duration": 55,
    "start_time": "2022-09-19T17:58:59.907Z"
   },
   {
    "duration": 5,
    "start_time": "2022-09-19T18:01:43.129Z"
   },
   {
    "duration": 4,
    "start_time": "2022-09-19T18:01:53.428Z"
   },
   {
    "duration": 12,
    "start_time": "2022-09-19T18:02:55.934Z"
   },
   {
    "duration": 5,
    "start_time": "2022-09-19T18:03:13.055Z"
   },
   {
    "duration": 3,
    "start_time": "2022-09-19T18:03:34.600Z"
   },
   {
    "duration": 52,
    "start_time": "2022-09-20T17:46:47.817Z"
   },
   {
    "duration": 12,
    "start_time": "2022-09-20T17:47:03.986Z"
   },
   {
    "duration": 8,
    "start_time": "2022-09-20T17:47:07.274Z"
   },
   {
    "duration": 1478,
    "start_time": "2022-09-20T17:47:18.477Z"
   },
   {
    "duration": 249,
    "start_time": "2022-09-20T17:47:19.958Z"
   },
   {
    "duration": 22,
    "start_time": "2022-09-20T17:47:20.209Z"
   },
   {
    "duration": 4,
    "start_time": "2022-09-20T17:47:20.233Z"
   },
   {
    "duration": 42,
    "start_time": "2022-09-20T17:47:20.239Z"
   },
   {
    "duration": 41,
    "start_time": "2022-09-20T17:47:20.282Z"
   },
   {
    "duration": 17,
    "start_time": "2022-09-20T17:47:20.325Z"
   },
   {
    "duration": 23,
    "start_time": "2022-09-20T17:47:20.345Z"
   },
   {
    "duration": 19,
    "start_time": "2022-09-20T17:47:20.370Z"
   },
   {
    "duration": 39,
    "start_time": "2022-09-20T17:47:20.392Z"
   },
   {
    "duration": 227,
    "start_time": "2022-09-20T17:47:20.433Z"
   },
   {
    "duration": 153,
    "start_time": "2022-09-20T17:47:20.662Z"
   },
   {
    "duration": 8,
    "start_time": "2022-09-20T17:47:20.817Z"
   },
   {
    "duration": 20,
    "start_time": "2022-09-20T17:47:20.827Z"
   },
   {
    "duration": 368,
    "start_time": "2022-09-20T17:47:20.850Z"
   },
   {
    "duration": 240,
    "start_time": "2022-09-20T17:47:21.220Z"
   },
   {
    "duration": 415,
    "start_time": "2022-09-20T17:47:21.463Z"
   },
   {
    "duration": 299,
    "start_time": "2022-09-20T17:47:21.880Z"
   },
   {
    "duration": 355,
    "start_time": "2022-09-20T17:47:22.182Z"
   },
   {
    "duration": 174,
    "start_time": "2022-09-20T17:47:22.539Z"
   },
   {
    "duration": 165,
    "start_time": "2022-09-20T17:47:22.715Z"
   },
   {
    "duration": 14,
    "start_time": "2022-09-20T17:47:22.894Z"
   },
   {
    "duration": 162,
    "start_time": "2022-09-20T17:47:22.915Z"
   },
   {
    "duration": 176,
    "start_time": "2022-09-20T17:47:23.079Z"
   },
   {
    "duration": 5,
    "start_time": "2022-09-20T17:47:23.258Z"
   },
   {
    "duration": 345,
    "start_time": "2022-09-20T17:47:23.265Z"
   },
   {
    "duration": 185,
    "start_time": "2022-09-20T17:47:23.611Z"
   },
   {
    "duration": 33,
    "start_time": "2022-09-20T17:47:23.800Z"
   },
   {
    "duration": 12,
    "start_time": "2022-09-20T17:47:23.835Z"
   },
   {
    "duration": 12,
    "start_time": "2022-09-20T17:47:23.849Z"
   },
   {
    "duration": 61,
    "start_time": "2022-09-20T17:47:23.862Z"
   },
   {
    "duration": 21,
    "start_time": "2022-09-20T17:47:23.925Z"
   },
   {
    "duration": 287,
    "start_time": "2022-09-20T17:59:44.490Z"
   },
   {
    "duration": 241,
    "start_time": "2022-09-20T18:00:05.103Z"
   },
   {
    "duration": 232,
    "start_time": "2022-09-20T18:02:07.197Z"
   },
   {
    "duration": 226,
    "start_time": "2022-09-20T18:04:24.272Z"
   },
   {
    "duration": 210,
    "start_time": "2022-09-20T18:07:10.968Z"
   },
   {
    "duration": 74,
    "start_time": "2022-09-20T18:09:46.899Z"
   },
   {
    "duration": 75,
    "start_time": "2022-09-20T18:10:14.921Z"
   },
   {
    "duration": 105,
    "start_time": "2022-09-20T18:10:46.341Z"
   },
   {
    "duration": 78,
    "start_time": "2022-09-20T18:11:46.673Z"
   },
   {
    "duration": 70,
    "start_time": "2022-09-20T18:13:23.997Z"
   },
   {
    "duration": 93,
    "start_time": "2022-09-20T18:13:35.899Z"
   },
   {
    "duration": 269,
    "start_time": "2022-09-20T18:32:47.436Z"
   },
   {
    "duration": 216,
    "start_time": "2022-09-20T18:40:40.146Z"
   },
   {
    "duration": 347,
    "start_time": "2022-09-20T18:42:21.712Z"
   },
   {
    "duration": 154,
    "start_time": "2022-09-20T19:03:02.362Z"
   },
   {
    "duration": 178,
    "start_time": "2022-09-20T19:04:41.963Z"
   },
   {
    "duration": 167,
    "start_time": "2022-09-20T19:05:05.834Z"
   },
   {
    "duration": 252,
    "start_time": "2022-09-20T19:06:08.830Z"
   },
   {
    "duration": 84,
    "start_time": "2022-09-20T19:17:16.303Z"
   },
   {
    "duration": 1095,
    "start_time": "2022-09-20T19:26:28.839Z"
   },
   {
    "duration": 92,
    "start_time": "2022-09-20T19:26:29.936Z"
   },
   {
    "duration": 18,
    "start_time": "2022-09-20T19:26:30.030Z"
   },
   {
    "duration": 3,
    "start_time": "2022-09-20T19:26:30.050Z"
   },
   {
    "duration": 22,
    "start_time": "2022-09-20T19:26:30.055Z"
   },
   {
    "duration": 20,
    "start_time": "2022-09-20T19:26:30.078Z"
   },
   {
    "duration": 8,
    "start_time": "2022-09-20T19:26:30.100Z"
   },
   {
    "duration": 14,
    "start_time": "2022-09-20T19:26:30.110Z"
   },
   {
    "duration": 17,
    "start_time": "2022-09-20T19:26:30.125Z"
   },
   {
    "duration": 26,
    "start_time": "2022-09-20T19:26:30.144Z"
   },
   {
    "duration": 200,
    "start_time": "2022-09-20T19:26:30.173Z"
   },
   {
    "duration": 134,
    "start_time": "2022-09-20T19:26:30.375Z"
   },
   {
    "duration": 6,
    "start_time": "2022-09-20T19:26:30.511Z"
   },
   {
    "duration": 27,
    "start_time": "2022-09-20T19:26:30.519Z"
   },
   {
    "duration": 328,
    "start_time": "2022-09-20T19:26:30.548Z"
   },
   {
    "duration": 217,
    "start_time": "2022-09-20T19:26:30.877Z"
   },
   {
    "duration": 351,
    "start_time": "2022-09-20T19:26:31.096Z"
   },
   {
    "duration": 223,
    "start_time": "2022-09-20T19:26:31.450Z"
   },
   {
    "duration": 354,
    "start_time": "2022-09-20T19:26:31.675Z"
   },
   {
    "duration": 145,
    "start_time": "2022-09-20T19:26:32.031Z"
   },
   {
    "duration": 152,
    "start_time": "2022-09-20T19:26:32.178Z"
   },
   {
    "duration": 4,
    "start_time": "2022-09-20T19:26:32.332Z"
   },
   {
    "duration": 170,
    "start_time": "2022-09-20T19:26:32.338Z"
   },
   {
    "duration": 165,
    "start_time": "2022-09-20T19:26:32.509Z"
   },
   {
    "duration": 4,
    "start_time": "2022-09-20T19:26:32.676Z"
   },
   {
    "duration": 288,
    "start_time": "2022-09-20T19:26:32.690Z"
   },
   {
    "duration": 147,
    "start_time": "2022-09-20T19:26:32.980Z"
   },
   {
    "duration": 25,
    "start_time": "2022-09-20T19:26:33.129Z"
   },
   {
    "duration": 10,
    "start_time": "2022-09-20T19:26:33.156Z"
   },
   {
    "duration": 29,
    "start_time": "2022-09-20T19:26:33.167Z"
   },
   {
    "duration": 30,
    "start_time": "2022-09-20T19:26:33.197Z"
   },
   {
    "duration": 14,
    "start_time": "2022-09-20T19:26:33.228Z"
   },
   {
    "duration": 1171,
    "start_time": "2022-09-20T19:54:53.998Z"
   },
   {
    "duration": 92,
    "start_time": "2022-09-20T19:54:55.171Z"
   },
   {
    "duration": 19,
    "start_time": "2022-09-20T19:54:55.264Z"
   },
   {
    "duration": 3,
    "start_time": "2022-09-20T19:54:55.285Z"
   },
   {
    "duration": 27,
    "start_time": "2022-09-20T19:54:55.290Z"
   },
   {
    "duration": 18,
    "start_time": "2022-09-20T19:54:55.319Z"
   },
   {
    "duration": 11,
    "start_time": "2022-09-20T19:54:55.338Z"
   },
   {
    "duration": 9,
    "start_time": "2022-09-20T19:54:55.351Z"
   },
   {
    "duration": 43,
    "start_time": "2022-09-20T19:54:55.362Z"
   },
   {
    "duration": 10,
    "start_time": "2022-09-20T19:54:55.408Z"
   },
   {
    "duration": 193,
    "start_time": "2022-09-20T19:54:55.419Z"
   },
   {
    "duration": 136,
    "start_time": "2022-09-20T19:54:55.614Z"
   },
   {
    "duration": 7,
    "start_time": "2022-09-20T19:54:55.752Z"
   },
   {
    "duration": 12,
    "start_time": "2022-09-20T19:54:55.760Z"
   },
   {
    "duration": 302,
    "start_time": "2022-09-20T19:54:55.789Z"
   },
   {
    "duration": 220,
    "start_time": "2022-09-20T19:54:56.093Z"
   },
   {
    "duration": 310,
    "start_time": "2022-09-20T19:54:56.315Z"
   },
   {
    "duration": 218,
    "start_time": "2022-09-20T19:54:56.627Z"
   },
   {
    "duration": 347,
    "start_time": "2022-09-20T19:54:56.847Z"
   },
   {
    "duration": 137,
    "start_time": "2022-09-20T19:54:57.196Z"
   },
   {
    "duration": 200,
    "start_time": "2022-09-20T19:54:57.335Z"
   },
   {
    "duration": 4,
    "start_time": "2022-09-20T19:54:57.537Z"
   },
   {
    "duration": 211,
    "start_time": "2022-09-20T19:54:57.542Z"
   },
   {
    "duration": 172,
    "start_time": "2022-09-20T19:54:57.754Z"
   },
   {
    "duration": 3,
    "start_time": "2022-09-20T19:54:57.928Z"
   },
   {
    "duration": 329,
    "start_time": "2022-09-20T19:54:57.933Z"
   },
   {
    "duration": 153,
    "start_time": "2022-09-20T19:54:58.264Z"
   },
   {
    "duration": 27,
    "start_time": "2022-09-20T19:54:58.420Z"
   },
   {
    "duration": 10,
    "start_time": "2022-09-20T19:54:58.449Z"
   },
   {
    "duration": 29,
    "start_time": "2022-09-20T19:54:58.461Z"
   },
   {
    "duration": 37,
    "start_time": "2022-09-20T19:54:58.492Z"
   },
   {
    "duration": 16,
    "start_time": "2022-09-20T19:54:58.530Z"
   }
  ],
  "kernelspec": {
   "display_name": "Python 3 (ipykernel)",
   "language": "python",
   "name": "python3"
  },
  "language_info": {
   "codemirror_mode": {
    "name": "ipython",
    "version": 3
   },
   "file_extension": ".py",
   "mimetype": "text/x-python",
   "name": "python",
   "nbconvert_exporter": "python",
   "pygments_lexer": "ipython3",
   "version": "3.9.12"
  },
  "toc": {
   "base_numbering": 1,
   "nav_menu": {},
   "number_sections": false,
   "sideBar": true,
   "skip_h1_title": false,
   "title_cell": "Table of Contents",
   "title_sidebar": "Contents",
   "toc_cell": false,
   "toc_position": {
    "height": "calc(100% - 180px)",
    "left": "10px",
    "top": "150px",
    "width": "257px"
   },
   "toc_section_display": true,
   "toc_window_display": false
  }
 },
 "nbformat": 4,
 "nbformat_minor": 2
}
